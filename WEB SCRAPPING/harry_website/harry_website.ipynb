{
 "cells": [
  {
   "cell_type": "code",
   "execution_count": null,
   "id": "4435a2d1",
   "metadata": {},
   "outputs": [],
   "source": [
    "import requests\n",
    "from bs4 import BeautifulSoup\n",
    "url = \"https://www.codewithharry.com/videos/\"\n",
    "\n",
    "responce = requests.get(url)\n",
    "htmlContent = responce.content\n",
    "\n",
    "soup = BeautifulSoup(htmlContent,\"html.parser\")\n",
    "# print(soup)\n",
    "\n",
    "# restro = (soup.find(('div'),[\"header-nav_unit header-nav_unit__09f24__pRjEN undefined display--inline-block__09f24__fEDiJ border-color--default__09f24__NPAKY\"]))\n",
    "# print(restro)\n",
    "# video = soup.find_all(('p') ,{\"class\":\"text-gray-700 text-base\"})\n",
    "# print(video.get_text())\n",
    "\n",
    "courses = soup.find_all(('div') ,{\"class\":\"px-6 md:my-11 lg:my-0 md:h-72 lg:h-64 lg:py-4 xl:h-52\"})\n",
    "courses_list = []\n",
    "for course in courses:\n",
    "        course_type  = course.find(('span') , {\"class\" : \"tracking-widest text-xs title-font font-medium text-gray-400 mb-1\"}).text\n",
    "        course_title = course.find(('div') , {\"class\"  : \"title-font flex text-lg font-medium text-gray-900 mb-3\"}).text\n",
    "        course_description = course.find(('p') , {\"class\" : \"text-gray-700 text-base\"}).text\n",
    "        print(course_type)\n",
    "        print(course_title)\n",
    "        print(course_description)\n",
    "        print()\n",
    "        data_type = {\"course_type\" : course_type , \"course_title\" : course_title , \"course_description\" : course_description}\n",
    "#         print(data_type)\n",
    "        courses_list.append(data_type)\n"
   ]
  },
  {
   "cell_type": "code",
   "execution_count": null,
   "id": "8bae2ab6",
   "metadata": {},
   "outputs": [],
   "source": [
    "print(courses_list)"
   ]
  },
  {
   "cell_type": "code",
   "execution_count": null,
   "id": "dc6f2c81",
   "metadata": {},
   "outputs": [],
   "source": [
    "import json"
   ]
  },
  {
   "cell_type": "code",
   "execution_count": null,
   "id": "25fdfaee",
   "metadata": {},
   "outputs": [],
   "source": [
    "#json\n",
    "with open(\"output.json\",\"w\") as f :     #json ek package(class)   dumps is function\n",
    "    json.dump(courses_list,f)"
   ]
  },
  {
   "cell_type": "code",
   "execution_count": null,
   "id": "cd58e624",
   "metadata": {},
   "outputs": [],
   "source": [
    "# yeh file hai bhai isme safe hoote hai\n",
    "\n",
    "# json\n",
    "# csv\n",
    "# exel"
   ]
  }
 ],
 "metadata": {
  "kernelspec": {
   "display_name": "Python 3 (ipykernel)",
   "language": "python",
   "name": "python3"
  },
  "language_info": {
   "codemirror_mode": {
    "name": "ipython",
    "version": 3
   },
   "file_extension": ".py",
   "mimetype": "text/x-python",
   "name": "python",
   "nbconvert_exporter": "python",
   "pygments_lexer": "ipython3",
   "version": "3.9.12"
  }
 },
 "nbformat": 4,
 "nbformat_minor": 5
}
