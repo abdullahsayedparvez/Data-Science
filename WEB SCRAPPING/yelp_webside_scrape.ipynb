{
 "cells": [
  {
   "cell_type": "code",
   "execution_count": 12,
   "id": "dcbb5243",
   "metadata": {},
   "outputs": [],
   "source": [
    "# pip install beautifulsoup4"
   ]
  },
  {
   "cell_type": "code",
   "execution_count": 7,
   "id": "445b2a39",
   "metadata": {},
   "outputs": [],
   "source": [
    "from bs4 import BeautifulSoup\n",
    "import requests"
   ]
  },
  {
   "cell_type": "code",
   "execution_count": 9,
   "id": "bda9eaad",
   "metadata": {},
   "outputs": [],
   "source": [
    "url = 'https://www.yelp.com/search?find_desc=Food&find_loc=San+Francisco%2C+CA'\n",
    "responce = requests.get(url)"
   ]
  },
  {
   "cell_type": "code",
   "execution_count": 11,
   "id": "6e434226",
   "metadata": {},
   "outputs": [],
   "source": [
    "htmlcontent = responce.content\n",
    "soup = BeautifulSoup(htmlcontent,'html.parser')"
   ]
  },
  {
   "cell_type": "code",
   "execution_count": 16,
   "id": "c0350e80",
   "metadata": {},
   "outputs": [],
   "source": [
    "hotels = soup.find_all(('div'),{'data-testid': 'serp-ia-card'})"
   ]
  },
  {
   "cell_type": "code",
   "execution_count": 26,
   "id": "ecb178be",
   "metadata": {
    "collapsed": true
   },
   "outputs": [
    {
     "name": "stdout",
     "output_type": "stream",
     "text": [
      "1. BoBop\n",
      "2. Princess Bakery\n",
      "3. San Tung\n",
      "4. Marufuku Ramen\n",
      "5. Dumpling Home\n",
      "6. The Public Izakaya\n",
      "7. Lily\n",
      "8. KAIYŌ Rooftop\n",
      "9. Unco Frank’s\n",
      "10. Savor\n"
     ]
    }
   ],
   "source": [
    "\n",
    "for hotel in hotels :\n",
    "    name = hotel.find(('div'),{'class','businessName__09f24__EYSZE display--inline-block__09f24__fEDiJ border-color--default__09f24__NPAKY'}).text\n",
    "    print(name)"
   ]
  },
  {
   "cell_type": "code",
   "execution_count": 42,
   "id": "0b4463cb",
   "metadata": {},
   "outputs": [
    {
     "name": "stdout",
     "output_type": "stream",
     "text": [
      "“I'm a sucker for catchy signage, so driving down Valencia, looking for a good spot to grab a bite, I noticed the vibrant BoBop advertising yummy-looking milk…” more\n",
      "**********\n",
      "“Really enjoyed the pastries I got here. Especially the coconut custard pastry. I also tried the hot dog bun and the bbq pork bun (also very good). Reasonably…” more\n",
      "**********\n",
      "“Probably my fourth time coming here for dine in, was craving some chicken wings and other stuff. We had the combination chow mein, garlic string beans, honey…” more\n",
      "**********\n",
      "“one of the best ramen places I've ever had, expect to wait a while if you go there on the weekends but totally worth the wait !! Once you're in there service…” more\n",
      "**********\n",
      "“Service was quick and food was excellent. The environment was also nice and not too loud/crazy. Would highly recommend going here but be in line right when it…” more\n",
      "**********\n",
      "“I found The Public Izakaya because my friends and I were celebrating my girlfriend's birthday. I called in to see how busy it was and we were able to get a…” more\n",
      "**********\n",
      "“Excellent high end Vietnamese food. Tasty and delicious. Friendly and wonderful service.” more\n",
      "**********\n",
      "“What a cool little spot to celebrate my birthday with my party of four! I definitely had reservations as this spot was poppin'. \n",
      "\n",
      "I appreciated being greeted…” more\n",
      "**********\n",
      "“Fantastic spot for Hawaiian food in an unsuspecting location. We shared the kalbi, mochiko chicken, and furikake fries.\n",
      "\n",
      "Kalbi: Good amount of meat and fat to…” more\n",
      "**********\n",
      "“Tried Savor for the first time the other night. Great food! Highly recommend the mushroom shawarma and trumpet mushroom burger. Was able to that to the owner,…” more\n",
      "**********\n"
     ]
    }
   ],
   "source": [
    "for hotel in hotels :\n",
    "    content = hotel.find(('p'),{'class','css-16lklrv'}).text\n",
    "    print(content)\n",
    "    print('*'*10)\n",
    "    "
   ]
  }
 ],
 "metadata": {
  "kernelspec": {
   "display_name": "Python 3 (ipykernel)",
   "language": "python",
   "name": "python3"
  },
  "language_info": {
   "codemirror_mode": {
    "name": "ipython",
    "version": 3
   },
   "file_extension": ".py",
   "mimetype": "text/x-python",
   "name": "python",
   "nbconvert_exporter": "python",
   "pygments_lexer": "ipython3",
   "version": "3.10.5"
  }
 },
 "nbformat": 4,
 "nbformat_minor": 5
}
