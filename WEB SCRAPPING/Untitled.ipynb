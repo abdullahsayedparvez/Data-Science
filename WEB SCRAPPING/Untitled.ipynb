{
 "cells": [
  {
   "cell_type": "code",
   "execution_count": 53,
   "id": "4f8ad5bc",
   "metadata": {},
   "outputs": [
    {
     "name": "stdout",
     "output_type": "stream",
     "text": [
      "None\n",
      "<button class=\"md:hidden text-white bg-purple-700 hover:bg-purple-800 focus:ring-4 focus:ring-purple-300 font-medium rounded-lg text-sm px-3 py-2 text-center inline-flex items-center mx-1 absolute right-3 md:right-12\">Login</button>\n"
     ]
    }
   ],
   "source": [
    "import requests\n",
    "from bs4 import BeautifulSoup\n",
    "url = \"https://codewithharry.com\"\n",
    "\n",
    "#STEP 1 : Get the HTML\n",
    "r = requests.get (url)\n",
    "htmlContent = r.content\n",
    "\n",
    "# STEP 2 : Parse the HTML :\n",
    "soup = BeautifulSoup(htmlContent,\"html.parser\")\n",
    "# print(soup)\n",
    "\n",
    "\n",
    "#STEP 3 : HTML tree transversal\n",
    "\n",
    "\n",
    "# Get the title of the Html page\n",
    "# title = soup.title\n",
    "# print(title)\n",
    "\n",
    "# #Get all the paragraphs from the page\n",
    "# paras = soup.find_all('p')\n",
    "# # print(paras)\n",
    "\n",
    "# # Get the first element in the HTML page \n",
    "# print(soup.find('p'))\n",
    "\n",
    "# # Get classes of any  element in the HTML page \n",
    "# print(soup.find('p')['class'])\n",
    "\n",
    "# # Find all the elements with class lead\n",
    "# print(soup.find_all(\"p\" , class_=\"lead\"))\n",
    "\n",
    "# # Get the text from the tag/text\n",
    "# print(soup.find('p').get_text())\n",
    "# print(soup.get_text())\n",
    "\n",
    "# #Get all the anchor tags from the page\n",
    "# anchors = soup.find_all('a')\n",
    "# all_links = set()\n",
    "\n",
    "# #Get all the links on the page\n",
    "# for link in anchors:\n",
    "#     if(link.get('href') != '#' ):\n",
    "#        linkText = \"https://codewithharry.com\" +link.get('href')\n",
    "#        all_links.add(link)\n",
    "#        print(linkText)\n",
    "# print(anchors)\n",
    "# markup = \"<p><!-- this is a comment --></p>\"\n",
    "# soup2 = BeautifulSoup(markup)\n",
    "# print(soup2.p)\n",
    "\n",
    "# Get the \n",
    "# .contents - a tags children are availaible as a list     (all elements store in memory)\n",
    "# .children - a tags children are availaible as a generator (all elements not store in memory)\n",
    "\n",
    "nav_content = soup.find(id = 'nav-content' )\n",
    "# for elem in nav_content.contents :\n",
    "#     print(elem)\n",
    "\n",
    "# for item in nav_content.strings:\n",
    "#     print(item)\n",
    "# for item in nav_content.stripped_strings:\n",
    "#     print(item)\n",
    "\n",
    "# print(nav_content.parent)\n",
    "# print(nav_content.parents)\n",
    "\n",
    "# for item in nav_content :\n",
    "#     print(item.name)\n",
    "\n",
    "print(nav_content.next_sibling)\n",
    "print(nav_content.previous_sibling)\n",
    "\n",
    "\n",
    "\n",
    "\n",
    "#parent\n",
    "# #TYPES OF OBJECTS\n",
    "# # 1. TAG\n",
    "# # 2. NAVIGABLE STRING\n",
    "# # 3 .BEAUTIFULSOUP\n",
    "# # 4. COMMENTS\n",
    "# print(type(soup))  #BeautifulSoup\n",
    "# print(type(title)) # tag\n",
    "# print(type(title.string)) # Navigable string\n"
   ]
  },
  {
   "cell_type": "code",
   "execution_count": null,
   "id": "962985a0",
   "metadata": {},
   "outputs": [],
   "source": []
  },
  {
   "cell_type": "code",
   "execution_count": null,
   "id": "f9a02b74",
   "metadata": {},
   "outputs": [],
   "source": [
    "#TYPES OF OBJECTS\n",
    "# 1. TAG\n",
    "# 2. NAVIGABLE STRING\n",
    "# 3 .BEAUTIFULSOUP\n",
    "# 4. COMMENTS\n",
    "# print(type(soup))  BeautifulSoup\n",
    "# print(type(title))  tag\n",
    "# print(type(title.string))  Navigable string"
   ]
  },
  {
   "cell_type": "code",
   "execution_count": null,
   "id": "a4ea434e",
   "metadata": {},
   "outputs": [],
   "source": []
  },
  {
   "cell_type": "code",
   "execution_count": null,
   "id": "b98d60a9",
   "metadata": {},
   "outputs": [],
   "source": []
  },
  {
   "cell_type": "code",
   "execution_count": null,
   "id": "4b8c683d",
   "metadata": {},
   "outputs": [],
   "source": []
  }
 ],
 "metadata": {
  "kernelspec": {
   "display_name": "Python 3 (ipykernel)",
   "language": "python",
   "name": "python3"
  },
  "language_info": {
   "codemirror_mode": {
    "name": "ipython",
    "version": 3
   },
   "file_extension": ".py",
   "mimetype": "text/x-python",
   "name": "python",
   "nbconvert_exporter": "python",
   "pygments_lexer": "ipython3",
   "version": "3.9.12"
  }
 },
 "nbformat": 4,
 "nbformat_minor": 5
}
