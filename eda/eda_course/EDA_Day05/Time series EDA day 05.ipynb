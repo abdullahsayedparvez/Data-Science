{
 "cells": [
  {
   "cell_type": "code",
   "execution_count": 141,
   "id": "a4bc62c5",
   "metadata": {},
   "outputs": [],
   "source": [
    "# pip install pandas-datareader"
   ]
  },
  {
   "cell_type": "code",
   "execution_count": 142,
   "id": "a8a0b65c",
   "metadata": {},
   "outputs": [],
   "source": [
    "from pandas_datareader import data as pdr\n",
    "import pandas as pd\n",
    "import matplotlib as plt\n",
    "%matplotlib inline\n",
    "from datetime import datetime\n",
    "import yfinance as yf"
   ]
  },
  {
   "cell_type": "code",
   "execution_count": 143,
   "id": "1badc857",
   "metadata": {},
   "outputs": [],
   "source": [
    "yf.pdr_override()\n",
    "y_symbols = ['TSLA']\n",
    "startdate = datetime(2017,2,27)\n",
    "enddate = datetime(2022,2,25)"
   ]
  },
  {
   "cell_type": "code",
   "execution_count": 144,
   "id": "a220608d",
   "metadata": {},
   "outputs": [
    {
     "name": "stdout",
     "output_type": "stream",
     "text": [
      "[*********************100%***********************]  1 of 1 completed\n"
     ]
    }
   ],
   "source": [
    "df_tesla = pdr.get_data_yahoo(y_symbols,start=startdate,end = enddate)"
   ]
  },
  {
   "cell_type": "code",
   "execution_count": 145,
   "id": "74d52f4d",
   "metadata": {},
   "outputs": [
    {
     "data": {
      "text/plain": [
       "pandas.core.frame.DataFrame"
      ]
     },
     "execution_count": 145,
     "metadata": {},
     "output_type": "execute_result"
    }
   ],
   "source": [
    "type(df_tesla)"
   ]
  },
  {
   "cell_type": "code",
   "execution_count": 146,
   "id": "2f4129ba",
   "metadata": {},
   "outputs": [
    {
     "data": {
      "text/html": [
       "<div>\n",
       "<style scoped>\n",
       "    .dataframe tbody tr th:only-of-type {\n",
       "        vertical-align: middle;\n",
       "    }\n",
       "\n",
       "    .dataframe tbody tr th {\n",
       "        vertical-align: top;\n",
       "    }\n",
       "\n",
       "    .dataframe thead th {\n",
       "        text-align: right;\n",
       "    }\n",
       "</style>\n",
       "<table border=\"1\" class=\"dataframe\">\n",
       "  <thead>\n",
       "    <tr style=\"text-align: right;\">\n",
       "      <th></th>\n",
       "      <th>Open</th>\n",
       "      <th>High</th>\n",
       "      <th>Low</th>\n",
       "      <th>Close</th>\n",
       "      <th>Adj Close</th>\n",
       "      <th>Volume</th>\n",
       "    </tr>\n",
       "    <tr>\n",
       "      <th>Date</th>\n",
       "      <th></th>\n",
       "      <th></th>\n",
       "      <th></th>\n",
       "      <th></th>\n",
       "      <th></th>\n",
       "      <th></th>\n",
       "    </tr>\n",
       "  </thead>\n",
       "  <tbody>\n",
       "    <tr>\n",
       "      <th>2017-02-27 00:00:00-05:00</th>\n",
       "      <td>16.544666</td>\n",
       "      <td>16.557333</td>\n",
       "      <td>16.134001</td>\n",
       "      <td>16.415333</td>\n",
       "      <td>16.415333</td>\n",
       "      <td>171912000</td>\n",
       "    </tr>\n",
       "    <tr>\n",
       "      <th>2017-02-28 00:00:00-05:00</th>\n",
       "      <td>16.279333</td>\n",
       "      <td>16.733334</td>\n",
       "      <td>16.260000</td>\n",
       "      <td>16.666000</td>\n",
       "      <td>16.666000</td>\n",
       "      <td>91171500</td>\n",
       "    </tr>\n",
       "    <tr>\n",
       "      <th>2017-03-01 00:00:00-05:00</th>\n",
       "      <td>16.945333</td>\n",
       "      <td>16.990000</td>\n",
       "      <td>16.607332</td>\n",
       "      <td>16.667999</td>\n",
       "      <td>16.667999</td>\n",
       "      <td>72142500</td>\n",
       "    </tr>\n",
       "    <tr>\n",
       "      <th>2017-03-02 00:00:00-05:00</th>\n",
       "      <td>16.647333</td>\n",
       "      <td>16.885332</td>\n",
       "      <td>16.551332</td>\n",
       "      <td>16.698668</td>\n",
       "      <td>16.698668</td>\n",
       "      <td>50277000</td>\n",
       "    </tr>\n",
       "    <tr>\n",
       "      <th>2017-03-03 00:00:00-05:00</th>\n",
       "      <td>16.716000</td>\n",
       "      <td>16.793333</td>\n",
       "      <td>16.600000</td>\n",
       "      <td>16.771334</td>\n",
       "      <td>16.771334</td>\n",
       "      <td>43791000</td>\n",
       "    </tr>\n",
       "  </tbody>\n",
       "</table>\n",
       "</div>"
      ],
      "text/plain": [
       "                                Open       High        Low      Close  \\\n",
       "Date                                                                    \n",
       "2017-02-27 00:00:00-05:00  16.544666  16.557333  16.134001  16.415333   \n",
       "2017-02-28 00:00:00-05:00  16.279333  16.733334  16.260000  16.666000   \n",
       "2017-03-01 00:00:00-05:00  16.945333  16.990000  16.607332  16.667999   \n",
       "2017-03-02 00:00:00-05:00  16.647333  16.885332  16.551332  16.698668   \n",
       "2017-03-03 00:00:00-05:00  16.716000  16.793333  16.600000  16.771334   \n",
       "\n",
       "                           Adj Close     Volume  \n",
       "Date                                             \n",
       "2017-02-27 00:00:00-05:00  16.415333  171912000  \n",
       "2017-02-28 00:00:00-05:00  16.666000   91171500  \n",
       "2017-03-01 00:00:00-05:00  16.667999   72142500  \n",
       "2017-03-02 00:00:00-05:00  16.698668   50277000  \n",
       "2017-03-03 00:00:00-05:00  16.771334   43791000  "
      ]
     },
     "execution_count": 146,
     "metadata": {},
     "output_type": "execute_result"
    }
   ],
   "source": [
    "df_tesla.head()"
   ]
  },
  {
   "cell_type": "code",
   "execution_count": 147,
   "id": "543a3c08",
   "metadata": {},
   "outputs": [
    {
     "data": {
      "text/html": [
       "<div>\n",
       "<style scoped>\n",
       "    .dataframe tbody tr th:only-of-type {\n",
       "        vertical-align: middle;\n",
       "    }\n",
       "\n",
       "    .dataframe tbody tr th {\n",
       "        vertical-align: top;\n",
       "    }\n",
       "\n",
       "    .dataframe thead th {\n",
       "        text-align: right;\n",
       "    }\n",
       "</style>\n",
       "<table border=\"1\" class=\"dataframe\">\n",
       "  <thead>\n",
       "    <tr style=\"text-align: right;\">\n",
       "      <th></th>\n",
       "      <th>Open</th>\n",
       "      <th>High</th>\n",
       "      <th>Low</th>\n",
       "      <th>Close</th>\n",
       "      <th>Adj Close</th>\n",
       "      <th>Volume</th>\n",
       "    </tr>\n",
       "    <tr>\n",
       "      <th>Date</th>\n",
       "      <th></th>\n",
       "      <th></th>\n",
       "      <th></th>\n",
       "      <th></th>\n",
       "      <th></th>\n",
       "      <th></th>\n",
       "    </tr>\n",
       "  </thead>\n",
       "  <tbody>\n",
       "    <tr>\n",
       "      <th>2022-02-17 00:00:00-05:00</th>\n",
       "      <td>304.420013</td>\n",
       "      <td>306.166656</td>\n",
       "      <td>291.366669</td>\n",
       "      <td>292.116669</td>\n",
       "      <td>292.116669</td>\n",
       "      <td>55178400</td>\n",
       "    </tr>\n",
       "    <tr>\n",
       "      <th>2022-02-18 00:00:00-05:00</th>\n",
       "      <td>295.333344</td>\n",
       "      <td>295.623322</td>\n",
       "      <td>279.203339</td>\n",
       "      <td>285.660004</td>\n",
       "      <td>285.660004</td>\n",
       "      <td>68501700</td>\n",
       "    </tr>\n",
       "    <tr>\n",
       "      <th>2022-02-22 00:00:00-05:00</th>\n",
       "      <td>278.043335</td>\n",
       "      <td>285.576660</td>\n",
       "      <td>267.033325</td>\n",
       "      <td>273.843323</td>\n",
       "      <td>273.843323</td>\n",
       "      <td>83288100</td>\n",
       "    </tr>\n",
       "    <tr>\n",
       "      <th>2022-02-23 00:00:00-05:00</th>\n",
       "      <td>276.809998</td>\n",
       "      <td>278.433319</td>\n",
       "      <td>253.520004</td>\n",
       "      <td>254.679993</td>\n",
       "      <td>254.679993</td>\n",
       "      <td>95256900</td>\n",
       "    </tr>\n",
       "    <tr>\n",
       "      <th>2022-02-24 00:00:00-05:00</th>\n",
       "      <td>233.463333</td>\n",
       "      <td>267.493347</td>\n",
       "      <td>233.333328</td>\n",
       "      <td>266.923340</td>\n",
       "      <td>266.923340</td>\n",
       "      <td>135322200</td>\n",
       "    </tr>\n",
       "  </tbody>\n",
       "</table>\n",
       "</div>"
      ],
      "text/plain": [
       "                                 Open        High         Low       Close  \\\n",
       "Date                                                                        \n",
       "2022-02-17 00:00:00-05:00  304.420013  306.166656  291.366669  292.116669   \n",
       "2022-02-18 00:00:00-05:00  295.333344  295.623322  279.203339  285.660004   \n",
       "2022-02-22 00:00:00-05:00  278.043335  285.576660  267.033325  273.843323   \n",
       "2022-02-23 00:00:00-05:00  276.809998  278.433319  253.520004  254.679993   \n",
       "2022-02-24 00:00:00-05:00  233.463333  267.493347  233.333328  266.923340   \n",
       "\n",
       "                            Adj Close     Volume  \n",
       "Date                                              \n",
       "2022-02-17 00:00:00-05:00  292.116669   55178400  \n",
       "2022-02-18 00:00:00-05:00  285.660004   68501700  \n",
       "2022-02-22 00:00:00-05:00  273.843323   83288100  \n",
       "2022-02-23 00:00:00-05:00  254.679993   95256900  \n",
       "2022-02-24 00:00:00-05:00  266.923340  135322200  "
      ]
     },
     "execution_count": 147,
     "metadata": {},
     "output_type": "execute_result"
    }
   ],
   "source": [
    "df_tesla.tail()"
   ]
  },
  {
   "cell_type": "code",
   "execution_count": 148,
   "id": "773f12de",
   "metadata": {},
   "outputs": [
    {
     "data": {
      "text/plain": [
       "<AxesSubplot:xlabel='Date'>"
      ]
     },
     "execution_count": 148,
     "metadata": {},
     "output_type": "execute_result"
    },
    {
     "data": {
      "image/png": "[encoded data removed]",
      "text/plain": [
       "<Figure size 1200x400 with 1 Axes>"
      ]
     },
     "metadata": {},
     "output_type": "display_data"
    }
   ],
   "source": [
    "df_tesla['High'].plot(figsize=(12,4))"
   ]
  },
  {
   "cell_type": "code",
   "execution_count": 149,
   "id": "2a57b9e3",
   "metadata": {},
   "outputs": [
    {
     "data": {
      "text/plain": [
       "<AxesSubplot:xlabel='Date'>"
      ]
     },
     "execution_count": 149,
     "metadata": {},
     "output_type": "execute_result"
    },
    {
     "data": {
      "image/png": "[encoded data removed]",
      "text/plain": [
       "<Figure size 1200x400 with 1 Axes>"
      ]
     },
     "metadata": {},
     "output_type": "display_data"
    }
   ],
   "source": [
    "## x_limit and y_limit\n",
    "df_tesla['High'].plot(xlim = ['2020-01-01','2021-09-01'],ylim = [0,300],figsize=(12,4),color='green',ls = '--')"
   ]
  },
  {
   "cell_type": "code",
   "execution_count": 150,
   "id": "3cb5f36a",
   "metadata": {},
   "outputs": [
    {
     "data": {
      "text/plain": [
       "DatetimeIndex(['2017-02-27 00:00:00-05:00', '2017-02-28 00:00:00-05:00',\n",
       "               '2017-03-01 00:00:00-05:00', '2017-03-02 00:00:00-05:00',\n",
       "               '2017-03-03 00:00:00-05:00', '2017-03-06 00:00:00-05:00',\n",
       "               '2017-03-07 00:00:00-05:00', '2017-03-08 00:00:00-05:00',\n",
       "               '2017-03-09 00:00:00-05:00', '2017-03-10 00:00:00-05:00',\n",
       "               ...\n",
       "               '2022-02-10 00:00:00-05:00', '2022-02-11 00:00:00-05:00',\n",
       "               '2022-02-14 00:00:00-05:00', '2022-02-15 00:00:00-05:00',\n",
       "               '2022-02-16 00:00:00-05:00', '2022-02-17 00:00:00-05:00',\n",
       "               '2022-02-18 00:00:00-05:00', '2022-02-22 00:00:00-05:00',\n",
       "               '2022-02-23 00:00:00-05:00', '2022-02-24 00:00:00-05:00'],\n",
       "              dtype='datetime64[ns, America/New_York]', name='Date', length=1259, freq=None)"
      ]
     },
     "execution_count": 150,
     "metadata": {},
     "output_type": "execute_result"
    }
   ],
   "source": [
    "df_tesla.index"
   ]
  },
  {
   "cell_type": "code",
   "execution_count": 151,
   "id": "08a37104",
   "metadata": {},
   "outputs": [],
   "source": [
    "index = df_tesla.loc['2020-01-01':'2021-09-01'].index"
   ]
  },
  {
   "cell_type": "code",
   "execution_count": 152,
   "id": "216d2e9c",
   "metadata": {},
   "outputs": [],
   "source": [
    "share_open = df_tesla.loc['2020-01-01':'2021-09-01']['Open']"
   ]
  },
  {
   "cell_type": "code",
   "execution_count": 153,
   "id": "76066560",
   "metadata": {},
   "outputs": [
    {
     "data": {
      "text/plain": [
       "Date\n",
       "2020-01-02 00:00:00-05:00     28.299999\n",
       "2020-01-03 00:00:00-05:00     29.366667\n",
       "2020-01-06 00:00:00-05:00     29.364668\n",
       "2020-01-07 00:00:00-05:00     30.760000\n",
       "2020-01-08 00:00:00-05:00     31.580000\n",
       "                                ...    \n",
       "2021-08-26 00:00:00-04:00    236.103333\n",
       "2021-08-27 00:00:00-04:00    235.000000\n",
       "2021-08-30 00:00:00-04:00    238.240005\n",
       "2021-08-31 00:00:00-04:00    244.333328\n",
       "2021-09-01 00:00:00-04:00    244.693329\n",
       "Name: Open, Length: 421, dtype: float64"
      ]
     },
     "execution_count": 153,
     "metadata": {},
     "output_type": "execute_result"
    }
   ],
   "source": [
    "share_open"
   ]
  },
  {
   "cell_type": "code",
   "execution_count": 154,
   "id": "8f20034f",
   "metadata": {},
   "outputs": [
    {
     "data": {
      "text/plain": [
       "DatetimeIndex(['2020-01-02 00:00:00-05:00', '2020-01-03 00:00:00-05:00',\n",
       "               '2020-01-06 00:00:00-05:00', '2020-01-07 00:00:00-05:00',\n",
       "               '2020-01-08 00:00:00-05:00', '2020-01-09 00:00:00-05:00',\n",
       "               '2020-01-10 00:00:00-05:00', '2020-01-13 00:00:00-05:00',\n",
       "               '2020-01-14 00:00:00-05:00', '2020-01-15 00:00:00-05:00',\n",
       "               ...\n",
       "               '2021-08-19 00:00:00-04:00', '2021-08-20 00:00:00-04:00',\n",
       "               '2021-08-23 00:00:00-04:00', '2021-08-24 00:00:00-04:00',\n",
       "               '2021-08-25 00:00:00-04:00', '2021-08-26 00:00:00-04:00',\n",
       "               '2021-08-27 00:00:00-04:00', '2021-08-30 00:00:00-04:00',\n",
       "               '2021-08-31 00:00:00-04:00', '2021-09-01 00:00:00-04:00'],\n",
       "              dtype='datetime64[ns, America/New_York]', name='Date', length=421, freq=None)"
      ]
     },
     "execution_count": 154,
     "metadata": {},
     "output_type": "execute_result"
    }
   ],
   "source": [
    "index"
   ]
  },
  {
   "cell_type": "code",
   "execution_count": 155,
   "id": "eafe5de1",
   "metadata": {},
   "outputs": [],
   "source": [
    "df_tesla = df_tesla.reset_index()"
   ]
  },
  {
   "cell_type": "code",
   "execution_count": 156,
   "id": "563e0e11",
   "metadata": {
    "scrolled": true
   },
   "outputs": [],
   "source": [
    "# second way to convert a column in a datetime type\n",
    "# pd.to_numeric(df_tesla['Date'])"
   ]
  },
  {
   "cell_type": "code",
   "execution_count": 157,
   "id": "e1821718",
   "metadata": {},
   "outputs": [
    {
     "name": "stdout",
     "output_type": "stream",
     "text": [
      "<class 'pandas.core.frame.DataFrame'>\n",
      "RangeIndex: 1259 entries, 0 to 1258\n",
      "Data columns (total 7 columns):\n",
      " #   Column     Non-Null Count  Dtype                           \n",
      "---  ------     --------------  -----                           \n",
      " 0   Date       1259 non-null   datetime64[ns, America/New_York]\n",
      " 1   Open       1259 non-null   float64                         \n",
      " 2   High       1259 non-null   float64                         \n",
      " 3   Low        1259 non-null   float64                         \n",
      " 4   Close      1259 non-null   float64                         \n",
      " 5   Adj Close  1259 non-null   float64                         \n",
      " 6   Volume     1259 non-null   int64                           \n",
      "dtypes: datetime64[ns, America/New_York](1), float64(5), int64(1)\n",
      "memory usage: 69.0 KB\n"
     ]
    }
   ],
   "source": [
    "df_tesla.info()"
   ]
  },
  {
   "cell_type": "code",
   "execution_count": 158,
   "id": "9423da03",
   "metadata": {},
   "outputs": [
    {
     "data": {
      "text/html": [
       "<div>\n",
       "<style scoped>\n",
       "    .dataframe tbody tr th:only-of-type {\n",
       "        vertical-align: middle;\n",
       "    }\n",
       "\n",
       "    .dataframe tbody tr th {\n",
       "        vertical-align: top;\n",
       "    }\n",
       "\n",
       "    .dataframe thead th {\n",
       "        text-align: right;\n",
       "    }\n",
       "</style>\n",
       "<table border=\"1\" class=\"dataframe\">\n",
       "  <thead>\n",
       "    <tr style=\"text-align: right;\">\n",
       "      <th></th>\n",
       "      <th>Date</th>\n",
       "      <th>Open</th>\n",
       "      <th>High</th>\n",
       "      <th>Low</th>\n",
       "      <th>Close</th>\n",
       "      <th>Adj Close</th>\n",
       "      <th>Volume</th>\n",
       "    </tr>\n",
       "  </thead>\n",
       "  <tbody>\n",
       "    <tr>\n",
       "      <th>0</th>\n",
       "      <td>2017-02-27 00:00:00-05:00</td>\n",
       "      <td>16.544666</td>\n",
       "      <td>16.557333</td>\n",
       "      <td>16.134001</td>\n",
       "      <td>16.415333</td>\n",
       "      <td>16.415333</td>\n",
       "      <td>171912000</td>\n",
       "    </tr>\n",
       "    <tr>\n",
       "      <th>1</th>\n",
       "      <td>2017-02-28 00:00:00-05:00</td>\n",
       "      <td>16.279333</td>\n",
       "      <td>16.733334</td>\n",
       "      <td>16.260000</td>\n",
       "      <td>16.666000</td>\n",
       "      <td>16.666000</td>\n",
       "      <td>91171500</td>\n",
       "    </tr>\n",
       "    <tr>\n",
       "      <th>2</th>\n",
       "      <td>2017-03-01 00:00:00-05:00</td>\n",
       "      <td>16.945333</td>\n",
       "      <td>16.990000</td>\n",
       "      <td>16.607332</td>\n",
       "      <td>16.667999</td>\n",
       "      <td>16.667999</td>\n",
       "      <td>72142500</td>\n",
       "    </tr>\n",
       "    <tr>\n",
       "      <th>3</th>\n",
       "      <td>2017-03-02 00:00:00-05:00</td>\n",
       "      <td>16.647333</td>\n",
       "      <td>16.885332</td>\n",
       "      <td>16.551332</td>\n",
       "      <td>16.698668</td>\n",
       "      <td>16.698668</td>\n",
       "      <td>50277000</td>\n",
       "    </tr>\n",
       "    <tr>\n",
       "      <th>4</th>\n",
       "      <td>2017-03-03 00:00:00-05:00</td>\n",
       "      <td>16.716000</td>\n",
       "      <td>16.793333</td>\n",
       "      <td>16.600000</td>\n",
       "      <td>16.771334</td>\n",
       "      <td>16.771334</td>\n",
       "      <td>43791000</td>\n",
       "    </tr>\n",
       "  </tbody>\n",
       "</table>\n",
       "</div>"
      ],
      "text/plain": [
       "                       Date       Open       High        Low      Close  \\\n",
       "0 2017-02-27 00:00:00-05:00  16.544666  16.557333  16.134001  16.415333   \n",
       "1 2017-02-28 00:00:00-05:00  16.279333  16.733334  16.260000  16.666000   \n",
       "2 2017-03-01 00:00:00-05:00  16.945333  16.990000  16.607332  16.667999   \n",
       "3 2017-03-02 00:00:00-05:00  16.647333  16.885332  16.551332  16.698668   \n",
       "4 2017-03-03 00:00:00-05:00  16.716000  16.793333  16.600000  16.771334   \n",
       "\n",
       "   Adj Close     Volume  \n",
       "0  16.415333  171912000  \n",
       "1  16.666000   91171500  \n",
       "2  16.667999   72142500  \n",
       "3  16.698668   50277000  \n",
       "4  16.771334   43791000  "
      ]
     },
     "execution_count": 158,
     "metadata": {},
     "output_type": "execute_result"
    }
   ],
   "source": [
    "df_tesla.head()"
   ]
  },
  {
   "cell_type": "code",
   "execution_count": 159,
   "id": "d2790c4e",
   "metadata": {},
   "outputs": [
    {
     "data": {
      "text/html": [
       "<div>\n",
       "<style scoped>\n",
       "    .dataframe tbody tr th:only-of-type {\n",
       "        vertical-align: middle;\n",
       "    }\n",
       "\n",
       "    .dataframe tbody tr th {\n",
       "        vertical-align: top;\n",
       "    }\n",
       "\n",
       "    .dataframe thead th {\n",
       "        text-align: right;\n",
       "    }\n",
       "</style>\n",
       "<table border=\"1\" class=\"dataframe\">\n",
       "  <thead>\n",
       "    <tr style=\"text-align: right;\">\n",
       "      <th></th>\n",
       "      <th>Date</th>\n",
       "      <th>Open</th>\n",
       "      <th>High</th>\n",
       "      <th>Low</th>\n",
       "      <th>Close</th>\n",
       "      <th>Adj Close</th>\n",
       "      <th>Volume</th>\n",
       "    </tr>\n",
       "  </thead>\n",
       "  <tbody>\n",
       "    <tr>\n",
       "      <th>0</th>\n",
       "      <td>2017-02-27 00:00:00-05:00</td>\n",
       "      <td>16.544666</td>\n",
       "      <td>16.557333</td>\n",
       "      <td>16.134001</td>\n",
       "      <td>16.415333</td>\n",
       "      <td>16.415333</td>\n",
       "      <td>171912000</td>\n",
       "    </tr>\n",
       "    <tr>\n",
       "      <th>1</th>\n",
       "      <td>2017-02-28 00:00:00-05:00</td>\n",
       "      <td>16.279333</td>\n",
       "      <td>16.733334</td>\n",
       "      <td>16.260000</td>\n",
       "      <td>16.666000</td>\n",
       "      <td>16.666000</td>\n",
       "      <td>91171500</td>\n",
       "    </tr>\n",
       "    <tr>\n",
       "      <th>2</th>\n",
       "      <td>2017-03-01 00:00:00-05:00</td>\n",
       "      <td>16.945333</td>\n",
       "      <td>16.990000</td>\n",
       "      <td>16.607332</td>\n",
       "      <td>16.667999</td>\n",
       "      <td>16.667999</td>\n",
       "      <td>72142500</td>\n",
       "    </tr>\n",
       "    <tr>\n",
       "      <th>3</th>\n",
       "      <td>2017-03-02 00:00:00-05:00</td>\n",
       "      <td>16.647333</td>\n",
       "      <td>16.885332</td>\n",
       "      <td>16.551332</td>\n",
       "      <td>16.698668</td>\n",
       "      <td>16.698668</td>\n",
       "      <td>50277000</td>\n",
       "    </tr>\n",
       "    <tr>\n",
       "      <th>4</th>\n",
       "      <td>2017-03-03 00:00:00-05:00</td>\n",
       "      <td>16.716000</td>\n",
       "      <td>16.793333</td>\n",
       "      <td>16.600000</td>\n",
       "      <td>16.771334</td>\n",
       "      <td>16.771334</td>\n",
       "      <td>43791000</td>\n",
       "    </tr>\n",
       "  </tbody>\n",
       "</table>\n",
       "</div>"
      ],
      "text/plain": [
       "                       Date       Open       High        Low      Close  \\\n",
       "0 2017-02-27 00:00:00-05:00  16.544666  16.557333  16.134001  16.415333   \n",
       "1 2017-02-28 00:00:00-05:00  16.279333  16.733334  16.260000  16.666000   \n",
       "2 2017-03-01 00:00:00-05:00  16.945333  16.990000  16.607332  16.667999   \n",
       "3 2017-03-02 00:00:00-05:00  16.647333  16.885332  16.551332  16.698668   \n",
       "4 2017-03-03 00:00:00-05:00  16.716000  16.793333  16.600000  16.771334   \n",
       "\n",
       "   Adj Close     Volume  \n",
       "0  16.415333  171912000  \n",
       "1  16.666000   91171500  \n",
       "2  16.667999   72142500  \n",
       "3  16.698668   50277000  \n",
       "4  16.771334   43791000  "
      ]
     },
     "execution_count": 159,
     "metadata": {},
     "output_type": "execute_result"
    }
   ],
   "source": [
    "df_tesla.head()"
   ]
  },
  {
   "cell_type": "code",
   "execution_count": 160,
   "id": "267fef47",
   "metadata": {},
   "outputs": [],
   "source": [
    "df_tesla['Date'] = df_tesla[\"Date\"].dt.date\n",
    "# df[\"column in which you want to change\"] = df[\"column name in which datetime is there\"].dt.time"
   ]
  },
  {
   "cell_type": "code",
   "execution_count": 161,
   "id": "7252892f",
   "metadata": {},
   "outputs": [],
   "source": [
    "df_tesla = df_tesla.set_index(['Date'],drop = True)"
   ]
  },
  {
   "cell_type": "code",
   "execution_count": 162,
   "id": "e5e845c7",
   "metadata": {},
   "outputs": [
    {
     "name": "stdout",
     "output_type": "stream",
     "text": [
      "<class 'pandas.core.frame.DataFrame'>\n",
      "Index: 1259 entries, 2017-02-27 to 2022-02-24\n",
      "Data columns (total 6 columns):\n",
      " #   Column     Non-Null Count  Dtype  \n",
      "---  ------     --------------  -----  \n",
      " 0   Open       1259 non-null   float64\n",
      " 1   High       1259 non-null   float64\n",
      " 2   Low        1259 non-null   float64\n",
      " 3   Close      1259 non-null   float64\n",
      " 4   Adj Close  1259 non-null   float64\n",
      " 5   Volume     1259 non-null   int64  \n",
      "dtypes: float64(5), int64(1)\n",
      "memory usage: 68.9+ KB\n"
     ]
    }
   ],
   "source": [
    "df_tesla.info()"
   ]
  },
  {
   "cell_type": "code",
   "execution_count": 163,
   "id": "d1714429",
   "metadata": {},
   "outputs": [
    {
     "data": {
      "text/html": [
       "<div>\n",
       "<style scoped>\n",
       "    .dataframe tbody tr th:only-of-type {\n",
       "        vertical-align: middle;\n",
       "    }\n",
       "\n",
       "    .dataframe tbody tr th {\n",
       "        vertical-align: top;\n",
       "    }\n",
       "\n",
       "    .dataframe thead th {\n",
       "        text-align: right;\n",
       "    }\n",
       "</style>\n",
       "<table border=\"1\" class=\"dataframe\">\n",
       "  <thead>\n",
       "    <tr style=\"text-align: right;\">\n",
       "      <th></th>\n",
       "      <th>Open</th>\n",
       "      <th>High</th>\n",
       "      <th>Low</th>\n",
       "      <th>Close</th>\n",
       "      <th>Adj Close</th>\n",
       "      <th>Volume</th>\n",
       "    </tr>\n",
       "    <tr>\n",
       "      <th>Date</th>\n",
       "      <th></th>\n",
       "      <th></th>\n",
       "      <th></th>\n",
       "      <th></th>\n",
       "      <th></th>\n",
       "      <th></th>\n",
       "    </tr>\n",
       "  </thead>\n",
       "  <tbody>\n",
       "    <tr>\n",
       "      <th>2017-02-27</th>\n",
       "      <td>16.544666</td>\n",
       "      <td>16.557333</td>\n",
       "      <td>16.134001</td>\n",
       "      <td>16.415333</td>\n",
       "      <td>16.415333</td>\n",
       "      <td>171912000</td>\n",
       "    </tr>\n",
       "    <tr>\n",
       "      <th>2017-02-28</th>\n",
       "      <td>16.279333</td>\n",
       "      <td>16.733334</td>\n",
       "      <td>16.260000</td>\n",
       "      <td>16.666000</td>\n",
       "      <td>16.666000</td>\n",
       "      <td>91171500</td>\n",
       "    </tr>\n",
       "    <tr>\n",
       "      <th>2017-03-01</th>\n",
       "      <td>16.945333</td>\n",
       "      <td>16.990000</td>\n",
       "      <td>16.607332</td>\n",
       "      <td>16.667999</td>\n",
       "      <td>16.667999</td>\n",
       "      <td>72142500</td>\n",
       "    </tr>\n",
       "    <tr>\n",
       "      <th>2017-03-02</th>\n",
       "      <td>16.647333</td>\n",
       "      <td>16.885332</td>\n",
       "      <td>16.551332</td>\n",
       "      <td>16.698668</td>\n",
       "      <td>16.698668</td>\n",
       "      <td>50277000</td>\n",
       "    </tr>\n",
       "    <tr>\n",
       "      <th>2017-03-03</th>\n",
       "      <td>16.716000</td>\n",
       "      <td>16.793333</td>\n",
       "      <td>16.600000</td>\n",
       "      <td>16.771334</td>\n",
       "      <td>16.771334</td>\n",
       "      <td>43791000</td>\n",
       "    </tr>\n",
       "  </tbody>\n",
       "</table>\n",
       "</div>"
      ],
      "text/plain": [
       "                 Open       High        Low      Close  Adj Close     Volume\n",
       "Date                                                                        \n",
       "2017-02-27  16.544666  16.557333  16.134001  16.415333  16.415333  171912000\n",
       "2017-02-28  16.279333  16.733334  16.260000  16.666000  16.666000   91171500\n",
       "2017-03-01  16.945333  16.990000  16.607332  16.667999  16.667999   72142500\n",
       "2017-03-02  16.647333  16.885332  16.551332  16.698668  16.698668   50277000\n",
       "2017-03-03  16.716000  16.793333  16.600000  16.771334  16.771334   43791000"
      ]
     },
     "execution_count": 163,
     "metadata": {},
     "output_type": "execute_result"
    }
   ],
   "source": [
    "df_tesla.head()"
   ]
  },
  {
   "cell_type": "markdown",
   "id": "ec47f132",
   "metadata": {},
   "source": [
    "# lets Play with Datetime"
   ]
  },
  {
   "cell_type": "code",
   "execution_count": 164,
   "id": "2f490186",
   "metadata": {},
   "outputs": [],
   "source": [
    "from datetime import datetime"
   ]
  },
  {
   "cell_type": "code",
   "execution_count": 165,
   "id": "72569a90",
   "metadata": {},
   "outputs": [
    {
     "data": {
      "text/plain": [
       "datetime.datetime(2022, 11, 21, 0, 0)"
      ]
     },
     "execution_count": 165,
     "metadata": {},
     "output_type": "execute_result"
    }
   ],
   "source": [
    "datetime(2022,11,21)"
   ]
  },
  {
   "cell_type": "code",
   "execution_count": 166,
   "id": "d19ee22e",
   "metadata": {},
   "outputs": [
    {
     "data": {
      "text/plain": [
       "datetime.datetime(2023, 1, 18, 10, 45, 33, 122368)"
      ]
     },
     "execution_count": 166,
     "metadata": {},
     "output_type": "execute_result"
    }
   ],
   "source": [
    "datetime.now()"
   ]
  },
  {
   "cell_type": "code",
   "execution_count": 167,
   "id": "4f4f793f",
   "metadata": {},
   "outputs": [],
   "source": [
    "# how to get date and time that is running in your pc "
   ]
  },
  {
   "cell_type": "raw",
   "id": "4c6fb06c",
   "metadata": {},
   "source": [
    "def add_num(num1,num2):\n",
    "    return num1+num2"
   ]
  },
  {
   "cell_type": "raw",
   "id": "93d2b184",
   "metadata": {},
   "source": [
    "start_time = datetime.now()\n",
    "n1 =20\n",
    "n2 =30\n",
    "add_num(n1,n2)\n",
    "end_time = datetime.now()\n",
    "print('so the time of the code is',end_time - start_time)\n",
    "print('\\nstart time is:', start_time,'\\nend time is:', end_time)"
   ]
  },
  {
   "cell_type": "code",
   "execution_count": 168,
   "id": "50894450",
   "metadata": {},
   "outputs": [],
   "source": [
    "date = datetime.now()"
   ]
  },
  {
   "cell_type": "code",
   "execution_count": 169,
   "id": "af005b4a",
   "metadata": {},
   "outputs": [
    {
     "data": {
      "text/plain": [
       "datetime.datetime(2023, 1, 18, 10, 45, 33, 372036)"
      ]
     },
     "execution_count": 169,
     "metadata": {},
     "output_type": "execute_result"
    }
   ],
   "source": [
    "date"
   ]
  },
  {
   "cell_type": "code",
   "execution_count": 170,
   "id": "b26a8ac7",
   "metadata": {},
   "outputs": [
    {
     "data": {
      "text/plain": [
       "datetime.date(2023, 1, 18)"
      ]
     },
     "execution_count": 170,
     "metadata": {},
     "output_type": "execute_result"
    }
   ],
   "source": [
    "date.date()"
   ]
  },
  {
   "cell_type": "code",
   "execution_count": 171,
   "id": "0dbd1fde",
   "metadata": {},
   "outputs": [
    {
     "data": {
      "text/plain": [
       "18"
      ]
     },
     "execution_count": 171,
     "metadata": {},
     "output_type": "execute_result"
    }
   ],
   "source": [
    "date.day"
   ]
  },
  {
   "cell_type": "code",
   "execution_count": 172,
   "id": "92d57e35",
   "metadata": {},
   "outputs": [
    {
     "data": {
      "text/plain": [
       "2"
      ]
     },
     "execution_count": 172,
     "metadata": {},
     "output_type": "execute_result"
    }
   ],
   "source": [
    "date.weekday()"
   ]
  },
  {
   "cell_type": "code",
   "execution_count": 173,
   "id": "42855d26",
   "metadata": {},
   "outputs": [
    {
     "data": {
      "text/plain": [
       "2023"
      ]
     },
     "execution_count": 173,
     "metadata": {},
     "output_type": "execute_result"
    }
   ],
   "source": [
    "date.year"
   ]
  },
  {
   "cell_type": "code",
   "execution_count": 174,
   "id": "46884a37",
   "metadata": {},
   "outputs": [
    {
     "data": {
      "text/plain": [
       "1"
      ]
     },
     "execution_count": 174,
     "metadata": {},
     "output_type": "execute_result"
    }
   ],
   "source": [
    "date.month"
   ]
  },
  {
   "cell_type": "code",
   "execution_count": 175,
   "id": "ff0f30ea",
   "metadata": {},
   "outputs": [
    {
     "data": {
      "text/plain": [
       "34"
      ]
     },
     "execution_count": 175,
     "metadata": {},
     "output_type": "execute_result"
    }
   ],
   "source": [
    "datetime.now().second"
   ]
  },
  {
   "cell_type": "code",
   "execution_count": 177,
   "id": "75b9ebaf",
   "metadata": {},
   "outputs": [],
   "source": [
    "df_tesla = df_tesla.reset_index()"
   ]
  },
  {
   "cell_type": "code",
   "execution_count": 178,
   "id": "56fc9efb",
   "metadata": {},
   "outputs": [
    {
     "name": "stdout",
     "output_type": "stream",
     "text": [
      "<class 'pandas.core.frame.DataFrame'>\n",
      "RangeIndex: 1259 entries, 0 to 1258\n",
      "Data columns (total 7 columns):\n",
      " #   Column     Non-Null Count  Dtype  \n",
      "---  ------     --------------  -----  \n",
      " 0   Date       1259 non-null   object \n",
      " 1   Open       1259 non-null   float64\n",
      " 2   High       1259 non-null   float64\n",
      " 3   Low        1259 non-null   float64\n",
      " 4   Close      1259 non-null   float64\n",
      " 5   Adj Close  1259 non-null   float64\n",
      " 6   Volume     1259 non-null   int64  \n",
      "dtypes: float64(5), int64(1), object(1)\n",
      "memory usage: 69.0+ KB\n"
     ]
    }
   ],
   "source": [
    "df_tesla.info()"
   ]
  },
  {
   "cell_type": "code",
   "execution_count": 176,
   "id": "4ba99756",
   "metadata": {},
   "outputs": [
    {
     "data": {
      "text/html": [
       "<div>\n",
       "<style scoped>\n",
       "    .dataframe tbody tr th:only-of-type {\n",
       "        vertical-align: middle;\n",
       "    }\n",
       "\n",
       "    .dataframe tbody tr th {\n",
       "        vertical-align: top;\n",
       "    }\n",
       "\n",
       "    .dataframe thead th {\n",
       "        text-align: right;\n",
       "    }\n",
       "</style>\n",
       "<table border=\"1\" class=\"dataframe\">\n",
       "  <thead>\n",
       "    <tr style=\"text-align: right;\">\n",
       "      <th></th>\n",
       "      <th>Open</th>\n",
       "      <th>High</th>\n",
       "      <th>Low</th>\n",
       "      <th>Close</th>\n",
       "      <th>Adj Close</th>\n",
       "      <th>Volume</th>\n",
       "    </tr>\n",
       "    <tr>\n",
       "      <th>Date</th>\n",
       "      <th></th>\n",
       "      <th></th>\n",
       "      <th></th>\n",
       "      <th></th>\n",
       "      <th></th>\n",
       "      <th></th>\n",
       "    </tr>\n",
       "  </thead>\n",
       "  <tbody>\n",
       "    <tr>\n",
       "      <th>2017-02-27</th>\n",
       "      <td>16.544666</td>\n",
       "      <td>16.557333</td>\n",
       "      <td>16.134001</td>\n",
       "      <td>16.415333</td>\n",
       "      <td>16.415333</td>\n",
       "      <td>171912000</td>\n",
       "    </tr>\n",
       "    <tr>\n",
       "      <th>2017-02-28</th>\n",
       "      <td>16.279333</td>\n",
       "      <td>16.733334</td>\n",
       "      <td>16.260000</td>\n",
       "      <td>16.666000</td>\n",
       "      <td>16.666000</td>\n",
       "      <td>91171500</td>\n",
       "    </tr>\n",
       "    <tr>\n",
       "      <th>2017-03-01</th>\n",
       "      <td>16.945333</td>\n",
       "      <td>16.990000</td>\n",
       "      <td>16.607332</td>\n",
       "      <td>16.667999</td>\n",
       "      <td>16.667999</td>\n",
       "      <td>72142500</td>\n",
       "    </tr>\n",
       "    <tr>\n",
       "      <th>2017-03-02</th>\n",
       "      <td>16.647333</td>\n",
       "      <td>16.885332</td>\n",
       "      <td>16.551332</td>\n",
       "      <td>16.698668</td>\n",
       "      <td>16.698668</td>\n",
       "      <td>50277000</td>\n",
       "    </tr>\n",
       "    <tr>\n",
       "      <th>2017-03-03</th>\n",
       "      <td>16.716000</td>\n",
       "      <td>16.793333</td>\n",
       "      <td>16.600000</td>\n",
       "      <td>16.771334</td>\n",
       "      <td>16.771334</td>\n",
       "      <td>43791000</td>\n",
       "    </tr>\n",
       "  </tbody>\n",
       "</table>\n",
       "</div>"
      ],
      "text/plain": [
       "                 Open       High        Low      Close  Adj Close     Volume\n",
       "Date                                                                        \n",
       "2017-02-27  16.544666  16.557333  16.134001  16.415333  16.415333  171912000\n",
       "2017-02-28  16.279333  16.733334  16.260000  16.666000  16.666000   91171500\n",
       "2017-03-01  16.945333  16.990000  16.607332  16.667999  16.667999   72142500\n",
       "2017-03-02  16.647333  16.885332  16.551332  16.698668  16.698668   50277000\n",
       "2017-03-03  16.716000  16.793333  16.600000  16.771334  16.771334   43791000"
      ]
     },
     "execution_count": 176,
     "metadata": {},
     "output_type": "execute_result"
    }
   ],
   "source": [
    "df_tesla.head()"
   ]
  },
  {
   "cell_type": "code",
   "execution_count": 180,
   "id": "6e4225a4",
   "metadata": {},
   "outputs": [],
   "source": [
    "df_tesla['Date'] = pd.to_datetime(df_tesla['Date'])"
   ]
  },
  {
   "cell_type": "code",
   "execution_count": 181,
   "id": "32683dfb",
   "metadata": {},
   "outputs": [
    {
     "name": "stdout",
     "output_type": "stream",
     "text": [
      "<class 'pandas.core.frame.DataFrame'>\n",
      "RangeIndex: 1259 entries, 0 to 1258\n",
      "Data columns (total 7 columns):\n",
      " #   Column     Non-Null Count  Dtype         \n",
      "---  ------     --------------  -----         \n",
      " 0   Date       1259 non-null   datetime64[ns]\n",
      " 1   Open       1259 non-null   float64       \n",
      " 2   High       1259 non-null   float64       \n",
      " 3   Low        1259 non-null   float64       \n",
      " 4   Close      1259 non-null   float64       \n",
      " 5   Adj Close  1259 non-null   float64       \n",
      " 6   Volume     1259 non-null   int64         \n",
      "dtypes: datetime64[ns](1), float64(5), int64(1)\n",
      "memory usage: 69.0 KB\n"
     ]
    }
   ],
   "source": [
    "df_tesla.info()"
   ]
  },
  {
   "cell_type": "code",
   "execution_count": 183,
   "id": "2d6dab0e",
   "metadata": {},
   "outputs": [],
   "source": [
    "df_tesla = df_tesla.set_index(['Date'],drop = True)"
   ]
  },
  {
   "cell_type": "code",
   "execution_count": 187,
   "id": "58c9fc0e",
   "metadata": {},
   "outputs": [
    {
     "data": {
      "text/html": [
       "<div>\n",
       "<style scoped>\n",
       "    .dataframe tbody tr th:only-of-type {\n",
       "        vertical-align: middle;\n",
       "    }\n",
       "\n",
       "    .dataframe tbody tr th {\n",
       "        vertical-align: top;\n",
       "    }\n",
       "\n",
       "    .dataframe thead th {\n",
       "        text-align: right;\n",
       "    }\n",
       "</style>\n",
       "<table border=\"1\" class=\"dataframe\">\n",
       "  <thead>\n",
       "    <tr style=\"text-align: right;\">\n",
       "      <th></th>\n",
       "      <th>Open</th>\n",
       "      <th>High</th>\n",
       "      <th>Low</th>\n",
       "      <th>Close</th>\n",
       "      <th>Adj Close</th>\n",
       "      <th>Volume</th>\n",
       "    </tr>\n",
       "    <tr>\n",
       "      <th>Date</th>\n",
       "      <th></th>\n",
       "      <th></th>\n",
       "      <th></th>\n",
       "      <th></th>\n",
       "      <th></th>\n",
       "      <th></th>\n",
       "    </tr>\n",
       "  </thead>\n",
       "  <tbody>\n",
       "    <tr>\n",
       "      <th>2017-02-27</th>\n",
       "      <td>16.544666</td>\n",
       "      <td>16.557333</td>\n",
       "      <td>16.134001</td>\n",
       "      <td>16.415333</td>\n",
       "      <td>16.415333</td>\n",
       "      <td>171912000</td>\n",
       "    </tr>\n",
       "    <tr>\n",
       "      <th>2017-02-28</th>\n",
       "      <td>16.279333</td>\n",
       "      <td>16.733334</td>\n",
       "      <td>16.260000</td>\n",
       "      <td>16.666000</td>\n",
       "      <td>16.666000</td>\n",
       "      <td>91171500</td>\n",
       "    </tr>\n",
       "    <tr>\n",
       "      <th>2017-03-01</th>\n",
       "      <td>16.945333</td>\n",
       "      <td>16.990000</td>\n",
       "      <td>16.607332</td>\n",
       "      <td>16.667999</td>\n",
       "      <td>16.667999</td>\n",
       "      <td>72142500</td>\n",
       "    </tr>\n",
       "    <tr>\n",
       "      <th>2017-03-02</th>\n",
       "      <td>16.647333</td>\n",
       "      <td>16.885332</td>\n",
       "      <td>16.551332</td>\n",
       "      <td>16.698668</td>\n",
       "      <td>16.698668</td>\n",
       "      <td>50277000</td>\n",
       "    </tr>\n",
       "    <tr>\n",
       "      <th>2017-03-03</th>\n",
       "      <td>16.716000</td>\n",
       "      <td>16.793333</td>\n",
       "      <td>16.600000</td>\n",
       "      <td>16.771334</td>\n",
       "      <td>16.771334</td>\n",
       "      <td>43791000</td>\n",
       "    </tr>\n",
       "  </tbody>\n",
       "</table>\n",
       "</div>"
      ],
      "text/plain": [
       "                 Open       High        Low      Close  Adj Close     Volume\n",
       "Date                                                                        \n",
       "2017-02-27  16.544666  16.557333  16.134001  16.415333  16.415333  171912000\n",
       "2017-02-28  16.279333  16.733334  16.260000  16.666000  16.666000   91171500\n",
       "2017-03-01  16.945333  16.990000  16.607332  16.667999  16.667999   72142500\n",
       "2017-03-02  16.647333  16.885332  16.551332  16.698668  16.698668   50277000\n",
       "2017-03-03  16.716000  16.793333  16.600000  16.771334  16.771334   43791000"
      ]
     },
     "execution_count": 187,
     "metadata": {},
     "output_type": "execute_result"
    }
   ],
   "source": [
    "df_tesla.head()"
   ]
  },
  {
   "cell_type": "markdown",
   "id": "c0a18220",
   "metadata": {},
   "source": [
    "# Time Resampling"
   ]
  },
  {
   "cell_type": "code",
   "execution_count": 179,
   "id": "c0cc4f79",
   "metadata": {},
   "outputs": [
    {
     "data": {
      "text/html": [
       "<div>\n",
       "<style scoped>\n",
       "    .dataframe tbody tr th:only-of-type {\n",
       "        vertical-align: middle;\n",
       "    }\n",
       "\n",
       "    .dataframe tbody tr th {\n",
       "        vertical-align: top;\n",
       "    }\n",
       "\n",
       "    .dataframe thead th {\n",
       "        text-align: right;\n",
       "    }\n",
       "</style>\n",
       "<table border=\"1\" class=\"dataframe\">\n",
       "  <thead>\n",
       "    <tr style=\"text-align: right;\">\n",
       "      <th></th>\n",
       "      <th>Date</th>\n",
       "      <th>Open</th>\n",
       "      <th>High</th>\n",
       "      <th>Low</th>\n",
       "      <th>Close</th>\n",
       "      <th>Adj Close</th>\n",
       "      <th>Volume</th>\n",
       "    </tr>\n",
       "  </thead>\n",
       "  <tbody>\n",
       "    <tr>\n",
       "      <th>0</th>\n",
       "      <td>2017-02-27</td>\n",
       "      <td>16.544666</td>\n",
       "      <td>16.557333</td>\n",
       "      <td>16.134001</td>\n",
       "      <td>16.415333</td>\n",
       "      <td>16.415333</td>\n",
       "      <td>171912000</td>\n",
       "    </tr>\n",
       "    <tr>\n",
       "      <th>1</th>\n",
       "      <td>2017-02-28</td>\n",
       "      <td>16.279333</td>\n",
       "      <td>16.733334</td>\n",
       "      <td>16.260000</td>\n",
       "      <td>16.666000</td>\n",
       "      <td>16.666000</td>\n",
       "      <td>91171500</td>\n",
       "    </tr>\n",
       "    <tr>\n",
       "      <th>2</th>\n",
       "      <td>2017-03-01</td>\n",
       "      <td>16.945333</td>\n",
       "      <td>16.990000</td>\n",
       "      <td>16.607332</td>\n",
       "      <td>16.667999</td>\n",
       "      <td>16.667999</td>\n",
       "      <td>72142500</td>\n",
       "    </tr>\n",
       "    <tr>\n",
       "      <th>3</th>\n",
       "      <td>2017-03-02</td>\n",
       "      <td>16.647333</td>\n",
       "      <td>16.885332</td>\n",
       "      <td>16.551332</td>\n",
       "      <td>16.698668</td>\n",
       "      <td>16.698668</td>\n",
       "      <td>50277000</td>\n",
       "    </tr>\n",
       "    <tr>\n",
       "      <th>4</th>\n",
       "      <td>2017-03-03</td>\n",
       "      <td>16.716000</td>\n",
       "      <td>16.793333</td>\n",
       "      <td>16.600000</td>\n",
       "      <td>16.771334</td>\n",
       "      <td>16.771334</td>\n",
       "      <td>43791000</td>\n",
       "    </tr>\n",
       "  </tbody>\n",
       "</table>\n",
       "</div>"
      ],
      "text/plain": [
       "         Date       Open       High        Low      Close  Adj Close  \\\n",
       "0  2017-02-27  16.544666  16.557333  16.134001  16.415333  16.415333   \n",
       "1  2017-02-28  16.279333  16.733334  16.260000  16.666000  16.666000   \n",
       "2  2017-03-01  16.945333  16.990000  16.607332  16.667999  16.667999   \n",
       "3  2017-03-02  16.647333  16.885332  16.551332  16.698668  16.698668   \n",
       "4  2017-03-03  16.716000  16.793333  16.600000  16.771334  16.771334   \n",
       "\n",
       "      Volume  \n",
       "0  171912000  \n",
       "1   91171500  \n",
       "2   72142500  \n",
       "3   50277000  \n",
       "4   43791000  "
      ]
     },
     "execution_count": 179,
     "metadata": {},
     "output_type": "execute_result"
    }
   ],
   "source": [
    "df_tesla.head()"
   ]
  },
  {
   "cell_type": "code",
   "execution_count": 189,
   "id": "eb26bb34",
   "metadata": {},
   "outputs": [
    {
     "data": {
      "text/html": [
       "<div>\n",
       "<style scoped>\n",
       "    .dataframe tbody tr th:only-of-type {\n",
       "        vertical-align: middle;\n",
       "    }\n",
       "\n",
       "    .dataframe tbody tr th {\n",
       "        vertical-align: top;\n",
       "    }\n",
       "\n",
       "    .dataframe thead th {\n",
       "        text-align: right;\n",
       "    }\n",
       "</style>\n",
       "<table border=\"1\" class=\"dataframe\">\n",
       "  <thead>\n",
       "    <tr style=\"text-align: right;\">\n",
       "      <th></th>\n",
       "      <th>Open</th>\n",
       "      <th>High</th>\n",
       "      <th>Low</th>\n",
       "      <th>Close</th>\n",
       "      <th>Adj Close</th>\n",
       "      <th>Volume</th>\n",
       "    </tr>\n",
       "    <tr>\n",
       "      <th>Date</th>\n",
       "      <th></th>\n",
       "      <th></th>\n",
       "      <th></th>\n",
       "      <th></th>\n",
       "      <th></th>\n",
       "      <th></th>\n",
       "    </tr>\n",
       "  </thead>\n",
       "  <tbody>\n",
       "    <tr>\n",
       "      <th>2017-12-31</th>\n",
       "      <td>25.779333</td>\n",
       "      <td>25.974001</td>\n",
       "      <td>25.290001</td>\n",
       "      <td>25.666668</td>\n",
       "      <td>25.666668</td>\n",
       "      <td>296871000</td>\n",
       "    </tr>\n",
       "    <tr>\n",
       "      <th>2018-12-31</th>\n",
       "      <td>25.000000</td>\n",
       "      <td>25.830667</td>\n",
       "      <td>24.474667</td>\n",
       "      <td>25.304667</td>\n",
       "      <td>25.304667</td>\n",
       "      <td>504745500</td>\n",
       "    </tr>\n",
       "    <tr>\n",
       "      <th>2019-12-31</th>\n",
       "      <td>29.000000</td>\n",
       "      <td>29.020666</td>\n",
       "      <td>28.423332</td>\n",
       "      <td>28.729334</td>\n",
       "      <td>28.729334</td>\n",
       "      <td>450091500</td>\n",
       "    </tr>\n",
       "    <tr>\n",
       "      <th>2020-12-31</th>\n",
       "      <td>233.330002</td>\n",
       "      <td>239.573334</td>\n",
       "      <td>230.373337</td>\n",
       "      <td>235.223328</td>\n",
       "      <td>235.223328</td>\n",
       "      <td>914082000</td>\n",
       "    </tr>\n",
       "    <tr>\n",
       "      <th>2021-12-31</th>\n",
       "      <td>411.470001</td>\n",
       "      <td>414.496674</td>\n",
       "      <td>405.666656</td>\n",
       "      <td>409.970001</td>\n",
       "      <td>409.970001</td>\n",
       "      <td>268189500</td>\n",
       "    </tr>\n",
       "    <tr>\n",
       "      <th>2022-12-31</th>\n",
       "      <td>396.516663</td>\n",
       "      <td>402.666656</td>\n",
       "      <td>378.679993</td>\n",
       "      <td>399.926666</td>\n",
       "      <td>399.926666</td>\n",
       "      <td>151565700</td>\n",
       "    </tr>\n",
       "  </tbody>\n",
       "</table>\n",
       "</div>"
      ],
      "text/plain": [
       "                  Open        High         Low       Close   Adj Close  \\\n",
       "Date                                                                     \n",
       "2017-12-31   25.779333   25.974001   25.290001   25.666668   25.666668   \n",
       "2018-12-31   25.000000   25.830667   24.474667   25.304667   25.304667   \n",
       "2019-12-31   29.000000   29.020666   28.423332   28.729334   28.729334   \n",
       "2020-12-31  233.330002  239.573334  230.373337  235.223328  235.223328   \n",
       "2021-12-31  411.470001  414.496674  405.666656  409.970001  409.970001   \n",
       "2022-12-31  396.516663  402.666656  378.679993  399.926666  399.926666   \n",
       "\n",
       "               Volume  \n",
       "Date                   \n",
       "2017-12-31  296871000  \n",
       "2018-12-31  504745500  \n",
       "2019-12-31  450091500  \n",
       "2020-12-31  914082000  \n",
       "2021-12-31  268189500  \n",
       "2022-12-31  151565700  "
      ]
     },
     "execution_count": 189,
     "metadata": {},
     "output_type": "execute_result"
    }
   ],
   "source": [
    "## Year end month\n",
    "df_tesla.resample(rule = 'A').max()"
   ]
  },
  {
   "cell_type": "code",
   "execution_count": 190,
   "id": "96c95214",
   "metadata": {},
   "outputs": [
    {
     "data": {
      "text/plain": [
       "pandas.core.frame.DataFrame"
      ]
     },
     "execution_count": 190,
     "metadata": {},
     "output_type": "execute_result"
    }
   ],
   "source": [
    "type(df_tesla.resample(rule = 'A').max())\n",
    "# rulle --> year last month"
   ]
  },
  {
   "cell_type": "code",
   "execution_count": 191,
   "id": "47a95777",
   "metadata": {},
   "outputs": [
    {
     "data": {
      "text/plain": [
       "<AxesSubplot:xlabel='Date'>"
      ]
     },
     "execution_count": 191,
     "metadata": {},
     "output_type": "execute_result"
    },
    {
     "data": {
      "image/png": "[encoded data removed]",
      "text/plain": [
       "<Figure size 640x480 with 1 Axes>"
      ]
     },
     "metadata": {},
     "output_type": "display_data"
    }
   ],
   "source": [
    "df_tesla.resample(rule = 'A').max()['Open'].plot()"
   ]
  },
  {
   "cell_type": "code",
   "execution_count": 194,
   "id": "7541e3f8",
   "metadata": {
    "collapsed": true
   },
   "outputs": [
    {
     "data": {
      "text/html": [
       "<div>\n",
       "<style scoped>\n",
       "    .dataframe tbody tr th:only-of-type {\n",
       "        vertical-align: middle;\n",
       "    }\n",
       "\n",
       "    .dataframe tbody tr th {\n",
       "        vertical-align: top;\n",
       "    }\n",
       "\n",
       "    .dataframe thead th {\n",
       "        text-align: right;\n",
       "    }\n",
       "</style>\n",
       "<table border=\"1\" class=\"dataframe\">\n",
       "  <thead>\n",
       "    <tr style=\"text-align: right;\">\n",
       "      <th></th>\n",
       "      <th>Open</th>\n",
       "      <th>High</th>\n",
       "      <th>Low</th>\n",
       "      <th>Close</th>\n",
       "      <th>Adj Close</th>\n",
       "      <th>Volume</th>\n",
       "    </tr>\n",
       "    <tr>\n",
       "      <th>Date</th>\n",
       "      <th></th>\n",
       "      <th></th>\n",
       "      <th></th>\n",
       "      <th></th>\n",
       "      <th></th>\n",
       "      <th></th>\n",
       "    </tr>\n",
       "  </thead>\n",
       "  <tbody>\n",
       "    <tr>\n",
       "      <th>2017-01-01</th>\n",
       "      <td>18.582001</td>\n",
       "      <td>18.799999</td>\n",
       "      <td>18.480667</td>\n",
       "      <td>18.553333</td>\n",
       "      <td>18.553333</td>\n",
       "      <td>171912000</td>\n",
       "    </tr>\n",
       "    <tr>\n",
       "      <th>2017-04-01</th>\n",
       "      <td>25.779333</td>\n",
       "      <td>25.799334</td>\n",
       "      <td>25.290001</td>\n",
       "      <td>25.563334</td>\n",
       "      <td>25.563334</td>\n",
       "      <td>258921000</td>\n",
       "    </tr>\n",
       "    <tr>\n",
       "      <th>2017-07-01</th>\n",
       "      <td>25.350000</td>\n",
       "      <td>25.974001</td>\n",
       "      <td>25.178667</td>\n",
       "      <td>25.666668</td>\n",
       "      <td>25.666668</td>\n",
       "      <td>289867500</td>\n",
       "    </tr>\n",
       "    <tr>\n",
       "      <th>2017-10-01</th>\n",
       "      <td>23.798668</td>\n",
       "      <td>24.200001</td>\n",
       "      <td>23.608667</td>\n",
       "      <td>23.976667</td>\n",
       "      <td>23.976667</td>\n",
       "      <td>296871000</td>\n",
       "    </tr>\n",
       "    <tr>\n",
       "      <th>2018-01-01</th>\n",
       "      <td>24.000000</td>\n",
       "      <td>24.033333</td>\n",
       "      <td>23.490667</td>\n",
       "      <td>23.827999</td>\n",
       "      <td>23.827999</td>\n",
       "      <td>315021000</td>\n",
       "    </tr>\n",
       "    <tr>\n",
       "      <th>2018-04-01</th>\n",
       "      <td>24.344000</td>\n",
       "      <td>24.915333</td>\n",
       "      <td>23.633333</td>\n",
       "      <td>24.722000</td>\n",
       "      <td>24.722000</td>\n",
       "      <td>335211000</td>\n",
       "    </tr>\n",
       "    <tr>\n",
       "      <th>2018-07-01</th>\n",
       "      <td>24.606001</td>\n",
       "      <td>25.830667</td>\n",
       "      <td>24.474667</td>\n",
       "      <td>25.304667</td>\n",
       "      <td>25.304667</td>\n",
       "      <td>504745500</td>\n",
       "    </tr>\n",
       "    <tr>\n",
       "      <th>2018-10-01</th>\n",
       "      <td>25.000000</td>\n",
       "      <td>25.299334</td>\n",
       "      <td>24.450001</td>\n",
       "      <td>25.119333</td>\n",
       "      <td>25.119333</td>\n",
       "      <td>411382500</td>\n",
       "    </tr>\n",
       "    <tr>\n",
       "      <th>2019-01-01</th>\n",
       "      <td>23.080667</td>\n",
       "      <td>23.466667</td>\n",
       "      <td>22.943333</td>\n",
       "      <td>23.153999</td>\n",
       "      <td>23.153999</td>\n",
       "      <td>362262000</td>\n",
       "    </tr>\n",
       "    <tr>\n",
       "      <th>2019-04-01</th>\n",
       "      <td>19.219999</td>\n",
       "      <td>19.744667</td>\n",
       "      <td>19.144667</td>\n",
       "      <td>19.454000</td>\n",
       "      <td>19.454000</td>\n",
       "      <td>398206500</td>\n",
       "    </tr>\n",
       "    <tr>\n",
       "      <th>2019-07-01</th>\n",
       "      <td>17.278000</td>\n",
       "      <td>17.738001</td>\n",
       "      <td>17.210667</td>\n",
       "      <td>17.658667</td>\n",
       "      <td>17.658667</td>\n",
       "      <td>336274500</td>\n",
       "    </tr>\n",
       "    <tr>\n",
       "      <th>2019-10-01</th>\n",
       "      <td>29.000000</td>\n",
       "      <td>29.020666</td>\n",
       "      <td>28.423332</td>\n",
       "      <td>28.729334</td>\n",
       "      <td>28.729334</td>\n",
       "      <td>450091500</td>\n",
       "    </tr>\n",
       "    <tr>\n",
       "      <th>2020-01-01</th>\n",
       "      <td>61.566666</td>\n",
       "      <td>64.599335</td>\n",
       "      <td>60.068001</td>\n",
       "      <td>61.161331</td>\n",
       "      <td>61.161331</td>\n",
       "      <td>914082000</td>\n",
       "    </tr>\n",
       "    <tr>\n",
       "      <th>2020-04-01</th>\n",
       "      <td>67.518669</td>\n",
       "      <td>72.512665</td>\n",
       "      <td>66.915337</td>\n",
       "      <td>71.987335</td>\n",
       "      <td>71.987335</td>\n",
       "      <td>487977000</td>\n",
       "    </tr>\n",
       "    <tr>\n",
       "      <th>2020-07-01</th>\n",
       "      <td>167.380005</td>\n",
       "      <td>167.496674</td>\n",
       "      <td>156.836670</td>\n",
       "      <td>166.106674</td>\n",
       "      <td>166.106674</td>\n",
       "      <td>584781000</td>\n",
       "    </tr>\n",
       "    <tr>\n",
       "      <th>2020-10-01</th>\n",
       "      <td>233.330002</td>\n",
       "      <td>239.573334</td>\n",
       "      <td>230.373337</td>\n",
       "      <td>235.223328</td>\n",
       "      <td>235.223328</td>\n",
       "      <td>666378600</td>\n",
       "    </tr>\n",
       "    <tr>\n",
       "      <th>2021-01-01</th>\n",
       "      <td>297.126678</td>\n",
       "      <td>300.133331</td>\n",
       "      <td>290.533325</td>\n",
       "      <td>294.363342</td>\n",
       "      <td>294.363342</td>\n",
       "      <td>268189500</td>\n",
       "    </tr>\n",
       "    <tr>\n",
       "      <th>2021-04-01</th>\n",
       "      <td>256.899994</td>\n",
       "      <td>260.263336</td>\n",
       "      <td>244.203339</td>\n",
       "      <td>254.106674</td>\n",
       "      <td>254.106674</td>\n",
       "      <td>147052200</td>\n",
       "    </tr>\n",
       "    <tr>\n",
       "      <th>2021-07-01</th>\n",
       "      <td>262.399994</td>\n",
       "      <td>266.333344</td>\n",
       "      <td>258.333344</td>\n",
       "      <td>263.786682</td>\n",
       "      <td>263.786682</td>\n",
       "      <td>100847400</td>\n",
       "    </tr>\n",
       "    <tr>\n",
       "      <th>2021-10-01</th>\n",
       "      <td>411.470001</td>\n",
       "      <td>414.496674</td>\n",
       "      <td>405.666656</td>\n",
       "      <td>409.970001</td>\n",
       "      <td>409.970001</td>\n",
       "      <td>188556300</td>\n",
       "    </tr>\n",
       "    <tr>\n",
       "      <th>2022-01-01</th>\n",
       "      <td>396.516663</td>\n",
       "      <td>402.666656</td>\n",
       "      <td>378.679993</td>\n",
       "      <td>399.926666</td>\n",
       "      <td>399.926666</td>\n",
       "      <td>151565700</td>\n",
       "    </tr>\n",
       "  </tbody>\n",
       "</table>\n",
       "</div>"
      ],
      "text/plain": [
       "                  Open        High         Low       Close   Adj Close  \\\n",
       "Date                                                                     \n",
       "2017-01-01   18.582001   18.799999   18.480667   18.553333   18.553333   \n",
       "2017-04-01   25.779333   25.799334   25.290001   25.563334   25.563334   \n",
       "2017-07-01   25.350000   25.974001   25.178667   25.666668   25.666668   \n",
       "2017-10-01   23.798668   24.200001   23.608667   23.976667   23.976667   \n",
       "2018-01-01   24.000000   24.033333   23.490667   23.827999   23.827999   \n",
       "2018-04-01   24.344000   24.915333   23.633333   24.722000   24.722000   \n",
       "2018-07-01   24.606001   25.830667   24.474667   25.304667   25.304667   \n",
       "2018-10-01   25.000000   25.299334   24.450001   25.119333   25.119333   \n",
       "2019-01-01   23.080667   23.466667   22.943333   23.153999   23.153999   \n",
       "2019-04-01   19.219999   19.744667   19.144667   19.454000   19.454000   \n",
       "2019-07-01   17.278000   17.738001   17.210667   17.658667   17.658667   \n",
       "2019-10-01   29.000000   29.020666   28.423332   28.729334   28.729334   \n",
       "2020-01-01   61.566666   64.599335   60.068001   61.161331   61.161331   \n",
       "2020-04-01   67.518669   72.512665   66.915337   71.987335   71.987335   \n",
       "2020-07-01  167.380005  167.496674  156.836670  166.106674  166.106674   \n",
       "2020-10-01  233.330002  239.573334  230.373337  235.223328  235.223328   \n",
       "2021-01-01  297.126678  300.133331  290.533325  294.363342  294.363342   \n",
       "2021-04-01  256.899994  260.263336  244.203339  254.106674  254.106674   \n",
       "2021-07-01  262.399994  266.333344  258.333344  263.786682  263.786682   \n",
       "2021-10-01  411.470001  414.496674  405.666656  409.970001  409.970001   \n",
       "2022-01-01  396.516663  402.666656  378.679993  399.926666  399.926666   \n",
       "\n",
       "               Volume  \n",
       "Date                   \n",
       "2017-01-01  171912000  \n",
       "2017-04-01  258921000  \n",
       "2017-07-01  289867500  \n",
       "2017-10-01  296871000  \n",
       "2018-01-01  315021000  \n",
       "2018-04-01  335211000  \n",
       "2018-07-01  504745500  \n",
       "2018-10-01  411382500  \n",
       "2019-01-01  362262000  \n",
       "2019-04-01  398206500  \n",
       "2019-07-01  336274500  \n",
       "2019-10-01  450091500  \n",
       "2020-01-01  914082000  \n",
       "2020-04-01  487977000  \n",
       "2020-07-01  584781000  \n",
       "2020-10-01  666378600  \n",
       "2021-01-01  268189500  \n",
       "2021-04-01  147052200  \n",
       "2021-07-01  100847400  \n",
       "2021-10-01  188556300  \n",
       "2022-01-01  151565700  "
      ]
     },
     "execution_count": 194,
     "metadata": {},
     "output_type": "execute_result"
    }
   ],
   "source": [
    "##Quarterly\n",
    "df_tesla.resample(rule = 'QS').max()"
   ]
  },
  {
   "cell_type": "code",
   "execution_count": 196,
   "id": "ac128af7",
   "metadata": {},
   "outputs": [
    {
     "data": {
      "text/plain": [
       "<AxesSubplot:xlabel='Date'>"
      ]
     },
     "execution_count": 196,
     "metadata": {},
     "output_type": "execute_result"
    },
    {
     "data": {
      "image/png": "[encoded data removed]",
      "text/plain": [
       "<Figure size 640x480 with 1 Axes>"
      ]
     },
     "metadata": {},
     "output_type": "display_data"
    }
   ],
   "source": [
    "df_tesla.resample(rule = 'QS').max()['High'].plot()"
   ]
  },
  {
   "cell_type": "code",
   "execution_count": 197,
   "id": "71d3a30e",
   "metadata": {},
   "outputs": [
    {
     "data": {
      "text/html": [
       "<div>\n",
       "<style scoped>\n",
       "    .dataframe tbody tr th:only-of-type {\n",
       "        vertical-align: middle;\n",
       "    }\n",
       "\n",
       "    .dataframe tbody tr th {\n",
       "        vertical-align: top;\n",
       "    }\n",
       "\n",
       "    .dataframe thead th {\n",
       "        text-align: right;\n",
       "    }\n",
       "</style>\n",
       "<table border=\"1\" class=\"dataframe\">\n",
       "  <thead>\n",
       "    <tr style=\"text-align: right;\">\n",
       "      <th></th>\n",
       "      <th>Open</th>\n",
       "      <th>High</th>\n",
       "      <th>Low</th>\n",
       "      <th>Close</th>\n",
       "      <th>Adj Close</th>\n",
       "      <th>Volume</th>\n",
       "    </tr>\n",
       "    <tr>\n",
       "      <th>Date</th>\n",
       "      <th></th>\n",
       "      <th></th>\n",
       "      <th></th>\n",
       "      <th></th>\n",
       "      <th></th>\n",
       "      <th></th>\n",
       "    </tr>\n",
       "  </thead>\n",
       "  <tbody>\n",
       "    <tr>\n",
       "      <th>2017-12-29</th>\n",
       "      <td>25.779333</td>\n",
       "      <td>25.974001</td>\n",
       "      <td>25.290001</td>\n",
       "      <td>25.666668</td>\n",
       "      <td>25.666668</td>\n",
       "      <td>296871000</td>\n",
       "    </tr>\n",
       "    <tr>\n",
       "      <th>2018-12-31</th>\n",
       "      <td>25.000000</td>\n",
       "      <td>25.830667</td>\n",
       "      <td>24.474667</td>\n",
       "      <td>25.304667</td>\n",
       "      <td>25.304667</td>\n",
       "      <td>504745500</td>\n",
       "    </tr>\n",
       "    <tr>\n",
       "      <th>2019-12-31</th>\n",
       "      <td>29.000000</td>\n",
       "      <td>29.020666</td>\n",
       "      <td>28.423332</td>\n",
       "      <td>28.729334</td>\n",
       "      <td>28.729334</td>\n",
       "      <td>450091500</td>\n",
       "    </tr>\n",
       "    <tr>\n",
       "      <th>2020-12-31</th>\n",
       "      <td>233.330002</td>\n",
       "      <td>239.573334</td>\n",
       "      <td>230.373337</td>\n",
       "      <td>235.223328</td>\n",
       "      <td>235.223328</td>\n",
       "      <td>914082000</td>\n",
       "    </tr>\n",
       "    <tr>\n",
       "      <th>2021-12-31</th>\n",
       "      <td>411.470001</td>\n",
       "      <td>414.496674</td>\n",
       "      <td>405.666656</td>\n",
       "      <td>409.970001</td>\n",
       "      <td>409.970001</td>\n",
       "      <td>268189500</td>\n",
       "    </tr>\n",
       "    <tr>\n",
       "      <th>2022-12-30</th>\n",
       "      <td>396.516663</td>\n",
       "      <td>402.666656</td>\n",
       "      <td>378.679993</td>\n",
       "      <td>399.926666</td>\n",
       "      <td>399.926666</td>\n",
       "      <td>151565700</td>\n",
       "    </tr>\n",
       "  </tbody>\n",
       "</table>\n",
       "</div>"
      ],
      "text/plain": [
       "                  Open        High         Low       Close   Adj Close  \\\n",
       "Date                                                                     \n",
       "2017-12-29   25.779333   25.974001   25.290001   25.666668   25.666668   \n",
       "2018-12-31   25.000000   25.830667   24.474667   25.304667   25.304667   \n",
       "2019-12-31   29.000000   29.020666   28.423332   28.729334   28.729334   \n",
       "2020-12-31  233.330002  239.573334  230.373337  235.223328  235.223328   \n",
       "2021-12-31  411.470001  414.496674  405.666656  409.970001  409.970001   \n",
       "2022-12-30  396.516663  402.666656  378.679993  399.926666  399.926666   \n",
       "\n",
       "               Volume  \n",
       "Date                   \n",
       "2017-12-29  296871000  \n",
       "2018-12-31  504745500  \n",
       "2019-12-31  450091500  \n",
       "2020-12-31  914082000  \n",
       "2021-12-31  268189500  \n",
       "2022-12-30  151565700  "
      ]
     },
     "execution_count": 197,
     "metadata": {},
     "output_type": "execute_result"
    }
   ],
   "source": [
    "## Bussiness and frequency\n",
    "## See what is bussiness year over \n",
    "df_tesla.resample(rule = 'BA').max()"
   ]
  },
  {
   "cell_type": "code",
   "execution_count": 199,
   "id": "85aaf76e",
   "metadata": {},
   "outputs": [
    {
     "data": {
      "text/plain": [
       "<AxesSubplot:xlabel='Date'>"
      ]
     },
     "execution_count": 199,
     "metadata": {},
     "output_type": "execute_result"
    },
    {
     "data": {
      "image/png": "[encoded data removed]",
      "text/plain": [
       "<Figure size 640x480 with 1 Axes>"
      ]
     },
     "metadata": {},
     "output_type": "display_data"
    }
   ],
   "source": [
    "df_tesla.resample(rule = 'BA').max()['Close'].plot()"
   ]
  },
  {
   "cell_type": "code",
   "execution_count": 198,
   "id": "2db964b4",
   "metadata": {},
   "outputs": [
    {
     "data": {
      "text/html": [
       "<div>\n",
       "<style scoped>\n",
       "    .dataframe tbody tr th:only-of-type {\n",
       "        vertical-align: middle;\n",
       "    }\n",
       "\n",
       "    .dataframe tbody tr th {\n",
       "        vertical-align: top;\n",
       "    }\n",
       "\n",
       "    .dataframe thead th {\n",
       "        text-align: right;\n",
       "    }\n",
       "</style>\n",
       "<table border=\"1\" class=\"dataframe\">\n",
       "  <thead>\n",
       "    <tr style=\"text-align: right;\">\n",
       "      <th></th>\n",
       "      <th>Open</th>\n",
       "      <th>High</th>\n",
       "      <th>Low</th>\n",
       "      <th>Close</th>\n",
       "      <th>Adj Close</th>\n",
       "      <th>Volume</th>\n",
       "    </tr>\n",
       "    <tr>\n",
       "      <th>Date</th>\n",
       "      <th></th>\n",
       "      <th></th>\n",
       "      <th></th>\n",
       "      <th></th>\n",
       "      <th></th>\n",
       "      <th></th>\n",
       "    </tr>\n",
       "  </thead>\n",
       "  <tbody>\n",
       "    <tr>\n",
       "      <th>2017-01-02</th>\n",
       "      <td>18.582001</td>\n",
       "      <td>18.799999</td>\n",
       "      <td>18.480667</td>\n",
       "      <td>18.553333</td>\n",
       "      <td>18.553333</td>\n",
       "      <td>171912000</td>\n",
       "    </tr>\n",
       "    <tr>\n",
       "      <th>2017-04-03</th>\n",
       "      <td>25.779333</td>\n",
       "      <td>25.799334</td>\n",
       "      <td>25.290001</td>\n",
       "      <td>25.563334</td>\n",
       "      <td>25.563334</td>\n",
       "      <td>258921000</td>\n",
       "    </tr>\n",
       "    <tr>\n",
       "      <th>2017-07-03</th>\n",
       "      <td>25.350000</td>\n",
       "      <td>25.974001</td>\n",
       "      <td>25.178667</td>\n",
       "      <td>25.666668</td>\n",
       "      <td>25.666668</td>\n",
       "      <td>289867500</td>\n",
       "    </tr>\n",
       "    <tr>\n",
       "      <th>2017-10-02</th>\n",
       "      <td>23.798668</td>\n",
       "      <td>24.200001</td>\n",
       "      <td>23.608667</td>\n",
       "      <td>23.976667</td>\n",
       "      <td>23.976667</td>\n",
       "      <td>296871000</td>\n",
       "    </tr>\n",
       "    <tr>\n",
       "      <th>2018-01-01</th>\n",
       "      <td>24.000000</td>\n",
       "      <td>24.033333</td>\n",
       "      <td>23.490667</td>\n",
       "      <td>23.827999</td>\n",
       "      <td>23.827999</td>\n",
       "      <td>315021000</td>\n",
       "    </tr>\n",
       "    <tr>\n",
       "      <th>2018-04-02</th>\n",
       "      <td>24.344000</td>\n",
       "      <td>24.915333</td>\n",
       "      <td>23.633333</td>\n",
       "      <td>24.722000</td>\n",
       "      <td>24.722000</td>\n",
       "      <td>335211000</td>\n",
       "    </tr>\n",
       "    <tr>\n",
       "      <th>2018-07-02</th>\n",
       "      <td>24.606001</td>\n",
       "      <td>25.830667</td>\n",
       "      <td>24.474667</td>\n",
       "      <td>25.304667</td>\n",
       "      <td>25.304667</td>\n",
       "      <td>504745500</td>\n",
       "    </tr>\n",
       "    <tr>\n",
       "      <th>2018-10-01</th>\n",
       "      <td>25.000000</td>\n",
       "      <td>25.299334</td>\n",
       "      <td>24.450001</td>\n",
       "      <td>25.119333</td>\n",
       "      <td>25.119333</td>\n",
       "      <td>411382500</td>\n",
       "    </tr>\n",
       "    <tr>\n",
       "      <th>2019-01-01</th>\n",
       "      <td>23.080667</td>\n",
       "      <td>23.466667</td>\n",
       "      <td>22.943333</td>\n",
       "      <td>23.153999</td>\n",
       "      <td>23.153999</td>\n",
       "      <td>362262000</td>\n",
       "    </tr>\n",
       "    <tr>\n",
       "      <th>2019-04-01</th>\n",
       "      <td>19.219999</td>\n",
       "      <td>19.744667</td>\n",
       "      <td>19.144667</td>\n",
       "      <td>19.454000</td>\n",
       "      <td>19.454000</td>\n",
       "      <td>398206500</td>\n",
       "    </tr>\n",
       "    <tr>\n",
       "      <th>2019-07-01</th>\n",
       "      <td>17.278000</td>\n",
       "      <td>17.738001</td>\n",
       "      <td>17.210667</td>\n",
       "      <td>17.658667</td>\n",
       "      <td>17.658667</td>\n",
       "      <td>336274500</td>\n",
       "    </tr>\n",
       "    <tr>\n",
       "      <th>2019-10-01</th>\n",
       "      <td>29.000000</td>\n",
       "      <td>29.020666</td>\n",
       "      <td>28.423332</td>\n",
       "      <td>28.729334</td>\n",
       "      <td>28.729334</td>\n",
       "      <td>450091500</td>\n",
       "    </tr>\n",
       "    <tr>\n",
       "      <th>2020-01-01</th>\n",
       "      <td>61.566666</td>\n",
       "      <td>64.599335</td>\n",
       "      <td>60.068001</td>\n",
       "      <td>61.161331</td>\n",
       "      <td>61.161331</td>\n",
       "      <td>914082000</td>\n",
       "    </tr>\n",
       "    <tr>\n",
       "      <th>2020-04-01</th>\n",
       "      <td>67.518669</td>\n",
       "      <td>72.512665</td>\n",
       "      <td>66.915337</td>\n",
       "      <td>71.987335</td>\n",
       "      <td>71.987335</td>\n",
       "      <td>487977000</td>\n",
       "    </tr>\n",
       "    <tr>\n",
       "      <th>2020-07-01</th>\n",
       "      <td>167.380005</td>\n",
       "      <td>167.496674</td>\n",
       "      <td>156.836670</td>\n",
       "      <td>166.106674</td>\n",
       "      <td>166.106674</td>\n",
       "      <td>584781000</td>\n",
       "    </tr>\n",
       "    <tr>\n",
       "      <th>2020-10-01</th>\n",
       "      <td>233.330002</td>\n",
       "      <td>239.573334</td>\n",
       "      <td>230.373337</td>\n",
       "      <td>235.223328</td>\n",
       "      <td>235.223328</td>\n",
       "      <td>666378600</td>\n",
       "    </tr>\n",
       "    <tr>\n",
       "      <th>2021-01-01</th>\n",
       "      <td>297.126678</td>\n",
       "      <td>300.133331</td>\n",
       "      <td>290.533325</td>\n",
       "      <td>294.363342</td>\n",
       "      <td>294.363342</td>\n",
       "      <td>268189500</td>\n",
       "    </tr>\n",
       "    <tr>\n",
       "      <th>2021-04-01</th>\n",
       "      <td>256.899994</td>\n",
       "      <td>260.263336</td>\n",
       "      <td>244.203339</td>\n",
       "      <td>254.106674</td>\n",
       "      <td>254.106674</td>\n",
       "      <td>147052200</td>\n",
       "    </tr>\n",
       "    <tr>\n",
       "      <th>2021-07-01</th>\n",
       "      <td>262.399994</td>\n",
       "      <td>266.333344</td>\n",
       "      <td>258.333344</td>\n",
       "      <td>263.786682</td>\n",
       "      <td>263.786682</td>\n",
       "      <td>100847400</td>\n",
       "    </tr>\n",
       "    <tr>\n",
       "      <th>2021-10-01</th>\n",
       "      <td>411.470001</td>\n",
       "      <td>414.496674</td>\n",
       "      <td>405.666656</td>\n",
       "      <td>409.970001</td>\n",
       "      <td>409.970001</td>\n",
       "      <td>188556300</td>\n",
       "    </tr>\n",
       "    <tr>\n",
       "      <th>2022-01-03</th>\n",
       "      <td>396.516663</td>\n",
       "      <td>402.666656</td>\n",
       "      <td>378.679993</td>\n",
       "      <td>399.926666</td>\n",
       "      <td>399.926666</td>\n",
       "      <td>151565700</td>\n",
       "    </tr>\n",
       "  </tbody>\n",
       "</table>\n",
       "</div>"
      ],
      "text/plain": [
       "                  Open        High         Low       Close   Adj Close  \\\n",
       "Date                                                                     \n",
       "2017-01-02   18.582001   18.799999   18.480667   18.553333   18.553333   \n",
       "2017-04-03   25.779333   25.799334   25.290001   25.563334   25.563334   \n",
       "2017-07-03   25.350000   25.974001   25.178667   25.666668   25.666668   \n",
       "2017-10-02   23.798668   24.200001   23.608667   23.976667   23.976667   \n",
       "2018-01-01   24.000000   24.033333   23.490667   23.827999   23.827999   \n",
       "2018-04-02   24.344000   24.915333   23.633333   24.722000   24.722000   \n",
       "2018-07-02   24.606001   25.830667   24.474667   25.304667   25.304667   \n",
       "2018-10-01   25.000000   25.299334   24.450001   25.119333   25.119333   \n",
       "2019-01-01   23.080667   23.466667   22.943333   23.153999   23.153999   \n",
       "2019-04-01   19.219999   19.744667   19.144667   19.454000   19.454000   \n",
       "2019-07-01   17.278000   17.738001   17.210667   17.658667   17.658667   \n",
       "2019-10-01   29.000000   29.020666   28.423332   28.729334   28.729334   \n",
       "2020-01-01   61.566666   64.599335   60.068001   61.161331   61.161331   \n",
       "2020-04-01   67.518669   72.512665   66.915337   71.987335   71.987335   \n",
       "2020-07-01  167.380005  167.496674  156.836670  166.106674  166.106674   \n",
       "2020-10-01  233.330002  239.573334  230.373337  235.223328  235.223328   \n",
       "2021-01-01  297.126678  300.133331  290.533325  294.363342  294.363342   \n",
       "2021-04-01  256.899994  260.263336  244.203339  254.106674  254.106674   \n",
       "2021-07-01  262.399994  266.333344  258.333344  263.786682  263.786682   \n",
       "2021-10-01  411.470001  414.496674  405.666656  409.970001  409.970001   \n",
       "2022-01-03  396.516663  402.666656  378.679993  399.926666  399.926666   \n",
       "\n",
       "               Volume  \n",
       "Date                   \n",
       "2017-01-02  171912000  \n",
       "2017-04-03  258921000  \n",
       "2017-07-03  289867500  \n",
       "2017-10-02  296871000  \n",
       "2018-01-01  315021000  \n",
       "2018-04-02  335211000  \n",
       "2018-07-02  504745500  \n",
       "2018-10-01  411382500  \n",
       "2019-01-01  362262000  \n",
       "2019-04-01  398206500  \n",
       "2019-07-01  336274500  \n",
       "2019-10-01  450091500  \n",
       "2020-01-01  914082000  \n",
       "2020-04-01  487977000  \n",
       "2020-07-01  584781000  \n",
       "2020-10-01  666378600  \n",
       "2021-01-01  268189500  \n",
       "2021-04-01  147052200  \n",
       "2021-07-01  100847400  \n",
       "2021-10-01  188556300  \n",
       "2022-01-03  151565700  "
      ]
     },
     "execution_count": 198,
     "metadata": {},
     "output_type": "execute_result"
    }
   ],
   "source": [
    "## Bussiness quarter\n",
    "df_tesla.resample(rule = 'BQS').max()"
   ]
  },
  {
   "cell_type": "code",
   "execution_count": 201,
   "id": "dec684f8",
   "metadata": {},
   "outputs": [
    {
     "data": {
      "text/plain": [
       "<AxesSubplot:xlabel='Date'>"
      ]
     },
     "execution_count": 201,
     "metadata": {},
     "output_type": "execute_result"
    },
    {
     "data": {
      "image/png": "[encoded data removed]",
      "text/plain": [
       "<Figure size 640x480 with 1 Axes>"
      ]
     },
     "metadata": {},
     "output_type": "display_data"
    }
   ],
   "source": [
    "df_tesla.resample(rule = 'BQS').max()['Open'].plot()"
   ]
  },
  {
   "cell_type": "code",
   "execution_count": 203,
   "id": "45354a1f",
   "metadata": {},
   "outputs": [
    {
     "data": {
      "text/plain": [
       "<AxesSubplot:xlabel='Date'>"
      ]
     },
     "execution_count": 203,
     "metadata": {},
     "output_type": "execute_result"
    },
    {
     "data": {
      "image/png": "[encoded data removed]",
      "text/plain": [
       "<Figure size 640x480 with 1 Axes>"
      ]
     },
     "metadata": {},
     "output_type": "display_data"
    }
   ],
   "source": [
    "## plotting\n",
    "df_tesla['Open'].resample(rule = 'BA').mean().plot(kind = 'bar')"
   ]
  },
  {
   "cell_type": "code",
   "execution_count": 204,
   "id": "67a941c3",
   "metadata": {},
   "outputs": [
    {
     "data": {
      "text/plain": [
       "<AxesSubplot:xlabel='Date'>"
      ]
     },
     "execution_count": 204,
     "metadata": {},
     "output_type": "execute_result"
    },
    {
     "data": {
      "image/png": "[encoded data removed]",
      "text/plain": [
       "<Figure size 640x480 with 1 Axes>"
      ]
     },
     "metadata": {},
     "output_type": "display_data"
    }
   ],
   "source": [
    "df_tesla['Open'].resample(rule = 'A').mean().plot(kind = 'bar')"
   ]
  },
  {
   "cell_type": "code",
   "execution_count": 207,
   "id": "2f55a969",
   "metadata": {},
   "outputs": [
    {
     "data": {
      "text/plain": [
       "Date\n",
       "2017-02-28     16.544666\n",
       "2017-03-31     18.582001\n",
       "2017-04-30     20.892000\n",
       "2017-05-31     22.512667\n",
       "2017-06-30     25.779333\n",
       "                 ...    \n",
       "2021-10-31    360.619995\n",
       "2021-11-30    411.470001\n",
       "2021-12-31    386.899994\n",
       "2022-01-31    396.516663\n",
       "2022-02-28    311.736664\n",
       "Freq: M, Name: Open, Length: 61, dtype: float64"
      ]
     },
     "execution_count": 207,
     "metadata": {},
     "output_type": "execute_result"
    }
   ],
   "source": [
    "df_tesla['Open'].resample(rule = 'M').max()"
   ]
  },
  {
   "cell_type": "code",
   "execution_count": 208,
   "id": "48e0267f",
   "metadata": {},
   "outputs": [
    {
     "data": {
      "text/plain": [
       "<AxesSubplot:xlabel='Date'>"
      ]
     },
     "execution_count": 208,
     "metadata": {},
     "output_type": "execute_result"
    },
    {
     "data": {
      "image/png": "[encoded data removed]",
      "text/plain": [
       "<Figure size 640x480 with 1 Axes>"
      ]
     },
     "metadata": {},
     "output_type": "display_data"
    }
   ],
   "source": [
    "df_tesla['Open'].resample(rule = 'M').max().plot(kind = 'bar')"
   ]
  },
  {
   "cell_type": "code",
   "execution_count": 209,
   "id": "80f8044d",
   "metadata": {},
   "outputs": [
    {
     "data": {
      "text/plain": [
       "<AxesSubplot:xlabel='Date'>"
      ]
     },
     "execution_count": 209,
     "metadata": {},
     "output_type": "execute_result"
    },
    {
     "data": {
      "image/png": "[encoded data removed]",
      "text/plain": [
       "<Figure size 1500x600 with 1 Axes>"
      ]
     },
     "metadata": {},
     "output_type": "display_data"
    }
   ],
   "source": [
    "df_tesla['Open'].resample(rule = 'M').max().plot(kind = 'bar',figsize = (15,6))"
   ]
  },
  {
   "cell_type": "code",
   "execution_count": 223,
   "id": "2ecb5c5b",
   "metadata": {},
   "outputs": [
    {
     "data": {
      "text/plain": [
       "Date\n",
       "2017-02-27          NaN\n",
       "2017-02-28          NaN\n",
       "2017-03-01          NaN\n",
       "2017-03-02          NaN\n",
       "2017-03-03          NaN\n",
       "2017-03-06          NaN\n",
       "2017-03-07          NaN\n",
       "2017-03-08          NaN\n",
       "2017-03-09          NaN\n",
       "2017-03-10    16.734733\n",
       "2017-03-13    16.724667\n",
       "2017-03-14    16.772133\n",
       "2017-03-15    16.813133\n",
       "2017-03-16    16.896267\n",
       "2017-03-17    16.985800\n",
       "2017-03-20    17.071467\n",
       "2017-03-21    17.144200\n",
       "2017-03-22    17.177534\n",
       "2017-03-23    17.237600\n",
       "2017-03-24    17.353534\n",
       "Name: High, dtype: float64"
      ]
     },
     "execution_count": 223,
     "metadata": {},
     "output_type": "execute_result"
    }
   ],
   "source": [
    "## -->rolling mean\n",
    "df_tesla['High'].rolling(10).mean().head(20)"
   ]
  },
  {
   "cell_type": "code",
   "execution_count": 224,
   "id": "99863a64",
   "metadata": {},
   "outputs": [],
   "source": [
    "df_tesla['Open : 30 days rolling'] = df_tesla['Open'].rolling(30).mean()"
   ]
  },
  {
   "cell_type": "code",
   "execution_count": 227,
   "id": "8a1f7132",
   "metadata": {
    "collapsed": true
   },
   "outputs": [
    {
     "data": {
      "text/html": [
       "<div>\n",
       "<style scoped>\n",
       "    .dataframe tbody tr th:only-of-type {\n",
       "        vertical-align: middle;\n",
       "    }\n",
       "\n",
       "    .dataframe tbody tr th {\n",
       "        vertical-align: top;\n",
       "    }\n",
       "\n",
       "    .dataframe thead th {\n",
       "        text-align: right;\n",
       "    }\n",
       "</style>\n",
       "<table border=\"1\" class=\"dataframe\">\n",
       "  <thead>\n",
       "    <tr style=\"text-align: right;\">\n",
       "      <th></th>\n",
       "      <th>Open</th>\n",
       "      <th>High</th>\n",
       "      <th>Low</th>\n",
       "      <th>Close</th>\n",
       "      <th>Adj Close</th>\n",
       "      <th>Volume</th>\n",
       "      <th>Open : 30 days rolling</th>\n",
       "    </tr>\n",
       "    <tr>\n",
       "      <th>Date</th>\n",
       "      <th></th>\n",
       "      <th></th>\n",
       "      <th></th>\n",
       "      <th></th>\n",
       "      <th></th>\n",
       "      <th></th>\n",
       "      <th></th>\n",
       "    </tr>\n",
       "  </thead>\n",
       "  <tbody>\n",
       "    <tr>\n",
       "      <th>2017-02-27</th>\n",
       "      <td>16.544666</td>\n",
       "      <td>16.557333</td>\n",
       "      <td>16.134001</td>\n",
       "      <td>16.415333</td>\n",
       "      <td>16.415333</td>\n",
       "      <td>171912000</td>\n",
       "      <td>NaN</td>\n",
       "    </tr>\n",
       "    <tr>\n",
       "      <th>2017-02-28</th>\n",
       "      <td>16.279333</td>\n",
       "      <td>16.733334</td>\n",
       "      <td>16.260000</td>\n",
       "      <td>16.666000</td>\n",
       "      <td>16.666000</td>\n",
       "      <td>91171500</td>\n",
       "      <td>NaN</td>\n",
       "    </tr>\n",
       "    <tr>\n",
       "      <th>2017-03-01</th>\n",
       "      <td>16.945333</td>\n",
       "      <td>16.990000</td>\n",
       "      <td>16.607332</td>\n",
       "      <td>16.667999</td>\n",
       "      <td>16.667999</td>\n",
       "      <td>72142500</td>\n",
       "      <td>NaN</td>\n",
       "    </tr>\n",
       "    <tr>\n",
       "      <th>2017-03-02</th>\n",
       "      <td>16.647333</td>\n",
       "      <td>16.885332</td>\n",
       "      <td>16.551332</td>\n",
       "      <td>16.698668</td>\n",
       "      <td>16.698668</td>\n",
       "      <td>50277000</td>\n",
       "      <td>NaN</td>\n",
       "    </tr>\n",
       "    <tr>\n",
       "      <th>2017-03-03</th>\n",
       "      <td>16.716000</td>\n",
       "      <td>16.793333</td>\n",
       "      <td>16.600000</td>\n",
       "      <td>16.771334</td>\n",
       "      <td>16.771334</td>\n",
       "      <td>43791000</td>\n",
       "      <td>NaN</td>\n",
       "    </tr>\n",
       "    <tr>\n",
       "      <th>2017-03-06</th>\n",
       "      <td>16.527332</td>\n",
       "      <td>16.780001</td>\n",
       "      <td>16.500668</td>\n",
       "      <td>16.747334</td>\n",
       "      <td>16.747334</td>\n",
       "      <td>50332500</td>\n",
       "      <td>NaN</td>\n",
       "    </tr>\n",
       "    <tr>\n",
       "      <th>2017-03-07</th>\n",
       "      <td>16.794666</td>\n",
       "      <td>16.926001</td>\n",
       "      <td>16.554667</td>\n",
       "      <td>16.572666</td>\n",
       "      <td>16.572666</td>\n",
       "      <td>51892500</td>\n",
       "      <td>NaN</td>\n",
       "    </tr>\n",
       "    <tr>\n",
       "      <th>2017-03-08</th>\n",
       "      <td>16.466667</td>\n",
       "      <td>16.671333</td>\n",
       "      <td>16.354668</td>\n",
       "      <td>16.458000</td>\n",
       "      <td>16.458000</td>\n",
       "      <td>55878000</td>\n",
       "      <td>NaN</td>\n",
       "    </tr>\n",
       "    <tr>\n",
       "      <th>2017-03-09</th>\n",
       "      <td>16.508667</td>\n",
       "      <td>16.577333</td>\n",
       "      <td>16.200001</td>\n",
       "      <td>16.326668</td>\n",
       "      <td>16.326668</td>\n",
       "      <td>58189500</td>\n",
       "      <td>NaN</td>\n",
       "    </tr>\n",
       "    <tr>\n",
       "      <th>2017-03-10</th>\n",
       "      <td>16.414000</td>\n",
       "      <td>16.433332</td>\n",
       "      <td>16.200001</td>\n",
       "      <td>16.246000</td>\n",
       "      <td>16.246000</td>\n",
       "      <td>45994500</td>\n",
       "      <td>NaN</td>\n",
       "    </tr>\n",
       "    <tr>\n",
       "      <th>2017-03-13</th>\n",
       "      <td>16.321333</td>\n",
       "      <td>16.456667</td>\n",
       "      <td>16.185333</td>\n",
       "      <td>16.411333</td>\n",
       "      <td>16.411333</td>\n",
       "      <td>45339000</td>\n",
       "      <td>NaN</td>\n",
       "    </tr>\n",
       "    <tr>\n",
       "      <th>2017-03-14</th>\n",
       "      <td>16.407333</td>\n",
       "      <td>17.208000</td>\n",
       "      <td>16.401333</td>\n",
       "      <td>17.200001</td>\n",
       "      <td>17.200001</td>\n",
       "      <td>113976000</td>\n",
       "      <td>NaN</td>\n",
       "    </tr>\n",
       "    <tr>\n",
       "      <th>2017-03-15</th>\n",
       "      <td>17.133333</td>\n",
       "      <td>17.400000</td>\n",
       "      <td>16.951332</td>\n",
       "      <td>17.048668</td>\n",
       "      <td>17.048668</td>\n",
       "      <td>79962000</td>\n",
       "      <td>NaN</td>\n",
       "    </tr>\n",
       "    <tr>\n",
       "      <th>2017-03-16</th>\n",
       "      <td>17.493334</td>\n",
       "      <td>17.716667</td>\n",
       "      <td>17.270666</td>\n",
       "      <td>17.469999</td>\n",
       "      <td>17.469999</td>\n",
       "      <td>106983000</td>\n",
       "      <td>NaN</td>\n",
       "    </tr>\n",
       "    <tr>\n",
       "      <th>2017-03-17</th>\n",
       "      <td>17.600000</td>\n",
       "      <td>17.688667</td>\n",
       "      <td>17.413334</td>\n",
       "      <td>17.433332</td>\n",
       "      <td>17.433332</td>\n",
       "      <td>97462500</td>\n",
       "      <td>NaN</td>\n",
       "    </tr>\n",
       "    <tr>\n",
       "      <th>2017-03-20</th>\n",
       "      <td>17.373333</td>\n",
       "      <td>17.636667</td>\n",
       "      <td>17.254667</td>\n",
       "      <td>17.461332</td>\n",
       "      <td>17.461332</td>\n",
       "      <td>54214500</td>\n",
       "      <td>NaN</td>\n",
       "    </tr>\n",
       "    <tr>\n",
       "      <th>2017-03-21</th>\n",
       "      <td>17.521999</td>\n",
       "      <td>17.653334</td>\n",
       "      <td>16.682667</td>\n",
       "      <td>16.712000</td>\n",
       "      <td>16.712000</td>\n",
       "      <td>103629000</td>\n",
       "      <td>NaN</td>\n",
       "    </tr>\n",
       "    <tr>\n",
       "      <th>2017-03-22</th>\n",
       "      <td>16.770666</td>\n",
       "      <td>17.004667</td>\n",
       "      <td>16.700666</td>\n",
       "      <td>17.000668</td>\n",
       "      <td>17.000668</td>\n",
       "      <td>60889500</td>\n",
       "      <td>NaN</td>\n",
       "    </tr>\n",
       "    <tr>\n",
       "      <th>2017-03-23</th>\n",
       "      <td>17.025999</td>\n",
       "      <td>17.177999</td>\n",
       "      <td>16.886667</td>\n",
       "      <td>16.985332</td>\n",
       "      <td>16.985332</td>\n",
       "      <td>49803000</td>\n",
       "      <td>NaN</td>\n",
       "    </tr>\n",
       "    <tr>\n",
       "      <th>2017-03-24</th>\n",
       "      <td>17.046667</td>\n",
       "      <td>17.592667</td>\n",
       "      <td>17.000668</td>\n",
       "      <td>17.544001</td>\n",
       "      <td>17.544001</td>\n",
       "      <td>84709500</td>\n",
       "      <td>NaN</td>\n",
       "    </tr>\n",
       "    <tr>\n",
       "      <th>2017-03-27</th>\n",
       "      <td>17.373333</td>\n",
       "      <td>18.038000</td>\n",
       "      <td>17.316668</td>\n",
       "      <td>18.014668</td>\n",
       "      <td>18.014668</td>\n",
       "      <td>93462000</td>\n",
       "      <td>NaN</td>\n",
       "    </tr>\n",
       "    <tr>\n",
       "      <th>2017-03-28</th>\n",
       "      <td>18.468000</td>\n",
       "      <td>18.712000</td>\n",
       "      <td>18.333332</td>\n",
       "      <td>18.496668</td>\n",
       "      <td>18.496668</td>\n",
       "      <td>119814000</td>\n",
       "      <td>NaN</td>\n",
       "    </tr>\n",
       "    <tr>\n",
       "      <th>2017-03-29</th>\n",
       "      <td>18.556000</td>\n",
       "      <td>18.639999</td>\n",
       "      <td>18.369333</td>\n",
       "      <td>18.492001</td>\n",
       "      <td>18.492001</td>\n",
       "      <td>55143000</td>\n",
       "      <td>NaN</td>\n",
       "    </tr>\n",
       "    <tr>\n",
       "      <th>2017-03-30</th>\n",
       "      <td>18.535999</td>\n",
       "      <td>18.799999</td>\n",
       "      <td>18.480667</td>\n",
       "      <td>18.528000</td>\n",
       "      <td>18.528000</td>\n",
       "      <td>62226000</td>\n",
       "      <td>NaN</td>\n",
       "    </tr>\n",
       "    <tr>\n",
       "      <th>2017-03-31</th>\n",
       "      <td>18.582001</td>\n",
       "      <td>18.645332</td>\n",
       "      <td>18.421333</td>\n",
       "      <td>18.553333</td>\n",
       "      <td>18.553333</td>\n",
       "      <td>49419000</td>\n",
       "      <td>NaN</td>\n",
       "    </tr>\n",
       "    <tr>\n",
       "      <th>2017-04-03</th>\n",
       "      <td>19.126667</td>\n",
       "      <td>19.933332</td>\n",
       "      <td>18.972000</td>\n",
       "      <td>19.901333</td>\n",
       "      <td>19.901333</td>\n",
       "      <td>208329000</td>\n",
       "      <td>NaN</td>\n",
       "    </tr>\n",
       "    <tr>\n",
       "      <th>2017-04-04</th>\n",
       "      <td>19.792667</td>\n",
       "      <td>20.320667</td>\n",
       "      <td>19.635332</td>\n",
       "      <td>20.246668</td>\n",
       "      <td>20.246668</td>\n",
       "      <td>152019000</td>\n",
       "      <td>NaN</td>\n",
       "    </tr>\n",
       "    <tr>\n",
       "      <th>2017-04-05</th>\n",
       "      <td>20.136000</td>\n",
       "      <td>20.325333</td>\n",
       "      <td>19.613333</td>\n",
       "      <td>19.666668</td>\n",
       "      <td>19.666668</td>\n",
       "      <td>118213500</td>\n",
       "      <td>NaN</td>\n",
       "    </tr>\n",
       "    <tr>\n",
       "      <th>2017-04-06</th>\n",
       "      <td>19.792000</td>\n",
       "      <td>20.129333</td>\n",
       "      <td>19.606667</td>\n",
       "      <td>19.913334</td>\n",
       "      <td>19.913334</td>\n",
       "      <td>82809000</td>\n",
       "      <td>NaN</td>\n",
       "    </tr>\n",
       "    <tr>\n",
       "      <th>2017-04-07</th>\n",
       "      <td>19.833332</td>\n",
       "      <td>20.179333</td>\n",
       "      <td>19.809999</td>\n",
       "      <td>20.169333</td>\n",
       "      <td>20.169333</td>\n",
       "      <td>68694000</td>\n",
       "      <td>17.557800</td>\n",
       "    </tr>\n",
       "    <tr>\n",
       "      <th>2017-04-10</th>\n",
       "      <td>20.610001</td>\n",
       "      <td>20.915333</td>\n",
       "      <td>20.580667</td>\n",
       "      <td>20.826000</td>\n",
       "      <td>20.826000</td>\n",
       "      <td>114967500</td>\n",
       "      <td>17.693311</td>\n",
       "    </tr>\n",
       "    <tr>\n",
       "      <th>2017-04-11</th>\n",
       "      <td>20.892000</td>\n",
       "      <td>20.898001</td>\n",
       "      <td>20.366667</td>\n",
       "      <td>20.580667</td>\n",
       "      <td>20.580667</td>\n",
       "      <td>85869000</td>\n",
       "      <td>17.847067</td>\n",
       "    </tr>\n",
       "    <tr>\n",
       "      <th>2017-04-12</th>\n",
       "      <td>20.422667</td>\n",
       "      <td>20.563334</td>\n",
       "      <td>19.754667</td>\n",
       "      <td>19.789333</td>\n",
       "      <td>19.789333</td>\n",
       "      <td>90760500</td>\n",
       "      <td>17.962978</td>\n",
       "    </tr>\n",
       "    <tr>\n",
       "      <th>2017-04-13</th>\n",
       "      <td>19.780001</td>\n",
       "      <td>20.492666</td>\n",
       "      <td>19.686666</td>\n",
       "      <td>20.266666</td>\n",
       "      <td>20.266666</td>\n",
       "      <td>139269000</td>\n",
       "      <td>18.067400</td>\n",
       "    </tr>\n",
       "    <tr>\n",
       "      <th>2017-04-17</th>\n",
       "      <td>20.180000</td>\n",
       "      <td>20.266666</td>\n",
       "      <td>19.912001</td>\n",
       "      <td>20.096001</td>\n",
       "      <td>20.096001</td>\n",
       "      <td>62080500</td>\n",
       "      <td>18.182867</td>\n",
       "    </tr>\n",
       "    <tr>\n",
       "      <th>2017-04-18</th>\n",
       "      <td>19.980000</td>\n",
       "      <td>20.056000</td>\n",
       "      <td>19.860001</td>\n",
       "      <td>20.016666</td>\n",
       "      <td>20.016666</td>\n",
       "      <td>45535500</td>\n",
       "      <td>18.297956</td>\n",
       "    </tr>\n",
       "    <tr>\n",
       "      <th>2017-04-19</th>\n",
       "      <td>20.164000</td>\n",
       "      <td>20.441334</td>\n",
       "      <td>20.140667</td>\n",
       "      <td>20.368000</td>\n",
       "      <td>20.368000</td>\n",
       "      <td>58470000</td>\n",
       "      <td>18.410267</td>\n",
       "    </tr>\n",
       "    <tr>\n",
       "      <th>2017-04-20</th>\n",
       "      <td>20.434000</td>\n",
       "      <td>20.610001</td>\n",
       "      <td>20.015333</td>\n",
       "      <td>20.167334</td>\n",
       "      <td>20.167334</td>\n",
       "      <td>92241000</td>\n",
       "      <td>18.542511</td>\n",
       "    </tr>\n",
       "    <tr>\n",
       "      <th>2017-04-21</th>\n",
       "      <td>20.133333</td>\n",
       "      <td>20.426666</td>\n",
       "      <td>20.028000</td>\n",
       "      <td>20.373333</td>\n",
       "      <td>20.373333</td>\n",
       "      <td>67647000</td>\n",
       "      <td>18.663333</td>\n",
       "    </tr>\n",
       "    <tr>\n",
       "      <th>2017-04-24</th>\n",
       "      <td>20.614668</td>\n",
       "      <td>20.703333</td>\n",
       "      <td>20.401333</td>\n",
       "      <td>20.535334</td>\n",
       "      <td>20.535334</td>\n",
       "      <td>76252500</td>\n",
       "      <td>18.803356</td>\n",
       "    </tr>\n",
       "  </tbody>\n",
       "</table>\n",
       "</div>"
      ],
      "text/plain": [
       "                 Open       High        Low      Close  Adj Close     Volume  \\\n",
       "Date                                                                           \n",
       "2017-02-27  16.544666  16.557333  16.134001  16.415333  16.415333  171912000   \n",
       "2017-02-28  16.279333  16.733334  16.260000  16.666000  16.666000   91171500   \n",
       "2017-03-01  16.945333  16.990000  16.607332  16.667999  16.667999   72142500   \n",
       "2017-03-02  16.647333  16.885332  16.551332  16.698668  16.698668   50277000   \n",
       "2017-03-03  16.716000  16.793333  16.600000  16.771334  16.771334   43791000   \n",
       "2017-03-06  16.527332  16.780001  16.500668  16.747334  16.747334   50332500   \n",
       "2017-03-07  16.794666  16.926001  16.554667  16.572666  16.572666   51892500   \n",
       "2017-03-08  16.466667  16.671333  16.354668  16.458000  16.458000   55878000   \n",
       "2017-03-09  16.508667  16.577333  16.200001  16.326668  16.326668   58189500   \n",
       "2017-03-10  16.414000  16.433332  16.200001  16.246000  16.246000   45994500   \n",
       "2017-03-13  16.321333  16.456667  16.185333  16.411333  16.411333   45339000   \n",
       "2017-03-14  16.407333  17.208000  16.401333  17.200001  17.200001  113976000   \n",
       "2017-03-15  17.133333  17.400000  16.951332  17.048668  17.048668   79962000   \n",
       "2017-03-16  17.493334  17.716667  17.270666  17.469999  17.469999  106983000   \n",
       "2017-03-17  17.600000  17.688667  17.413334  17.433332  17.433332   97462500   \n",
       "2017-03-20  17.373333  17.636667  17.254667  17.461332  17.461332   54214500   \n",
       "2017-03-21  17.521999  17.653334  16.682667  16.712000  16.712000  103629000   \n",
       "2017-03-22  16.770666  17.004667  16.700666  17.000668  17.000668   60889500   \n",
       "2017-03-23  17.025999  17.177999  16.886667  16.985332  16.985332   49803000   \n",
       "2017-03-24  17.046667  17.592667  17.000668  17.544001  17.544001   84709500   \n",
       "2017-03-27  17.373333  18.038000  17.316668  18.014668  18.014668   93462000   \n",
       "2017-03-28  18.468000  18.712000  18.333332  18.496668  18.496668  119814000   \n",
       "2017-03-29  18.556000  18.639999  18.369333  18.492001  18.492001   55143000   \n",
       "2017-03-30  18.535999  18.799999  18.480667  18.528000  18.528000   62226000   \n",
       "2017-03-31  18.582001  18.645332  18.421333  18.553333  18.553333   49419000   \n",
       "2017-04-03  19.126667  19.933332  18.972000  19.901333  19.901333  208329000   \n",
       "2017-04-04  19.792667  20.320667  19.635332  20.246668  20.246668  152019000   \n",
       "2017-04-05  20.136000  20.325333  19.613333  19.666668  19.666668  118213500   \n",
       "2017-04-06  19.792000  20.129333  19.606667  19.913334  19.913334   82809000   \n",
       "2017-04-07  19.833332  20.179333  19.809999  20.169333  20.169333   68694000   \n",
       "2017-04-10  20.610001  20.915333  20.580667  20.826000  20.826000  114967500   \n",
       "2017-04-11  20.892000  20.898001  20.366667  20.580667  20.580667   85869000   \n",
       "2017-04-12  20.422667  20.563334  19.754667  19.789333  19.789333   90760500   \n",
       "2017-04-13  19.780001  20.492666  19.686666  20.266666  20.266666  139269000   \n",
       "2017-04-17  20.180000  20.266666  19.912001  20.096001  20.096001   62080500   \n",
       "2017-04-18  19.980000  20.056000  19.860001  20.016666  20.016666   45535500   \n",
       "2017-04-19  20.164000  20.441334  20.140667  20.368000  20.368000   58470000   \n",
       "2017-04-20  20.434000  20.610001  20.015333  20.167334  20.167334   92241000   \n",
       "2017-04-21  20.133333  20.426666  20.028000  20.373333  20.373333   67647000   \n",
       "2017-04-24  20.614668  20.703333  20.401333  20.535334  20.535334   76252500   \n",
       "\n",
       "            Open : 30 days rolling  \n",
       "Date                                \n",
       "2017-02-27                     NaN  \n",
       "2017-02-28                     NaN  \n",
       "2017-03-01                     NaN  \n",
       "2017-03-02                     NaN  \n",
       "2017-03-03                     NaN  \n",
       "2017-03-06                     NaN  \n",
       "2017-03-07                     NaN  \n",
       "2017-03-08                     NaN  \n",
       "2017-03-09                     NaN  \n",
       "2017-03-10                     NaN  \n",
       "2017-03-13                     NaN  \n",
       "2017-03-14                     NaN  \n",
       "2017-03-15                     NaN  \n",
       "2017-03-16                     NaN  \n",
       "2017-03-17                     NaN  \n",
       "2017-03-20                     NaN  \n",
       "2017-03-21                     NaN  \n",
       "2017-03-22                     NaN  \n",
       "2017-03-23                     NaN  \n",
       "2017-03-24                     NaN  \n",
       "2017-03-27                     NaN  \n",
       "2017-03-28                     NaN  \n",
       "2017-03-29                     NaN  \n",
       "2017-03-30                     NaN  \n",
       "2017-03-31                     NaN  \n",
       "2017-04-03                     NaN  \n",
       "2017-04-04                     NaN  \n",
       "2017-04-05                     NaN  \n",
       "2017-04-06                     NaN  \n",
       "2017-04-07               17.557800  \n",
       "2017-04-10               17.693311  \n",
       "2017-04-11               17.847067  \n",
       "2017-04-12               17.962978  \n",
       "2017-04-13               18.067400  \n",
       "2017-04-17               18.182867  \n",
       "2017-04-18               18.297956  \n",
       "2017-04-19               18.410267  \n",
       "2017-04-20               18.542511  \n",
       "2017-04-21               18.663333  \n",
       "2017-04-24               18.803356  "
      ]
     },
     "execution_count": 227,
     "metadata": {},
     "output_type": "execute_result"
    }
   ],
   "source": [
    "df_tesla.head(40)"
   ]
  },
  {
   "cell_type": "code",
   "execution_count": 228,
   "id": "931bef2a",
   "metadata": {},
   "outputs": [
    {
     "data": {
      "text/plain": [
       "<AxesSubplot:xlabel='Date'>"
      ]
     },
     "execution_count": 228,
     "metadata": {},
     "output_type": "execute_result"
    },
    {
     "data": {
      "image/png": "[encoded data removed]",
      "text/plain": [
       "<Figure size 1200x500 with 1 Axes>"
      ]
     },
     "metadata": {},
     "output_type": "display_data"
    }
   ],
   "source": [
    "df_tesla[['Open','Open : 30 days rolling']].plot(figsize = (12,5))"
   ]
  },
  {
   "cell_type": "raw",
   "id": "a8cc27f5",
   "metadata": {},
   "source": [
    "## Assignment \n",
    "1.Read the microsoft dat using Pandas Data Reader \n",
    "2.Get the maximum prize of the share from 2017 to 2022\n",
    "3.Which is the date of the highest price of the stock?\n",
    "4.Which is the date of the lowest price of the stock?"
   ]
  },
  {
   "cell_type": "code",
   "execution_count": null,
   "id": "4d78547c",
   "metadata": {},
   "outputs": [],
   "source": [
    "Basic ideaa of time series data\n",
    "1.Upward trend\n",
    "2.Stationary data\n",
    "3.Downward trend\n",
    "4.Cyclic Data"
   ]
  },
  {
   "cell_type": "code",
   "execution_count": null,
   "id": "06669018",
   "metadata": {},
   "outputs": [],
   "source": []
  },
  {
   "cell_type": "code",
   "execution_count": null,
   "id": "049cb5c4",
   "metadata": {},
   "outputs": [],
   "source": []
  },
  {
   "cell_type": "code",
   "execution_count": null,
   "id": "5d22fee3",
   "metadata": {},
   "outputs": [],
   "source": []
  },
  {
   "cell_type": "code",
   "execution_count": null,
   "id": "d708ca3a",
   "metadata": {},
   "outputs": [],
   "source": []
  },
  {
   "cell_type": "code",
   "execution_count": null,
   "id": "cc42eeec",
   "metadata": {},
   "outputs": [],
   "source": []
  },
  {
   "cell_type": "code",
   "execution_count": null,
   "id": "644ec7a6",
   "metadata": {},
   "outputs": [],
   "source": []
  },
  {
   "cell_type": "code",
   "execution_count": null,
   "id": "915a995c",
   "metadata": {},
   "outputs": [],
   "source": []
  },
  {
   "cell_type": "code",
   "execution_count": null,
   "id": "5ddc3030",
   "metadata": {},
   "outputs": [],
   "source": []
  },
  {
   "cell_type": "code",
   "execution_count": null,
   "id": "e91fa04b",
   "metadata": {},
   "outputs": [],
   "source": []
  },
  {
   "cell_type": "code",
   "execution_count": null,
   "id": "8344a298",
   "metadata": {},
   "outputs": [],
   "source": []
  },
  {
   "cell_type": "code",
   "execution_count": null,
   "id": "cfdd58d1",
   "metadata": {},
   "outputs": [],
   "source": []
  },
  {
   "cell_type": "code",
   "execution_count": null,
   "id": "bc48b2c2",
   "metadata": {},
   "outputs": [],
   "source": []
  }
 ],
 "metadata": {
  "kernelspec": {
   "display_name": "Python 3 (ipykernel)",
   "language": "python",
   "name": "python3"
  },
  "language_info": {
   "codemirror_mode": {
    "name": "ipython",
    "version": 3
   },
   "file_extension": ".py",
   "mimetype": "text/x-python",
   "name": "python",
   "nbconvert_exporter": "python",
   "pygments_lexer": "ipython3",
   "version": "3.9.13"
  }
 },
 "nbformat": 4,
 "nbformat_minor": 5
}
