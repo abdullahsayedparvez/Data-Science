{
 "cells": [
  {
   "cell_type": "raw",
   "id": "16dd8379",
   "metadata": {},
   "source": [
    "Topics Covers :\n",
    "1.Tokenization --> Convert paragraph into sentences on main paragraph\n",
    "2.Stemming --> Helps to find the base words examples\n",
    "3.Lemmatization --> Helps to find the proper meaningfull base words examples\n",
    "4.Cleaning is done with the help of regular expression in main sentences (removing all words which is not from 'A' to 'Z')\n",
    "5.Applying stemming in corpus variable in above cell\n",
    "6.Applying Lemmitization in corpus variable in above cell\n",
    "7.bag of words (BOW) \n",
    "  in (BOW) applying Stopwords.lemmitizer"
   ]
  },
  {
   "cell_type": "code",
   "execution_count": 32,
   "id": "a5f6a8ca",
   "metadata": {},
   "outputs": [],
   "source": [
    "# pip install nltk"
   ]
  },
  {
   "cell_type": "code",
   "execution_count": 33,
   "id": "008dba99",
   "metadata": {},
   "outputs": [],
   "source": [
    "paragraph = \"Narendra Damodardas Modi (Gujarati: [ˈnəɾendɾə dɑmodəɾˈdɑs ˈmodiː] (listen); born 17 September 1950)[b] is an Indian politician serving as the 14th and current prime minister of India since May 2014. Modi was the chief minister of Gujarat from 2001 to 2014 and is the Member of Parliament from Varanasi. He is a member of the Bharatiya Janata Party (BJP) and of the Rashtriya Swayamsevak Sangh (RSS), a right-wing Hindu nationalist paramilitary volunteer organisation. He is the longest serving prime minister from outside the Indian National Congress.Modi was born and raised in Vadnagar in northeastern Gujarat, where he completed his secondary education. He was introduced to the RSS at age eight. He has reminisced about helping out after school at his father's tea stall at the Vadnagar railway station. At age 18, he was married to Jashodaben Chimanlal Modi, whom he abandoned soon after. He first publicly acknowledged her as his wife more than four decades later when required to do so by Indian law, but has made no contact with her since. Modi has asserted he had travelled in northern India for two years after leaving his parental home, visiting a number of religious centres, but few details of his travels have emerged. Upon his return to Gujarat in 1971, he became a full-time worker for the RSS. After the state of emergency was declared by Prime Minister Indira Gandhi in 1975, he went into hiding. The RSS assigned him to the BJP in 1985 and he held several positions within the party hierarchy until 2001, rising to the rank of general secretary.\""
   ]
  },
  {
   "cell_type": "code",
   "execution_count": 34,
   "id": "9a9dc98f",
   "metadata": {},
   "outputs": [
    {
     "data": {
      "text/plain": [
       "\"Narendra Damodardas Modi (Gujarati: [ˈnəɾendɾə dɑmodəɾˈdɑs ˈmodiː] (listen); born 17 September 1950)[b] is an Indian politician serving as the 14th and current prime minister of India since May 2014. Modi was the chief minister of Gujarat from 2001 to 2014 and is the Member of Parliament from Varanasi. He is a member of the Bharatiya Janata Party (BJP) and of the Rashtriya Swayamsevak Sangh (RSS), a right-wing Hindu nationalist paramilitary volunteer organisation. He is the longest serving prime minister from outside the Indian National Congress.Modi was born and raised in Vadnagar in northeastern Gujarat, where he completed his secondary education. He was introduced to the RSS at age eight. He has reminisced about helping out after school at his father's tea stall at the Vadnagar railway station. At age 18, he was married to Jashodaben Chimanlal Modi, whom he abandoned soon after. He first publicly acknowledged her as his wife more than four decades later when required to do so by Indian law, but has made no contact with her since. Modi has asserted he had travelled in northern India for two years after leaving his parental home, visiting a number of religious centres, but few details of his travels have emerged. Upon his return to Gujarat in 1971, he became a full-time worker for the RSS. After the state of emergency was declared by Prime Minister Indira Gandhi in 1975, he went into hiding. The RSS assigned him to the BJP in 1985 and he held several positions within the party hierarchy until 2001, rising to the rank of general secretary.\""
      ]
     },
     "execution_count": 34,
     "metadata": {},
     "output_type": "execute_result"
    }
   ],
   "source": [
    "paragraph"
   ]
  },
  {
   "cell_type": "markdown",
   "id": "6db373d1",
   "metadata": {},
   "source": [
    "# Tokenization --> Convert paragraph into sentences on main paragraph"
   ]
  },
  {
   "cell_type": "code",
   "execution_count": 35,
   "id": "33536c15",
   "metadata": {},
   "outputs": [],
   "source": [
    "import nltk "
   ]
  },
  {
   "cell_type": "code",
   "execution_count": 36,
   "id": "a400ef94",
   "metadata": {},
   "outputs": [
    {
     "name": "stdout",
     "output_type": "stream",
     "text": [
      "['Narendra Damodardas Modi (Gujarati: [ˈnəɾendɾə dɑmodəɾˈdɑs ˈmodiː] (listen); born 17 September 1950)[b] is an Indian politician serving as the 14th and current prime minister of India since May 2014.', 'Modi was the chief minister of Gujarat from 2001 to 2014 and is the Member of Parliament from Varanasi.', 'He is a member of the Bharatiya Janata Party (BJP) and of the Rashtriya Swayamsevak Sangh (RSS), a right-wing Hindu nationalist paramilitary volunteer organisation.', 'He is the longest serving prime minister from outside the Indian National Congress.Modi was born and raised in Vadnagar in northeastern Gujarat, where he completed his secondary education.', 'He was introduced to the RSS at age eight.', \"He has reminisced about helping out after school at his father's tea stall at the Vadnagar railway station.\", 'At age 18, he was married to Jashodaben Chimanlal Modi, whom he abandoned soon after.', 'He first publicly acknowledged her as his wife more than four decades later when required to do so by Indian law, but has made no contact with her since.', 'Modi has asserted he had travelled in northern India for two years after leaving his parental home, visiting a number of religious centres, but few details of his travels have emerged.', 'Upon his return to Gujarat in 1971, he became a full-time worker for the RSS.', 'After the state of emergency was declared by Prime Minister Indira Gandhi in 1975, he went into hiding.', 'The RSS assigned him to the BJP in 1985 and he held several positions within the party hierarchy until 2001, rising to the rank of general secretary.']\n"
     ]
    },
    {
     "name": "stderr",
     "output_type": "stream",
     "text": [
      "[nltk_data] Downloading package punkt to\n",
      "[nltk_data]     C:\\Users\\admin\\AppData\\Roaming\\nltk_data...\n",
      "[nltk_data]   Package punkt is already up-to-date!\n"
     ]
    }
   ],
   "source": [
    "nltk.download('punkt')  #it is a package which help nltk to convert the paragraph into sentences\n",
    "sentences = nltk.sent_tokenize(paragraph)   #help to convert the paragraph into sentences\n",
    "print(sentences)"
   ]
  },
  {
   "cell_type": "markdown",
   "id": "d6ef2aba",
   "metadata": {},
   "source": [
    "# Stemming --> Helps to find the base words examples"
   ]
  },
  {
   "cell_type": "code",
   "execution_count": 37,
   "id": "0f0bccf6",
   "metadata": {},
   "outputs": [],
   "source": [
    "from nltk.stem import PorterStemmer   # Stemming is done from this librtaries\n",
    "from nltk.corpus import stopwords    # stopwords is done from this librtaries"
   ]
  },
  {
   "cell_type": "code",
   "execution_count": 38,
   "id": "c85823ef",
   "metadata": {},
   "outputs": [],
   "source": [
    "stemmer = PorterStemmer()"
   ]
  },
  {
   "cell_type": "code",
   "execution_count": 39,
   "id": "c2a0c6b7",
   "metadata": {},
   "outputs": [
    {
     "name": "stdout",
     "output_type": "stream",
     "text": [
      "go\n",
      "histor\n"
     ]
    }
   ],
   "source": [
    "# It is the way to find the base word \n",
    "stemmer1 = stemmer.stem('going')\n",
    "stemmer2 = stemmer.stem('historical')\n",
    "print(stemmer1)\n",
    "print(stemmer2)"
   ]
  },
  {
   "cell_type": "markdown",
   "id": "f1366381",
   "metadata": {},
   "source": [
    "# Lemmatization --> Helps to find the proper meaningfull  base words  examples"
   ]
  },
  {
   "cell_type": "code",
   "execution_count": 40,
   "id": "fbf4d463",
   "metadata": {},
   "outputs": [
    {
     "name": "stderr",
     "output_type": "stream",
     "text": [
      "[nltk_data] Downloading package wordnet to\n",
      "[nltk_data]     C:\\Users\\admin\\AppData\\Roaming\\nltk_data...\n",
      "[nltk_data]   Package wordnet is already up-to-date!\n"
     ]
    },
    {
     "data": {
      "text/plain": [
       "True"
      ]
     },
     "execution_count": 40,
     "metadata": {},
     "output_type": "execute_result"
    }
   ],
   "source": [
    "from nltk.stem import WordNetLemmatizer\n",
    "import nltk\n",
    "nltk.download('wordnet')"
   ]
  },
  {
   "cell_type": "code",
   "execution_count": 41,
   "id": "80e7b6a8",
   "metadata": {},
   "outputs": [],
   "source": [
    "lemmatizer = WordNetLemmatizer()"
   ]
  },
  {
   "cell_type": "code",
   "execution_count": 42,
   "id": "a1b76262",
   "metadata": {},
   "outputs": [
    {
     "name": "stdout",
     "output_type": "stream",
     "text": [
      "go\n",
      "historical\n"
     ]
    }
   ],
   "source": [
    "lemmatizer1 = lemmatizer.lemmatize('goes')\n",
    "lemmatizer2 = lemmatizer.lemmatize('historical')\n",
    "print(lemmatizer1)\n",
    "print(lemmatizer2)\n"
   ]
  },
  {
   "cell_type": "markdown",
   "id": "54dd6fa7",
   "metadata": {},
   "source": [
    "# Cleaning is done with the help of regular expression in main sentences\n",
    "removing all words which is not from 'A' to 'Z'"
   ]
  },
  {
   "cell_type": "code",
   "execution_count": 43,
   "id": "531f6e14",
   "metadata": {},
   "outputs": [
    {
     "name": "stdout",
     "output_type": "stream",
     "text": [
      "12\n"
     ]
    }
   ],
   "source": [
    "import re\n",
    "print(len(sentences))\n",
    "corpus = []\n",
    "for i in range(len(sentences)):\n",
    "    review = re.sub('[^a-zA-Z]',' ',sentences[i]) #Return the string obtained by replacing the leftmost\n",
    "    review = review.lower()\n",
    "    corpus.append(review)"
   ]
  },
  {
   "cell_type": "code",
   "execution_count": 44,
   "id": "3c7d0e59",
   "metadata": {},
   "outputs": [
    {
     "data": {
      "text/plain": [
       "['narendra damodardas modi  gujarati    n  end   d mod   d s  modi    listen   born    september       b  is an indian politician serving as the   th and current prime minister of india since may      ',\n",
       " 'modi was the chief minister of gujarat from      to      and is the member of parliament from varanasi ',\n",
       " 'he is a member of the bharatiya janata party  bjp  and of the rashtriya swayamsevak sangh  rss   a right wing hindu nationalist paramilitary volunteer organisation ',\n",
       " 'he is the longest serving prime minister from outside the indian national congress modi was born and raised in vadnagar in northeastern gujarat  where he completed his secondary education ',\n",
       " 'he was introduced to the rss at age eight ',\n",
       " 'he has reminisced about helping out after school at his father s tea stall at the vadnagar railway station ',\n",
       " 'at age     he was married to jashodaben chimanlal modi  whom he abandoned soon after ',\n",
       " 'he first publicly acknowledged her as his wife more than four decades later when required to do so by indian law  but has made no contact with her since ',\n",
       " 'modi has asserted he had travelled in northern india for two years after leaving his parental home  visiting a number of religious centres  but few details of his travels have emerged ',\n",
       " 'upon his return to gujarat in       he became a full time worker for the rss ',\n",
       " 'after the state of emergency was declared by prime minister indira gandhi in       he went into hiding ',\n",
       " 'the rss assigned him to the bjp in      and he held several positions within the party hierarchy until       rising to the rank of general secretary ']"
      ]
     },
     "execution_count": 44,
     "metadata": {},
     "output_type": "execute_result"
    }
   ],
   "source": [
    "corpus"
   ]
  },
  {
   "cell_type": "markdown",
   "id": "ab6dc121",
   "metadata": {},
   "source": [
    "# Applying stemming in corpus variable in above cell"
   ]
  },
  {
   "cell_type": "code",
   "execution_count": 45,
   "id": "7f9d44b8",
   "metadata": {},
   "outputs": [
    {
     "name": "stderr",
     "output_type": "stream",
     "text": [
      "[nltk_data] Downloading package stopwords to\n",
      "[nltk_data]     C:\\Users\\admin\\AppData\\Roaming\\nltk_data...\n",
      "[nltk_data]   Package stopwords is already up-to-date!\n"
     ]
    },
    {
     "data": {
      "text/plain": [
       "True"
      ]
     },
     "execution_count": 45,
     "metadata": {},
     "output_type": "execute_result"
    }
   ],
   "source": [
    "import nltk\n",
    "nltk.download('stopwords')"
   ]
  },
  {
   "cell_type": "code",
   "execution_count": 46,
   "id": "b323de10",
   "metadata": {},
   "outputs": [
    {
     "name": "stdout",
     "output_type": "stream",
     "text": [
      "narendra\n",
      "damodarda\n",
      "modi\n",
      "gujarati\n",
      "n\n",
      "end\n",
      "mod\n",
      "modi\n",
      "listen\n",
      "born\n",
      "septemb\n",
      "b\n",
      "indian\n",
      "politician\n",
      "serv\n",
      "th\n",
      "current\n",
      "prime\n",
      "minist\n",
      "india\n",
      "sinc\n",
      "may\n",
      "modi\n",
      "chief\n",
      "minist\n",
      "gujarat\n",
      "member\n",
      "parliament\n",
      "varanasi\n",
      "member\n",
      "bharatiya\n",
      "janata\n",
      "parti\n",
      "bjp\n",
      "rashtriya\n",
      "swayamsevak\n",
      "sangh\n",
      "rss\n",
      "right\n",
      "wing\n",
      "hindu\n",
      "nationalist\n",
      "paramilitari\n",
      "volunt\n",
      "organis\n",
      "longest\n",
      "serv\n",
      "prime\n",
      "minist\n",
      "outsid\n",
      "indian\n",
      "nation\n",
      "congress\n",
      "modi\n",
      "born\n",
      "rais\n",
      "vadnagar\n",
      "northeastern\n",
      "gujarat\n",
      "complet\n",
      "secondari\n",
      "educ\n",
      "introduc\n",
      "rss\n",
      "age\n",
      "eight\n",
      "reminisc\n",
      "help\n",
      "school\n",
      "father\n",
      "tea\n",
      "stall\n",
      "vadnagar\n",
      "railway\n",
      "station\n",
      "age\n",
      "marri\n",
      "jashodaben\n",
      "chimanl\n",
      "modi\n",
      "abandon\n",
      "soon\n",
      "first\n",
      "publicli\n",
      "acknowledg\n",
      "wife\n",
      "four\n",
      "decad\n",
      "later\n",
      "requir\n",
      "indian\n",
      "law\n",
      "made\n",
      "contact\n",
      "sinc\n",
      "modi\n",
      "assert\n",
      "travel\n",
      "northern\n",
      "india\n",
      "two\n",
      "year\n",
      "leav\n",
      "parent\n",
      "home\n",
      "visit\n",
      "number\n",
      "religi\n",
      "centr\n",
      "detail\n",
      "travel\n",
      "emerg\n",
      "upon\n",
      "return\n",
      "gujarat\n",
      "becam\n",
      "full\n",
      "time\n",
      "worker\n",
      "rss\n",
      "state\n",
      "emerg\n",
      "declar\n",
      "prime\n",
      "minist\n",
      "indira\n",
      "gandhi\n",
      "went\n",
      "hide\n",
      "rss\n",
      "assign\n",
      "bjp\n",
      "held\n",
      "sever\n",
      "posit\n",
      "within\n",
      "parti\n",
      "hierarchi\n",
      "rise\n",
      "rank\n",
      "gener\n",
      "secretari\n"
     ]
    }
   ],
   "source": [
    "english_word = stopwords.words('english')\n",
    "stemmer = PorterStemmer()\n",
    "stem_corpus = []\n",
    "for i in corpus:\n",
    "    words = nltk.word_tokenize(i)  # sentence in to a word\n",
    "    for word in words:    #looping in words\n",
    "        if word not in set(stopwords.words('english')):  # stopwords.words('english') is a english stopwords\n",
    "            print(stemmer.stem(word))   #Apply stemming \n",
    "             \n"
   ]
  },
  {
   "cell_type": "code",
   "execution_count": 47,
   "id": "77c312d8",
   "metadata": {},
   "outputs": [
    {
     "name": "stdout",
     "output_type": "stream",
     "text": [
      "['i', 'me', 'my', 'myself', 'we', 'our', 'ours', 'ourselves', 'you', \"you're\", \"you've\", \"you'll\", \"you'd\", 'your', 'yours', 'yourself', 'yourselves', 'he', 'him', 'his', 'himself', 'she', \"she's\", 'her', 'hers', 'herself', 'it', \"it's\", 'its', 'itself', 'they', 'them', 'their', 'theirs', 'themselves', 'what', 'which', 'who', 'whom', 'this', 'that', \"that'll\", 'these', 'those', 'am', 'is', 'are', 'was', 'were', 'be', 'been', 'being', 'have', 'has', 'had', 'having', 'do', 'does', 'did', 'doing', 'a', 'an', 'the', 'and', 'but', 'if', 'or', 'because', 'as', 'until', 'while', 'of', 'at', 'by', 'for', 'with', 'about', 'against', 'between', 'into', 'through', 'during', 'before', 'after', 'above', 'below', 'to', 'from', 'up', 'down', 'in', 'out', 'on', 'off', 'over', 'under', 'again', 'further', 'then', 'once', 'here', 'there', 'when', 'where', 'why', 'how', 'all', 'any', 'both', 'each', 'few', 'more', 'most', 'other', 'some', 'such', 'no', 'nor', 'not', 'only', 'own', 'same', 'so', 'than', 'too', 'very', 's', 't', 'can', 'will', 'just', 'don', \"don't\", 'should', \"should've\", 'now', 'd', 'll', 'm', 'o', 're', 've', 'y', 'ain', 'aren', \"aren't\", 'couldn', \"couldn't\", 'didn', \"didn't\", 'doesn', \"doesn't\", 'hadn', \"hadn't\", 'hasn', \"hasn't\", 'haven', \"haven't\", 'isn', \"isn't\", 'ma', 'mightn', \"mightn't\", 'mustn', \"mustn't\", 'needn', \"needn't\", 'shan', \"shan't\", 'shouldn', \"shouldn't\", 'wasn', \"wasn't\", 'weren', \"weren't\", 'won', \"won't\", 'wouldn', \"wouldn't\"]\n"
     ]
    }
   ],
   "source": [
    "print(english_word)"
   ]
  },
  {
   "cell_type": "markdown",
   "id": "f5d272c5",
   "metadata": {},
   "source": [
    "# Applying Lemmitization in corpus variable in above cell"
   ]
  },
  {
   "cell_type": "code",
   "execution_count": 48,
   "id": "c50ff34d",
   "metadata": {},
   "outputs": [
    {
     "name": "stdout",
     "output_type": "stream",
     "text": [
      "narendra\n",
      "damodardas\n",
      "modi\n",
      "gujarati\n",
      "n\n",
      "end\n",
      "mod\n",
      "modi\n",
      "listen\n",
      "born\n",
      "september\n",
      "b\n",
      "indian\n",
      "politician\n",
      "serving\n",
      "th\n",
      "current\n",
      "prime\n",
      "minister\n",
      "india\n",
      "since\n",
      "may\n",
      "modi\n",
      "chief\n",
      "minister\n",
      "gujarat\n",
      "member\n",
      "parliament\n",
      "varanasi\n",
      "member\n",
      "bharatiya\n",
      "janata\n",
      "party\n",
      "bjp\n",
      "rashtriya\n",
      "swayamsevak\n",
      "sangh\n",
      "r\n",
      "right\n",
      "wing\n",
      "hindu\n",
      "nationalist\n",
      "paramilitary\n",
      "volunteer\n",
      "organisation\n",
      "longest\n",
      "serving\n",
      "prime\n",
      "minister\n",
      "outside\n",
      "indian\n",
      "national\n",
      "congress\n",
      "modi\n",
      "born\n",
      "raised\n",
      "vadnagar\n",
      "northeastern\n",
      "gujarat\n",
      "completed\n",
      "secondary\n",
      "education\n",
      "introduced\n",
      "r\n",
      "age\n",
      "eight\n",
      "reminisced\n",
      "helping\n",
      "school\n",
      "father\n",
      "tea\n",
      "stall\n",
      "vadnagar\n",
      "railway\n",
      "station\n",
      "age\n",
      "married\n",
      "jashodaben\n",
      "chimanlal\n",
      "modi\n",
      "abandoned\n",
      "soon\n",
      "first\n",
      "publicly\n",
      "acknowledged\n",
      "wife\n",
      "four\n",
      "decade\n",
      "later\n",
      "required\n",
      "indian\n",
      "law\n",
      "made\n",
      "contact\n",
      "since\n",
      "modi\n",
      "asserted\n",
      "travelled\n",
      "northern\n",
      "india\n",
      "two\n",
      "year\n",
      "leaving\n",
      "parental\n",
      "home\n",
      "visiting\n",
      "number\n",
      "religious\n",
      "centre\n",
      "detail\n",
      "travel\n",
      "emerged\n",
      "upon\n",
      "return\n",
      "gujarat\n",
      "became\n",
      "full\n",
      "time\n",
      "worker\n",
      "r\n",
      "state\n",
      "emergency\n",
      "declared\n",
      "prime\n",
      "minister\n",
      "indira\n",
      "gandhi\n",
      "went\n",
      "hiding\n",
      "r\n",
      "assigned\n",
      "bjp\n",
      "held\n",
      "several\n",
      "position\n",
      "within\n",
      "party\n",
      "hierarchy\n",
      "rising\n",
      "rank\n",
      "general\n",
      "secretary\n"
     ]
    }
   ],
   "source": [
    "english_word = stopwords.words('english')\n",
    "stemmer = PorterStemmer()\n",
    "stem_corpus = []\n",
    "for i in corpus:\n",
    "    words = nltk.word_tokenize(i)  # sentence in to a word\n",
    "    for word in words:    #looping in words\n",
    "        if word not in set(stopwords.words('english')):  # stopwords.words('english') is a english stopwords\n",
    "            print(lemmatizer.lemmatize(word))   #Apply stemming "
   ]
  },
  {
   "cell_type": "code",
   "execution_count": 49,
   "id": "6053a7be",
   "metadata": {},
   "outputs": [
    {
     "name": "stdout",
     "output_type": "stream",
     "text": [
      "['i', 'me', 'my', 'myself', 'we', 'our', 'ours', 'ourselves', 'you', \"you're\", \"you've\", \"you'll\", \"you'd\", 'your', 'yours', 'yourself', 'yourselves', 'he', 'him', 'his', 'himself', 'she', \"she's\", 'her', 'hers', 'herself', 'it', \"it's\", 'its', 'itself', 'they', 'them', 'their', 'theirs', 'themselves', 'what', 'which', 'who', 'whom', 'this', 'that', \"that'll\", 'these', 'those', 'am', 'is', 'are', 'was', 'were', 'be', 'been', 'being', 'have', 'has', 'had', 'having', 'do', 'does', 'did', 'doing', 'a', 'an', 'the', 'and', 'but', 'if', 'or', 'because', 'as', 'until', 'while', 'of', 'at', 'by', 'for', 'with', 'about', 'against', 'between', 'into', 'through', 'during', 'before', 'after', 'above', 'below', 'to', 'from', 'up', 'down', 'in', 'out', 'on', 'off', 'over', 'under', 'again', 'further', 'then', 'once', 'here', 'there', 'when', 'where', 'why', 'how', 'all', 'any', 'both', 'each', 'few', 'more', 'most', 'other', 'some', 'such', 'no', 'nor', 'not', 'only', 'own', 'same', 'so', 'than', 'too', 'very', 's', 't', 'can', 'will', 'just', 'don', \"don't\", 'should', \"should've\", 'now', 'd', 'll', 'm', 'o', 're', 've', 'y', 'ain', 'aren', \"aren't\", 'couldn', \"couldn't\", 'didn', \"didn't\", 'doesn', \"doesn't\", 'hadn', \"hadn't\", 'hasn', \"hasn't\", 'haven', \"haven't\", 'isn', \"isn't\", 'ma', 'mightn', \"mightn't\", 'mustn', \"mustn't\", 'needn', \"needn't\", 'shan', \"shan't\", 'shouldn', \"shouldn't\", 'wasn', \"wasn't\", 'weren', \"weren't\", 'won', \"won't\", 'wouldn', \"wouldn't\"]\n"
     ]
    }
   ],
   "source": [
    "print(english_word)"
   ]
  },
  {
   "cell_type": "markdown",
   "id": "ddda6a60",
   "metadata": {},
   "source": [
    "# bag of words (BOW)"
   ]
  },
  {
   "cell_type": "code",
   "execution_count": 19,
   "id": "f052c829",
   "metadata": {},
   "outputs": [],
   "source": [
    "# pip install -U scikit-learn"
   ]
  },
  {
   "cell_type": "code",
   "execution_count": 50,
   "id": "3084d78e",
   "metadata": {},
   "outputs": [
    {
     "name": "stdout",
     "output_type": "stream",
     "text": [
      "12\n"
     ]
    }
   ],
   "source": [
    "# applying Stopwords.lemmitizer\n",
    "import re\n",
    "print(len(sentences))\n",
    "corpus = []\n",
    "for i in range(len(sentences)):\n",
    "    review = re.sub('[^a-zA-Z]',' ',sentences[i]) #Return the string obtained by replacing the leftmost\n",
    "    review = review.lower()\n",
    "    review = review.split()                      # to make a list\n",
    "    review = [lemmatizer.lemmatize(word) for word in review if not word in set (stopwords.words('english'))]\n",
    "    # stopwords.words('english') is a english stopwords\n",
    "    review = ' '.join(review)\n",
    "    corpus.append(review)"
   ]
  },
  {
   "cell_type": "code",
   "execution_count": 51,
   "id": "d99cd0a3",
   "metadata": {},
   "outputs": [],
   "source": [
    "from sklearn.feature_extraction.text import CountVectorizer\n",
    "cv = CountVectorizer(binary=True)"
   ]
  },
  {
   "cell_type": "code",
   "execution_count": 52,
   "id": "05b27315",
   "metadata": {},
   "outputs": [],
   "source": [
    "x = cv.fit_transform(corpus)"
   ]
  },
  {
   "cell_type": "code",
   "execution_count": 53,
   "id": "9ac90774",
   "metadata": {},
   "outputs": [
    {
     "name": "stdout",
     "output_type": "stream",
     "text": [
      "None\n"
     ]
    }
   ],
   "source": [
    "print(cv.vocabulary) # vocabulary is not coming find this on youtube please"
   ]
  },
  {
   "cell_type": "code",
   "execution_count": 54,
   "id": "6f0775a3",
   "metadata": {},
   "outputs": [
    {
     "data": {
      "text/plain": [
       "'narendra damodardas modi gujarati n end mod modi listen born september b indian politician serving th current prime minister india since may'"
      ]
     },
     "execution_count": 54,
     "metadata": {},
     "output_type": "execute_result"
    }
   ],
   "source": [
    "corpus[0]"
   ]
  },
  {
   "cell_type": "code",
   "execution_count": 55,
   "id": "678fc437",
   "metadata": {},
   "outputs": [
    {
     "data": {
      "text/plain": [
       "array([[0, 0, 0, 0, 0, 0, 0, 0, 1, 0, 0, 0, 0, 0, 0, 1, 1, 0, 0, 0, 0, 0,\n",
       "        0, 0, 1, 0, 0, 0, 0, 0, 0, 0, 1, 0, 0, 0, 0, 0, 0, 1, 1, 0, 0, 0,\n",
       "        0, 0, 0, 0, 1, 0, 0, 0, 1, 0, 1, 1, 1, 1, 0, 0, 0, 0, 0, 0, 0, 0,\n",
       "        0, 0, 0, 1, 0, 1, 0, 0, 0, 0, 0, 0, 0, 0, 0, 0, 0, 0, 0, 0, 0, 1,\n",
       "        1, 0, 1, 0, 0, 0, 0, 0, 0, 1, 0, 0, 0, 0, 0, 0, 0, 0, 0, 0, 0, 0,\n",
       "        0, 0, 0]], dtype=int64)"
      ]
     },
     "execution_count": 55,
     "metadata": {},
     "output_type": "execute_result"
    }
   ],
   "source": [
    "x[0].toarray()"
   ]
  },
  {
   "cell_type": "markdown",
   "id": "185dfdcc",
   "metadata": {},
   "source": [
    "# TF-IDF"
   ]
  },
  {
   "cell_type": "code",
   "execution_count": 65,
   "id": "f439ee09",
   "metadata": {},
   "outputs": [],
   "source": [
    "from sklearn.feature_extraction.text import TfidfVectorizer\n",
    "cv = TfidfVectorizer(ngram_range=(3,3)) # Change this value like (3,2) (1,1)\n",
    "X = cv.fit_transform(corpus)"
   ]
  },
  {
   "cell_type": "code",
   "execution_count": 66,
   "id": "7403c4b7",
   "metadata": {},
   "outputs": [
    {
     "data": {
      "text/plain": [
       "'narendra damodardas modi gujarati n end mod modi listen born september b indian politician serving th current prime minister india since may'"
      ]
     },
     "execution_count": 66,
     "metadata": {},
     "output_type": "execute_result"
    }
   ],
   "source": [
    "corpus[0]"
   ]
  },
  {
   "cell_type": "code",
   "execution_count": 67,
   "id": "c6f2f423",
   "metadata": {},
   "outputs": [
    {
     "data": {
      "text/plain": [
       "array([[0.        , 0.        , 0.        , 0.        , 0.        ,\n",
       "        0.        , 0.        , 0.        , 0.        , 0.23570226,\n",
       "        0.        , 0.        , 0.        , 0.        , 0.        ,\n",
       "        0.23570226, 0.23570226, 0.        , 0.        , 0.        ,\n",
       "        0.        , 0.23570226, 0.        , 0.        , 0.        ,\n",
       "        0.        , 0.        , 0.        , 0.        , 0.        ,\n",
       "        0.23570226, 0.        , 0.        , 0.        , 0.        ,\n",
       "        0.        , 0.23570226, 0.        , 0.        , 0.        ,\n",
       "        0.23570226, 0.        , 0.        , 0.        , 0.        ,\n",
       "        0.        , 0.        , 0.        , 0.23570226, 0.        ,\n",
       "        0.        , 0.        , 0.        , 0.        , 0.        ,\n",
       "        0.23570226, 0.        , 0.        , 0.23570226, 0.        ,\n",
       "        0.        , 0.        , 0.        , 0.23570226, 0.23570226,\n",
       "        0.23570226, 0.        , 0.        , 0.        , 0.        ,\n",
       "        0.        , 0.        , 0.        , 0.        , 0.        ,\n",
       "        0.        , 0.23570226, 0.        , 0.23570226, 0.        ,\n",
       "        0.        , 0.        , 0.        , 0.        , 0.        ,\n",
       "        0.        , 0.        , 0.        , 0.        , 0.        ,\n",
       "        0.        , 0.        , 0.        , 0.23570226, 0.        ,\n",
       "        0.23570226, 0.        , 0.        , 0.        , 0.        ,\n",
       "        0.        , 0.23570226, 0.        , 0.        , 0.        ,\n",
       "        0.        , 0.        , 0.        , 0.        , 0.        ,\n",
       "        0.        , 0.        ]])"
      ]
     },
     "execution_count": 67,
     "metadata": {},
     "output_type": "execute_result"
    }
   ],
   "source": [
    "X[0].toarray()"
   ]
  }
 ],
 "metadata": {
  "kernelspec": {
   "display_name": "Python 3 (ipykernel)",
   "language": "python",
   "name": "python3"
  },
  "language_info": {
   "codemirror_mode": {
    "name": "ipython",
    "version": 3
   },
   "file_extension": ".py",
   "mimetype": "text/x-python",
   "name": "python",
   "nbconvert_exporter": "python",
   "pygments_lexer": "ipython3",
   "version": "3.11.2"
  }
 },
 "nbformat": 4,
 "nbformat_minor": 5
}
