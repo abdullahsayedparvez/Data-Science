{
 "cells": [
  {
   "cell_type": "code",
   "execution_count": 4,
   "id": "fa818387",
   "metadata": {},
   "outputs": [],
   "source": [
    "# pip install speechRecognition"
   ]
  },
  {
   "cell_type": "code",
   "execution_count": 1,
   "id": "2ec8cd9f",
   "metadata": {},
   "outputs": [],
   "source": [
    "import datetime"
   ]
  },
  {
   "cell_type": "code",
   "execution_count": 5,
   "id": "fbd3b5ca",
   "metadata": {},
   "outputs": [],
   "source": [
    "import pyttsx3   # it is usd for voice\n",
    "engine = pyttsx3.init('sapi5')# it is usd for voice   \n",
    "voice = engine.getProperty('voices')\n",
    "# print(voice[0].id)\n",
    "engine.setProperty('voice',voice[0].id)"
   ]
  },
  {
   "cell_type": "code",
   "execution_count": 7,
   "id": "9f4f66bf",
   "metadata": {},
   "outputs": [],
   "source": [
    "def speak(audio):\n",
    "    engine.say(audio)\n",
    "    engine.runAndWait()\n"
   ]
  },
  {
   "cell_type": "code",
   "execution_count": 8,
   "id": "0a713fa2",
   "metadata": {},
   "outputs": [],
   "source": [
    "def wishMe():\n",
    "    hour = int(datetime.datetime.now().hour)\n",
    "    if hour >= 0 and hour < 12:\n",
    "        speak(\"Good Morning\")\n",
    "    elif hour >= 12 and hour < 18 :\n",
    "        speak(\"Good Afternoon\")\n",
    "    else:\n",
    "        speak(\"Good Evening\")\n",
    "    \n",
    "    speak(\"Hi Abdullah , I am Jarvis Sir. Please tell me I may I help you\")"
   ]
  },
  {
   "cell_type": "code",
   "execution_count": 17,
   "id": "d89ca463",
   "metadata": {},
   "outputs": [],
   "source": [
    "import speech_recognition as sr   # it take input in form of voice\n",
    "def takeCommand():\n",
    "    # it take microphone input from the user and return string outputs\n",
    "    r = sr.Recognizer()\n",
    "    with sr.Microphone() as source:\n",
    "        print(\"Listening...\")\n",
    "        r.pause_threshold = 1   # wait till 1 second while speaking\n",
    "        r.energy_threshold = 40\n",
    "        audio = r.listen(source)\n",
    "    try :\n",
    "        print(\"Recognizing...\")\n",
    "        quary = r.recognize_google(audio, Language = 'en-in') #English - India\n",
    "        print(f\"user said:{quary}\\n\")\n",
    "    except Exception as e :\n",
    "        print(e)\n",
    "        \n",
    "        print(\"Say that again please...\")\n",
    "        return \"None\"\n",
    "    return quary\n"
   ]
  },
  {
   "cell_type": "code",
   "execution_count": 20,
   "id": "2ab4dd69",
   "metadata": {},
   "outputs": [
    {
     "name": "stdout",
     "output_type": "stream",
     "text": [
      "Listening...\n",
      "Recognizing...\n",
      "Recognizer.recognize_google() got an unexpected keyword argument 'Language'\n",
      "Say that again please...\n"
     ]
    }
   ],
   "source": [
    "if __name__ == \"__main__\":\n",
    "    takeCommand()\n",
    "    \n",
    "    \n",
    "    "
   ]
  },
  {
   "cell_type": "code",
   "execution_count": null,
   "id": "cd599e52",
   "metadata": {},
   "outputs": [],
   "source": []
  },
  {
   "cell_type": "code",
   "execution_count": null,
   "id": "53d0b53c",
   "metadata": {},
   "outputs": [],
   "source": []
  },
  {
   "cell_type": "code",
   "execution_count": null,
   "id": "1ed193cb",
   "metadata": {},
   "outputs": [],
   "source": []
  },
  {
   "cell_type": "code",
   "execution_count": null,
   "id": "dd9667f5",
   "metadata": {},
   "outputs": [],
   "source": []
  },
  {
   "cell_type": "code",
   "execution_count": null,
   "id": "f9482f57",
   "metadata": {},
   "outputs": [],
   "source": []
  },
  {
   "cell_type": "code",
   "execution_count": null,
   "id": "d307cba8",
   "metadata": {},
   "outputs": [],
   "source": []
  },
  {
   "cell_type": "code",
   "execution_count": null,
   "id": "78deb1b0",
   "metadata": {},
   "outputs": [],
   "source": []
  },
  {
   "cell_type": "code",
   "execution_count": null,
   "id": "58eaedd5",
   "metadata": {},
   "outputs": [],
   "source": []
  },
  {
   "cell_type": "code",
   "execution_count": null,
   "id": "cb4a96a8",
   "metadata": {},
   "outputs": [],
   "source": []
  },
  {
   "cell_type": "code",
   "execution_count": null,
   "id": "fdd5650b",
   "metadata": {},
   "outputs": [],
   "source": []
  },
  {
   "cell_type": "code",
   "execution_count": null,
   "id": "5af11a4d",
   "metadata": {},
   "outputs": [],
   "source": []
  }
 ],
 "metadata": {
  "kernelspec": {
   "display_name": "Python 3 (ipykernel)",
   "language": "python",
   "name": "python3"
  },
  "language_info": {
   "codemirror_mode": {
    "name": "ipython",
    "version": 3
   },
   "file_extension": ".py",
   "mimetype": "text/x-python",
   "name": "python",
   "nbconvert_exporter": "python",
   "pygments_lexer": "ipython3",
   "version": "3.11.2"
  }
 },
 "nbformat": 4,
 "nbformat_minor": 5
}
