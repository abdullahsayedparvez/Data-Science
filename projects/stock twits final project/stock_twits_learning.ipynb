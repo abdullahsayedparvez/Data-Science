{
 "cells": [
  {
   "cell_type": "code",
   "execution_count": 1,
   "id": "e4f7df99",
   "metadata": {},
   "outputs": [
    {
     "name": "stdout",
     "output_type": "stream",
     "text": [
      "Requirement already satisfied: beautifulsoup4 in c:\\users\\aekal\\appdata\\local\\programs\\python\\python311\\lib\\site-packages (4.11.1)\n",
      "Requirement already satisfied: soupsieve>1.2 in c:\\users\\aekal\\appdata\\local\\programs\\python\\python311\\lib\\site-packages (from beautifulsoup4) (2.3.2.post1)\n",
      "Note: you may need to restart the kernel to use updated packages.\n"
     ]
    },
    {
     "name": "stderr",
     "output_type": "stream",
     "text": [
      "\n",
      "[notice] A new release of pip available: 22.3.1 -> 23.0.1\n",
      "[notice] To update, run: python.exe -m pip install --upgrade pip\n"
     ]
    }
   ],
   "source": [
    "pip install beautifulsoup4"
   ]
  },
  {
   "cell_type": "code",
   "execution_count": 2,
   "id": "1fec0806",
   "metadata": {},
   "outputs": [
    {
     "name": "stdout",
     "output_type": "stream",
     "text": [
      "Note: you may need to restart the kernel to use updated packages.Requirement already satisfied: webdriver_manager in c:\\users\\aekal\\appdata\\local\\programs\\python\\python311\\lib\\site-packages (3.8.5)\n",
      "Requirement already satisfied: requests in c:\\users\\aekal\\appdata\\local\\programs\\python\\python311\\lib\\site-packages (from webdriver_manager) (2.28.2)\n",
      "Requirement already satisfied: python-dotenv in c:\\users\\aekal\\appdata\\local\\programs\\python\\python311\\lib\\site-packages (from webdriver_manager) (1.0.0)\n",
      "Requirement already satisfied: tqdm in c:\\users\\aekal\\appdata\\local\\programs\\python\\python311\\lib\\site-packages (from webdriver_manager) (4.65.0)\n",
      "Requirement already satisfied: packaging in c:\\users\\aekal\\appdata\\local\\programs\\python\\python311\\lib\\site-packages (from webdriver_manager) (22.0)\n",
      "Requirement already satisfied: charset-normalizer<4,>=2 in c:\\users\\aekal\\appdata\\local\\programs\\python\\python311\\lib\\site-packages (from requests->webdriver_manager) (3.1.0)\n",
      "Requirement already satisfied: idna<4,>=2.5 in c:\\users\\aekal\\appdata\\local\\programs\\python\\python311\\lib\\site-packages (from requests->webdriver_manager) (3.4)\n",
      "Requirement already satisfied: urllib3<1.27,>=1.21.1 in c:\\users\\aekal\\appdata\\local\\programs\\python\\python311\\lib\\site-packages (from requests->webdriver_manager) (1.26.15)\n",
      "Requirement already satisfied: certifi>=2017.4.17 in c:\\users\\aekal\\appdata\\local\\programs\\python\\python311\\lib\\site-packages (from requests->webdriver_manager) (2022.12.7)\n",
      "Requirement already satisfied: colorama in c:\\users\\aekal\\appdata\\local\\programs\\python\\python311\\lib\\site-packages (from tqdm->webdriver_manager) (0.4.6)\n",
      "\n"
     ]
    },
    {
     "name": "stderr",
     "output_type": "stream",
     "text": [
      "\n",
      "[notice] A new release of pip available: 22.3.1 -> 23.0.1\n",
      "[notice] To update, run: python.exe -m pip install --upgrade pip\n"
     ]
    }
   ],
   "source": [
    "pip install webdriver_manager"
   ]
  },
  {
   "cell_type": "code",
   "execution_count": 1,
   "id": "d77a51c1",
   "metadata": {},
   "outputs": [],
   "source": [
    "from bs4 import BeautifulSoup\n",
    "from selenium import webdriver\n",
    "from webdriver_manager.chrome import ChromeDriverManager\n",
    "from selenium.webdriver.common.by import By\n",
    "from selenium.webdriver.chrome.service import Service"
   ]
  },
  {
   "cell_type": "code",
   "execution_count": 2,
   "id": "9c35d31e",
   "metadata": {},
   "outputs": [],
   "source": [
    "import re\n",
    "import time"
   ]
  },
  {
   "cell_type": "code",
   "execution_count": 3,
   "id": "7fb730d1",
   "metadata": {},
   "outputs": [],
   "source": [
    "from datetime import date\n",
    "from datetime import timedelta"
   ]
  },
  {
   "cell_type": "code",
   "execution_count": 6,
   "id": "17381b90",
   "metadata": {},
   "outputs": [
    {
     "name": "stderr",
     "output_type": "stream",
     "text": [
      "C:\\Users\\aekal\\AppData\\Local\\Temp\\ipykernel_5752\\3279649056.py:1: DeprecationWarning: executable_path has been deprecated, please pass in a Service object\n",
      "  driver = webdriver.Chrome(ChromeDriverManager().install())\n"
     ]
    }
   ],
   "source": [
    "driver = webdriver.Chrome(ChromeDriverManager().install())\n",
    "name_of_stock = 'TCS.NSE'\n",
    "driver.get('https://stocktwits.com/symbol/'+name_of_stock)\n",
    "html = driver.page_source\n",
    "soup = BeautifulSoup(html)\n",
    "# name_of_stock = input('Enter your stock name symbol')\n",
    "# print(name_of_stock)\n",
    "# https://stocktwits.com/symbol/TATASTEEL.NSE\n",
    "# https://stocktwits.com/symbol/\n",
    "driver.maximize_window()\n",
    "\n",
    "# height = driver.execute_script(\"return document.body.scrollHeight\")\n",
    "# print(height)"
   ]
  },
  {
   "cell_type": "code",
   "execution_count": 4,
   "id": "f9af393a",
   "metadata": {},
   "outputs": [
    {
     "ename": "NameError",
     "evalue": "name 'box' is not defined",
     "output_type": "error",
     "traceback": [
      "\u001b[1;31m---------------------------------------------------------------------------\u001b[0m",
      "\u001b[1;31mNameError\u001b[0m                                 Traceback (most recent call last)",
      "Cell \u001b[1;32mIn[4], line 4\u001b[0m\n\u001b[0;32m      2\u001b[0m previous_day \u001b[38;5;241m=\u001b[39m \u001b[38;5;241m6\u001b[39m\n\u001b[0;32m      3\u001b[0m date_value \u001b[38;5;241m=\u001b[39m []\n\u001b[1;32m----> 4\u001b[0m \u001b[38;5;28;01mfor\u001b[39;00m element \u001b[38;5;129;01min\u001b[39;00m \u001b[43mbox\u001b[49m :\n\u001b[0;32m      5\u001b[0m     time_value   \u001b[38;5;241m=\u001b[39m element\u001b[38;5;241m.\u001b[39mfind(\u001b[38;5;124m'\u001b[39m\u001b[38;5;124mtime\u001b[39m\u001b[38;5;124m'\u001b[39m)[\u001b[38;5;124m'\u001b[39m\u001b[38;5;124mdatetime\u001b[39m\u001b[38;5;124m'\u001b[39m]\n\u001b[0;32m      6\u001b[0m     date_value\u001b[38;5;241m.\u001b[39mappend(time_value)    \n",
      "\u001b[1;31mNameError\u001b[0m: name 'box' is not defined"
     ]
    }
   ],
   "source": [
    "# box = soup.find_all(('div') ,{\"class\":\"StreamMessage_main___aESy grid\"})\n",
    "# previous_day = 6\n",
    "# date_value = []\n",
    "# for element in box :\n",
    "#     time_value   = element.find('time')['datetime']\n",
    "#     date_value.append(time_value)    "
   ]
  },
  {
   "cell_type": "code",
   "execution_count": 7,
   "id": "990af9e8",
   "metadata": {},
   "outputs": [],
   "source": [
    "date_value_new = []       # use this data\n",
    "for i in range(previous_day):\n",
    "    today_date = date.today()\n",
    "    yesterday_date = today_date - timedelta(days = i)\n",
    "    date_value_new.append(yesterday_date)"
   ]
  },
  {
   "cell_type": "code",
   "execution_count": 6,
   "id": "3c53593a",
   "metadata": {},
   "outputs": [
    {
     "data": {
      "text/plain": [
       "[datetime.date(2023, 5, 15),\n",
       " datetime.date(2023, 5, 14),\n",
       " datetime.date(2023, 5, 13),\n",
       " datetime.date(2023, 5, 12),\n",
       " datetime.date(2023, 5, 11),\n",
       " datetime.date(2023, 5, 10)]"
      ]
     },
     "execution_count": 6,
     "metadata": {},
     "output_type": "execute_result"
    }
   ],
   "source": [
    "date_value_new"
   ]
  },
  {
   "cell_type": "code",
   "execution_count": 10,
   "id": "afacac66",
   "metadata": {},
   "outputs": [],
   "source": [
    "final_list = []\n",
    "twit_indicate = driver.find_element(By.XPATH,\"//time[contains(@datetime,'2023-04-01T14:39:08Z')]\")\n",
    "driver.execute_script(\"arguments[0].scrollIntoView();\",twit_indicate)\n",
    "box = soup.find_all(('div') ,{\"class\":\"StreamMessage_main___aESy grid\"})\n",
    "for element in box :\n",
    "    name_value   =  element.find(('span') , {\"class\" : 'StreamMessage_username-default__gka83 font-bold'}).text\n",
    "    time_value   = element.find('time')['datetime']\n",
    "    twits_value =  element.find(('div') , {\"class\" : 'RichTextMessage_body__Fa2W1 whitespace-pre-wrap'}).text\n",
    "    box_info = {'Name':name_value,'Date':time_value,'Twits': twits_value}\n",
    "    final_list.append(box_info)\n",
    "import json\n",
    "with open(\"stocktwits.json\",\"w\") as f :     #json ek package(class)   dumps is function\n",
    "    json.dump(final_list,f)\n",
    "    "
   ]
  },
  {
   "cell_type": "code",
   "execution_count": 11,
   "id": "d60d1f4b",
   "metadata": {},
   "outputs": [
    {
     "data": {
      "text/plain": [
       "[{'Name': 'nilay1996',\n",
       "  'Date': '2023-04-06T04:13:28Z',\n",
       "  'Twits': '$TCS.NSE  \\n \\n3245'},\n",
       " {'Name': 'sajal_thakkar',\n",
       "  'Date': '2023-04-05T18:05:10Z',\n",
       "  'Twits': '$TCS.NSE  \\nThe stock is increasing from the last two trading sessions while trading below the EMA levels. MACD also has a slight bullish slant. As a result, the stock may trend upward in the following sessions. Bullish'},\n",
       " {'Name': 'pranavscharts',\n",
       "  'Date': '2023-04-05T15:57:20Z',\n",
       "  'Twits': \"$TCS.NSE forming rounding bottom pattern on hhourly timeframe. \\nThe neckline of the formation is also a crucial resistence on 0.5 Fibonacci level. \\n \\nLet's see where it goes.....\"},\n",
       " {'Name': 'Paresh02',\n",
       "  'Date': '2023-04-05T14:50:13Z',\n",
       "  'Twits': '$ADANIENT.NSE $TCS.NSE 🥂'},\n",
       " {'Name': 'cyan22',\n",
       "  'Date': '2023-04-05T13:18:32Z',\n",
       "  'Twits': '$TCS.NSE https://tcs.com'},\n",
       " {'Name': 'Analyst_Aashay',\n",
       "  'Date': '2023-04-05T05:56:27Z',\n",
       "  'Twits': '$TCS.NSE hits the target!! stock trading in an overbought zone might see a small correction Bullish'},\n",
       " {'Name': 'Paresh02', 'Date': '2023-04-05T05:35:34Z', 'Twits': '$TCS.NSE  🥂.'},\n",
       " {'Name': 'az7aan',\n",
       "  'Date': '2023-04-04T18:28:40Z',\n",
       "  'Twits': \"$TCS.NSE announced an equity reward of Rs 113 per share, yielding 3.62% . TCS's forward payout yield is 1.38% as of March 2023 . TCS's trailing yearly payout return is 1.44% as of April 2023 . TCS's dividend yield (TTM) was 3.20% as of March 4, 2023, according to another source, and the average income yield over the last five years was 2.10% . TCS distributes quarterly rewards to its shareholders.\"},\n",
       " {'Name': 'Neha06',\n",
       "  'Date': '2023-04-04T16:29:23Z',\n",
       "  'Twits': 'The Norwegian government agency Bane NOR has chosen $TCS.NSE to provide safe access to its digital infrastructure for workers, partners, and railway operators. Identity control and administration, access management, identity lifecycle management, and application management operations will be provided by TCS teams in Norway and Europe.'},\n",
       " {'Name': 'Kushal4',\n",
       "  'Date': '2023-04-04T13:55:26Z',\n",
       "  'Twits': \"$TCS.NSE $NIFTYIT.NSE  \\nIndia's IT services industry faces lingering growth uncertainty in FY 2024, Nomura analysts say in a research report. The Japanese investment bank's recent interactions with industry participants indicate a likely impact of macro slowdown and continuing high inflation in developed markets on the tech budget outlook for most industries this year, the analysts say. Recent volatility in the global financial sector could also increase demand uncertainty.  \\nSlowdown is possible in IT industry of India. Bearish\"},\n",
       " {'Name': 'vinithkumar',\n",
       "  'Date': '2023-04-04T11:46:03Z',\n",
       "  'Twits': '$TCS.NSE \\nFirst will look for short term bull and then might get rejection from top from 3400 - 2950 wil be targeted'},\n",
       " {'Name': 'Payal_Nagpal',\n",
       "  'Date': '2023-04-03T16:38:54Z',\n",
       "  'Twits': '$TCS.NSE Stock is trading below Ema levels but it is rising from previous two trading sessions. Macd is also mildly bullish. Hence, stock may witness upward trend in upcoming sessions. Bullish'},\n",
       " {'Name': 'prakashtilokani06',\n",
       "  'Date': '2023-04-03T14:07:09Z',\n",
       "  'Twits': 'Important News \\n$TCS.NSE  \\nTCS to declare Q4 result on April 12.'},\n",
       " {'Name': 'Paresh02',\n",
       "  'Date': '2023-04-03T12:32:31Z',\n",
       "  'Twits': '$TCS.NSE \\nLooking good on chart now. Buy for target of 3280 Bullish'},\n",
       " {'Name': 'tradersagar',\n",
       "  'Date': '2023-04-03T08:32:59Z',\n",
       "  'Twits': '✅ $TCS.NSE  News: \\n▶ $TCS.NSE: Tata Consultancy Services has been selected by Bane NOR, the Norwegian government agency responsible for maintaining, operating, and developing the Norwegian railway network, to enable secure access to the latter’s digital systems. As its strategic partner, $TCS.NSE’ teams based in Norway and across Europe will provide services spanning identity governance and administration (IGA), access management, identity lifecycle management and application management operations in a managed services model.'},\n",
       " {'Name': 'sahil1400',\n",
       "  'Date': '2023-04-01T14:39:08Z',\n",
       "  'Twits': '$TCS.NSE has shown a good bullish movement on the daily charts as it has given a breakout after consolidating in a small range for 1 week. Short term view stays remain bullish for this stock and can be accumulated for a swing trade.'},\n",
       " {'Name': 'Sharu918',\n",
       "  'Date': '2023-04-01T13:21:38Z',\n",
       "  'Twits': '$TCS.NSE If the stock breaks and sustains above 3211, can see a upward trend till 3482. Stop loss can be 3094. Bullish'},\n",
       " {'Name': 'az7aan',\n",
       "  'Date': '2023-03-31T17:50:50Z',\n",
       "  'Twits': '$TCS.NSE shares ended 2.13% higher on the NSE on Friday, at Rs 3,205 per share. So far this year, the shares have performed poorly, with the price down 1.69%. \\n \\nTCS, the IT services conglomerate, will begin off the fourth-quarter earnings season on April 12 by releasing its numbers. \\n \\nThe IT firm recorded a 5.3% sequential increase in consolidated sales to Rs 58,229 crore in the third quarter. In the third quarter, net earnings increased by roughly 4% to Rs 10,846 crore. TCS reported that sales increased 13.5% year on year in constant currency terms during the period.'},\n",
       " {'Name': 'nilay1996',\n",
       "  'Date': '2023-03-31T17:16:52Z',\n",
       "  'Twits': '$TCS.NSE  \\n \\nTCS looks bullish one can go long with stoploss of  3100. \\nAs it takes support near 3100. after breakdown.'},\n",
       " {'Name': 'TraderSid21',\n",
       "  'Date': '2023-03-31T09:57:15Z',\n",
       "  'Twits': '$TCS.NSE looks like trying to bottom; stronger chart than $INFY.NSE since everyone is always trying to compare the two companies Bullish'},\n",
       " {'Name': 'Analyst_Aashay',\n",
       "  'Date': '2023-03-31T07:23:00Z',\n",
       "  'Twits': '$TCS.NSE  \\nThe stock is moving as expected close to the 1st target of 3220.05. saw a very strong trend. Bullish'},\n",
       " {'Name': 'ResearchReportsNSE',\n",
       "  'Date': '2023-03-31T06:57:51Z',\n",
       "  'Twits': '$TCS.NSE Weakness in US BFSI and Hi-Tech can impact near-term growth: The company is seeing some weakness in US geography which is the delayed decision-making seen earlier in Europe. Some weaknesses seen in US BFSI and Hi-Tech till Feb (March tends to be the stronger month) can impact near-term growth.  \\n \\nDuring tough times, vendor consolidation intensifies and improves the client’s transformation and optimization journey (such as the recent BT deal). Gains from vendor consolidation may get offset by the tougher economic environment. Bullish'}]"
      ]
     },
     "execution_count": 11,
     "metadata": {},
     "output_type": "execute_result"
    }
   ],
   "source": [
    "final_list"
   ]
  },
  {
   "cell_type": "code",
   "execution_count": 48,
   "id": "2d873d80",
   "metadata": {},
   "outputs": [],
   "source": [
    "# //time[contains(@datetime,'2023-04-01T13:21:38Z')]"
   ]
  },
  {
   "cell_type": "markdown",
   "id": "137deb11",
   "metadata": {},
   "source": [
    "# Yesterday converts into date"
   ]
  },
  {
   "cell_type": "code",
   "execution_count": null,
   "id": "41159338",
   "metadata": {},
   "outputs": [],
   "source": [
    "# final_list_date = []\n",
    "# for i in box:\n",
    "#     date_value_indivitual = i.find(('time') , {\"class\" : 'StreamMessage_timestamp__CP2QT text-stream-text ml-2 text-[11px]'}).text\n",
    "#     final_list_date.append(date_value_indivitual)\n",
    "\n",
    "# final_list_date_new = []\n",
    "# for i in final_list_date:\n",
    "#     today_date = date.today()\n",
    "#     yesterday_date = today_date - timedelta(days = 1)\n",
    "#     str_yesterday_date = str(yesterday)\n",
    "#     new_i = i.replace('Yesterday',str_yesterday_date)\n",
    "#     final_list_date_new.append(new_i)\n",
    "#     box_date_dict = {'Date':date_value_indivitual}"
   ]
  },
  {
   "cell_type": "markdown",
   "id": "a07a17df",
   "metadata": {},
   "source": [
    "# underscore remove"
   ]
  },
  {
   "cell_type": "code",
   "execution_count": null,
   "id": "558b8877",
   "metadata": {},
   "outputs": [],
   "source": [
    "# final_list_date_new_replace = []\n",
    "\n",
    "# for i in final_list_date_new:\n",
    "#     underscore_clear = i.replace('-',' ')\n",
    "#     final_list_date_new_replace.append(underscore_clear)\n",
    "#     datetime_object = datetime.strptime(i,'%b %d, %Y %M:%H %p')\n",
    "#     final_convert.append(datetime_obejct)\n",
    "    "
   ]
  },
  {
   "cell_type": "code",
   "execution_count": null,
   "id": "04d14355",
   "metadata": {},
   "outputs": [],
   "source": [
    "# list2 = []\n",
    "# # list1 = ['2023 04 04 11:58 PM','2023 04 04 9:59 PM','2023 04 04 7:25 PM','Apr 03, 2023 10:08 PM','Apr 03, 2023 7:37 PM']\n",
    "\n",
    "# for i in final_list_date_new_replace:\n",
    "#     patt = re.compile(r'^(20){1}')\n",
    "#     matches = patt.finditer(i)\n",
    "#     for match in matches:\n",
    "#         match.count()\n",
    "                      "
   ]
  },
  {
   "cell_type": "code",
   "execution_count": null,
   "id": "fad80026",
   "metadata": {},
   "outputs": [],
   "source": [
    "# today = date.today()\n",
    "# yesterday = today - timedelta(days = 1)\n",
    "# list1 = ['Yesterday 01/05/2023','Yesterday 01/06/2073','Yesterday 02/95/8787']\n",
    "# for i in list1:\n",
    "#     new_i = i.replace('Yesterday',str_yesterday)\n",
    "#     print(new_i)"
   ]
  },
  {
   "cell_type": "code",
   "execution_count": null,
   "id": "daa644fe",
   "metadata": {},
   "outputs": [],
   "source": [
    "# //time[contains(@class,'StreamMessage_timestamp__CP2QT text-stream-text ml-2 text-[11px]')]"
   ]
  },
  {
   "cell_type": "markdown",
   "id": "c56af9f4",
   "metadata": {},
   "source": [
    "# Lets start with data cleaning"
   ]
  },
  {
   "cell_type": "code",
   "execution_count": 31,
   "id": "5f5a857f",
   "metadata": {},
   "outputs": [],
   "source": [
    "# date_value_new"
   ]
  },
  {
   "cell_type": "code",
   "execution_count": 32,
   "id": "27bff912",
   "metadata": {},
   "outputs": [],
   "source": [
    "# date_value_change = []\n",
    "# for i in date_value_new :\n",
    "#     change = str(i)\n",
    "#     print(type(change))\n",
    "#     date_value_change.append(change)\n",
    "# print('---------------')\n",
    "# df_sample = pd.DataFrame(date_value_new)\n",
    "# df_sample[0].info()"
   ]
  },
  {
   "cell_type": "code",
   "execution_count": 35,
   "id": "8679b98e",
   "metadata": {},
   "outputs": [],
   "source": [
    "# df.head(20)"
   ]
  },
  {
   "cell_type": "code",
   "execution_count": 36,
   "id": "25a52474",
   "metadata": {},
   "outputs": [],
   "source": [
    "# date_value_change"
   ]
  },
  {
   "cell_type": "code",
   "execution_count": 37,
   "id": "41820763",
   "metadata": {},
   "outputs": [],
   "source": [
    "# for n in df['Date']:\n",
    "#     if n in not date_value_change:\n",
    "#         df.loc[(df.Date[n])].drop \n",
    "#         df.drop([n],axis = 0)\n",
    "#         df.drop([n], inplace = True)\n",
    "#         df = df.drop(n,axis = 0)"
   ]
  },
  {
   "cell_type": "code",
   "execution_count": null,
   "id": "52e6ddc2",
   "metadata": {},
   "outputs": [],
   "source": [
    "# df.loc[(df.Date == '2023-04-05')] "
   ]
  },
  {
   "cell_type": "code",
   "execution_count": null,
   "id": "7bb0e938",
   "metadata": {},
   "outputs": [],
   "source": [
    "# DataFrame.drop(labels=None, *, axis=0, index=None, columns=None, level=None, inplace=False, errors='raise')\n",
    "# df.drop(['B', 'C'], axis=1)"
   ]
  },
  {
   "cell_type": "code",
   "execution_count": 47,
   "id": "af1afae1",
   "metadata": {},
   "outputs": [],
   "source": [
    "start_date = '2023-04-06' \n",
    "end_date   = '2023-03-06'"
   ]
  },
  {
   "cell_type": "code",
   "execution_count": null,
   "id": "1e72735c",
   "metadata": {},
   "outputs": [],
   "source": []
  },
  {
   "cell_type": "markdown",
   "id": "c8124bef",
   "metadata": {},
   "source": [
    "# Convert the datetime type into str type"
   ]
  },
  {
   "cell_type": "code",
   "execution_count": 39,
   "id": "3832f275",
   "metadata": {},
   "outputs": [],
   "source": [
    "import pandas as pd\n",
    "import numpy as np\n",
    "import matplotlib.pyplot as plt\n",
    "%matplotlib inline"
   ]
  },
  {
   "cell_type": "code",
   "execution_count": 40,
   "id": "22308237",
   "metadata": {},
   "outputs": [],
   "source": [
    "pd.pandas.set_option('display.max_columns' , None)"
   ]
  },
  {
   "cell_type": "code",
   "execution_count": 41,
   "id": "b0d589b8",
   "metadata": {},
   "outputs": [],
   "source": [
    "df = pd.read_json('stocktwits.json')"
   ]
  },
  {
   "cell_type": "code",
   "execution_count": 42,
   "id": "738c3a19",
   "metadata": {},
   "outputs": [
    {
     "data": {
      "text/html": [
       "<div>\n",
       "<style scoped>\n",
       "    .dataframe tbody tr th:only-of-type {\n",
       "        vertical-align: middle;\n",
       "    }\n",
       "\n",
       "    .dataframe tbody tr th {\n",
       "        vertical-align: top;\n",
       "    }\n",
       "\n",
       "    .dataframe thead th {\n",
       "        text-align: right;\n",
       "    }\n",
       "</style>\n",
       "<table border=\"1\" class=\"dataframe\">\n",
       "  <thead>\n",
       "    <tr style=\"text-align: right;\">\n",
       "      <th></th>\n",
       "      <th>Name</th>\n",
       "      <th>Date</th>\n",
       "      <th>Twits</th>\n",
       "    </tr>\n",
       "  </thead>\n",
       "  <tbody>\n",
       "    <tr>\n",
       "      <th>0</th>\n",
       "      <td>nilay1996</td>\n",
       "      <td>2023-04-06 04:13:28+00:00</td>\n",
       "      <td>$TCS.NSE  \\n \\n3245</td>\n",
       "    </tr>\n",
       "    <tr>\n",
       "      <th>1</th>\n",
       "      <td>sajal_thakkar</td>\n",
       "      <td>2023-04-05 18:05:10+00:00</td>\n",
       "      <td>$TCS.NSE  \\nThe stock is increasing from the l...</td>\n",
       "    </tr>\n",
       "    <tr>\n",
       "      <th>2</th>\n",
       "      <td>pranavscharts</td>\n",
       "      <td>2023-04-05 15:57:20+00:00</td>\n",
       "      <td>$TCS.NSE forming rounding bottom pattern on hh...</td>\n",
       "    </tr>\n",
       "    <tr>\n",
       "      <th>3</th>\n",
       "      <td>Paresh02</td>\n",
       "      <td>2023-04-05 14:50:13+00:00</td>\n",
       "      <td>$ADANIENT.NSE $TCS.NSE 🥂</td>\n",
       "    </tr>\n",
       "    <tr>\n",
       "      <th>4</th>\n",
       "      <td>cyan22</td>\n",
       "      <td>2023-04-05 13:18:32+00:00</td>\n",
       "      <td>$TCS.NSE https://tcs.com</td>\n",
       "    </tr>\n",
       "  </tbody>\n",
       "</table>\n",
       "</div>"
      ],
      "text/plain": [
       "            Name                      Date  \\\n",
       "0      nilay1996 2023-04-06 04:13:28+00:00   \n",
       "1  sajal_thakkar 2023-04-05 18:05:10+00:00   \n",
       "2  pranavscharts 2023-04-05 15:57:20+00:00   \n",
       "3       Paresh02 2023-04-05 14:50:13+00:00   \n",
       "4         cyan22 2023-04-05 13:18:32+00:00   \n",
       "\n",
       "                                               Twits  \n",
       "0                                $TCS.NSE  \\n \\n3245  \n",
       "1  $TCS.NSE  \\nThe stock is increasing from the l...  \n",
       "2  $TCS.NSE forming rounding bottom pattern on hh...  \n",
       "3                           $ADANIENT.NSE $TCS.NSE 🥂  \n",
       "4                           $TCS.NSE https://tcs.com  "
      ]
     },
     "execution_count": 42,
     "metadata": {},
     "output_type": "execute_result"
    }
   ],
   "source": [
    "df.head()"
   ]
  },
  {
   "cell_type": "code",
   "execution_count": 44,
   "id": "2e69fff2",
   "metadata": {},
   "outputs": [],
   "source": [
    "df['Date'] = df['Date'].astype(str)"
   ]
  },
  {
   "cell_type": "code",
   "execution_count": 45,
   "id": "d35f803d",
   "metadata": {},
   "outputs": [],
   "source": [
    "df[['Date','Time']] = df.Date.str.split(\" \",expand=True)"
   ]
  },
  {
   "cell_type": "code",
   "execution_count": 46,
   "id": "c703cc2e",
   "metadata": {
    "scrolled": true
   },
   "outputs": [
    {
     "data": {
      "text/html": [
       "<div>\n",
       "<style scoped>\n",
       "    .dataframe tbody tr th:only-of-type {\n",
       "        vertical-align: middle;\n",
       "    }\n",
       "\n",
       "    .dataframe tbody tr th {\n",
       "        vertical-align: top;\n",
       "    }\n",
       "\n",
       "    .dataframe thead th {\n",
       "        text-align: right;\n",
       "    }\n",
       "</style>\n",
       "<table border=\"1\" class=\"dataframe\">\n",
       "  <thead>\n",
       "    <tr style=\"text-align: right;\">\n",
       "      <th></th>\n",
       "      <th>Name</th>\n",
       "      <th>Date</th>\n",
       "      <th>Twits</th>\n",
       "      <th>Time</th>\n",
       "    </tr>\n",
       "  </thead>\n",
       "  <tbody>\n",
       "    <tr>\n",
       "      <th>0</th>\n",
       "      <td>nilay1996</td>\n",
       "      <td>2023-04-06</td>\n",
       "      <td>$TCS.NSE  \\n \\n3245</td>\n",
       "      <td>04:13:28+00:00</td>\n",
       "    </tr>\n",
       "    <tr>\n",
       "      <th>1</th>\n",
       "      <td>sajal_thakkar</td>\n",
       "      <td>2023-04-05</td>\n",
       "      <td>$TCS.NSE  \\nThe stock is increasing from the l...</td>\n",
       "      <td>18:05:10+00:00</td>\n",
       "    </tr>\n",
       "    <tr>\n",
       "      <th>2</th>\n",
       "      <td>pranavscharts</td>\n",
       "      <td>2023-04-05</td>\n",
       "      <td>$TCS.NSE forming rounding bottom pattern on hh...</td>\n",
       "      <td>15:57:20+00:00</td>\n",
       "    </tr>\n",
       "    <tr>\n",
       "      <th>3</th>\n",
       "      <td>Paresh02</td>\n",
       "      <td>2023-04-05</td>\n",
       "      <td>$ADANIENT.NSE $TCS.NSE 🥂</td>\n",
       "      <td>14:50:13+00:00</td>\n",
       "    </tr>\n",
       "    <tr>\n",
       "      <th>4</th>\n",
       "      <td>cyan22</td>\n",
       "      <td>2023-04-05</td>\n",
       "      <td>$TCS.NSE https://tcs.com</td>\n",
       "      <td>13:18:32+00:00</td>\n",
       "    </tr>\n",
       "  </tbody>\n",
       "</table>\n",
       "</div>"
      ],
      "text/plain": [
       "            Name        Date  \\\n",
       "0      nilay1996  2023-04-06   \n",
       "1  sajal_thakkar  2023-04-05   \n",
       "2  pranavscharts  2023-04-05   \n",
       "3       Paresh02  2023-04-05   \n",
       "4         cyan22  2023-04-05   \n",
       "\n",
       "                                               Twits            Time  \n",
       "0                                $TCS.NSE  \\n \\n3245  04:13:28+00:00  \n",
       "1  $TCS.NSE  \\nThe stock is increasing from the l...  18:05:10+00:00  \n",
       "2  $TCS.NSE forming rounding bottom pattern on hh...  15:57:20+00:00  \n",
       "3                           $ADANIENT.NSE $TCS.NSE 🥂  14:50:13+00:00  \n",
       "4                           $TCS.NSE https://tcs.com  13:18:32+00:00  "
      ]
     },
     "execution_count": 46,
     "metadata": {},
     "output_type": "execute_result"
    }
   ],
   "source": [
    "df.head()"
   ]
  },
  {
   "cell_type": "code",
   "execution_count": null,
   "id": "3425b206",
   "metadata": {},
   "outputs": [],
   "source": []
  },
  {
   "cell_type": "code",
   "execution_count": null,
   "id": "9e05bd6e",
   "metadata": {},
   "outputs": [],
   "source": []
  },
  {
   "cell_type": "code",
   "execution_count": null,
   "id": "3711dab4",
   "metadata": {},
   "outputs": [],
   "source": []
  }
 ],
 "metadata": {
  "kernelspec": {
   "display_name": "Python 3 (ipykernel)",
   "language": "python",
   "name": "python3"
  },
  "language_info": {
   "codemirror_mode": {
    "name": "ipython",
    "version": 3
   },
   "file_extension": ".py",
   "mimetype": "text/x-python",
   "name": "python",
   "nbconvert_exporter": "python",
   "pygments_lexer": "ipython3",
   "version": "3.11.2"
  }
 },
 "nbformat": 4,
 "nbformat_minor": 5
}
