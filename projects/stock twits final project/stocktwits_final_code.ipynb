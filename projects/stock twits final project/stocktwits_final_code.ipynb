{
 "cells": [
  {
   "cell_type": "code",
   "execution_count": 4,
   "id": "51aa08d4",
   "metadata": {},
   "outputs": [
    {
     "name": "stdout",
     "output_type": "stream",
     "text": [
      "All libraries, modules are imported\n",
      " STAGE 01 : User input converted into datetime section of code is done\n"
     ]
    },
    {
     "name": "stderr",
     "output_type": "stream",
     "text": [
      "C:\\Users\\admin\\AppData\\Local\\Temp\\ipykernel_22376\\3614811208.py:28: DeprecationWarning: executable_path has been deprecated, please pass in a Service object\n",
      "  driver = webdriver.Chrome(ChromeDriverManager().install())\n"
     ]
    },
    {
     "name": "stdout",
     "output_type": "stream",
     "text": [
      " STAGE 02 : driver all set\n",
      " STAGE 03 : Cleaning of last element is done, Way yo Scrolling\n",
      " STAGE 04 : Scrolling is done, lets scrape the data\n",
      "Final Stage 05 : All set Names, Time, Twits and Signals are scraped in final_list variable\n"
     ]
    }
   ],
   "source": [
    "#1.--> All libraries,modules and packages\n",
    "from bs4 import BeautifulSoup\n",
    "from selenium import webdriver\n",
    "from webdriver_manager.chrome import ChromeDriverManager\n",
    "from selenium.webdriver.common.by import By\n",
    "from selenium.webdriver.chrome.service import Service\n",
    "import re\n",
    "import time\n",
    "from datetime import date\n",
    "from datetime import timedelta\n",
    "import json\n",
    "import pandas as pd\n",
    "import numpy as np\n",
    "import matplotlib.pyplot as plt\n",
    "%matplotlib inline\n",
    "from datetime import datetime \n",
    "print('All libraries, modules are imported')\n",
    "#2.-->User Input converted ito datetime\n",
    "start_date = '2023-04-10'\n",
    "end_date   = '2023-04-29'\n",
    "start_date_done = datetime.strptime(start_date,'%Y-%m-%d')\n",
    "end_date_done = datetime.strptime(start_date,'%Y-%m-%d')\n",
    "# here use variable start_date_done and end_date_done\n",
    "time.sleep(2)\n",
    "print(' STAGE 01 : User input converted into datetime section of code is done')\n",
    "\n",
    "#3.-->driver and html and soup maker\n",
    "driver = webdriver.Chrome(ChromeDriverManager().install())\n",
    "name_of_stock = 'TCS.NSE'\n",
    "driver.get('https://stocktwits.com/symbol/'+name_of_stock)\n",
    "time.sleep(2)\n",
    "html = driver.page_source\n",
    "time.sleep(2)\n",
    "soup = BeautifulSoup(html)\n",
    "time.sleep(2)\n",
    "driver.maximize_window()\n",
    "time.sleep(2)\n",
    "print(' STAGE 02 : driver all set')\n",
    "\n",
    "#4.-->Last element cleaning and converted into datetime datatype for scrolling\n",
    "date_value1 = driver.find_elements(By.TAG_NAME,'time')[-1].get_attribute('datetime')\n",
    "#print(date_value1)\n",
    "date_value2 = re.sub(pattern = \"[T-Z]+\",repl = ' ',string=date_value1)\n",
    "#print(date_value2)\n",
    "date_value3 = date_value2.replace(date_value2[10:],'')\n",
    "# print(date_value3)\n",
    "date_value4 = datetime.strptime(date_value3,'%Y-%m-%d')\n",
    "print(' STAGE 03 : Cleaning of last element is done, Way yo Scrolling')\n",
    "time.sleep(2)\n",
    "\n",
    "#5.-->scrolling is done by the below method\n",
    "while (True):\n",
    "    driver.execute_script(\"window.scrollTo(0, document.body.scrollHeight);\")\n",
    "    if end_date_done <= date_value4 :\n",
    "        break\n",
    "time.sleep(2)\n",
    "print(' STAGE 04 : Scrolling is done, lets scrape the data')\n",
    "\n",
    "#6.-->Data Scraping starts from here\n",
    "final_list = []\n",
    "box = soup.find_all(('div') ,{\"class\":\"StreamMessage_main___aESy grid\"})\n",
    "\n",
    "for element in box :\n",
    "    name_value    =  element.find(('span') , {\"class\" : 'StreamMessage_username-default__gka83 font-bold'}).text\n",
    "    time.sleep(2)\n",
    "    time_value    =  element.find('time')['datetime']\n",
    "    time.sleep(2)\n",
    "    twits_value   =  element.find(('div') , {\"class\" : 'RichTextMessage_body__Fa2W1 whitespace-pre-wrap'}).text\n",
    "    time.sleep(2)\n",
    "    temp_signal = element.find(('span') , {\"aria-label\" : 'Message sentiment'})\n",
    "    if temp_signal:\n",
    "        signal_value = temp_signal.text\n",
    "    else:\n",
    "        temp_signal = 'Null'\n",
    "        signal_value = temp_signal\n",
    "    time.sleep(2)\n",
    "    box_info = {'Name':name_value,'Date':time_value,'Twits': twits_value,'Signal': signal_value}# signal_twits [bearish or bullish]\n",
    "    time.sleep(2)\n",
    "    final_list.append(box_info)\n",
    "time.sleep(2)\n",
    "print('Final Stage 05 : All set Names, Time, Twits and Signals are scraped in final_list variable')"
   ]
  },
  {
   "cell_type": "code",
   "execution_count": 5,
   "id": "c3db46da",
   "metadata": {},
   "outputs": [
    {
     "data": {
      "text/plain": [
       "[{'Name': 'sahil1400',\n",
       "  'Date': '2023-04-28T12:12:07Z',\n",
       "  'Twits': \"The IT sector has closed in green and $TCS.NSE was up almost 1% today and has given breakout with good volume. I personally have added a couple of it in my portfolio and I'm expecting a target of 3500 in the next couple of weeks.\",\n",
       "  'Signal': 'Null'},\n",
       " {'Name': 'iYashUpadhyaya',\n",
       "  'Date': '2023-04-28T11:47:24Z',\n",
       "  'Twits': \"$TCS.NSE $INFY.NSE $HCLTECH.NSE $WIPRO.NSE $TECHM.NSE \\n\\n1/ IT services Q4 review: Here are the top takeaways:\\n\\nA thread 🧵\\n\\n2/ Most companies reported lower-than-expected top line growth in Q4. \\n\\n- TCS: Rs 59,162 Cr (up 16.9% y-o-y)\\n- Infosys: Rs 37,441 Cr (up 16% y-o-y)\\n- HCL: Rs 26,606 Cr (up 17.75% y-o-y)\\n- Wipro: Rs 23,190 (up 11.20% y-o-y)\\n- TechM: Rs 13,718 Cr (up 13% y-o-y)\\n\\n3/ CC revenue was down in Q4 despite rupee's weakness.\\n\\n- TCS: $7,195 million (up 0.6%)\\n- Infosys: $4,554 million (down 3.2%)\\n- HCL- $3234.6 million (down 1.2%)\\n- Wipro- $2,831 million (down 0.6%)\\n- TechM- $1668 million (flat)\\n\\n4/ Margins declined primarily due to the banking crisis, which affected the BFSI vertical.\\n\\n- TCS: 24.5% (versus 25%)\\n- Infosys: 21% (versus 20.5%)\\n- HCL: 18.2% (versus 18.0%)\\n- Wipro: 16.3% (versus 17.0%)\\n- TechM: 11.20% (versus 13.2%) Bullish\",\n",
       "  'Signal': 'Bullish'},\n",
       " {'Name': 'vinithkumar',\n",
       "  'Date': '2023-04-28T09:59:41Z',\n",
       "  'Twits': '$TCS.NSE \\nStock currently looks bullish\\nCurrently trading abv 3day EMA\\nWHICH IS POSITIVE.!\\nWIL TARGET 3350 SOON.!',\n",
       "  'Signal': 'Null'},\n",
       " {'Name': 'Tushar_kumar',\n",
       "  'Date': '2023-04-28T07:03:43Z',\n",
       "  'Twits': '$TCS.NSE MACD bearish crossover, but RSI is below the overbought zone \\ntrade with caution Bearish',\n",
       "  'Signal': 'Bearish'},\n",
       " {'Name': 'TraderSid21',\n",
       "  'Date': '2023-04-28T04:48:48Z',\n",
       "  'Twits': '$WIPRO.NSE good results ... lot of bad news was already known by the market. Nice sign for IT $TCS.NSE $INFY.NSE $HCLTECH.NSE $TECHM.NSE Bullish',\n",
       "  'Signal': 'Bullish'},\n",
       " {'Name': 'Analyst_Aashay',\n",
       "  'Date': '2023-04-28T04:26:46Z',\n",
       "  'Twits': \"$TCS.NSE  \\nLooks positive  seeing a crossover of 50 over 100 EMA which shows a bullish sign  \\n stock to be bullish till it's above 50,100,200 EMA\",\n",
       "  'Signal': 'Null'},\n",
       " {'Name': 'CAPriyankalimaye',\n",
       "  'Date': '2023-04-27T16:19:21Z',\n",
       "  'Twits': '$TCS.NSE If RSI doesnt sustain at 50 \\nCan again fall till downtrendline!',\n",
       "  'Signal': 'Null'},\n",
       " {'Name': 'TraderSid21',\n",
       "  'Date': '2023-04-27T02:41:33Z',\n",
       "  'Twits': '$NIFTY50.NSE lets see if we can continue higher today ... IT should do OK as Microsoft earnings were quite good $TCS.NSE $INFY.NSE $HCLTECH.NSE $WIPRO.NSE Bullish',\n",
       "  'Signal': 'Bullish'},\n",
       " {'Name': 'Neha06',\n",
       "  'Date': '2023-04-26T14:48:00Z',\n",
       "  'Twits': \"$TCS.NSE 's financial insights. \\n \\nThe company's yearly sales growth of 16.93% outpaced its three-year CAGR of 12.19%, beating it. Consolidated Financials is the source. \\n \\nstaff and Interest Expense: In the year ended March 31, 2023, the company spent 56.56% of its staff costs and less than 1% of its operational revenues on interest charges. Consolidated Financials is the source.\",\n",
       "  'Signal': 'Null'},\n",
       " {'Name': 'TraderSid21',\n",
       "  'Date': '2023-04-26T10:04:41Z',\n",
       "  'Twits': '$INFY.NSE unlikely this has bottomed ... most have long term holders though so probably doesnt matter to them. Long term guys will just buy all dips. Large Cap IT sector will turn around, it always does $TCS.NSE $WIPRO.NSE $HCLTECH.NSE $TECHM.NSE Bullish',\n",
       "  'Signal': 'Bullish'},\n",
       " {'Name': 'TraderSid21',\n",
       "  'Date': '2023-04-26T10:00:22Z',\n",
       "  'Twits': '$KPITTECH.NSE another strong move on nice earnings, they probably have less US exposure than $TCS.NSE $INFY.NSE $WIPRO.NSE Bullish',\n",
       "  'Signal': 'Bullish'},\n",
       " {'Name': 'Analyst_Ameya',\n",
       "  'Date': '2023-04-26T07:16:35Z',\n",
       "  'Twits': '$TCS.NSE near the support trendline. \\nTime to go long! Bullish',\n",
       "  'Signal': 'Bullish'},\n",
       " {'Name': '1ShankarSharma',\n",
       "  'Date': '2023-04-26T05:14:13Z',\n",
       "  'Twits': \"An imp thing in the resignation of $TCS.NSE CEO was his main reason: The pressure.  \\n \\nBut this was a canary in the coalmine: one feels pressure in life ONLY when things & outlook aren't looking good. That spoke volumes of IT sector's near term future and $INFY.NSE 's miss was actually foretold by TCS CEO's departure. \\n \\n$NIFTYIT.NSE $NIFTY50.NSE\",\n",
       "  'Signal': 'Null'},\n",
       " {'Name': 'sudhit99',\n",
       "  'Date': '2023-04-25T17:49:36Z',\n",
       "  'Twits': '$TCS.NSE \\nCMP: 3176\\nLooking at the weekly chart pattern, it seems that TCS is currently bullish and the share price may touch 3400 in the coming months. Bullish',\n",
       "  'Signal': 'Bullish'},\n",
       " {'Name': 'Payal_Nagpal',\n",
       "  'Date': '2023-04-25T09:37:22Z',\n",
       "  'Twits': '$TCS.NSE Though stock is trading below Ema levels but from past few sessions there is corrrection in price and it is rising gradually.Macd is also slightly bullish. Bullish',\n",
       "  'Signal': 'Bullish'},\n",
       " {'Name': 'ankit012',\n",
       "  'Date': '2023-04-25T06:31:53Z',\n",
       "  'Twits': '$TCS.NSE Daily time frame \\nRSI-48 (neutral) \\nA good bullish movement can be seen from the support level of 3100. \\nThe immediate resistance is around 3270.',\n",
       "  'Signal': 'Null'},\n",
       " {'Name': 'REDBOXINDIA',\n",
       "  'Date': '2023-04-25T05:35:47Z',\n",
       "  'Twits': 'TCS: M&S EXTENDS ITS PARTNERSHIP WITH CO AS IT RESHAPES FOR GROWTH AND VALUE CREATION \\n \\n$TCS.NSE Bullish',\n",
       "  'Signal': 'Bullish'},\n",
       " {'Name': 'ETMarkets',\n",
       "  'Date': '2023-04-25T04:09:14Z',\n",
       "  'Twits': 'Big Movers on D-St: What should investors do with Cyient, Wipro and TCS? \\n \\n$RELIANCE.NSE $WIPRO.NSE $TCS.NSE\\neconomictimes.indiatimes.co...',\n",
       "  'Signal': 'Null'},\n",
       " {'Name': 'Cg_1999',\n",
       "  'Date': '2023-04-25T02:06:08Z',\n",
       "  'Twits': '$TCS.NSE  \\nTCS hired 22,600 in FY23. The company added over 1,03,000 people in FY 22. Hiring in FY23 witnessed a steep decline of 78 per cent as compared to the past financial year at TCS. Bearish',\n",
       "  'Signal': 'Bearish'},\n",
       " {'Name': 'az7aan',\n",
       "  'Date': '2023-04-24T17:16:11Z',\n",
       "  'Twits': '$TCS.NSE is trading 0.44% higher at Rs 3174.80, with a TTM P/E ratio of 27.56 compared to the sector P/E of 28.51. There are 42 analysts who have initiated coverage on the stock, with 7 giving it a strong buy rating and 13 giving it a buy rating. The company posted a net profit of 11392 Crores in its last quarter, and has a 72.3% promoter and 27.7% public holding. The Mutual Fund holding has increased from the last quarter, while the FII holding has decreased from the last quarter.',\n",
       "  'Signal': 'Null'},\n",
       " {'Name': 'pranavscharts',\n",
       "  'Date': '2023-04-24T15:46:17Z',\n",
       "  'Twits': '$TCS.NSE forming a falling wedge pattern on hourly timeframe. \\nRecently it has taken a support on a lower base. \\nAfter having a support it is ready to face a rejection of  Fibonacci level of 0.236(Rs.3188).',\n",
       "  'Signal': 'Null'},\n",
       " {'Name': 'sahil1400',\n",
       "  'Date': '2023-04-24T15:29:13Z',\n",
       "  'Twits': \"$TCS.NSE is looking good on weekly charts as it has formed a W pattern. I'm looking forward to add new positions if it starts trading above 3220 and forms a bullish candle.\",\n",
       "  'Signal': 'Null'}]"
      ]
     },
     "execution_count": 5,
     "metadata": {},
     "output_type": "execute_result"
    }
   ],
   "source": [
    "final_list"
   ]
  },
  {
   "cell_type": "code",
   "execution_count": 6,
   "id": "f26833c1",
   "metadata": {},
   "outputs": [],
   "source": [
    "import json\n",
    "with open(\"stock_twits.json\",\"w\") as f :     #json ek package(class)   dumps is function\n",
    "    json.dump(final_list,f)"
   ]
  },
  {
   "cell_type": "markdown",
   "id": "f5c865e5",
   "metadata": {},
   "source": [
    "# Its is a python part not a webscraping part"
   ]
  },
  {
   "cell_type": "raw",
   "id": "bb904141",
   "metadata": {},
   "source": [
    "agar span tag mai hai to .text\n",
    "nhi hai to "
   ]
  },
  {
   "cell_type": "code",
   "execution_count": 275,
   "id": "2f9c08f3",
   "metadata": {
    "collapsed": true
   },
   "outputs": [
    {
     "data": {
      "text/plain": [
       "['Null',\n",
       " 'Null',\n",
       " 'Bearish',\n",
       " 'Null',\n",
       " 'Null',\n",
       " 'Null',\n",
       " 'Null',\n",
       " 'Bullish',\n",
       " 'Null',\n",
       " 'Bullish',\n",
       " 'Null',\n",
       " 'Null',\n",
       " 'Null',\n",
       " 'Bullish',\n",
       " 'Bullish',\n",
       " 'Null',\n",
       " 'Null',\n",
       " 'Bearish',\n",
       " 'Null',\n",
       " 'Bullish',\n",
       " 'Null',\n",
       " 'Bullish']"
      ]
     },
     "execution_count": 275,
     "metadata": {},
     "output_type": "execute_result"
    }
   ],
   "source": [
    "list_ = []\n",
    "# temp_signal = element.find(('span') , {\"aria-label\" : 'Message sentiment'})\n",
    "for element in box :\n",
    "    temp_signal = element.find(('span') , {\"aria-label\" : 'Message sentiment'})\n",
    "    if temp_signal:\n",
    "        a = temp_signal.text\n",
    "        list_.append(a)\n",
    "    else:\n",
    "        temp_signal = 'Null'\n",
    "        a = temp_signal\n",
    "        list_.append(a)\n",
    "list_"
   ]
  }
 ],
 "metadata": {
  "kernelspec": {
   "display_name": "Python 3 (ipykernel)",
   "language": "python",
   "name": "python3"
  },
  "language_info": {
   "codemirror_mode": {
    "name": "ipython",
    "version": 3
   },
   "file_extension": ".py",
   "mimetype": "text/x-python",
   "name": "python",
   "nbconvert_exporter": "python",
   "pygments_lexer": "ipython3",
   "version": "3.11.2"
  }
 },
 "nbformat": 4,
 "nbformat_minor": 5
}
