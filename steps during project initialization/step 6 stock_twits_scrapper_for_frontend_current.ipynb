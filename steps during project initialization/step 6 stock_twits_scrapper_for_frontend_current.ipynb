{
 "cells": [
  {
   "cell_type": "code",
   "execution_count": 5,
   "id": "3a1877e3",
   "metadata": {},
   "outputs": [
    {
     "name": "stderr",
     "output_type": "stream",
     "text": [
      "[nltk_data] Downloading package stopwords to\n",
      "[nltk_data]     C:\\Users\\abdul\\AppData\\Roaming\\nltk_data...\n",
      "[nltk_data]   Package stopwords is already up-to-date!\n"
     ]
    }
   ],
   "source": [
    "import pymongo\n",
    "from bs4 import BeautifulSoup\n",
    "import textwrap\n",
    "from selenium import webdriver\n",
    "from webdriver_manager.chrome import ChromeDriverManager\n",
    "from selenium.webdriver.common.by import By\n",
    "from selenium.webdriver.chrome.service import Service\n",
    "import re\n",
    "import time\n",
    "from datetime import date\n",
    "from datetime import timedelta\n",
    "import json\n",
    "import pandas as pd\n",
    "import numpy as np\n",
    "import matplotlib.pyplot as plt\n",
    "from datetime import datetime \n",
    "import json\n",
    "import requests\n",
    "from pymongo.errors import BulkWriteError\n",
    "from pprint import pprint\n",
    "import nltk\n",
    "import string\n",
    "nltk.download('stopwords')\n",
    "from nltk.corpus import stopwords\n",
    "import emoji\n",
    "from nltk.stem import PorterStemmer\n",
    "from nltk.tokenize import word_tokenize\n",
    "from nltk.stem import WordNetLemmatizer\n",
    "from nltk.probability import FreqDist\n",
    "from itertools import chain\n",
    "from collections import Counter\n",
    "from sklearn.feature_extraction.text import TfidfVectorizer"
   ]
  },
  {
   "cell_type": "code",
   "execution_count": 6,
   "id": "2cbf1fa4",
   "metadata": {},
   "outputs": [],
   "source": [
    "header = {'Accept' : 'application/json',\n",
    "          'user-agent': 'Mozilla/5.0 (Windows NT 10.0; Win64; x64) AppleWebKit/537.36 (KHTML, like Gecko) Chrome/117.0.0.0 Safari/537.36',\n",
    "            'Accept-Encoding':'gzip, deflate, br',\n",
    "            'Accept-Language' :  'en-IN,en-GB;q=0.9,en-US;q=0.8,en;q=0.7,hi;q=0.6',\n",
    "            'Connection': 'keep-alive',\n",
    "            'Sec-Fetch-Site':'same-site',\n",
    "            'Sec-Fetch-Mode':'cors',\n",
    "            'Sec-Fetch-Dest':'empty'}\n",
    "stock_related_data = []\n",
    "stock_name = 'TV18BRDCST.NSE'\n",
    "list_of_pages = ['about','fundamentals']   # making a list of pages\n",
    "for link_address in list_of_pages:\n",
    "    url_frontend = f\"https://stocktwits.com/symbol/{stock_name}/{link_address}\"   # two words will be change in the domain name\n",
    "    responce = requests.get(url_frontend,headers = header)\n",
    "    htmlContent = responce.content\n",
    "    soup = BeautifulSoup(htmlContent,\"html.parser\")\n",
    "    \n",
    "    if link_address == 'about':  # if it is in about page than this will execute\n",
    "        stocks_full_package = soup.find_all(('div') ,{\"class\":\"SymbolAbout_container__0u8Yw px-4 py-5 text-base flex flex-col justify-between\"})\n",
    "        for element in stocks_full_package:\n",
    "            stock_description = element.find(('div') , {\"data-cy\" : \"symbol-about-description\"}).text\n",
    "            stock_description_result = {'about': stock_description}\n",
    "            stock_related_data.append(stock_description_result)\n",
    "    elif link_address == 'fundamentals': # if it is in fundamentals page than this will execute\n",
    "        stocks_full_package = soup.find_all(('div') ,{\"class\":\"SymbolFundamentalsTable_container__2fbMe grid pt-4 tabletSm|pt-10 w-full bg-primary-background\"})\n",
    "        elements = soup.find_all(class_='SymbolFundamentalsTable_value__7PL60 font-semibold text-sm')  # Taking all the same class name\n",
    "        \n",
    "        # Here giving the elements as its indivitual values through indexing\n",
    "        current_price = elements[0].text\n",
    "        previous_close = elements[1].text\n",
    "        open_price = elements[2].text\n",
    "        dividend_yield = elements[3].text\n",
    "        fifty_day_moving_average = elements[4].text\n",
    "        beta = elements[5].text\n",
    "        avg_volume = elements[6].text\n",
    "        pe_ratio = elements[7].text\n",
    "        fifty_two_week_high = elements[8].text\n",
    "        fifty_two_week_low = elements[9].text\n",
    "        market_capitalization = elements[10].text\n",
    "        eps = elements[11].text\n",
    "        price_to_book = elements[12].text\n",
    "        revenue_per_emp = elements[13].text\n",
    "        enterprise_value_slash_ebitda = elements[14].text\n",
    "        final_dict = {'Current Price':current_price,'Previous Close': previous_close,\n",
    "                     'Open Price':open_price,'Dividend Yeild':dividend_yield,\n",
    "                     '50 Day Moving Average':fifty_day_moving_average,'Beta':beta,\n",
    "                     'Avg Volume':avg_volume,'PE Ratio':pe_ratio,'52 Week High':fifty_two_week_high,\n",
    "                     '52 Week Low': fifty_two_week_low,'Market Capitalization':market_capitalization,\n",
    "                     'EPS':eps,'Price to Book':price_to_book,'Revenue Per Employee':revenue_per_emp,\n",
    "                     'Enterprise Value/EBITDA':enterprise_value_slash_ebitda}\n",
    "        stock_related_data.append(final_dict)\n",
    "# print(stock_description,'\\n')\n",
    "# print(current_price,'\\n',\n",
    "#               open_price,'\\n',\n",
    "#               dividend_yield,'\\n',\n",
    "#               fifty_day_moving_average,'\\n',\n",
    "#               beta,'\\n',\n",
    "#               avg_volume,'\\n',\n",
    "#               pe_ratio,'\\n',\n",
    "#               fifty_two_week_high,'\\n',\n",
    "#               fifty_two_week_low,'\\n',\n",
    "#               market_capitalization,'\\n',\n",
    "#               eps,'\\n',\n",
    "#               price_to_book,'\\n',\n",
    "#               revenue_per_emp,'\\n',\n",
    "#               enterprise_value_slash_ebitda\n",
    "#         )\n",
    "# list_of_details = [current_price,open_price,dividend_yield,fifty_day_moving_average,beta,avg_volume,pe_ratio,fifty_two_week_high,\n",
    "#                   fifty_two_week_low,market_capitalization,eps,price_to_book,revenue_per_emp,enterprise_value_slash_ebitda]\n"
   ]
  },
  {
   "cell_type": "code",
   "execution_count": 7,
   "id": "be71f462",
   "metadata": {},
   "outputs": [
    {
     "data": {
      "text/plain": [
       "[{'about': 'TV18 Broadcast Ltd. operates as a television broadcasting network. It engages in entertainment channels, news broadcasting, digital content, and allied businesses. The company was founded by Raghav Bahl on June 6, 2005 and is headquartered in Noida, India.'},\n",
       " {'Current Price': '58.80',\n",
       "  'Previous Close': '58.00',\n",
       "  'Open Price': '58.10',\n",
       "  'Dividend Yeild': '0.00%',\n",
       "  '50 Day Moving Average': '57.03',\n",
       "  'Beta': 'N/A',\n",
       "  'Avg Volume': '50.5M',\n",
       "  'PE Ratio': '259.51',\n",
       "  '52 Week High': '68.70',\n",
       "  '52 Week Low': '27.35',\n",
       "  'Market Capitalization': '99.43B',\n",
       "  'EPS': '0.2235',\n",
       "  'Price to Book': '0.59',\n",
       "  'Revenue Per Employee': '18.96M',\n",
       "  'Enterprise Value/EBITDA': '-44.10'}]"
      ]
     },
     "execution_count": 7,
     "metadata": {},
     "output_type": "execute_result"
    }
   ],
   "source": [
    "stock_related_data"
   ]
  },
  {
   "cell_type": "code",
   "execution_count": 4,
   "id": "c96a24a4",
   "metadata": {},
   "outputs": [
    {
     "data": {
      "text/plain": [
       "['Current Price: 58.80',\n",
       " 'Open: 58.10',\n",
       " 'Dividend Yield: 0.00%',\n",
       " '50-Day Moving Average: 57.03',\n",
       " 'Beta: N/A',\n",
       " 'Avg. Volume: 50.5M',\n",
       " 'PE Ratio : 259.51',\n",
       " '52-Week High: 68.70',\n",
       " '52-Week Low: 27.35',\n",
       " 'Market Capitalization: 99.43B',\n",
       " 'EPS: 0.2235',\n",
       " 'Price to Book: 0.59',\n",
       " 'Revenue Per Employee: 18.96M',\n",
       " 'Enterprise Value/EBITDA: -44.10']"
      ]
     },
     "execution_count": 4,
     "metadata": {},
     "output_type": "execute_result"
    }
   ],
   "source": [
    "list_of_details"
   ]
  },
  {
   "cell_type": "code",
   "execution_count": 65,
   "id": "f420ea77",
   "metadata": {},
   "outputs": [
    {
     "data": {
      "text/plain": [
       "'Tata Motors Ltd. is an automobile manufacturer with a portfolio that includes a range of cars, utility vehicles, trucks, buses, and defense vehicles. It operates through the Automotive and Others segments. The Automotive segment includes all activities relating to the development, design, manufacture, assembly and sale of vehicles including vehicle financing, as well as sale of related parts and accessories. It also consists of sub-segments, such as, Tata Commercial Vehicles, Tata Passenger Vehicles, Jaguar Land Rover, and Vehicle Financing. The Others segment includes information technology and insurance broking services. The company was founded on September 1, 1945 and is headquartered in Mumbai, India.'"
      ]
     },
     "execution_count": 65,
     "metadata": {},
     "output_type": "execute_result"
    }
   ],
   "source": [
    "stock_description"
   ]
  },
  {
   "cell_type": "code",
   "execution_count": 51,
   "id": "7f1fd0ec",
   "metadata": {
    "collapsed": true
   },
   "outputs": [
    {
     "name": "stdout",
     "output_type": "stream",
     "text": [
      "Current Price: 920.15 \n",
      " Open: 923.70 \n",
      " Dividend Yield: 0.48% \n",
      " 50-Day Moving Average: 797.37 \n",
      " Beta: 0.04 \n",
      " Avg. Volume: 10.75M \n",
      " PE Ratio : 18.03 \n",
      " 52-Week High: 950.00 \n",
      " 52-Week Low: 400.45 \n",
      " Market Capitalization: 3.5T \n",
      " EPS: 50.31 \n",
      " Price to Book: 6.52 \n",
      " Revenue Per Employee: 35.95M \n",
      " Enterprise Value/EBITDA: 5.78\n"
     ]
    }
   ],
   "source": [
    "stocks_full_package = soup.find_all(('div') ,{\"class\":\"SymbolFundamentalsTable_container__2fbMe grid pt-4 tabletSm|pt-10 w-full bg-primary-background\"})\n",
    "elements = soup.find_all(class_='SymbolFundamentalsTable_value__7PL60 font-semibold text-sm')\n",
    "# for element in elements:\n",
    "#     print(element.text)\n",
    "current_price = f\"Current Price: {elements[0].text}\"\n",
    "previous_close = f\"Previous Price: {elements[1].text}\"\n",
    "open_price = f\"Open: {elements[2].text}\"\n",
    "dividend_yield = f\"Dividend Yield: {elements[3].text}\"\n",
    "fifty_day_moving_average = f\"50-Day Moving Average: {elements[4].text}\"\n",
    "beta = f\"Beta: {elements[5].text}\"\n",
    "avg_volume = f\"Avg. Volume: {elements[6].text}\"\n",
    "pe_ratio = f\"PE Ratio : {elements[7].text}\"\n",
    "fifty_two_week_high = f\"52-Week High: {elements[8].text}\"\n",
    "fifty_two_week_low = f\"52-Week Low: {elements[9].text}\"\n",
    "market_capitalization = f\"Market Capitalization: {elements[10].text}\"\n",
    "eps = f\"EPS: {elements[11].text}\"\n",
    "price_to_book = f\"Price to Book: {elements[12].text}\"\n",
    "revenue_per_emp = f\"Revenue Per Employee: {elements[13].text}\"\n",
    "enterprise_value_slash_ebitda = f\"Enterprise Value/EBITDA: {elements[14].text}\"\n",
    "print(current_price,'\\n',\n",
    "      open_price,'\\n',\n",
    "      dividend_yield,'\\n',\n",
    "      fifty_day_moving_average,'\\n',\n",
    "      beta,'\\n',\n",
    "      avg_volume,'\\n',\n",
    "      pe_ratio,'\\n',\n",
    "      fifty_two_week_high,'\\n',\n",
    "      fifty_two_week_low,'\\n',\n",
    "      market_capitalization,'\\n',\n",
    "      eps,'\\n',\n",
    "      price_to_book,'\\n',\n",
    "      revenue_per_emp,'\\n',\n",
    "      enterprise_value_slash_ebitda\n",
    ")\n",
    "\n",
    "\n"
   ]
  },
  {
   "cell_type": "code",
   "execution_count": 54,
   "id": "4ea32cdb",
   "metadata": {
    "collapsed": true
   },
   "outputs": [
    {
     "name": "stdout",
     "output_type": "stream",
     "text": [
      "<div class=\"SymbolAbout_container__0u8Yw px-4 py-5 text-base flex flex-col justify-between\"><div data-cy=\"symbol-about-description\">Tata Motors Ltd. is an automobile manufacturer with a portfolio that includes a range of cars, utility vehicles, trucks, buses, and defense vehicles. It operates through the Automotive and Others segments. The Automotive segment includes all activities relating to the development, design, manufacture, assembly and sale of vehicles including vehicle financing, as well as sale of related parts and accessories. It also consists of sub-segments, such as, Tata Commercial Vehicles, Tata Passenger Vehicles, Jaguar Land Rover, and Vehicle Financing. The Others segment includes information technology and insurance broking services. The company was founded on September 1, 1945 and is headquartered in Mumbai, India.</div><div class=\"SymbolAbout_aboutInfo__UNBcc w-full grid mt-10 pb-5 mb-4 border-b border-primary-hairline text-sm\"><div><div class=\"SymbolAbout_aboutInfoItemTitle__dhRHr text-xs font-semibold uppercase tracking-wider\">Sector:</div><div><span class=\"SymbolAbout_pill__f1yr3 SymbolAbout_infoItem__QHh65 inline-block py-1.5 mt-1.5 font-semibold text-primary-text bg-primary-background px-[18px] tabletSm-down|px-3 mb-5 rounded-full border border-secondary-border\">Consumer Durables</span></div></div><div><div class=\"SymbolAbout_aboutInfoItemTitle__dhRHr text-xs font-semibold uppercase tracking-wider\">Industry:</div><div><span class=\"SymbolAbout_pill__f1yr3 SymbolAbout_infoItem__QHh65 inline-block py-1.5 mt-1.5 font-semibold text-primary-text bg-primary-background px-[18px] tabletSm-down|px-3 mb-5 rounded-full border border-secondary-border\">Motor Vehicles</span></div></div><div><div class=\"SymbolAbout_aboutInfoItemTitle__dhRHr text-xs font-semibold uppercase tracking-wider\">Employees:</div><div><strong class=\"SymbolAbout_infoItem__QHh65 inline-block py-1.5 mt-1.5 font-semibold text-primary-text bg-primary-background\">117,893</strong></div></div></div><div itemscope=\"\" itemtype=\"https://schema.org/FAQPage\"><p class=\"SymbolAbout_title__fM38F font-bold text-2xl\">Frequently Asked Questions</p><div class=\"SymbolAbout_questions__dbREo w-full divide-y-[1px] mb-10\"><div class=\"border-tertiary-border\" itemprop=\"mainEntity\" itemscope=\"\" itemtype=\"https://schema.org/Question\"><div class=\"flex flex-row justify-between items-center cursor-pointer cursor-pointer\"><div class=\"SymbolAbout_question__pKsF_ w-full font-semibold text-primary-text py-4\" itemprop=\"name\">What is Market Cap of Tata Motors Ltd.?</div><svg aria-hidden=\"true\" class=\"svg-inline--fa fa-chevron-down fa-w-14 text-primary-text\" data-icon=\"chevron-down\" data-prefix=\"far\" focusable=\"false\" role=\"img\" viewbox=\"0 0 448 512\" xmlns=\"http://www.w3.org/2000/svg\"><path d=\"M441.9 167.3l-19.8-19.8c-4.7-4.7-12.3-4.7-17 0L224 328.2 42.9 147.5c-4.7-4.7-12.3-4.7-17 0L6.1 167.3c-4.7 4.7-4.7 12.3 0 17l209.4 209.4c4.7 4.7 12.3 4.7 17 0l209.4-209.4c4.7-4.7 4.7-12.3 0-17z\" fill=\"currentColor\"></path></svg></div><div itemprop=\"acceptedAnswer\" itemscope=\"\" itemtype=\"https://schema.org/Answer\"><p class=\"SymbolAbout_answer__m_OS1 text-primary-text pb-4 hidden\" itemprop=\"text\">Market cap, also known as market capitalization, is the total market value of a company. It’s calculated by multiplying the current market price by the total number of shares outstanding. Tata Motors Ltd. market cap is 3.5T.</p></div></div><div class=\"border-tertiary-border\" itemprop=\"mainEntity\" itemscope=\"\" itemtype=\"https://schema.org/Question\"><div class=\"flex flex-row justify-between items-center cursor-pointer cursor-pointer\"><div class=\"SymbolAbout_question__pKsF_ w-full font-semibold text-primary-text py-4\" itemprop=\"name\">What is the 52-week high for Tata Motors Ltd.?</div><svg aria-hidden=\"true\" class=\"svg-inline--fa fa-chevron-down fa-w-14 text-primary-text\" data-icon=\"chevron-down\" data-prefix=\"far\" focusable=\"false\" role=\"img\" viewbox=\"0 0 448 512\" xmlns=\"http://www.w3.org/2000/svg\"><path d=\"M441.9 167.3l-19.8-19.8c-4.7-4.7-12.3-4.7-17 0L224 328.2 42.9 147.5c-4.7-4.7-12.3-4.7-17 0L6.1 167.3c-4.7 4.7-4.7 12.3 0 17l209.4 209.4c4.7 4.7 12.3 4.7 17 0l209.4-209.4c4.7-4.7 4.7-12.3 0-17z\" fill=\"currentColor\"></path></svg></div><div itemprop=\"acceptedAnswer\" itemscope=\"\" itemtype=\"https://schema.org/Answer\"><p class=\"SymbolAbout_answer__m_OS1 text-primary-text pb-4 hidden\" itemprop=\"text\">52 week high is the highest price of a stock in the past 52 weeks, or one year. Tata Motors Ltd. 52 week high is 950.00 as of February 15, 2024.</p></div></div><div class=\"border-tertiary-border\" itemprop=\"mainEntity\" itemscope=\"\" itemtype=\"https://schema.org/Question\"><div class=\"flex flex-row justify-between items-center cursor-pointer cursor-pointer\"><div class=\"SymbolAbout_question__pKsF_ w-full font-semibold text-primary-text py-4\" itemprop=\"name\">What is the 52-week low for Tata Motors Ltd.?</div><svg aria-hidden=\"true\" class=\"svg-inline--fa fa-chevron-down fa-w-14 text-primary-text\" data-icon=\"chevron-down\" data-prefix=\"far\" focusable=\"false\" role=\"img\" viewbox=\"0 0 448 512\" xmlns=\"http://www.w3.org/2000/svg\"><path d=\"M441.9 167.3l-19.8-19.8c-4.7-4.7-12.3-4.7-17 0L224 328.2 42.9 147.5c-4.7-4.7-12.3-4.7-17 0L6.1 167.3c-4.7 4.7-4.7 12.3 0 17l209.4 209.4c4.7 4.7 12.3 4.7 17 0l209.4-209.4c4.7-4.7 4.7-12.3 0-17z\" fill=\"currentColor\"></path></svg></div><div itemprop=\"acceptedAnswer\" itemscope=\"\" itemtype=\"https://schema.org/Answer\"><p class=\"SymbolAbout_answer__m_OS1 text-primary-text pb-4 hidden\" itemprop=\"text\">52 week low is the lowest price of a stock in the past 52 weeks, or one year. Tata Motors Ltd. 52 week low is 400.45 as of February 15, 2024.</p></div></div><div class=\"border-tertiary-border\" itemprop=\"mainEntity\" itemscope=\"\" itemtype=\"https://schema.org/Question\"><div class=\"flex flex-row justify-between items-center cursor-pointer cursor-pointer\"><div class=\"SymbolAbout_question__pKsF_ w-full font-semibold text-primary-text py-4\" itemprop=\"name\">What is Tata Motors Ltd. stock price today?</div><svg aria-hidden=\"true\" class=\"svg-inline--fa fa-chevron-down fa-w-14 text-primary-text\" data-icon=\"chevron-down\" data-prefix=\"far\" focusable=\"false\" role=\"img\" viewbox=\"0 0 448 512\" xmlns=\"http://www.w3.org/2000/svg\"><path d=\"M441.9 167.3l-19.8-19.8c-4.7-4.7-12.3-4.7-17 0L224 328.2 42.9 147.5c-4.7-4.7-12.3-4.7-17 0L6.1 167.3c-4.7 4.7-4.7 12.3 0 17l209.4 209.4c4.7 4.7 12.3 4.7 17 0l209.4-209.4c4.7-4.7 4.7-12.3 0-17z\" fill=\"currentColor\"></path></svg></div><div itemprop=\"acceptedAnswer\" itemscope=\"\" itemtype=\"https://schema.org/Answer\"><p class=\"SymbolAbout_answer__m_OS1 text-primary-text pb-4 hidden\" itemprop=\"text\">Tata Motors Ltd. stock price today is 920.15.</p></div></div><div class=\"border-tertiary-border\" itemprop=\"mainEntity\" itemscope=\"\" itemtype=\"https://schema.org/Question\"><div class=\"flex flex-row justify-between items-center cursor-pointer cursor-pointer\"><div class=\"SymbolAbout_question__pKsF_ w-full font-semibold text-primary-text py-4\" itemprop=\"name\">What was Tata Motors Ltd. stock price yesterday?</div><svg aria-hidden=\"true\" class=\"svg-inline--fa fa-chevron-down fa-w-14 text-primary-text\" data-icon=\"chevron-down\" data-prefix=\"far\" focusable=\"false\" role=\"img\" viewbox=\"0 0 448 512\" xmlns=\"http://www.w3.org/2000/svg\"><path d=\"M441.9 167.3l-19.8-19.8c-4.7-4.7-12.3-4.7-17 0L224 328.2 42.9 147.5c-4.7-4.7-12.3-4.7-17 0L6.1 167.3c-4.7 4.7-4.7 12.3 0 17l209.4 209.4c4.7 4.7 12.3 4.7 17 0l209.4-209.4c4.7-4.7 4.7-12.3 0-17z\" fill=\"currentColor\"></path></svg></div><div itemprop=\"acceptedAnswer\" itemscope=\"\" itemtype=\"https://schema.org/Answer\"><p class=\"SymbolAbout_answer__m_OS1 text-primary-text pb-4 hidden\" itemprop=\"text\">Tata Motors Ltd. stock price yesterday was 918.50.</p></div></div><div class=\"border-tertiary-border\" itemprop=\"mainEntity\" itemscope=\"\" itemtype=\"https://schema.org/Question\"><div class=\"flex flex-row justify-between items-center cursor-pointer cursor-pointer\"><div class=\"SymbolAbout_question__pKsF_ w-full font-semibold text-primary-text py-4\" itemprop=\"name\">What is the PE ratio of Tata Motors Ltd.?</div><svg aria-hidden=\"true\" class=\"svg-inline--fa fa-chevron-down fa-w-14 text-primary-text\" data-icon=\"chevron-down\" data-prefix=\"far\" focusable=\"false\" role=\"img\" viewbox=\"0 0 448 512\" xmlns=\"http://www.w3.org/2000/svg\"><path d=\"M441.9 167.3l-19.8-19.8c-4.7-4.7-12.3-4.7-17 0L224 328.2 42.9 147.5c-4.7-4.7-12.3-4.7-17 0L6.1 167.3c-4.7 4.7-4.7 12.3 0 17l209.4 209.4c4.7 4.7 12.3 4.7 17 0l209.4-209.4c4.7-4.7 4.7-12.3 0-17z\" fill=\"currentColor\"></path></svg></div><div itemprop=\"acceptedAnswer\" itemscope=\"\" itemtype=\"https://schema.org/Answer\"><p class=\"SymbolAbout_answer__m_OS1 text-primary-text pb-4 hidden\" itemprop=\"text\">The Price-to-Earnings (or P/E) ratio is a commonly used tool for valuing a company. It’s calculated by dividing the current share price by the earnings per share (or EPS). It can also be calculated by dividing the company’s Market Cap by the Net Profit. Tata Motors Ltd.’s P/E ratio is 18.03.</p></div></div><div class=\"border-tertiary-border\" itemprop=\"mainEntity\" itemscope=\"\" itemtype=\"https://schema.org/Question\"><div class=\"flex flex-row justify-between items-center cursor-pointer cursor-pointer\"><div class=\"SymbolAbout_question__pKsF_ w-full font-semibold text-primary-text py-4\" itemprop=\"name\">What is the Price-to-Book ratio of Tata Motors Ltd.?</div><svg aria-hidden=\"true\" class=\"svg-inline--fa fa-chevron-down fa-w-14 text-primary-text\" data-icon=\"chevron-down\" data-prefix=\"far\" focusable=\"false\" role=\"img\" viewbox=\"0 0 448 512\" xmlns=\"http://www.w3.org/2000/svg\"><path d=\"M441.9 167.3l-19.8-19.8c-4.7-4.7-12.3-4.7-17 0L224 328.2 42.9 147.5c-4.7-4.7-12.3-4.7-17 0L6.1 167.3c-4.7 4.7-4.7 12.3 0 17l209.4 209.4c4.7 4.7 12.3 4.7 17 0l209.4-209.4c4.7-4.7 4.7-12.3 0-17z\" fill=\"currentColor\"></path></svg></div><div itemprop=\"acceptedAnswer\" itemscope=\"\" itemtype=\"https://schema.org/Answer\"><p class=\"SymbolAbout_answer__m_OS1 text-primary-text pb-4 hidden\" itemprop=\"text\">The Price-to-Book (P/B) ratio is a commonly used tool for valuing a company. It’s calculated by dividing a company’s market capitalization by its book value. Tata Motors Ltd. P/B ratio is 6.5199.</p></div></div><div class=\"border-tertiary-border\" itemprop=\"mainEntity\" itemscope=\"\" itemtype=\"https://schema.org/Question\"><div class=\"flex flex-row justify-between items-center cursor-pointer cursor-pointer\"><div class=\"SymbolAbout_question__pKsF_ w-full font-semibold text-primary-text py-4\" itemprop=\"name\">What is Tata Motors Ltd.'s EBITDA?</div><svg aria-hidden=\"true\" class=\"svg-inline--fa fa-chevron-down fa-w-14 text-primary-text\" data-icon=\"chevron-down\" data-prefix=\"far\" focusable=\"false\" role=\"img\" viewbox=\"0 0 448 512\" xmlns=\"http://www.w3.org/2000/svg\"><path d=\"M441.9 167.3l-19.8-19.8c-4.7-4.7-12.3-4.7-17 0L224 328.2 42.9 147.5c-4.7-4.7-12.3-4.7-17 0L6.1 167.3c-4.7 4.7-4.7 12.3 0 17l209.4 209.4c4.7 4.7 12.3 4.7 17 0l209.4-209.4c4.7-4.7 4.7-12.3 0-17z\" fill=\"currentColor\"></path></svg></div><div itemprop=\"acceptedAnswer\" itemscope=\"\" itemtype=\"https://schema.org/Answer\"><p class=\"SymbolAbout_answer__m_OS1 text-primary-text pb-4 hidden\" itemprop=\"text\">EBITDA is a widely used measure of corporate profitability. It stands for Earnings before Interest, Taxes, Depreciation, and Amortization. It attempts to reflect the cash profit generated by a company’s operations. Tata Motors Ltd.'s EBITDA is 5.78.</p></div></div><div class=\"border-tertiary-border\" itemprop=\"mainEntity\" itemscope=\"\" itemtype=\"https://schema.org/Question\"><div class=\"flex flex-row justify-between items-center cursor-pointer cursor-pointer\"><div class=\"SymbolAbout_question__pKsF_ w-full font-semibold text-primary-text py-4\" itemprop=\"name\">What is the 50-day moving average of Tata Motors Ltd.?</div><svg aria-hidden=\"true\" class=\"svg-inline--fa fa-chevron-down fa-w-14 text-primary-text\" data-icon=\"chevron-down\" data-prefix=\"far\" focusable=\"false\" role=\"img\" viewbox=\"0 0 448 512\" xmlns=\"http://www.w3.org/2000/svg\"><path d=\"M441.9 167.3l-19.8-19.8c-4.7-4.7-12.3-4.7-17 0L224 328.2 42.9 147.5c-4.7-4.7-12.3-4.7-17 0L6.1 167.3c-4.7 4.7-4.7 12.3 0 17l209.4 209.4c4.7 4.7 12.3 4.7 17 0l209.4-209.4c4.7-4.7 4.7-12.3 0-17z\" fill=\"currentColor\"></path></svg></div><div itemprop=\"acceptedAnswer\" itemscope=\"\" itemtype=\"https://schema.org/Answer\"><p class=\"SymbolAbout_answer__m_OS1 text-primary-text pb-4 hidden\" itemprop=\"text\">The 50-day moving average is a frequently used data point by active investors and traders to understand the trend of a stock. It’s calculated by averaging the closing stock price over the previous 50 trading days. Tata Motors Ltd. 50-day moving average is 797.37.</p></div></div><div class=\"border-tertiary-border\" itemprop=\"mainEntity\" itemscope=\"\" itemtype=\"https://schema.org/Question\"><div class=\"flex flex-row justify-between items-center cursor-pointer cursor-pointer\"><div class=\"SymbolAbout_question__pKsF_ w-full font-semibold text-primary-text py-4\" itemprop=\"name\">How many employess does Tata Motors Ltd. has?</div><svg aria-hidden=\"true\" class=\"svg-inline--fa fa-chevron-down fa-w-14 text-primary-text\" data-icon=\"chevron-down\" data-prefix=\"far\" focusable=\"false\" role=\"img\" viewbox=\"0 0 448 512\" xmlns=\"http://www.w3.org/2000/svg\"><path d=\"M441.9 167.3l-19.8-19.8c-4.7-4.7-12.3-4.7-17 0L224 328.2 42.9 147.5c-4.7-4.7-12.3-4.7-17 0L6.1 167.3c-4.7 4.7-4.7 12.3 0 17l209.4 209.4c4.7 4.7 12.3 4.7 17 0l209.4-209.4c4.7-4.7 4.7-12.3 0-17z\" fill=\"currentColor\"></path></svg></div><div itemprop=\"acceptedAnswer\" itemscope=\"\" itemtype=\"https://schema.org/Answer\"><p class=\"SymbolAbout_answer__m_OS1 text-primary-text pb-4 hidden\" itemprop=\"text\">Tata Motors Ltd. has 117,893 employees.</p></div></div></div></div><ul class=\"Breadcrumbs_container__vIGUe text-sm flex flex-row items-center align-center\" itemscope=\"\" itemtype=\"http://schema.org/BreadcrumbList\"><li itemprop=\"itemListElement\" itemscope=\"\" itemtype=\"http://schema.org/ListItem\"><meta content=\"1\" itemprop=\"position\"/><meta content=\"Home\" itemprop=\"name\"/><a class=\"Breadcrumbs_link__RkxBW text-blue-ada decoration-1\" data-gatrack=\"Breadcrumbs##Click on Home\" href=\"https://stocktwits.com\" itemprop=\"item\">Home</a><svg aria-hidden=\"true\" class=\"svg-inline--fa fa-chevron-right fa-w-8 Breadcrumbs_icon___1T36 mx-2.5 !w-[6px] !h-[14px]\" data-icon=\"chevron-right\" data-prefix=\"far\" focusable=\"false\" role=\"img\" viewbox=\"0 0 256 512\" xmlns=\"http://www.w3.org/2000/svg\"><path d=\"M24.707 38.101L4.908 57.899c-4.686 4.686-4.686 12.284 0 16.971L185.607 256 4.908 437.13c-4.686 4.686-4.686 12.284 0 16.971L24.707 473.9c4.686 4.686 12.284 4.686 16.971 0l209.414-209.414c4.686-4.686 4.686-12.284 0-16.971L41.678 38.101c-4.687-4.687-12.285-4.687-16.971 0z\" fill=\"currentColor\"></path></svg></li><li itemprop=\"itemListElement\" itemscope=\"\" itemtype=\"http://schema.org/ListItem\"><meta content=\"2\" itemprop=\"position\"/><meta content=\"Symbol\" itemprop=\"name\"/><a class=\"Breadcrumbs_link__RkxBW text-blue-ada decoration-1\" data-gatrack=\"Breadcrumbs##Click on Home\" href=\"https://stocktwits.com/symbol\" itemprop=\"item\">Symbol</a><svg aria-hidden=\"true\" class=\"svg-inline--fa fa-chevron-right fa-w-8 Breadcrumbs_icon___1T36 mx-2.5 !w-[6px] !h-[14px]\" data-icon=\"chevron-right\" data-prefix=\"far\" focusable=\"false\" role=\"img\" viewbox=\"0 0 256 512\" xmlns=\"http://www.w3.org/2000/svg\"><path d=\"M24.707 38.101L4.908 57.899c-4.686 4.686-4.686 12.284 0 16.971L185.607 256 4.908 437.13c-4.686 4.686-4.686 12.284 0 16.971L24.707 473.9c4.686 4.686 12.284 4.686 16.971 0l209.414-209.414c4.686-4.686 4.686-12.284 0-16.971L41.678 38.101c-4.687-4.687-12.285-4.687-16.971 0z\" fill=\"currentColor\"></path></svg></li><li itemprop=\"itemListElement\" itemscope=\"\" itemtype=\"http://schema.org/ListItem\"><meta content=\"TATAMOTORS.NSE\" itemprop=\"name\"/><a class=\"Breadcrumbs_link__RkxBW text-blue-ada decoration-1\" data-gatrack=\"Breadcrumbs##Click on symbol\" href=\"https://stocktwits.com/symbol/TATAMOTORS.NSE\" itemprop=\"item\">TATAMOTORS.NSE</a><svg aria-hidden=\"true\" class=\"svg-inline--fa fa-chevron-right fa-w-8 Breadcrumbs_icon___1T36 mx-2.5 !w-[6px] !h-[14px]\" data-icon=\"chevron-right\" data-prefix=\"far\" focusable=\"false\" role=\"img\" viewbox=\"0 0 256 512\" xmlns=\"http://www.w3.org/2000/svg\"><path d=\"M24.707 38.101L4.908 57.899c-4.686 4.686-4.686 12.284 0 16.971L185.607 256 4.908 437.13c-4.686 4.686-4.686 12.284 0 16.971L24.707 473.9c4.686 4.686 12.284 4.686 16.971 0l209.414-209.414c4.686-4.686 4.686-12.284 0-16.971L41.678 38.101c-4.687-4.687-12.285-4.687-16.971 0z\" fill=\"currentColor\"></path></svg><meta content=\"3\" itemprop=\"position\"/></li><li itemprop=\"itemListElement\" itemscope=\"\" itemtype=\"http://schema.org/ListItem\"><span class=\"notclick\" itemprop=\"name\">About</span><meta content=\"4\" itemprop=\"position\"/></li></ul></div>\n"
     ]
    }
   ],
   "source": [
    "url = f\"https://stocktwits.com/symbol/{stock_name}/about\"\n",
    "responce = requests.get(url,headers = header)\n",
    "htmlContent = responce.content\n",
    "soup = BeautifulSoup(htmlContent,\"html.parser\")\n",
    "stocks_full_package = soup.find_all(('div') ,{\"class\":\"SymbolAbout_container__0u8Yw px-4 py-5 text-base flex flex-col justify-between\"})\n",
    "\n",
    "# SymbolAbout_container__0u8Yw px-4 py-5 text-base flex flex-col justify-between"
   ]
  },
  {
   "cell_type": "code",
   "execution_count": 7,
   "id": "1d5edc47",
   "metadata": {},
   "outputs": [
    {
     "ename": "AttributeError",
     "evalue": "'NoneType' object has no attribute 'text'",
     "output_type": "error",
     "traceback": [
      "\u001b[1;31m---------------------------------------------------------------------------\u001b[0m",
      "\u001b[1;31mAttributeError\u001b[0m                            Traceback (most recent call last)",
      "Cell \u001b[1;32mIn[7], line 2\u001b[0m\n\u001b[0;32m      1\u001b[0m \u001b[38;5;28;01mfor\u001b[39;00m i \u001b[38;5;129;01min\u001b[39;00m stocks_full_package:\n\u001b[1;32m----> 2\u001b[0m     stock_description \u001b[38;5;241m=\u001b[39m \u001b[43mi\u001b[49m\u001b[38;5;241;43m.\u001b[39;49m\u001b[43mfind\u001b[49m\u001b[43m(\u001b[49m\u001b[43m(\u001b[49m\u001b[38;5;124;43m'\u001b[39;49m\u001b[38;5;124;43mdiv\u001b[39;49m\u001b[38;5;124;43m'\u001b[39;49m\u001b[43m)\u001b[49m\u001b[43m \u001b[49m\u001b[43m,\u001b[49m\u001b[43m \u001b[49m\u001b[43m{\u001b[49m\u001b[38;5;124;43m\"\u001b[39;49m\u001b[38;5;124;43mdata-cy\u001b[39;49m\u001b[38;5;124;43m\"\u001b[39;49m\u001b[43m \u001b[49m\u001b[43m:\u001b[49m\u001b[43m \u001b[49m\u001b[38;5;124;43m\"\u001b[39;49m\u001b[38;5;124;43msymbol-about-description\u001b[39;49m\u001b[38;5;124;43m\"\u001b[39;49m\u001b[43m}\u001b[49m\u001b[43m)\u001b[49m\u001b[38;5;241;43m.\u001b[39;49m\u001b[43mtext\u001b[49m\n\u001b[0;32m      3\u001b[0m     \u001b[38;5;28mprint\u001b[39m(stock_description)\n",
      "\u001b[1;31mAttributeError\u001b[0m: 'NoneType' object has no attribute 'text'"
     ]
    }
   ],
   "source": [
    "for i in stocks_full_package:\n",
    "    stock_description = i.find(('div') , {\"data-cy\" : \"symbol-about-description\"}).text\n",
    "    print(stock_description)"
   ]
  },
  {
   "cell_type": "code",
   "execution_count": 47,
   "id": "65e27701",
   "metadata": {},
   "outputs": [
    {
     "name": "stdout",
     "output_type": "stream",
     "text": [
      "920.15\n",
      "918.50\n",
      "923.70\n",
      "0.48%\n",
      "797.37\n",
      "0.04\n",
      "10.75M\n",
      "18.03\n",
      "950.00\n",
      "400.45\n",
      "3.5T\n",
      "50.31\n",
      "6.52\n",
      "35.95M\n",
      "5.78\n"
     ]
    }
   ],
   "source": [
    "for element in elements:\n",
    "    print(element.text)"
   ]
  },
  {
   "cell_type": "code",
   "execution_count": 24,
   "id": "9cefd114",
   "metadata": {},
   "outputs": [
    {
     "data": {
      "text/plain": [
       "[<div class=\"SymbolFundamentalsTable_container__2fbMe grid pt-4 tabletSm|pt-10 w-full bg-primary-background\"><script id=\"table-schema\" type=\"application/ld+json\">{\n",
       "             \"@context\": \"https://schema.org\",\n",
       "             \"@type\": \"Table\",\n",
       "             \"about\": \"TSLA Fundamentals\"\n",
       "           }</script><div class=\"AutoColumn_container__5wFSY grid AutoColumn_grid-cols-2__1UcrQ grid-cols-2 AutoColumn_divided__dfVR2 divide-x divide-primary-hairline\"><div class=\"SymbolFundamentalsTable_column__vjSPS grid pb-4 mb-4 border-b tabletSm|px-5 tabletSm|mb-0 tabletSm|border-r tabletSm|border-b-0 border-secondary-border\"><table><tr class=\"SymbolFundamentalsTable_item__t5cb6 flex px-2 py-3.5 justify-between tabletSm|px-0 items-center border-secondary-border border-b\"><td class=\"SymbolFundamentalsTable_label__20tU5 font-normal text-sm\">Current Price</td><td class=\"SymbolFundamentalsTable_value__7PL60 font-semibold text-sm\">$188.71</td></tr><tr class=\"SymbolFundamentalsTable_item__t5cb6 flex px-2 py-3.5 justify-between tabletSm|px-0 items-center border-secondary-border border-b\"><td class=\"SymbolFundamentalsTable_label__20tU5 font-normal text-sm\">Prev Close</td><td class=\"SymbolFundamentalsTable_value__7PL60 font-semibold text-sm\">$184.02</td></tr><tr class=\"SymbolFundamentalsTable_item__t5cb6 flex px-2 py-3.5 justify-between tabletSm|px-0 items-center border-secondary-border border-b\"><td class=\"SymbolFundamentalsTable_label__20tU5 font-normal text-sm\">Open</td><td class=\"SymbolFundamentalsTable_value__7PL60 font-semibold text-sm\">$185.30</td></tr><tr class=\"SymbolFundamentalsTable_item__t5cb6 flex px-2 py-3.5 justify-between tabletSm|px-0 items-center border-secondary-border border-b\"><td class=\"SymbolFundamentalsTable_label__20tU5 font-normal text-sm\">Dividend Yield</td><td class=\"SymbolFundamentalsTable_value__7PL60 font-semibold text-sm\">0.00%</td></tr><tr class=\"SymbolFundamentalsTable_item__t5cb6 flex px-2 py-3.5 justify-between tabletSm|px-0 items-center border-secondary-border border-b\"><td class=\"SymbolFundamentalsTable_label__20tU5 font-normal text-sm\">50-Day Moving Average</td><td class=\"SymbolFundamentalsTable_value__7PL60 font-semibold text-sm\">$223.35</td></tr><tr class=\"SymbolFundamentalsTable_item__t5cb6 flex px-2 py-3.5 justify-between tabletSm|px-0 items-center border-secondary-border border-b\"><td class=\"SymbolFundamentalsTable_label__20tU5 font-normal text-sm\">Beta</td><td class=\"SymbolFundamentalsTable_value__7PL60 font-semibold text-sm\">1.56</td></tr><tr class=\"SymbolFundamentalsTable_item__t5cb6 flex px-2 py-3.5 justify-between tabletSm|px-0 items-center border-secondary-border border-b\"><td class=\"SymbolFundamentalsTable_label__20tU5 font-normal text-sm\">Avg. Volume</td><td class=\"SymbolFundamentalsTable_value__7PL60 font-semibold text-sm\">111.63M</td></tr><tr class=\"SymbolFundamentalsTable_item__t5cb6 flex px-2 py-3.5 justify-between tabletSm|px-0 items-center border-secondary-border border-b\"><td class=\"SymbolFundamentalsTable_label__20tU5 font-normal text-sm\">PE Ratio</td><td class=\"SymbolFundamentalsTable_value__7PL60 font-semibold text-sm\">42.76</td></tr></table></div><div class=\"SymbolFundamentalsTable_column__vjSPS grid pb-4 mb-4 border-b tabletSm|px-5 tabletSm|mb-0 tabletSm|border-r tabletSm|border-b-0 border-secondary-border\"><table><tr class=\"SymbolFundamentalsTable_item__t5cb6 flex px-2 py-3.5 justify-between tabletSm|px-0 items-center border-secondary-border border-b\"><td class=\"SymbolFundamentalsTable_label__20tU5 font-normal text-sm\">52-Week High</td><td class=\"SymbolFundamentalsTable_value__7PL60 font-semibold text-sm\">$299.29</td></tr><tr class=\"SymbolFundamentalsTable_item__t5cb6 flex px-2 py-3.5 justify-between tabletSm|px-0 items-center border-secondary-border border-b\"><td class=\"SymbolFundamentalsTable_label__20tU5 font-normal text-sm\">52-Week Low</td><td class=\"SymbolFundamentalsTable_value__7PL60 font-semibold text-sm\">$152.37</td></tr><tr class=\"SymbolFundamentalsTable_item__t5cb6 flex px-2 py-3.5 justify-between tabletSm|px-0 items-center border-secondary-border border-b\"><td class=\"SymbolFundamentalsTable_label__20tU5 font-normal text-sm\">Market Capitalization</td><td class=\"SymbolFundamentalsTable_value__7PL60 font-semibold text-sm\">$586.07B</td></tr><tr class=\"SymbolFundamentalsTable_item__t5cb6 flex px-2 py-3.5 justify-between tabletSm|px-0 items-center border-secondary-border border-b\"><td class=\"SymbolFundamentalsTable_label__20tU5 font-normal text-sm\">EPS</td><td class=\"SymbolFundamentalsTable_value__7PL60 font-semibold text-sm\">$4.30</td></tr><tr class=\"SymbolFundamentalsTable_item__t5cb6 flex px-2 py-3.5 justify-between tabletSm|px-0 items-center border-secondary-border border-b\"><td class=\"SymbolFundamentalsTable_label__20tU5 font-normal text-sm\">Price to Book</td><td class=\"SymbolFundamentalsTable_value__7PL60 font-semibold text-sm\">9.36</td></tr><tr class=\"SymbolFundamentalsTable_item__t5cb6 flex px-2 py-3.5 justify-between tabletSm|px-0 items-center border-secondary-border border-b\"><td class=\"SymbolFundamentalsTable_label__20tU5 font-normal text-sm\">Revenue Per Employee</td><td class=\"SymbolFundamentalsTable_value__7PL60 font-semibold text-sm\">$688,908.19</td></tr><tr class=\"SymbolFundamentalsTable_item__t5cb6 flex px-2 py-3.5 justify-between tabletSm|px-0 items-center border-secondary-border border-b\"><td class=\"SymbolFundamentalsTable_label__20tU5 font-normal text-sm\">Enterprise Value/EBITDA</td><td class=\"SymbolFundamentalsTable_value__7PL60 font-semibold text-sm\">62.59</td></tr></table></div></div></div>]"
      ]
     },
     "execution_count": 24,
     "metadata": {},
     "output_type": "execute_result"
    }
   ],
   "source": [
    "stocks_full_package"
   ]
  },
  {
   "cell_type": "code",
   "execution_count": 13,
   "id": "a63356a8",
   "metadata": {
    "collapsed": true
   },
   "outputs": [
    {
     "data": {
      "text/plain": [
       "b'<!DOCTYPE html><html lang=\"en-US\"><head><title>Just a moment...</title><meta http-equiv=\"Content-Type\" content=\"text/html; charset=UTF-8\"><meta http-equiv=\"X-UA-Compatible\" content=\"IE=Edge\"><meta name=\"robots\" content=\"noindex,nofollow\"><meta name=\"viewport\" content=\"width=device-width,initial-scale=1\"><style>*{box-sizing:border-box;margin:0;padding:0}html{line-height:1.15;-webkit-text-size-adjust:100%;color:#313131}button,html{font-family:system-ui,-apple-system,BlinkMacSystemFont,Segoe UI,Roboto,Helvetica Neue,Arial,Noto Sans,sans-serif,Apple Color Emoji,Segoe UI Emoji,Segoe UI Symbol,Noto Color Emoji}@media (prefers-color-scheme:dark){body{background-color:#222;color:#d9d9d9}body a{color:#fff}body a:hover{color:#ee730a;text-decoration:underline}body .lds-ring div{border-color:#999 transparent transparent}body .font-red{color:#b20f03}body .big-button,body .pow-button{background-color:#4693ff;color:#1d1d1d}body #challenge-success-text{background-image:url(data:image/svg+xml;base64,PHN2ZyB4bWxucz0iaHR0cDovL3d3dy53My5vcmcvMjAwMC9zdmciIHdpZHRoPSIzMiIgaGVpZ2h0PSIzMiIgZmlsbD0ibm9uZSIgdmlld0JveD0iMCAwIDI2IDI2Ij48cGF0aCBmaWxsPSIjZDlkOWQ5IiBkPSJNMTMgMGExMyAxMyAwIDEgMCAwIDI2IDEzIDEzIDAgMCAwIDAtMjZtMCAyNGExMSAxMSAwIDEgMSAwLTIyIDExIDExIDAgMCAxIDAgMjIiLz48cGF0aCBmaWxsPSIjZDlkOWQ5IiBkPSJtMTAuOTU1IDE2LjA1NS0zLjk1LTQuMTI1LTEuNDQ1IDEuMzg1IDUuMzcgNS42MSA5LjQ5NS05LjYtMS40Mi0xLjQwNXoiLz48L3N2Zz4=)}body #challenge-error-text{background-image:url(data:image/svg+xml;base64,PHN2ZyB4bWxucz0iaHR0cDovL3d3dy53My5vcmcvMjAwMC9zdmciIHdpZHRoPSIzMiIgaGVpZ2h0PSIzMiIgZmlsbD0ibm9uZSI+PHBhdGggZmlsbD0iI0IyMEYwMyIgZD0iTTE2IDNhMTMgMTMgMCAxIDAgMTMgMTNBMTMuMDE1IDEzLjAxNSAwIDAgMCAxNiAzbTAgMjRhMTEgMTEgMCAxIDEgMTEtMTEgMTEuMDEgMTEuMDEgMCAwIDEtMTEgMTEiLz48cGF0aCBmaWxsPSIjQjIwRjAzIiBkPSJNMTcuMDM4IDE4LjYxNUgxNC44N0wxNC41NjMgOS41aDIuNzgzem0tMS4wODQgMS40MjdxLjY2IDAgMS4wNTcuMzg4LjQwNy4zODkuNDA3Ljk5NCAwIC41OTYtLjQwNy45ODQtLjM5Ny4zOS0xLjA1Ny4zODktLjY1IDAtMS4wNTYtLjM4OS0uMzk4LS4zODktLjM5OC0uOTg0IDAtLjU5Ny4zOTgtLjk4NS40MDYtLjM5NyAxLjA1Ni0uMzk3Ii8+PC9zdmc+)}}body{display:flex;flex-direction:column;min-height:100vh}body.no-js .loading-spinner{visibility:hidden}body.no-js .challenge-running{display:none}body.dark{background-color:#222;color:#d9d9d9}body.dark a{color:#fff}body.dark a:hover{color:#ee730a;text-decoration:underline}body.dark .lds-ring div{border-color:#999 transparent transparent}body.dark .font-red{color:#b20f03}body.dark .big-button,body.dark .pow-button{background-color:#4693ff;color:#1d1d1d}body.dark #challenge-success-text{background-image:url(data:image/svg+xml;base64,PHN2ZyB4bWxucz0iaHR0cDovL3d3dy53My5vcmcvMjAwMC9zdmciIHdpZHRoPSIzMiIgaGVpZ2h0PSIzMiIgZmlsbD0ibm9uZSIgdmlld0JveD0iMCAwIDI2IDI2Ij48cGF0aCBmaWxsPSIjZDlkOWQ5IiBkPSJNMTMgMGExMyAxMyAwIDEgMCAwIDI2IDEzIDEzIDAgMCAwIDAtMjZtMCAyNGExMSAxMSAwIDEgMSAwLTIyIDExIDExIDAgMCAxIDAgMjIiLz48cGF0aCBmaWxsPSIjZDlkOWQ5IiBkPSJtMTAuOTU1IDE2LjA1NS0zLjk1LTQuMTI1LTEuNDQ1IDEuMzg1IDUuMzcgNS42MSA5LjQ5NS05LjYtMS40Mi0xLjQwNXoiLz48L3N2Zz4=)}body.dark #challenge-error-text{background-image:url(data:image/svg+xml;base64,PHN2ZyB4bWxucz0iaHR0cDovL3d3dy53My5vcmcvMjAwMC9zdmciIHdpZHRoPSIzMiIgaGVpZ2h0PSIzMiIgZmlsbD0ibm9uZSI+PHBhdGggZmlsbD0iI0IyMEYwMyIgZD0iTTE2IDNhMTMgMTMgMCAxIDAgMTMgMTNBMTMuMDE1IDEzLjAxNSAwIDAgMCAxNiAzbTAgMjRhMTEgMTEgMCAxIDEgMTEtMTEgMTEuMDEgMTEuMDEgMCAwIDEtMTEgMTEiLz48cGF0aCBmaWxsPSIjQjIwRjAzIiBkPSJNMTcuMDM4IDE4LjYxNUgxNC44N0wxNC41NjMgOS41aDIuNzgzem0tMS4wODQgMS40MjdxLjY2IDAgMS4wNTcuMzg4LjQwNy4zODkuNDA3Ljk5NCAwIC41OTYtLjQwNy45ODQtLjM5Ny4zOS0xLjA1Ny4zODktLjY1IDAtMS4wNTYtLjM4OS0uMzk4LS4zODktLjM5OC0uOTg0IDAtLjU5Ny4zOTgtLjk4NS40MDYtLjM5NyAxLjA1Ni0uMzk3Ii8+PC9zdmc+)}body.light{background-color:transparent;color:#313131}body.light a{color:#0051c3}body.light a:hover{color:#ee730a;text-decoration:underline}body.light .lds-ring div{border-color:#595959 transparent transparent}body.light .font-red{color:#fc574a}body.light .big-button,body.light .pow-button{background-color:#003681;border-color:#003681;color:#fff}body.light #challenge-success-text{background-image:url(data:image/svg+xml;base64,PHN2ZyB4bWxucz0iaHR0cDovL3d3dy53My5vcmcvMjAwMC9zdmciIHdpZHRoPSIzMiIgaGVpZ2h0PSIzMiIgZmlsbD0ibm9uZSIgdmlld0JveD0iMCAwIDI2IDI2Ij48cGF0aCBmaWxsPSIjMzEzMTMxIiBkPSJNMTMgMGExMyAxMyAwIDEgMCAwIDI2IDEzIDEzIDAgMCAwIDAtMjZtMCAyNGExMSAxMSAwIDEgMSAwLTIyIDExIDExIDAgMCAxIDAgMjIiLz48cGF0aCBmaWxsPSIjMzEzMTMxIiBkPSJtMTAuOTU1IDE2LjA1NS0zLjk1LTQuMTI1LTEuNDQ1IDEuMzg1IDUuMzcgNS42MSA5LjQ5NS05LjYtMS40Mi0xLjQwNXoiLz48L3N2Zz4=)}body.light #challenge-error-text{background-image:url(data:image/svg+xml;base64,PHN2ZyB4bWxucz0iaHR0cDovL3d3dy53My5vcmcvMjAwMC9zdmciIHdpZHRoPSIzMiIgaGVpZ2h0PSIzMiIgZmlsbD0ibm9uZSI+PHBhdGggZmlsbD0iI2ZjNTc0YSIgZD0iTTE2IDNhMTMgMTMgMCAxIDAgMTMgMTNBMTMuMDE1IDEzLjAxNSAwIDAgMCAxNiAzbTAgMjRhMTEgMTEgMCAxIDEgMTEtMTEgMTEuMDEgMTEuMDEgMCAwIDEtMTEgMTEiLz48cGF0aCBmaWxsPSIjZmM1NzRhIiBkPSJNMTcuMDM4IDE4LjYxNUgxNC44N0wxNC41NjMgOS41aDIuNzgzem0tMS4wODQgMS40MjdxLjY2IDAgMS4wNTcuMzg4LjQwNy4zODkuNDA3Ljk5NCAwIC41OTYtLjQwNy45ODQtLjM5Ny4zOS0xLjA1Ny4zODktLjY1IDAtMS4wNTYtLjM4OS0uMzk4LS4zODktLjM5OC0uOTg0IDAtLjU5Ny4zOTgtLjk4NS40MDYtLjM5NyAxLjA1Ni0uMzk3Ii8+PC9zdmc+)}a{background-color:transparent;color:#0051c3;text-decoration:none;transition:color .15s ease}a:hover{color:#ee730a;text-decoration:underline}.main-content{margin:8rem auto;max-width:60rem;width:100%}.heading-favicon{height:2rem;margin-right:.5rem;width:2rem}@media (width <= 720px){.main-content{margin-top:4rem}.heading-favicon{height:1.5rem;width:1.5rem}}.footer,.main-content{padding-left:1.5rem;padding-right:1.5rem}.main-wrapper{align-items:center;display:flex;flex:1;flex-direction:column}.font-red{color:#b20f03}.spacer{margin:2rem 0}.h1{font-size:2.5rem;font-weight:500;line-height:3.75rem}.h2{font-weight:500}.core-msg,.h2{font-size:1.5rem;line-height:2.25rem}.body-text,.core-msg{font-weight:400}.body-text{font-size:1rem;line-height:1.25rem}@media (width <= 720px){.h1{font-size:1.5rem;line-height:1.75rem}.h2{font-size:1.25rem}.core-msg,.h2{line-height:1.5rem}.core-msg{font-size:1rem}}#challenge-error-text{background-image:url(data:image/svg+xml;base64,PHN2ZyB4bWxucz0iaHR0cDovL3d3dy53My5vcmcvMjAwMC9zdmciIHdpZHRoPSIzMiIgaGVpZ2h0PSIzMiIgZmlsbD0ibm9uZSI+PHBhdGggZmlsbD0iI2ZjNTc0YSIgZD0iTTE2IDNhMTMgMTMgMCAxIDAgMTMgMTNBMTMuMDE1IDEzLjAxNSAwIDAgMCAxNiAzbTAgMjRhMTEgMTEgMCAxIDEgMTEtMTEgMTEuMDEgMTEuMDEgMCAwIDEtMTEgMTEiLz48cGF0aCBmaWxsPSIjZmM1NzRhIiBkPSJNMTcuMDM4IDE4LjYxNUgxNC44N0wxNC41NjMgOS41aDIuNzgzem0tMS4wODQgMS40MjdxLjY2IDAgMS4wNTcuMzg4LjQwNy4zODkuNDA3Ljk5NCAwIC41OTYtLjQwNy45ODQtLjM5Ny4zOS0xLjA1Ny4zODktLjY1IDAtMS4wNTYtLjM4OS0uMzk4LS4zODktLjM5OC0uOTg0IDAtLjU5Ny4zOTgtLjk4NS40MDYtLjM5NyAxLjA1Ni0uMzk3Ii8+PC9zdmc+);padding-left:34px}#challenge-error-text,#challenge-success-text{background-repeat:no-repeat;background-size:contain}#challenge-success-text{background-image:url(data:image/svg+xml;base64,PHN2ZyB4bWxucz0iaHR0cDovL3d3dy53My5vcmcvMjAwMC9zdmciIHdpZHRoPSIzMiIgaGVpZ2h0PSIzMiIgZmlsbD0ibm9uZSIgdmlld0JveD0iMCAwIDI2IDI2Ij48cGF0aCBmaWxsPSIjMzEzMTMxIiBkPSJNMTMgMGExMyAxMyAwIDEgMCAwIDI2IDEzIDEzIDAgMCAwIDAtMjZtMCAyNGExMSAxMSAwIDEgMSAwLTIyIDExIDExIDAgMCAxIDAgMjIiLz48cGF0aCBmaWxsPSIjMzEzMTMxIiBkPSJtMTAuOTU1IDE2LjA1NS0zLjk1LTQuMTI1LTEuNDQ1IDEuMzg1IDUuMzcgNS42MSA5LjQ5NS05LjYtMS40Mi0xLjQwNXoiLz48L3N2Zz4=);padding-left:42px}.text-center{text-align:center}.big-button{border:.063rem solid #0051c3;border-radius:.313rem;font-size:.875rem;line-height:1.313rem;padding:.375rem 1rem;transition-duration:.2s;transition-property:background-color,border-color,color;transition-timing-function:ease}.big-button:hover{cursor:pointer}.captcha-prompt:not(.hidden){display:flex}@media (width <= 720px){.captcha-prompt:not(.hidden){flex-wrap:wrap;justify-content:center}}.pow-button{background-color:#0051c3;color:#fff;margin:2rem 0}.pow-button:hover{background-color:#003681;border-color:#003681;color:#fff}.footer{font-size:.75rem;line-height:1.125rem;margin:0 auto;max-width:60rem;width:100%}.footer-inner{border-top:1px solid #d9d9d9;padding-bottom:1rem;padding-top:1rem}.clearfix:after{clear:both;content:\"\";display:table}.clearfix .column{float:left;padding-right:1.5rem;width:50%}.diagnostic-wrapper{margin-bottom:.5rem}.footer .ray-id{text-align:center}.footer .ray-id code{font-family:monaco,courier,monospace}.core-msg,.zone-name-title{overflow-wrap:break-word}@media (width <= 720px){.diagnostic-wrapper{display:flex;flex-wrap:wrap;justify-content:center}.clearfix:after{clear:none;content:none;display:initial;text-align:center}.column{padding-bottom:2rem}.clearfix .column{float:none;padding:0;width:auto;word-break:keep-all}.zone-name-title{margin-bottom:1rem}}.loading-spinner{height:76.391px}.lds-ring{display:inline-block;position:relative}.lds-ring,.lds-ring div{height:1.875rem;width:1.875rem}.lds-ring div{animation:lds-ring 1.2s cubic-bezier(.5,0,.5,1) infinite;border:.3rem solid transparent;border-radius:50%;border-top-color:#313131;box-sizing:border-box;display:block;position:absolute}.lds-ring div:first-child{animation-delay:-.45s}.lds-ring div:nth-child(2){animation-delay:-.3s}.lds-ring div:nth-child(3){animation-delay:-.15s}@keyframes lds-ring{0%{transform:rotate(0)}to{transform:rotate(1turn)}}@media screen and (-ms-high-contrast:active),screen and (-ms-high-contrast:none){.main-wrapper,body{display:block}}</style><meta http-equiv=\"refresh\" content=\"375\"></head><body class=\"no-js\"><div class=\"main-wrapper\" role=\"main\"><div class=\"main-content\"><noscript><div id=\"challenge-error-title\"><div class=\"h2\"><span id=\"challenge-error-text\">Enable JavaScript and cookies to continue</span></div></div></noscript></div></div><script>(function(){window._cf_chl_opt={cvId: \\'3\\',cZone: \"ql.stocktwits.com\",cType: \\'managed\\',cNounce: \\'24792\\',cRay: \\'855c965f48e27ea3\\',cHash: \\'cd15e558f3f881d\\',cUPMDTk: \"\\\\/intraday?symbol=TSLA&__cf_chl_tk=gdEXHWcLIxb6m3Kd5QozRVOzq8OthMHWsVfoUvF7bv4-1707990005-0.0-3431\",cFPWv: \\'g\\',cTTimeMs: \\'1000\\',cMTimeMs: \\'375000\\',cTplV: 5,cTplB: \\'cf\\',cK: \"visitor-time\",fa: \"\\\\/intraday?symbol=TSLA&__cf_chl_f_tk=gdEXHWcLIxb6m3Kd5QozRVOzq8OthMHWsVfoUvF7bv4-1707990005-0.0-3431\",md: \"tLKvaPJXStCL9_IjmNh8A1rtQWZ3bn2V0AM_nIVHkgI-1707990005-1.1-AYxVInpzmFWhQUHCpalKo22lJ5vD303uNQG2ZJ_43k6ezy4WyXAbuCTnCu2pzGsG5wWGvs7tZ9P7QJqcdaLY9cc9TTjgAtQKZUc5yXx8Z_Gx3qmOT9ZqE5MkkqZ9ZMwSIJeV5zZLLOS8s2GcmP_avmqO5Ah1x-jqlVvQiFFWOZ8Uh-2uJoDzw20EjDP4fr-UBzjm3UqXQp34PhydaG56HDU2ojZTLucLoFosJcemltz1hS9EnhrwBztY1fkt003XcV-HWV9CV-EdOxiOSJrKWx6MxlUUre0TojqdFLJ5A_1CG_RWTDPEiUjsxULlGm8suAff6j3oRRdQuyQL4Eox0mq54aLoiRXroy-Nv727xN9m_evJSd_xU1zUW3_PAGP2whUo9crNVwnzZnRg6I07T4NKw8wAg9CyN8-8pAlBlEzVTBpQHFk7_UvESeOtMBchavjerKE1kDzjRseL0Sqg4Sh592CKVm8dG6b2w2P4NJc058unC9BfMMcgSbGIH3krDom9u7gwVnItY7e_USAMcQf7B61XHTrF4ifWKlyeGi9I8VSDuUsm63eGMnBxSFmm18J3U3kLuUUv_HCMJ15M3jIRa_gg06Bb9rw3GqopqZr8OKyvUCTpDzToP70SF7irvn_WNXY4Sxmjy1EC14vgKIX4BGHQfJgS_n7OABEM14IGR66LEmdb29mRAWzzVZVJpm7XHFTZg1LLtqhL3EnjX0ACDDglxqj7sVnvtVguNGxSnEjwinAOvb3-DZQSW-ZW82bcI_4rXiJ351SkDznY4r6wNDwUyxRlrt2vmuRUI5vATadkUUwyGqtEEc2u1NjFkTn5g0UEJFejyWB49vRuu6PpmsoYBm38j5gbdnQbAxrKfCQeaFXF2M1CyYjufYDRmHgsV-BDPUb7lP8HNst3RqCpos7XH1dZaagda0MyGov_GAILWqiIGDDbZQvAiylIutOi8wWj7VGoCTqMcQYw6jF-RsWzR-sGjh3HXZC56JcMra4Rhy7LCDX3Gi6pRnzr-0k5LlZ0vYqzHpjOhL-hHFg05YiteqJrZzfmkIjKZLU5YeRstnFaCbxNWtwe49jQleG8f2n6XyG3gyOS6s3iesiZbuPiYYQ78KzTNM4d4lyxZStgBxnmQfmpfDZQwuXpDSTMKM43RRmF9dNYf7VR5KY5Z-rFBrKPGrbxRlLQXeVVaqurEkMMbHr5cyRTHnjcGqVdcVEzFPSAUA-4lDGoFY-iHGLOFhhPj0bmM2Fi33xcFZd9fclrIoXTn3aoasNRZKmpfcm6nfHP8ZsKBEhw4uZWbv11wfNl23Zu-7Yq9OzCcda1uKc0U9GzoeIIuxcyIQKVNub1a3CpRoyw1PjlIFveZvfutvKc1OnmcXdfgbwprsztJz2nDzUDUOMFA16Tng5ONRvbje8HfmMZ1Xlf758XWK0EG8Dbm2iD0dacIhUNso0Ua6eWvE3vnL1CPBt_131WTPzp0KpC3VXPWsBxbjXuddqZJb62AfxlsH6OdMAvc-8tcAucLz0UOao3i4wIemfp0cQV6JlpZ1mCSklfImJ3SIiyNboguF-El8WM6eDpRSWDiFNUpeQC2BB7m0zCFfSbXF7R-COwYBxNpwzAqrs_ND4YSBMUy22NHcqbupfwXKZVGraY0csbq6VxXZtjV3R1RQBiCXESoMb7_56ouTc1U6xEuJxJ3ov2xyKSNzGEJwGyVpnojpqYbHVQ7JHy0Q6bFjR2MV89DRR3hxavuFLb4nfwOXPzij3vDAjhztnwR2R9_Sf6GFMtdC2eqrShTctE-ZK75DQFCF-qTAMAIzhihLZ0MmpdmFfB8OFIX6O6l6XWcMgKH6-j409Jv_XbIXvDX3mPPySsDH09PhH0Fa2lth99AZtSXY9-ETR-zPeJ5uDoTXbjZSX0R0Y_E-z0dt6vZy7xv3Yl0Dq86cdc5ZC5WqwGpXsiE6DfH4MzSYZBfJtbTyitZbtaXdFlhmmE8TkP0fk3hI5sjhJmt3UbtxUmFCoFuWen-Jab754ZhKwHyWCW73D0CYMtFpeDPYyweycNN7CEGXaEd4vpS2l0ocdeBJ6lO6xeDkF3mEB5Ri5QaicXtbq_lglF2K7ecpBUQ3l8-ot3dE6f8iMRIe8yyHNpVAouF9UnMqBvovN_JfwTgkmaEwhI_F0XJvIWLrFDRtN8mDP0B5gqfi_uxUzwUbVbqJ2Ft2ggxN5V2BCGUc_kT48392jgOm_CMUqa52LVDUJvOUWl840IDuxbc4AgXAKRjyyYfZc6X-M-5lJ0TZYFEaC_T-pe83fS9g61u_8MR0nnHGXVT-RFoWMNLdgpvzAHZflsQEp5y5ajnnXyCBFPyCPW2OCuOLqxxAYi1Ss4itzEIhtRaDUX8h2z9FLKn6vSypahKLHuQxXmAbk_ihYCVBhsGvQyChmfGwKV0czDviw3FneCIQKTpQlRYOyGT-Xk0o5h08OfMQaiVnoIC0AEcOsck5ZEUJo28lR1aUqi38dOXdus2_mmxUZqCVgX1k4ryDx4JVW0nTgOY74sQU5bPnDvN_FUbbMVpNkhz5RL6F6qFNMlWDw4o02Du_k2yD6z_6In2R08Rs4n1dG42XE_pS-iHEF1NitHiuvg2d4XyIGnx9NM-w46e-5JwYt91arZNr6FvuEdN0VCm6rq-rx0gxFHtA5N8XQbhzMdLKJa8Kt8l2OdLvkmRuIfE-8BDre84ZwN95VVHRHm6iSjN_kPcn0DQudSsOjbZY9HzPUNryuAfdVu6geSPD5g2Lor_XU5kqPLpPw0BnufAOQ_heuX3TA1Fho48GUzU2_EGTnrgJc-XWlQtCRzf59oc1iS2jsoCjWMaEZNfCXezRATGaSLccju8aikaszlpXNc-SqCdC4AaY8fK43XByqmfWiPx3kFPha13bktPiiyKxMnenTL4tcv71D54r8007Pce-0CHpz3u7rFIFvM0JZyXO5qYH94P-u3Gxzf5Ei9DGWzoLqlkrOv73swWsm5whpsvf4Hc6FyM6ri4rbmQy4lGwuGtHVIvZwUKzRWP02NTiSPEa9V-6f_cTNUE0_bAXNM7hC2d4s8haqebYphy-AgnGIaHva3_N6ReLPcvZy2gM-n4nq2sckaE7xF7HkZOaUBJeDvRSK6l8ByEZg9GrHmM0k-Vr4BFmjSG-D269M-EZLLChXLowZSFMKEJIk-qFW8ccNfb_M1xmO5nLGjH8zkyMUtR-Cc0YAewN29oDC7WJIS0m6oUPAIEYfRsrqOtzVO7_toHQoWlBu-GoHmQOrztibR9YVpE9oe1AKSUJnwJdZyasVyBuTdsBNLdRbCKYiDEyzjJIlkQ8tG03Pg3y4KVCURuY_HkhfmHPmZiB-_pfthobP5\",mdrd: \"reLlBDEMy9HPZrtAMQTUOBRyQptW9vmHwu4OnuTfhiQ-1707990005-1.1-ARlzQtH5PG002lwRWdcOhr8M7lwAh9SbDViCbS9lVK4EfSALZSvoeW0SL4BXXuK0KFE6BefQvpSNflol7mDjOWhjLP3KqoWsDqGh3b7xMuuTGVlX8pYT9tibO0ckwbFz80QRtI6KQIhvVQm7DoSO9boR6kBQNoPycXfPl7xQCRaknfTesCErGK08kRDNfTFxEJJ4XFjqEZLSEtXxmH-HQ5KrD8rFXEU0PGi696u5Gv1BTcno1b22Afw2YtaKnmrGMuusDwq1mEsmGc6zjCV2CH1tyJptJ0_M9v8MyIiODkh4KYeckbVc4vSPtjuFeI3nGKdKOHPCfx3HZ9Cjin0ZizZ4BS0q-MM6MK192xzKrqpCrNxXaUj8qhVNdz8SpyDEwS5A_f44-GGUmvCJ4LrotTkZ2cgGIJxWKOtygLc1lnizhbGYxISASDnJXNnz3BVNMp-fm6KifD035U8dL3r4zr1DhYo7W8MMUH7HucaT-w7wey2vpc3OujDAkWbCG6CKmymL3YaK53UjiX1YCApj70F98MdHGGrkYceISZ4R6-W7HYIg3s_r-k-YEaQuZGsdrfD1cUsDtxs2NbKOMbi-2q1pjXhazNf20hVnB9U1k9Ck6PVv24dtBOPu1I5wRjUT39R6XAayYKdflwJdHe1iYr4h9D_NGDx1nSuzQVmFLEB0MFz1RvQlG_DJrl6RCdPOmLvPv9-4GA4eXbx-A5DFpwoy7gvqoNmErcOc6etpISdD9ZBF046i3ptHBz6sROG-AKWMcP2g5UI3tQZjfayiLWJHp4rKT2IlEevzixIGTZR_-9-CuWdKyPdvWe5q4Zbj1aTO8ZRSHCUxQxEKtHnGV9k2RJhVDArVP_MuBbVyQxvWZqHuHbcFBa478S1w8mHB1vr5XjfEmtRRbVUWkmP6lAPqjoYvUvsdMJXM-PEUdquFVa4Kxg6N6jFyJ_LNjtpfh4FaTPIhz6GhVo8hp938RaWmkFDVbxIkInFOfOJGBO8XnqNZe91I9NWXxiCBHPAv4vXKoWjE0ywJblwRtFAMBlUVcuySB3bE6CSXHi1g6lymKEm0VBCgxbGGVAipRUt52GrP80zt9fTlkHYvt-VaXMWNIxJeW-4BnH5jL46CfIRUyynUky1TMw4ShMzXEdmTDuccX4lUqGT2xl91i5_Gexro51uuuHj2RkGgB67LmCm49dYCZYSp_Mlro-49XCdMl7oyHgLVbrzaJL_VoKz1MDYN0zwIR7Hs-8CSASRCJ7GaVmwRATIce7IkGoLcl7hkaN_Y7tAWvvu3PD-Ey3w6pyxtjpcszQckNKDgtdQzCSBp--tvqIPZA8XMJBJ_zIjWWX7yY4mYT-anxxGdXOJs68urGyWJ6tbAz9NmbKW7DBdpWZC0LRkPAtDEeYMavOjAk5ZeL4hcuZRu-h6ii51bZYVubVF9sf2iVHbaqzx6B0wFhIA2wSNKf36hiPB4u358_EkNkfaN4ymOnNUgd670D36he0DS043bfpuAkzhD6ZePAY_WF9-LvmlNU6UfyN-N8SKY6a4cHTR1Clvxt-pZr4X8iQH0GKotAoruCiRs4z1_337STsqilIEnwjrupdMhRW1bmMgaY7sLUwjrOaVu0dHX65AIldCe1W_ZzQn9LO6747TSxFIrNOsyhlXXtAnl5IJNAT7zVdbkOY2siHR2Y2O7Wwpob_pW47HbZU9YjBFbf_vYDRPApKPI4rjsxVdZ7E_qo5O0jbQngG0sYC-836PBmsa_JQYJDbNH7XzI5Gz2ADBbFfzjes4NKzCWNL6bAkP8n3wgZDoGMsnSD6zHtlsc5xHHLCQtqgLr3uANzXCs\",cRq: {ru: \\'aHR0cHM6Ly9xbC5zdG9ja3R3aXRzLmNvbS9pbnRyYWRheT9zeW1ib2w9VFNMQQ==\\',ra: \\'cHl0aG9uLXJlcXVlc3RzLzIuMzEuMA==\\',rm: \\'R0VU\\',d: \\'qGEXqjUyaXELn0qx0W71Lp3FSmqN8qg7nccj5MIDkEfriNl8c6QYA8vjX/17PHF0rgjl9NUd7mEbmHRwL3f4PvzBYSowFJOY158QHh23OgFIzOO/D6Jp84N/l3V1yrb/KbnosdOyGQ/nZzQMgrvTiUU0pS5YRQp5bdDm8Vq+UfEdvWgWkc+cKPVMitAK7gq4EavuqMjuHrHPAVfK0DiNsGIN+4pA6AtaWB//+jTuKdss0jUaoP75h6nsDeiIyoggMpN9inMkwj6LATt7fCbKDkQuoxoexrRbEx0i3X9lsOkLCtqTutU+04NEWaHyj636x0mU8kE+bf/wjW9rAlX3oCXM+wfFGiy4X5UPHrExo5r8Aekx75Sj3wUhq0nqw8GfgGv0GBudGTZntRN/pJ0ehrUMjFGqj3/7s04R4VMZmOetuhWU1TvyVUWmg5MPKg6BaNJqECqFxhLrkzQuWQf20RP1SdEy6X5C72Q3t64FbemteQ6+/cStf2X/sWC8w9xtE6U0Fo3HXdSyGDJTY3ZNd6YD/sVvpdU28W/mdeC6HDC2JfUCu2N7hE9qg0zOz7gZ06SDfSZZ9tmw6yjR7by//TvG2N4HH0TA4dLcB5guxtA=\\',t: \\'MTcwNzk5MDAwNS42NDcwMDA=\\',cT: Math.floor(Date.now() / 1000),m: \\'nRSm2PxTxswniCm6/zbpgccGX8RsYkQ6X791B/mBEC0=\\',i1: \\'UkmiPukWb4xFzx41qdO92g==\\',i2: \\'RNQqFxNtYS1SMZeTNHWRMQ==\\',zh: \\'4VA4W4gkPBYJa08htrDrNvoBp8Oi1KxVNgzd7h+XBXo=\\',uh: \\'YE9XOpG5TeHmhA1zfs5mxC8CrRZzq2a/+r+OU7dliYQ=\\',hh: \\'7LnxIptW7ivpbjav/IN5SDEVV2ctXOg+c2hJTs9BdEQ=\\',}};var cpo = document.createElement(\\'script\\');cpo.src = \\'/cdn-cgi/challenge-platform/h/g/orchestrate/chl_page/v1?ray=855c965f48e27ea3\\';window._cf_chl_opt.cOgUHash = location.hash === \\'\\' && location.href.indexOf(\\'#\\') !== -1 ? \\'#\\' : location.hash;window._cf_chl_opt.cOgUQuery = location.search === \\'\\' && location.href.slice(0, location.href.length - window._cf_chl_opt.cOgUHash.length).indexOf(\\'?\\') !== -1 ? \\'?\\' : location.search;if (window.history && window.history.replaceState) {var ogU = location.pathname + window._cf_chl_opt.cOgUQuery + window._cf_chl_opt.cOgUHash;history.replaceState(null, null, \"\\\\/intraday?symbol=TSLA&__cf_chl_rt_tk=gdEXHWcLIxb6m3Kd5QozRVOzq8OthMHWsVfoUvF7bv4-1707990005-0.0-3431\" + window._cf_chl_opt.cOgUHash);cpo.onload = function() {history.replaceState(null, null, ogU);}}document.getElementsByTagName(\\'head\\')[0].appendChild(cpo);}());</script></body></html>'"
      ]
     },
     "execution_count": 13,
     "metadata": {},
     "output_type": "execute_result"
    }
   ],
   "source": [
    "htmlContent"
   ]
  },
  {
   "cell_type": "code",
   "execution_count": 38,
   "id": "efd86420",
   "metadata": {},
   "outputs": [
    {
     "name": "stdout",
     "output_type": "stream",
     "text": [
      "<!DOCTYPE html>\n",
      "<html lang=\"en-US\"><head><title>Just a moment...</title><meta content=\"text/html; charset=utf-8\" http-equiv=\"Content-Type\"/><meta content=\"IE=Edge\" http-equiv=\"X-UA-Compatible\"/><meta content=\"noindex,nofollow\" name=\"robots\"/><meta content=\"width=device-width,initial-scale=1\" name=\"viewport\"/><style>*{box-sizing:border-box;margin:0;padding:0}html{line-height:1.15;-webkit-text-size-adjust:100%;color:#313131}button,html{font-family:system-ui,-apple-system,BlinkMacSystemFont,Segoe UI,Roboto,Helvetica Neue,Arial,Noto Sans,sans-serif,Apple Color Emoji,Segoe UI Emoji,Segoe UI Symbol,Noto Color Emoji}@media (prefers-color-scheme:dark){body{background-color:#222;color:#d9d9d9}body a{color:#fff}body a:hover{color:#ee730a;text-decoration:underline}body .lds-ring div{border-color:#999 transparent transparent}body .font-red{color:#b20f03}body .big-button,body .pow-button{background-color:#4693ff;color:#1d1d1d}body #challenge-success-text{background-image:url(data:image/svg+xml;base64,PHN2ZyB4bWxucz0iaHR0cDovL3d3dy53My5vcmcvMjAwMC9zdmciIHdpZHRoPSIzMiIgaGVpZ2h0PSIzMiIgZmlsbD0ibm9uZSIgdmlld0JveD0iMCAwIDI2IDI2Ij48cGF0aCBmaWxsPSIjZDlkOWQ5IiBkPSJNMTMgMGExMyAxMyAwIDEgMCAwIDI2IDEzIDEzIDAgMCAwIDAtMjZtMCAyNGExMSAxMSAwIDEgMSAwLTIyIDExIDExIDAgMCAxIDAgMjIiLz48cGF0aCBmaWxsPSIjZDlkOWQ5IiBkPSJtMTAuOTU1IDE2LjA1NS0zLjk1LTQuMTI1LTEuNDQ1IDEuMzg1IDUuMzcgNS42MSA5LjQ5NS05LjYtMS40Mi0xLjQwNXoiLz48L3N2Zz4=)}body #challenge-error-text{background-image:url(data:image/svg+xml;base64,PHN2ZyB4bWxucz0iaHR0cDovL3d3dy53My5vcmcvMjAwMC9zdmciIHdpZHRoPSIzMiIgaGVpZ2h0PSIzMiIgZmlsbD0ibm9uZSI+PHBhdGggZmlsbD0iI0IyMEYwMyIgZD0iTTE2IDNhMTMgMTMgMCAxIDAgMTMgMTNBMTMuMDE1IDEzLjAxNSAwIDAgMCAxNiAzbTAgMjRhMTEgMTEgMCAxIDEgMTEtMTEgMTEuMDEgMTEuMDEgMCAwIDEtMTEgMTEiLz48cGF0aCBmaWxsPSIjQjIwRjAzIiBkPSJNMTcuMDM4IDE4LjYxNUgxNC44N0wxNC41NjMgOS41aDIuNzgzem0tMS4wODQgMS40MjdxLjY2IDAgMS4wNTcuMzg4LjQwNy4zODkuNDA3Ljk5NCAwIC41OTYtLjQwNy45ODQtLjM5Ny4zOS0xLjA1Ny4zODktLjY1IDAtMS4wNTYtLjM4OS0uMzk4LS4zODktLjM5OC0uOTg0IDAtLjU5Ny4zOTgtLjk4NS40MDYtLjM5NyAxLjA1Ni0uMzk3Ii8+PC9zdmc+)}}body{display:flex;flex-direction:column;min-height:100vh}body.no-js .loading-spinner{visibility:hidden}body.no-js .challenge-running{display:none}body.dark{background-color:#222;color:#d9d9d9}body.dark a{color:#fff}body.dark a:hover{color:#ee730a;text-decoration:underline}body.dark .lds-ring div{border-color:#999 transparent transparent}body.dark .font-red{color:#b20f03}body.dark .big-button,body.dark .pow-button{background-color:#4693ff;color:#1d1d1d}body.dark #challenge-success-text{background-image:url(data:image/svg+xml;base64,PHN2ZyB4bWxucz0iaHR0cDovL3d3dy53My5vcmcvMjAwMC9zdmciIHdpZHRoPSIzMiIgaGVpZ2h0PSIzMiIgZmlsbD0ibm9uZSIgdmlld0JveD0iMCAwIDI2IDI2Ij48cGF0aCBmaWxsPSIjZDlkOWQ5IiBkPSJNMTMgMGExMyAxMyAwIDEgMCAwIDI2IDEzIDEzIDAgMCAwIDAtMjZtMCAyNGExMSAxMSAwIDEgMSAwLTIyIDExIDExIDAgMCAxIDAgMjIiLz48cGF0aCBmaWxsPSIjZDlkOWQ5IiBkPSJtMTAuOTU1IDE2LjA1NS0zLjk1LTQuMTI1LTEuNDQ1IDEuMzg1IDUuMzcgNS42MSA5LjQ5NS05LjYtMS40Mi0xLjQwNXoiLz48L3N2Zz4=)}body.dark #challenge-error-text{background-image:url(data:image/svg+xml;base64,PHN2ZyB4bWxucz0iaHR0cDovL3d3dy53My5vcmcvMjAwMC9zdmciIHdpZHRoPSIzMiIgaGVpZ2h0PSIzMiIgZmlsbD0ibm9uZSI+PHBhdGggZmlsbD0iI0IyMEYwMyIgZD0iTTE2IDNhMTMgMTMgMCAxIDAgMTMgMTNBMTMuMDE1IDEzLjAxNSAwIDAgMCAxNiAzbTAgMjRhMTEgMTEgMCAxIDEgMTEtMTEgMTEuMDEgMTEuMDEgMCAwIDEtMTEgMTEiLz48cGF0aCBmaWxsPSIjQjIwRjAzIiBkPSJNMTcuMDM4IDE4LjYxNUgxNC44N0wxNC41NjMgOS41aDIuNzgzem0tMS4wODQgMS40MjdxLjY2IDAgMS4wNTcuMzg4LjQwNy4zODkuNDA3Ljk5NCAwIC41OTYtLjQwNy45ODQtLjM5Ny4zOS0xLjA1Ny4zODktLjY1IDAtMS4wNTYtLjM4OS0uMzk4LS4zODktLjM5OC0uOTg0IDAtLjU5Ny4zOTgtLjk4NS40MDYtLjM5NyAxLjA1Ni0uMzk3Ii8+PC9zdmc+)}body.light{background-color:transparent;color:#313131}body.light a{color:#0051c3}body.light a:hover{color:#ee730a;text-decoration:underline}body.light .lds-ring div{border-color:#595959 transparent transparent}body.light .font-red{color:#fc574a}body.light .big-button,body.light .pow-button{background-color:#003681;border-color:#003681;color:#fff}body.light #challenge-success-text{background-image:url(data:image/svg+xml;base64,PHN2ZyB4bWxucz0iaHR0cDovL3d3dy53My5vcmcvMjAwMC9zdmciIHdpZHRoPSIzMiIgaGVpZ2h0PSIzMiIgZmlsbD0ibm9uZSIgdmlld0JveD0iMCAwIDI2IDI2Ij48cGF0aCBmaWxsPSIjMzEzMTMxIiBkPSJNMTMgMGExMyAxMyAwIDEgMCAwIDI2IDEzIDEzIDAgMCAwIDAtMjZtMCAyNGExMSAxMSAwIDEgMSAwLTIyIDExIDExIDAgMCAxIDAgMjIiLz48cGF0aCBmaWxsPSIjMzEzMTMxIiBkPSJtMTAuOTU1IDE2LjA1NS0zLjk1LTQuMTI1LTEuNDQ1IDEuMzg1IDUuMzcgNS42MSA5LjQ5NS05LjYtMS40Mi0xLjQwNXoiLz48L3N2Zz4=)}body.light #challenge-error-text{background-image:url(data:image/svg+xml;base64,PHN2ZyB4bWxucz0iaHR0cDovL3d3dy53My5vcmcvMjAwMC9zdmciIHdpZHRoPSIzMiIgaGVpZ2h0PSIzMiIgZmlsbD0ibm9uZSI+PHBhdGggZmlsbD0iI2ZjNTc0YSIgZD0iTTE2IDNhMTMgMTMgMCAxIDAgMTMgMTNBMTMuMDE1IDEzLjAxNSAwIDAgMCAxNiAzbTAgMjRhMTEgMTEgMCAxIDEgMTEtMTEgMTEuMDEgMTEuMDEgMCAwIDEtMTEgMTEiLz48cGF0aCBmaWxsPSIjZmM1NzRhIiBkPSJNMTcuMDM4IDE4LjYxNUgxNC44N0wxNC41NjMgOS41aDIuNzgzem0tMS4wODQgMS40MjdxLjY2IDAgMS4wNTcuMzg4LjQwNy4zODkuNDA3Ljk5NCAwIC41OTYtLjQwNy45ODQtLjM5Ny4zOS0xLjA1Ny4zODktLjY1IDAtMS4wNTYtLjM4OS0uMzk4LS4zODktLjM5OC0uOTg0IDAtLjU5Ny4zOTgtLjk4NS40MDYtLjM5NyAxLjA1Ni0uMzk3Ii8+PC9zdmc+)}a{background-color:transparent;color:#0051c3;text-decoration:none;transition:color .15s ease}a:hover{color:#ee730a;text-decoration:underline}.main-content{margin:8rem auto;max-width:60rem;width:100%}.heading-favicon{height:2rem;margin-right:.5rem;width:2rem}@media (width <= 720px){.main-content{margin-top:4rem}.heading-favicon{height:1.5rem;width:1.5rem}}.footer,.main-content{padding-left:1.5rem;padding-right:1.5rem}.main-wrapper{align-items:center;display:flex;flex:1;flex-direction:column}.font-red{color:#b20f03}.spacer{margin:2rem 0}.h1{font-size:2.5rem;font-weight:500;line-height:3.75rem}.h2{font-weight:500}.core-msg,.h2{font-size:1.5rem;line-height:2.25rem}.body-text,.core-msg{font-weight:400}.body-text{font-size:1rem;line-height:1.25rem}@media (width <= 720px){.h1{font-size:1.5rem;line-height:1.75rem}.h2{font-size:1.25rem}.core-msg,.h2{line-height:1.5rem}.core-msg{font-size:1rem}}#challenge-error-text{background-image:url(data:image/svg+xml;base64,PHN2ZyB4bWxucz0iaHR0cDovL3d3dy53My5vcmcvMjAwMC9zdmciIHdpZHRoPSIzMiIgaGVpZ2h0PSIzMiIgZmlsbD0ibm9uZSI+PHBhdGggZmlsbD0iI2ZjNTc0YSIgZD0iTTE2IDNhMTMgMTMgMCAxIDAgMTMgMTNBMTMuMDE1IDEzLjAxNSAwIDAgMCAxNiAzbTAgMjRhMTEgMTEgMCAxIDEgMTEtMTEgMTEuMDEgMTEuMDEgMCAwIDEtMTEgMTEiLz48cGF0aCBmaWxsPSIjZmM1NzRhIiBkPSJNMTcuMDM4IDE4LjYxNUgxNC44N0wxNC41NjMgOS41aDIuNzgzem0tMS4wODQgMS40MjdxLjY2IDAgMS4wNTcuMzg4LjQwNy4zODkuNDA3Ljk5NCAwIC41OTYtLjQwNy45ODQtLjM5Ny4zOS0xLjA1Ny4zODktLjY1IDAtMS4wNTYtLjM4OS0uMzk4LS4zODktLjM5OC0uOTg0IDAtLjU5Ny4zOTgtLjk4NS40MDYtLjM5NyAxLjA1Ni0uMzk3Ii8+PC9zdmc+);padding-left:34px}#challenge-error-text,#challenge-success-text{background-repeat:no-repeat;background-size:contain}#challenge-success-text{background-image:url(data:image/svg+xml;base64,PHN2ZyB4bWxucz0iaHR0cDovL3d3dy53My5vcmcvMjAwMC9zdmciIHdpZHRoPSIzMiIgaGVpZ2h0PSIzMiIgZmlsbD0ibm9uZSIgdmlld0JveD0iMCAwIDI2IDI2Ij48cGF0aCBmaWxsPSIjMzEzMTMxIiBkPSJNMTMgMGExMyAxMyAwIDEgMCAwIDI2IDEzIDEzIDAgMCAwIDAtMjZtMCAyNGExMSAxMSAwIDEgMSAwLTIyIDExIDExIDAgMCAxIDAgMjIiLz48cGF0aCBmaWxsPSIjMzEzMTMxIiBkPSJtMTAuOTU1IDE2LjA1NS0zLjk1LTQuMTI1LTEuNDQ1IDEuMzg1IDUuMzcgNS42MSA5LjQ5NS05LjYtMS40Mi0xLjQwNXoiLz48L3N2Zz4=);padding-left:42px}.text-center{text-align:center}.big-button{border:.063rem solid #0051c3;border-radius:.313rem;font-size:.875rem;line-height:1.313rem;padding:.375rem 1rem;transition-duration:.2s;transition-property:background-color,border-color,color;transition-timing-function:ease}.big-button:hover{cursor:pointer}.captcha-prompt:not(.hidden){display:flex}@media (width <= 720px){.captcha-prompt:not(.hidden){flex-wrap:wrap;justify-content:center}}.pow-button{background-color:#0051c3;color:#fff;margin:2rem 0}.pow-button:hover{background-color:#003681;border-color:#003681;color:#fff}.footer{font-size:.75rem;line-height:1.125rem;margin:0 auto;max-width:60rem;width:100%}.footer-inner{border-top:1px solid #d9d9d9;padding-bottom:1rem;padding-top:1rem}.clearfix:after{clear:both;content:\"\";display:table}.clearfix .column{float:left;padding-right:1.5rem;width:50%}.diagnostic-wrapper{margin-bottom:.5rem}.footer .ray-id{text-align:center}.footer .ray-id code{font-family:monaco,courier,monospace}.core-msg,.zone-name-title{overflow-wrap:break-word}@media (width <= 720px){.diagnostic-wrapper{display:flex;flex-wrap:wrap;justify-content:center}.clearfix:after{clear:none;content:none;display:initial;text-align:center}.column{padding-bottom:2rem}.clearfix .column{float:none;padding:0;width:auto;word-break:keep-all}.zone-name-title{margin-bottom:1rem}}.loading-spinner{height:76.391px}.lds-ring{display:inline-block;position:relative}.lds-ring,.lds-ring div{height:1.875rem;width:1.875rem}.lds-ring div{animation:lds-ring 1.2s cubic-bezier(.5,0,.5,1) infinite;border:.3rem solid transparent;border-radius:50%;border-top-color:#313131;box-sizing:border-box;display:block;position:absolute}.lds-ring div:first-child{animation-delay:-.45s}.lds-ring div:nth-child(2){animation-delay:-.3s}.lds-ring div:nth-child(3){animation-delay:-.15s}@keyframes lds-ring{0%{transform:rotate(0)}to{transform:rotate(1turn)}}@media screen and (-ms-high-contrast:active),screen and (-ms-high-contrast:none){.main-wrapper,body{display:block}}</style><meta content=\"375\" http-equiv=\"refresh\"/></head><body class=\"no-js\"><div class=\"main-wrapper\" role=\"main\"><div class=\"main-content\"><noscript><div id=\"challenge-error-title\"><div class=\"h2\"><span id=\"challenge-error-text\">Enable JavaScript and cookies to continue</span></div></div></noscript></div></div><script>(function(){window._cf_chl_opt={cvId: '3',cZone: \"stocktwits.com\",cType: 'managed',cNounce: '63381',cRay: '855c5ba79e907ee8',cHash: 'd8577d6b420a8f1',cUPMDTk: \"\\/symbol\\/TATASTEEL.NSE\\/fundamentals?__cf_chl_tk=vGMzo3zPWHTA3RuQMyMHvhS2L0._6Z58O58Nmfxf9bk-1707987600-0.0-3453\",cFPWv: 'g',cTTimeMs: '1000',cMTimeMs: '375000',cTplV: 5,cTplB: 'cf',cK: \"visitor-time\",fa: \"\\/symbol\\/TATASTEEL.NSE\\/fundamentals?__cf_chl_f_tk=vGMzo3zPWHTA3RuQMyMHvhS2L0._6Z58O58Nmfxf9bk-1707987600-0.0-3453\",md: \"IuwuYPHwyKb9QqDLK8Y21.iss8SiGAL2kmcgYn8nRxg-1707987600-1.1-AWnS2rxyxFVQV-TJKol5IRjCfS8zFmkUMWKi9aqmluQJRTDWuaWj0cQsnbuqLFEosZ7zC-n1kOC8iBCkDWkzDe9v3GVHYn6aIJxH7d2Naqe49zA1gdUOzHAPQM6iVd0csZHOjxYdSzlZyq3Tf9elZGraNxIw3ShrLzy6ZOm9h8g9PhlJBcV8SDnOKcPsWAhoTeRejZ523lNkfsIvxptJw9czDwlw8SZl-kpFjX0OUTU94muSXHSLWdL1xTGx_BdTVI5_er5Yaqj6EMWjkCIlv_5suXfD402YBqrgXqFM8ABpCBzCrV8qMcdvEGuvlBLd91uliXxo_d2ZiIPaMFwsuOhWh_CwTgpSxBFTdrCSJWycUDC-jPJScpkv8xuX5iv-_Rm0gOyaJa5YvBpPge-FEAr5G1jkSXzT-rxBMPxsciaRIBDLHrlpkAjnKB77cttX8l4gkRUvrZqAZ8D3HOCSXMqeApdVrwgDvIrWa17sKBTi-NNtJXb0uefQxeC-_EGxv03gPEgUvsWR6UJ-FcWIiTrP1MSQU6m0Bn2LN7TN_nOyXk62N85NP4pQViwUXOUCfz8Dx7Uhl-4E59nANtL7uCVD34GmAWJACkNvnt9-ub044paFZ8Q_fa26CWfMtYNDW8N2UW5NckPt927EMt86sR0RbuVUTPyvEsYlLRK2rpbcvgr5-nHoNRabknuSSYqdivJE-DxBRMrB4Rs8eMNaiZJxLBYcdmSHKafsjPl7B8aOn5mO_rNeQGQUmDxJfd204D6wlpVp9jh3zI_pMjhHVcmtL29-JeOgZaZtduxxDcGHaQvSkkvbh_1bRekw4zb7vmIKNtOITPz6oLedY24dzPHDkQGOdK7CLr3OhYDR9_N1OS-Nd1ce50KUd3slkcUMaDa_3ZjpXG1JQEN-VmJgtYW0zq9egkjtTygD7n4HZZjcC4j2fiuuKq0HPspcFnkLildWxfCjQfsYzvPloA4QaQfDI6z7g-4E6KwYY57xwTLL3-r1X15kShzW9s4QoxMw76LmvMIe1Gk1QNxWNTtrgGQGSVvTjqh7PT7sgBfOyTsyPwiHhuSaUX4Jq02Fm57mBxbMKLHbMCcnE-pvhpL3cvm0HEUVpasLUoDGaJ31DQj-BY37-L6MXB-14tPF4196vQP_WPhMzRwUvAaosQ3f58Mac_pT19nVAVtaKTavud2_6IZ5-G41qrbxzzAxSvsRTYZi0oVZPVdmQG_qajGf9KEuhEJJz0jj5fdYDfZY-ffUINsHs4NT9lNZNjwHucoShTC6PL-wgx2Izq5g9FA1MglypYV4-sq0vxapLgjhIfoLNITPuSoblZvnA4oligQDfKtAEBeydZQbGSynDZJ_Rm-GdY33GlUbuH2bc_JoDE_-nPk1BroxrvtmYoBFckYk8pf9AF-AfGvOc3Q88lcj7LEpzvoFG8aslfqCjnXBeeqIrWbvc59t7VJN1PMBa97DzwCF7jyz8DHIRr6PcG-qAZJELTCwxKk2khw8C9YTdtFZwhxojOvam73Fo5FkH5eObROfRcbennj2dPKhTXbwE7Kv8Yuehshu8mzwTo0r1RvR09xYUylcihaJbXnFwyEqjDWa-t5dO8F5pBhQr_MtfTZQx1TStzyq_LwrBgCyqFUb_c7wHnnkLrtw3ErQ2oLJPMx5hXQzqAovGMkw9jQ2HgGHHlIBY8LCmLHDA689cdO09b8AJnXzm7URBvRafGRJwWKKZMuY079p_6GCG4mdt9s6dQnSeWNtXH0J1xEpNwiKnhlkzjQFXMkzZhCNpviBm-XUX3KoTXXxCgLopWxTeSmg_pjWsyES562UYgziY4r4gV0pYpQzeVBtE70gkwfSbujIwAZvUds03-vqcMuZ_FiGH1kqoBuR7iTYV_Pg7R6gUBHeqmwttQe9l6nokX505G-TBYPmQqzmGDj3GjVRFNUHEwDHyRXvXjZrxcXy9hiAbF1dsGB-BIRhCN3QTx29w3-yddMEcKOuaNOKSbOtbSqHOyjsGIOs7sDQD-rkbXyj2un0QCO5jXMF_Ka5wp_2xn2B6ooFXz5yfSTBChjd3sAbQSBV3ea1p2zY4tz7kruJNGYqR8yQJTiVU-y4ancI2hbQVWFyuJ2yJXirGQERhoZN0hpu75htrUlqiQ6ilsqBBAE81GxWFgVT8FNovviPep6q4dOTKPUMx_pDG0UdHBYnVEhv3syv6Q77QGtI0t4fCRn6cjELGEC-qiwzplYPgMAipZ5y0hwFfqAM9C7HeO_ZT-4H-Yzl7T3ZnmueeO08KaTGFF_5fyB1dbgme2Yvn5pK25v3HhyfJqqE5pY09WSmps5ENkqxXuj9iW2WcDJvn6kQKxBV0HRJ8891eZlkYPq3Q53wMFnbq9mvYGTBqobdbHRYhOCaM0kYn9jsJVWPMdInhGh8sEZLLRxKEYC_GXQLUZEn7OkWQIaGnyFLPSvkXwtZWJscuaWXZegoi-QJiizV22GVGa3SUHVjSUlSuz57q6q8c5iAANVJgbz7qnXSZqV6v6XZUhikCAbDJA8hAPcEbE4_iVnXRiIl9ZK371J078WeIN-klNVjPX2wTVTW-PA486-6cj3CEzeYzcbZLYNs81laasQ5WissdrwnMrI0830YJmOaDh0Qq5UmQdPK8LE_ofMcmHlmz4nZ2MUKqHExQhdXO2Pa6mfz-aVnOLp8nZQkhlUba4WRlYVq97ZDSYyQT4AmIZ_kaxZtp7vbmwbA0brSi63qBmxOEoz4EgwWNDXbzoyj4RSGRw3p4sqmfGF1PopQ2LHveHK76fykwBGyHSqnILRw63E9kwrPYdtV3qpSqOZ-Nc_kvGm_IrfmL7L8pesTbQTXUUi-s_Hsv-TsD67vEdbQuIBLCxsAqcpUV9mPPdGyQivs_b_Zsj1UzC9ZyGag3NWjAhDzjmyxMzgtrV8_qgmUYiJIr2saIzaWOAyYh6WgzSKQJIUfxzcWLVHetHdcLtnzKS_EzW_YZlpW9sjh9j3H_ztdCVU40EYjQMbj5vgvxFXZ0MBv8pHJMYe0v4bvGUWueBvSZHB1mDxGXIXRWmFT7w4lnNg-85WLNMCwOtDF1K0kmcPZlPgbyOGcmtP9gaMzDtAxtNedD67ct-_3uT09_zJt_CXsfYyA22VcJOAV96kcaz3DJLTdv1DGWHGb3ieFC21fj2O0a9ygG6Aco_hYmvbQrWDK5OgN43xA4uOCi-ObLkcITpciSBi8imcRxP0_8xTRphb8CoBX3Gzimv942u_tHn6ofXfISLMXVkVKwu7NThiFNMxSwJyN8uotx2pXvc4siwQgcUrrbPK0IHGEstZlkjL6jwpRfsN6IrOlFuwispfLZGkldMWemRa29k9k7sfshbu25vTY1CGjELseAxSSwhzzOA\",mdrd: \"fktZV.d4ckFK9UZYz5DolsxGcXch6P41C4JPPYhyPGA-1707987600-1.1-AaiXSBdYBdYU_QQk4quRfte2KskQbT-xVm8yDkFSpWBZNhMIXT1uzmB3sHWeOkgqy5pgRGWH51ywu7CaffWyH5Nj7OptHwdSHzLsDx-AkE-v0hbyJTrWS9X_Zrn1HSl6Wyv-zvp43zPK0ZICo5piH_B4Zv50HdkesGobmZXxbuhGlvTc2C-fpvMWKeMROLtd6iiXd4XO0sTIIQ-qsu2PbObFGPWxhNmyf_mNm27SeaW8c_EWf9-V2iqDzrRm4zariKyvBQzHMu2WUueSJ--kh6Xf7hjCGHz0AMQJ4eeTGlY-VY9CIYnZlmD4XgZWCiB9ACkXQ8Moa2A5jPVzAWz3efhXFyuqjqzVFfN40a4EHNQYeDrMmVgqos9laP1PCXXjn4llfrHS32gBzat02fGAkl53BMxiQiBv3YLcoVZ9CCBvU2PvuY8_OuU4zm-d0MvSr2EO-RXAUM8IfFVk5Un1JTDyBUPowZXjtNSkrEHxwKd8XZV0Bmo87DNYxO5JgIOALxsE3hbhBtX8xTVoXpAXdDzxVMrQKI14dJcuuegZ0ZOxkxGXMyRJoL2Tji_5rTiuuIADkFIjgG6jFXsf1Mr2AmyrWNlGvJW34Hkozl5TE_97P0Xc7hK9T4K53sO3AF24ptGppFGkw8PsUl7PadYrjB-uFLOOdjmcEMuPcogy2i26j29UrfFH2rQRrLnyUCYN-xWOOhSq444bTI-myNLgwAeupVQB69FNny6HSbCywPtsKFPKyiLP_rBCYwRbZjvCFlMHOo0jpUioJ5n6EwZ6fTuOHDZiV-lWMqBySZByf3uZFdKP57bP2mw4-3cPoDsGvROq2r-SDYGBAr3N_XlJA1B28cQWlQLpRc1KtIufSGEOW5-_otv2gmaCMShcKmJRIrOfCbkfwuyvr5f02MQiXfBpIQVDJslo5mOdUFNTv_gOCtvdN3PUm_v0hj8779j2AHe9ZX7wKO2YaLPX9R9nqqzNhBB96jXZkI9J21eUezv-sq8XMOn2iQtCTdBreg9fSTqW13aMRGC5h7ekJdbh5BAHDFx6EzbXQSgMBpCHk3tHM-hyrwPreQ8HOdOnSdgPjvg4CkWSRdid2WiM5zF-Svpg0tV17F3S32IMMb5wGalaar3Azi98GDaj9GaTdjO7TGGHeSTgwY3rdLiD9mhp9h0wMVJo0S_W90cUBMnGUKG7DgNkHg44yUbHGdbIWkmTpBAC3gI4YpWmkLXKysYjXKEi11PTJb2vnIbLyNr56cIxFl-Aak8_U4joajucC4KaactboKvWTzFaSKBzx7uj8LnaqV_hW4A0xb-831zhdqHRguaHLcwXOLulwzFQDalZI9k22O8CnCrhZCpnmfueBdE1EbSIZiYwzZWQPVUS3dAvZV3EIJPLtbYdD1cyiidN3RMnKuX1zVbjwDRhXJblxfSmorsg4bv8jBdK8ukreimjM7JgCxa9t4JFnf3ikeL1AN0lkWPTV4O5A5U6jOT8NfePULRX2ySOOT978xl1QO-fNMZ101lAy_AhONqm5VbZaNTn832r_KZ_Qzm-p2qP0njGrn-yGoFpLkPJTYZKsYrYl7YRvga66xmlZl_ik--NEAaQitkGPGqMMgO-FioYJW-8_Uqe2MW_4Sk_qfmD7L4Mu5_uWYnz9nR9JpXazlW17JBSlia_f-UMctjcEKb2URvryugPoblAOwuvAuVDI8Mr_eiRj_FUODdfS1xS2b5Ei28-MP7GB9Fav-zhdRFydyAsDWfJ2TTjEJ65mRz9KSOFgS3BicU5BptPyon7HF_joGpis-559XA6uB3Ycmf_aL0\",cRq: {ru: 'aHR0cHM6Ly9zdG9ja3R3aXRzLmNvbS9zeW1ib2wvVEFUQVNURUVMLk5TRS9mdW5kYW1lbnRhbHM=',ra: 'cHl0aG9uLXJlcXVlc3RzLzIuMzEuMA==',rm: 'R0VU',d: 'UQo8S3p1vRoYDIcu2ff1LdeGLEFCw/X0hUwRW5/Jk1h6JD2nvBZxuUcYh/Q5Oo/NtUQmvNZzmDkA19idzYjrULdrZlDK28HXmekMVg55ZxaHbYAmwu4Dt/0xdul6NslLTLAmykTI8JNhDnFzREFwvvUYBunNzFjmKr4p3f55WDJdm6jDUQrR74FdWPA3FBCJVpGj9glSwMLuvl9/3NDEj/14GHoIttgAHiyz5RDfISA3h8+Ra2eVxGv1akxjHZ2jN2Lo3KcZQlracERKBKLGnVv/X+uLryGiS0lj6eOwtvFS7R/vjIXI/ViN5FaCZlbX8ZGy8Q1v5SKEQqFJRbp7nhpa2Dil2/BoicJDMn0h2dgqJunuPEsa5LtQYueIHlAHn2pJUryQkMNjnWOMZ6IqX054sAEv6jGHWuJmNlbNZeJuJGDfHLcS/TZCV7bg5ujWfdhqOyyJ2BY0IGLhKYAw1wR7kGcW9wU4avD2CslWUDjg8EUci0cs5QKhyS5DONG493EiDpYeeOYyirHTU6daM4rKwN4EtVux21M/wGJ/UwsQKVBJlHTlAiQ1J7gryC/nINPEaAeW9r/BX4+imfKxFh9GENSbtRimZyD9uSnymA0=',t: 'MTcwNzk4NzYwMC41NzYwMDA=',cT: Math.floor(Date.now() / 1000),m: 'NSN+cnGrQuypHm9/JENTaDvWNu1sG6kTgIXf2i7MWFE=',i1: 'lkuS8prIQaxlit/I4Yosaw==',i2: 'BFoEYJmNrusu25Zl8H1Mjw==',zh: '4VA4W4gkPBYJa08htrDrNvoBp8Oi1KxVNgzd7h+XBXo=',uh: 'YE9XOpG5TeHmhA1zfs5mxC8CrRZzq2a/+r+OU7dliYQ=',hh: 'AVcOP/cipa9VflyJrr5yO0kmzU0LH0fjckZl9dAoE3w=',}};var cpo = document.createElement('script');cpo.src = '/cdn-cgi/challenge-platform/h/g/orchestrate/chl_page/v1?ray=855c5ba79e907ee8';window._cf_chl_opt.cOgUHash = location.hash === '' && location.href.indexOf('#') !== -1 ? '#' : location.hash;window._cf_chl_opt.cOgUQuery = location.search === '' && location.href.slice(0, location.href.length - window._cf_chl_opt.cOgUHash.length).indexOf('?') !== -1 ? '?' : location.search;if (window.history && window.history.replaceState) {var ogU = location.pathname + window._cf_chl_opt.cOgUQuery + window._cf_chl_opt.cOgUHash;history.replaceState(null, null, \"\\/symbol\\/TATASTEEL.NSE\\/fundamentals?__cf_chl_rt_tk=vGMzo3zPWHTA3RuQMyMHvhS2L0._6Z58O58Nmfxf9bk-1707987600-0.0-3453\" + window._cf_chl_opt.cOgUHash);cpo.onload = function() {history.replaceState(null, null, ogU);}}document.getElementsByTagName('head')[0].appendChild(cpo);}());</script></body></html>\n"
     ]
    }
   ],
   "source": [
    "print(soup)"
   ]
  },
  {
   "cell_type": "code",
   "execution_count": null,
   "id": "afd8c240",
   "metadata": {},
   "outputs": [],
   "source": []
  },
  {
   "cell_type": "code",
   "execution_count": null,
   "id": "14e63500",
   "metadata": {},
   "outputs": [],
   "source": []
  },
  {
   "cell_type": "code",
   "execution_count": null,
   "id": "15c074f8",
   "metadata": {},
   "outputs": [],
   "source": []
  },
  {
   "cell_type": "code",
   "execution_count": 21,
   "id": "cac238a3",
   "metadata": {},
   "outputs": [
    {
     "name": "stdout",
     "output_type": "stream",
     "text": [
      "Enable JavaScript and cookies to continue\n",
      "Enable JavaScript and cookies to continue\n",
      "Enable JavaScript and cookies to continue\n",
      "Enable JavaScript and cookies to continue\n"
     ]
    }
   ],
   "source": [
    "stocks_full_package = soup.find_all(('div') ,{\"class\":\"SymbolFundamentalsTable_container__2fbMe grid pt-4 tabletSm|pt-10 w-full bg-primary-background\"})\n",
    "stocks_full_package = soup.find_all(('div',{\"class\":\"main-wrapper\"}))\n",
    "# for i in stocks_full_package:\n",
    "for i in stocks_full_package:\n",
    "    print(i.text)\n",
    "# stocks_full_package\n",
    "# SymbolFundamentalsTable_container__2fbMe grid pt-4 tabletSm|pt-10 w-full bg-primary-background"
   ]
  },
  {
   "cell_type": "code",
   "execution_count": null,
   "id": "20c8db05",
   "metadata": {},
   "outputs": [],
   "source": []
  },
  {
   "cell_type": "code",
   "execution_count": null,
   "id": "cca7109f",
   "metadata": {},
   "outputs": [],
   "source": []
  },
  {
   "cell_type": "code",
   "execution_count": null,
   "id": "9a30c4b2",
   "metadata": {},
   "outputs": [],
   "source": []
  },
  {
   "cell_type": "code",
   "execution_count": null,
   "id": "6a4fbd5d",
   "metadata": {},
   "outputs": [],
   "source": []
  }
 ],
 "metadata": {
  "kernelspec": {
   "display_name": "Python 3 (ipykernel)",
   "language": "python",
   "name": "python3"
  },
  "language_info": {
   "codemirror_mode": {
    "name": "ipython",
    "version": 3
   },
   "file_extension": ".py",
   "mimetype": "text/x-python",
   "name": "python",
   "nbconvert_exporter": "python",
   "pygments_lexer": "ipython3",
   "version": "3.11.3"
  }
 },
 "nbformat": 4,
 "nbformat_minor": 5
}
