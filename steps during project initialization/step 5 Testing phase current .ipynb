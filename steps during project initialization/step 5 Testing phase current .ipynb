{
 "cells": [
  {
   "cell_type": "code",
   "execution_count": 1,
   "id": "9cd849ee",
   "metadata": {},
   "outputs": [
    {
     "name": "stderr",
     "output_type": "stream",
     "text": [
      "[nltk_data] Downloading package stopwords to\n",
      "[nltk_data]     C:\\Users\\abdul\\AppData\\Roaming\\nltk_data...\n",
      "[nltk_data]   Package stopwords is already up-to-date!\n"
     ]
    }
   ],
   "source": [
    "import pymongo\n",
    "from bs4 import BeautifulSoup\n",
    "from selenium import webdriver\n",
    "from webdriver_manager.chrome import ChromeDriverManager\n",
    "from selenium.webdriver.common.by import By\n",
    "from selenium.webdriver.chrome.service import Service\n",
    "import re\n",
    "import time\n",
    "from datetime import date\n",
    "from datetime import timedelta\n",
    "import json\n",
    "import pandas as pd\n",
    "import numpy as np\n",
    "import matplotlib.pyplot as plt\n",
    "from datetime import datetime \n",
    "import json\n",
    "import requests\n",
    "from pymongo.errors import BulkWriteError\n",
    "from pprint import pprint\n",
    "import nltk\n",
    "import string\n",
    "nltk.download('stopwords')\n",
    "from nltk.corpus import stopwords\n",
    "import emoji\n",
    "from nltk.stem import PorterStemmer\n",
    "from nltk.tokenize import word_tokenize\n",
    "from nltk.stem import WordNetLemmatizer\n",
    "from nltk.probability import FreqDist\n",
    "from itertools import chain\n",
    "from collections import Counter\n",
    "import joblib \n",
    "from sklearn.feature_extraction.text import TfidfVectorizer\n",
    "from sklearn.datasets import make_classification\n",
    "from sklearn.linear_model import LogisticRegression\n",
    "from sklearn.datasets import make_blobs\n",
    "from sklearn.model_selection import train_test_split\n",
    "from sklearn.metrics import roc_curve, roc_auc_score, accuracy_score\n",
    "from sklearn.metrics import confusion_matrix\n",
    "from sklearn.metrics import precision_score, recall_score, f1_score, precision_recall_curve\n",
    "from sklearn.linear_model import LinearRegression\n",
    "from sklearn.tree import DecisionTreeClassifier\n",
    "from sklearn.ensemble import RandomForestClassifier\n",
    "from sklearn.neighbors import KNeighborsClassifier\n",
    "from joblib import dump, load\n",
    "pd.set_option('display.max_colwidth', None)"
   ]
  },
  {
   "cell_type": "code",
   "execution_count": 2,
   "id": "349ea8f8",
   "metadata": {},
   "outputs": [],
   "source": [
    "time = 72\n",
    "date_of_testing ='12/28/23'\n",
    "date_of_testing_datetime = datetime.strptime(date_of_testing, '%m/%d/%y')\n",
    "time = date_of_testing_datetime - timedelta(hours=time)"
   ]
  },
  {
   "cell_type": "code",
   "execution_count": 3,
   "id": "5a712fd6",
   "metadata": {},
   "outputs": [
    {
     "data": {
      "text/plain": [
       "datetime.datetime(2023, 12, 25, 0, 0)"
      ]
     },
     "execution_count": 3,
     "metadata": {},
     "output_type": "execute_result"
    }
   ],
   "source": [
    "time"
   ]
  },
  {
   "cell_type": "code",
   "execution_count": 4,
   "id": "774dd0d6",
   "metadata": {},
   "outputs": [
    {
     "data": {
      "text/plain": [
       "datetime.datetime(2023, 12, 28, 0, 0)"
      ]
     },
     "execution_count": 4,
     "metadata": {},
     "output_type": "execute_result"
    }
   ],
   "source": [
    "date_of_testing_datetime"
   ]
  },
  {
   "cell_type": "code",
   "execution_count": 6,
   "id": "5ec887f3",
   "metadata": {
    "collapsed": true
   },
   "outputs": [
    {
     "name": "stdout",
     "output_type": "stream",
     "text": [
      "while loop break\n",
      "[{'stock_name': 'TSLA', 'Date': datetime.datetime(2024, 2, 19, 10, 4, 31), 'Twits': '$TSLA chart of the day https://tradernomad.beehiiv.com/p/chart-day-c32c', 'Signal': 'Null', 'Cleaning_status': 'pending', 'Cleaning_status_lemmatization': 'pending'}, {'stock_name': 'TSLA', 'Date': datetime.datetime(2024, 2, 19, 9, 59, 16), 'Twits': '$TSLA  it is down by 2 EUR in German stock exchange', 'Signal': 'Null', 'Cleaning_status': 'pending', 'Cleaning_status_lemmatization': 'pending'}, {'stock_name': 'TSLA', 'Date': datetime.datetime(2024, 2, 19, 9, 37, 9), 'Twits': '$TSLA $META pre-market updates...! http://make-money-bull-trades.stocktoinvest.wiki', 'Signal': 'Null', 'Cleaning_status': 'pending', 'Cleaning_status_lemmatization': 'pending'}, {'stock_name': 'TSLA', 'Date': datetime.datetime(2024, 2, 19, 9, 36, 57), 'Twits': '$SOFI $TSLA Analyst price target for next week...;&#39; http://smart-swing-strategy-chat.stocktoinvest.wiki', 'Signal': 'Bullish', 'Cleaning_status': 'pending', 'Cleaning_status_lemmatization': 'pending'}, {'stock_name': 'TSLA', 'Date': datetime.datetime(2024, 2, 19, 9, 30, 30), 'Twits': '$SOUN $TSLA Analyst price target for next week//. http://smart-swing-strategy-chat.stocktoinvest.wiki', 'Signal': 'Bullish', 'Cleaning_status': 'pending', 'Cleaning_status_lemmatization': 'pending'}, {'stock_name': 'TSLA', 'Date': datetime.datetime(2024, 2, 19, 9, 17, 25), 'Twits': '$TSLA Long weekends suck when you like trading.', 'Signal': 'Null', 'Cleaning_status': 'pending', 'Cleaning_status_lemmatization': 'pending'}, {'stock_name': 'TSLA', 'Date': datetime.datetime(2024, 2, 19, 9, 16, 40), 'Twits': '$TSLA Started trading over 4 months ago and I lost $3K. Now I&#39;ve made over $177K+ profits after joining their chat room and using their alerts..   \\n   \\nHighly recommended! It&#39;s free joining&quot;&quot;&quot;;&#39;.:-💖👉   https://most-active-stock-realtrades.bigstockprofits.wiki/', 'Signal': 'Null', 'Cleaning_status': 'pending', 'Cleaning_status_lemmatization': 'pending'}, {'stock_name': 'TSLA', 'Date': datetime.datetime(2024, 2, 19, 9, 2, 59), 'Twits': '$TSLA my ambitions as a RYDER!', 'Signal': 'Bullish', 'Cleaning_status': 'pending', 'Cleaning_status_lemmatization': 'pending'}, {'stock_name': 'TSLA', 'Date': datetime.datetime(2024, 2, 19, 8, 59, 28), 'Twits': '$TSLA let’s get 250$ this week', 'Signal': 'Bullish', 'Cleaning_status': 'pending', 'Cleaning_status_lemmatization': 'pending'}, {'stock_name': 'TSLA', 'Date': datetime.datetime(2024, 2, 19, 8, 55, 9), 'Twits': '$TSLA $QQQ $FSR \\n\\nSo, what are your plans on preventing rust on your stainless cybers? \\n\\nThr YouTube reviews on tesla and fisker are unmatched this month. 👌', 'Signal': 'Null', 'Cleaning_status': 'pending', 'Cleaning_status_lemmatization': 'pending'}, {'stock_name': 'TSLA', 'Date': datetime.datetime(2024, 2, 19, 8, 43, 38), 'Twits': '$TSLA $GXAI    Analyst price target for next week;    https://smart-money-concept.stocktoinvest.wiki', 'Signal': 'Null', 'Cleaning_status': 'pending', 'Cleaning_status_lemmatization': 'pending'}, {'stock_name': 'TSLA', 'Date': datetime.datetime(2024, 2, 19, 8, 25, 55), 'Twits': '$TSLA what&#39;s up with all that spam tonight', 'Signal': 'Bullish', 'Cleaning_status': 'pending', 'Cleaning_status_lemmatization': 'pending'}, {'stock_name': 'TSLA', 'Date': datetime.datetime(2024, 2, 19, 8, 19, 8), 'Twits': '$RNDR.X $TSLA  Analyst price target for next week~!~~  https://bull-market-trades-watch.stocktoinvest.wiki', 'Signal': 'Null', 'Cleaning_status': 'pending', 'Cleaning_status_lemmatization': 'pending'}, {'stock_name': 'TSLA', 'Date': datetime.datetime(2024, 2, 19, 8, 17), 'Twits': '$NVDA $TSLA Analyst price target for next week.,. advancetrading-big-money.stocktoinvest.wiki', 'Signal': 'Bullish', 'Cleaning_status': 'pending', 'Cleaning_status_lemmatization': 'pending'}, {'stock_name': 'TSLA', 'Date': datetime.datetime(2024, 2, 19, 8, 12, 21), 'Twits': '$TSLA  toss pot Gerber can step on Legos. The fucking fool', 'Signal': 'Bullish', 'Cleaning_status': 'pending', 'Cleaning_status_lemmatization': 'pending'}, {'stock_name': 'TSLA', 'Date': datetime.datetime(2024, 2, 19, 7, 50, 6), 'Twits': '$TSLA $AAPL Gain insights into potential market movements as experts share their predictions for the week ahead!!...,  https://bull-market-trades-watch.stocktoinvest.wiki', 'Signal': 'Null', 'Cleaning_status': 'pending', 'Cleaning_status_lemmatization': 'pending'}, {'stock_name': 'TSLA', 'Date': datetime.datetime(2024, 2, 19, 7, 50, 6), 'Twits': '$TSLA Trending on Elons platform.\\n\\nDude should never have gone full MAGA and Russian propagandist.\\n\\nHis reputation is in tatters and he&#39;s despised and mocked by most people.', 'Signal': 'Bearish', 'Cleaning_status': 'pending', 'Cleaning_status_lemmatization': 'pending'}, {'stock_name': 'TSLA', 'Date': datetime.datetime(2024, 2, 19, 7, 46, 40), 'Twits': '$TSLA  Started trading over 4 months ago and I lost $3K. Now I&#39;ve made over $177K+ profits after joining their chat room and using their alerts..   \\n   \\nHighly recommended! It&#39;s free joining&#39;&#39;;&quot;;--💖👉    https://most-active-stock-realtrades.bigstockprofits.wiki/', 'Signal': 'Null', 'Cleaning_status': 'pending', 'Cleaning_status_lemmatization': 'pending'}, {'stock_name': 'TSLA', 'Date': datetime.datetime(2024, 2, 19, 7, 45, 49), 'Twits': '$TSLA $META pre-market updates,,...,. http://make-money-bull-trades.stocktoinvest.wiki', 'Signal': 'Null', 'Cleaning_status': 'pending', 'Cleaning_status_lemmatization': 'pending'}, {'stock_name': 'TSLA', 'Date': datetime.datetime(2024, 2, 19, 7, 41, 55), 'Twits': '$TSLA https://wallstreetwaves.com/tesla-engineer-clears-the-air-on-rusting-cybertrucks-gives-cleaning-tips-on-how-to-deal-with-surface-cont', 'Signal': 'Null', 'Cleaning_status': 'pending', 'Cleaning_status_lemmatization': 'pending'}, {'stock_name': 'TSLA', 'Date': datetime.datetime(2024, 2, 19, 7, 35, 1), 'Twits': '$TSLA $AAPL Gain insights into potential market movements as experts share their predictions for the week ahead!!! http://make-money-bull-trades.stocktoinvest.wiki', 'Signal': 'Null', 'Cleaning_status': 'pending', 'Cleaning_status_lemmatization': 'pending'}, {'stock_name': 'TSLA', 'Date': datetime.datetime(2024, 2, 19, 7, 33, 39), 'Twits': '$TSLA OI INDEX 🤓👀 NO MARKET TODAY , SEE YA TUESDAY 👋', 'Signal': 'Null', 'Cleaning_status': 'pending', 'Cleaning_status_lemmatization': 'pending'}, {'stock_name': 'TSLA', 'Date': datetime.datetime(2024, 2, 19, 7, 33, 12), 'Twits': '$TSLA OPTIONS VOLUME INDEX 🤓👌 U TRADE OPTIONS? NO MARKET TODAY , SEE YA TUESDAY 👋', 'Signal': 'Null', 'Cleaning_status': 'pending', 'Cleaning_status_lemmatization': 'pending'}, {'stock_name': 'TSLA', 'Date': datetime.datetime(2024, 2, 19, 7, 32, 2), 'Twits': '$BYDDF $BYDDY $TSLA https://wallstreetwaves.com/warren-buffett-backed-byd-unveils-stock-buyback-and-luxury-car-production-expansion-amid-ma', 'Signal': 'Null', 'Cleaning_status': 'pending', 'Cleaning_status_lemmatization': 'pending'}, {'stock_name': 'TSLA', 'Date': datetime.datetime(2024, 2, 19, 7, 26, 13), 'Twits': '$TSLA $AAPL Gain insights into potential market movements as experts share their predictions for the week ahead. http://make-money-bull-trades.stocktoinvest.wiki', 'Signal': 'Null', 'Cleaning_status': 'pending', 'Cleaning_status_lemmatization': 'pending'}, {'stock_name': 'TSLA', 'Date': datetime.datetime(2024, 2, 19, 7, 25, 27), 'Twits': '$SOUN $TSLA   Analyst price target for next week;    https://smart-money-concept.stocktoinvest.wiki', 'Signal': 'Null', 'Cleaning_status': 'pending', 'Cleaning_status_lemmatization': 'pending'}, {'stock_name': 'TSLA', 'Date': datetime.datetime(2024, 2, 19, 7, 12, 16), 'Twits': '$TSLA Shanghai ripping and crypto up. Can do all the analysis you want but like it or not were all gamblers playing the market. Always could go either way. Glta', 'Signal': 'Null', 'Cleaning_status': 'pending', 'Cleaning_status_lemmatization': 'pending'}, {'stock_name': 'TSLA', 'Date': datetime.datetime(2024, 2, 19, 7, 2, 55), 'Twits': '$TSLA $RIVN \\nReady for huge rally?', 'Signal': 'Bullish', 'Cleaning_status': 'pending', 'Cleaning_status_lemmatization': 'pending'}, {'stock_name': 'TSLA', 'Date': datetime.datetime(2024, 2, 19, 7, 0, 56), 'Twits': '$TSLA HAHA do the thing and give me 220$ this week', 'Signal': 'Bullish', 'Cleaning_status': 'pending', 'Cleaning_status_lemmatization': 'pending'}, {'stock_name': 'TSLA', 'Date': datetime.datetime(2024, 2, 19, 6, 51, 27), 'Twits': '$ETH.X  $BTC.X   $TSLA \\n\\n ETH breaks $2900, $3500 soon', 'Signal': 'Null', 'Cleaning_status': 'pending', 'Cleaning_status_lemmatization': 'pending'}, {'stock_name': 'TSLA', 'Date': datetime.datetime(2024, 2, 19, 6, 50, 14), 'Twits': '$NVDA $TSLA Analyst price target for next week.,.,. advancetrading-big-money.stocktoinvest.wiki', 'Signal': 'Bullish', 'Cleaning_status': 'pending', 'Cleaning_status_lemmatization': 'pending'}, {'stock_name': 'TSLA', 'Date': datetime.datetime(2024, 2, 19, 6, 30, 59), 'Twits': '$TSLA The bulletproof windows of the Cybertruck were manufactured in China…', 'Signal': 'Bearish', 'Cleaning_status': 'pending', 'Cleaning_status_lemmatization': 'pending'}, {'stock_name': 'TSLA', 'Date': datetime.datetime(2024, 2, 19, 6, 30, 29), 'Twits': '$TSLA $X https://wallstreetwaves.com/elon-musk-says-tesla-will-never-make-a-concept-car-that-doesnt-become-reality-x-users-remind-him-of-cy', 'Signal': 'Null', 'Cleaning_status': 'pending', 'Cleaning_status_lemmatization': 'pending'}, {'stock_name': 'TSLA', 'Date': datetime.datetime(2024, 2, 19, 6, 29, 15), 'Twits': '$TSLA Ford and gm must have gotten to the Big Guy over the weekend. Biden is now considering slowing some key emissions rules which is going to cause more pain to Tesla.\\n\\nhttps://www.cnn.com/2024/02/18/politics/emissions-rules-ev-growth-biden-administration/index.html', 'Signal': 'Bearish', 'Cleaning_status': 'pending', 'Cleaning_status_lemmatization': 'pending'}, {'stock_name': 'TSLA', 'Date': datetime.datetime(2024, 2, 19, 6, 20, 26), 'Twits': '$TSLA WHO buys a stainless steel car with absolutely no weather protection??🤨🤣', 'Signal': 'Bullish', 'Cleaning_status': 'pending', 'Cleaning_status_lemmatization': 'pending'}, {'stock_name': 'TSLA', 'Date': datetime.datetime(2024, 2, 19, 5, 59, 22), 'Twits': '$TSLA big inverse head and shoulders on SPY and we filled the gap in the purple rectangle, Tuesday couldn’t come fast enough', 'Signal': 'Bullish', 'Cleaning_status': 'pending', 'Cleaning_status_lemmatization': 'pending'}, {'stock_name': 'TSLA', 'Date': datetime.datetime(2024, 2, 19, 5, 47, 12), 'Twits': '$TSLA 400 this week', 'Signal': 'Bullish', 'Cleaning_status': 'pending', 'Cleaning_status_lemmatization': 'pending'}, {'stock_name': 'TSLA', 'Date': datetime.datetime(2024, 2, 19, 5, 46, 27), 'Twits': '$TSLA ACCOUNT CHALLENGE UPDATE:,.;;;; \\n    \\nStarting Balance:: $3,700    \\nCurrent Balance:: $69,379 \\nGoal: $100K by end of Mar.  \\n    \\nWatch out for our next alert!~- https://stock-topwinning-bigboss.bigstockprofits.wiki/', 'Signal': 'Null', 'Cleaning_status': 'pending', 'Cleaning_status_lemmatization': 'pending'}, {'stock_name': 'TSLA', 'Date': datetime.datetime(2024, 2, 19, 5, 38, 35), 'Twits': '$TSLA this ticker will drop even faster than I thought.  No more government support to rush EVs to market.', 'Signal': 'Bearish', 'Cleaning_status': 'pending', 'Cleaning_status_lemmatization': 'pending'}, {'stock_name': 'TSLA', 'Date': datetime.datetime(2024, 2, 19, 5, 36, 12), 'Twits': '$TSLA &#39;The administration would give car manufacturers more time instead of requiring them to rapidly ramp up sales of electric vehicles over the next few years, the report said, adding that the new rule could be published by early spring.  The shift would mean that EV sales would not need to rise sharply until after 2030.&#39; \\n \\nConditions have changed.  No longer a growth stock.  Fan boys, prepare for Tesla under 50 fast.   \\n \\nhttps://www.cnbc.com/2024/02/18/biden-administration-to-reportedly-relax-ev-rule-on-tailpipe-emissions.html', 'Signal': 'Bearish', 'Cleaning_status': 'pending', 'Cleaning_status_lemmatization': 'pending'}, {'stock_name': 'TSLA', 'Date': datetime.datetime(2024, 2, 19, 5, 35, 55), 'Twits': '$META Threads still number 3 on $AAPL app store while X dropped to 37. $tsla 🤔', 'Signal': 'Null', 'Cleaning_status': 'pending', 'Cleaning_status_lemmatization': 'pending'}, {'stock_name': 'TSLA', 'Date': datetime.datetime(2024, 2, 19, 5, 32, 16), 'Twits': '$TSLA oh no Biden is realizing that EVs sck and he might be delaying the switch to all electric. Does this mean he does a double reverse on all the ev discounts and gives it to the illegals instead so they can all buy new homes?. 😂 😂\\nhttps://thehill.com/homenews/administration/4476123-biden-administration-considering-delaying-switch-to-electric-vehicles-report/\\n\\nhttps://thehill.com/homenews/administration/4476123-biden-administration-considering-delaying-switch-to-electric-vehicles-report/', 'Signal': 'Bearish', 'Cleaning_status': 'pending', 'Cleaning_status_lemmatization': 'pending'}, {'stock_name': 'TSLA', 'Date': datetime.datetime(2024, 2, 19, 5, 30, 3), 'Twits': '$TSLA $AMZN $SPY  This means it is getting ready to come down. There is no need for their upgrades. It has moved for months without it. The top is nearing.', 'Signal': 'Bearish', 'Cleaning_status': 'pending', 'Cleaning_status_lemmatization': 'pending'}, {'stock_name': 'TSLA', 'Date': datetime.datetime(2024, 2, 19, 5, 29, 47), 'Twits': '$TSLA', 'Signal': 'Null', 'Cleaning_status': 'pending', 'Cleaning_status_lemmatization': 'pending'}, {'stock_name': 'TSLA', 'Date': datetime.datetime(2024, 2, 19, 5, 24, 57), 'Twits': '$NVDA $TSLA Analyst price target for next week.,. advancetrading-big-money.stocktoinvest.wiki', 'Signal': 'Bullish', 'Cleaning_status': 'pending', 'Cleaning_status_lemmatization': 'pending'}, {'stock_name': 'TSLA', 'Date': datetime.datetime(2024, 2, 19, 5, 23, 13), 'Twits': '$TSLA $MARA Analyst price target for next week-- 🚀🚀  https://smart-money-trading.stocktoinvest.wiki', 'Signal': 'Bullish', 'Cleaning_status': 'pending', 'Cleaning_status_lemmatization': 'pending'}, {'stock_name': 'TSLA', 'Date': datetime.datetime(2024, 2, 19, 5, 20, 29), 'Twits': 'Goldman Sachs Raises S&amp;P 500 Forecast - $TSLA $AMZN $SPY https://www.livetradingnews.com/goldman-sachs-raises-sp-500-forecast-224809.html', 'Signal': 'Bullish', 'Cleaning_status': 'pending', 'Cleaning_status_lemmatization': 'pending'}, {'stock_name': 'TSLA', 'Date': datetime.datetime(2024, 2, 19, 5, 17, 8), 'Twits': '$TSLA 375', 'Signal': 'Bullish', 'Cleaning_status': 'pending', 'Cleaning_status_lemmatization': 'pending'}, {'stock_name': 'TSLA', 'Date': datetime.datetime(2024, 2, 19, 5, 12, 17), 'Twits': '$NVDA  5T Company \\n\\nAll of Mag 7 names are worth 5T \\n\\nand that&#39;s before they really start innovation like vision pro -- drones etc \\n\\n$SPY $QQQ $TSLA $AAPL', 'Signal': 'Null', 'Cleaning_status': 'pending', 'Cleaning_status_lemmatization': 'pending'}, {'stock_name': 'TSLA', 'Date': datetime.datetime(2024, 2, 19, 5, 11, 43), 'Twits': '$TSLA All i can say is that monday is your last chance to sell Tesla before the market will speak on tuesday. Be careful TSLA bangers.', 'Signal': 'Null', 'Cleaning_status': 'pending', 'Cleaning_status_lemmatization': 'pending'}, {'stock_name': 'TSLA', 'Date': datetime.datetime(2024, 2, 19, 5, 10, 19), 'Twits': '$SOUN $TSLA    Analyst!! price target for today;    https://smart-money-concept.stocktoinvest.wiki', 'Signal': 'Null', 'Cleaning_status': 'pending', 'Cleaning_status_lemmatization': 'pending'}, {'stock_name': 'TSLA', 'Date': datetime.datetime(2024, 2, 19, 5, 10, 13), 'Twits': '$TSLA', 'Signal': 'Bullish', 'Cleaning_status': 'pending', 'Cleaning_status_lemmatization': 'pending'}, {'stock_name': 'TSLA', 'Date': datetime.datetime(2024, 2, 19, 5, 10, 8), 'Twits': '$TSLA', 'Signal': 'Null', 'Cleaning_status': 'pending', 'Cleaning_status_lemmatization': 'pending'}, {'stock_name': 'TSLA', 'Date': datetime.datetime(2024, 2, 19, 5, 6, 2), 'Twits': '$TSLA $META Analyst price target for next week+ advancetrading-big-money.stocktoinvest.wiki', 'Signal': 'Null', 'Cleaning_status': 'pending', 'Cleaning_status_lemmatization': 'pending'}, {'stock_name': 'TSLA', 'Date': datetime.datetime(2024, 2, 19, 4, 58, 24), 'Twits': '$NVDA $TSLA Analyst price target for next week.,., advancetrading-big-money.stocktoinvest.wiki', 'Signal': 'Bullish', 'Cleaning_status': 'pending', 'Cleaning_status_lemmatization': 'pending'}, {'stock_name': 'TSLA', 'Date': datetime.datetime(2024, 2, 19, 4, 56, 53), 'Twits': '$MULN $FSR $PLUG $TSLA $HYLN \\n\\nhttps://youtu.be/Fl8L3kWCpFQ?si=ux_RK3Jcn-UajkkL', 'Signal': 'Null', 'Cleaning_status': 'pending', 'Cleaning_status_lemmatization': 'pending'}, {'stock_name': 'TSLA', 'Date': datetime.datetime(2024, 2, 19, 4, 52, 36), 'Twits': '$TSLA $GXAI Analyst price target for next week., 🚀🚀  https://smart-money-trading.stocktoinvest.wiki', 'Signal': 'Bullish', 'Cleaning_status': 'pending', 'Cleaning_status_lemmatization': 'pending'}, {'stock_name': 'TSLA', 'Date': datetime.datetime(2024, 2, 19, 4, 47, 46), 'Twits': '$TSLA 99 fast.', 'Signal': 'Bearish', 'Cleaning_status': 'pending', 'Cleaning_status_lemmatization': 'pending'}, {'stock_name': 'TSLA', 'Date': datetime.datetime(2024, 2, 19, 4, 31, 7), 'Twits': '$TSLA $GXAI  Analyst price target[- for today,, https://smart-money-experts.stocktoinvest.wiki', 'Signal': 'Null', 'Cleaning_status': 'pending', 'Cleaning_status_lemmatization': 'pending'}, {'stock_name': 'TSLA', 'Date': datetime.datetime(2024, 2, 19, 4, 28, 40), 'Twits': '📣🚨☠ Not surprisingly, love it when a plan comes together, imho not looking good re incoming Crash Monday 🤮 worldwide, most all is weak or red, post ridiculous imho #fraudstreetboilerroommarketmakers rallies the past several days, then comes the blood bath on Tuesday in 🇺🇸🇨🇦 imho re due diligence. Don&#39;t you 🐂🐑🐟🤡 love being long over a three day weekend? Thanks for lending Care 🐻🐻🐻 your shares to short 💰🤑💲, much appreciated. I&#39;m surprised #fakecoins haven&#39;t sold off yet. I guess the memes didn&#39;t get the memo. \\nCheers, Paragon_Trader https://stocktwits.com/Paragon_Trader  😁 \\nFYI: \\nStock Market Futures \\nhttps://www.investing.com/indices/indices-futures \\nStock Market Index \\nhttps://www.investing.com/indices/major-indices \\nEnergy Futures \\nhttps://www.investing.com/commodities/energy \\nTRADING ECONOMICS \\nhttps://tradingeconomics.com/ \\nFINVIZ \\nhttps://finviz.com/news.ashx?v=2# \\nReuters \\nhttps://www.reuters.com/ \\nMarketWatch \\nhttps://www.marketwatch.com/latest-news?mod=top_nav \\nCNBC \\nhttps://www.cnbc.com/ \\nTradingView \\nhttps://www.tradingview.com/news/ \\n$arm $nvda $sftby $aapl $TSLA and more 💀', 'Signal': 'Bearish', 'Cleaning_status': 'pending', 'Cleaning_status_lemmatization': 'pending'}, {'stock_name': 'TSLA', 'Date': datetime.datetime(2024, 2, 19, 4, 28, 39), 'Twits': '$TSLA them shits be rustinnnn wtf ?! Whatever still', 'Signal': 'Bullish', 'Cleaning_status': 'pending', 'Cleaning_status_lemmatization': 'pending'}, {'stock_name': 'TSLA', 'Date': datetime.datetime(2024, 2, 19, 4, 24, 23), 'Twits': '$NVDA $TSLA Analyst price target for next week.,/., advancetrading-big-money.stocktoinvest.wiki', 'Signal': 'Bullish', 'Cleaning_status': 'pending', 'Cleaning_status_lemmatization': 'pending'}, {'stock_name': 'TSLA', 'Date': datetime.datetime(2024, 2, 19, 4, 17, 46), 'Twits': '$SPY $TGT $TSLA', 'Signal': 'Bullish', 'Cleaning_status': 'pending', 'Cleaning_status_lemmatization': 'pending'}, {'stock_name': 'TSLA', 'Date': datetime.datetime(2024, 2, 19, 4, 15, 48), 'Twits': '$NKLA BEV will be returning to customers soon. $WKHS $TSLA $PLUG $GOEV', 'Signal': 'Null', 'Cleaning_status': 'pending', 'Cleaning_status_lemmatization': 'pending'}, {'stock_name': 'TSLA', 'Date': datetime.datetime(2024, 2, 19, 4, 12, 21), 'Twits': '$TSLA Here&#39;s where we&#39;re headed in the short term: \\n \\nhttps://twitter.com/ArqamCapital/status/1759316371219853654', 'Signal': 'Null', 'Cleaning_status': 'pending', 'Cleaning_status_lemmatization': 'pending'}, {'stock_name': 'TSLA', 'Date': datetime.datetime(2024, 2, 19, 4, 8, 11), 'Twits': '$TSLA \\n\\nhttps://apple.news/AT1zx4m50Rk6AHTzKyiJK2A', 'Signal': 'Null', 'Cleaning_status': 'pending', 'Cleaning_status_lemmatization': 'pending'}, {'stock_name': 'TSLA', 'Date': datetime.datetime(2024, 2, 19, 4, 5, 55), 'Twits': '$SOUN $TSLA Analyst price target for next week 🚀  https://smart-money-trading.stocktoinvest.wiki', 'Signal': 'Bullish', 'Cleaning_status': 'pending', 'Cleaning_status_lemmatization': 'pending'}, {'stock_name': 'TSLA', 'Date': datetime.datetime(2024, 2, 19, 4, 3, 4), 'Twits': '$TSLA Analyst price target for next week📉  http://make-money-bull-trades.stocktoinvest.wiki', 'Signal': 'Null', 'Cleaning_status': 'pending', 'Cleaning_status_lemmatization': 'pending'}, {'stock_name': 'TSLA', 'Date': datetime.datetime(2024, 2, 19, 3, 47, 33), 'Twits': '$TSLA https://youtu.be/aRk2g4DK-uA?si=L_E0fi76Pmxg5zT2', 'Signal': 'Bullish', 'Cleaning_status': 'pending', 'Cleaning_status_lemmatization': 'pending'}, {'stock_name': 'TSLA', 'Date': datetime.datetime(2024, 2, 19, 3, 46, 32), 'Twits': '$TSLA BYD on Monday launched a new version of its plug-in hybrid sedan Qin Plus DM-i with a lower starting price, doubling down on price cuts to stay competitive in the world&#39;s largest auto market.The new model goes for a starting price of 79,800 yuan ($11,090), down 20% from the previous version.The Qin Plus hybrid competes with best-selling gasoline sedans such as Nissan (OTC:NSANY)&#39;s Sylphy and VW&#39;s Lavida.', 'Signal': 'Null', 'Cleaning_status': 'pending', 'Cleaning_status_lemmatization': 'pending'}, {'stock_name': 'TSLA', 'Date': datetime.datetime(2024, 2, 19, 3, 45, 28), 'Twits': '$TSLA $HYLN', 'Signal': 'Bullish', 'Cleaning_status': 'pending', 'Cleaning_status_lemmatization': 'pending'}, {'stock_name': 'TSLA', 'Date': datetime.datetime(2024, 2, 19, 3, 23, 2), 'Twits': '$VFS They are so ahead of $TSLA in their early days. Billion dollar Vietnam facility and another being built in India. They both cost as much as the Sphere is La Vegas. Remember &lt;35 Shares = 191M market cap. Fully diluted market cap is not smart way to valuate since the shares are not in circulation and could take over 100 years to be released.', 'Signal': 'Bullish', 'Cleaning_status': 'pending', 'Cleaning_status_lemmatization': 'pending'}, {'stock_name': 'TSLA', 'Date': datetime.datetime(2024, 2, 19, 3, 21, 12), 'Twits': '$TSLA buy leaps in leap years', 'Signal': 'Null', 'Cleaning_status': 'pending', 'Cleaning_status_lemmatization': 'pending'}, {'stock_name': 'TSLA', 'Date': datetime.datetime(2024, 2, 19, 3, 20, 32), 'Twits': '$TSLA Saw a Cyber Truck at my local Super Charging Station…\\nMuch more traumatic in person. Squatty little thang.', 'Signal': 'Null', 'Cleaning_status': 'pending', 'Cleaning_status_lemmatization': 'pending'}, {'stock_name': 'TSLA', 'Date': datetime.datetime(2024, 2, 19, 3, 15, 12), 'Twits': '$F $TSLA https://wallstreetwaves.com/ford-slashes-prices-for-2023-mustang-mach-e-in-canada-undercutting-tesla-model-y/', 'Signal': 'Null', 'Cleaning_status': 'pending', 'Cleaning_status_lemmatization': 'pending'}, {'stock_name': 'TSLA', 'Date': datetime.datetime(2024, 2, 19, 3, 12, 54), 'Twits': '$AABB #3  Most  active  with  a  51  million  dollar  market  cap  and  a  billion  dollars  in  Gold  reserves.  $TSLA is  #10  Most  Active  with  a  636  Billion  dollar  market  cap.', 'Signal': 'Bullish', 'Cleaning_status': 'pending', 'Cleaning_status_lemmatization': 'pending'}, {'stock_name': 'TSLA', 'Date': datetime.datetime(2024, 2, 19, 3, 8, 6), 'Twits': '$TSLA looking forward to a gap down on Tuesday then I’ll re enter to target $206 - $210 to close the gap/R shoulder completion. \\nThen I will look to short at resistance around $212 to target $185 or lower. Will post the updated chart as we go', 'Signal': 'Null', 'Cleaning_status': 'pending', 'Cleaning_status_lemmatization': 'pending'}, {'stock_name': 'TSLA', 'Date': datetime.datetime(2024, 2, 19, 3, 7, 55), 'Twits': '$TSLA', 'Signal': 'Null', 'Cleaning_status': 'pending', 'Cleaning_status_lemmatization': 'pending'}, {'stock_name': 'TSLA', 'Date': datetime.datetime(2024, 2, 19, 3, 7, 10), 'Twits': '$TSLA', 'Signal': 'Null', 'Cleaning_status': 'pending', 'Cleaning_status_lemmatization': 'pending'}, {'stock_name': 'TSLA', 'Date': datetime.datetime(2024, 2, 19, 3, 6, 40), 'Twits': '$TSLA \\n\\nLike in the gym \\n\\nI DEMAND YOU TO GROW!\\n\\n$260 to the ups side', 'Signal': 'Null', 'Cleaning_status': 'pending', 'Cleaning_status_lemmatization': 'pending'}, {'stock_name': 'TSLA', 'Date': datetime.datetime(2024, 2, 19, 3, 4, 47), 'Twits': '$TSLA \\n\\n$260 to da UPSIDE !\\n\\nNows ! \\n\\nTomorrow', 'Signal': 'Null', 'Cleaning_status': 'pending', 'Cleaning_status_lemmatization': 'pending'}, {'stock_name': 'TSLA', 'Date': datetime.datetime(2024, 2, 19, 3, 4, 21), 'Twits': '$TSLA give me $260 \\n\\nAt da MINIMUM \\n\\nBY TOMOORROW OR EOW!', 'Signal': 'Null', 'Cleaning_status': 'pending', 'Cleaning_status_lemmatization': 'pending'}, {'stock_name': 'TSLA', 'Date': datetime.datetime(2024, 2, 19, 2, 59, 50), 'Twits': '$TSLA $META  Analyst price!!! target for today,, https://smart-money-experts.stocktoinvest.wiki', 'Signal': 'Null', 'Cleaning_status': 'pending', 'Cleaning_status_lemmatization': 'pending'}, {'stock_name': 'TSLA', 'Date': datetime.datetime(2024, 2, 19, 2, 55, 20), 'Twits': '$TSLA actually $204 in Germany', 'Signal': 'Bullish', 'Cleaning_status': 'pending', 'Cleaning_status_lemmatization': 'pending'}, {'stock_name': 'TSLA', 'Date': datetime.datetime(2024, 2, 19, 2, 54, 10), 'Twits': '$TSLA  😑', 'Signal': 'Null', 'Cleaning_status': 'pending', 'Cleaning_status_lemmatization': 'pending'}, {'stock_name': 'TSLA', 'Date': datetime.datetime(2024, 2, 19, 2, 51, 13), 'Twits': '$TSLA', 'Signal': 'Null', 'Cleaning_status': 'pending', 'Cleaning_status_lemmatization': 'pending'}, {'stock_name': 'TSLA', 'Date': datetime.datetime(2024, 2, 19, 2, 51, 8), 'Twits': '$TSLA MUSK and company too powerful', 'Signal': 'Bullish', 'Cleaning_status': 'pending', 'Cleaning_status_lemmatization': 'pending'}, {'stock_name': 'TSLA', 'Date': datetime.datetime(2024, 2, 19, 2, 47, 53), 'Twits': '$spy Spend $80k on a car &amp; a month later its starting to rust while the CEO of the company is posting memes about boobs,.... thats just sad \\n \\n$TSLA  $f $gm $qqq', 'Signal': 'Null', 'Cleaning_status': 'pending', 'Cleaning_status_lemmatization': 'pending'}, {'stock_name': 'TSLA', 'Date': datetime.datetime(2024, 2, 19, 2, 47, 8), 'Twits': '$TSLA $META Analyst price target for next week,, 🚀  https://smart-money-trading.stocktoinvest.wiki', 'Signal': 'Bullish', 'Cleaning_status': 'pending', 'Cleaning_status_lemmatization': 'pending'}, {'stock_name': 'TSLA', 'Date': datetime.datetime(2024, 2, 19, 2, 45, 32), 'Twits': '$TSLA https://wallstreetwaves.com/elon-musk-opens-up-on-when-tesla-will-make-a-video-game-ive-wanted-to-do-that-for-a-long-time/', 'Signal': 'Null', 'Cleaning_status': 'pending', 'Cleaning_status_lemmatization': 'pending'}, {'stock_name': 'TSLA', 'Date': datetime.datetime(2024, 2, 19, 2, 44, 18), 'Twits': '$TSLA Analyst price target for next week🚀🚀🚀  http://make-money-bull-trades.stocktoinvest.wiki', 'Signal': 'Null', 'Cleaning_status': 'pending', 'Cleaning_status_lemmatization': 'pending'}, {'stock_name': 'TSLA', 'Date': datetime.datetime(2024, 2, 19, 2, 43, 45), 'Twits': '$BABA $GOLD $NEM $BIDU $TSLA \\n\\nDon&#39;t forget to buy gold. Gotta grab some💪😉\\n\\nhttps://www.cnbc.com/quotes/@GC.1', 'Signal': 'Null', 'Cleaning_status': 'pending', 'Cleaning_status_lemmatization': 'pending'}, {'stock_name': 'TSLA', 'Date': datetime.datetime(2024, 2, 19, 2, 41, 52), 'Twits': 'Inspired by real smartphones zombies, I met a few of those, they do really exist  \\n \\n \\n \\n$AAPL $TSLA $SPY $AMD $AMZN', 'Signal': 'Bullish', 'Cleaning_status': 'pending', 'Cleaning_status_lemmatization': 'pending'}, {'stock_name': 'TSLA', 'Date': datetime.datetime(2024, 2, 19, 2, 41, 24), 'Twits': '$TSLA $GXAI Analyst price target for next week.. 🚀  https://smart-money-trading.stocktoinvest.wiki', 'Signal': 'Bullish', 'Cleaning_status': 'pending', 'Cleaning_status_lemmatization': 'pending'}, {'stock_name': 'TSLA', 'Date': datetime.datetime(2024, 2, 19, 2, 23, 39), 'Twits': '$TSLA some reading… \\n \\nhttps://www.yahoo.com/news/biden-administration-considering-delaying-switch-000359746.html', 'Signal': 'Null', 'Cleaning_status': 'pending', 'Cleaning_status_lemmatization': 'pending'}, {'stock_name': 'TSLA', 'Date': datetime.datetime(2024, 2, 19, 2, 21, 48), 'Twits': '$TSLA', 'Signal': 'Bullish', 'Cleaning_status': 'pending', 'Cleaning_status_lemmatization': 'pending'}, {'stock_name': 'TSLA', 'Date': datetime.datetime(2024, 2, 19, 2, 20, 20), 'Twits': 'I&#39;m back\\n$AAPL $TSLA $NVDA $NFLX', 'Signal': 'Null', 'Cleaning_status': 'pending', 'Cleaning_status_lemmatization': 'pending'}, {'stock_name': 'TSLA', 'Date': datetime.datetime(2024, 2, 19, 2, 14, 52), 'Twits': '$VLCN new CEO  thinks he’s $TSLA Elon musk, he’s Elon bluff , doesn’t even know how to drop an actual news Pr, there pr team is a bunch of 8th graders, I think it’s the CEO’s kids', 'Signal': 'Bearish', 'Cleaning_status': 'pending', 'Cleaning_status_lemmatization': 'pending'}, {'stock_name': 'TSLA', 'Date': datetime.datetime(2024, 2, 19, 2, 13, 15), 'Twits': '$NVDA $TSLA Most winning trading chat. 📉 If you really want to make huge profit on trading ,,, check out here :🔥 today-trade-move-on.stocktoinvest.wiki', 'Signal': 'Null', 'Cleaning_status': 'pending', 'Cleaning_status_lemmatization': 'pending'}, {'stock_name': 'TSLA', 'Date': datetime.datetime(2024, 2, 19, 2, 7, 46), 'Twits': '$TSLA  no need, I have this chart', 'Signal': 'Bearish', 'Cleaning_status': 'pending', 'Cleaning_status_lemmatization': 'pending'}, {'stock_name': 'TSLA', 'Date': datetime.datetime(2024, 2, 19, 2, 5, 38), 'Twits': '$TSLA good news.... Your urine can help you recycle 97% of the cobalt in a battery after it dies in a few years. \\n\\nhttps://www.thecooldown.com/green-tech/ev-battery-recycling-urine-lithium-cobalt/', 'Signal': 'Bullish', 'Cleaning_status': 'pending', 'Cleaning_status_lemmatization': 'pending'}, {'stock_name': 'TSLA', 'Date': datetime.datetime(2024, 2, 19, 2, 1, 40), 'Twits': '$TSLA Elon owns 20%. \\nI am going long here .. at these price levels.. given the last dip after an amazing earnings call had to do with little logic .. so  yeah this is now retracing its path back up', 'Signal': 'Bullish', 'Cleaning_status': 'pending', 'Cleaning_status_lemmatization': 'pending'}, {'stock_name': 'TSLA', 'Date': datetime.datetime(2024, 2, 19, 2, 1, 21), 'Twits': '$TSLA somebody didn&#39;t see the yearly candles lol', 'Signal': 'Bullish', 'Cleaning_status': 'pending', 'Cleaning_status_lemmatization': 'pending'}, {'stock_name': 'TSLA', 'Date': datetime.datetime(2024, 2, 19, 1, 59, 34), 'Twits': 'I have 1 spot left for my mentorship \\n\\n1 month long. 3 zoom calls / week\\n\\nI’ll teach you how to make $500-$1,000+ daily \\n\\nFollow &amp; like and I’ll message you 🔥\\n\\n$qqq $tsla $nvda $aapl', 'Signal': 'Bullish', 'Cleaning_status': 'pending', 'Cleaning_status_lemmatization': 'pending'}, {'stock_name': 'TSLA', 'Date': datetime.datetime(2024, 2, 19, 1, 55, 39), 'Twits': '$TSLA are we getting to 250 this year?', 'Signal': 'Null', 'Cleaning_status': 'pending', 'Cleaning_status_lemmatization': 'pending'}, {'stock_name': 'TSLA', 'Date': datetime.datetime(2024, 2, 19, 1, 53, 35), 'Twits': '$GXAI $TSLA Analyst,, price target for today,, https://smart-money-experts.stocktoinvest.wiki', 'Signal': 'Null', 'Cleaning_status': 'pending', 'Cleaning_status_lemmatization': 'pending'}, {'stock_name': 'TSLA', 'Date': datetime.datetime(2024, 2, 19, 1, 52, 58), 'Twits': '$TSLA $aapl $qqq  fellow bears be like \\n\\nhttps://youtube.com/shorts/fCJ4O_74WS0?si=nf4ETullTmsOPZKy', 'Signal': 'Bearish', 'Cleaning_status': 'pending', 'Cleaning_status_lemmatization': 'pending'}, {'stock_name': 'TSLA', 'Date': datetime.datetime(2024, 2, 19, 1, 51, 34), 'Twits': 'Good advice for this generation \\n \\n \\n \\n$AAPL $TSLA $SPY $AMD $AMZN', 'Signal': 'Bullish', 'Cleaning_status': 'pending', 'Cleaning_status_lemmatization': 'pending'}, {'stock_name': 'TSLA', 'Date': datetime.datetime(2024, 2, 19, 1, 50, 31), 'Twits': '$TSLA  naaaaa this one is way cooler', 'Signal': 'Bearish', 'Cleaning_status': 'pending', 'Cleaning_status_lemmatization': 'pending'}, {'stock_name': 'TSLA', 'Date': datetime.datetime(2024, 2, 19, 1, 49, 48), 'Twits': '$TSLA raise your hands if you held calls over the weekend?', 'Signal': 'Bearish', 'Cleaning_status': 'pending', 'Cleaning_status_lemmatization': 'pending'}, {'stock_name': 'TSLA', 'Date': datetime.datetime(2024, 2, 19, 1, 44, 24), 'Twits': '$TSLA is this a cyber rust truck?😂', 'Signal': 'Null', 'Cleaning_status': 'pending', 'Cleaning_status_lemmatization': 'pending'}, {'stock_name': 'TSLA', 'Date': datetime.datetime(2024, 2, 19, 1, 41, 54), 'Twits': '$TSLA $AMC $RILY $GOOS https://wallstreetwaves.com/3-short-squeeze-stocks-that-could-make-your-february-unforgettable/', 'Signal': 'Null', 'Cleaning_status': 'pending', 'Cleaning_status_lemmatization': 'pending'}, {'stock_name': 'TSLA', 'Date': datetime.datetime(2024, 2, 19, 1, 41, 51), 'Twits': '$SPY You know it&#39;s bad when bears \\n\\nare celebrating green futures lol \\n\\nso many retail bears $AAPL $TSLA $AMZN $NFLX', 'Signal': 'Bullish', 'Cleaning_status': 'pending', 'Cleaning_status_lemmatization': 'pending'}, {'stock_name': 'TSLA', 'Date': datetime.datetime(2024, 2, 19, 1, 38, 31), 'Twits': 'I will teach 1 person how I became a millionaire trading options at 26!\\n\\nFollow me &amp; like this\\n\\nI’ll message you with details 🏆\\n\\n$spy $qqq $tsla $nvda', 'Signal': 'Bullish', 'Cleaning_status': 'pending', 'Cleaning_status_lemmatization': 'pending'}, {'stock_name': 'TSLA', 'Date': datetime.datetime(2024, 2, 19, 1, 32, 28), 'Twits': '$TSLA wow down 5% in germany', 'Signal': 'Bearish', 'Cleaning_status': 'pending', 'Cleaning_status_lemmatization': 'pending'}, {'stock_name': 'TSLA', 'Date': datetime.datetime(2024, 2, 19, 1, 29, 14), 'Twits': '$PLTR CTO Shyam on why Boeing aka $ba needs PALANTIR!!! \\n \\n$tsla $arkk  $spy  \\n \\nhttps://youtu.be/XWPYoAyMUn8?si=HNqPsd1z8tnPwFIT', 'Signal': 'Null', 'Cleaning_status': 'pending', 'Cleaning_status_lemmatization': 'pending'}, {'stock_name': 'TSLA', 'Date': datetime.datetime(2024, 2, 19, 1, 26, 53), 'Twits': '$ANF So why the heck is stock pumping while revenue is literally flat? \\n \\nThe answer is I don&#39;t know. The same way I didn&#39;t know why $GM invested into $NKLA, nor why you idiots thought Richard Branson ($SPCE) was going to go to the moon, or how no other car manufacturer in the world will start making electric cars like $TSLA did. \\n \\nOne thing I do know is that stupid valuations are not sustainable in the long run. \\n \\nComplementary photo from Abercrombie &amp; Fitch because they know you are gay.', 'Signal': 'Null', 'Cleaning_status': 'pending', 'Cleaning_status_lemmatization': 'pending'}, {'stock_name': 'TSLA', 'Date': datetime.datetime(2024, 2, 19, 1, 21, 9), 'Twits': '$TSLA https://www.thecooldown.com/green-business/tesla-energy-storage-business-expansion/', 'Signal': 'Null', 'Cleaning_status': 'pending', 'Cleaning_status_lemmatization': 'pending'}, {'stock_name': 'TSLA', 'Date': datetime.datetime(2024, 2, 19, 1, 15, 52), 'Twits': '$SPY Updated charts https://youtu.be/ULlnMzQDBbU $QQQ $TSLA', 'Signal': 'Null', 'Cleaning_status': 'pending', 'Cleaning_status_lemmatization': 'pending'}, {'stock_name': 'TSLA', 'Date': datetime.datetime(2024, 2, 19, 1, 10, 1), 'Twits': '$TSLA $255 this week 👊🏼 been down for too long', 'Signal': 'Null', 'Cleaning_status': 'pending', 'Cleaning_status_lemmatization': 'pending'}, {'stock_name': 'TSLA', 'Date': datetime.datetime(2024, 2, 19, 1, 9, 17), 'Twits': 'For several years, bears have been waiting for that IMAGINARY market crash promised by their so called &quot;analyst&quot; :) \\n \\n$AAPL $TSLA $SPY $AMD $AMZN', 'Signal': 'Bullish', 'Cleaning_status': 'pending', 'Cleaning_status_lemmatization': 'pending'}, {'stock_name': 'TSLA', 'Date': datetime.datetime(2024, 2, 19, 0, 52, 59), 'Twits': '$TSLA \\n\\nTues. \\n\\nSub 197 or 203 🤔\\n\\nRange next week imo: 192- 204', 'Signal': 'Null', 'Cleaning_status': 'pending', 'Cleaning_status_lemmatization': 'pending'}, {'stock_name': 'TSLA', 'Date': datetime.datetime(2024, 2, 19, 0, 44, 40), 'Twits': '$AVT.X $AMC $TSLA $SPY $HOOD we only go up!!', 'Signal': 'Bullish', 'Cleaning_status': 'pending', 'Cleaning_status_lemmatization': 'pending'}, {'stock_name': 'TSLA', 'Date': datetime.datetime(2024, 2, 19, 0, 44, 8), 'Twits': '$SPY $QQQ $TSLA $NVDA 🔥👌🏻💰🤣', 'Signal': 'Null', 'Cleaning_status': 'pending', 'Cleaning_status_lemmatization': 'pending'}, {'stock_name': 'TSLA', 'Date': datetime.datetime(2024, 2, 19, 0, 43, 35), 'Twits': '$TSLA why is sp 500 not moving ?', 'Signal': 'Null', 'Cleaning_status': 'pending', 'Cleaning_status_lemmatization': 'pending'}, {'stock_name': 'TSLA', 'Date': datetime.datetime(2024, 2, 19, 0, 43), 'Twits': '$EGOX  $TSLA', 'Signal': 'Bullish', 'Cleaning_status': 'pending', 'Cleaning_status_lemmatization': 'pending'}, {'stock_name': 'TSLA', 'Date': datetime.datetime(2024, 2, 19, 0, 39, 19), 'Twits': '$TSLA tech futures Green AF which means nothing since market is closed tkmorrow', 'Signal': 'Null', 'Cleaning_status': 'pending', 'Cleaning_status_lemmatization': 'pending'}, {'stock_name': 'TSLA', 'Date': datetime.datetime(2024, 2, 19, 0, 38, 24), 'Twits': '$TSLA Futures look good, Doesn’t  look like the market wants to drop any further. 210 this week is within reach 🤝🏾', 'Signal': 'Bullish', 'Cleaning_status': 'pending', 'Cleaning_status_lemmatization': 'pending'}, {'stock_name': 'TSLA', 'Date': datetime.datetime(2024, 2, 19, 0, 17, 57), 'Twits': '$TSLA looking like $220-230 this week 🇺🇸', 'Signal': 'Bullish', 'Cleaning_status': 'pending', 'Cleaning_status_lemmatization': 'pending'}, {'stock_name': 'TSLA', 'Date': datetime.datetime(2024, 2, 19, 0, 15, 54), 'Twits': '$TSLA 300$ 6 months. 400$ 2025. 2030? ____$?', 'Signal': 'Bullish', 'Cleaning_status': 'pending', 'Cleaning_status_lemmatization': 'pending'}, {'stock_name': 'TSLA', 'Date': datetime.datetime(2024, 2, 19, 0, 15, 32), 'Twits': '$TSLA  no shzzzzzzz?', 'Signal': 'Bearish', 'Cleaning_status': 'pending', 'Cleaning_status_lemmatization': 'pending'}, {'stock_name': 'TSLA', 'Date': datetime.datetime(2024, 2, 19, 0, 15, 19), 'Twits': '$TSLA  they probably gave it to her to drive around', 'Signal': 'Bearish', 'Cleaning_status': 'pending', 'Cleaning_status_lemmatization': 'pending'}, {'stock_name': 'TSLA', 'Date': datetime.datetime(2024, 2, 19, 0, 14, 46), 'Twits': '$TSLA  yeah you get what you pay for. You buy poop and you get you pooped on', 'Signal': 'Bearish', 'Cleaning_status': 'pending', 'Cleaning_status_lemmatization': 'pending'}, {'stock_name': 'TSLA', 'Date': datetime.datetime(2024, 2, 19, 0, 13, 12), 'Twits': '$TSLA Tesla can&#39;t afford to give out raises. 150 coming faster than ever now. This is so exciting\\n\\nhttps://www.thecooldown.com/green-business/tesla-pay-raises-factory-workers-uaw/', 'Signal': 'Bearish', 'Cleaning_status': 'pending', 'Cleaning_status_lemmatization': 'pending'}, {'stock_name': 'TSLA', 'Date': datetime.datetime(2024, 2, 19, 0, 2, 34), 'Twits': '$TSLA = Only undervalued stock in this bubble era. \\nGet yourself ready for 🏎️ rally \\n\\nCrazy overvalued: $MSFT $NVDA $AAPL $AMZN', 'Signal': 'Bullish', 'Cleaning_status': 'pending', 'Cleaning_status_lemmatization': 'pending'}, {'stock_name': 'TSLA', 'Date': datetime.datetime(2024, 2, 18, 23, 54, 18), 'Twits': '$TSLA thinking of cutting my $AAPL holdings in half and dumping them into $TSLA \\nThoughts ?', 'Signal': 'Null', 'Cleaning_status': 'pending', 'Cleaning_status_lemmatization': 'pending'}, {'stock_name': 'TSLA', 'Date': datetime.datetime(2024, 2, 18, 23, 51, 54), 'Twits': '$CYN buyout from $AMZN $TSLA $CAT $WMT  my guess is $CAT  or $AMZN ? Thoughts?', 'Signal': 'Bullish', 'Cleaning_status': 'pending', 'Cleaning_status_lemmatization': 'pending'}, {'stock_name': 'TSLA', 'Date': datetime.datetime(2024, 2, 18, 23, 50, 39), 'Twits': '$TSLA 99 fast.  37 slow.  Chapter 11 by 2026? \\n \\nhttps://www.youtube.com/watch?v=jLq_jPAE8_g', 'Signal': 'Bearish', 'Cleaning_status': 'pending', 'Cleaning_status_lemmatization': 'pending'}, {'stock_name': 'TSLA', 'Date': datetime.datetime(2024, 2, 18, 23, 47, 57), 'Twits': '$BTC.X wonder if Elon feels like an idiot for liquidating all of $TSLA bitcoin holdings at 30k?', 'Signal': 'Bullish', 'Cleaning_status': 'pending', 'Cleaning_status_lemmatization': 'pending'}, {'stock_name': 'TSLA', 'Date': datetime.datetime(2024, 2, 18, 23, 34, 14), 'Twits': '$TSLA well the chop allowed for the MA’s to catch up. It’s either gotta take off now or come down for some supply at 195 level. Peaking my interest given the current situation', 'Signal': 'Null', 'Cleaning_status': 'pending', 'Cleaning_status_lemmatization': 'pending'}, {'stock_name': 'TSLA', 'Date': datetime.datetime(2024, 2, 18, 23, 25, 29), 'Twits': '$TSLA SMOKE and ROAST/PART I - RENEWABLES/\\nThe front of the green is very wide, and so is its smoke. We analyze only one part of the front, energy production. let‘s clear the smoke: Greta Thunberg and his international band, the rich liberals who play at being correct about everything (while they are the worst), that part of the mainstream that hypocritically claims to have environmental awareness and the various utopias ESG circulating. Is there a roast? Yes. And where is it? The roast is in a fucking numerical equation that calculates the (LCOE) LEVELIZED COST of ENERGY. A parameter developed by Lazard not very sexy for the mainstream. It’s a number, it’s not Republican and it’s not Democratic. It’s math. And it tells us that onshore wind energy costs less than ALL other forms of energy. OF ALL. They are numbers, not opinions. So we can conclude that HERE beyond the smoke there is good beef. In short, a tech  with which you can do excellent business  NOW, TOMORROW and AFTER TOMORROW', 'Signal': 'Null', 'Cleaning_status': 'pending', 'Cleaning_status_lemmatization': 'pending'}, {'stock_name': 'TSLA', 'Date': datetime.datetime(2024, 2, 18, 23, 24, 48), 'Twits': '$TSLA SMOKE and ROAST /INTRODUCTION/ We are convinced that Mark Twain would summarize the state of the financial markets today if he were alive. Many of us like beef on the grill. as it cooks, the smoke it generates ignites our neurotransmitters. it is a smell that magically becomes flavour. but until we have the meat in our mouths it simply remains smoke, with a good smell. Even if someone today seems to think differently, there will always be a huge difference between smoke and roast. Let&#39;s now bring this concept to the financial markets and give two examples:\\n\\n1 - renewable energy\\n2 - Artificial intelligence\\n\\nLet&#39;s go beyond the smoke and try with the common sense of the man in the street (the one who moves the world by swiping his credit card) to understand first whether there is roast meat or not, whether the meat is good and how many there is indeed some on the grill. Then follows SMOKE and ROAST PART I (renewables) and PART II (AI)', 'Signal': 'Null', 'Cleaning_status': 'pending', 'Cleaning_status_lemmatization': 'pending'}, {'stock_name': 'TSLA', 'Date': datetime.datetime(2024, 2, 18, 23, 23, 2), 'Twits': '$TSLA Elon sure has been tweeting a lot about Tesla lately 🤫', 'Signal': 'Bullish', 'Cleaning_status': 'pending', 'Cleaning_status_lemmatization': 'pending'}, {'stock_name': 'TSLA', 'Date': datetime.datetime(2024, 2, 18, 23, 20, 57), 'Twits': '$TSLA \\nLady Gaga is goo goo over CT', 'Signal': 'Null', 'Cleaning_status': 'pending', 'Cleaning_status_lemmatization': 'pending'}, {'stock_name': 'TSLA', 'Date': datetime.datetime(2024, 2, 18, 23, 15, 31), 'Twits': '$ENPH $TSLA $RIVN \\n\\nGS now has a PT of 5200 for the S&amp;P. From Bloomberg:\\n\\nGoldman’s 5,200 price target for the S&amp;P 500 in 2024 is now among the highest on Wall Street, joining the ranks of Wall Street bulls including Tom Lee of Fundstrat Global Advisors and Oppenheimer Asset Management chief strategist John Stoltzfus, who both hold a similar year-end outlook.', 'Signal': 'Null', 'Cleaning_status': 'pending', 'Cleaning_status_lemmatization': 'pending'}, {'stock_name': 'TSLA', 'Date': datetime.datetime(2024, 2, 18, 23, 13, 58), 'Twits': '$TSLA\\n\\nhttps://youtu.be/MKYciMiwRYM?si=qApabCfcZHhw3TPj', 'Signal': 'Null', 'Cleaning_status': 'pending', 'Cleaning_status_lemmatization': 'pending'}, {'stock_name': 'TSLA', 'Date': datetime.datetime(2024, 2, 18, 23, 11, 6), 'Twits': '$TSLA futures plummeting', 'Signal': 'Bearish', 'Cleaning_status': 'pending', 'Cleaning_status_lemmatization': 'pending'}, {'stock_name': 'TSLA', 'Date': datetime.datetime(2024, 2, 18, 22, 51, 40), 'Twits': '$TSLA $RIVN $LCID *trigger warning*  \\n \\n“Even the World’s Biggest Electric-Vehicle Market Is Slowing \\n \\nChina’s government is urging carmakers to expand overseas &amp; BYD is ramping up export targets \\n \\n…slowdown has fueled a fierce price war in China embroiling dozens of EV startups and foreign players such as Tesla.  \\n \\n…industry geared up to make millions more cars than it can sell domestically in the next few years. China’s government has acknowledged overcapacity and underused factories, and is pushing automakers to expand overseas. Analysts say that trend could lead to oversupply at home and abroad. \\n \\nAutomakers in China are projected to add capacity for five million cars between 2023 and 2025, most of which are EVs \\n \\nIn Germany, one of BYD’s local distributors announced an up to 15% price cut for all its available models last month.”', 'Signal': 'Bearish', 'Cleaning_status': 'pending', 'Cleaning_status_lemmatization': 'pending'}, {'stock_name': 'TSLA', 'Date': datetime.datetime(2024, 2, 18, 22, 51), 'Twits': '$TSLA  what’s everyone average in here??', 'Signal': 'Null', 'Cleaning_status': 'pending', 'Cleaning_status_lemmatization': 'pending'}, {'stock_name': 'TSLA', 'Date': datetime.datetime(2024, 2, 18, 22, 45, 42), 'Twits': '$TSLA', 'Signal': 'Null', 'Cleaning_status': 'pending', 'Cleaning_status_lemmatization': 'pending'}, {'stock_name': 'TSLA', 'Date': datetime.datetime(2024, 2, 18, 22, 45, 23), 'Twits': '$TSLA somebody let this guy know his caps lock is stuck 😆 🤣 😂 😹', 'Signal': 'Bearish', 'Cleaning_status': 'pending', 'Cleaning_status_lemmatization': 'pending'}, {'stock_name': 'TSLA', 'Date': datetime.datetime(2024, 2, 18, 22, 44, 22), 'Twits': '$TSLA Tesla going to $300 a share.', 'Signal': 'Bullish', 'Cleaning_status': 'pending', 'Cleaning_status_lemmatization': 'pending'}, {'stock_name': 'TSLA', 'Date': datetime.datetime(2024, 2, 18, 22, 36, 11), 'Twits': '$TSLA it will be under $100 this year', 'Signal': 'Bearish', 'Cleaning_status': 'pending', 'Cleaning_status_lemmatization': 'pending'}, {'stock_name': 'TSLA', 'Date': datetime.datetime(2024, 2, 18, 22, 34, 27), 'Twits': '$SPY $TSLA  this hits me hard. Time flies so fast', 'Signal': 'Null', 'Cleaning_status': 'pending', 'Cleaning_status_lemmatization': 'pending'}, {'stock_name': 'TSLA', 'Date': datetime.datetime(2024, 2, 18, 22, 27, 9), 'Twits': '$TSLA i guarantee you that if this didnt split, it wouldve been at $1000 by now. I told yall that splits would make tesla behave like AAPL. \\n\\nYou cant just keep splitting every other year and expect volatility to continue', 'Signal': 'Null', 'Cleaning_status': 'pending', 'Cleaning_status_lemmatization': 'pending'}, {'stock_name': 'TSLA', 'Date': datetime.datetime(2024, 2, 18, 22, 26, 9), 'Twits': '$TSLA Technical Analysis doesn&#39;t work', 'Signal': 'Null', 'Cleaning_status': 'pending', 'Cleaning_status_lemmatization': 'pending'}, {'stock_name': 'TSLA', 'Date': datetime.datetime(2024, 2, 18, 22, 9, 48), 'Twits': '$TSLA safe to short here gapfill at $119 ezpz', 'Signal': 'Bearish', 'Cleaning_status': 'pending', 'Cleaning_status_lemmatization': 'pending'}, {'stock_name': 'TSLA', 'Date': datetime.datetime(2024, 2, 18, 22, 5, 23), 'Twits': '$TSLA', 'Signal': 'Bullish', 'Cleaning_status': 'pending', 'Cleaning_status_lemmatization': 'pending'}, {'stock_name': 'TSLA', 'Date': datetime.datetime(2024, 2, 18, 21, 56, 15), 'Twits': '$SPY $QQQ $TSLA $NVDA  Traders prepping for Tuesday here.', 'Signal': 'Null', 'Cleaning_status': 'pending', 'Cleaning_status_lemmatization': 'pending'}, {'stock_name': 'TSLA', 'Date': datetime.datetime(2024, 2, 18, 21, 50, 48), 'Twits': '$TSLA 220-225 next week $SPY', 'Signal': 'Bullish', 'Cleaning_status': 'pending', 'Cleaning_status_lemmatization': 'pending'}, {'stock_name': 'TSLA', 'Date': datetime.datetime(2024, 2, 18, 21, 48, 10), 'Twits': '$TSLA NEVER SEEN SO MANY SHORTS HERE ! YOU CRIMINAL SHORTS TESLA WILL DESTROY YOU!!!!', 'Signal': 'Bullish', 'Cleaning_status': 'pending', 'Cleaning_status_lemmatization': 'pending'}, {'stock_name': 'TSLA', 'Date': datetime.datetime(2024, 2, 18, 21, 28, 35), 'Twits': '$TSLA https://finance.yahoo.com/news/big-tesla-investors-are-bearish-on-the-stock-over-the-next-6-12-months-morgan-stanleys-jonas-says-190545010.html', 'Signal': 'Null', 'Cleaning_status': 'pending', 'Cleaning_status_lemmatization': 'pending'}, {'stock_name': 'TSLA', 'Date': datetime.datetime(2024, 2, 18, 21, 18, 37), 'Twits': '$TSLA Additionally, the S&amp;P just filled the gap left from the 15th. Very likely we see green on Tuesday', 'Signal': 'Null', 'Cleaning_status': 'pending', 'Cleaning_status_lemmatization': 'pending'}, {'stock_name': 'TSLA', 'Date': datetime.datetime(2024, 2, 18, 21, 15, 32), 'Twits': '$TSLA Higher lows and lower highs, plus it held this range even with the S&amp;P dumping. Tuesday could be huge if the S&amp;P turns around..', 'Signal': 'Bullish', 'Cleaning_status': 'pending', 'Cleaning_status_lemmatization': 'pending'}, {'stock_name': 'TSLA', 'Date': datetime.datetime(2024, 2, 18, 21, 10, 43), 'Twits': '$SPY $TSLA Is a 5-7T company \\n\\ncharging network alone is worth more than a trillion \\n\\nso yes long term tesla has more upside potential than most of the significant 7', 'Signal': 'Bullish', 'Cleaning_status': 'pending', 'Cleaning_status_lemmatization': 'pending'}, {'stock_name': 'TSLA', 'Date': datetime.datetime(2024, 2, 18, 21, 7, 43), 'Twits': '$TSLA Why should you never trust stairs? \\n \\nThey’re always up to something.', 'Signal': 'Bullish', 'Cleaning_status': 'pending', 'Cleaning_status_lemmatization': 'pending'}, {'stock_name': 'TSLA', 'Date': datetime.datetime(2024, 2, 18, 21, 0, 28), 'Twits': '$TSLA man I&#39;ve blocked a lot of idiots on here. Most recently the person writing about 5 cents a share. Ok, Pal. Take a bear view and think this still needs to go down some. But that is just dumb. I personally think this is a $240ish stock in a year. Hence, I own shares and will continue to leverage covered calls and occasionally some other options to optimize my strategy of solid, steady returns. \\n\\nEinstein quote - or at least paraphrased - the most fascinating thing in all of mathematics is compound interest.', 'Signal': 'Bullish', 'Cleaning_status': 'pending', 'Cleaning_status_lemmatization': 'pending'}, {'stock_name': 'TSLA', 'Date': datetime.datetime(2024, 2, 18, 20, 59, 42), 'Twits': '$TSLA  \\nSOUN \\nMusk bought Teitter for 44 B. He should have bought SOUNDHOUND Ai for 4 B for his robotics project and cars. He will need voice Ai for his robots and cars. Check SOUN - SoundHound Ai', 'Signal': 'Null', 'Cleaning_status': 'pending', 'Cleaning_status_lemmatization': 'pending'}, {'stock_name': 'TSLA', 'Date': datetime.datetime(2024, 2, 18, 20, 50, 10), 'Twits': '$TSLA cars rusting and falling apart', 'Signal': 'Bearish', 'Cleaning_status': 'pending', 'Cleaning_status_lemmatization': 'pending'}, {'stock_name': 'TSLA', 'Date': datetime.datetime(2024, 2, 18, 20, 48, 45), 'Twits': '$TSLA Tesla: 0 fire risk recalls since 2018, corrupted media won’t show you this facts', 'Signal': 'Bullish', 'Cleaning_status': 'pending', 'Cleaning_status_lemmatization': 'pending'}, {'stock_name': 'TSLA', 'Date': datetime.datetime(2024, 2, 18, 20, 47, 59), 'Twits': '$TSLA 99 fast.  37 slow.', 'Signal': 'Bearish', 'Cleaning_status': 'pending', 'Cleaning_status_lemmatization': 'pending'}, {'stock_name': 'TSLA', 'Date': datetime.datetime(2024, 2, 18, 20, 46, 7), 'Twits': '$TSLA $TSLL EV cars causes more pollution than Diesel Trucks? \\n\\nhttps://youtube.com/shorts/t5iSap6XQKQ?si=qSjYaufUUAM0WhiZ', 'Signal': 'Null', 'Cleaning_status': 'pending', 'Cleaning_status_lemmatization': 'pending'}, {'stock_name': 'TSLA', 'Date': datetime.datetime(2024, 2, 18, 20, 41, 36), 'Twits': '$TSLA If the recent court ruling doesn&#39;t prove to the average person that the left is using LAWFARE against anyone who isn&#39;t a total NPC like all of them then they aren&#39;t paying attention.  I&#39;m so sick and tired of the left and their minions in the &quot;justice&quot; department abusing their power and coming down on the people they don&#39;t like.  It&#39;s sickening.  It&#39;s utterly disgusting and makes want to see it turned around on them.  This alone is going to not only get President Trump re-elected it&#39;s going to steel his base and him to absolutely PUNISH every single marxist on the left that has been running wild perverting our justice system for the DNC the last 4 years.  I&#39;m done.', 'Signal': 'Bullish', 'Cleaning_status': 'pending', 'Cleaning_status_lemmatization': 'pending'}, {'stock_name': 'TSLA', 'Date': datetime.datetime(2024, 2, 18, 20, 33, 25), 'Twits': '$TSLA be grateful there&#39;s so many bears out. It&#39;s when there&#39;s none out that you start to worry lol', 'Signal': 'Bullish', 'Cleaning_status': 'pending', 'Cleaning_status_lemmatization': 'pending'}, {'stock_name': 'TSLA', 'Date': datetime.datetime(2024, 2, 18, 20, 33, 1), 'Twits': '$SAVE $TSLA spirit is the most no brainer double in the market currently', 'Signal': 'Null', 'Cleaning_status': 'pending', 'Cleaning_status_lemmatization': 'pending'}, {'stock_name': 'TSLA', 'Date': datetime.datetime(2024, 2, 18, 20, 32, 5), 'Twits': '$SIGA This company produces the only effective treatment against Monkeypox worldwide. Tecovirimat. Made in USA🇺🇸100%. \\nhttps://www.cdc.gov/poxvirus/mpox/if-sick/treatment.html \\n\\n$BTC.X  $NFLX $SPY $TSLA', 'Signal': 'Bullish', 'Cleaning_status': 'pending', 'Cleaning_status_lemmatization': 'pending'}, {'stock_name': 'TSLA', 'Date': datetime.datetime(2024, 2, 18, 20, 31, 23), 'Twits': '$TSLA They don’t know when to take profits on puts, the massive drop already happened but they expect more (oddly) when it broke out last week. It’s just laughable', 'Signal': 'Bullish', 'Cleaning_status': 'pending', 'Cleaning_status_lemmatization': 'pending'}, {'stock_name': 'TSLA', 'Date': datetime.datetime(2024, 2, 18, 20, 31, 8), 'Twits': '$TSLA down down down!!!! Back down to 5c a share!!', 'Signal': 'Bearish', 'Cleaning_status': 'pending', 'Cleaning_status_lemmatization': 'pending'}, {'stock_name': 'TSLA', 'Date': datetime.datetime(2024, 2, 18, 20, 28, 19), 'Twits': '$TSLA \\n\\nFeels like everything is a huge scam these days.', 'Signal': 'Bullish', 'Cleaning_status': 'pending', 'Cleaning_status_lemmatization': 'pending'}, {'stock_name': 'TSLA', 'Date': datetime.datetime(2024, 2, 18, 20, 22, 10), 'Twits': '$TSLA \\n\\nLooking for a Tesla patented chartbreak heartbreak. \\n\\nTechnicals have this popping toward a lower high. But why bother?', 'Signal': 'Null', 'Cleaning_status': 'pending', 'Cleaning_status_lemmatization': 'pending'}, {'stock_name': 'TSLA', 'Date': datetime.datetime(2024, 2, 18, 20, 20, 42), 'Twits': '$SMCI $SPY $TSLA hopefully world markets collapse', 'Signal': 'Null', 'Cleaning_status': 'pending', 'Cleaning_status_lemmatization': 'pending'}, {'stock_name': 'TSLA', 'Date': datetime.datetime(2024, 2, 18, 20, 18, 12), 'Twits': '$TSLA will never happen.  Once you remove vaporware from valuation, Tesla only has a FMV of 16/share. \\n \\n2024 = 2008.', 'Signal': 'Bearish', 'Cleaning_status': 'pending', 'Cleaning_status_lemmatization': 'pending'}, {'stock_name': 'TSLA', 'Date': datetime.datetime(2024, 2, 18, 20, 13, 41), 'Twits': '$TSLA 📈', 'Signal': 'Bullish', 'Cleaning_status': 'pending', 'Cleaning_status_lemmatization': 'pending'}, {'stock_name': 'TSLA', 'Date': datetime.datetime(2024, 2, 18, 19, 50, 47), 'Twits': ';) \\n \\n$AAPL $TSLA $SPY $AMD $AMZN', 'Signal': 'Null', 'Cleaning_status': 'pending', 'Cleaning_status_lemmatization': 'pending'}, {'stock_name': 'TSLA', 'Date': datetime.datetime(2024, 2, 18, 19, 47, 28), 'Twits': '$TSLA  SOUN \\nhttps://ai2.news/2024/02/18/nvidias-strategic-investment-in-soundhound-ai-signals-potential-for-growth/', 'Signal': 'Null', 'Cleaning_status': 'pending', 'Cleaning_status_lemmatization': 'pending'}, {'stock_name': 'TSLA', 'Date': datetime.datetime(2024, 2, 18, 19, 46, 51), 'Twits': '$TSLA', 'Signal': 'Null', 'Cleaning_status': 'pending', 'Cleaning_status_lemmatization': 'pending'}, {'stock_name': 'TSLA', 'Date': datetime.datetime(2024, 2, 18, 19, 45, 17), 'Twits': '$NIO $TSLA BYD will outgrow TSLA and be #1 https://www.youtube.com/watch?v=UEDMA_ike6c', 'Signal': 'Null', 'Cleaning_status': 'pending', 'Cleaning_status_lemmatization': 'pending'}, {'stock_name': 'TSLA', 'Date': datetime.datetime(2024, 2, 18, 19, 43, 9), 'Twits': '$TSLA buying a used Tesla is like buying a used laptop.', 'Signal': 'Null', 'Cleaning_status': 'pending', 'Cleaning_status_lemmatization': 'pending'}, {'stock_name': 'TSLA', 'Date': datetime.datetime(2024, 2, 18, 19, 42, 13), 'Twits': '$TSLA ALL OUT WAR AGAINST THESE LOW LIFE DIRTY SHORTS!!! YOU WILL BE FACED WITH UNLIMITED LOSES YOU CROOKS!!!', 'Signal': 'Bullish', 'Cleaning_status': 'pending', 'Cleaning_status_lemmatization': 'pending'}, {'stock_name': 'TSLA', 'Date': datetime.datetime(2024, 2, 18, 19, 37, 33), 'Twits': '$TSLA \\nAlmost Tesla’s charging standard is universally accepted today and supported by most EV manufacturers today.', 'Signal': 'Null', 'Cleaning_status': 'pending', 'Cleaning_status_lemmatization': 'pending'}, {'stock_name': 'TSLA', 'Date': datetime.datetime(2024, 2, 18, 19, 32, 36), 'Twits': '$TSLA  @Traidn\\nImagine Tesla FSD being licensed to all EV makers globally and included with Tesla base price in future.', 'Signal': 'Null', 'Cleaning_status': 'pending', 'Cleaning_status_lemmatization': 'pending'}, {'stock_name': 'TSLA', 'Date': datetime.datetime(2024, 2, 18, 19, 29, 1), 'Twits': '$TSLA SO MANY TRASH BEARS HERE WE HAVE TO MAKE SURE ALL THE BEARS ARE LIQUIDATED!!!!  DESTROY EVERY SINGLE SHORT !!!!!!', 'Signal': 'Bullish', 'Cleaning_status': 'pending', 'Cleaning_status_lemmatization': 'pending'}, {'stock_name': 'TSLA', 'Date': datetime.datetime(2024, 2, 18, 19, 21, 4), 'Twits': '$FSR $TSLA stop the 🧢 Tesla was never this low in market cap. Tesla survived and the original fisker literally went bankrupt.', 'Signal': 'Null', 'Cleaning_status': 'pending', 'Cleaning_status_lemmatization': 'pending'}, {'stock_name': 'TSLA', 'Date': datetime.datetime(2024, 2, 18, 19, 17, 22), 'Twits': '$FSR people just need to chill and relax! Nothing comes easy. Every EV company will go through this phase….even Tesla went through!\\n\\nRead and observe patterns….and stop coming to  conclusions!\\n\\n$tsla\\n\\nFISKER WILL SURVIVE WITHOUT ANY RS PERIOD!\\n\\nhttps://www.cnbc.com/amp/2020/11/03/musk-tesla-was-about-a-month-from-bankruptcy-during-model-3-ramp.html', 'Signal': 'Bullish', 'Cleaning_status': 'pending', 'Cleaning_status_lemmatization': 'pending'}, {'stock_name': 'TSLA', 'Date': datetime.datetime(2024, 2, 18, 18, 56, 42), 'Twits': '$BTC.X $NVDA $MSFT $TSLA Those interested for squeezing shorted stocks, $CNXA seems interesting with 58% interest. Almost 2 million shares out of 3 millions availabe shares are shorted.', 'Signal': 'Null', 'Cleaning_status': 'pending', 'Cleaning_status_lemmatization': 'pending'}, {'stock_name': 'TSLA', 'Date': datetime.datetime(2024, 2, 18, 18, 54, 22), 'Twits': '$TSLA as if Tesla didn’t have enough to worry about with plummeting demand, competition catching up, low cost imports, UAW….', 'Signal': 'Null', 'Cleaning_status': 'pending', 'Cleaning_status_lemmatization': 'pending'}, {'stock_name': 'TSLA', 'Date': datetime.datetime(2024, 2, 18, 18, 53, 16), 'Twits': '$TSLA about to buy on Tuesday, running to $400', 'Signal': 'Bullish', 'Cleaning_status': 'pending', 'Cleaning_status_lemmatization': 'pending'}, {'stock_name': 'TSLA', 'Date': datetime.datetime(2024, 2, 18, 18, 50, 1), 'Twits': '$TSLA bears will get squeezed', 'Signal': 'Bullish', 'Cleaning_status': 'pending', 'Cleaning_status_lemmatization': 'pending'}, {'stock_name': 'TSLA', 'Date': datetime.datetime(2024, 2, 18, 18, 48, 55), 'Twits': '$TSLA a $196-$197 hold could send this stock to $210', 'Signal': 'Null', 'Cleaning_status': 'pending', 'Cleaning_status_lemmatization': 'pending'}, {'stock_name': 'TSLA', 'Date': datetime.datetime(2024, 2, 18, 18, 44, 51), 'Twits': '$TSLA 🧠⏰♾️\\n\\n❤️👑🌈🦄', 'Signal': 'Bullish', 'Cleaning_status': 'pending', 'Cleaning_status_lemmatization': 'pending'}, {'stock_name': 'TSLA', 'Date': datetime.datetime(2024, 2, 18, 18, 42, 27), 'Twits': '$TSLA chart looks good but market is getting choppy… if we can hold over $203 should see a move to $207-$210 soon. $RIVN looks good as well', 'Signal': 'Bullish', 'Cleaning_status': 'pending', 'Cleaning_status_lemmatization': 'pending'}, {'stock_name': 'TSLA', 'Date': datetime.datetime(2024, 2, 18, 18, 39, 37), 'Twits': '$TSLA More than 1 million electric vehicles were sold globally in January — that’s up 69% from January 2023, and an all time record.  But but MSM said EV sales are declining lol.', 'Signal': 'Null', 'Cleaning_status': 'pending', 'Cleaning_status_lemmatization': 'pending'}, {'stock_name': 'TSLA', 'Date': datetime.datetime(2024, 2, 18, 18, 31, 59), 'Twits': '$TSLA we see210 this week enough is enough', 'Signal': 'Bullish', 'Cleaning_status': 'pending', 'Cleaning_status_lemmatization': 'pending'}, {'stock_name': 'TSLA', 'Date': datetime.datetime(2024, 2, 18, 18, 31, 30), 'Twits': '$XLM.X protential breakout happening 📈 $TSLA', 'Signal': 'Null', 'Cleaning_status': 'pending', 'Cleaning_status_lemmatization': 'pending'}, {'stock_name': 'TSLA', 'Date': datetime.datetime(2024, 2, 18, 18, 30, 12), 'Twits': '$TSLA 💯💯 no the bulls drew lines on charts. This going to 1 trillion baluation', 'Signal': 'Bearish', 'Cleaning_status': 'pending', 'Cleaning_status_lemmatization': 'pending'}, {'stock_name': 'TSLA', 'Date': datetime.datetime(2024, 2, 18, 18, 27, 39), 'Twits': '$TSLA resale value on these CyberRusts will be non existent.   \\n \\nhttps://www.youtube.com/watch?v=Hn11FbTfM78', 'Signal': 'Bearish', 'Cleaning_status': 'pending', 'Cleaning_status_lemmatization': 'pending'}, {'stock_name': 'TSLA', 'Date': datetime.datetime(2024, 2, 18, 18, 26, 21), 'Twits': '$TSLA https://www.youtube.com/watch?v=KcVaRlLtBPw', 'Signal': 'Bearish', 'Cleaning_status': 'pending', 'Cleaning_status_lemmatization': 'pending'}, {'stock_name': 'TSLA', 'Date': datetime.datetime(2024, 2, 18, 18, 24, 36), 'Twits': '$TSLA anyone else drooling over the monthly chart? Feels weird to say but I see this at 290 this summer or fall…', 'Signal': 'Null', 'Cleaning_status': 'pending', 'Cleaning_status_lemmatization': 'pending'}, {'stock_name': 'TSLA', 'Date': datetime.datetime(2024, 2, 18, 18, 23, 52), 'Twits': '$TSLA Translation: no demand for CyberRust.  I smell write downs. \\n \\nWhen bankruptcy, 2026? \\n \\nhttps://www.youtube.com/watch?v=j6pY4pdkHik', 'Signal': 'Bearish', 'Cleaning_status': 'pending', 'Cleaning_status_lemmatization': 'pending'}, {'stock_name': 'TSLA', 'Date': datetime.datetime(2024, 2, 18, 18, 20, 37), 'Twits': '$TSLA there is no way for Tesla to monetize AI. \\n \\nFSD is a FAIL. \\n \\nDojo late to market, cloud growth over. \\n \\nhttps://www.youtube.com/watch?v=ZdJkWmgXgAE', 'Signal': 'Bearish', 'Cleaning_status': 'pending', 'Cleaning_status_lemmatization': 'pending'}, {'stock_name': 'TSLA', 'Date': datetime.datetime(2024, 2, 18, 18, 16, 15), 'Twits': '$TSLA Bears working overtime!!', 'Signal': 'Bullish', 'Cleaning_status': 'pending', 'Cleaning_status_lemmatization': 'pending'}, {'stock_name': 'TSLA', 'Date': datetime.datetime(2024, 2, 18, 18, 15, 51), 'Twits': '$TSLA only time can tell.', 'Signal': 'Bullish', 'Cleaning_status': 'pending', 'Cleaning_status_lemmatization': 'pending'}, {'stock_name': 'TSLA', 'Date': datetime.datetime(2024, 2, 18, 18, 10, 29), 'Twits': '$TSLA currently, highest capex and r&amp;d spending in its history.  the only ai company, not selling picks &amp; shovels, that may actually monetize ai…', 'Signal': 'Bullish', 'Cleaning_status': 'pending', 'Cleaning_status_lemmatization': 'pending'}, {'stock_name': 'TSLA', 'Date': datetime.datetime(2024, 2, 18, 18, 7, 32), 'Twits': '$TSLA Fundamental eps .65 cents. \\nNo guidance for 2024. \\nPrice cuts in a row. \\nProduction decreases. \\nEVs demand ? \\nElon mouth ? \\nElon relationship with board. \\n \\nStock still got ability to hit 250?', 'Signal': 'Null', 'Cleaning_status': 'pending', 'Cleaning_status_lemmatization': 'pending'}, {'stock_name': 'TSLA', 'Date': datetime.datetime(2024, 2, 18, 18, 1, 23), 'Twits': '$TSLA', 'Signal': 'Bullish', 'Cleaning_status': 'pending', 'Cleaning_status_lemmatization': 'pending'}, {'stock_name': 'TSLA', 'Date': datetime.datetime(2024, 2, 18, 18, 1, 6), 'Twits': '$FSR there is zero reason to buy a Fisker Ocean over a $TSLA model Y! Infact you would be very stupid to choose the glitchy Fisker Ocean over the perfected Model Y', 'Signal': 'Bearish', 'Cleaning_status': 'pending', 'Cleaning_status_lemmatization': 'pending'}, {'stock_name': 'TSLA', 'Date': datetime.datetime(2024, 2, 18, 18, 0, 6), 'Twits': '$TSLA hit em with the 225 this week', 'Signal': 'Bullish', 'Cleaning_status': 'pending', 'Cleaning_status_lemmatization': 'pending'}, {'stock_name': 'TSLA', 'Date': datetime.datetime(2024, 2, 18, 17, 59, 52), 'Twits': '$TSLA', 'Signal': 'Null', 'Cleaning_status': 'pending', 'Cleaning_status_lemmatization': 'pending'}, {'stock_name': 'TSLA', 'Date': datetime.datetime(2024, 2, 18, 17, 49, 52), 'Twits': '$TSLA I think he just about covered it there… 😎', 'Signal': 'Null', 'Cleaning_status': 'pending', 'Cleaning_status_lemmatization': 'pending'}, {'stock_name': 'TSLA', 'Date': datetime.datetime(2024, 2, 18, 17, 47, 41), 'Twits': '$TSLA $NVDA $SPY $QQQ', 'Signal': 'Null', 'Cleaning_status': 'pending', 'Cleaning_status_lemmatization': 'pending'}, {'stock_name': 'TSLA', 'Date': datetime.datetime(2024, 2, 18, 17, 42, 23), 'Twits': 'My post should be in your inbox.  \\n \\nA Brand New Era is Shaping Up \\nhttps://vikopine.substack.com/p/a-brand-new-era-is-shaping-up \\n \\nDon&#39;t miss. Read it to believe it. Subscribe Now! \\n \\n$SPY $SPX #ES_F $TSLA $AAPL $COIN', 'Signal': 'Null', 'Cleaning_status': 'pending', 'Cleaning_status_lemmatization': 'pending'}, {'stock_name': 'TSLA', 'Date': datetime.datetime(2024, 2, 18, 17, 39, 6), 'Twits': '$TSLA https://www.facebook.com/share/aUfAJdGy7t9HjZQT/?mibextid=WC7FNe', 'Signal': 'Null', 'Cleaning_status': 'pending', 'Cleaning_status_lemmatization': 'pending'}, {'stock_name': 'TSLA', 'Date': datetime.datetime(2024, 2, 18, 17, 38, 34), 'Twits': '$NVNXF $NVX $TSLA I would be shocked if tonight in the Aussie we didn’t move higher again. 8-10x volumes on Friday and +20% I’m guessing we move another 5-10% higher again. Just wouldn’t make sense to have that much volume and that type of move in the price and not have more follow through.', 'Signal': 'Bullish', 'Cleaning_status': 'pending', 'Cleaning_status_lemmatization': 'pending'}, {'stock_name': 'TSLA', 'Date': datetime.datetime(2024, 2, 18, 17, 37, 50), 'Twits': '$TSLA $SPY $QQQ $XLK \\n\\n&quot;‘Completely normal’: Errol Musk on dating his stepdaughter Jana Bezuidenhout and having two children together … but what did he say about Elon Musk’s love life in that explosive new interview? | South China Morning Post&quot; https://amp.scmp.com/magazines/style/celebrity/article/3188639/completely-normal-errol-musk-dating-his-stepdaughter-jana', 'Signal': 'Null', 'Cleaning_status': 'pending', 'Cleaning_status_lemmatization': 'pending'}, {'stock_name': 'TSLA', 'Date': datetime.datetime(2024, 2, 18, 17, 34, 34), 'Twits': '$TSLA  \\n\\nSo they were lying on their last earnings call and guidance 🐻💩\\n\\n&quot;‘Completely normal’: Errol Musk on dating his stepdaughter Jana Bezuidenhout and having two children together … but what did he say about Elon Musk’s love life in that explosive new interview? | South China Morning Post&quot; https://amp.scmp.com/magazines/style/celebrity/article/3188639/completely-normal-errol-musk-dating-his-stepdaughter-jana', 'Signal': 'Bearish', 'Cleaning_status': 'pending', 'Cleaning_status_lemmatization': 'pending'}, {'stock_name': 'TSLA', 'Date': datetime.datetime(2024, 2, 18, 17, 31, 10), 'Twits': '$TSLA love the surprise to each quarter to the upside making wanna~b~bears put their money where their mouth is 😉.now you work🤣 if that&#39;s how the butters made or is the payroll on clicks now to hedge short positions 🫣', 'Signal': 'Bullish', 'Cleaning_status': 'pending', 'Cleaning_status_lemmatization': 'pending'}, {'stock_name': 'TSLA', 'Date': datetime.datetime(2024, 2, 18, 17, 24, 22), 'Twits': '$TSLA  \\n\\nSo they lied about their earnings report and guidance 🐻💩\\n\\n&quot;‘Completely normal’: Errol Musk on dating his stepdaughter Jana Bezuidenhout and having two children together … but what did he say about Elon Musk’s love life in that explosive new interview? | South China Morning Post&quot; https://amp.scmp.com/magazines/style/celebrity/article/3188639/completely-normal-errol-musk-dating-his-stepdaughter-jana', 'Signal': 'Bearish', 'Cleaning_status': 'pending', 'Cleaning_status_lemmatization': 'pending'}, {'stock_name': 'TSLA', 'Date': datetime.datetime(2024, 2, 18, 17, 22, 26), 'Twits': '$TSLA \\n\\n&quot;‘Completely normal’: Errol Musk on dating his stepdaughter Jana Bezuidenhout and having two children together … but what did he say about Elon Musk’s love life in that explosive new interview? | South China Morning Post&quot; https://amp.scmp.com/magazines/style/celebrity/article/3188639/completely-normal-errol-musk-dating-his-stepdaughter-jana', 'Signal': 'Null', 'Cleaning_status': 'pending', 'Cleaning_status_lemmatization': 'pending'}, {'stock_name': 'TSLA', 'Date': datetime.datetime(2024, 2, 18, 17, 21, 10), 'Twits': '$TSLA easy $255 on Tuesday.... When the Bears are despirate you should know something great is coming.', 'Signal': 'Null', 'Cleaning_status': 'pending', 'Cleaning_status_lemmatization': 'pending'}, {'stock_name': 'TSLA', 'Date': datetime.datetime(2024, 2, 18, 17, 19, 20), 'Twits': '$TSLA \\n\\nLet&#39;s not forget the earnings report and guidance 🐻💩', 'Signal': 'Bearish', 'Cleaning_status': 'pending', 'Cleaning_status_lemmatization': 'pending'}, {'stock_name': 'TSLA', 'Date': datetime.datetime(2024, 2, 18, 17, 17, 55), 'Twits': '$TSLA Those guys draw lines on a chart and believe it&#39;s legit lol', 'Signal': 'Bearish', 'Cleaning_status': 'pending', 'Cleaning_status_lemmatization': 'pending'}, {'stock_name': 'TSLA', 'Date': datetime.datetime(2024, 2, 18, 17, 16, 33), 'Twits': '$TSLA  \\n\\nRemember the earnings call and guidance 🐻💩', 'Signal': 'Bearish', 'Cleaning_status': 'pending', 'Cleaning_status_lemmatization': 'pending'}, {'stock_name': 'TSLA', 'Date': datetime.datetime(2024, 2, 18, 17, 13, 45), 'Twits': '$TSLA \\n\\nPer a terrible earnings report and guidance Musk buys for the obvious reasons 🐻💩', 'Signal': 'Bearish', 'Cleaning_status': 'pending', 'Cleaning_status_lemmatization': 'pending'}, {'stock_name': 'TSLA', 'Date': datetime.datetime(2024, 2, 18, 17, 13), 'Twits': '$TSLA &gt;&gt;NEWS IN WINGS&lt;&lt;🥸', 'Signal': 'Bullish', 'Cleaning_status': 'pending', 'Cleaning_status_lemmatization': 'pending'}, {'stock_name': 'TSLA', 'Date': datetime.datetime(2024, 2, 18, 17, 7, 24), 'Twits': '$TSLA all these technical indicators such as inverse head &amp; shoulders etc saying up but market always trade opposite.  So wait till NVDA earning', 'Signal': 'Null', 'Cleaning_status': 'pending', 'Cleaning_status_lemmatization': 'pending'}, {'stock_name': 'TSLA', 'Date': datetime.datetime(2024, 2, 18, 17, 7, 13), 'Twits': '$TSLA  I luv when elonclowns post with no positions gtfoh 😆 🙃 😂 🤪 😅', 'Signal': 'Null', 'Cleaning_status': 'pending', 'Cleaning_status_lemmatization': 'pending'}, {'stock_name': 'TSLA', 'Date': datetime.datetime(2024, 2, 18, 17, 6, 30), 'Twits': '$TSLA new referral allows you to skip the line on the CT, so all the people who waited 5 years and got in line can.......', 'Signal': 'Bearish', 'Cleaning_status': 'pending', 'Cleaning_status_lemmatization': 'pending'}, {'stock_name': 'TSLA', 'Date': datetime.datetime(2024, 2, 18, 17, 4, 28), 'Twits': 'I found this article for you: - https://www.investing.com/news/stock-market-news/5-big-analyst-ai-moves-nvidia-gets-new-streethigh-pt-openai-launches-new-model-3307138\\n$NVDA $AMD &amp;QQQ $TQQQ $TSLA $', 'Signal': 'Null', 'Cleaning_status': 'pending', 'Cleaning_status_lemmatization': 'pending'}, {'stock_name': 'TSLA', 'Date': datetime.datetime(2024, 2, 18, 17, 4, 7), 'Twits': '$TSLA  elonclowns at it again still safe to short here gapfill at $39 eoy mark this post ezpz 😆 🤣 😂 😹', 'Signal': 'Null', 'Cleaning_status': 'pending', 'Cleaning_status_lemmatization': 'pending'}, {'stock_name': 'TSLA', 'Date': datetime.datetime(2024, 2, 18, 17, 0, 53), 'Twits': '$TSLA Sorry fan boy, fweedum guy is too busy with all his other projects, his $55B pay check wasn&#39;t enough to keep his focus \\n \\nhttps://www.youtube.com/watch?v=hLzHNG7ClIw&amp;ab_channel=Butter_EV', 'Signal': 'Bearish', 'Cleaning_status': 'pending', 'Cleaning_status_lemmatization': 'pending'}, {'stock_name': 'TSLA', 'Date': datetime.datetime(2024, 2, 18, 17, 0, 20), 'Twits': '$LUNR after the #SOFTLANDING… Elon will have memes, Biden will take credit and Jerome will take notes. $SPY $DXY $TSLA $VIX', 'Signal': 'Bullish', 'Cleaning_status': 'pending', 'Cleaning_status_lemmatization': 'pending'}, {'stock_name': 'TSLA', 'Date': datetime.datetime(2024, 2, 18, 17, 0, 19), 'Twits': '$SPY $TSLA $BTC.X remember when the West did jack shit to prevent Hitler from taking over territories in the lead up to WW2? Yeah, protecting Ukraine matters. F Russian apologists', 'Signal': 'Null', 'Cleaning_status': 'pending', 'Cleaning_status_lemmatization': 'pending'}, {'stock_name': 'TSLA', 'Date': datetime.datetime(2024, 2, 18, 16, 59, 44), 'Twits': '$FSR vs $TSLA', 'Signal': 'Null', 'Cleaning_status': 'pending', 'Cleaning_status_lemmatization': 'pending'}, {'stock_name': 'TSLA', 'Date': datetime.datetime(2024, 2, 18, 16, 50, 56), 'Twits': '$TSLA 🚀🚀🚀', 'Signal': 'Bullish', 'Cleaning_status': 'pending', 'Cleaning_status_lemmatization': 'pending'}, {'stock_name': 'TSLA', 'Date': datetime.datetime(2024, 2, 18, 16, 50, 53), 'Twits': '$TSLA', 'Signal': 'Null', 'Cleaning_status': 'pending', 'Cleaning_status_lemmatization': 'pending'}, {'stock_name': 'TSLA', 'Date': datetime.datetime(2024, 2, 18, 16, 40, 29), 'Twits': '$WLD.X Sam Altman taking us to $10 $FET.X $OCEAN.X $TSLA $SMCI', 'Signal': 'Bullish', 'Cleaning_status': 'pending', 'Cleaning_status_lemmatization': 'pending'}, {'stock_name': 'TSLA', 'Date': datetime.datetime(2024, 2, 18, 16, 35, 42), 'Twits': 'I found this on NewsBreak: Owners of Tesla’s brand new $80,000 Cybertrucks are complaining of &#39;orange rust marks&#39;  $TSLA https://share.newsbreak.com/66smks6o', 'Signal': 'Null', 'Cleaning_status': 'pending', 'Cleaning_status_lemmatization': 'pending'}, {'stock_name': 'TSLA', 'Date': datetime.datetime(2024, 2, 18, 16, 31, 48), 'Twits': '$TSLA gap up Tuesday 🤪', 'Signal': 'Bullish', 'Cleaning_status': 'pending', 'Cleaning_status_lemmatization': 'pending'}, {'stock_name': 'TSLA', 'Date': datetime.datetime(2024, 2, 18, 16, 27, 34), 'Twits': '$TSLA heavy, expensive, not an exoskeleton and is a stain magnet that needs cleaned daily. You can&#39;t tow more than 100 miles and you have to unhook the trailer to charge for an hour. 500ish Wh/mile empty vs the 3 which is 200ish. The CT is anything but a usable truck for the masses. Just a toy for rich fan boys, who will be mocked and ridiculed behind their backs by everyone but the Qanon and 4chan crowd.  \\n \\nIf you try to use it as a service truck you&#39;ll be hitting 600 Wh/mile loaded full of tools and material. Throw a ladder rack on it and you&#39;ll easily hit 700 which means all your jobs better be in town and only need a few trips or you&#39;ll be charging over your lunch hour', 'Signal': 'Bearish', 'Cleaning_status': 'pending', 'Cleaning_status_lemmatization': 'pending'}, {'stock_name': 'TSLA', 'Date': datetime.datetime(2024, 2, 18, 16, 26, 41), 'Twits': '$TSLA ALL TESLA SHORTS HERE NEED TO BE TERMINATED!!!!!!', 'Signal': 'Bullish', 'Cleaning_status': 'pending', 'Cleaning_status_lemmatization': 'pending'}, {'stock_name': 'TSLA', 'Date': datetime.datetime(2024, 2, 18, 16, 18, 42), 'Twits': '$F $TSLA Biden admin reported to be scaling back EV mandates next month giving ICE and hybrid manufacturers more time.', 'Signal': 'Bullish', 'Cleaning_status': 'pending', 'Cleaning_status_lemmatization': 'pending'}, {'stock_name': 'TSLA', 'Date': datetime.datetime(2024, 2, 18, 16, 11, 38), 'Twits': '$TSLA I bought $YTSL in Canada...getting paid almost 28% divi and also getting lots of upside from the price of  TSLA....loving it', 'Signal': 'Null', 'Cleaning_status': 'pending', 'Cleaning_status_lemmatization': 'pending'}, {'stock_name': 'TSLA', 'Date': datetime.datetime(2024, 2, 18, 16, 9, 19), 'Twits': '$TSLA 🤓👌 last post happy weekend', 'Signal': 'Null', 'Cleaning_status': 'pending', 'Cleaning_status_lemmatization': 'pending'}, {'stock_name': 'TSLA', 'Date': datetime.datetime(2024, 2, 18, 16, 2, 52), 'Twits': '$TSLA it ran too much, too high, and now every little bit of good news is priced in and every little bit of bad news is not. Given fweedum guy&#39;s propensity to tweet bad news, and overhype good news...... I&#39;d steer clear of this shortcut to wealth', 'Signal': 'Bearish', 'Cleaning_status': 'pending', 'Cleaning_status_lemmatization': 'pending'}, {'stock_name': 'TSLA', 'Date': datetime.datetime(2024, 2, 18, 16, 1, 29), 'Twits': '$TSLA 🧐', 'Signal': 'Null', 'Cleaning_status': 'pending', 'Cleaning_status_lemmatization': 'pending'}, {'stock_name': 'TSLA', 'Date': datetime.datetime(2024, 2, 18, 15, 56, 36), 'Twits': '$TSLA \\n\\nBrim below the upper line. \\n\\nNow will break below the lower. \\n\\nBut “fancy charts” lmao.', 'Signal': 'Null', 'Cleaning_status': 'pending', 'Cleaning_status_lemmatization': 'pending'}, {'stock_name': 'TSLA', 'Date': datetime.datetime(2024, 2, 18, 15, 52, 23), 'Twits': '$TSLA 🤓', 'Signal': 'Null', 'Cleaning_status': 'pending', 'Cleaning_status_lemmatization': 'pending'}, {'stock_name': 'TSLA', 'Date': datetime.datetime(2024, 2, 18, 15, 47, 45), 'Twits': '$TSLA', 'Signal': 'Bullish', 'Cleaning_status': 'pending', 'Cleaning_status_lemmatization': 'pending'}, {'stock_name': 'TSLA', 'Date': datetime.datetime(2024, 2, 18, 15, 38, 20), 'Twits': '$TSLA ‘Bullish Island’ ‘250.00’,…', 'Signal': 'Null', 'Cleaning_status': 'pending', 'Cleaning_status_lemmatization': 'pending'}]\n",
      "---------------------------------Links------------------------------------\n",
      "---------------------------------lowercase------------------------------------\n",
      "----------------------------eliminate punctuation-------------------------------\n",
      "----------------------------removing stopwords-------------------------------\n",
      "----------------------------removing emojis-------------------------------\n",
      "----------------------------stemming is done-------------------------------\n",
      "----------------------------removing number is done-------------------------------\n",
      "----------------------------removing 1 letter word is done-------------------------------\n",
      "                                                                                                                                                                  Twits\n",
      "0                                                                                                                                                        tsla chart day\n",
      "1                                                                                                                                         tsla eur german stock exchang\n",
      "2                                                                                                                                            tsla meta pre market updat\n",
      "3                                                                                                                              sofi tsla analyst price target next week\n",
      "4                                                                                                                              soun tsla analyst price target next week\n",
      "..                                                                                                                                                                  ...\n",
      "251                                                                                     tsla bought ytsl canada get paid almost divi also get lot upsid price tsla love\n",
      "252                                                                                                                                        tsla last post happi weekend\n",
      "253  tsla ran much high everi littl bit good news price everi littl bit bad news given fweedum guy propens tweet bad news overhyp good news steer clear shortcut wealth\n",
      "255                                                                                                                   tsla brim upper line break lower fanci chart lmao\n",
      "258                                                                                                                                                 tsla bullish island\n",
      "\n",
      "[216 rows x 1 columns]\n"
     ]
    }
   ],
   "source": [
    "## DATA FOR PREDICTION (it is yesterday data of the current data)\n",
    "stock_name = 'TSLA'\n",
    "header = {'Accept' : 'application/json',\n",
    "  'user-agent': 'Mozilla/5.0 (Windows NT 10.0; Win64; x64) AppleWebKit/537.36 (KHTML, like Gecko) Chrome/117.0.0.0 Safari/537.36',\n",
    "    'Accept-Encoding':'gzip, deflate, br',\n",
    "    'Accept-Language' :  'en-IN,en-GB;q=0.9,en-US;q=0.8,en;q=0.7,hi;q=0.6',\n",
    "    'Connection': 'keep-alive',\n",
    "    'Sec-Fetch-Site':'same-site',\n",
    "    'Sec-Fetch-Mode':'cors',\n",
    "    'Sec-Fetch-Dest':'empty'}\n",
    "\n",
    "\n",
    "              # this name will come from flask frontend\n",
    "main_data = []                    #  All data will store here\n",
    "api_next_list = []\n",
    "\n",
    "\n",
    "time = 24                             # Change according to number of days\n",
    "current_time = datetime.now()                 # It show current time\n",
    "time = current_time - timedelta(hours=time)   # it will go 24 hours back and give you a specific time and time\n",
    "# time = 24\n",
    "# date_of_testing ='12/15/23'\n",
    "# date_of_testing_datetime = datetime.strptime(date_of_testing, '%m/%d/%y')\n",
    "# time = date_of_testing_datetime - timedelta(hours=time)\n",
    "\n",
    "#Initializing the request and converts it into json\n",
    "url = f'https://api.stocktwits.com/api/2/streams/symbol/{stock_name}.json?filter=top&limit=22'  \n",
    "request_success = requests.get(url,headers=header)   \n",
    "json_data_dict = request_success.json()\n",
    "\n",
    "\n",
    "#Taking all the usefull data from the json data\n",
    "usefull_data = (json_data_dict['messages']) \n",
    "\n",
    "#picking the next api address for further scrapping\n",
    "next_api_first = json_data_dict['cursor']['max']\n",
    "next_api_first = str(next_api_first)\n",
    "next_api_first = '&max='+next_api_first\n",
    "\n",
    "\n",
    "\n",
    "# Retrieving the last date from twit to break the first loop\n",
    "last_twit_date_1 = (json_data_dict['messages'][-1])\n",
    "last_twit_date_1 = last_twit_date_1['created_at']\n",
    "last_twit_date_1 = re.sub(pattern = \"[T-Z]+\",repl = ' ',string=last_twit_date_1) # eliminating alphabets\n",
    "last_twit_date_1 = datetime.strptime(last_twit_date_1, \"%Y-%m-%d  %H:%M:%S \")  # changing datatype\n",
    "\n",
    "\n",
    "\n",
    "#Looping in the usefull_data\n",
    "for data in usefull_data:\n",
    "    # Getting the twit date from  usefull_data and cleaning is done\n",
    "    twit_date = data['created_at']\n",
    "    twit_date = re.sub(pattern = \"[T-Z]+\",repl = ' ',string=twit_date)\n",
    "    twit_date = datetime.strptime(twit_date, \"%Y-%m-%d  %H:%M:%S \")   \n",
    "\n",
    "    if twit_date > time:\n",
    "        twit = data['body']\n",
    "        signal = data['entities']['sentiment']\n",
    "        if signal == None:\n",
    "            signal = 'Null'\n",
    "        else :\n",
    "            signal = signal['basic']\n",
    "        stock_twits_data = {'stock_name':stock_name ,'Date':twit_date,'Twits': twit,'Signal': signal,'Cleaning_status':'pending','Cleaning_status_lemmatization':'pending'}\n",
    "        main_data.append(stock_twits_data)\n",
    "    if twit_date < time:\n",
    "        if len(main_data) == 0:\n",
    "            print('No twits found')\n",
    "        else:\n",
    "            print('twits are there')\n",
    "        break\n",
    "    try:\n",
    "        if time < last_twit_date_1.strptime('%H:%M:%S'):\n",
    "            break\n",
    "    except:\n",
    "        pass\n",
    "\n",
    "#########################################################################################################################################    \n",
    "while (True):\n",
    "    loop_break = []\n",
    "    url =  f'https://api.stocktwits.com/api/2/streams/symbol/{stock_name}.json?filter=top&limit=22{next_api_first}'\n",
    "    request_success = requests.get(url,headers=header)   \n",
    "    json_data_dict = request_success.json() \n",
    "    next_api_first = json_data_dict['cursor']['max']\n",
    "    next_api_first = str(next_api_first)\n",
    "    next_api_first = '&max='+next_api_first\n",
    "    usefull_data = (json_data_dict['messages'])\n",
    "    for data in usefull_data:\n",
    "        twit_date = data['created_at']\n",
    "        twit_date = re.sub(pattern = \"[T-Z]+\",repl = ' ',string=twit_date)\n",
    "        twit_date = datetime.strptime(twit_date, \"%Y-%m-%d  %H:%M:%S \")   \n",
    "        if twit_date > time:\n",
    "            twit = data['body']\n",
    "            signal = data['entities']['sentiment']\n",
    "            if signal == None:\n",
    "                signal = 'Null'\n",
    "            else :\n",
    "                signal = signal['basic']\n",
    "            stock_twits_data = {'stock_name':stock_name ,'Date':twit_date,'Twits': twit,'Signal':signal,'Cleaning_status':'pending','Cleaning_status_lemmatization':'pending'}\n",
    "            main_data.append(stock_twits_data)\n",
    "\n",
    "\n",
    "\n",
    "    if twit_date < time:\n",
    "        print('while loop break')\n",
    "        break\n",
    "print(main_data)\n",
    "if not main_data:    \n",
    "    print('No data is found')\n",
    "else :\n",
    "    df = pd.DataFrame(main_data)\n",
    "    pd.set_option('display.max_colwidth', None)\n",
    "\n",
    "\n",
    "    ##Removing Links from dataframe\n",
    "    print('---------------------------------Links------------------------------------')\n",
    "    df['Twits'] = df['Twits'].replace(r'http\\S+', '', regex=True).replace(r'www\\S+', '', regex=True)\n",
    "\n",
    "\n",
    "    ## Lowercase the whole twits column\n",
    "    print('---------------------------------lowercase------------------------------------')\n",
    "    df['Twits'] = df['Twits'].apply(lambda x: x.lower())\n",
    "\n",
    "\n",
    "    ## Eliminating the pumctuation \n",
    "    print('----------------------------eliminate punctuation-------------------------------')\n",
    "    df['Twits'] = df['Twits'].str.replace('[^\\w\\s]',' ',regex=True)\n",
    "\n",
    "\n",
    "    ##Eliminating stopwords \n",
    "    def remove_stopwords(x):\n",
    "        return \" \".join([word for word in str(x).split() if word not in stop_words])\n",
    "    stop_words = set(stopwords.words('english'))\n",
    "    print('----------------------------removing stopwords-------------------------------')\n",
    "    df['Twits'] = df['Twits'].apply(lambda x : remove_stopwords(x))\n",
    "\n",
    "\n",
    "    ##Eliminating Emoji from dataframe\n",
    "    print('----------------------------removing emojis-------------------------------')\n",
    "    df['Twits'] = df['Twits'].apply(lambda s: emoji.replace_emoji(s, ''))\n",
    "\n",
    "    # Stemming on dataframe\n",
    "    print('----------------------------stemming is done-------------------------------')\n",
    "    stemmer = PorterStemmer()\n",
    "    df['Twits'] = df['Twits'].str.split()\n",
    "    df['Twits'] = df['Twits'].apply(lambda x: [stemmer.stem(y) for y in x]) # Stem every word.\n",
    "    df['Twits'] = df['Twits'].apply(lambda x: \" \".join(x))\n",
    "\n",
    "    # Removing number str from column twits\n",
    "    print('----------------------------removing number is done-------------------------------')\n",
    "    df['Twits'] = df['Twits'].replace('\\d+', '', regex=True)\n",
    "\n",
    "    # Removing the words which contain only 1 letter\n",
    "    print('----------------------------removing 1 letter word is done-------------------------------')\n",
    "    df['Twits'] = df['Twits'].str.split()\n",
    "    for text in df['Twits']:\n",
    "        for word in text:\n",
    "            if len(word) == 1:\n",
    "                text.remove(word)\n",
    "    df['Twits'] = df['Twits'].apply(lambda x: \" \".join(x))\n",
    "    df_yesterday = df.drop(['stock_name','Date','Cleaning_status','Cleaning_status_lemmatization','Signal'], axis=1)\n",
    "    df_yesterday = df_yesterday.drop_duplicates()\n",
    "    print(df_yesterday)"
   ]
  },
  {
   "cell_type": "code",
   "execution_count": 8,
   "id": "343e69b9",
   "metadata": {},
   "outputs": [
    {
     "data": {
      "text/html": [
       "<div>\n",
       "<style scoped>\n",
       "    .dataframe tbody tr th:only-of-type {\n",
       "        vertical-align: middle;\n",
       "    }\n",
       "\n",
       "    .dataframe tbody tr th {\n",
       "        vertical-align: top;\n",
       "    }\n",
       "\n",
       "    .dataframe thead th {\n",
       "        text-align: right;\n",
       "    }\n",
       "</style>\n",
       "<table border=\"1\" class=\"dataframe\">\n",
       "  <thead>\n",
       "    <tr style=\"text-align: right;\">\n",
       "      <th></th>\n",
       "      <th>Twits</th>\n",
       "    </tr>\n",
       "  </thead>\n",
       "  <tbody>\n",
       "    <tr>\n",
       "      <th>0</th>\n",
       "      <td>tsla chart day</td>\n",
       "    </tr>\n",
       "    <tr>\n",
       "      <th>1</th>\n",
       "      <td>tsla eur german stock exchang</td>\n",
       "    </tr>\n",
       "    <tr>\n",
       "      <th>2</th>\n",
       "      <td>tsla meta pre market updat</td>\n",
       "    </tr>\n",
       "    <tr>\n",
       "      <th>3</th>\n",
       "      <td>sofi tsla analyst price target next week</td>\n",
       "    </tr>\n",
       "    <tr>\n",
       "      <th>4</th>\n",
       "      <td>soun tsla analyst price target next week</td>\n",
       "    </tr>\n",
       "    <tr>\n",
       "      <th>...</th>\n",
       "      <td>...</td>\n",
       "    </tr>\n",
       "    <tr>\n",
       "      <th>251</th>\n",
       "      <td>tsla bought ytsl canada get paid almost divi also get lot upsid price tsla love</td>\n",
       "    </tr>\n",
       "    <tr>\n",
       "      <th>252</th>\n",
       "      <td>tsla last post happi weekend</td>\n",
       "    </tr>\n",
       "    <tr>\n",
       "      <th>253</th>\n",
       "      <td>tsla ran much high everi littl bit good news price everi littl bit bad news given fweedum guy propens tweet bad news overhyp good news steer clear shortcut wealth</td>\n",
       "    </tr>\n",
       "    <tr>\n",
       "      <th>255</th>\n",
       "      <td>tsla brim upper line break lower fanci chart lmao</td>\n",
       "    </tr>\n",
       "    <tr>\n",
       "      <th>258</th>\n",
       "      <td>tsla bullish island</td>\n",
       "    </tr>\n",
       "  </tbody>\n",
       "</table>\n",
       "<p>216 rows × 1 columns</p>\n",
       "</div>"
      ],
      "text/plain": [
       "                                                                                                                                                                  Twits\n",
       "0                                                                                                                                                        tsla chart day\n",
       "1                                                                                                                                         tsla eur german stock exchang\n",
       "2                                                                                                                                            tsla meta pre market updat\n",
       "3                                                                                                                              sofi tsla analyst price target next week\n",
       "4                                                                                                                              soun tsla analyst price target next week\n",
       "..                                                                                                                                                                  ...\n",
       "251                                                                                     tsla bought ytsl canada get paid almost divi also get lot upsid price tsla love\n",
       "252                                                                                                                                        tsla last post happi weekend\n",
       "253  tsla ran much high everi littl bit good news price everi littl bit bad news given fweedum guy propens tweet bad news overhyp good news steer clear shortcut wealth\n",
       "255                                                                                                                   tsla brim upper line break lower fanci chart lmao\n",
       "258                                                                                                                                                 tsla bullish island\n",
       "\n",
       "[216 rows x 1 columns]"
      ]
     },
     "execution_count": 8,
     "metadata": {},
     "output_type": "execute_result"
    }
   ],
   "source": [
    "df_yesterday"
   ]
  },
  {
   "cell_type": "code",
   "execution_count": 9,
   "id": "6f77ab1a",
   "metadata": {},
   "outputs": [
    {
     "name": "stdout",
     "output_type": "stream",
     "text": [
      "Shape of yesterday_dataset: (1, 93352)\n"
     ]
    }
   ],
   "source": [
    "df_yesterday_combine         = df_yesterday                                            # duplicating the df_yesterday\n",
    "twits_prediction_lists       = df_yesterday_combine['Twits'].tolist()                  # Converting it into list\n",
    "twits_prediction_lists_merge = \" \".join(twits_prediction_lists)                        # joining each element of a list into a single element\n",
    "dict_yesterday_twits_merge   = {'Twits':twits_prediction_lists_merge}                  # Initializing of creating dataframe  \n",
    "df_yesterday_twits_merge     = pd.DataFrame(dict_yesterday_twits_merge,index=['Index'])# making dataframe\n",
    "df_yesterday_twits_merge_unicode  = df_yesterday_twits_merge['Twits'].astype('unicode')# Converting it into unicode\n",
    "loaded_tfidf_vectorizer = load('tfidf_vectorizer.pkl')\n",
    "x_test_prediction_yesterday_merge = loaded_tfidf_vectorizer.transform(df_yesterday_twits_merge_unicode) \n",
    "print(\"Shape of yesterday_dataset:\", x_test_prediction_yesterday_merge.shape)"
   ]
  },
  {
   "cell_type": "code",
   "execution_count": 23,
   "id": "2ca09ff9",
   "metadata": {},
   "outputs": [
    {
     "name": "stdout",
     "output_type": "stream",
     "text": [
      "The predicted value is [0.93380453]\n",
      "Bullish\n"
     ]
    }
   ],
   "source": [
    "loaded_model = load('linear_regression_final.joblib')\n",
    "predictions = loaded_model.predict(x_test_prediction_yesterday_merge)\n",
    "print(f'The predicted value is {predictions}')\n",
    "if predictions > 0.5 :\n",
    "    print('Bullish')\n",
    "else:\n",
    "    print('Bearish')"
   ]
  },
  {
   "cell_type": "code",
   "execution_count": 19,
   "id": "240322a4",
   "metadata": {},
   "outputs": [
    {
     "name": "stdout",
     "output_type": "stream",
     "text": [
      "216\n"
     ]
    }
   ],
   "source": [
    "print(len(df_yesterday.index))\n",
    "# len(df.index)"
   ]
  },
  {
   "cell_type": "code",
   "execution_count": null,
   "id": "3774da2b",
   "metadata": {},
   "outputs": [],
   "source": []
  }
 ],
 "metadata": {
  "kernelspec": {
   "display_name": "Python 3 (ipykernel)",
   "language": "python",
   "name": "python3"
  },
  "language_info": {
   "codemirror_mode": {
    "name": "ipython",
    "version": 3
   },
   "file_extension": ".py",
   "mimetype": "text/x-python",
   "name": "python",
   "nbconvert_exporter": "python",
   "pygments_lexer": "ipython3",
   "version": "3.11.3"
  }
 },
 "nbformat": 4,
 "nbformat_minor": 5
}
