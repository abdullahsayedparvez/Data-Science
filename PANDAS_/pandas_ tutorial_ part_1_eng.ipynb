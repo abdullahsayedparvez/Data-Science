{
 "cells": [
  {
   "cell_type": "markdown",
   "id": "21a866f9",
   "metadata": {},
   "source": [
    "# TUTORIAL 01___how to use pandas__and how to make a dataframe____\n",
    "is a combination of all Tutorials"
   ]
  },
  {
   "cell_type": "code",
   "execution_count": 24,
   "id": "020fa180",
   "metadata": {},
   "outputs": [],
   "source": [
    "import pandas as pd"
   ]
  },
  {
   "cell_type": "code",
   "execution_count": 352,
   "id": "946574d7",
   "metadata": {},
   "outputs": [],
   "source": [
    "na_vals = ['NA' , 'MISSING']"
   ]
  },
  {
   "cell_type": "code",
   "execution_count": 354,
   "id": "b166f4d7",
   "metadata": {},
   "outputs": [],
   "source": [
    "df = pd.read_csv('bike_data.csv' , na_values = na_vals )"
   ]
  },
  {
   "cell_type": "code",
   "execution_count": 355,
   "id": "8b8c50a1",
   "metadata": {},
   "outputs": [
    {
     "data": {
      "text/html": [
       "<div>\n",
       "<style scoped>\n",
       "    .dataframe tbody tr th:only-of-type {\n",
       "        vertical-align: middle;\n",
       "    }\n",
       "\n",
       "    .dataframe tbody tr th {\n",
       "        vertical-align: top;\n",
       "    }\n",
       "\n",
       "    .dataframe thead th {\n",
       "        text-align: right;\n",
       "    }\n",
       "</style>\n",
       "<table border=\"1\" class=\"dataframe\">\n",
       "  <thead>\n",
       "    <tr style=\"text-align: right;\">\n",
       "      <th></th>\n",
       "      <th>Unnamed: 0</th>\n",
       "      <th>Name</th>\n",
       "      <th>Price</th>\n",
       "      <th>Location</th>\n",
       "      <th>Running</th>\n",
       "      <th>Owner</th>\n",
       "    </tr>\n",
       "  </thead>\n",
       "  <tbody>\n",
       "    <tr>\n",
       "      <th>0</th>\n",
       "      <td>0</td>\n",
       "      <td>TVS Star City Plus Dual Tone 110cc 2018</td>\n",
       "      <td>35,000</td>\n",
       "      <td>Ahmedabad</td>\n",
       "      <td>17,654 Km</td>\n",
       "      <td>First Owner</td>\n",
       "    </tr>\n",
       "    <tr>\n",
       "      <th>1</th>\n",
       "      <td>1</td>\n",
       "      <td>Royal Enfield Classic 350cc 2017</td>\n",
       "      <td>1,19,900</td>\n",
       "      <td>Delhi</td>\n",
       "      <td>11,000 Km</td>\n",
       "      <td>First Owner</td>\n",
       "    </tr>\n",
       "    <tr>\n",
       "      <th>2</th>\n",
       "      <td>2</td>\n",
       "      <td>Triumph Daytona 675R 2013</td>\n",
       "      <td>6,00,000</td>\n",
       "      <td>Delhi</td>\n",
       "      <td>110 Km</td>\n",
       "      <td>First Owner</td>\n",
       "    </tr>\n",
       "    <tr>\n",
       "      <th>3</th>\n",
       "      <td>3</td>\n",
       "      <td>TVS Apache RTR 180cc 2017</td>\n",
       "      <td>65,000</td>\n",
       "      <td>Bangalore</td>\n",
       "      <td>16,329 Km</td>\n",
       "      <td>First Owner</td>\n",
       "    </tr>\n",
       "    <tr>\n",
       "      <th>4</th>\n",
       "      <td>4</td>\n",
       "      <td>Yamaha FZ S V 2.0 150cc-Ltd. Edition 2018</td>\n",
       "      <td>80,000</td>\n",
       "      <td>Bangalore</td>\n",
       "      <td>10,000 Km</td>\n",
       "      <td>First Owner</td>\n",
       "    </tr>\n",
       "    <tr>\n",
       "      <th>...</th>\n",
       "      <td>...</td>\n",
       "      <td>...</td>\n",
       "      <td>...</td>\n",
       "      <td>...</td>\n",
       "      <td>...</td>\n",
       "      <td>...</td>\n",
       "    </tr>\n",
       "    <tr>\n",
       "      <th>34495</th>\n",
       "      <td>34495</td>\n",
       "      <td>Hero Passion Pro 100cc 2017</td>\n",
       "      <td>39,000</td>\n",
       "      <td>Delhi</td>\n",
       "      <td>22,000 Km</td>\n",
       "      <td>First Owner</td>\n",
       "    </tr>\n",
       "    <tr>\n",
       "      <th>34496</th>\n",
       "      <td>34496</td>\n",
       "      <td>TVS Apache RTR 180cc 2012</td>\n",
       "      <td>30,000</td>\n",
       "      <td>Karnal</td>\n",
       "      <td>6,639 Km</td>\n",
       "      <td>First Owner</td>\n",
       "    </tr>\n",
       "    <tr>\n",
       "      <th>34497</th>\n",
       "      <td>34497</td>\n",
       "      <td>Bajaj Avenger Street 220 2015</td>\n",
       "      <td>60,000</td>\n",
       "      <td>Delhi</td>\n",
       "      <td>20,373 Km</td>\n",
       "      <td>First Owner</td>\n",
       "    </tr>\n",
       "    <tr>\n",
       "      <th>34498</th>\n",
       "      <td>34498</td>\n",
       "      <td>Hero Super Splendor 125cc 2005</td>\n",
       "      <td>15,600</td>\n",
       "      <td>Jaipur</td>\n",
       "      <td>84,186 Km</td>\n",
       "      <td>First Owner</td>\n",
       "    </tr>\n",
       "    <tr>\n",
       "      <th>34499</th>\n",
       "      <td>34499</td>\n",
       "      <td>Bajaj Pulsar 150cc 2008</td>\n",
       "      <td>22,000</td>\n",
       "      <td>Pune</td>\n",
       "      <td>60,857 Km</td>\n",
       "      <td>First Owner</td>\n",
       "    </tr>\n",
       "  </tbody>\n",
       "</table>\n",
       "<p>34500 rows × 6 columns</p>\n",
       "</div>"
      ],
      "text/plain": [
       "       Unnamed: 0                                       Name     Price  \\\n",
       "0               0    TVS Star City Plus Dual Tone 110cc 2018    35,000   \n",
       "1               1           Royal Enfield Classic 350cc 2017  1,19,900   \n",
       "2               2                  Triumph Daytona 675R 2013  6,00,000   \n",
       "3               3                  TVS Apache RTR 180cc 2017    65,000   \n",
       "4               4  Yamaha FZ S V 2.0 150cc-Ltd. Edition 2018    80,000   \n",
       "...           ...                                        ...       ...   \n",
       "34495       34495                Hero Passion Pro 100cc 2017    39,000   \n",
       "34496       34496                  TVS Apache RTR 180cc 2012    30,000   \n",
       "34497       34497              Bajaj Avenger Street 220 2015    60,000   \n",
       "34498       34498             Hero Super Splendor 125cc 2005    15,600   \n",
       "34499       34499                    Bajaj Pulsar 150cc 2008    22,000   \n",
       "\n",
       "        Location    Running        Owner  \n",
       "0      Ahmedabad  17,654 Km  First Owner  \n",
       "1          Delhi  11,000 Km  First Owner  \n",
       "2          Delhi     110 Km  First Owner  \n",
       "3      Bangalore  16,329 Km  First Owner  \n",
       "4      Bangalore  10,000 Km  First Owner  \n",
       "...          ...        ...          ...  \n",
       "34495      Delhi  22,000 Km  First Owner  \n",
       "34496     Karnal   6,639 Km  First Owner  \n",
       "34497      Delhi  20,373 Km  First Owner  \n",
       "34498     Jaipur  84,186 Km  First Owner  \n",
       "34499       Pune  60,857 Km  First Owner  \n",
       "\n",
       "[34500 rows x 6 columns]"
      ]
     },
     "execution_count": 355,
     "metadata": {},
     "output_type": "execute_result"
    }
   ],
   "source": [
    "df"
   ]
  },
  {
   "cell_type": "code",
   "execution_count": 108,
   "id": "345093d3",
   "metadata": {},
   "outputs": [
    {
     "data": {
      "text/plain": [
       "'TVS Star City Plus Dual Tone 110cc 2018'"
      ]
     },
     "execution_count": 108,
     "metadata": {},
     "output_type": "execute_result"
    }
   ],
   "source": [
    "df.loc[0]        # to get a one person or thing information or you can say that only one row information  \n",
    "df.loc[0 , 'Name']"
   ]
  },
  {
   "cell_type": "code",
   "execution_count": 98,
   "id": "af8b2f4d",
   "metadata": {},
   "outputs": [
    {
     "data": {
      "text/plain": [
       "'TVS Star City Plus Dual Tone 110cc 2018'"
      ]
     },
     "execution_count": 98,
     "metadata": {},
     "output_type": "execute_result"
    }
   ],
   "source": [
    "df.loc[0 , 'Name']    # agar teko selected rows ke column chaheye .."
   ]
  },
  {
   "cell_type": "code",
   "execution_count": 99,
   "id": "90012a6a",
   "metadata": {},
   "outputs": [
    {
     "data": {
      "text/plain": [
       "0      35,000\n",
       "2    6,00,000\n",
       "Name: Price, dtype: object"
      ]
     },
     "execution_count": 99,
     "metadata": {},
     "output_type": "execute_result"
    }
   ],
   "source": [
    "df.iloc[[0,2] , 2]         # [0,2] is a row index and [,2] is a column index"
   ]
  },
  {
   "cell_type": "code",
   "execution_count": 192,
   "id": "00e059aa",
   "metadata": {},
   "outputs": [
    {
     "data": {
      "text/html": [
       "<div>\n",
       "<style scoped>\n",
       "    .dataframe tbody tr th:only-of-type {\n",
       "        vertical-align: middle;\n",
       "    }\n",
       "\n",
       "    .dataframe tbody tr th {\n",
       "        vertical-align: top;\n",
       "    }\n",
       "\n",
       "    .dataframe thead th {\n",
       "        text-align: right;\n",
       "    }\n",
       "</style>\n",
       "<table border=\"1\" class=\"dataframe\">\n",
       "  <thead>\n",
       "    <tr style=\"text-align: right;\">\n",
       "      <th></th>\n",
       "      <th>Price</th>\n",
       "      <th>Location</th>\n",
       "      <th>Running</th>\n",
       "      <th>Owner</th>\n",
       "    </tr>\n",
       "  </thead>\n",
       "  <tbody>\n",
       "    <tr>\n",
       "      <th>0</th>\n",
       "      <td>35000</td>\n",
       "      <td>Ahmedabad</td>\n",
       "      <td>17,654 Km</td>\n",
       "      <td>First Owner</td>\n",
       "    </tr>\n",
       "    <tr>\n",
       "      <th>8019</th>\n",
       "      <td>52000</td>\n",
       "      <td>Ahmedabad</td>\n",
       "      <td>13,551 Km</td>\n",
       "      <td>First Owner</td>\n",
       "    </tr>\n",
       "    <tr>\n",
       "      <th>8023</th>\n",
       "      <td>52000</td>\n",
       "      <td>Ahmedabad</td>\n",
       "      <td>13,551 Km</td>\n",
       "      <td>First Owner</td>\n",
       "    </tr>\n",
       "    <tr>\n",
       "      <th>8582</th>\n",
       "      <td>53000</td>\n",
       "      <td>Ahmedabad</td>\n",
       "      <td>9,319 Km</td>\n",
       "      <td>First Owner</td>\n",
       "    </tr>\n",
       "    <tr>\n",
       "      <th>8789</th>\n",
       "      <td>90000</td>\n",
       "      <td>Ahmedabad</td>\n",
       "      <td>52,594 Km</td>\n",
       "      <td>First Owner</td>\n",
       "    </tr>\n",
       "    <tr>\n",
       "      <th>...</th>\n",
       "      <td>...</td>\n",
       "      <td>...</td>\n",
       "      <td>...</td>\n",
       "      <td>...</td>\n",
       "    </tr>\n",
       "    <tr>\n",
       "      <th>16</th>\n",
       "      <td>120000</td>\n",
       "      <td>Bangalore</td>\n",
       "      <td>23,000 Km</td>\n",
       "      <td>First Owner</td>\n",
       "    </tr>\n",
       "    <tr>\n",
       "      <th>3813</th>\n",
       "      <td>120000</td>\n",
       "      <td>Bangalore</td>\n",
       "      <td>9,236 Km</td>\n",
       "      <td>First Owner</td>\n",
       "    </tr>\n",
       "    <tr>\n",
       "      <th>5403</th>\n",
       "      <td>98000</td>\n",
       "      <td>Bangalore</td>\n",
       "      <td>28,026 Km</td>\n",
       "      <td>First Owner</td>\n",
       "    </tr>\n",
       "    <tr>\n",
       "      <th>8721</th>\n",
       "      <td>45000</td>\n",
       "      <td>Bangalore</td>\n",
       "      <td>17,160 Km</td>\n",
       "      <td>Second Owner</td>\n",
       "    </tr>\n",
       "    <tr>\n",
       "      <th>10</th>\n",
       "      <td>72000</td>\n",
       "      <td>Bangalore</td>\n",
       "      <td>20,000 Km</td>\n",
       "      <td>First Owner</td>\n",
       "    </tr>\n",
       "  </tbody>\n",
       "</table>\n",
       "<p>4776 rows × 4 columns</p>\n",
       "</div>"
      ],
      "text/plain": [
       "       Price   Location    Running         Owner\n",
       "0      35000  Ahmedabad  17,654 Km   First Owner\n",
       "8019   52000  Ahmedabad  13,551 Km   First Owner\n",
       "8023   52000  Ahmedabad  13,551 Km   First Owner\n",
       "8582   53000  Ahmedabad   9,319 Km   First Owner\n",
       "8789   90000  Ahmedabad  52,594 Km   First Owner\n",
       "...      ...        ...        ...           ...\n",
       "16    120000  Bangalore  23,000 Km   First Owner\n",
       "3813  120000  Bangalore   9,236 Km   First Owner\n",
       "5403   98000  Bangalore  28,026 Km   First Owner\n",
       "8721   45000  Bangalore  17,160 Km  Second Owner\n",
       "10     72000  Bangalore  20,000 Km   First Owner\n",
       "\n",
       "[4776 rows x 4 columns]"
      ]
     },
     "execution_count": 192,
     "metadata": {},
     "output_type": "execute_result"
    }
   ],
   "source": [
    "df.loc[0:10 , 'Price' : 'Owner']    # agar teko slicing se krna hai to woh bhi kr sakte hai edher [0:2] rows hai and ,'Price' : 'Owner'] columns name kidr tak chaheye"
   ]
  },
  {
   "cell_type": "code",
   "execution_count": 85,
   "id": "da831f2c",
   "metadata": {
    "collapsed": true
   },
   "outputs": [
    {
     "data": {
      "text/plain": [
       "0          TVS Star City Plus Dual Tone 110cc 2018\n",
       "1                 Royal Enfield Classic 350cc 2017\n",
       "2                        Triumph Daytona 675R 2013\n",
       "3                        TVS Apache RTR 180cc 2017\n",
       "4        Yamaha FZ S V 2.0 150cc-Ltd. Edition 2018\n",
       "                           ...                    \n",
       "34495                  Hero Passion Pro 100cc 2017\n",
       "34496                    TVS Apache RTR 180cc 2012\n",
       "34497                Bajaj Avenger Street 220 2015\n",
       "34498               Hero Super Splendor 125cc 2005\n",
       "34499                      Bajaj Pulsar 150cc 2008\n",
       "Name: Name, Length: 34500, dtype: object"
      ]
     },
     "execution_count": 85,
     "metadata": {},
     "output_type": "execute_result"
    }
   ],
   "source": [
    "df['Name']      # if you want only one column"
   ]
  },
  {
   "cell_type": "code",
   "execution_count": 100,
   "id": "e3dce5e7",
   "metadata": {
    "collapsed": true
   },
   "outputs": [
    {
     "data": {
      "text/plain": [
       "Delhi        7438\n",
       "Bangalore    2760\n",
       "Mumbai       2620\n",
       "Hyderabad    2171\n",
       "Pune         1739\n",
       "             ... \n",
       "Tasgaon         1\n",
       "Dhariawad       1\n",
       "Bargarh         1\n",
       "Gadarpur        1\n",
       "Sidhi           1\n",
       "Name: Location, Length: 485, dtype: int64"
      ]
     },
     "execution_count": 100,
     "metadata": {},
     "output_type": "execute_result"
    }
   ],
   "source": [
    "df['Location'].value_counts()       # it will show comman values are used in your file"
   ]
  },
  {
   "cell_type": "code",
   "execution_count": null,
   "id": "f0854fd1",
   "metadata": {},
   "outputs": [],
   "source": [
    "# df.set_index('Price')       # bhai agar teko koi bhi column ko index banana hai to yeh function lekuega"
   ]
  },
  {
   "cell_type": "code",
   "execution_count": 176,
   "id": "d2b3c9c3",
   "metadata": {},
   "outputs": [],
   "source": [
    "df.set_index('Name' , inplace = True)    #  kisi bhi column ko index banana hai to aise krege\n"
   ]
  },
  {
   "cell_type": "code",
   "execution_count": 177,
   "id": "d73df2b8",
   "metadata": {
    "collapsed": true
   },
   "outputs": [
    {
     "data": {
      "text/plain": [
       "Index(['TVS Star City Plus Dual Tone 110cc 2018',\n",
       "       'Royal Enfield Classic 350cc 2017', 'Triumph Daytona 675R 2013',\n",
       "       'TVS Apache RTR 180cc 2017',\n",
       "       'Yamaha FZ S V 2.0 150cc-Ltd. Edition 2018', 'Yamaha FZs 150cc 2015',\n",
       "       'Honda CB Hornet 160R  ABS DLX 2018',\n",
       "       'Hero Splendor Plus Self Alloy 100cc 2018',\n",
       "       'Royal Enfield Thunderbird X 350cc 2018',\n",
       "       'Royal Enfield Classic Desert Storm 500cc 2014',\n",
       "       ...\n",
       "       'Yamaha Fazer 25 250cc 2017', 'Royal Enfield Classic 350cc 2013',\n",
       "       'Hero Passion Pro 100cc 2015', 'Bajaj Avenger 220cc 2010',\n",
       "       'Hero Passion 100cc  2002', 'Hero Passion Pro 100cc 2017',\n",
       "       'TVS Apache RTR 180cc 2012', 'Bajaj Avenger Street 220 2015',\n",
       "       'Hero Super Splendor 125cc 2005', 'Bajaj Pulsar 150cc 2008'],\n",
       "      dtype='object', name='Name', length=34500)"
      ]
     },
     "execution_count": 177,
     "metadata": {},
     "output_type": "execute_result"
    }
   ],
   "source": [
    "df.index   # yeh index change hua hai name se"
   ]
  },
  {
   "cell_type": "code",
   "execution_count": 174,
   "id": "3c964c40",
   "metadata": {
    "collapsed": true
   },
   "outputs": [
    {
     "data": {
      "text/html": [
       "<div>\n",
       "<style scoped>\n",
       "    .dataframe tbody tr th:only-of-type {\n",
       "        vertical-align: middle;\n",
       "    }\n",
       "\n",
       "    .dataframe tbody tr th {\n",
       "        vertical-align: top;\n",
       "    }\n",
       "\n",
       "    .dataframe thead th {\n",
       "        text-align: right;\n",
       "    }\n",
       "</style>\n",
       "<table border=\"1\" class=\"dataframe\">\n",
       "  <thead>\n",
       "    <tr style=\"text-align: right;\">\n",
       "      <th></th>\n",
       "      <th>Name</th>\n",
       "      <th>Unnamed: 0</th>\n",
       "      <th>Location</th>\n",
       "      <th>Running</th>\n",
       "      <th>Owner</th>\n",
       "    </tr>\n",
       "  </thead>\n",
       "  <tbody>\n",
       "    <tr>\n",
       "      <th>0</th>\n",
       "      <td>TVS Star City Plus Dual Tone 110cc 2018</td>\n",
       "      <td>0</td>\n",
       "      <td>Ahmedabad</td>\n",
       "      <td>17,654 Km</td>\n",
       "      <td>First Owner</td>\n",
       "    </tr>\n",
       "    <tr>\n",
       "      <th>1</th>\n",
       "      <td>Royal Enfield Classic 350cc 2017</td>\n",
       "      <td>1</td>\n",
       "      <td>Delhi</td>\n",
       "      <td>11,000 Km</td>\n",
       "      <td>First Owner</td>\n",
       "    </tr>\n",
       "    <tr>\n",
       "      <th>2</th>\n",
       "      <td>Triumph Daytona 675R 2013</td>\n",
       "      <td>2</td>\n",
       "      <td>Delhi</td>\n",
       "      <td>110 Km</td>\n",
       "      <td>First Owner</td>\n",
       "    </tr>\n",
       "    <tr>\n",
       "      <th>3</th>\n",
       "      <td>TVS Apache RTR 180cc 2017</td>\n",
       "      <td>3</td>\n",
       "      <td>Bangalore</td>\n",
       "      <td>16,329 Km</td>\n",
       "      <td>First Owner</td>\n",
       "    </tr>\n",
       "    <tr>\n",
       "      <th>4</th>\n",
       "      <td>Yamaha FZ S V 2.0 150cc-Ltd. Edition 2018</td>\n",
       "      <td>4</td>\n",
       "      <td>Bangalore</td>\n",
       "      <td>10,000 Km</td>\n",
       "      <td>First Owner</td>\n",
       "    </tr>\n",
       "    <tr>\n",
       "      <th>...</th>\n",
       "      <td>...</td>\n",
       "      <td>...</td>\n",
       "      <td>...</td>\n",
       "      <td>...</td>\n",
       "      <td>...</td>\n",
       "    </tr>\n",
       "    <tr>\n",
       "      <th>34495</th>\n",
       "      <td>Hero Passion Pro 100cc 2017</td>\n",
       "      <td>34495</td>\n",
       "      <td>Delhi</td>\n",
       "      <td>22,000 Km</td>\n",
       "      <td>First Owner</td>\n",
       "    </tr>\n",
       "    <tr>\n",
       "      <th>34496</th>\n",
       "      <td>TVS Apache RTR 180cc 2012</td>\n",
       "      <td>34496</td>\n",
       "      <td>Karnal</td>\n",
       "      <td>6,639 Km</td>\n",
       "      <td>First Owner</td>\n",
       "    </tr>\n",
       "    <tr>\n",
       "      <th>34497</th>\n",
       "      <td>Bajaj Avenger Street 220 2015</td>\n",
       "      <td>34497</td>\n",
       "      <td>Delhi</td>\n",
       "      <td>20,373 Km</td>\n",
       "      <td>First Owner</td>\n",
       "    </tr>\n",
       "    <tr>\n",
       "      <th>34498</th>\n",
       "      <td>Hero Super Splendor 125cc 2005</td>\n",
       "      <td>34498</td>\n",
       "      <td>Jaipur</td>\n",
       "      <td>84,186 Km</td>\n",
       "      <td>First Owner</td>\n",
       "    </tr>\n",
       "    <tr>\n",
       "      <th>34499</th>\n",
       "      <td>Bajaj Pulsar 150cc 2008</td>\n",
       "      <td>34499</td>\n",
       "      <td>Pune</td>\n",
       "      <td>60,857 Km</td>\n",
       "      <td>First Owner</td>\n",
       "    </tr>\n",
       "  </tbody>\n",
       "</table>\n",
       "<p>34500 rows × 5 columns</p>\n",
       "</div>"
      ],
      "text/plain": [
       "                                            Name  Unnamed: 0   Location  \\\n",
       "0        TVS Star City Plus Dual Tone 110cc 2018           0  Ahmedabad   \n",
       "1               Royal Enfield Classic 350cc 2017           1      Delhi   \n",
       "2                      Triumph Daytona 675R 2013           2      Delhi   \n",
       "3                      TVS Apache RTR 180cc 2017           3  Bangalore   \n",
       "4      Yamaha FZ S V 2.0 150cc-Ltd. Edition 2018           4  Bangalore   \n",
       "...                                          ...         ...        ...   \n",
       "34495                Hero Passion Pro 100cc 2017       34495      Delhi   \n",
       "34496                  TVS Apache RTR 180cc 2012       34496     Karnal   \n",
       "34497              Bajaj Avenger Street 220 2015       34497      Delhi   \n",
       "34498             Hero Super Splendor 125cc 2005       34498     Jaipur   \n",
       "34499                    Bajaj Pulsar 150cc 2008       34499       Pune   \n",
       "\n",
       "         Running        Owner  \n",
       "0      17,654 Km  First Owner  \n",
       "1      11,000 Km  First Owner  \n",
       "2         110 Km  First Owner  \n",
       "3      16,329 Km  First Owner  \n",
       "4      10,000 Km  First Owner  \n",
       "...          ...          ...  \n",
       "34495  22,000 Km  First Owner  \n",
       "34496   6,639 Km  First Owner  \n",
       "34497  20,373 Km  First Owner  \n",
       "34498  84,186 Km  First Owner  \n",
       "34499  60,857 Km  First Owner  \n",
       "\n",
       "[34500 rows x 5 columns]"
      ]
     },
     "execution_count": 174,
     "metadata": {},
     "output_type": "execute_result"
    }
   ],
   "source": [
    "df.reset_index(inplace = True)        # agar index ko fir se initial index banana hai to aise krege\n",
    "df"
   ]
  },
  {
   "cell_type": "code",
   "execution_count": 178,
   "id": "a45f1d48",
   "metadata": {
    "collapsed": true
   },
   "outputs": [
    {
     "data": {
      "text/plain": [
       "Index(['TVS Star City Plus Dual Tone 110cc 2018',\n",
       "       'Royal Enfield Classic 350cc 2017', 'Triumph Daytona 675R 2013',\n",
       "       'TVS Apache RTR 180cc 2017',\n",
       "       'Yamaha FZ S V 2.0 150cc-Ltd. Edition 2018', 'Yamaha FZs 150cc 2015',\n",
       "       'Honda CB Hornet 160R  ABS DLX 2018',\n",
       "       'Hero Splendor Plus Self Alloy 100cc 2018',\n",
       "       'Royal Enfield Thunderbird X 350cc 2018',\n",
       "       'Royal Enfield Classic Desert Storm 500cc 2014',\n",
       "       ...\n",
       "       'Yamaha Fazer 25 250cc 2017', 'Royal Enfield Classic 350cc 2013',\n",
       "       'Hero Passion Pro 100cc 2015', 'Bajaj Avenger 220cc 2010',\n",
       "       'Hero Passion 100cc  2002', 'Hero Passion Pro 100cc 2017',\n",
       "       'TVS Apache RTR 180cc 2012', 'Bajaj Avenger Street 220 2015',\n",
       "       'Hero Super Splendor 125cc 2005', 'Bajaj Pulsar 150cc 2008'],\n",
       "      dtype='object', name='Name', length=34500)"
      ]
     },
     "execution_count": 178,
     "metadata": {},
     "output_type": "execute_result"
    }
   ],
   "source": [
    "df.index  # yeh index wapas se apne origibnal index mai aaya hai "
   ]
  },
  {
   "cell_type": "code",
   "execution_count": null,
   "id": "fb77cfe8",
   "metadata": {},
   "outputs": [],
   "source": [
    "# df = pd.read_csv('bike_data.csv' , index_col = 'unnamed')  # this will remove your column index ex:0,1,2,3,4,5,6,7,8,9....  "
   ]
  },
  {
   "cell_type": "code",
   "execution_count": 192,
   "id": "e4d6d795",
   "metadata": {
    "collapsed": true
   },
   "outputs": [
    {
     "data": {
      "text/html": [
       "<div>\n",
       "<style scoped>\n",
       "    .dataframe tbody tr th:only-of-type {\n",
       "        vertical-align: middle;\n",
       "    }\n",
       "\n",
       "    .dataframe tbody tr th {\n",
       "        vertical-align: top;\n",
       "    }\n",
       "\n",
       "    .dataframe thead th {\n",
       "        text-align: right;\n",
       "    }\n",
       "</style>\n",
       "<table border=\"1\" class=\"dataframe\">\n",
       "  <thead>\n",
       "    <tr style=\"text-align: right;\">\n",
       "      <th></th>\n",
       "      <th>Location</th>\n",
       "      <th>Unnamed: 0</th>\n",
       "      <th>Name</th>\n",
       "      <th>Price</th>\n",
       "      <th>Running</th>\n",
       "      <th>Owner</th>\n",
       "    </tr>\n",
       "  </thead>\n",
       "  <tbody>\n",
       "    <tr>\n",
       "      <th>0</th>\n",
       "      <td>Ahmedabad</td>\n",
       "      <td>0</td>\n",
       "      <td>TVS Star City Plus Dual Tone 110cc 2018</td>\n",
       "      <td>35,000</td>\n",
       "      <td>17,654 Km</td>\n",
       "      <td>First Owner</td>\n",
       "    </tr>\n",
       "    <tr>\n",
       "      <th>1</th>\n",
       "      <td>Delhi</td>\n",
       "      <td>1</td>\n",
       "      <td>Royal Enfield Classic 350cc 2017</td>\n",
       "      <td>1,19,900</td>\n",
       "      <td>11,000 Km</td>\n",
       "      <td>First Owner</td>\n",
       "    </tr>\n",
       "    <tr>\n",
       "      <th>2</th>\n",
       "      <td>Delhi</td>\n",
       "      <td>2</td>\n",
       "      <td>Triumph Daytona 675R 2013</td>\n",
       "      <td>6,00,000</td>\n",
       "      <td>110 Km</td>\n",
       "      <td>First Owner</td>\n",
       "    </tr>\n",
       "    <tr>\n",
       "      <th>3</th>\n",
       "      <td>Bangalore</td>\n",
       "      <td>3</td>\n",
       "      <td>TVS Apache RTR 180cc 2017</td>\n",
       "      <td>65,000</td>\n",
       "      <td>16,329 Km</td>\n",
       "      <td>First Owner</td>\n",
       "    </tr>\n",
       "    <tr>\n",
       "      <th>4</th>\n",
       "      <td>Bangalore</td>\n",
       "      <td>4</td>\n",
       "      <td>Yamaha FZ S V 2.0 150cc-Ltd. Edition 2018</td>\n",
       "      <td>80,000</td>\n",
       "      <td>10,000 Km</td>\n",
       "      <td>First Owner</td>\n",
       "    </tr>\n",
       "    <tr>\n",
       "      <th>...</th>\n",
       "      <td>...</td>\n",
       "      <td>...</td>\n",
       "      <td>...</td>\n",
       "      <td>...</td>\n",
       "      <td>...</td>\n",
       "      <td>...</td>\n",
       "    </tr>\n",
       "    <tr>\n",
       "      <th>34495</th>\n",
       "      <td>Delhi</td>\n",
       "      <td>34495</td>\n",
       "      <td>Hero Passion Pro 100cc 2017</td>\n",
       "      <td>39,000</td>\n",
       "      <td>22,000 Km</td>\n",
       "      <td>First Owner</td>\n",
       "    </tr>\n",
       "    <tr>\n",
       "      <th>34496</th>\n",
       "      <td>Karnal</td>\n",
       "      <td>34496</td>\n",
       "      <td>TVS Apache RTR 180cc 2012</td>\n",
       "      <td>30,000</td>\n",
       "      <td>6,639 Km</td>\n",
       "      <td>First Owner</td>\n",
       "    </tr>\n",
       "    <tr>\n",
       "      <th>34497</th>\n",
       "      <td>Delhi</td>\n",
       "      <td>34497</td>\n",
       "      <td>Bajaj Avenger Street 220 2015</td>\n",
       "      <td>60,000</td>\n",
       "      <td>20,373 Km</td>\n",
       "      <td>First Owner</td>\n",
       "    </tr>\n",
       "    <tr>\n",
       "      <th>34498</th>\n",
       "      <td>Jaipur</td>\n",
       "      <td>34498</td>\n",
       "      <td>Hero Super Splendor 125cc 2005</td>\n",
       "      <td>15,600</td>\n",
       "      <td>84,186 Km</td>\n",
       "      <td>First Owner</td>\n",
       "    </tr>\n",
       "    <tr>\n",
       "      <th>34499</th>\n",
       "      <td>Pune</td>\n",
       "      <td>34499</td>\n",
       "      <td>Bajaj Pulsar 150cc 2008</td>\n",
       "      <td>22,000</td>\n",
       "      <td>60,857 Km</td>\n",
       "      <td>First Owner</td>\n",
       "    </tr>\n",
       "  </tbody>\n",
       "</table>\n",
       "<p>34500 rows × 6 columns</p>\n",
       "</div>"
      ],
      "text/plain": [
       "        Location  Unnamed: 0                                       Name  \\\n",
       "0      Ahmedabad           0    TVS Star City Plus Dual Tone 110cc 2018   \n",
       "1          Delhi           1           Royal Enfield Classic 350cc 2017   \n",
       "2          Delhi           2                  Triumph Daytona 675R 2013   \n",
       "3      Bangalore           3                  TVS Apache RTR 180cc 2017   \n",
       "4      Bangalore           4  Yamaha FZ S V 2.0 150cc-Ltd. Edition 2018   \n",
       "...          ...         ...                                        ...   \n",
       "34495      Delhi       34495                Hero Passion Pro 100cc 2017   \n",
       "34496     Karnal       34496                  TVS Apache RTR 180cc 2012   \n",
       "34497      Delhi       34497              Bajaj Avenger Street 220 2015   \n",
       "34498     Jaipur       34498             Hero Super Splendor 125cc 2005   \n",
       "34499       Pune       34499                    Bajaj Pulsar 150cc 2008   \n",
       "\n",
       "          Price    Running        Owner  \n",
       "0        35,000  17,654 Km  First Owner  \n",
       "1      1,19,900  11,000 Km  First Owner  \n",
       "2      6,00,000     110 Km  First Owner  \n",
       "3        65,000  16,329 Km  First Owner  \n",
       "4        80,000  10,000 Km  First Owner  \n",
       "...         ...        ...          ...  \n",
       "34495    39,000  22,000 Km  First Owner  \n",
       "34496    30,000   6,639 Km  First Owner  \n",
       "34497    60,000  20,373 Km  First Owner  \n",
       "34498    15,600  84,186 Km  First Owner  \n",
       "34499    22,000  60,857 Km  First Owner  \n",
       "\n",
       "[34500 rows x 6 columns]"
      ]
     },
     "execution_count": 192,
     "metadata": {},
     "output_type": "execute_result"
    }
   ],
   "source": [
    "df.sort_index()   # this will sort index alphabadically  A-Z\n",
    "# df.sort_index(inplace = True)      # permanently in A-Z order"
   ]
  },
  {
   "cell_type": "code",
   "execution_count": 193,
   "id": "847c2557",
   "metadata": {
    "collapsed": true
   },
   "outputs": [
    {
     "data": {
      "text/html": [
       "<div>\n",
       "<style scoped>\n",
       "    .dataframe tbody tr th:only-of-type {\n",
       "        vertical-align: middle;\n",
       "    }\n",
       "\n",
       "    .dataframe tbody tr th {\n",
       "        vertical-align: top;\n",
       "    }\n",
       "\n",
       "    .dataframe thead th {\n",
       "        text-align: right;\n",
       "    }\n",
       "</style>\n",
       "<table border=\"1\" class=\"dataframe\">\n",
       "  <thead>\n",
       "    <tr style=\"text-align: right;\">\n",
       "      <th></th>\n",
       "      <th>Location</th>\n",
       "      <th>Unnamed: 0</th>\n",
       "      <th>Name</th>\n",
       "      <th>Price</th>\n",
       "      <th>Running</th>\n",
       "      <th>Owner</th>\n",
       "    </tr>\n",
       "  </thead>\n",
       "  <tbody>\n",
       "    <tr>\n",
       "      <th>34499</th>\n",
       "      <td>Pune</td>\n",
       "      <td>34499</td>\n",
       "      <td>Bajaj Pulsar 150cc 2008</td>\n",
       "      <td>22,000</td>\n",
       "      <td>60,857 Km</td>\n",
       "      <td>First Owner</td>\n",
       "    </tr>\n",
       "    <tr>\n",
       "      <th>34498</th>\n",
       "      <td>Jaipur</td>\n",
       "      <td>34498</td>\n",
       "      <td>Hero Super Splendor 125cc 2005</td>\n",
       "      <td>15,600</td>\n",
       "      <td>84,186 Km</td>\n",
       "      <td>First Owner</td>\n",
       "    </tr>\n",
       "    <tr>\n",
       "      <th>34497</th>\n",
       "      <td>Delhi</td>\n",
       "      <td>34497</td>\n",
       "      <td>Bajaj Avenger Street 220 2015</td>\n",
       "      <td>60,000</td>\n",
       "      <td>20,373 Km</td>\n",
       "      <td>First Owner</td>\n",
       "    </tr>\n",
       "    <tr>\n",
       "      <th>34496</th>\n",
       "      <td>Karnal</td>\n",
       "      <td>34496</td>\n",
       "      <td>TVS Apache RTR 180cc 2012</td>\n",
       "      <td>30,000</td>\n",
       "      <td>6,639 Km</td>\n",
       "      <td>First Owner</td>\n",
       "    </tr>\n",
       "    <tr>\n",
       "      <th>34495</th>\n",
       "      <td>Delhi</td>\n",
       "      <td>34495</td>\n",
       "      <td>Hero Passion Pro 100cc 2017</td>\n",
       "      <td>39,000</td>\n",
       "      <td>22,000 Km</td>\n",
       "      <td>First Owner</td>\n",
       "    </tr>\n",
       "    <tr>\n",
       "      <th>...</th>\n",
       "      <td>...</td>\n",
       "      <td>...</td>\n",
       "      <td>...</td>\n",
       "      <td>...</td>\n",
       "      <td>...</td>\n",
       "      <td>...</td>\n",
       "    </tr>\n",
       "    <tr>\n",
       "      <th>4</th>\n",
       "      <td>Bangalore</td>\n",
       "      <td>4</td>\n",
       "      <td>Yamaha FZ S V 2.0 150cc-Ltd. Edition 2018</td>\n",
       "      <td>80,000</td>\n",
       "      <td>10,000 Km</td>\n",
       "      <td>First Owner</td>\n",
       "    </tr>\n",
       "    <tr>\n",
       "      <th>3</th>\n",
       "      <td>Bangalore</td>\n",
       "      <td>3</td>\n",
       "      <td>TVS Apache RTR 180cc 2017</td>\n",
       "      <td>65,000</td>\n",
       "      <td>16,329 Km</td>\n",
       "      <td>First Owner</td>\n",
       "    </tr>\n",
       "    <tr>\n",
       "      <th>2</th>\n",
       "      <td>Delhi</td>\n",
       "      <td>2</td>\n",
       "      <td>Triumph Daytona 675R 2013</td>\n",
       "      <td>6,00,000</td>\n",
       "      <td>110 Km</td>\n",
       "      <td>First Owner</td>\n",
       "    </tr>\n",
       "    <tr>\n",
       "      <th>1</th>\n",
       "      <td>Delhi</td>\n",
       "      <td>1</td>\n",
       "      <td>Royal Enfield Classic 350cc 2017</td>\n",
       "      <td>1,19,900</td>\n",
       "      <td>11,000 Km</td>\n",
       "      <td>First Owner</td>\n",
       "    </tr>\n",
       "    <tr>\n",
       "      <th>0</th>\n",
       "      <td>Ahmedabad</td>\n",
       "      <td>0</td>\n",
       "      <td>TVS Star City Plus Dual Tone 110cc 2018</td>\n",
       "      <td>35,000</td>\n",
       "      <td>17,654 Km</td>\n",
       "      <td>First Owner</td>\n",
       "    </tr>\n",
       "  </tbody>\n",
       "</table>\n",
       "<p>34500 rows × 6 columns</p>\n",
       "</div>"
      ],
      "text/plain": [
       "        Location  Unnamed: 0                                       Name  \\\n",
       "34499       Pune       34499                    Bajaj Pulsar 150cc 2008   \n",
       "34498     Jaipur       34498             Hero Super Splendor 125cc 2005   \n",
       "34497      Delhi       34497              Bajaj Avenger Street 220 2015   \n",
       "34496     Karnal       34496                  TVS Apache RTR 180cc 2012   \n",
       "34495      Delhi       34495                Hero Passion Pro 100cc 2017   \n",
       "...          ...         ...                                        ...   \n",
       "4      Bangalore           4  Yamaha FZ S V 2.0 150cc-Ltd. Edition 2018   \n",
       "3      Bangalore           3                  TVS Apache RTR 180cc 2017   \n",
       "2          Delhi           2                  Triumph Daytona 675R 2013   \n",
       "1          Delhi           1           Royal Enfield Classic 350cc 2017   \n",
       "0      Ahmedabad           0    TVS Star City Plus Dual Tone 110cc 2018   \n",
       "\n",
       "          Price    Running        Owner  \n",
       "34499    22,000  60,857 Km  First Owner  \n",
       "34498    15,600  84,186 Km  First Owner  \n",
       "34497    60,000  20,373 Km  First Owner  \n",
       "34496    30,000   6,639 Km  First Owner  \n",
       "34495    39,000  22,000 Km  First Owner  \n",
       "...         ...        ...          ...  \n",
       "4        80,000  10,000 Km  First Owner  \n",
       "3        65,000  16,329 Km  First Owner  \n",
       "2      6,00,000     110 Km  First Owner  \n",
       "1      1,19,900  11,000 Km  First Owner  \n",
       "0        35,000  17,654 Km  First Owner  \n",
       "\n",
       "[34500 rows x 6 columns]"
      ]
     },
     "execution_count": 193,
     "metadata": {},
     "output_type": "execute_result"
    }
   ],
   "source": [
    "df.sort_index(ascending = False)       # reverse order Z-A\n",
    "# df.sort_index(ascending = False , inplace = True)          # permanently in Z-A order"
   ]
  },
  {
   "cell_type": "code",
   "execution_count": 12,
   "id": "cb5a7421",
   "metadata": {},
   "outputs": [],
   "source": [
    "# df['Price'] = df['Price'].astype(int)\n",
    "location = (df['Location'] == 'Delhi')"
   ]
  },
  {
   "cell_type": "code",
   "execution_count": 14,
   "id": "a6f6d466",
   "metadata": {},
   "outputs": [
    {
     "data": {
      "text/html": [
       "<div>\n",
       "<style scoped>\n",
       "    .dataframe tbody tr th:only-of-type {\n",
       "        vertical-align: middle;\n",
       "    }\n",
       "\n",
       "    .dataframe tbody tr th {\n",
       "        vertical-align: top;\n",
       "    }\n",
       "\n",
       "    .dataframe thead th {\n",
       "        text-align: right;\n",
       "    }\n",
       "</style>\n",
       "<table border=\"1\" class=\"dataframe\">\n",
       "  <thead>\n",
       "    <tr style=\"text-align: right;\">\n",
       "      <th></th>\n",
       "      <th>Price</th>\n",
       "      <th>Name</th>\n",
       "      <th>Location</th>\n",
       "    </tr>\n",
       "  </thead>\n",
       "  <tbody>\n",
       "    <tr>\n",
       "      <th>1</th>\n",
       "      <td>1,19,900</td>\n",
       "      <td>Royal Enfield Classic 350cc 2017</td>\n",
       "      <td>Delhi</td>\n",
       "    </tr>\n",
       "    <tr>\n",
       "      <th>2</th>\n",
       "      <td>6,00,000</td>\n",
       "      <td>Triumph Daytona 675R 2013</td>\n",
       "      <td>Delhi</td>\n",
       "    </tr>\n",
       "    <tr>\n",
       "      <th>5</th>\n",
       "      <td>53,499</td>\n",
       "      <td>Yamaha FZs 150cc 2015</td>\n",
       "      <td>Delhi</td>\n",
       "    </tr>\n",
       "    <tr>\n",
       "      <th>6</th>\n",
       "      <td>85,000</td>\n",
       "      <td>Honda CB Hornet 160R  ABS DLX 2018</td>\n",
       "      <td>Delhi</td>\n",
       "    </tr>\n",
       "    <tr>\n",
       "      <th>7</th>\n",
       "      <td>45,000</td>\n",
       "      <td>Hero Splendor Plus Self Alloy 100cc 2018</td>\n",
       "      <td>Delhi</td>\n",
       "    </tr>\n",
       "    <tr>\n",
       "      <th>...</th>\n",
       "      <td>...</td>\n",
       "      <td>...</td>\n",
       "      <td>...</td>\n",
       "    </tr>\n",
       "    <tr>\n",
       "      <th>34491</th>\n",
       "      <td>95,500</td>\n",
       "      <td>Royal Enfield Classic 350cc 2013</td>\n",
       "      <td>Delhi</td>\n",
       "    </tr>\n",
       "    <tr>\n",
       "      <th>34492</th>\n",
       "      <td>32,000</td>\n",
       "      <td>Hero Passion Pro 100cc 2015</td>\n",
       "      <td>Delhi</td>\n",
       "    </tr>\n",
       "    <tr>\n",
       "      <th>34493</th>\n",
       "      <td>41,000</td>\n",
       "      <td>Bajaj Avenger 220cc 2010</td>\n",
       "      <td>Delhi</td>\n",
       "    </tr>\n",
       "    <tr>\n",
       "      <th>34495</th>\n",
       "      <td>39,000</td>\n",
       "      <td>Hero Passion Pro 100cc 2017</td>\n",
       "      <td>Delhi</td>\n",
       "    </tr>\n",
       "    <tr>\n",
       "      <th>34497</th>\n",
       "      <td>60,000</td>\n",
       "      <td>Bajaj Avenger Street 220 2015</td>\n",
       "      <td>Delhi</td>\n",
       "    </tr>\n",
       "  </tbody>\n",
       "</table>\n",
       "<p>7438 rows × 3 columns</p>\n",
       "</div>"
      ],
      "text/plain": [
       "          Price                                      Name Location\n",
       "1      1,19,900          Royal Enfield Classic 350cc 2017    Delhi\n",
       "2      6,00,000                 Triumph Daytona 675R 2013    Delhi\n",
       "5        53,499                     Yamaha FZs 150cc 2015    Delhi\n",
       "6        85,000        Honda CB Hornet 160R  ABS DLX 2018    Delhi\n",
       "7        45,000  Hero Splendor Plus Self Alloy 100cc 2018    Delhi\n",
       "...         ...                                       ...      ...\n",
       "34491    95,500          Royal Enfield Classic 350cc 2013    Delhi\n",
       "34492    32,000               Hero Passion Pro 100cc 2015    Delhi\n",
       "34493    41,000                  Bajaj Avenger 220cc 2010    Delhi\n",
       "34495    39,000               Hero Passion Pro 100cc 2017    Delhi\n",
       "34497    60,000             Bajaj Avenger Street 220 2015    Delhi\n",
       "\n",
       "[7438 rows x 3 columns]"
      ]
     },
     "execution_count": 14,
     "metadata": {},
     "output_type": "execute_result"
    }
   ],
   "source": [
    "df.loc[location ,['Price','Name','Location']]   # Agar teko ek hee column k saare rows chehey to\n",
    "# eher location ka filter banaye hai or rows ko lye hai "
   ]
  },
  {
   "cell_type": "code",
   "execution_count": 59,
   "id": "db24486e",
   "metadata": {},
   "outputs": [
    {
     "data": {
      "text/html": [
       "<div>\n",
       "<style scoped>\n",
       "    .dataframe tbody tr th:only-of-type {\n",
       "        vertical-align: middle;\n",
       "    }\n",
       "\n",
       "    .dataframe tbody tr th {\n",
       "        vertical-align: top;\n",
       "    }\n",
       "\n",
       "    .dataframe thead th {\n",
       "        text-align: right;\n",
       "    }\n",
       "</style>\n",
       "<table border=\"1\" class=\"dataframe\">\n",
       "  <thead>\n",
       "    <tr style=\"text-align: right;\">\n",
       "      <th></th>\n",
       "      <th>Unnamed: 0</th>\n",
       "      <th>Name</th>\n",
       "      <th>Price</th>\n",
       "      <th>Location</th>\n",
       "      <th>Running</th>\n",
       "      <th>Owner</th>\n",
       "    </tr>\n",
       "  </thead>\n",
       "  <tbody>\n",
       "    <tr>\n",
       "      <th>0</th>\n",
       "      <td>0</td>\n",
       "      <td>TVS Star City Plus Dual Tone 110cc 2018</td>\n",
       "      <td>35,000</td>\n",
       "      <td>Ahmedabad</td>\n",
       "      <td>17,654 Km</td>\n",
       "      <td>First Owner</td>\n",
       "    </tr>\n",
       "    <tr>\n",
       "      <th>1</th>\n",
       "      <td>1</td>\n",
       "      <td>Royal Enfield Classic 350cc 2017</td>\n",
       "      <td>1,19,900</td>\n",
       "      <td>Delhi</td>\n",
       "      <td>11,000 Km</td>\n",
       "      <td>First Owner</td>\n",
       "    </tr>\n",
       "    <tr>\n",
       "      <th>2</th>\n",
       "      <td>2</td>\n",
       "      <td>Triumph Daytona 675R 2013</td>\n",
       "      <td>6,00,000</td>\n",
       "      <td>Delhi</td>\n",
       "      <td>110 Km</td>\n",
       "      <td>First Owner</td>\n",
       "    </tr>\n",
       "    <tr>\n",
       "      <th>3</th>\n",
       "      <td>3</td>\n",
       "      <td>TVS Apache RTR 180cc 2017</td>\n",
       "      <td>65,000</td>\n",
       "      <td>Bangalore</td>\n",
       "      <td>16,329 Km</td>\n",
       "      <td>First Owner</td>\n",
       "    </tr>\n",
       "    <tr>\n",
       "      <th>4</th>\n",
       "      <td>4</td>\n",
       "      <td>Yamaha FZ S V 2.0 150cc-Ltd. Edition 2018</td>\n",
       "      <td>80,000</td>\n",
       "      <td>Bangalore</td>\n",
       "      <td>10,000 Km</td>\n",
       "      <td>First Owner</td>\n",
       "    </tr>\n",
       "    <tr>\n",
       "      <th>...</th>\n",
       "      <td>...</td>\n",
       "      <td>...</td>\n",
       "      <td>...</td>\n",
       "      <td>...</td>\n",
       "      <td>...</td>\n",
       "      <td>...</td>\n",
       "    </tr>\n",
       "    <tr>\n",
       "      <th>34495</th>\n",
       "      <td>34495</td>\n",
       "      <td>Hero Passion Pro 100cc 2017</td>\n",
       "      <td>39,000</td>\n",
       "      <td>Delhi</td>\n",
       "      <td>22,000 Km</td>\n",
       "      <td>First Owner</td>\n",
       "    </tr>\n",
       "    <tr>\n",
       "      <th>34496</th>\n",
       "      <td>34496</td>\n",
       "      <td>TVS Apache RTR 180cc 2012</td>\n",
       "      <td>30,000</td>\n",
       "      <td>Karnal</td>\n",
       "      <td>6,639 Km</td>\n",
       "      <td>First Owner</td>\n",
       "    </tr>\n",
       "    <tr>\n",
       "      <th>34497</th>\n",
       "      <td>34497</td>\n",
       "      <td>Bajaj Avenger Street 220 2015</td>\n",
       "      <td>60,000</td>\n",
       "      <td>Delhi</td>\n",
       "      <td>20,373 Km</td>\n",
       "      <td>First Owner</td>\n",
       "    </tr>\n",
       "    <tr>\n",
       "      <th>34498</th>\n",
       "      <td>34498</td>\n",
       "      <td>Hero Super Splendor 125cc 2005</td>\n",
       "      <td>15,600</td>\n",
       "      <td>Jaipur</td>\n",
       "      <td>84,186 Km</td>\n",
       "      <td>First Owner</td>\n",
       "    </tr>\n",
       "    <tr>\n",
       "      <th>34499</th>\n",
       "      <td>34499</td>\n",
       "      <td>Bajaj Pulsar 150cc 2008</td>\n",
       "      <td>22,000</td>\n",
       "      <td>Pune</td>\n",
       "      <td>60,857 Km</td>\n",
       "      <td>First Owner</td>\n",
       "    </tr>\n",
       "  </tbody>\n",
       "</table>\n",
       "<p>34500 rows × 6 columns</p>\n",
       "</div>"
      ],
      "text/plain": [
       "       Unnamed: 0                                       Name     Price  \\\n",
       "0               0    TVS Star City Plus Dual Tone 110cc 2018    35,000   \n",
       "1               1           Royal Enfield Classic 350cc 2017  1,19,900   \n",
       "2               2                  Triumph Daytona 675R 2013  6,00,000   \n",
       "3               3                  TVS Apache RTR 180cc 2017    65,000   \n",
       "4               4  Yamaha FZ S V 2.0 150cc-Ltd. Edition 2018    80,000   \n",
       "...           ...                                        ...       ...   \n",
       "34495       34495                Hero Passion Pro 100cc 2017    39,000   \n",
       "34496       34496                  TVS Apache RTR 180cc 2012    30,000   \n",
       "34497       34497              Bajaj Avenger Street 220 2015    60,000   \n",
       "34498       34498             Hero Super Splendor 125cc 2005    15,600   \n",
       "34499       34499                    Bajaj Pulsar 150cc 2008    22,000   \n",
       "\n",
       "        Location    Running        Owner  \n",
       "0      Ahmedabad  17,654 Km  First Owner  \n",
       "1          Delhi  11,000 Km  First Owner  \n",
       "2          Delhi     110 Km  First Owner  \n",
       "3      Bangalore  16,329 Km  First Owner  \n",
       "4      Bangalore  10,000 Km  First Owner  \n",
       "...          ...        ...          ...  \n",
       "34495      Delhi  22,000 Km  First Owner  \n",
       "34496     Karnal   6,639 Km  First Owner  \n",
       "34497      Delhi  20,373 Km  First Owner  \n",
       "34498     Jaipur  84,186 Km  First Owner  \n",
       "34499       Pune  60,857 Km  First Owner  \n",
       "\n",
       "[34500 rows x 6 columns]"
      ]
     },
     "execution_count": 59,
     "metadata": {},
     "output_type": "execute_result"
    }
   ],
   "source": [
    "df"
   ]
  },
  {
   "cell_type": "code",
   "execution_count": 122,
   "id": "78657c2d",
   "metadata": {},
   "outputs": [],
   "source": [
    "# name_ = (df['Location'] == ['Delhi']) & (df['Owner'] == ['first'])"
   ]
  },
  {
   "cell_type": "code",
   "execution_count": 123,
   "id": "6203c6ac",
   "metadata": {},
   "outputs": [],
   "source": [
    "# df.loc[name_]"
   ]
  },
  {
   "cell_type": "code",
   "execution_count": 124,
   "id": "3a4438d2",
   "metadata": {},
   "outputs": [],
   "source": [
    "# df.loc[['Location' , 'Price' , 'Owner']"
   ]
  },
  {
   "cell_type": "code",
   "execution_count": null,
   "id": "45cb7940",
   "metadata": {},
   "outputs": [],
   "source": []
  },
  {
   "cell_type": "code",
   "execution_count": 16,
   "id": "12702cd1",
   "metadata": {},
   "outputs": [],
   "source": [
    "states = ['Delhi' , 'Maharashtra' , 'Pune' , 'Bangalore']\n",
    "filt_states = df['Location'].isin(states)\n",
    "\n",
    "\n",
    "# edher aone ko jo states ki bike chaheye woh dikhegi"
   ]
  },
  {
   "cell_type": "code",
   "execution_count": 19,
   "id": "e8968927",
   "metadata": {},
   "outputs": [
    {
     "data": {
      "text/plain": [
       "1            Delhi\n",
       "2            Delhi\n",
       "3        Bangalore\n",
       "4        Bangalore\n",
       "5            Delhi\n",
       "           ...    \n",
       "34492        Delhi\n",
       "34493        Delhi\n",
       "34495        Delhi\n",
       "34497        Delhi\n",
       "34499         Pune\n",
       "Name: Location, Length: 11937, dtype: object"
      ]
     },
     "execution_count": 19,
     "metadata": {},
     "output_type": "execute_result"
    }
   ],
   "source": [
    "df.loc[filt_states,'Location']           \n",
    "# upar k part mai involve hai yeh"
   ]
  },
  {
   "cell_type": "code",
   "execution_count": 24,
   "id": "38957e98",
   "metadata": {},
   "outputs": [
    {
     "data": {
      "text/plain": [
       "0        False\n",
       "1         True\n",
       "2         True\n",
       "3         True\n",
       "4         True\n",
       "         ...  \n",
       "34495     True\n",
       "34496    False\n",
       "34497     True\n",
       "34498    False\n",
       "34499     True\n",
       "Name: Location, Length: 34500, dtype: bool"
      ]
     },
     "execution_count": 24,
     "metadata": {},
     "output_type": "execute_result"
    }
   ],
   "source": [
    "filt_states"
   ]
  },
  {
   "cell_type": "code",
   "execution_count": null,
   "id": "6ae223dd",
   "metadata": {},
   "outputs": [],
   "source": []
  },
  {
   "cell_type": "code",
   "execution_count": 153,
   "id": "671981e5",
   "metadata": {},
   "outputs": [],
   "source": [
    "filt_name_tvs = df['Name'].str.contains('TVS', na=False)   \n",
    "\n",
    "# agar teko koi bhi string mai se ek word chahye jisse teko woh rows milegi buss"
   ]
  },
  {
   "cell_type": "code",
   "execution_count": 23,
   "id": "27b6c30f",
   "metadata": {},
   "outputs": [
    {
     "data": {
      "text/plain": [
       "0        TVS Star City Plus Dual Tone 110cc 2018\n",
       "3                      TVS Apache RTR 180cc 2017\n",
       "59                     TVS Apache RTR 160cc 2016\n",
       "125              TVS Apache RTR 160 4V Disc 2018\n",
       "143                  TVS Phoenix Disc 125cc 2016\n",
       "                          ...                   \n",
       "34436                  TVS Apache RTR 180cc 2012\n",
       "34447                 TVS Victor 110cc Disc 2017\n",
       "34456                  TVS Apache RTR 180cc 2012\n",
       "34487                 TVS Victor 110cc Disc 2017\n",
       "34496                  TVS Apache RTR 180cc 2012\n",
       "Name: Name, Length: 1898, dtype: object"
      ]
     },
     "execution_count": 23,
     "metadata": {},
     "output_type": "execute_result"
    }
   ],
   "source": [
    "df.loc[filt_name_tvs,'Name']\n",
    "\n",
    "#edher teko Name k column mai TVS chaheye tha buss to neche check kr a"
   ]
  },
  {
   "cell_type": "code",
   "execution_count": 25,
   "id": "02a24be5",
   "metadata": {},
   "outputs": [
    {
     "data": {
      "text/plain": [
       "0         True\n",
       "1        False\n",
       "2        False\n",
       "3         True\n",
       "4        False\n",
       "         ...  \n",
       "34495    False\n",
       "34496     True\n",
       "34497    False\n",
       "34498    False\n",
       "34499    False\n",
       "Name: Name, Length: 34500, dtype: bool"
      ]
     },
     "execution_count": 25,
     "metadata": {},
     "output_type": "execute_result"
    }
   ],
   "source": [
    "filt_name_tvs     # necee df['Name'] mai check kr TVS kis kis rows mai aaraha hai uske hisaab se True or False return kiya hai"
   ]
  },
  {
   "cell_type": "code",
   "execution_count": 26,
   "id": "252ace99",
   "metadata": {},
   "outputs": [
    {
     "data": {
      "text/plain": [
       "0          TVS Star City Plus Dual Tone 110cc 2018\n",
       "1                 Royal Enfield Classic 350cc 2017\n",
       "2                        Triumph Daytona 675R 2013\n",
       "3                        TVS Apache RTR 180cc 2017\n",
       "4        Yamaha FZ S V 2.0 150cc-Ltd. Edition 2018\n",
       "                           ...                    \n",
       "34495                  Hero Passion Pro 100cc 2017\n",
       "34496                    TVS Apache RTR 180cc 2012\n",
       "34497                Bajaj Avenger Street 220 2015\n",
       "34498               Hero Super Splendor 125cc 2005\n",
       "34499                      Bajaj Pulsar 150cc 2008\n",
       "Name: Name, Length: 34500, dtype: object"
      ]
     },
     "execution_count": 26,
     "metadata": {},
     "output_type": "execute_result"
    }
   ],
   "source": [
    "df['Name']"
   ]
  },
  {
   "cell_type": "code",
   "execution_count": 154,
   "id": "ef183fec",
   "metadata": {},
   "outputs": [
    {
     "data": {
      "text/html": [
       "<div>\n",
       "<style scoped>\n",
       "    .dataframe tbody tr th:only-of-type {\n",
       "        vertical-align: middle;\n",
       "    }\n",
       "\n",
       "    .dataframe tbody tr th {\n",
       "        vertical-align: top;\n",
       "    }\n",
       "\n",
       "    .dataframe thead th {\n",
       "        text-align: right;\n",
       "    }\n",
       "</style>\n",
       "<table border=\"1\" class=\"dataframe\">\n",
       "  <thead>\n",
       "    <tr style=\"text-align: right;\">\n",
       "      <th></th>\n",
       "      <th>Unnamed: 0</th>\n",
       "      <th>Name</th>\n",
       "      <th>Price</th>\n",
       "      <th>Location</th>\n",
       "      <th>Running</th>\n",
       "      <th>Owner</th>\n",
       "    </tr>\n",
       "  </thead>\n",
       "  <tbody>\n",
       "    <tr>\n",
       "      <th>0</th>\n",
       "      <td>0</td>\n",
       "      <td>TVS Star City Plus Dual Tone 110cc 2018</td>\n",
       "      <td>35,000</td>\n",
       "      <td>Ahmedabad</td>\n",
       "      <td>17,654 Km</td>\n",
       "      <td>First Owner</td>\n",
       "    </tr>\n",
       "    <tr>\n",
       "      <th>1</th>\n",
       "      <td>1</td>\n",
       "      <td>Royal Enfield Classic 350cc 2017</td>\n",
       "      <td>1,19,900</td>\n",
       "      <td>Delhi</td>\n",
       "      <td>11,000 Km</td>\n",
       "      <td>First Owner</td>\n",
       "    </tr>\n",
       "    <tr>\n",
       "      <th>2</th>\n",
       "      <td>2</td>\n",
       "      <td>Triumph Daytona 675R 2013</td>\n",
       "      <td>6,00,000</td>\n",
       "      <td>Delhi</td>\n",
       "      <td>110 Km</td>\n",
       "      <td>First Owner</td>\n",
       "    </tr>\n",
       "    <tr>\n",
       "      <th>3</th>\n",
       "      <td>3</td>\n",
       "      <td>TVS Apache RTR 180cc 2017</td>\n",
       "      <td>65,000</td>\n",
       "      <td>Bangalore</td>\n",
       "      <td>16,329 Km</td>\n",
       "      <td>First Owner</td>\n",
       "    </tr>\n",
       "    <tr>\n",
       "      <th>4</th>\n",
       "      <td>4</td>\n",
       "      <td>Yamaha FZ S V 2.0 150cc-Ltd. Edition 2018</td>\n",
       "      <td>80,000</td>\n",
       "      <td>Bangalore</td>\n",
       "      <td>10,000 Km</td>\n",
       "      <td>First Owner</td>\n",
       "    </tr>\n",
       "    <tr>\n",
       "      <th>...</th>\n",
       "      <td>...</td>\n",
       "      <td>...</td>\n",
       "      <td>...</td>\n",
       "      <td>...</td>\n",
       "      <td>...</td>\n",
       "      <td>...</td>\n",
       "    </tr>\n",
       "    <tr>\n",
       "      <th>34495</th>\n",
       "      <td>34495</td>\n",
       "      <td>Hero Passion Pro 100cc 2017</td>\n",
       "      <td>39,000</td>\n",
       "      <td>Delhi</td>\n",
       "      <td>22,000 Km</td>\n",
       "      <td>First Owner</td>\n",
       "    </tr>\n",
       "    <tr>\n",
       "      <th>34496</th>\n",
       "      <td>34496</td>\n",
       "      <td>TVS Apache RTR 180cc 2012</td>\n",
       "      <td>30,000</td>\n",
       "      <td>Karnal</td>\n",
       "      <td>6,639 Km</td>\n",
       "      <td>First Owner</td>\n",
       "    </tr>\n",
       "    <tr>\n",
       "      <th>34497</th>\n",
       "      <td>34497</td>\n",
       "      <td>Bajaj Avenger Street 220 2015</td>\n",
       "      <td>60,000</td>\n",
       "      <td>Delhi</td>\n",
       "      <td>20,373 Km</td>\n",
       "      <td>First Owner</td>\n",
       "    </tr>\n",
       "    <tr>\n",
       "      <th>34498</th>\n",
       "      <td>34498</td>\n",
       "      <td>Hero Super Splendor 125cc 2005</td>\n",
       "      <td>15,600</td>\n",
       "      <td>Jaipur</td>\n",
       "      <td>84,186 Km</td>\n",
       "      <td>First Owner</td>\n",
       "    </tr>\n",
       "    <tr>\n",
       "      <th>34499</th>\n",
       "      <td>34499</td>\n",
       "      <td>Bajaj Pulsar 150cc 2008</td>\n",
       "      <td>22,000</td>\n",
       "      <td>Pune</td>\n",
       "      <td>60,857 Km</td>\n",
       "      <td>First Owner</td>\n",
       "    </tr>\n",
       "  </tbody>\n",
       "</table>\n",
       "<p>34500 rows × 6 columns</p>\n",
       "</div>"
      ],
      "text/plain": [
       "       Unnamed: 0                                       Name     Price  \\\n",
       "0               0    TVS Star City Plus Dual Tone 110cc 2018    35,000   \n",
       "1               1           Royal Enfield Classic 350cc 2017  1,19,900   \n",
       "2               2                  Triumph Daytona 675R 2013  6,00,000   \n",
       "3               3                  TVS Apache RTR 180cc 2017    65,000   \n",
       "4               4  Yamaha FZ S V 2.0 150cc-Ltd. Edition 2018    80,000   \n",
       "...           ...                                        ...       ...   \n",
       "34495       34495                Hero Passion Pro 100cc 2017    39,000   \n",
       "34496       34496                  TVS Apache RTR 180cc 2012    30,000   \n",
       "34497       34497              Bajaj Avenger Street 220 2015    60,000   \n",
       "34498       34498             Hero Super Splendor 125cc 2005    15,600   \n",
       "34499       34499                    Bajaj Pulsar 150cc 2008    22,000   \n",
       "\n",
       "        Location    Running        Owner  \n",
       "0      Ahmedabad  17,654 Km  First Owner  \n",
       "1          Delhi  11,000 Km  First Owner  \n",
       "2          Delhi     110 Km  First Owner  \n",
       "3      Bangalore  16,329 Km  First Owner  \n",
       "4      Bangalore  10,000 Km  First Owner  \n",
       "...          ...        ...          ...  \n",
       "34495      Delhi  22,000 Km  First Owner  \n",
       "34496     Karnal   6,639 Km  First Owner  \n",
       "34497      Delhi  20,373 Km  First Owner  \n",
       "34498     Jaipur  84,186 Km  First Owner  \n",
       "34499       Pune  60,857 Km  First Owner  \n",
       "\n",
       "[34500 rows x 6 columns]"
      ]
     },
     "execution_count": 154,
     "metadata": {},
     "output_type": "execute_result"
    }
   ],
   "source": [
    "df"
   ]
  },
  {
   "cell_type": "code",
   "execution_count": 155,
   "id": "610324cf",
   "metadata": {},
   "outputs": [
    {
     "data": {
      "text/html": [
       "<div>\n",
       "<style scoped>\n",
       "    .dataframe tbody tr th:only-of-type {\n",
       "        vertical-align: middle;\n",
       "    }\n",
       "\n",
       "    .dataframe tbody tr th {\n",
       "        vertical-align: top;\n",
       "    }\n",
       "\n",
       "    .dataframe thead th {\n",
       "        text-align: right;\n",
       "    }\n",
       "</style>\n",
       "<table border=\"1\" class=\"dataframe\">\n",
       "  <thead>\n",
       "    <tr style=\"text-align: right;\">\n",
       "      <th></th>\n",
       "      <th>Unnamed: 0</th>\n",
       "      <th>Name</th>\n",
       "      <th>price</th>\n",
       "      <th>Location</th>\n",
       "      <th>Running</th>\n",
       "      <th>Owner</th>\n",
       "    </tr>\n",
       "  </thead>\n",
       "  <tbody>\n",
       "    <tr>\n",
       "      <th>0</th>\n",
       "      <td>0</td>\n",
       "      <td>TVS Star City Plus Dual Tone 110cc 2018</td>\n",
       "      <td>35,000</td>\n",
       "      <td>Ahmedabad</td>\n",
       "      <td>17,654 Km</td>\n",
       "      <td>First Owner</td>\n",
       "    </tr>\n",
       "    <tr>\n",
       "      <th>1</th>\n",
       "      <td>1</td>\n",
       "      <td>Royal Enfield Classic 350cc 2017</td>\n",
       "      <td>1,19,900</td>\n",
       "      <td>Delhi</td>\n",
       "      <td>11,000 Km</td>\n",
       "      <td>First Owner</td>\n",
       "    </tr>\n",
       "    <tr>\n",
       "      <th>2</th>\n",
       "      <td>2</td>\n",
       "      <td>Triumph Daytona 675R 2013</td>\n",
       "      <td>6,00,000</td>\n",
       "      <td>Delhi</td>\n",
       "      <td>110 Km</td>\n",
       "      <td>First Owner</td>\n",
       "    </tr>\n",
       "    <tr>\n",
       "      <th>3</th>\n",
       "      <td>3</td>\n",
       "      <td>TVS Apache RTR 180cc 2017</td>\n",
       "      <td>65,000</td>\n",
       "      <td>Bangalore</td>\n",
       "      <td>16,329 Km</td>\n",
       "      <td>First Owner</td>\n",
       "    </tr>\n",
       "    <tr>\n",
       "      <th>4</th>\n",
       "      <td>4</td>\n",
       "      <td>Yamaha FZ S V 2.0 150cc-Ltd. Edition 2018</td>\n",
       "      <td>80,000</td>\n",
       "      <td>Bangalore</td>\n",
       "      <td>10,000 Km</td>\n",
       "      <td>First Owner</td>\n",
       "    </tr>\n",
       "    <tr>\n",
       "      <th>...</th>\n",
       "      <td>...</td>\n",
       "      <td>...</td>\n",
       "      <td>...</td>\n",
       "      <td>...</td>\n",
       "      <td>...</td>\n",
       "      <td>...</td>\n",
       "    </tr>\n",
       "    <tr>\n",
       "      <th>34495</th>\n",
       "      <td>34495</td>\n",
       "      <td>Hero Passion Pro 100cc 2017</td>\n",
       "      <td>39,000</td>\n",
       "      <td>Delhi</td>\n",
       "      <td>22,000 Km</td>\n",
       "      <td>First Owner</td>\n",
       "    </tr>\n",
       "    <tr>\n",
       "      <th>34496</th>\n",
       "      <td>34496</td>\n",
       "      <td>TVS Apache RTR 180cc 2012</td>\n",
       "      <td>30,000</td>\n",
       "      <td>Karnal</td>\n",
       "      <td>6,639 Km</td>\n",
       "      <td>First Owner</td>\n",
       "    </tr>\n",
       "    <tr>\n",
       "      <th>34497</th>\n",
       "      <td>34497</td>\n",
       "      <td>Bajaj Avenger Street 220 2015</td>\n",
       "      <td>60,000</td>\n",
       "      <td>Delhi</td>\n",
       "      <td>20,373 Km</td>\n",
       "      <td>First Owner</td>\n",
       "    </tr>\n",
       "    <tr>\n",
       "      <th>34498</th>\n",
       "      <td>34498</td>\n",
       "      <td>Hero Super Splendor 125cc 2005</td>\n",
       "      <td>15,600</td>\n",
       "      <td>Jaipur</td>\n",
       "      <td>84,186 Km</td>\n",
       "      <td>First Owner</td>\n",
       "    </tr>\n",
       "    <tr>\n",
       "      <th>34499</th>\n",
       "      <td>34499</td>\n",
       "      <td>Bajaj Pulsar 150cc 2008</td>\n",
       "      <td>22,000</td>\n",
       "      <td>Pune</td>\n",
       "      <td>60,857 Km</td>\n",
       "      <td>First Owner</td>\n",
       "    </tr>\n",
       "  </tbody>\n",
       "</table>\n",
       "<p>34500 rows × 6 columns</p>\n",
       "</div>"
      ],
      "text/plain": [
       "       Unnamed: 0                                       Name     price  \\\n",
       "0               0    TVS Star City Plus Dual Tone 110cc 2018    35,000   \n",
       "1               1           Royal Enfield Classic 350cc 2017  1,19,900   \n",
       "2               2                  Triumph Daytona 675R 2013  6,00,000   \n",
       "3               3                  TVS Apache RTR 180cc 2017    65,000   \n",
       "4               4  Yamaha FZ S V 2.0 150cc-Ltd. Edition 2018    80,000   \n",
       "...           ...                                        ...       ...   \n",
       "34495       34495                Hero Passion Pro 100cc 2017    39,000   \n",
       "34496       34496                  TVS Apache RTR 180cc 2012    30,000   \n",
       "34497       34497              Bajaj Avenger Street 220 2015    60,000   \n",
       "34498       34498             Hero Super Splendor 125cc 2005    15,600   \n",
       "34499       34499                    Bajaj Pulsar 150cc 2008    22,000   \n",
       "\n",
       "        Location    Running        Owner  \n",
       "0      Ahmedabad  17,654 Km  First Owner  \n",
       "1          Delhi  11,000 Km  First Owner  \n",
       "2          Delhi     110 Km  First Owner  \n",
       "3      Bangalore  16,329 Km  First Owner  \n",
       "4      Bangalore  10,000 Km  First Owner  \n",
       "...          ...        ...          ...  \n",
       "34495      Delhi  22,000 Km  First Owner  \n",
       "34496     Karnal   6,639 Km  First Owner  \n",
       "34497      Delhi  20,373 Km  First Owner  \n",
       "34498     Jaipur  84,186 Km  First Owner  \n",
       "34499       Pune  60,857 Km  First Owner  \n",
       "\n",
       "[34500 rows x 6 columns]"
      ]
     },
     "execution_count": 155,
     "metadata": {},
     "output_type": "execute_result"
    }
   ],
   "source": [
    "df.rename(columns = {'Price' : 'price'})"
   ]
  },
  {
   "cell_type": "code",
   "execution_count": 158,
   "id": "e5ec5c10",
   "metadata": {},
   "outputs": [],
   "source": [
    "df.columns = ['unnamed' , 'Name' , 'price' , 'Locatiion' , 'Running' , 'Owner']        \n",
    "\n",
    "# this ia a list of all main column names"
   ]
  },
  {
   "cell_type": "code",
   "execution_count": 159,
   "id": "99cafe8d",
   "metadata": {},
   "outputs": [],
   "source": [
    "df.columns = (x.upper() for x in df.columns)  \n",
    "# it will replace your columns name in uppercase"
   ]
  },
  {
   "cell_type": "code",
   "execution_count": 160,
   "id": "d703dc9f",
   "metadata": {},
   "outputs": [
    {
     "data": {
      "text/html": [
       "<div>\n",
       "<style scoped>\n",
       "    .dataframe tbody tr th:only-of-type {\n",
       "        vertical-align: middle;\n",
       "    }\n",
       "\n",
       "    .dataframe tbody tr th {\n",
       "        vertical-align: top;\n",
       "    }\n",
       "\n",
       "    .dataframe thead th {\n",
       "        text-align: right;\n",
       "    }\n",
       "</style>\n",
       "<table border=\"1\" class=\"dataframe\">\n",
       "  <thead>\n",
       "    <tr style=\"text-align: right;\">\n",
       "      <th></th>\n",
       "      <th>UNNAMED</th>\n",
       "      <th>NAME</th>\n",
       "      <th>PRICE</th>\n",
       "      <th>LOCATIION</th>\n",
       "      <th>RUNNING</th>\n",
       "      <th>OWNER</th>\n",
       "    </tr>\n",
       "  </thead>\n",
       "  <tbody>\n",
       "    <tr>\n",
       "      <th>0</th>\n",
       "      <td>0</td>\n",
       "      <td>TVS Star City Plus Dual Tone 110cc 2018</td>\n",
       "      <td>35,000</td>\n",
       "      <td>Ahmedabad</td>\n",
       "      <td>17,654 Km</td>\n",
       "      <td>First Owner</td>\n",
       "    </tr>\n",
       "    <tr>\n",
       "      <th>1</th>\n",
       "      <td>1</td>\n",
       "      <td>Royal Enfield Classic 350cc 2017</td>\n",
       "      <td>1,19,900</td>\n",
       "      <td>Delhi</td>\n",
       "      <td>11,000 Km</td>\n",
       "      <td>First Owner</td>\n",
       "    </tr>\n",
       "    <tr>\n",
       "      <th>2</th>\n",
       "      <td>2</td>\n",
       "      <td>Triumph Daytona 675R 2013</td>\n",
       "      <td>6,00,000</td>\n",
       "      <td>Delhi</td>\n",
       "      <td>110 Km</td>\n",
       "      <td>First Owner</td>\n",
       "    </tr>\n",
       "    <tr>\n",
       "      <th>3</th>\n",
       "      <td>3</td>\n",
       "      <td>TVS Apache RTR 180cc 2017</td>\n",
       "      <td>65,000</td>\n",
       "      <td>Bangalore</td>\n",
       "      <td>16,329 Km</td>\n",
       "      <td>First Owner</td>\n",
       "    </tr>\n",
       "    <tr>\n",
       "      <th>4</th>\n",
       "      <td>4</td>\n",
       "      <td>Yamaha FZ S V 2.0 150cc-Ltd. Edition 2018</td>\n",
       "      <td>80,000</td>\n",
       "      <td>Bangalore</td>\n",
       "      <td>10,000 Km</td>\n",
       "      <td>First Owner</td>\n",
       "    </tr>\n",
       "    <tr>\n",
       "      <th>...</th>\n",
       "      <td>...</td>\n",
       "      <td>...</td>\n",
       "      <td>...</td>\n",
       "      <td>...</td>\n",
       "      <td>...</td>\n",
       "      <td>...</td>\n",
       "    </tr>\n",
       "    <tr>\n",
       "      <th>34495</th>\n",
       "      <td>34495</td>\n",
       "      <td>Hero Passion Pro 100cc 2017</td>\n",
       "      <td>39,000</td>\n",
       "      <td>Delhi</td>\n",
       "      <td>22,000 Km</td>\n",
       "      <td>First Owner</td>\n",
       "    </tr>\n",
       "    <tr>\n",
       "      <th>34496</th>\n",
       "      <td>34496</td>\n",
       "      <td>TVS Apache RTR 180cc 2012</td>\n",
       "      <td>30,000</td>\n",
       "      <td>Karnal</td>\n",
       "      <td>6,639 Km</td>\n",
       "      <td>First Owner</td>\n",
       "    </tr>\n",
       "    <tr>\n",
       "      <th>34497</th>\n",
       "      <td>34497</td>\n",
       "      <td>Bajaj Avenger Street 220 2015</td>\n",
       "      <td>60,000</td>\n",
       "      <td>Delhi</td>\n",
       "      <td>20,373 Km</td>\n",
       "      <td>First Owner</td>\n",
       "    </tr>\n",
       "    <tr>\n",
       "      <th>34498</th>\n",
       "      <td>34498</td>\n",
       "      <td>Hero Super Splendor 125cc 2005</td>\n",
       "      <td>15,600</td>\n",
       "      <td>Jaipur</td>\n",
       "      <td>84,186 Km</td>\n",
       "      <td>First Owner</td>\n",
       "    </tr>\n",
       "    <tr>\n",
       "      <th>34499</th>\n",
       "      <td>34499</td>\n",
       "      <td>Bajaj Pulsar 150cc 2008</td>\n",
       "      <td>22,000</td>\n",
       "      <td>Pune</td>\n",
       "      <td>60,857 Km</td>\n",
       "      <td>First Owner</td>\n",
       "    </tr>\n",
       "  </tbody>\n",
       "</table>\n",
       "<p>34500 rows × 6 columns</p>\n",
       "</div>"
      ],
      "text/plain": [
       "       UNNAMED                                       NAME     PRICE  \\\n",
       "0            0    TVS Star City Plus Dual Tone 110cc 2018    35,000   \n",
       "1            1           Royal Enfield Classic 350cc 2017  1,19,900   \n",
       "2            2                  Triumph Daytona 675R 2013  6,00,000   \n",
       "3            3                  TVS Apache RTR 180cc 2017    65,000   \n",
       "4            4  Yamaha FZ S V 2.0 150cc-Ltd. Edition 2018    80,000   \n",
       "...        ...                                        ...       ...   \n",
       "34495    34495                Hero Passion Pro 100cc 2017    39,000   \n",
       "34496    34496                  TVS Apache RTR 180cc 2012    30,000   \n",
       "34497    34497              Bajaj Avenger Street 220 2015    60,000   \n",
       "34498    34498             Hero Super Splendor 125cc 2005    15,600   \n",
       "34499    34499                    Bajaj Pulsar 150cc 2008    22,000   \n",
       "\n",
       "       LOCATIION    RUNNING        OWNER  \n",
       "0      Ahmedabad  17,654 Km  First Owner  \n",
       "1          Delhi  11,000 Km  First Owner  \n",
       "2          Delhi     110 Km  First Owner  \n",
       "3      Bangalore  16,329 Km  First Owner  \n",
       "4      Bangalore  10,000 Km  First Owner  \n",
       "...          ...        ...          ...  \n",
       "34495      Delhi  22,000 Km  First Owner  \n",
       "34496     Karnal   6,639 Km  First Owner  \n",
       "34497      Delhi  20,373 Km  First Owner  \n",
       "34498     Jaipur  84,186 Km  First Owner  \n",
       "34499       Pune  60,857 Km  First Owner  \n",
       "\n",
       "[34500 rows x 6 columns]"
      ]
     },
     "execution_count": 160,
     "metadata": {},
     "output_type": "execute_result"
    }
   ],
   "source": [
    "df"
   ]
  },
  {
   "cell_type": "code",
   "execution_count": 163,
   "id": "769c6df0",
   "metadata": {},
   "outputs": [],
   "source": [
    "df.columns = (x.lower() for x in df.columns) \n",
    "\n",
    "# it will replace your columns name in lowercase.."
   ]
  },
  {
   "cell_type": "code",
   "execution_count": 162,
   "id": "0583d979",
   "metadata": {},
   "outputs": [
    {
     "data": {
      "text/html": [
       "<div>\n",
       "<style scoped>\n",
       "    .dataframe tbody tr th:only-of-type {\n",
       "        vertical-align: middle;\n",
       "    }\n",
       "\n",
       "    .dataframe tbody tr th {\n",
       "        vertical-align: top;\n",
       "    }\n",
       "\n",
       "    .dataframe thead th {\n",
       "        text-align: right;\n",
       "    }\n",
       "</style>\n",
       "<table border=\"1\" class=\"dataframe\">\n",
       "  <thead>\n",
       "    <tr style=\"text-align: right;\">\n",
       "      <th></th>\n",
       "      <th>unnamed</th>\n",
       "      <th>name</th>\n",
       "      <th>price</th>\n",
       "      <th>locatiion</th>\n",
       "      <th>running</th>\n",
       "      <th>owner</th>\n",
       "    </tr>\n",
       "  </thead>\n",
       "  <tbody>\n",
       "    <tr>\n",
       "      <th>0</th>\n",
       "      <td>0</td>\n",
       "      <td>TVS Star City Plus Dual Tone 110cc 2018</td>\n",
       "      <td>35,000</td>\n",
       "      <td>Ahmedabad</td>\n",
       "      <td>17,654 Km</td>\n",
       "      <td>First Owner</td>\n",
       "    </tr>\n",
       "    <tr>\n",
       "      <th>1</th>\n",
       "      <td>1</td>\n",
       "      <td>Royal Enfield Classic 350cc 2017</td>\n",
       "      <td>1,19,900</td>\n",
       "      <td>Delhi</td>\n",
       "      <td>11,000 Km</td>\n",
       "      <td>First Owner</td>\n",
       "    </tr>\n",
       "    <tr>\n",
       "      <th>2</th>\n",
       "      <td>2</td>\n",
       "      <td>Triumph Daytona 675R 2013</td>\n",
       "      <td>6,00,000</td>\n",
       "      <td>Delhi</td>\n",
       "      <td>110 Km</td>\n",
       "      <td>First Owner</td>\n",
       "    </tr>\n",
       "    <tr>\n",
       "      <th>3</th>\n",
       "      <td>3</td>\n",
       "      <td>TVS Apache RTR 180cc 2017</td>\n",
       "      <td>65,000</td>\n",
       "      <td>Bangalore</td>\n",
       "      <td>16,329 Km</td>\n",
       "      <td>First Owner</td>\n",
       "    </tr>\n",
       "    <tr>\n",
       "      <th>4</th>\n",
       "      <td>4</td>\n",
       "      <td>Yamaha FZ S V 2.0 150cc-Ltd. Edition 2018</td>\n",
       "      <td>80,000</td>\n",
       "      <td>Bangalore</td>\n",
       "      <td>10,000 Km</td>\n",
       "      <td>First Owner</td>\n",
       "    </tr>\n",
       "    <tr>\n",
       "      <th>...</th>\n",
       "      <td>...</td>\n",
       "      <td>...</td>\n",
       "      <td>...</td>\n",
       "      <td>...</td>\n",
       "      <td>...</td>\n",
       "      <td>...</td>\n",
       "    </tr>\n",
       "    <tr>\n",
       "      <th>34495</th>\n",
       "      <td>34495</td>\n",
       "      <td>Hero Passion Pro 100cc 2017</td>\n",
       "      <td>39,000</td>\n",
       "      <td>Delhi</td>\n",
       "      <td>22,000 Km</td>\n",
       "      <td>First Owner</td>\n",
       "    </tr>\n",
       "    <tr>\n",
       "      <th>34496</th>\n",
       "      <td>34496</td>\n",
       "      <td>TVS Apache RTR 180cc 2012</td>\n",
       "      <td>30,000</td>\n",
       "      <td>Karnal</td>\n",
       "      <td>6,639 Km</td>\n",
       "      <td>First Owner</td>\n",
       "    </tr>\n",
       "    <tr>\n",
       "      <th>34497</th>\n",
       "      <td>34497</td>\n",
       "      <td>Bajaj Avenger Street 220 2015</td>\n",
       "      <td>60,000</td>\n",
       "      <td>Delhi</td>\n",
       "      <td>20,373 Km</td>\n",
       "      <td>First Owner</td>\n",
       "    </tr>\n",
       "    <tr>\n",
       "      <th>34498</th>\n",
       "      <td>34498</td>\n",
       "      <td>Hero Super Splendor 125cc 2005</td>\n",
       "      <td>15,600</td>\n",
       "      <td>Jaipur</td>\n",
       "      <td>84,186 Km</td>\n",
       "      <td>First Owner</td>\n",
       "    </tr>\n",
       "    <tr>\n",
       "      <th>34499</th>\n",
       "      <td>34499</td>\n",
       "      <td>Bajaj Pulsar 150cc 2008</td>\n",
       "      <td>22,000</td>\n",
       "      <td>Pune</td>\n",
       "      <td>60,857 Km</td>\n",
       "      <td>First Owner</td>\n",
       "    </tr>\n",
       "  </tbody>\n",
       "</table>\n",
       "<p>34500 rows × 6 columns</p>\n",
       "</div>"
      ],
      "text/plain": [
       "       unnamed                                       name     price  \\\n",
       "0            0    TVS Star City Plus Dual Tone 110cc 2018    35,000   \n",
       "1            1           Royal Enfield Classic 350cc 2017  1,19,900   \n",
       "2            2                  Triumph Daytona 675R 2013  6,00,000   \n",
       "3            3                  TVS Apache RTR 180cc 2017    65,000   \n",
       "4            4  Yamaha FZ S V 2.0 150cc-Ltd. Edition 2018    80,000   \n",
       "...        ...                                        ...       ...   \n",
       "34495    34495                Hero Passion Pro 100cc 2017    39,000   \n",
       "34496    34496                  TVS Apache RTR 180cc 2012    30,000   \n",
       "34497    34497              Bajaj Avenger Street 220 2015    60,000   \n",
       "34498    34498             Hero Super Splendor 125cc 2005    15,600   \n",
       "34499    34499                    Bajaj Pulsar 150cc 2008    22,000   \n",
       "\n",
       "       locatiion    running        owner  \n",
       "0      Ahmedabad  17,654 Km  First Owner  \n",
       "1          Delhi  11,000 Km  First Owner  \n",
       "2          Delhi     110 Km  First Owner  \n",
       "3      Bangalore  16,329 Km  First Owner  \n",
       "4      Bangalore  10,000 Km  First Owner  \n",
       "...          ...        ...          ...  \n",
       "34495      Delhi  22,000 Km  First Owner  \n",
       "34496     Karnal   6,639 Km  First Owner  \n",
       "34497      Delhi  20,373 Km  First Owner  \n",
       "34498     Jaipur  84,186 Km  First Owner  \n",
       "34499       Pune  60,857 Km  First Owner  \n",
       "\n",
       "[34500 rows x 6 columns]"
      ]
     },
     "execution_count": 162,
     "metadata": {},
     "output_type": "execute_result"
    }
   ],
   "source": [
    "df"
   ]
  },
  {
   "cell_type": "code",
   "execution_count": 166,
   "id": "498e6e90",
   "metadata": {},
   "outputs": [
    {
     "data": {
      "text/plain": [
       "0        First Owner\n",
       "1        First Owner\n",
       "2        First Owner\n",
       "3        First Owner\n",
       "4        First Owner\n",
       "            ...     \n",
       "34495    First Owner\n",
       "34496    First Owner\n",
       "34497    First Owner\n",
       "34498    First Owner\n",
       "34499    First Owner\n",
       "Name: owner, Length: 34500, dtype: object"
      ]
     },
     "execution_count": 166,
     "metadata": {},
     "output_type": "execute_result"
    }
   ],
   "source": [
    "df['owner']"
   ]
  },
  {
   "cell_type": "code",
   "execution_count": 167,
   "id": "4c5f0161",
   "metadata": {},
   "outputs": [
    {
     "data": {
      "text/plain": [
       "0        True\n",
       "1        True\n",
       "2        True\n",
       "3        True\n",
       "4        True\n",
       "         ... \n",
       "34495    True\n",
       "34496    True\n",
       "34497    True\n",
       "34498    True\n",
       "34499    True\n",
       "Name: owner, Length: 34500, dtype: object"
      ]
     },
     "execution_count": 167,
     "metadata": {},
     "output_type": "execute_result"
    }
   ],
   "source": [
    "df['owner'].map({'First Owner' : True , 'Second Owner' : False})       \n",
    "\n",
    "# if you want to convert a value into  True or False of two similar values"
   ]
  },
  {
   "cell_type": "code",
   "execution_count": 27,
   "id": "a3d9c0b0",
   "metadata": {},
   "outputs": [
    {
     "data": {
      "text/html": [
       "<div>\n",
       "<style scoped>\n",
       "    .dataframe tbody tr th:only-of-type {\n",
       "        vertical-align: middle;\n",
       "    }\n",
       "\n",
       "    .dataframe tbody tr th {\n",
       "        vertical-align: top;\n",
       "    }\n",
       "\n",
       "    .dataframe thead th {\n",
       "        text-align: right;\n",
       "    }\n",
       "</style>\n",
       "<table border=\"1\" class=\"dataframe\">\n",
       "  <thead>\n",
       "    <tr style=\"text-align: right;\">\n",
       "      <th></th>\n",
       "      <th>Unnamed: 0</th>\n",
       "      <th>Name</th>\n",
       "      <th>Price</th>\n",
       "      <th>Location</th>\n",
       "      <th>Running</th>\n",
       "      <th>Owner</th>\n",
       "    </tr>\n",
       "  </thead>\n",
       "  <tbody>\n",
       "    <tr>\n",
       "      <th>0</th>\n",
       "      <td>0</td>\n",
       "      <td>TVS Star City Plus Dual Tone 110cc 2018</td>\n",
       "      <td>35,000</td>\n",
       "      <td>Ahmedabad</td>\n",
       "      <td>17,654 Km</td>\n",
       "      <td>First Owner</td>\n",
       "    </tr>\n",
       "    <tr>\n",
       "      <th>1</th>\n",
       "      <td>1</td>\n",
       "      <td>Royal Enfield Classic 350cc 2017</td>\n",
       "      <td>1,19,900</td>\n",
       "      <td>Delhi</td>\n",
       "      <td>11,000 Km</td>\n",
       "      <td>First Owner</td>\n",
       "    </tr>\n",
       "    <tr>\n",
       "      <th>2</th>\n",
       "      <td>2</td>\n",
       "      <td>Triumph Daytona 675R 2013</td>\n",
       "      <td>6,00,000</td>\n",
       "      <td>Delhi</td>\n",
       "      <td>110 Km</td>\n",
       "      <td>First Owner</td>\n",
       "    </tr>\n",
       "    <tr>\n",
       "      <th>3</th>\n",
       "      <td>3</td>\n",
       "      <td>TVS Apache RTR 180cc 2017</td>\n",
       "      <td>65,000</td>\n",
       "      <td>Bangalore</td>\n",
       "      <td>16,329 Km</td>\n",
       "      <td>First Owner</td>\n",
       "    </tr>\n",
       "    <tr>\n",
       "      <th>4</th>\n",
       "      <td>4</td>\n",
       "      <td>Yamaha FZ S V 2.0 150cc-Ltd. Edition 2018</td>\n",
       "      <td>80,000</td>\n",
       "      <td>Bangalore</td>\n",
       "      <td>10,000 Km</td>\n",
       "      <td>First Owner</td>\n",
       "    </tr>\n",
       "    <tr>\n",
       "      <th>...</th>\n",
       "      <td>...</td>\n",
       "      <td>...</td>\n",
       "      <td>...</td>\n",
       "      <td>...</td>\n",
       "      <td>...</td>\n",
       "      <td>...</td>\n",
       "    </tr>\n",
       "    <tr>\n",
       "      <th>34495</th>\n",
       "      <td>34495</td>\n",
       "      <td>Hero Passion Pro 100cc 2017</td>\n",
       "      <td>39,000</td>\n",
       "      <td>Delhi</td>\n",
       "      <td>22,000 Km</td>\n",
       "      <td>First Owner</td>\n",
       "    </tr>\n",
       "    <tr>\n",
       "      <th>34496</th>\n",
       "      <td>34496</td>\n",
       "      <td>TVS Apache RTR 180cc 2012</td>\n",
       "      <td>30,000</td>\n",
       "      <td>Karnal</td>\n",
       "      <td>6,639 Km</td>\n",
       "      <td>First Owner</td>\n",
       "    </tr>\n",
       "    <tr>\n",
       "      <th>34497</th>\n",
       "      <td>34497</td>\n",
       "      <td>Bajaj Avenger Street 220 2015</td>\n",
       "      <td>60,000</td>\n",
       "      <td>Delhi</td>\n",
       "      <td>20,373 Km</td>\n",
       "      <td>First Owner</td>\n",
       "    </tr>\n",
       "    <tr>\n",
       "      <th>34498</th>\n",
       "      <td>34498</td>\n",
       "      <td>Hero Super Splendor 125cc 2005</td>\n",
       "      <td>15,600</td>\n",
       "      <td>Jaipur</td>\n",
       "      <td>84,186 Km</td>\n",
       "      <td>First Owner</td>\n",
       "    </tr>\n",
       "    <tr>\n",
       "      <th>34499</th>\n",
       "      <td>34499</td>\n",
       "      <td>Bajaj Pulsar 150cc 2008</td>\n",
       "      <td>22,000</td>\n",
       "      <td>Pune</td>\n",
       "      <td>60,857 Km</td>\n",
       "      <td>First Owner</td>\n",
       "    </tr>\n",
       "  </tbody>\n",
       "</table>\n",
       "<p>34500 rows × 6 columns</p>\n",
       "</div>"
      ],
      "text/plain": [
       "       Unnamed: 0                                       Name     Price  \\\n",
       "0               0    TVS Star City Plus Dual Tone 110cc 2018    35,000   \n",
       "1               1           Royal Enfield Classic 350cc 2017  1,19,900   \n",
       "2               2                  Triumph Daytona 675R 2013  6,00,000   \n",
       "3               3                  TVS Apache RTR 180cc 2017    65,000   \n",
       "4               4  Yamaha FZ S V 2.0 150cc-Ltd. Edition 2018    80,000   \n",
       "...           ...                                        ...       ...   \n",
       "34495       34495                Hero Passion Pro 100cc 2017    39,000   \n",
       "34496       34496                  TVS Apache RTR 180cc 2012    30,000   \n",
       "34497       34497              Bajaj Avenger Street 220 2015    60,000   \n",
       "34498       34498             Hero Super Splendor 125cc 2005    15,600   \n",
       "34499       34499                    Bajaj Pulsar 150cc 2008    22,000   \n",
       "\n",
       "        Location    Running        Owner  \n",
       "0      Ahmedabad  17,654 Km  First Owner  \n",
       "1          Delhi  11,000 Km  First Owner  \n",
       "2          Delhi     110 Km  First Owner  \n",
       "3      Bangalore  16,329 Km  First Owner  \n",
       "4      Bangalore  10,000 Km  First Owner  \n",
       "...          ...        ...          ...  \n",
       "34495      Delhi  22,000 Km  First Owner  \n",
       "34496     Karnal   6,639 Km  First Owner  \n",
       "34497      Delhi  20,373 Km  First Owner  \n",
       "34498     Jaipur  84,186 Km  First Owner  \n",
       "34499       Pune  60,857 Km  First Owner  \n",
       "\n",
       "[34500 rows x 6 columns]"
      ]
     },
     "execution_count": 27,
     "metadata": {},
     "output_type": "execute_result"
    }
   ],
   "source": [
    "df"
   ]
  },
  {
   "cell_type": "code",
   "execution_count": 30,
   "id": "c33065cc",
   "metadata": {},
   "outputs": [
    {
     "data": {
      "text/html": [
       "<div>\n",
       "<style scoped>\n",
       "    .dataframe tbody tr th:only-of-type {\n",
       "        vertical-align: middle;\n",
       "    }\n",
       "\n",
       "    .dataframe tbody tr th {\n",
       "        vertical-align: top;\n",
       "    }\n",
       "\n",
       "    .dataframe thead th {\n",
       "        text-align: right;\n",
       "    }\n",
       "</style>\n",
       "<table border=\"1\" class=\"dataframe\">\n",
       "  <thead>\n",
       "    <tr style=\"text-align: right;\">\n",
       "      <th></th>\n",
       "      <th>Unnamed: 0</th>\n",
       "      <th>Name</th>\n",
       "      <th>Price</th>\n",
       "      <th>Location</th>\n",
       "      <th>Running</th>\n",
       "      <th>Owner</th>\n",
       "    </tr>\n",
       "  </thead>\n",
       "  <tbody>\n",
       "    <tr>\n",
       "      <th>6414</th>\n",
       "      <td>6414</td>\n",
       "      <td>Bajaj Pulsar 150cc 2014</td>\n",
       "      <td>30,000</td>\n",
       "      <td>24 Pargana</td>\n",
       "      <td>60,000 Km</td>\n",
       "      <td>Second Owner</td>\n",
       "    </tr>\n",
       "    <tr>\n",
       "      <th>5080</th>\n",
       "      <td>5080</td>\n",
       "      <td>Bajaj Pulsar NS160 2017</td>\n",
       "      <td>52,000</td>\n",
       "      <td>24 Pargana</td>\n",
       "      <td>11,700 Km</td>\n",
       "      <td>NaN</td>\n",
       "    </tr>\n",
       "    <tr>\n",
       "      <th>3684</th>\n",
       "      <td>3684</td>\n",
       "      <td>Royal Enfield Thunderbird 350cc 2015</td>\n",
       "      <td>95,000</td>\n",
       "      <td>24 Pargana</td>\n",
       "      <td>9,000 Km</td>\n",
       "      <td>NaN</td>\n",
       "    </tr>\n",
       "    <tr>\n",
       "      <th>3725</th>\n",
       "      <td>3725</td>\n",
       "      <td>Honda CB Trigger 150cc 2014</td>\n",
       "      <td>36,000</td>\n",
       "      <td>24 Pargana</td>\n",
       "      <td>24,000 Km</td>\n",
       "      <td>Second Owner</td>\n",
       "    </tr>\n",
       "    <tr>\n",
       "      <th>8443</th>\n",
       "      <td>8443</td>\n",
       "      <td>Suzuki Gixxer 150cc SP Rear Disc 2017</td>\n",
       "      <td>84,000</td>\n",
       "      <td>24 Pargana</td>\n",
       "      <td>200 Km</td>\n",
       "      <td>First Owner</td>\n",
       "    </tr>\n",
       "    <tr>\n",
       "      <th>...</th>\n",
       "      <td>...</td>\n",
       "      <td>...</td>\n",
       "      <td>...</td>\n",
       "      <td>...</td>\n",
       "      <td>...</td>\n",
       "      <td>...</td>\n",
       "    </tr>\n",
       "    <tr>\n",
       "      <th>3910</th>\n",
       "      <td>3910</td>\n",
       "      <td>Bajaj Pulsar 150cc 2012</td>\n",
       "      <td>27,999</td>\n",
       "      <td>NaN</td>\n",
       "      <td>42,500 Km</td>\n",
       "      <td>NaN</td>\n",
       "    </tr>\n",
       "    <tr>\n",
       "      <th>4111</th>\n",
       "      <td>4111</td>\n",
       "      <td>KTM RC 390cc 2018</td>\n",
       "      <td>1,80,000</td>\n",
       "      <td>NaN</td>\n",
       "      <td>8,500 Km</td>\n",
       "      <td>NaN</td>\n",
       "    </tr>\n",
       "    <tr>\n",
       "      <th>4636</th>\n",
       "      <td>4636</td>\n",
       "      <td>Bajaj Pulsar 180cc 2012</td>\n",
       "      <td>10,000</td>\n",
       "      <td>NaN</td>\n",
       "      <td>35,000 Km</td>\n",
       "      <td>NaN</td>\n",
       "    </tr>\n",
       "    <tr>\n",
       "      <th>4756</th>\n",
       "      <td>4756</td>\n",
       "      <td>Bajaj Pulsar 180cc 2012</td>\n",
       "      <td>10,000</td>\n",
       "      <td>NaN</td>\n",
       "      <td>35,000 Km</td>\n",
       "      <td>NaN</td>\n",
       "    </tr>\n",
       "    <tr>\n",
       "      <th>8508</th>\n",
       "      <td>8508</td>\n",
       "      <td>Bajaj Pulsar 180cc 2017</td>\n",
       "      <td>55,000</td>\n",
       "      <td>NaN</td>\n",
       "      <td>28,050 Km</td>\n",
       "      <td>NaN</td>\n",
       "    </tr>\n",
       "  </tbody>\n",
       "</table>\n",
       "<p>34500 rows × 6 columns</p>\n",
       "</div>"
      ],
      "text/plain": [
       "      Unnamed: 0                                   Name     Price    Location  \\\n",
       "6414        6414                Bajaj Pulsar 150cc 2014    30,000  24 Pargana   \n",
       "5080        5080                Bajaj Pulsar NS160 2017    52,000  24 Pargana   \n",
       "3684        3684   Royal Enfield Thunderbird 350cc 2015    95,000  24 Pargana   \n",
       "3725        3725            Honda CB Trigger 150cc 2014    36,000  24 Pargana   \n",
       "8443        8443  Suzuki Gixxer 150cc SP Rear Disc 2017    84,000  24 Pargana   \n",
       "...          ...                                    ...       ...         ...   \n",
       "3910        3910                Bajaj Pulsar 150cc 2012    27,999         NaN   \n",
       "4111        4111                      KTM RC 390cc 2018  1,80,000         NaN   \n",
       "4636        4636                Bajaj Pulsar 180cc 2012    10,000         NaN   \n",
       "4756        4756                Bajaj Pulsar 180cc 2012    10,000         NaN   \n",
       "8508        8508                Bajaj Pulsar 180cc 2017    55,000         NaN   \n",
       "\n",
       "        Running         Owner  \n",
       "6414  60,000 Km  Second Owner  \n",
       "5080  11,700 Km           NaN  \n",
       "3684   9,000 Km           NaN  \n",
       "3725  24,000 Km  Second Owner  \n",
       "8443     200 Km   First Owner  \n",
       "...         ...           ...  \n",
       "3910  42,500 Km           NaN  \n",
       "4111   8,500 Km           NaN  \n",
       "4636  35,000 Km           NaN  \n",
       "4756  35,000 Km           NaN  \n",
       "8508  28,050 Km           NaN  \n",
       "\n",
       "[34500 rows x 6 columns]"
      ]
     },
     "execution_count": 30,
     "metadata": {},
     "output_type": "execute_result"
    }
   ],
   "source": [
    "df.sort_values(by='Location')         # arrange the column in ascending order  A-B"
   ]
  },
  {
   "cell_type": "code",
   "execution_count": 34,
   "id": "aa5cf3c9",
   "metadata": {},
   "outputs": [
    {
     "data": {
      "text/html": [
       "<div>\n",
       "<style scoped>\n",
       "    .dataframe tbody tr th:only-of-type {\n",
       "        vertical-align: middle;\n",
       "    }\n",
       "\n",
       "    .dataframe tbody tr th {\n",
       "        vertical-align: top;\n",
       "    }\n",
       "\n",
       "    .dataframe thead th {\n",
       "        text-align: right;\n",
       "    }\n",
       "</style>\n",
       "<table border=\"1\" class=\"dataframe\">\n",
       "  <thead>\n",
       "    <tr style=\"text-align: right;\">\n",
       "      <th></th>\n",
       "      <th>Unnamed: 0</th>\n",
       "      <th>Name</th>\n",
       "      <th>Price</th>\n",
       "      <th>Location</th>\n",
       "      <th>Running</th>\n",
       "      <th>Owner</th>\n",
       "    </tr>\n",
       "  </thead>\n",
       "  <tbody>\n",
       "    <tr>\n",
       "      <th>5322</th>\n",
       "      <td>5322</td>\n",
       "      <td>Bajaj CT100 B 2016                           ...</td>\n",
       "      <td>28,000\\n 27,790</td>\n",
       "      <td>Delhi</td>\n",
       "      <td>33,214 Km</td>\n",
       "      <td>First Owner</td>\n",
       "    </tr>\n",
       "    <tr>\n",
       "      <th>18</th>\n",
       "      <td>18</td>\n",
       "      <td>Aprilia Tuono V4 1100 RR 2018</td>\n",
       "      <td>5,00,000</td>\n",
       "      <td>Chennai</td>\n",
       "      <td>100 Km</td>\n",
       "      <td>First Owner</td>\n",
       "    </tr>\n",
       "    <tr>\n",
       "      <th>23</th>\n",
       "      <td>23</td>\n",
       "      <td>Aprilia Tuono V4 1100 RR 2018</td>\n",
       "      <td>5,00,000</td>\n",
       "      <td>Chennai</td>\n",
       "      <td>100 Km</td>\n",
       "      <td>First Owner</td>\n",
       "    </tr>\n",
       "    <tr>\n",
       "      <th>7015</th>\n",
       "      <td>7015</td>\n",
       "      <td>BMW F750 GS 850cc 2018</td>\n",
       "      <td>13,50,000</td>\n",
       "      <td>Delhi</td>\n",
       "      <td>4,600 Km</td>\n",
       "      <td>First Owner</td>\n",
       "    </tr>\n",
       "    <tr>\n",
       "      <th>6503</th>\n",
       "      <td>6503</td>\n",
       "      <td>BMW F750 GS 850cc 2018</td>\n",
       "      <td>13,50,000</td>\n",
       "      <td>Delhi</td>\n",
       "      <td>4,600 Km</td>\n",
       "      <td>First Owner</td>\n",
       "    </tr>\n",
       "    <tr>\n",
       "      <th>...</th>\n",
       "      <td>...</td>\n",
       "      <td>...</td>\n",
       "      <td>...</td>\n",
       "      <td>...</td>\n",
       "      <td>...</td>\n",
       "      <td>...</td>\n",
       "    </tr>\n",
       "    <tr>\n",
       "      <th>1235</th>\n",
       "      <td>1235</td>\n",
       "      <td>Yamaha YZFR15 2.0 150 2016</td>\n",
       "      <td>95,000</td>\n",
       "      <td>Noida</td>\n",
       "      <td>13,200 Km</td>\n",
       "      <td>First Owner</td>\n",
       "    </tr>\n",
       "    <tr>\n",
       "      <th>6605</th>\n",
       "      <td>6605</td>\n",
       "      <td>Yamaha YZFR15 2.0 150 2016</td>\n",
       "      <td>95,000</td>\n",
       "      <td>Bangalore</td>\n",
       "      <td>30,000 Km</td>\n",
       "      <td>First Owner</td>\n",
       "    </tr>\n",
       "    <tr>\n",
       "      <th>6232</th>\n",
       "      <td>6232</td>\n",
       "      <td>Yamaha YZFR15 2.0 150 2016</td>\n",
       "      <td>95,000</td>\n",
       "      <td>Bangalore</td>\n",
       "      <td>30,000 Km</td>\n",
       "      <td>First Owner</td>\n",
       "    </tr>\n",
       "    <tr>\n",
       "      <th>1293</th>\n",
       "      <td>1293</td>\n",
       "      <td>Yamaha YZFR15 2.0 150 2016</td>\n",
       "      <td>95,000</td>\n",
       "      <td>Noida</td>\n",
       "      <td>13,200 Km</td>\n",
       "      <td>First Owner</td>\n",
       "    </tr>\n",
       "    <tr>\n",
       "      <th>5363</th>\n",
       "      <td>5363</td>\n",
       "      <td>Yezdi Classic 250cc 1982</td>\n",
       "      <td>68,000</td>\n",
       "      <td>Ahmedabad</td>\n",
       "      <td>23 Km</td>\n",
       "      <td>Third Owner</td>\n",
       "    </tr>\n",
       "  </tbody>\n",
       "</table>\n",
       "<p>34500 rows × 6 columns</p>\n",
       "</div>"
      ],
      "text/plain": [
       "      Unnamed: 0                                               Name  \\\n",
       "5322        5322   Bajaj CT100 B 2016                           ...   \n",
       "18            18                      Aprilia Tuono V4 1100 RR 2018   \n",
       "23            23                      Aprilia Tuono V4 1100 RR 2018   \n",
       "7015        7015                             BMW F750 GS 850cc 2018   \n",
       "6503        6503                             BMW F750 GS 850cc 2018   \n",
       "...          ...                                                ...   \n",
       "1235        1235                         Yamaha YZFR15 2.0 150 2016   \n",
       "6605        6605                         Yamaha YZFR15 2.0 150 2016   \n",
       "6232        6232                         Yamaha YZFR15 2.0 150 2016   \n",
       "1293        1293                         Yamaha YZFR15 2.0 150 2016   \n",
       "5363        5363                           Yezdi Classic 250cc 1982   \n",
       "\n",
       "                Price   Location    Running        Owner  \n",
       "5322  28,000\\n 27,790      Delhi  33,214 Km  First Owner  \n",
       "18           5,00,000    Chennai     100 Km  First Owner  \n",
       "23           5,00,000    Chennai     100 Km  First Owner  \n",
       "7015        13,50,000      Delhi   4,600 Km  First Owner  \n",
       "6503        13,50,000      Delhi   4,600 Km  First Owner  \n",
       "...               ...        ...        ...          ...  \n",
       "1235           95,000      Noida  13,200 Km  First Owner  \n",
       "6605           95,000  Bangalore  30,000 Km  First Owner  \n",
       "6232           95,000  Bangalore  30,000 Km  First Owner  \n",
       "1293           95,000      Noida  13,200 Km  First Owner  \n",
       "5363           68,000  Ahmedabad      23 Km  Third Owner  \n",
       "\n",
       "[34500 rows x 6 columns]"
      ]
     },
     "execution_count": 34,
     "metadata": {},
     "output_type": "execute_result"
    }
   ],
   "source": [
    "df.sort_values(by = 'Name')  # another example of sorting column in A-Z"
   ]
  },
  {
   "cell_type": "code",
   "execution_count": 41,
   "id": "9a429993",
   "metadata": {},
   "outputs": [
    {
     "data": {
      "text/html": [
       "<div>\n",
       "<style scoped>\n",
       "    .dataframe tbody tr th:only-of-type {\n",
       "        vertical-align: middle;\n",
       "    }\n",
       "\n",
       "    .dataframe tbody tr th {\n",
       "        vertical-align: top;\n",
       "    }\n",
       "\n",
       "    .dataframe thead th {\n",
       "        text-align: right;\n",
       "    }\n",
       "</style>\n",
       "<table border=\"1\" class=\"dataframe\">\n",
       "  <thead>\n",
       "    <tr style=\"text-align: right;\">\n",
       "      <th></th>\n",
       "      <th>Name</th>\n",
       "      <th>Location</th>\n",
       "    </tr>\n",
       "  </thead>\n",
       "  <tbody>\n",
       "    <tr>\n",
       "      <th>0</th>\n",
       "      <td>TVS Star City Plus Dual Tone 110cc 2018</td>\n",
       "      <td>Ahmedabad</td>\n",
       "    </tr>\n",
       "    <tr>\n",
       "      <th>1</th>\n",
       "      <td>Royal Enfield Classic 350cc 2017</td>\n",
       "      <td>Delhi</td>\n",
       "    </tr>\n",
       "    <tr>\n",
       "      <th>2</th>\n",
       "      <td>Triumph Daytona 675R 2013</td>\n",
       "      <td>Delhi</td>\n",
       "    </tr>\n",
       "    <tr>\n",
       "      <th>3</th>\n",
       "      <td>TVS Apache RTR 180cc 2017</td>\n",
       "      <td>Bangalore</td>\n",
       "    </tr>\n",
       "    <tr>\n",
       "      <th>4</th>\n",
       "      <td>Yamaha FZ S V 2.0 150cc-Ltd. Edition 2018</td>\n",
       "      <td>Bangalore</td>\n",
       "    </tr>\n",
       "    <tr>\n",
       "      <th>5</th>\n",
       "      <td>Yamaha FZs 150cc 2015</td>\n",
       "      <td>Delhi</td>\n",
       "    </tr>\n",
       "    <tr>\n",
       "      <th>6</th>\n",
       "      <td>Honda CB Hornet 160R  ABS DLX 2018</td>\n",
       "      <td>Delhi</td>\n",
       "    </tr>\n",
       "    <tr>\n",
       "      <th>7</th>\n",
       "      <td>Hero Splendor Plus Self Alloy 100cc 2018</td>\n",
       "      <td>Delhi</td>\n",
       "    </tr>\n",
       "    <tr>\n",
       "      <th>8</th>\n",
       "      <td>Royal Enfield Thunderbird X 350cc 2018</td>\n",
       "      <td>Bangalore</td>\n",
       "    </tr>\n",
       "    <tr>\n",
       "      <th>9</th>\n",
       "      <td>Royal Enfield Classic Desert Storm 500cc 2014</td>\n",
       "      <td>Delhi</td>\n",
       "    </tr>\n",
       "  </tbody>\n",
       "</table>\n",
       "</div>"
      ],
      "text/plain": [
       "                                            Name   Location\n",
       "0        TVS Star City Plus Dual Tone 110cc 2018  Ahmedabad\n",
       "1               Royal Enfield Classic 350cc 2017      Delhi\n",
       "2                      Triumph Daytona 675R 2013      Delhi\n",
       "3                      TVS Apache RTR 180cc 2017  Bangalore\n",
       "4      Yamaha FZ S V 2.0 150cc-Ltd. Edition 2018  Bangalore\n",
       "5                          Yamaha FZs 150cc 2015      Delhi\n",
       "6             Honda CB Hornet 160R  ABS DLX 2018      Delhi\n",
       "7       Hero Splendor Plus Self Alloy 100cc 2018      Delhi\n",
       "8         Royal Enfield Thunderbird X 350cc 2018  Bangalore\n",
       "9  Royal Enfield Classic Desert Storm 500cc 2014      Delhi"
      ]
     },
     "execution_count": 41,
     "metadata": {},
     "output_type": "execute_result"
    }
   ],
   "source": [
    "df[['Name' , 'Location']].head(10)"
   ]
  },
  {
   "cell_type": "code",
   "execution_count": 44,
   "id": "dfa2c9cf",
   "metadata": {},
   "outputs": [
    {
     "data": {
      "text/html": [
       "<div>\n",
       "<style scoped>\n",
       "    .dataframe tbody tr th:only-of-type {\n",
       "        vertical-align: middle;\n",
       "    }\n",
       "\n",
       "    .dataframe tbody tr th {\n",
       "        vertical-align: top;\n",
       "    }\n",
       "\n",
       "    .dataframe thead th {\n",
       "        text-align: right;\n",
       "    }\n",
       "</style>\n",
       "<table border=\"1\" class=\"dataframe\">\n",
       "  <thead>\n",
       "    <tr style=\"text-align: right;\">\n",
       "      <th></th>\n",
       "      <th>Unnamed: 0</th>\n",
       "      <th>Name</th>\n",
       "      <th>Price</th>\n",
       "      <th>Location</th>\n",
       "      <th>Running</th>\n",
       "      <th>Owner</th>\n",
       "    </tr>\n",
       "  </thead>\n",
       "  <tbody>\n",
       "    <tr>\n",
       "      <th>5322</th>\n",
       "      <td>5322</td>\n",
       "      <td>Bajaj CT100 B 2016                           ...</td>\n",
       "      <td>28,000\\n 27,790</td>\n",
       "      <td>Delhi</td>\n",
       "      <td>33,214 Km</td>\n",
       "      <td>First Owner</td>\n",
       "    </tr>\n",
       "    <tr>\n",
       "      <th>18</th>\n",
       "      <td>18</td>\n",
       "      <td>Aprilia Tuono V4 1100 RR 2018</td>\n",
       "      <td>5,00,000</td>\n",
       "      <td>Chennai</td>\n",
       "      <td>100 Km</td>\n",
       "      <td>First Owner</td>\n",
       "    </tr>\n",
       "    <tr>\n",
       "      <th>23</th>\n",
       "      <td>23</td>\n",
       "      <td>Aprilia Tuono V4 1100 RR 2018</td>\n",
       "      <td>5,00,000</td>\n",
       "      <td>Chennai</td>\n",
       "      <td>100 Km</td>\n",
       "      <td>First Owner</td>\n",
       "    </tr>\n",
       "    <tr>\n",
       "      <th>6503</th>\n",
       "      <td>6503</td>\n",
       "      <td>BMW F750 GS 850cc 2018</td>\n",
       "      <td>13,50,000</td>\n",
       "      <td>Delhi</td>\n",
       "      <td>4,600 Km</td>\n",
       "      <td>First Owner</td>\n",
       "    </tr>\n",
       "    <tr>\n",
       "      <th>7015</th>\n",
       "      <td>7015</td>\n",
       "      <td>BMW F750 GS 850cc 2018</td>\n",
       "      <td>13,50,000</td>\n",
       "      <td>Delhi</td>\n",
       "      <td>4,600 Km</td>\n",
       "      <td>First Owner</td>\n",
       "    </tr>\n",
       "    <tr>\n",
       "      <th>...</th>\n",
       "      <td>...</td>\n",
       "      <td>...</td>\n",
       "      <td>...</td>\n",
       "      <td>...</td>\n",
       "      <td>...</td>\n",
       "      <td>...</td>\n",
       "    </tr>\n",
       "    <tr>\n",
       "      <th>1235</th>\n",
       "      <td>1235</td>\n",
       "      <td>Yamaha YZFR15 2.0 150 2016</td>\n",
       "      <td>95,000</td>\n",
       "      <td>Noida</td>\n",
       "      <td>13,200 Km</td>\n",
       "      <td>First Owner</td>\n",
       "    </tr>\n",
       "    <tr>\n",
       "      <th>1293</th>\n",
       "      <td>1293</td>\n",
       "      <td>Yamaha YZFR15 2.0 150 2016</td>\n",
       "      <td>95,000</td>\n",
       "      <td>Noida</td>\n",
       "      <td>13,200 Km</td>\n",
       "      <td>First Owner</td>\n",
       "    </tr>\n",
       "    <tr>\n",
       "      <th>6232</th>\n",
       "      <td>6232</td>\n",
       "      <td>Yamaha YZFR15 2.0 150 2016</td>\n",
       "      <td>95,000</td>\n",
       "      <td>Bangalore</td>\n",
       "      <td>30,000 Km</td>\n",
       "      <td>First Owner</td>\n",
       "    </tr>\n",
       "    <tr>\n",
       "      <th>6605</th>\n",
       "      <td>6605</td>\n",
       "      <td>Yamaha YZFR15 2.0 150 2016</td>\n",
       "      <td>95,000</td>\n",
       "      <td>Bangalore</td>\n",
       "      <td>30,000 Km</td>\n",
       "      <td>First Owner</td>\n",
       "    </tr>\n",
       "    <tr>\n",
       "      <th>5363</th>\n",
       "      <td>5363</td>\n",
       "      <td>Yezdi Classic 250cc 1982</td>\n",
       "      <td>68,000</td>\n",
       "      <td>Ahmedabad</td>\n",
       "      <td>23 Km</td>\n",
       "      <td>Third Owner</td>\n",
       "    </tr>\n",
       "  </tbody>\n",
       "</table>\n",
       "<p>34500 rows × 6 columns</p>\n",
       "</div>"
      ],
      "text/plain": [
       "      Unnamed: 0                                               Name  \\\n",
       "5322        5322   Bajaj CT100 B 2016                           ...   \n",
       "18            18                      Aprilia Tuono V4 1100 RR 2018   \n",
       "23            23                      Aprilia Tuono V4 1100 RR 2018   \n",
       "6503        6503                             BMW F750 GS 850cc 2018   \n",
       "7015        7015                             BMW F750 GS 850cc 2018   \n",
       "...          ...                                                ...   \n",
       "1235        1235                         Yamaha YZFR15 2.0 150 2016   \n",
       "1293        1293                         Yamaha YZFR15 2.0 150 2016   \n",
       "6232        6232                         Yamaha YZFR15 2.0 150 2016   \n",
       "6605        6605                         Yamaha YZFR15 2.0 150 2016   \n",
       "5363        5363                           Yezdi Classic 250cc 1982   \n",
       "\n",
       "                Price   Location    Running        Owner  \n",
       "5322  28,000\\n 27,790      Delhi  33,214 Km  First Owner  \n",
       "18           5,00,000    Chennai     100 Km  First Owner  \n",
       "23           5,00,000    Chennai     100 Km  First Owner  \n",
       "6503        13,50,000      Delhi   4,600 Km  First Owner  \n",
       "7015        13,50,000      Delhi   4,600 Km  First Owner  \n",
       "...               ...        ...        ...          ...  \n",
       "1235           95,000      Noida  13,200 Km  First Owner  \n",
       "1293           95,000      Noida  13,200 Km  First Owner  \n",
       "6232           95,000  Bangalore  30,000 Km  First Owner  \n",
       "6605           95,000  Bangalore  30,000 Km  First Owner  \n",
       "5363           68,000  Ahmedabad      23 Km  Third Owner  \n",
       "\n",
       "[34500 rows x 6 columns]"
      ]
     },
     "execution_count": 44,
     "metadata": {},
     "output_type": "execute_result"
    }
   ],
   "source": [
    "df.sort_values(by = ['Name' , 'Price'] , ascending = [True , False])"
   ]
  },
  {
   "cell_type": "code",
   "execution_count": 57,
   "id": "6d23a7e2",
   "metadata": {},
   "outputs": [
    {
     "data": {
      "text/plain": [
       "5322     Bajaj CT100 B 2016                           ...\n",
       "Name: Name, dtype: object"
      ]
     },
     "execution_count": 57,
     "metadata": {},
     "output_type": "execute_result"
    }
   ],
   "source": [
    "df.iloc[[5322] , 1]"
   ]
  },
  {
   "cell_type": "markdown",
   "id": "34a95f73",
   "metadata": {},
   "source": [
    "# how to apply function in a csv file "
   ]
  },
  {
   "cell_type": "code",
   "execution_count": 94,
   "id": "d70e6a07",
   "metadata": {},
   "outputs": [],
   "source": [
    "def remove_space(column_name) :       # here we use strip functio to remove empty space from a string\n",
    "    return column_name.strip()"
   ]
  },
  {
   "cell_type": "code",
   "execution_count": 98,
   "id": "6004ad3b",
   "metadata": {},
   "outputs": [],
   "source": [
    "df['Name'] = df['Name'].apply(remove_space)   # how to apply it on a original dataframe"
   ]
  },
  {
   "cell_type": "markdown",
   "id": "69b58f5a",
   "metadata": {},
   "source": [
    "# how to get any string index (string slicing) procedure"
   ]
  },
  {
   "cell_type": "code",
   "execution_count": 95,
   "id": "e220893b",
   "metadata": {
    "collapsed": true
   },
   "outputs": [
    {
     "ename": "KeyError",
     "evalue": "\"['Unnamed: 0'] not found in axis\"",
     "output_type": "error",
     "traceback": [
      "\u001b[1;31m---------------------------------------------------------------------------\u001b[0m",
      "\u001b[1;31mKeyError\u001b[0m                                  Traceback (most recent call last)",
      "Input \u001b[1;32mIn [95]\u001b[0m, in \u001b[0;36m<cell line: 1>\u001b[1;34m()\u001b[0m\n\u001b[1;32m----> 1\u001b[0m \u001b[43mdf\u001b[49m\u001b[38;5;241;43m.\u001b[39;49m\u001b[43mdrop\u001b[49m\u001b[43m(\u001b[49m\u001b[43mcolumns\u001b[49m\u001b[43m \u001b[49m\u001b[38;5;241;43m=\u001b[39;49m\u001b[43m \u001b[49m\u001b[43m[\u001b[49m\u001b[38;5;124;43m'\u001b[39;49m\u001b[38;5;124;43mUnnamed: 0\u001b[39;49m\u001b[38;5;124;43m'\u001b[39;49m\u001b[43m]\u001b[49m\u001b[43m \u001b[49m\u001b[43m,\u001b[49m\u001b[43m \u001b[49m\u001b[43minplace\u001b[49m\u001b[43m \u001b[49m\u001b[38;5;241;43m=\u001b[39;49m\u001b[43m \u001b[49m\u001b[38;5;28;43;01mTrue\u001b[39;49;00m\u001b[43m \u001b[49m\u001b[43m)\u001b[49m\n",
      "File \u001b[1;32mC:\\ProgramData\\Anaconda3\\an\\lib\\site-packages\\pandas\\util\\_decorators.py:311\u001b[0m, in \u001b[0;36mdeprecate_nonkeyword_arguments.<locals>.decorate.<locals>.wrapper\u001b[1;34m(*args, **kwargs)\u001b[0m\n\u001b[0;32m    305\u001b[0m \u001b[38;5;28;01mif\u001b[39;00m \u001b[38;5;28mlen\u001b[39m(args) \u001b[38;5;241m>\u001b[39m num_allow_args:\n\u001b[0;32m    306\u001b[0m     warnings\u001b[38;5;241m.\u001b[39mwarn(\n\u001b[0;32m    307\u001b[0m         msg\u001b[38;5;241m.\u001b[39mformat(arguments\u001b[38;5;241m=\u001b[39marguments),\n\u001b[0;32m    308\u001b[0m         \u001b[38;5;167;01mFutureWarning\u001b[39;00m,\n\u001b[0;32m    309\u001b[0m         stacklevel\u001b[38;5;241m=\u001b[39mstacklevel,\n\u001b[0;32m    310\u001b[0m     )\n\u001b[1;32m--> 311\u001b[0m \u001b[38;5;28;01mreturn\u001b[39;00m func(\u001b[38;5;241m*\u001b[39margs, \u001b[38;5;241m*\u001b[39m\u001b[38;5;241m*\u001b[39mkwargs)\n",
      "File \u001b[1;32mC:\\ProgramData\\Anaconda3\\an\\lib\\site-packages\\pandas\\core\\frame.py:4954\u001b[0m, in \u001b[0;36mDataFrame.drop\u001b[1;34m(self, labels, axis, index, columns, level, inplace, errors)\u001b[0m\n\u001b[0;32m   4806\u001b[0m \u001b[38;5;129m@deprecate_nonkeyword_arguments\u001b[39m(version\u001b[38;5;241m=\u001b[39m\u001b[38;5;28;01mNone\u001b[39;00m, allowed_args\u001b[38;5;241m=\u001b[39m[\u001b[38;5;124m\"\u001b[39m\u001b[38;5;124mself\u001b[39m\u001b[38;5;124m\"\u001b[39m, \u001b[38;5;124m\"\u001b[39m\u001b[38;5;124mlabels\u001b[39m\u001b[38;5;124m\"\u001b[39m])\n\u001b[0;32m   4807\u001b[0m \u001b[38;5;28;01mdef\u001b[39;00m \u001b[38;5;21mdrop\u001b[39m(\n\u001b[0;32m   4808\u001b[0m     \u001b[38;5;28mself\u001b[39m,\n\u001b[1;32m   (...)\u001b[0m\n\u001b[0;32m   4815\u001b[0m     errors: \u001b[38;5;28mstr\u001b[39m \u001b[38;5;241m=\u001b[39m \u001b[38;5;124m\"\u001b[39m\u001b[38;5;124mraise\u001b[39m\u001b[38;5;124m\"\u001b[39m,\n\u001b[0;32m   4816\u001b[0m ):\n\u001b[0;32m   4817\u001b[0m     \u001b[38;5;124;03m\"\"\"\u001b[39;00m\n\u001b[0;32m   4818\u001b[0m \u001b[38;5;124;03m    Drop specified labels from rows or columns.\u001b[39;00m\n\u001b[0;32m   4819\u001b[0m \n\u001b[1;32m   (...)\u001b[0m\n\u001b[0;32m   4952\u001b[0m \u001b[38;5;124;03m            weight  1.0     0.8\u001b[39;00m\n\u001b[0;32m   4953\u001b[0m \u001b[38;5;124;03m    \"\"\"\u001b[39;00m\n\u001b[1;32m-> 4954\u001b[0m     \u001b[38;5;28;01mreturn\u001b[39;00m \u001b[38;5;28;43msuper\u001b[39;49m\u001b[43m(\u001b[49m\u001b[43m)\u001b[49m\u001b[38;5;241;43m.\u001b[39;49m\u001b[43mdrop\u001b[49m\u001b[43m(\u001b[49m\n\u001b[0;32m   4955\u001b[0m \u001b[43m        \u001b[49m\u001b[43mlabels\u001b[49m\u001b[38;5;241;43m=\u001b[39;49m\u001b[43mlabels\u001b[49m\u001b[43m,\u001b[49m\n\u001b[0;32m   4956\u001b[0m \u001b[43m        \u001b[49m\u001b[43maxis\u001b[49m\u001b[38;5;241;43m=\u001b[39;49m\u001b[43maxis\u001b[49m\u001b[43m,\u001b[49m\n\u001b[0;32m   4957\u001b[0m \u001b[43m        \u001b[49m\u001b[43mindex\u001b[49m\u001b[38;5;241;43m=\u001b[39;49m\u001b[43mindex\u001b[49m\u001b[43m,\u001b[49m\n\u001b[0;32m   4958\u001b[0m \u001b[43m        \u001b[49m\u001b[43mcolumns\u001b[49m\u001b[38;5;241;43m=\u001b[39;49m\u001b[43mcolumns\u001b[49m\u001b[43m,\u001b[49m\n\u001b[0;32m   4959\u001b[0m \u001b[43m        \u001b[49m\u001b[43mlevel\u001b[49m\u001b[38;5;241;43m=\u001b[39;49m\u001b[43mlevel\u001b[49m\u001b[43m,\u001b[49m\n\u001b[0;32m   4960\u001b[0m \u001b[43m        \u001b[49m\u001b[43minplace\u001b[49m\u001b[38;5;241;43m=\u001b[39;49m\u001b[43minplace\u001b[49m\u001b[43m,\u001b[49m\n\u001b[0;32m   4961\u001b[0m \u001b[43m        \u001b[49m\u001b[43merrors\u001b[49m\u001b[38;5;241;43m=\u001b[39;49m\u001b[43merrors\u001b[49m\u001b[43m,\u001b[49m\n\u001b[0;32m   4962\u001b[0m \u001b[43m    \u001b[49m\u001b[43m)\u001b[49m\n",
      "File \u001b[1;32mC:\\ProgramData\\Anaconda3\\an\\lib\\site-packages\\pandas\\core\\generic.py:4267\u001b[0m, in \u001b[0;36mNDFrame.drop\u001b[1;34m(self, labels, axis, index, columns, level, inplace, errors)\u001b[0m\n\u001b[0;32m   4265\u001b[0m \u001b[38;5;28;01mfor\u001b[39;00m axis, labels \u001b[38;5;129;01min\u001b[39;00m axes\u001b[38;5;241m.\u001b[39mitems():\n\u001b[0;32m   4266\u001b[0m     \u001b[38;5;28;01mif\u001b[39;00m labels \u001b[38;5;129;01mis\u001b[39;00m \u001b[38;5;129;01mnot\u001b[39;00m \u001b[38;5;28;01mNone\u001b[39;00m:\n\u001b[1;32m-> 4267\u001b[0m         obj \u001b[38;5;241m=\u001b[39m \u001b[43mobj\u001b[49m\u001b[38;5;241;43m.\u001b[39;49m\u001b[43m_drop_axis\u001b[49m\u001b[43m(\u001b[49m\u001b[43mlabels\u001b[49m\u001b[43m,\u001b[49m\u001b[43m \u001b[49m\u001b[43maxis\u001b[49m\u001b[43m,\u001b[49m\u001b[43m \u001b[49m\u001b[43mlevel\u001b[49m\u001b[38;5;241;43m=\u001b[39;49m\u001b[43mlevel\u001b[49m\u001b[43m,\u001b[49m\u001b[43m \u001b[49m\u001b[43merrors\u001b[49m\u001b[38;5;241;43m=\u001b[39;49m\u001b[43merrors\u001b[49m\u001b[43m)\u001b[49m\n\u001b[0;32m   4269\u001b[0m \u001b[38;5;28;01mif\u001b[39;00m inplace:\n\u001b[0;32m   4270\u001b[0m     \u001b[38;5;28mself\u001b[39m\u001b[38;5;241m.\u001b[39m_update_inplace(obj)\n",
      "File \u001b[1;32mC:\\ProgramData\\Anaconda3\\an\\lib\\site-packages\\pandas\\core\\generic.py:4311\u001b[0m, in \u001b[0;36mNDFrame._drop_axis\u001b[1;34m(self, labels, axis, level, errors, consolidate, only_slice)\u001b[0m\n\u001b[0;32m   4309\u001b[0m         new_axis \u001b[38;5;241m=\u001b[39m axis\u001b[38;5;241m.\u001b[39mdrop(labels, level\u001b[38;5;241m=\u001b[39mlevel, errors\u001b[38;5;241m=\u001b[39merrors)\n\u001b[0;32m   4310\u001b[0m     \u001b[38;5;28;01melse\u001b[39;00m:\n\u001b[1;32m-> 4311\u001b[0m         new_axis \u001b[38;5;241m=\u001b[39m \u001b[43maxis\u001b[49m\u001b[38;5;241;43m.\u001b[39;49m\u001b[43mdrop\u001b[49m\u001b[43m(\u001b[49m\u001b[43mlabels\u001b[49m\u001b[43m,\u001b[49m\u001b[43m \u001b[49m\u001b[43merrors\u001b[49m\u001b[38;5;241;43m=\u001b[39;49m\u001b[43merrors\u001b[49m\u001b[43m)\u001b[49m\n\u001b[0;32m   4312\u001b[0m     indexer \u001b[38;5;241m=\u001b[39m axis\u001b[38;5;241m.\u001b[39mget_indexer(new_axis)\n\u001b[0;32m   4314\u001b[0m \u001b[38;5;66;03m# Case for non-unique axis\u001b[39;00m\n\u001b[0;32m   4315\u001b[0m \u001b[38;5;28;01melse\u001b[39;00m:\n",
      "File \u001b[1;32mC:\\ProgramData\\Anaconda3\\an\\lib\\site-packages\\pandas\\core\\indexes\\base.py:6644\u001b[0m, in \u001b[0;36mIndex.drop\u001b[1;34m(self, labels, errors)\u001b[0m\n\u001b[0;32m   6642\u001b[0m \u001b[38;5;28;01mif\u001b[39;00m mask\u001b[38;5;241m.\u001b[39many():\n\u001b[0;32m   6643\u001b[0m     \u001b[38;5;28;01mif\u001b[39;00m errors \u001b[38;5;241m!=\u001b[39m \u001b[38;5;124m\"\u001b[39m\u001b[38;5;124mignore\u001b[39m\u001b[38;5;124m\"\u001b[39m:\n\u001b[1;32m-> 6644\u001b[0m         \u001b[38;5;28;01mraise\u001b[39;00m \u001b[38;5;167;01mKeyError\u001b[39;00m(\u001b[38;5;124mf\u001b[39m\u001b[38;5;124m\"\u001b[39m\u001b[38;5;132;01m{\u001b[39;00m\u001b[38;5;28mlist\u001b[39m(labels[mask])\u001b[38;5;132;01m}\u001b[39;00m\u001b[38;5;124m not found in axis\u001b[39m\u001b[38;5;124m\"\u001b[39m)\n\u001b[0;32m   6645\u001b[0m     indexer \u001b[38;5;241m=\u001b[39m indexer[\u001b[38;5;241m~\u001b[39mmask]\n\u001b[0;32m   6646\u001b[0m \u001b[38;5;28;01mreturn\u001b[39;00m \u001b[38;5;28mself\u001b[39m\u001b[38;5;241m.\u001b[39mdelete(indexer)\n",
      "\u001b[1;31mKeyError\u001b[0m: \"['Unnamed: 0'] not found in axis\""
     ]
    }
   ],
   "source": [
    "df.drop(columns = ['Unnamed: 0'] , inplace = True )    # how to remove a column"
   ]
  },
  {
   "cell_type": "code",
   "execution_count": 102,
   "id": "b00753c5",
   "metadata": {},
   "outputs": [],
   "source": [
    "bajaj = df.iloc[5322 , 0]      # how to get a indivitual name frrom a dataframe"
   ]
  },
  {
   "cell_type": "code",
   "execution_count": 100,
   "id": "6fcffeb5",
   "metadata": {},
   "outputs": [
    {
     "data": {
      "text/plain": [
       "'Bajaj CT100 B 2016'"
      ]
     },
     "execution_count": 100,
     "metadata": {},
     "output_type": "execute_result"
    }
   ],
   "source": [
    "df.iloc[5322 , 0]        # what give df.loc[5322 , 0] we check"
   ]
  },
  {
   "cell_type": "code",
   "execution_count": 103,
   "id": "71baa662",
   "metadata": {},
   "outputs": [
    {
     "data": {
      "text/plain": [
       "'B'"
      ]
     },
     "execution_count": 103,
     "metadata": {},
     "output_type": "execute_result"
    }
   ],
   "source": [
    "bajaj[0]       # we use python for cheching the position of any word of string"
   ]
  },
  {
   "cell_type": "markdown",
   "id": "55b2fd8b",
   "metadata": {},
   "source": [
    "# sort the column 'Name' in ascending order"
   ]
  },
  {
   "cell_type": "code",
   "execution_count": 118,
   "id": "a15ce5a1",
   "metadata": {},
   "outputs": [
    {
     "data": {
      "text/html": [
       "<div>\n",
       "<style scoped>\n",
       "    .dataframe tbody tr th:only-of-type {\n",
       "        vertical-align: middle;\n",
       "    }\n",
       "\n",
       "    .dataframe tbody tr th {\n",
       "        vertical-align: top;\n",
       "    }\n",
       "\n",
       "    .dataframe thead th {\n",
       "        text-align: right;\n",
       "    }\n",
       "</style>\n",
       "<table border=\"1\" class=\"dataframe\">\n",
       "  <thead>\n",
       "    <tr style=\"text-align: right;\">\n",
       "      <th></th>\n",
       "      <th>Name</th>\n",
       "      <th>Price</th>\n",
       "      <th>Location</th>\n",
       "      <th>Running</th>\n",
       "      <th>Owner</th>\n",
       "    </tr>\n",
       "  </thead>\n",
       "  <tbody>\n",
       "    <tr>\n",
       "      <th>23</th>\n",
       "      <td>Aprilia Tuono V4 1100 RR 2018</td>\n",
       "      <td>5,00,000</td>\n",
       "      <td>Chennai</td>\n",
       "      <td>100 Km</td>\n",
       "      <td>First Owner</td>\n",
       "    </tr>\n",
       "    <tr>\n",
       "      <th>18</th>\n",
       "      <td>Aprilia Tuono V4 1100 RR 2018</td>\n",
       "      <td>5,00,000</td>\n",
       "      <td>Chennai</td>\n",
       "      <td>100 Km</td>\n",
       "      <td>First Owner</td>\n",
       "    </tr>\n",
       "    <tr>\n",
       "      <th>7015</th>\n",
       "      <td>BMW F750 GS 850cc 2018</td>\n",
       "      <td>13,50,000</td>\n",
       "      <td>Delhi</td>\n",
       "      <td>4,600 Km</td>\n",
       "      <td>First Owner</td>\n",
       "    </tr>\n",
       "    <tr>\n",
       "      <th>6503</th>\n",
       "      <td>BMW F750 GS 850cc 2018</td>\n",
       "      <td>13,50,000</td>\n",
       "      <td>Delhi</td>\n",
       "      <td>4,600 Km</td>\n",
       "      <td>First Owner</td>\n",
       "    </tr>\n",
       "    <tr>\n",
       "      <th>9109</th>\n",
       "      <td>BMW G 310 GS 2018</td>\n",
       "      <td>3,30,000</td>\n",
       "      <td>Gurgaon</td>\n",
       "      <td>4,241 Km</td>\n",
       "      <td>First Owner</td>\n",
       "    </tr>\n",
       "    <tr>\n",
       "      <th>...</th>\n",
       "      <td>...</td>\n",
       "      <td>...</td>\n",
       "      <td>...</td>\n",
       "      <td>...</td>\n",
       "      <td>...</td>\n",
       "    </tr>\n",
       "    <tr>\n",
       "      <th>1293</th>\n",
       "      <td>Yamaha YZFR15 2.0 150 2016</td>\n",
       "      <td>95,000</td>\n",
       "      <td>Noida</td>\n",
       "      <td>13,200 Km</td>\n",
       "      <td>First Owner</td>\n",
       "    </tr>\n",
       "    <tr>\n",
       "      <th>1235</th>\n",
       "      <td>Yamaha YZFR15 2.0 150 2016</td>\n",
       "      <td>95,000</td>\n",
       "      <td>Noida</td>\n",
       "      <td>13,200 Km</td>\n",
       "      <td>First Owner</td>\n",
       "    </tr>\n",
       "    <tr>\n",
       "      <th>6605</th>\n",
       "      <td>Yamaha YZFR15 2.0 150 2016</td>\n",
       "      <td>95,000</td>\n",
       "      <td>Bangalore</td>\n",
       "      <td>30,000 Km</td>\n",
       "      <td>First Owner</td>\n",
       "    </tr>\n",
       "    <tr>\n",
       "      <th>6232</th>\n",
       "      <td>Yamaha YZFR15 2.0 150 2016</td>\n",
       "      <td>95,000</td>\n",
       "      <td>Bangalore</td>\n",
       "      <td>30,000 Km</td>\n",
       "      <td>First Owner</td>\n",
       "    </tr>\n",
       "    <tr>\n",
       "      <th>5363</th>\n",
       "      <td>Yezdi Classic 250cc 1982</td>\n",
       "      <td>68,000</td>\n",
       "      <td>Ahmedabad</td>\n",
       "      <td>23 Km</td>\n",
       "      <td>Third Owner</td>\n",
       "    </tr>\n",
       "  </tbody>\n",
       "</table>\n",
       "<p>34500 rows × 5 columns</p>\n",
       "</div>"
      ],
      "text/plain": [
       "                               Name      Price   Location    Running  \\\n",
       "23    Aprilia Tuono V4 1100 RR 2018   5,00,000    Chennai     100 Km   \n",
       "18    Aprilia Tuono V4 1100 RR 2018   5,00,000    Chennai     100 Km   \n",
       "7015         BMW F750 GS 850cc 2018  13,50,000      Delhi   4,600 Km   \n",
       "6503         BMW F750 GS 850cc 2018  13,50,000      Delhi   4,600 Km   \n",
       "9109              BMW G 310 GS 2018   3,30,000    Gurgaon   4,241 Km   \n",
       "...                             ...        ...        ...        ...   \n",
       "1293     Yamaha YZFR15 2.0 150 2016     95,000      Noida  13,200 Km   \n",
       "1235     Yamaha YZFR15 2.0 150 2016     95,000      Noida  13,200 Km   \n",
       "6605     Yamaha YZFR15 2.0 150 2016     95,000  Bangalore  30,000 Km   \n",
       "6232     Yamaha YZFR15 2.0 150 2016     95,000  Bangalore  30,000 Km   \n",
       "5363       Yezdi Classic 250cc 1982     68,000  Ahmedabad      23 Km   \n",
       "\n",
       "            Owner  \n",
       "23    First Owner  \n",
       "18    First Owner  \n",
       "7015  First Owner  \n",
       "6503  First Owner  \n",
       "9109  First Owner  \n",
       "...           ...  \n",
       "1293  First Owner  \n",
       "1235  First Owner  \n",
       "6605  First Owner  \n",
       "6232  First Owner  \n",
       "5363  Third Owner  \n",
       "\n",
       "[34500 rows x 5 columns]"
      ]
     },
     "execution_count": 118,
     "metadata": {},
     "output_type": "execute_result"
    }
   ],
   "source": [
    "df.sort_values(by = 'Name')"
   ]
  },
  {
   "cell_type": "code",
   "execution_count": 121,
   "id": "ce3f72f3",
   "metadata": {},
   "outputs": [],
   "source": [
    "df.sort_values('Location', inplace = True)"
   ]
  },
  {
   "cell_type": "code",
   "execution_count": 356,
   "id": "18e70a49",
   "metadata": {},
   "outputs": [
    {
     "data": {
      "text/html": [
       "<div>\n",
       "<style scoped>\n",
       "    .dataframe tbody tr th:only-of-type {\n",
       "        vertical-align: middle;\n",
       "    }\n",
       "\n",
       "    .dataframe tbody tr th {\n",
       "        vertical-align: top;\n",
       "    }\n",
       "\n",
       "    .dataframe thead th {\n",
       "        text-align: right;\n",
       "    }\n",
       "</style>\n",
       "<table border=\"1\" class=\"dataframe\">\n",
       "  <thead>\n",
       "    <tr style=\"text-align: right;\">\n",
       "      <th></th>\n",
       "      <th>Unnamed: 0</th>\n",
       "      <th>Name</th>\n",
       "      <th>Price</th>\n",
       "      <th>Location</th>\n",
       "      <th>Running</th>\n",
       "      <th>Owner</th>\n",
       "    </tr>\n",
       "  </thead>\n",
       "  <tbody>\n",
       "    <tr>\n",
       "      <th>0</th>\n",
       "      <td>0</td>\n",
       "      <td>TVS Star City Plus Dual Tone 110cc 2018</td>\n",
       "      <td>35,000</td>\n",
       "      <td>Ahmedabad</td>\n",
       "      <td>17,654 Km</td>\n",
       "      <td>First Owner</td>\n",
       "    </tr>\n",
       "    <tr>\n",
       "      <th>1</th>\n",
       "      <td>1</td>\n",
       "      <td>Royal Enfield Classic 350cc 2017</td>\n",
       "      <td>1,19,900</td>\n",
       "      <td>Delhi</td>\n",
       "      <td>11,000 Km</td>\n",
       "      <td>First Owner</td>\n",
       "    </tr>\n",
       "    <tr>\n",
       "      <th>2</th>\n",
       "      <td>2</td>\n",
       "      <td>Triumph Daytona 675R 2013</td>\n",
       "      <td>6,00,000</td>\n",
       "      <td>Delhi</td>\n",
       "      <td>110 Km</td>\n",
       "      <td>First Owner</td>\n",
       "    </tr>\n",
       "    <tr>\n",
       "      <th>3</th>\n",
       "      <td>3</td>\n",
       "      <td>TVS Apache RTR 180cc 2017</td>\n",
       "      <td>65,000</td>\n",
       "      <td>Bangalore</td>\n",
       "      <td>16,329 Km</td>\n",
       "      <td>First Owner</td>\n",
       "    </tr>\n",
       "    <tr>\n",
       "      <th>4</th>\n",
       "      <td>4</td>\n",
       "      <td>Yamaha FZ S V 2.0 150cc-Ltd. Edition 2018</td>\n",
       "      <td>80,000</td>\n",
       "      <td>Bangalore</td>\n",
       "      <td>10,000 Km</td>\n",
       "      <td>First Owner</td>\n",
       "    </tr>\n",
       "    <tr>\n",
       "      <th>...</th>\n",
       "      <td>...</td>\n",
       "      <td>...</td>\n",
       "      <td>...</td>\n",
       "      <td>...</td>\n",
       "      <td>...</td>\n",
       "      <td>...</td>\n",
       "    </tr>\n",
       "    <tr>\n",
       "      <th>34495</th>\n",
       "      <td>34495</td>\n",
       "      <td>Hero Passion Pro 100cc 2017</td>\n",
       "      <td>39,000</td>\n",
       "      <td>Delhi</td>\n",
       "      <td>22,000 Km</td>\n",
       "      <td>First Owner</td>\n",
       "    </tr>\n",
       "    <tr>\n",
       "      <th>34496</th>\n",
       "      <td>34496</td>\n",
       "      <td>TVS Apache RTR 180cc 2012</td>\n",
       "      <td>30,000</td>\n",
       "      <td>Karnal</td>\n",
       "      <td>6,639 Km</td>\n",
       "      <td>First Owner</td>\n",
       "    </tr>\n",
       "    <tr>\n",
       "      <th>34497</th>\n",
       "      <td>34497</td>\n",
       "      <td>Bajaj Avenger Street 220 2015</td>\n",
       "      <td>60,000</td>\n",
       "      <td>Delhi</td>\n",
       "      <td>20,373 Km</td>\n",
       "      <td>First Owner</td>\n",
       "    </tr>\n",
       "    <tr>\n",
       "      <th>34498</th>\n",
       "      <td>34498</td>\n",
       "      <td>Hero Super Splendor 125cc 2005</td>\n",
       "      <td>15,600</td>\n",
       "      <td>Jaipur</td>\n",
       "      <td>84,186 Km</td>\n",
       "      <td>First Owner</td>\n",
       "    </tr>\n",
       "    <tr>\n",
       "      <th>34499</th>\n",
       "      <td>34499</td>\n",
       "      <td>Bajaj Pulsar 150cc 2008</td>\n",
       "      <td>22,000</td>\n",
       "      <td>Pune</td>\n",
       "      <td>60,857 Km</td>\n",
       "      <td>First Owner</td>\n",
       "    </tr>\n",
       "  </tbody>\n",
       "</table>\n",
       "<p>34500 rows × 6 columns</p>\n",
       "</div>"
      ],
      "text/plain": [
       "       Unnamed: 0                                       Name     Price  \\\n",
       "0               0    TVS Star City Plus Dual Tone 110cc 2018    35,000   \n",
       "1               1           Royal Enfield Classic 350cc 2017  1,19,900   \n",
       "2               2                  Triumph Daytona 675R 2013  6,00,000   \n",
       "3               3                  TVS Apache RTR 180cc 2017    65,000   \n",
       "4               4  Yamaha FZ S V 2.0 150cc-Ltd. Edition 2018    80,000   \n",
       "...           ...                                        ...       ...   \n",
       "34495       34495                Hero Passion Pro 100cc 2017    39,000   \n",
       "34496       34496                  TVS Apache RTR 180cc 2012    30,000   \n",
       "34497       34497              Bajaj Avenger Street 220 2015    60,000   \n",
       "34498       34498             Hero Super Splendor 125cc 2005    15,600   \n",
       "34499       34499                    Bajaj Pulsar 150cc 2008    22,000   \n",
       "\n",
       "        Location    Running        Owner  \n",
       "0      Ahmedabad  17,654 Km  First Owner  \n",
       "1          Delhi  11,000 Km  First Owner  \n",
       "2          Delhi     110 Km  First Owner  \n",
       "3      Bangalore  16,329 Km  First Owner  \n",
       "4      Bangalore  10,000 Km  First Owner  \n",
       "...          ...        ...          ...  \n",
       "34495      Delhi  22,000 Km  First Owner  \n",
       "34496     Karnal   6,639 Km  First Owner  \n",
       "34497      Delhi  20,373 Km  First Owner  \n",
       "34498     Jaipur  84,186 Km  First Owner  \n",
       "34499       Pune  60,857 Km  First Owner  \n",
       "\n",
       "[34500 rows x 6 columns]"
      ]
     },
     "execution_count": 356,
     "metadata": {},
     "output_type": "execute_result"
    }
   ],
   "source": [
    "df"
   ]
  },
  {
   "cell_type": "code",
   "execution_count": 358,
   "id": "a8407e83",
   "metadata": {},
   "outputs": [
    {
     "data": {
      "text/plain": [
       "0      35,000\n",
       "1    1,19,900\n",
       "2    6,00,000\n",
       "3      65,000\n",
       "4      80,000\n",
       "5      53,499\n",
       "6      85,000\n",
       "7      45,000\n",
       "8    1,45,000\n",
       "9      88,000\n",
       "Name: Price, dtype: object"
      ]
     },
     "execution_count": 358,
     "metadata": {},
     "output_type": "execute_result"
    }
   ],
   "source": [
    "df['Price'].head(10)"
   ]
  },
  {
   "cell_type": "markdown",
   "id": "e8e96f20",
   "metadata": {},
   "source": [
    "# .unique()\n",
    "\n",
    "in full column only this values is one time only"
   ]
  },
  {
   "cell_type": "code",
   "execution_count": 382,
   "id": "362bc4f3",
   "metadata": {
    "collapsed": true
   },
   "outputs": [
    {
     "data": {
      "text/plain": [
       "array(['Ahmedabad', 'Delhi', 'Bangalore', 'Mumbai', 'Chennai',\n",
       "       'Bhubaneshwar', 'Kalyan', 'Faridabad', 'Mettur', 'Hyderabad',\n",
       "       'Kaithal', 'Gurgaon', 'Pune', 'Noida', 'Nashik', 'Kochi',\n",
       "       'Allahabad', 'Samastipur', 'Nadiad', 'Lucknow', 'Chandigarh',\n",
       "       'Jaipur', 'Karnal', 'Gorakhpur', 'Vidisha', 'Hosur', 'Bagalkot',\n",
       "       'Baripara', 'Agra', 'Dharwad', 'Vadodara', 'Ernakulam',\n",
       "       'Jalandhar', 'Surat', 'Navi Mumbai', 'Gandhidham', 'Visakhapatnam',\n",
       "       'Thrissur', 'Kolkata', 'Barasat', 'Ghaziabad', 'Amritsar',\n",
       "       'Bhopal', 'Hamirpur(hp)', 'Kottayam', 'Arrah', 'Patiala',\n",
       "       'Ranga Reddy', 'Mandi', 'Gwalior', 'Ludhiana', 'Mandya',\n",
       "       'Siliguri', 'Aurangabad', 'Kanpur', 'Bhilwara', 'Korba', 'Meerut',\n",
       "       'Rewari', 'Ahmednagar', 'Wardha', 'Ranchi', 'Coimbatore', 'Panvel',\n",
       "       'Thane', 'Jabalpur', 'Kota', 'Rohtak', 'Rajkot', 'Haridwar',\n",
       "       'Varanasi', '24 Pargana', 'Banka', 'Nagpur', 'Banki', 'Pali',\n",
       "       'Chhatarpur', 'Katihar', 'Mohali', 'Rudrapur', 'Jajpur', 'Mysore',\n",
       "       'Adoni', 'Bikaner', 'Malout', 'Jammu', 'Rajnandgaon', 'Unnao',\n",
       "       'Godhara', 'Kolhapur', 'Satara', 'Siwan', 'Dadra & Nagar Haveli',\n",
       "       'Bhiwani', 'Koppal', 'Nizamabad', 'Madurai', 'Ujjain', 'Jagdalpur',\n",
       "       'Palakkad', 'Tiruvallur', 'Panchkula', 'Nanjangud', 'Jhansi',\n",
       "       'Sonipat', 'Puttur', 'Hoshiarpur', 'Gohana', 'Gautam Buddha Nagar',\n",
       "       'Durgapur', 'Palwal', 'Chatrapur', 'Howrah', 'Jind', 'Hubli',\n",
       "       'Panipat', 'Bharatpur', 'Vellore', 'Ambala', 'Guwahati', 'Indore',\n",
       "       'Gangtok', 'Rajahmundry', 'Tiruchirappalli', 'Medak', 'Belgaum',\n",
       "       'Balaghat', 'Jatani', 'Asansol', 'Bilaspur', 'Thanjavur',\n",
       "       'Raigarh(mh)', 'Mandi Dabwali', 'Basti', 'Bolpur', 'Aligarh',\n",
       "       'Balrampur', 'Ratnagiri', 'Muktsar', 'Baran', 'Haldwani',\n",
       "       'Thiruvananthapuram', 'Buxar', 'Chaksu', 'Bharuch', 'Muvattupuzha',\n",
       "       'Patna', 'Simdega', 'Singhbhum', 'Bardhaman', 'Pathankot',\n",
       "       'Kharar', 'Silchar', 'Jhalawar', 'Roorkee', 'Saharanpur',\n",
       "       'Solapur', 'Alibag', 'Maradu', 'Katni', 'Khedbrahma', 'Valsad',\n",
       "       'Satna', 'Hooghly', 'Gurdaspur', 'Dadri', 'Amravati', 'Durg',\n",
       "       'Mehsana', 'Lansdowne', 'Cuttack', 'Jaisalmer', 'Hanumangarh',\n",
       "       'Dungarpur', 'Sri Ganganagar', 'Raipur', 'Margao', 'Chinsurah',\n",
       "       'Bhatinda', 'Sibsagar', 'Khalilabad', 'Dehradun', 'Anand',\n",
       "       'Sambalpur', 'Ankleshwar', 'Purnia', 'Tiruverkadu', 'Bahadurgarh',\n",
       "       'Udaipur', 'Raipur Rani', 'Jodhpur', 'Sheikhpura', 'Lalsot',\n",
       "       'Pondicherry', 'Sirsa', 'Godavari', 'Ajmer', 'Moradabad',\n",
       "       'Navsari', 'Herbertpur', 'Jamshedpur', 'Ramanagar', 'Berhampur',\n",
       "       'Vijayawada', 'Murad Nagar', 'Chandrapur', 'Jamtara',\n",
       "       'Uppidamangalam', 'Nalagarh', 'Una', 'Chakan', 'Idukki',\n",
       "       'Shivpuri', 'Arkalgud', 'Bidar', 'Rupnagar', 'Almora', 'Deoghar',\n",
       "       'Kanchipuram', 'Vapi', 'Kasargode', 'Dhanbad', 'Dakshina Kannada',\n",
       "       'Dayalbagh', 'Ganaur', 'Jamalpur', 'Amraoti', 'Mangalore',\n",
       "       'Deolali', 'Gandhinagar', 'Chitradurga', 'Chinchwad', nan,\n",
       "       'Surendranagar', 'Jhajjar', 'Alwar', 'Ranoli', 'Raiwala', 'Guntur',\n",
       "       'Badarpur', 'Adalaj', 'Alipore', 'Bhawani Mandi', 'Mughalsarai',\n",
       "       'Kollam', 'Medinipur', 'Farukhabad', 'Thiruvallur', 'Udaipurwati',\n",
       "       'Rasra', 'Latur', 'Krishna', 'Gangaikondan', 'Warangal',\n",
       "       'Uluberia', 'Bulandshahr', 'Mahesana', 'Poonamallee', 'Morena',\n",
       "       'Nagaon', 'Hissar', 'Kanyakumari', 'Morbi', 'Jalgaon', 'Bankura',\n",
       "       'Virar', 'Akola', 'Tikamgarh', 'Sultanpur', 'Ferozepur',\n",
       "       'Tirunelveli', 'Bihar Shariff', 'Goa-panaji', 'Risod', 'Vastral',\n",
       "       'Doiwala', 'Ganganagar', 'Kolar', 'Bahadurpur', 'Batala',\n",
       "       'Budhlada', 'Dohad', 'Puri', 'Etwah', 'Muzaffarnagar', 'Panaji',\n",
       "       'Adyar', 'Calicut', 'Raigarh', 'Sonepat', 'Chikkaballapur',\n",
       "       'Kasba', 'Burdwan', 'Anjar', 'Marandahalli', 'Badaun', 'Namakkal',\n",
       "       'Idar', 'Uran', 'Hingoli', 'Hathras', 'Khandela', 'Kullu',\n",
       "       'Mohammadabad', 'Sangareddy', 'Ghazipur', 'Shimla', 'Azamgarh',\n",
       "       'Lonavala', 'Chenani', 'Kanpur Nagar', 'Trivandrum',\n",
       "       'Secunderabad', 'Tasgaon', 'Kurukshetra', 'Dhariawad', 'Dhenkanal',\n",
       "       'Bargarh', 'Gadarpur', 'Chikamaglur', 'Karim Nagar', 'Kotdwar',\n",
       "       'Jalaun', 'Parola', 'Bareilly', 'Salem', 'Indi', 'Muzaffarpur',\n",
       "       'Nayagarh', 'Bhavnagar', 'Firozabad', 'Ambikapur', 'Udupi',\n",
       "       'Junagadh', 'Dibrugarh', 'Faridkot', 'Naraingarh', 'Karwar',\n",
       "       'Mirzapur', 'Sant Kabir Nagar', 'Viramgam', 'Manali', 'Gadwal',\n",
       "       'Honavar', 'Mathura', 'Khandwa', 'Solan', 'Dharmapuri', 'Sitapur',\n",
       "       'Krishnagar', 'Betul', 'Anantapur', 'Sholapur', 'Pinjore',\n",
       "       'Qadian', 'Sangrur', 'Jorhat', 'Palanpur', 'Narnaul', 'Palamu',\n",
       "       'Kiratpur', 'Falakata', 'Porbandar', 'Nagaur', 'Dwarka', 'Rangpo',\n",
       "       'Dewas', 'Cannanore (kannur)', 'Churu', 'Hazipur', 'Kordha',\n",
       "       'Baghpat', 'Jhumri Tilaiya', 'Bhagalpur', 'Naihati',\n",
       "       'Virudhunagar', 'Dharmavaram', 'Mahboobnagar', 'Darbhanga',\n",
       "       'Nawanshahr', 'Hamirpur', 'Adilabad', 'Sangli', 'Suri',\n",
       "       'Yamuna Nagar', 'Vasai', 'Aluva', 'Sirsi', 'Bijapur', 'Bhiwadi',\n",
       "       'Bellary', 'Erode', 'Aquem', 'Nellore', 'Udhampur', 'Dhamtari',\n",
       "       'Kapurthala', 'Vandalur', 'Sakti', 'Jamui', 'Bhiwandi', 'Motihari',\n",
       "       'Dharwar', 'Shimoga', 'Jhunjhunu', 'Bijnor', 'Sindri',\n",
       "       'Yemmiganur', 'Bokaro', 'Kurnool', 'Srinagar', 'Ranip',\n",
       "       'Davanagere', 'Gonda', 'Rajouri', 'Begusarai', 'Barwani',\n",
       "       'Goregaon', 'Bally', 'Kachchh', 'Anekal', 'Bhuj', 'Mansa', 'Pen',\n",
       "       'Nanded', 'Dharamasala', 'Chhindwara', 'Jamnagar', 'Zirakpur',\n",
       "       'Abohar', 'Barabanki', 'Nabha', 'Kadapa', 'Perumbavoor',\n",
       "       'Sundargarh', 'Nazira', 'Pratapgarh', 'Thangadh', 'Sikar',\n",
       "       'Vizianagaram', 'Kathua', 'Berhampore', 'Kadipur', 'Deesa',\n",
       "       'Tiruppur', 'Gadchiroli', 'Gangaghat', 'Phagwara', 'Kheda',\n",
       "       'Swaimadhopur', 'Akbarpur', 'Kharagpur', 'Jobner', 'Gondia',\n",
       "       'Bundi', 'Dongargaon', 'Mubarakpur', 'Chail', 'Tumkur', 'Sanand',\n",
       "       'Kartarpur', 'Farrukhabad', 'Kadi', 'Seppa', 'Challakere',\n",
       "       'Dhubri', 'Deoria', 'Akot', 'Meenachil', 'Alappuzha', 'Shillong',\n",
       "       'Osmanabad', 'Kanakapura', 'Kendua', 'Jaunpur', 'Hisar', 'Bodhan',\n",
       "       'Bhubaneswar', 'Raiganj', 'Bhilai Nagar', 'Baloda', 'Anantnag',\n",
       "       'Silvasa', 'Hospet', 'Palai', 'Sidhi'], dtype=object)"
      ]
     },
     "execution_count": 382,
     "metadata": {},
     "output_type": "execute_result"
    }
   ],
   "source": [
    "df['Location'].unique()"
   ]
  },
  {
   "cell_type": "markdown",
   "id": "a97a8511",
   "metadata": {},
   "source": [
    "# ______over_____\n"
   ]
  },
  {
   "cell_type": "code",
   "execution_count": null,
   "id": "a9b82d87",
   "metadata": {},
   "outputs": [],
   "source": []
  },
  {
   "cell_type": "code",
   "execution_count": null,
   "id": "428777ec",
   "metadata": {},
   "outputs": [],
   "source": []
  },
  {
   "cell_type": "code",
   "execution_count": null,
   "id": "a6ca86d7",
   "metadata": {},
   "outputs": [],
   "source": []
  },
  {
   "cell_type": "code",
   "execution_count": null,
   "id": "fff01215",
   "metadata": {},
   "outputs": [],
   "source": []
  },
  {
   "cell_type": "code",
   "execution_count": null,
   "id": "561b743d",
   "metadata": {},
   "outputs": [],
   "source": []
  },
  {
   "cell_type": "code",
   "execution_count": null,
   "id": "e5b9dca7",
   "metadata": {},
   "outputs": [],
   "source": []
  },
  {
   "cell_type": "code",
   "execution_count": null,
   "id": "bd4c2b6d",
   "metadata": {},
   "outputs": [],
   "source": []
  },
  {
   "cell_type": "code",
   "execution_count": null,
   "id": "4b059a44",
   "metadata": {},
   "outputs": [],
   "source": []
  },
  {
   "cell_type": "markdown",
   "id": "9a627080",
   "metadata": {},
   "source": [
    "# NUMBER OF COLUMN AND ROWS"
   ]
  },
  {
   "cell_type": "code",
   "execution_count": 8,
   "id": "ce982fe7",
   "metadata": {
    "scrolled": true
   },
   "outputs": [
    {
     "data": {
      "text/plain": [
       "(34500, 6)"
      ]
     },
     "execution_count": 8,
     "metadata": {},
     "output_type": "execute_result"
    }
   ],
   "source": [
    "df.shape             # number of rows and column"
   ]
  },
  {
   "cell_type": "markdown",
   "id": "84d4a8a0",
   "metadata": {},
   "source": [
    "# To find datatype in dataframe"
   ]
  },
  {
   "cell_type": "code",
   "execution_count": 90,
   "id": "e6ae87b4",
   "metadata": {},
   "outputs": [
    {
     "name": "stdout",
     "output_type": "stream",
     "text": [
      "<class 'pandas.core.frame.DataFrame'>\n",
      "RangeIndex: 34500 entries, 0 to 34499\n",
      "Data columns (total 6 columns):\n",
      " #   Column      Non-Null Count  Dtype \n",
      "---  ------      --------------  ----- \n",
      " 0   Unnamed: 0  34500 non-null  int64 \n",
      " 1   Name        34500 non-null  object\n",
      " 2   Price       34500 non-null  object\n",
      " 3   Location    34492 non-null  object\n",
      " 4   Running     34473 non-null  object\n",
      " 5   Owner       32974 non-null  object\n",
      "dtypes: int64(1), object(5)\n",
      "memory usage: 1.6+ MB\n"
     ]
    }
   ],
   "source": [
    "df.info()"
   ]
  },
  {
   "cell_type": "markdown",
   "id": "727d06a6",
   "metadata": {},
   "source": [
    "# How to find No of columns and rows"
   ]
  },
  {
   "cell_type": "code",
   "execution_count": 44,
   "id": "05fe909c",
   "metadata": {},
   "outputs": [],
   "source": [
    "# pd.set_option('display.max_columns' , 56 )\n",
    "# pd.set_option('display.max_rows' , 56 )"
   ]
  },
  {
   "cell_type": "markdown",
   "id": "dac6465f",
   "metadata": {},
   "source": [
    "# HOW WE GET ROWS"
   ]
  },
  {
   "cell_type": "code",
   "execution_count": 41,
   "id": "c20d9e07",
   "metadata": {
    "collapsed": true
   },
   "outputs": [
    {
     "data": {
      "text/html": [
       "<div>\n",
       "<style scoped>\n",
       "    .dataframe tbody tr th:only-of-type {\n",
       "        vertical-align: middle;\n",
       "    }\n",
       "\n",
       "    .dataframe tbody tr th {\n",
       "        vertical-align: top;\n",
       "    }\n",
       "\n",
       "    .dataframe thead th {\n",
       "        text-align: right;\n",
       "    }\n",
       "</style>\n",
       "<table border=\"1\" class=\"dataframe\">\n",
       "  <thead>\n",
       "    <tr style=\"text-align: right;\">\n",
       "      <th></th>\n",
       "      <th>Unnamed: 0</th>\n",
       "      <th>Name</th>\n",
       "      <th>Price</th>\n",
       "      <th>Location</th>\n",
       "      <th>Running</th>\n",
       "      <th>Owner</th>\n",
       "    </tr>\n",
       "  </thead>\n",
       "  <tbody>\n",
       "    <tr>\n",
       "      <th>0</th>\n",
       "      <td>0</td>\n",
       "      <td>TVS Star City Plus Dual Tone 110cc 2018</td>\n",
       "      <td>35,000</td>\n",
       "      <td>Ahmedabad</td>\n",
       "      <td>17,654 Km</td>\n",
       "      <td>First Owner</td>\n",
       "    </tr>\n",
       "    <tr>\n",
       "      <th>1</th>\n",
       "      <td>1</td>\n",
       "      <td>Royal Enfield Classic 350cc 2017</td>\n",
       "      <td>1,19,900</td>\n",
       "      <td>Delhi</td>\n",
       "      <td>11,000 Km</td>\n",
       "      <td>First Owner</td>\n",
       "    </tr>\n",
       "    <tr>\n",
       "      <th>2</th>\n",
       "      <td>2</td>\n",
       "      <td>Triumph Daytona 675R 2013</td>\n",
       "      <td>6,00,000</td>\n",
       "      <td>Delhi</td>\n",
       "      <td>110 Km</td>\n",
       "      <td>First Owner</td>\n",
       "    </tr>\n",
       "    <tr>\n",
       "      <th>3</th>\n",
       "      <td>3</td>\n",
       "      <td>TVS Apache RTR 180cc 2017</td>\n",
       "      <td>65,000</td>\n",
       "      <td>Bangalore</td>\n",
       "      <td>16,329 Km</td>\n",
       "      <td>First Owner</td>\n",
       "    </tr>\n",
       "    <tr>\n",
       "      <th>4</th>\n",
       "      <td>4</td>\n",
       "      <td>Yamaha FZ S V 2.0 150cc-Ltd. Edition 2018</td>\n",
       "      <td>80,000</td>\n",
       "      <td>Bangalore</td>\n",
       "      <td>10,000 Km</td>\n",
       "      <td>First Owner</td>\n",
       "    </tr>\n",
       "    <tr>\n",
       "      <th>5</th>\n",
       "      <td>5</td>\n",
       "      <td>Yamaha FZs 150cc 2015</td>\n",
       "      <td>53,499</td>\n",
       "      <td>Delhi</td>\n",
       "      <td>25,000 Km</td>\n",
       "      <td>First Owner</td>\n",
       "    </tr>\n",
       "    <tr>\n",
       "      <th>6</th>\n",
       "      <td>6</td>\n",
       "      <td>Honda CB Hornet 160R  ABS DLX 2018</td>\n",
       "      <td>85,000</td>\n",
       "      <td>Delhi</td>\n",
       "      <td>8,200 Km</td>\n",
       "      <td>First Owner</td>\n",
       "    </tr>\n",
       "    <tr>\n",
       "      <th>7</th>\n",
       "      <td>7</td>\n",
       "      <td>Hero Splendor Plus Self Alloy 100cc 2018</td>\n",
       "      <td>45,000</td>\n",
       "      <td>Delhi</td>\n",
       "      <td>12,645 Km</td>\n",
       "      <td>First Owner</td>\n",
       "    </tr>\n",
       "    <tr>\n",
       "      <th>8</th>\n",
       "      <td>8</td>\n",
       "      <td>Royal Enfield Thunderbird X 350cc 2018</td>\n",
       "      <td>1,45,000</td>\n",
       "      <td>Bangalore</td>\n",
       "      <td>9,190 Km</td>\n",
       "      <td>First Owner</td>\n",
       "    </tr>\n",
       "    <tr>\n",
       "      <th>9</th>\n",
       "      <td>9</td>\n",
       "      <td>Royal Enfield Classic Desert Storm 500cc 2014</td>\n",
       "      <td>88,000</td>\n",
       "      <td>Delhi</td>\n",
       "      <td>19,000 Km</td>\n",
       "      <td>Second Owner</td>\n",
       "    </tr>\n",
       "    <tr>\n",
       "      <th>10</th>\n",
       "      <td>10</td>\n",
       "      <td>Yamaha YZF-R15 2.0 150cc 2014</td>\n",
       "      <td>72,000</td>\n",
       "      <td>Bangalore</td>\n",
       "      <td>20,000 Km</td>\n",
       "      <td>First Owner</td>\n",
       "    </tr>\n",
       "    <tr>\n",
       "      <th>11</th>\n",
       "      <td>11</td>\n",
       "      <td>Yamaha FZ25 250cc 2017</td>\n",
       "      <td>95,000</td>\n",
       "      <td>Bangalore</td>\n",
       "      <td>9,665 Km</td>\n",
       "      <td>First Owner</td>\n",
       "    </tr>\n",
       "    <tr>\n",
       "      <th>12</th>\n",
       "      <td>12</td>\n",
       "      <td>Bajaj Pulsar NS200 2017</td>\n",
       "      <td>78,000</td>\n",
       "      <td>Bangalore</td>\n",
       "      <td>9,900 Km</td>\n",
       "      <td>First Owner</td>\n",
       "    </tr>\n",
       "    <tr>\n",
       "      <th>13</th>\n",
       "      <td>13</td>\n",
       "      <td>Bajaj Discover 100M 2013</td>\n",
       "      <td>29,499</td>\n",
       "      <td>Delhi</td>\n",
       "      <td>20,000 Km</td>\n",
       "      <td>First Owner</td>\n",
       "    </tr>\n",
       "    <tr>\n",
       "      <th>14</th>\n",
       "      <td>14</td>\n",
       "      <td>Bajaj Discover 125M 2014</td>\n",
       "      <td>29,900</td>\n",
       "      <td>Delhi</td>\n",
       "      <td>20,000 Km</td>\n",
       "      <td>First Owner</td>\n",
       "    </tr>\n",
       "    <tr>\n",
       "      <th>15</th>\n",
       "      <td>15</td>\n",
       "      <td>Bajaj Pulsar NS200 ABS 2018</td>\n",
       "      <td>90,000</td>\n",
       "      <td>Bangalore</td>\n",
       "      <td>11,574 Km</td>\n",
       "      <td>First Owner</td>\n",
       "    </tr>\n",
       "    <tr>\n",
       "      <th>16</th>\n",
       "      <td>16</td>\n",
       "      <td>Bajaj Pulsar RS200 ABS 2018</td>\n",
       "      <td>1,20,000</td>\n",
       "      <td>Bangalore</td>\n",
       "      <td>23,000 Km</td>\n",
       "      <td>First Owner</td>\n",
       "    </tr>\n",
       "    <tr>\n",
       "      <th>17</th>\n",
       "      <td>17</td>\n",
       "      <td>Suzuki Gixxer SF 150cc 2016</td>\n",
       "      <td>48,000</td>\n",
       "      <td>Mumbai</td>\n",
       "      <td>24,725 Km</td>\n",
       "      <td>First Owner</td>\n",
       "    </tr>\n",
       "    <tr>\n",
       "      <th>18</th>\n",
       "      <td>18</td>\n",
       "      <td>Aprilia Tuono V4 1100 RR 2018</td>\n",
       "      <td>5,00,000</td>\n",
       "      <td>Chennai</td>\n",
       "      <td>100 Km</td>\n",
       "      <td>First Owner</td>\n",
       "    </tr>\n",
       "    <tr>\n",
       "      <th>19</th>\n",
       "      <td>19</td>\n",
       "      <td>Benelli 302R 300CC 2018</td>\n",
       "      <td>2,40,000</td>\n",
       "      <td>Mumbai</td>\n",
       "      <td>15,025 Km</td>\n",
       "      <td>Second Owner</td>\n",
       "    </tr>\n",
       "    <tr>\n",
       "      <th>20</th>\n",
       "      <td>20</td>\n",
       "      <td>Bajaj Discover 125M 2014</td>\n",
       "      <td>29,900</td>\n",
       "      <td>Delhi</td>\n",
       "      <td>20,000 Km</td>\n",
       "      <td>First Owner</td>\n",
       "    </tr>\n",
       "    <tr>\n",
       "      <th>21</th>\n",
       "      <td>21</td>\n",
       "      <td>Bajaj Pulsar RS200 ABS 2018</td>\n",
       "      <td>1,20,000</td>\n",
       "      <td>Bangalore</td>\n",
       "      <td>23,000 Km</td>\n",
       "      <td>First Owner</td>\n",
       "    </tr>\n",
       "    <tr>\n",
       "      <th>22</th>\n",
       "      <td>22</td>\n",
       "      <td>Suzuki Gixxer SF 150cc 2016</td>\n",
       "      <td>48,000</td>\n",
       "      <td>Mumbai</td>\n",
       "      <td>24,725 Km</td>\n",
       "      <td>First Owner</td>\n",
       "    </tr>\n",
       "    <tr>\n",
       "      <th>23</th>\n",
       "      <td>23</td>\n",
       "      <td>Aprilia Tuono V4 1100 RR 2018</td>\n",
       "      <td>5,00,000</td>\n",
       "      <td>Chennai</td>\n",
       "      <td>100 Km</td>\n",
       "      <td>First Owner</td>\n",
       "    </tr>\n",
       "    <tr>\n",
       "      <th>24</th>\n",
       "      <td>24</td>\n",
       "      <td>UM Renegade Commando 2017</td>\n",
       "      <td>1,20,000</td>\n",
       "      <td>Bhubaneshwar</td>\n",
       "      <td>7,300 Km</td>\n",
       "      <td>First Owner</td>\n",
       "    </tr>\n",
       "    <tr>\n",
       "      <th>25</th>\n",
       "      <td>25</td>\n",
       "      <td>Hero Splendor iSmart Plus IBS 110cc 2019</td>\n",
       "      <td>46,500</td>\n",
       "      <td>Delhi</td>\n",
       "      <td>3,500 Km</td>\n",
       "      <td>First Owner</td>\n",
       "    </tr>\n",
       "    <tr>\n",
       "      <th>26</th>\n",
       "      <td>26</td>\n",
       "      <td>Royal Enfield Classic Chrome 500cc 2016</td>\n",
       "      <td>1,21,700</td>\n",
       "      <td>Kalyan</td>\n",
       "      <td>24,520 Km</td>\n",
       "      <td>First Owner</td>\n",
       "    </tr>\n",
       "    <tr>\n",
       "      <th>27</th>\n",
       "      <td>27</td>\n",
       "      <td>Yamaha FZ V 2.0 150cc 2015</td>\n",
       "      <td>45,000</td>\n",
       "      <td>Delhi</td>\n",
       "      <td>23,000 Km</td>\n",
       "      <td>First Owner</td>\n",
       "    </tr>\n",
       "    <tr>\n",
       "      <th>28</th>\n",
       "      <td>28</td>\n",
       "      <td>Bajaj Pulsar NS200 2017</td>\n",
       "      <td>78,000</td>\n",
       "      <td>Bangalore</td>\n",
       "      <td>9,900 Km</td>\n",
       "      <td>First Owner</td>\n",
       "    </tr>\n",
       "    <tr>\n",
       "      <th>29</th>\n",
       "      <td>29</td>\n",
       "      <td>Hero Super Splendor 125cc 2005</td>\n",
       "      <td>20,000</td>\n",
       "      <td>Ahmedabad</td>\n",
       "      <td>29,305 Km</td>\n",
       "      <td>First Owner</td>\n",
       "    </tr>\n",
       "    <tr>\n",
       "      <th>30</th>\n",
       "      <td>30</td>\n",
       "      <td>Honda CBF Stunner 125cc 2014</td>\n",
       "      <td>20,800</td>\n",
       "      <td>Faridabad</td>\n",
       "      <td>30,500 Km</td>\n",
       "      <td>Second Owner</td>\n",
       "    </tr>\n",
       "    <tr>\n",
       "      <th>31</th>\n",
       "      <td>31</td>\n",
       "      <td>Bajaj Pulsar 150cc 2013</td>\n",
       "      <td>50,000</td>\n",
       "      <td>Bangalore</td>\n",
       "      <td>19,000 Km</td>\n",
       "      <td>First Owner</td>\n",
       "    </tr>\n",
       "    <tr>\n",
       "      <th>32</th>\n",
       "      <td>32</td>\n",
       "      <td>Honda X-Blade 160CC ABS 2019</td>\n",
       "      <td>81,200</td>\n",
       "      <td>Mettur</td>\n",
       "      <td>9,100 Km</td>\n",
       "      <td>First Owner</td>\n",
       "    </tr>\n",
       "    <tr>\n",
       "      <th>33</th>\n",
       "      <td>33</td>\n",
       "      <td>Bajaj Pulsar NS200 2018</td>\n",
       "      <td>88,000</td>\n",
       "      <td>Hyderabad</td>\n",
       "      <td>21,914 Km</td>\n",
       "      <td>First Owner</td>\n",
       "    </tr>\n",
       "    <tr>\n",
       "      <th>34</th>\n",
       "      <td>34</td>\n",
       "      <td>Yamaha YZF-R15 2.0 150cc 2017</td>\n",
       "      <td>80,000</td>\n",
       "      <td>Kaithal</td>\n",
       "      <td>20,000 Km</td>\n",
       "      <td>Second Owner</td>\n",
       "    </tr>\n",
       "    <tr>\n",
       "      <th>35</th>\n",
       "      <td>35</td>\n",
       "      <td>UM Renegade Commando 2018</td>\n",
       "      <td>1,60,000</td>\n",
       "      <td>Bangalore</td>\n",
       "      <td>4,000 Km</td>\n",
       "      <td>First Owner</td>\n",
       "    </tr>\n",
       "    <tr>\n",
       "      <th>36</th>\n",
       "      <td>36</td>\n",
       "      <td>Bajaj Avenger 220cc 2015</td>\n",
       "      <td>40,900</td>\n",
       "      <td>Gurgaon</td>\n",
       "      <td>15,000 Km</td>\n",
       "      <td>First Owner</td>\n",
       "    </tr>\n",
       "    <tr>\n",
       "      <th>37</th>\n",
       "      <td>37</td>\n",
       "      <td>KTM RC 390cc 2017</td>\n",
       "      <td>1,80,000</td>\n",
       "      <td>Pune</td>\n",
       "      <td>17,700 Km</td>\n",
       "      <td>First Owner</td>\n",
       "    </tr>\n",
       "    <tr>\n",
       "      <th>38</th>\n",
       "      <td>38</td>\n",
       "      <td>Honda CB Unicorn 150cc 2013</td>\n",
       "      <td>40,000</td>\n",
       "      <td>Noida</td>\n",
       "      <td>30,000 Km</td>\n",
       "      <td>First Owner</td>\n",
       "    </tr>\n",
       "    <tr>\n",
       "      <th>39</th>\n",
       "      <td>39</td>\n",
       "      <td>KTM Duke 200cc 2013</td>\n",
       "      <td>70,000</td>\n",
       "      <td>Nashik</td>\n",
       "      <td>1,00,000 Km</td>\n",
       "      <td>Second Owner</td>\n",
       "    </tr>\n",
       "    <tr>\n",
       "      <th>40</th>\n",
       "      <td>40</td>\n",
       "      <td>Royal Enfield Classic 350cc 2016</td>\n",
       "      <td>98,800</td>\n",
       "      <td>Kochi</td>\n",
       "      <td>39,000 Km</td>\n",
       "      <td>First Owner</td>\n",
       "    </tr>\n",
       "    <tr>\n",
       "      <th>41</th>\n",
       "      <td>41</td>\n",
       "      <td>Honda CBR 150R 150cc 2015</td>\n",
       "      <td>65,000</td>\n",
       "      <td>Allahabad</td>\n",
       "      <td>43,000 Km</td>\n",
       "      <td>First Owner</td>\n",
       "    </tr>\n",
       "    <tr>\n",
       "      <th>42</th>\n",
       "      <td>42</td>\n",
       "      <td>Royal Enfield Thunderbird X 500cc 2019</td>\n",
       "      <td>1,90,500</td>\n",
       "      <td>Samastipur</td>\n",
       "      <td>4,550 Km</td>\n",
       "      <td>First Owner</td>\n",
       "    </tr>\n",
       "    <tr>\n",
       "      <th>43</th>\n",
       "      <td>43</td>\n",
       "      <td>KTM RC 200cc ABS 2019</td>\n",
       "      <td>1,79,000</td>\n",
       "      <td>Bangalore</td>\n",
       "      <td>3,400 Km</td>\n",
       "      <td>First Owner</td>\n",
       "    </tr>\n",
       "    <tr>\n",
       "      <th>44</th>\n",
       "      <td>44</td>\n",
       "      <td>Royal Enfield Thunderbird 350cc 2013</td>\n",
       "      <td>70,000</td>\n",
       "      <td>Nadiad</td>\n",
       "      <td>45,000 Km</td>\n",
       "      <td>First Owner</td>\n",
       "    </tr>\n",
       "    <tr>\n",
       "      <th>45</th>\n",
       "      <td>45</td>\n",
       "      <td>Bajaj Avenger 220cc 2015</td>\n",
       "      <td>45,000</td>\n",
       "      <td>Hyderabad</td>\n",
       "      <td>36,100 Km</td>\n",
       "      <td>First Owner</td>\n",
       "    </tr>\n",
       "    <tr>\n",
       "      <th>46</th>\n",
       "      <td>46</td>\n",
       "      <td>Royal Enfield Bullet Electra 350cc 2008</td>\n",
       "      <td>78,000</td>\n",
       "      <td>Lucknow</td>\n",
       "      <td>8,500 Km</td>\n",
       "      <td>First Owner</td>\n",
       "    </tr>\n",
       "    <tr>\n",
       "      <th>47</th>\n",
       "      <td>47</td>\n",
       "      <td>Bajaj Avenger Street 220 ABS 2019</td>\n",
       "      <td>1,10,000</td>\n",
       "      <td>Bangalore</td>\n",
       "      <td>2,550 Km</td>\n",
       "      <td>First Owner</td>\n",
       "    </tr>\n",
       "    <tr>\n",
       "      <th>48</th>\n",
       "      <td>48</td>\n",
       "      <td>Royal Enfield Classic 350cc 2015</td>\n",
       "      <td>85,000</td>\n",
       "      <td>Delhi</td>\n",
       "      <td>18,000 Km</td>\n",
       "      <td>First Owner</td>\n",
       "    </tr>\n",
       "    <tr>\n",
       "      <th>49</th>\n",
       "      <td>49</td>\n",
       "      <td>Bajaj Pulsar NS200 2012</td>\n",
       "      <td>38,000</td>\n",
       "      <td>Delhi</td>\n",
       "      <td>35,000 Km</td>\n",
       "      <td>First Owner</td>\n",
       "    </tr>\n",
       "  </tbody>\n",
       "</table>\n",
       "</div>"
      ],
      "text/plain": [
       "    Unnamed: 0                                           Name     Price  \\\n",
       "0            0        TVS Star City Plus Dual Tone 110cc 2018    35,000   \n",
       "1            1               Royal Enfield Classic 350cc 2017  1,19,900   \n",
       "2            2                      Triumph Daytona 675R 2013  6,00,000   \n",
       "3            3                      TVS Apache RTR 180cc 2017    65,000   \n",
       "4            4      Yamaha FZ S V 2.0 150cc-Ltd. Edition 2018    80,000   \n",
       "5            5                          Yamaha FZs 150cc 2015    53,499   \n",
       "6            6             Honda CB Hornet 160R  ABS DLX 2018    85,000   \n",
       "7            7       Hero Splendor Plus Self Alloy 100cc 2018    45,000   \n",
       "8            8         Royal Enfield Thunderbird X 350cc 2018  1,45,000   \n",
       "9            9  Royal Enfield Classic Desert Storm 500cc 2014    88,000   \n",
       "10          10                  Yamaha YZF-R15 2.0 150cc 2014    72,000   \n",
       "11          11                         Yamaha FZ25 250cc 2017    95,000   \n",
       "12          12                        Bajaj Pulsar NS200 2017    78,000   \n",
       "13          13                       Bajaj Discover 100M 2013    29,499   \n",
       "14          14                       Bajaj Discover 125M 2014    29,900   \n",
       "15          15                    Bajaj Pulsar NS200 ABS 2018    90,000   \n",
       "16          16                    Bajaj Pulsar RS200 ABS 2018  1,20,000   \n",
       "17          17                    Suzuki Gixxer SF 150cc 2016    48,000   \n",
       "18          18                  Aprilia Tuono V4 1100 RR 2018  5,00,000   \n",
       "19          19                        Benelli 302R 300CC 2018  2,40,000   \n",
       "20          20                       Bajaj Discover 125M 2014    29,900   \n",
       "21          21                    Bajaj Pulsar RS200 ABS 2018  1,20,000   \n",
       "22          22                    Suzuki Gixxer SF 150cc 2016    48,000   \n",
       "23          23                  Aprilia Tuono V4 1100 RR 2018  5,00,000   \n",
       "24          24                      UM Renegade Commando 2017  1,20,000   \n",
       "25          25       Hero Splendor iSmart Plus IBS 110cc 2019    46,500   \n",
       "26          26        Royal Enfield Classic Chrome 500cc 2016  1,21,700   \n",
       "27          27                     Yamaha FZ V 2.0 150cc 2015    45,000   \n",
       "28          28                        Bajaj Pulsar NS200 2017    78,000   \n",
       "29          29                 Hero Super Splendor 125cc 2005    20,000   \n",
       "30          30                   Honda CBF Stunner 125cc 2014    20,800   \n",
       "31          31                        Bajaj Pulsar 150cc 2013    50,000   \n",
       "32          32                   Honda X-Blade 160CC ABS 2019    81,200   \n",
       "33          33                        Bajaj Pulsar NS200 2018    88,000   \n",
       "34          34                  Yamaha YZF-R15 2.0 150cc 2017    80,000   \n",
       "35          35                      UM Renegade Commando 2018  1,60,000   \n",
       "36          36                       Bajaj Avenger 220cc 2015    40,900   \n",
       "37          37                              KTM RC 390cc 2017  1,80,000   \n",
       "38          38                    Honda CB Unicorn 150cc 2013    40,000   \n",
       "39          39                            KTM Duke 200cc 2013    70,000   \n",
       "40          40               Royal Enfield Classic 350cc 2016    98,800   \n",
       "41          41                      Honda CBR 150R 150cc 2015    65,000   \n",
       "42          42         Royal Enfield Thunderbird X 500cc 2019  1,90,500   \n",
       "43          43                          KTM RC 200cc ABS 2019  1,79,000   \n",
       "44          44           Royal Enfield Thunderbird 350cc 2013    70,000   \n",
       "45          45                       Bajaj Avenger 220cc 2015    45,000   \n",
       "46          46        Royal Enfield Bullet Electra 350cc 2008    78,000   \n",
       "47          47              Bajaj Avenger Street 220 ABS 2019  1,10,000   \n",
       "48          48               Royal Enfield Classic 350cc 2015    85,000   \n",
       "49          49                        Bajaj Pulsar NS200 2012    38,000   \n",
       "\n",
       "        Location      Running         Owner  \n",
       "0      Ahmedabad    17,654 Km   First Owner  \n",
       "1          Delhi    11,000 Km   First Owner  \n",
       "2          Delhi       110 Km   First Owner  \n",
       "3      Bangalore    16,329 Km   First Owner  \n",
       "4      Bangalore    10,000 Km   First Owner  \n",
       "5          Delhi    25,000 Km   First Owner  \n",
       "6          Delhi     8,200 Km   First Owner  \n",
       "7          Delhi    12,645 Km   First Owner  \n",
       "8      Bangalore     9,190 Km   First Owner  \n",
       "9          Delhi    19,000 Km  Second Owner  \n",
       "10     Bangalore    20,000 Km   First Owner  \n",
       "11     Bangalore     9,665 Km   First Owner  \n",
       "12     Bangalore     9,900 Km   First Owner  \n",
       "13         Delhi    20,000 Km   First Owner  \n",
       "14         Delhi    20,000 Km   First Owner  \n",
       "15     Bangalore    11,574 Km   First Owner  \n",
       "16     Bangalore    23,000 Km   First Owner  \n",
       "17        Mumbai    24,725 Km   First Owner  \n",
       "18       Chennai       100 Km   First Owner  \n",
       "19        Mumbai    15,025 Km  Second Owner  \n",
       "20         Delhi    20,000 Km   First Owner  \n",
       "21     Bangalore    23,000 Km   First Owner  \n",
       "22        Mumbai    24,725 Km   First Owner  \n",
       "23       Chennai       100 Km   First Owner  \n",
       "24  Bhubaneshwar     7,300 Km   First Owner  \n",
       "25         Delhi     3,500 Km   First Owner  \n",
       "26        Kalyan    24,520 Km   First Owner  \n",
       "27         Delhi    23,000 Km   First Owner  \n",
       "28     Bangalore     9,900 Km   First Owner  \n",
       "29     Ahmedabad    29,305 Km   First Owner  \n",
       "30     Faridabad    30,500 Km  Second Owner  \n",
       "31     Bangalore    19,000 Km   First Owner  \n",
       "32        Mettur     9,100 Km   First Owner  \n",
       "33     Hyderabad    21,914 Km   First Owner  \n",
       "34       Kaithal    20,000 Km  Second Owner  \n",
       "35     Bangalore     4,000 Km   First Owner  \n",
       "36       Gurgaon    15,000 Km   First Owner  \n",
       "37          Pune    17,700 Km   First Owner  \n",
       "38         Noida    30,000 Km   First Owner  \n",
       "39        Nashik  1,00,000 Km  Second Owner  \n",
       "40         Kochi    39,000 Km   First Owner  \n",
       "41     Allahabad    43,000 Km   First Owner  \n",
       "42    Samastipur     4,550 Km   First Owner  \n",
       "43     Bangalore     3,400 Km   First Owner  \n",
       "44        Nadiad    45,000 Km   First Owner  \n",
       "45     Hyderabad    36,100 Km   First Owner  \n",
       "46       Lucknow     8,500 Km   First Owner  \n",
       "47     Bangalore     2,550 Km   First Owner  \n",
       "48         Delhi    18,000 Km   First Owner  \n",
       "49         Delhi    35,000 Km   First Owner  "
      ]
     },
     "execution_count": 41,
     "metadata": {},
     "output_type": "execute_result"
    }
   ],
   "source": [
    "df.head(50)   # first 5 and number you write\n"
   ]
  },
  {
   "cell_type": "code",
   "execution_count": 39,
   "id": "84488bc1",
   "metadata": {
    "collapsed": true
   },
   "outputs": [
    {
     "data": {
      "text/html": [
       "<div>\n",
       "<style scoped>\n",
       "    .dataframe tbody tr th:only-of-type {\n",
       "        vertical-align: middle;\n",
       "    }\n",
       "\n",
       "    .dataframe tbody tr th {\n",
       "        vertical-align: top;\n",
       "    }\n",
       "\n",
       "    .dataframe thead th {\n",
       "        text-align: right;\n",
       "    }\n",
       "</style>\n",
       "<table border=\"1\" class=\"dataframe\">\n",
       "  <thead>\n",
       "    <tr style=\"text-align: right;\">\n",
       "      <th></th>\n",
       "      <th>Unnamed: 0</th>\n",
       "      <th>Name</th>\n",
       "      <th>Price</th>\n",
       "      <th>Location</th>\n",
       "      <th>Running</th>\n",
       "      <th>Owner</th>\n",
       "    </tr>\n",
       "  </thead>\n",
       "  <tbody>\n",
       "    <tr>\n",
       "      <th>34496</th>\n",
       "      <td>34496</td>\n",
       "      <td>TVS Apache RTR 180cc 2012</td>\n",
       "      <td>30,000</td>\n",
       "      <td>Karnal</td>\n",
       "      <td>6,639 Km</td>\n",
       "      <td>First Owner</td>\n",
       "    </tr>\n",
       "    <tr>\n",
       "      <th>34497</th>\n",
       "      <td>34497</td>\n",
       "      <td>Bajaj Avenger Street 220 2015</td>\n",
       "      <td>60,000</td>\n",
       "      <td>Delhi</td>\n",
       "      <td>20,373 Km</td>\n",
       "      <td>First Owner</td>\n",
       "    </tr>\n",
       "    <tr>\n",
       "      <th>34498</th>\n",
       "      <td>34498</td>\n",
       "      <td>Hero Super Splendor 125cc 2005</td>\n",
       "      <td>15,600</td>\n",
       "      <td>Jaipur</td>\n",
       "      <td>84,186 Km</td>\n",
       "      <td>First Owner</td>\n",
       "    </tr>\n",
       "    <tr>\n",
       "      <th>34499</th>\n",
       "      <td>34499</td>\n",
       "      <td>Bajaj Pulsar 150cc 2008</td>\n",
       "      <td>22,000</td>\n",
       "      <td>Pune</td>\n",
       "      <td>60,857 Km</td>\n",
       "      <td>First Owner</td>\n",
       "    </tr>\n",
       "  </tbody>\n",
       "</table>\n",
       "</div>"
      ],
      "text/plain": [
       "       Unnamed: 0                            Name   Price Location    Running  \\\n",
       "34496       34496       TVS Apache RTR 180cc 2012  30,000   Karnal   6,639 Km   \n",
       "34497       34497   Bajaj Avenger Street 220 2015  60,000    Delhi  20,373 Km   \n",
       "34498       34498  Hero Super Splendor 125cc 2005  15,600   Jaipur  84,186 Km   \n",
       "34499       34499         Bajaj Pulsar 150cc 2008  22,000     Pune  60,857 Km   \n",
       "\n",
       "             Owner  \n",
       "34496  First Owner  \n",
       "34497  First Owner  \n",
       "34498  First Owner  \n",
       "34499  First Owner  "
      ]
     },
     "execution_count": 39,
     "metadata": {},
     "output_type": "execute_result"
    }
   ],
   "source": [
    "df.tail(4)   # last 5 and number you write"
   ]
  },
  {
   "cell_type": "markdown",
   "id": "2ef1fb32",
   "metadata": {},
   "source": [
    "# TUTORIAL 02______________\n",
    "read the comments carefully"
   ]
  },
  {
   "cell_type": "markdown",
   "id": "03933d55",
   "metadata": {},
   "source": [
    "# How to convert a dictionary into a dataframe"
   ]
  },
  {
   "cell_type": "code",
   "execution_count": 23,
   "id": "2bbc8db3",
   "metadata": {},
   "outputs": [],
   "source": [
    "people = {\"first\": [\"Corey\" , \"Jane\" , \"John\"],\n",
    "         \"last\"  : [\"schafer\" , \"doe\" , \"doe\"],\n",
    "         \"email\" : [\"coreyschafer@gmail.com\" , \"janedoe@gmail.com\" , \"johndoe@gmail.com\"]}"
   ]
  },
  {
   "cell_type": "code",
   "execution_count": 4,
   "id": "817bb8ea",
   "metadata": {},
   "outputs": [],
   "source": [
    "import pandas as pd"
   ]
  },
  {
   "cell_type": "code",
   "execution_count": 123,
   "id": "8ab464a6",
   "metadata": {},
   "outputs": [
    {
     "data": {
      "text/plain": [
       "dict"
      ]
     },
     "execution_count": 123,
     "metadata": {},
     "output_type": "execute_result"
    }
   ],
   "source": [
    "type(people)"
   ]
  },
  {
   "cell_type": "code",
   "execution_count": 7,
   "id": "76b8e7ee",
   "metadata": {},
   "outputs": [],
   "source": [
    "df_1 = pd.DataFrame(people)                  # to convert any dic to dataframe"
   ]
  },
  {
   "cell_type": "code",
   "execution_count": 21,
   "id": "0df04ab5",
   "metadata": {},
   "outputs": [
    {
     "data": {
      "text/html": [
       "<div>\n",
       "<style scoped>\n",
       "    .dataframe tbody tr th:only-of-type {\n",
       "        vertical-align: middle;\n",
       "    }\n",
       "\n",
       "    .dataframe tbody tr th {\n",
       "        vertical-align: top;\n",
       "    }\n",
       "\n",
       "    .dataframe thead th {\n",
       "        text-align: right;\n",
       "    }\n",
       "</style>\n",
       "<table border=\"1\" class=\"dataframe\">\n",
       "  <thead>\n",
       "    <tr style=\"text-align: right;\">\n",
       "      <th></th>\n",
       "      <th>index</th>\n",
       "      <th>first</th>\n",
       "      <th>last</th>\n",
       "      <th>email</th>\n",
       "    </tr>\n",
       "  </thead>\n",
       "  <tbody>\n",
       "    <tr>\n",
       "      <th>0</th>\n",
       "      <td>0</td>\n",
       "      <td>Corey</td>\n",
       "      <td>doe</td>\n",
       "      <td>coreyschafer@gmail.com</td>\n",
       "    </tr>\n",
       "    <tr>\n",
       "      <th>1</th>\n",
       "      <td>1</td>\n",
       "      <td>Jane</td>\n",
       "      <td>doe</td>\n",
       "      <td>janedoe@gmail.com</td>\n",
       "    </tr>\n",
       "    <tr>\n",
       "      <th>2</th>\n",
       "      <td>2</td>\n",
       "      <td>John</td>\n",
       "      <td>doe</td>\n",
       "      <td>johndoe@gmail.com</td>\n",
       "    </tr>\n",
       "  </tbody>\n",
       "</table>\n",
       "</div>"
      ],
      "text/plain": [
       "   index  first last                   email\n",
       "0      0  Corey  doe  coreyschafer@gmail.com\n",
       "1      1   Jane  doe       janedoe@gmail.com\n",
       "2      2   John  doe       johndoe@gmail.com"
      ]
     },
     "execution_count": 21,
     "metadata": {},
     "output_type": "execute_result"
    }
   ],
   "source": [
    "df_1"
   ]
  },
  {
   "cell_type": "markdown",
   "id": "95721b4d",
   "metadata": {},
   "source": [
    "# how to get a column details...     \n",
    "read comments carefully please"
   ]
  },
  {
   "cell_type": "code",
   "execution_count": 22,
   "id": "9011f541",
   "metadata": {},
   "outputs": [
    {
     "data": {
      "text/plain": [
       "0    coreyschafer@gmail.com\n",
       "1         janedoe@gmail.com\n",
       "2         johndoe@gmail.com\n",
       "Name: email, dtype: object"
      ]
     },
     "execution_count": 22,
     "metadata": {},
     "output_type": "execute_result"
    }
   ],
   "source": [
    "df_1['email']    # columns details\n",
    "# df_1.email     # same for generating column"
   ]
  },
  {
   "cell_type": "code",
   "execution_count": 56,
   "id": "2fc77cbb",
   "metadata": {},
   "outputs": [
    {
     "data": {
      "text/plain": [
       "pandas.core.series.Series"
      ]
     },
     "execution_count": 56,
     "metadata": {},
     "output_type": "execute_result"
    }
   ],
   "source": [
    "type(df_1['email'])"
   ]
  },
  {
   "cell_type": "code",
   "execution_count": 17,
   "id": "435bec2c",
   "metadata": {},
   "outputs": [
    {
     "data": {
      "text/html": [
       "<div>\n",
       "<style scoped>\n",
       "    .dataframe tbody tr th:only-of-type {\n",
       "        vertical-align: middle;\n",
       "    }\n",
       "\n",
       "    .dataframe tbody tr th {\n",
       "        vertical-align: top;\n",
       "    }\n",
       "\n",
       "    .dataframe thead th {\n",
       "        text-align: right;\n",
       "    }\n",
       "</style>\n",
       "<table border=\"1\" class=\"dataframe\">\n",
       "  <thead>\n",
       "    <tr style=\"text-align: right;\">\n",
       "      <th></th>\n",
       "      <th>last</th>\n",
       "      <th>email</th>\n",
       "    </tr>\n",
       "  </thead>\n",
       "  <tbody>\n",
       "    <tr>\n",
       "      <th>0</th>\n",
       "      <td>doe</td>\n",
       "      <td>coreyschafer@gmail.com</td>\n",
       "    </tr>\n",
       "    <tr>\n",
       "      <th>1</th>\n",
       "      <td>doe</td>\n",
       "      <td>janedoe@gmail.com</td>\n",
       "    </tr>\n",
       "    <tr>\n",
       "      <th>2</th>\n",
       "      <td>doe</td>\n",
       "      <td>johndoe@gmail.com</td>\n",
       "    </tr>\n",
       "  </tbody>\n",
       "</table>\n",
       "</div>"
      ],
      "text/plain": [
       "  last                   email\n",
       "0  doe  coreyschafer@gmail.com\n",
       "1  doe       janedoe@gmail.com\n",
       "2  doe       johndoe@gmail.com"
      ]
     },
     "execution_count": 17,
     "metadata": {},
     "output_type": "execute_result"
    }
   ],
   "source": [
    "df_1[['last','email']]     # want to generate more han one column"
   ]
  },
  {
   "cell_type": "code",
   "execution_count": 61,
   "id": "9055442e",
   "metadata": {},
   "outputs": [
    {
     "data": {
      "text/plain": [
       "Index(['Unnamed: 0', 'Name', 'Price', 'Location', 'Running', 'Owner'], dtype='object')"
      ]
     },
     "execution_count": 61,
     "metadata": {},
     "output_type": "execute_result"
    }
   ],
   "source": [
    "df.columns    # how to get columns name "
   ]
  },
  {
   "cell_type": "markdown",
   "id": "ff8325b2",
   "metadata": {},
   "source": [
    "# .iloc"
   ]
  },
  {
   "cell_type": "code",
   "execution_count": 67,
   "id": "ab89d91b",
   "metadata": {},
   "outputs": [
    {
     "data": {
      "text/plain": [
       "first                     Corey\n",
       "last                    schafer\n",
       "email    coreyschafer@gmail.com\n",
       "Name: 0, dtype: object"
      ]
     },
     "execution_count": 67,
     "metadata": {},
     "output_type": "execute_result"
    }
   ],
   "source": [
    "df_1.iloc[0]         # get the first row info or you want another than change the index"
   ]
  },
  {
   "cell_type": "code",
   "execution_count": 68,
   "id": "a0061428",
   "metadata": {},
   "outputs": [
    {
     "data": {
      "text/html": [
       "<div>\n",
       "<style scoped>\n",
       "    .dataframe tbody tr th:only-of-type {\n",
       "        vertical-align: middle;\n",
       "    }\n",
       "\n",
       "    .dataframe tbody tr th {\n",
       "        vertical-align: top;\n",
       "    }\n",
       "\n",
       "    .dataframe thead th {\n",
       "        text-align: right;\n",
       "    }\n",
       "</style>\n",
       "<table border=\"1\" class=\"dataframe\">\n",
       "  <thead>\n",
       "    <tr style=\"text-align: right;\">\n",
       "      <th></th>\n",
       "      <th>first</th>\n",
       "      <th>last</th>\n",
       "      <th>email</th>\n",
       "    </tr>\n",
       "  </thead>\n",
       "  <tbody>\n",
       "    <tr>\n",
       "      <th>0</th>\n",
       "      <td>Corey</td>\n",
       "      <td>schafer</td>\n",
       "      <td>coreyschafer@gmail.com</td>\n",
       "    </tr>\n",
       "    <tr>\n",
       "      <th>1</th>\n",
       "      <td>Jane</td>\n",
       "      <td>doe</td>\n",
       "      <td>janedoe@gmail.com</td>\n",
       "    </tr>\n",
       "  </tbody>\n",
       "</table>\n",
       "</div>"
      ],
      "text/plain": [
       "   first     last                   email\n",
       "0  Corey  schafer  coreyschafer@gmail.com\n",
       "1   Jane      doe       janedoe@gmail.com"
      ]
     },
     "execution_count": 68,
     "metadata": {},
     "output_type": "execute_result"
    }
   ],
   "source": [
    "df_1.iloc[[0,1]]   # if you want more than one row"
   ]
  },
  {
   "cell_type": "code",
   "execution_count": 69,
   "id": "2d954788",
   "metadata": {},
   "outputs": [
    {
     "data": {
      "text/plain": [
       "0    coreyschafer@gmail.com\n",
       "1         janedoe@gmail.com\n",
       "Name: email, dtype: object"
      ]
     },
     "execution_count": 69,
     "metadata": {},
     "output_type": "execute_result"
    }
   ],
   "source": [
    "df_1.iloc[[0,1] , 2]   # if you want to excess colunms but in selected rows that yuo enter in the index"
   ]
  },
  {
   "cell_type": "markdown",
   "id": "357c9447",
   "metadata": {},
   "source": [
    "# .loc"
   ]
  },
  {
   "cell_type": "code",
   "execution_count": 18,
   "id": "b2452c56",
   "metadata": {},
   "outputs": [
    {
     "data": {
      "text/plain": [
       "index                         0\n",
       "first                     Corey\n",
       "last                        doe\n",
       "email    coreyschafer@gmail.com\n",
       "Name: 0, dtype: object"
      ]
     },
     "execution_count": 18,
     "metadata": {},
     "output_type": "execute_result"
    }
   ],
   "source": [
    "df_1.loc[0]    # to find selected rows"
   ]
  },
  {
   "cell_type": "code",
   "execution_count": 71,
   "id": "07d988a4",
   "metadata": {},
   "outputs": [
    {
     "data": {
      "text/html": [
       "<div>\n",
       "<style scoped>\n",
       "    .dataframe tbody tr th:only-of-type {\n",
       "        vertical-align: middle;\n",
       "    }\n",
       "\n",
       "    .dataframe tbody tr th {\n",
       "        vertical-align: top;\n",
       "    }\n",
       "\n",
       "    .dataframe thead th {\n",
       "        text-align: right;\n",
       "    }\n",
       "</style>\n",
       "<table border=\"1\" class=\"dataframe\">\n",
       "  <thead>\n",
       "    <tr style=\"text-align: right;\">\n",
       "      <th></th>\n",
       "      <th>first</th>\n",
       "      <th>last</th>\n",
       "      <th>email</th>\n",
       "    </tr>\n",
       "  </thead>\n",
       "  <tbody>\n",
       "    <tr>\n",
       "      <th>0</th>\n",
       "      <td>Corey</td>\n",
       "      <td>schafer</td>\n",
       "      <td>coreyschafer@gmail.com</td>\n",
       "    </tr>\n",
       "    <tr>\n",
       "      <th>1</th>\n",
       "      <td>Jane</td>\n",
       "      <td>doe</td>\n",
       "      <td>janedoe@gmail.com</td>\n",
       "    </tr>\n",
       "  </tbody>\n",
       "</table>\n",
       "</div>"
      ],
      "text/plain": [
       "   first     last                   email\n",
       "0  Corey  schafer  coreyschafer@gmail.com\n",
       "1   Jane      doe       janedoe@gmail.com"
      ]
     },
     "execution_count": 71,
     "metadata": {},
     "output_type": "execute_result"
    }
   ],
   "source": [
    "df_1.loc[[0,1]]    # to generate selected rows"
   ]
  },
  {
   "cell_type": "code",
   "execution_count": 72,
   "id": "98a2caa0",
   "metadata": {},
   "outputs": [
    {
     "data": {
      "text/plain": [
       "0    coreyschafer@gmail.com\n",
       "1         janedoe@gmail.com\n",
       "Name: email, dtype: object"
      ]
     },
     "execution_count": 72,
     "metadata": {},
     "output_type": "execute_result"
    }
   ],
   "source": [
    "df_1.loc[[0,1] , 'email']      # if you want to excess a column(one) of a selected rows(many) "
   ]
  },
  {
   "cell_type": "code",
   "execution_count": 77,
   "id": "0cd796f3",
   "metadata": {},
   "outputs": [
    {
     "data": {
      "text/html": [
       "<div>\n",
       "<style scoped>\n",
       "    .dataframe tbody tr th:only-of-type {\n",
       "        vertical-align: middle;\n",
       "    }\n",
       "\n",
       "    .dataframe tbody tr th {\n",
       "        vertical-align: top;\n",
       "    }\n",
       "\n",
       "    .dataframe thead th {\n",
       "        text-align: right;\n",
       "    }\n",
       "</style>\n",
       "<table border=\"1\" class=\"dataframe\">\n",
       "  <thead>\n",
       "    <tr style=\"text-align: right;\">\n",
       "      <th></th>\n",
       "      <th>email</th>\n",
       "      <th>last</th>\n",
       "    </tr>\n",
       "  </thead>\n",
       "  <tbody>\n",
       "    <tr>\n",
       "      <th>0</th>\n",
       "      <td>coreyschafer@gmail.com</td>\n",
       "      <td>schafer</td>\n",
       "    </tr>\n",
       "    <tr>\n",
       "      <th>1</th>\n",
       "      <td>janedoe@gmail.com</td>\n",
       "      <td>doe</td>\n",
       "    </tr>\n",
       "  </tbody>\n",
       "</table>\n",
       "</div>"
      ],
      "text/plain": [
       "                    email     last\n",
       "0  coreyschafer@gmail.com  schafer\n",
       "1       janedoe@gmail.com      doe"
      ]
     },
     "execution_count": 77,
     "metadata": {},
     "output_type": "execute_result"
    }
   ],
   "source": [
    "df_1.loc[[0,1] , ['email' , 'last']]  # if yu want to excess a columns(mnany) of a selected rows(many)"
   ]
  },
  {
   "cell_type": "markdown",
   "id": "8def5143",
   "metadata": {},
   "source": [
    "# TUTORIAL 03______________\n",
    "read the comments carefully"
   ]
  },
  {
   "cell_type": "code",
   "execution_count": 19,
   "id": "cda4aa63",
   "metadata": {},
   "outputs": [
    {
     "data": {
      "text/html": [
       "<div>\n",
       "<style scoped>\n",
       "    .dataframe tbody tr th:only-of-type {\n",
       "        vertical-align: middle;\n",
       "    }\n",
       "\n",
       "    .dataframe tbody tr th {\n",
       "        vertical-align: top;\n",
       "    }\n",
       "\n",
       "    .dataframe thead th {\n",
       "        text-align: right;\n",
       "    }\n",
       "</style>\n",
       "<table border=\"1\" class=\"dataframe\">\n",
       "  <thead>\n",
       "    <tr style=\"text-align: right;\">\n",
       "      <th></th>\n",
       "      <th>index</th>\n",
       "      <th>first</th>\n",
       "      <th>last</th>\n",
       "    </tr>\n",
       "    <tr>\n",
       "      <th>email</th>\n",
       "      <th></th>\n",
       "      <th></th>\n",
       "      <th></th>\n",
       "    </tr>\n",
       "  </thead>\n",
       "  <tbody>\n",
       "    <tr>\n",
       "      <th>coreyschafer@gmail.com</th>\n",
       "      <td>0</td>\n",
       "      <td>Corey</td>\n",
       "      <td>doe</td>\n",
       "    </tr>\n",
       "    <tr>\n",
       "      <th>janedoe@gmail.com</th>\n",
       "      <td>1</td>\n",
       "      <td>Jane</td>\n",
       "      <td>doe</td>\n",
       "    </tr>\n",
       "    <tr>\n",
       "      <th>johndoe@gmail.com</th>\n",
       "      <td>2</td>\n",
       "      <td>John</td>\n",
       "      <td>doe</td>\n",
       "    </tr>\n",
       "  </tbody>\n",
       "</table>\n",
       "</div>"
      ],
      "text/plain": [
       "                        index  first last\n",
       "email                                    \n",
       "coreyschafer@gmail.com      0  Corey  doe\n",
       "janedoe@gmail.com           1   Jane  doe\n",
       "johndoe@gmail.com           2   John  doe"
      ]
     },
     "execution_count": 19,
     "metadata": {},
     "output_type": "execute_result"
    }
   ],
   "source": [
    "df_1.set_index('email')            # bhai agar teko koi bhi column ko index banana hai to yeh function lekuega"
   ]
  },
  {
   "cell_type": "code",
   "execution_count": 134,
   "id": "ee7be321",
   "metadata": {},
   "outputs": [],
   "source": [
    "df_1.set_index('email' , inplace = True)     # yeh function tera original df_1 hai woh change kr dega jab tu inplace=True use krega tab"
   ]
  },
  {
   "cell_type": "code",
   "execution_count": 136,
   "id": "8918bbbb",
   "metadata": {},
   "outputs": [
    {
     "data": {
      "text/plain": [
       "Index(['coreyschafer@gmail.com', 'janedoe@gmail.com', 'johndoe@gmail.com'], dtype='object', name='email')"
      ]
     },
     "execution_count": 136,
     "metadata": {},
     "output_type": "execute_result"
    }
   ],
   "source": [
    "df_1.index              # yeh teko index batayega koi bhi rows ka"
   ]
  },
  {
   "cell_type": "code",
   "execution_count": 137,
   "id": "7b6f4984",
   "metadata": {},
   "outputs": [
    {
     "data": {
      "text/plain": [
       "first      Corey\n",
       "last     schafer\n",
       "Name: coreyschafer@gmail.com, dtype: object"
      ]
     },
     "execution_count": 137,
     "metadata": {},
     "output_type": "execute_result"
    }
   ],
   "source": [
    "df_1.loc['coreyschafer@gmail.com']      # yeh index ka kaam krega fir bhai "
   ]
  },
  {
   "cell_type": "code",
   "execution_count": 138,
   "id": "23725e89",
   "metadata": {},
   "outputs": [
    {
     "data": {
      "text/plain": [
       "'schafer'"
      ]
     },
     "execution_count": 138,
     "metadata": {},
     "output_type": "execute_result"
    }
   ],
   "source": [
    "df_1.loc['coreyschafer@gmail.com' , 'last']   # agar or details mai jaana hai to or clolumns k name likh sakte hai "
   ]
  },
  {
   "cell_type": "code",
   "execution_count": 139,
   "id": "ee3fb749",
   "metadata": {},
   "outputs": [
    {
     "data": {
      "text/plain": [
       "first      Corey\n",
       "last     schafer\n",
       "Name: coreyschafer@gmail.com, dtype: object"
      ]
     },
     "execution_count": 139,
     "metadata": {},
     "output_type": "execute_result"
    }
   ],
   "source": [
    "df_1.iloc[0]      # same but in loc instead of row name you need to add index of that row "
   ]
  },
  {
   "cell_type": "code",
   "execution_count": 14,
   "id": "070941d9",
   "metadata": {},
   "outputs": [
    {
     "data": {
      "text/html": [
       "<div>\n",
       "<style scoped>\n",
       "    .dataframe tbody tr th:only-of-type {\n",
       "        vertical-align: middle;\n",
       "    }\n",
       "\n",
       "    .dataframe tbody tr th {\n",
       "        vertical-align: top;\n",
       "    }\n",
       "\n",
       "    .dataframe thead th {\n",
       "        text-align: right;\n",
       "    }\n",
       "</style>\n",
       "<table border=\"1\" class=\"dataframe\">\n",
       "  <thead>\n",
       "    <tr style=\"text-align: right;\">\n",
       "      <th></th>\n",
       "      <th>index</th>\n",
       "      <th>first</th>\n",
       "      <th>last</th>\n",
       "      <th>email</th>\n",
       "    </tr>\n",
       "  </thead>\n",
       "  <tbody>\n",
       "    <tr>\n",
       "      <th>0</th>\n",
       "      <td>0</td>\n",
       "      <td>Corey</td>\n",
       "      <td>doe</td>\n",
       "      <td>coreyschafer@gmail.com</td>\n",
       "    </tr>\n",
       "    <tr>\n",
       "      <th>1</th>\n",
       "      <td>1</td>\n",
       "      <td>Jane</td>\n",
       "      <td>doe</td>\n",
       "      <td>janedoe@gmail.com</td>\n",
       "    </tr>\n",
       "    <tr>\n",
       "      <th>2</th>\n",
       "      <td>2</td>\n",
       "      <td>John</td>\n",
       "      <td>doe</td>\n",
       "      <td>johndoe@gmail.com</td>\n",
       "    </tr>\n",
       "  </tbody>\n",
       "</table>\n",
       "</div>"
      ],
      "text/plain": [
       "   index  first last                   email\n",
       "0      0  Corey  doe  coreyschafer@gmail.com\n",
       "1      1   Jane  doe       janedoe@gmail.com\n",
       "2      2   John  doe       johndoe@gmail.com"
      ]
     },
     "execution_count": 14,
     "metadata": {},
     "output_type": "execute_result"
    }
   ],
   "source": [
    "df_1.reset_index(inplace = True)        # agar teko purane index wapas chahye to yeh function lagegaa\n",
    "df_1"
   ]
  },
  {
   "cell_type": "markdown",
   "id": "94505044",
   "metadata": {},
   "source": [
    "# TUTORIAL 04_filtering rows and columns______________\n",
    "read the comments carefully"
   ]
  },
  {
   "cell_type": "code",
   "execution_count": 33,
   "id": "fa15112f",
   "metadata": {},
   "outputs": [],
   "source": [
    "import pandas as pd"
   ]
  },
  {
   "cell_type": "code",
   "execution_count": 84,
   "id": "f8bd3996",
   "metadata": {},
   "outputs": [],
   "source": [
    "people_info = {\"first_name\" : [\"Abdullah\" , \"Hafiz\" , \"Zayyan\"],\n",
    "              \"last_name\" : [\"Sayed\" , \"Shaikh\" , \"Dabir\"],\n",
    "              \"email\" : [\"syed54603@gmail.com\" , \"shaikhhafiz12@gmail.com\" , \"dabirzayyan166@gmail.com\"]}"
   ]
  },
  {
   "cell_type": "code",
   "execution_count": 85,
   "id": "ab35aa7b",
   "metadata": {},
   "outputs": [
    {
     "data": {
      "text/html": [
       "<div>\n",
       "<style scoped>\n",
       "    .dataframe tbody tr th:only-of-type {\n",
       "        vertical-align: middle;\n",
       "    }\n",
       "\n",
       "    .dataframe tbody tr th {\n",
       "        vertical-align: top;\n",
       "    }\n",
       "\n",
       "    .dataframe thead th {\n",
       "        text-align: right;\n",
       "    }\n",
       "</style>\n",
       "<table border=\"1\" class=\"dataframe\">\n",
       "  <thead>\n",
       "    <tr style=\"text-align: right;\">\n",
       "      <th></th>\n",
       "      <th>first_name</th>\n",
       "      <th>last_name</th>\n",
       "      <th>email</th>\n",
       "    </tr>\n",
       "  </thead>\n",
       "  <tbody>\n",
       "    <tr>\n",
       "      <th>0</th>\n",
       "      <td>Abdullah</td>\n",
       "      <td>Sayed</td>\n",
       "      <td>syed54603@gmail.com</td>\n",
       "    </tr>\n",
       "    <tr>\n",
       "      <th>1</th>\n",
       "      <td>Hafiz</td>\n",
       "      <td>Shaikh</td>\n",
       "      <td>shaikhhafiz12@gmail.com</td>\n",
       "    </tr>\n",
       "    <tr>\n",
       "      <th>2</th>\n",
       "      <td>Zayyan</td>\n",
       "      <td>Dabir</td>\n",
       "      <td>dabirzayyan166@gmail.com</td>\n",
       "    </tr>\n",
       "  </tbody>\n",
       "</table>\n",
       "</div>"
      ],
      "text/plain": [
       "  first_name last_name                     email\n",
       "0   Abdullah     Sayed       syed54603@gmail.com\n",
       "1      Hafiz    Shaikh   shaikhhafiz12@gmail.com\n",
       "2     Zayyan     Dabir  dabirzayyan166@gmail.com"
      ]
     },
     "execution_count": 85,
     "metadata": {},
     "output_type": "execute_result"
    }
   ],
   "source": [
    "pd.DataFrame(people_info)"
   ]
  },
  {
   "cell_type": "code",
   "execution_count": 88,
   "id": "6f203b22",
   "metadata": {},
   "outputs": [],
   "source": [
    "df_info = pd.DataFrame(people_info)"
   ]
  },
  {
   "cell_type": "code",
   "execution_count": 89,
   "id": "059850d2",
   "metadata": {},
   "outputs": [
    {
     "data": {
      "text/plain": [
       "0     True\n",
       "1    False\n",
       "2    False\n",
       "Name: last_name, dtype: bool"
      ]
     },
     "execution_count": 89,
     "metadata": {},
     "output_type": "execute_result"
    }
   ],
   "source": [
    "(df_info['last_name'] == 'Sayed')     # agar joh column mai diye hua value bohut haui to uska teko True of False mai return krega"
   ]
  },
  {
   "cell_type": "code",
   "execution_count": 91,
   "id": "c1ce631d",
   "metadata": {},
   "outputs": [],
   "source": [
    "filt_info = ((df_info['last_name'] == 'Sayed'))"
   ]
  },
  {
   "cell_type": "code",
   "execution_count": 92,
   "id": "60d23449",
   "metadata": {},
   "outputs": [
    {
     "data": {
      "text/html": [
       "<div>\n",
       "<style scoped>\n",
       "    .dataframe tbody tr th:only-of-type {\n",
       "        vertical-align: middle;\n",
       "    }\n",
       "\n",
       "    .dataframe tbody tr th {\n",
       "        vertical-align: top;\n",
       "    }\n",
       "\n",
       "    .dataframe thead th {\n",
       "        text-align: right;\n",
       "    }\n",
       "</style>\n",
       "<table border=\"1\" class=\"dataframe\">\n",
       "  <thead>\n",
       "    <tr style=\"text-align: right;\">\n",
       "      <th></th>\n",
       "      <th>first_name</th>\n",
       "      <th>last_name</th>\n",
       "      <th>email</th>\n",
       "    </tr>\n",
       "  </thead>\n",
       "  <tbody>\n",
       "    <tr>\n",
       "      <th>0</th>\n",
       "      <td>Abdullah</td>\n",
       "      <td>Sayed</td>\n",
       "      <td>syed54603@gmail.com</td>\n",
       "    </tr>\n",
       "  </tbody>\n",
       "</table>\n",
       "</div>"
      ],
      "text/plain": [
       "  first_name last_name                email\n",
       "0   Abdullah     Sayed  syed54603@gmail.com"
      ]
     },
     "execution_count": 92,
     "metadata": {},
     "output_type": "execute_result"
    }
   ],
   "source": [
    "df_info[filt_info]            # saari rows mil jayegi jisme woh value hogi to"
   ]
  },
  {
   "cell_type": "code",
   "execution_count": 93,
   "id": "7658a1a9",
   "metadata": {},
   "outputs": [
    {
     "data": {
      "text/plain": [
       "0    syed54603@gmail.com\n",
       "Name: email, dtype: object"
      ]
     },
     "execution_count": 93,
     "metadata": {},
     "output_type": "execute_result"
    }
   ],
   "source": [
    "df_info.loc[filt_info , 'email']         # one partitular column if want"
   ]
  },
  {
   "cell_type": "markdown",
   "id": "f1448e82",
   "metadata": {},
   "source": [
    "# isme entry ek hee  row ki hoogi...___( & )"
   ]
  },
  {
   "cell_type": "code",
   "execution_count": 95,
   "id": "7515873a",
   "metadata": {},
   "outputs": [],
   "source": [
    "filt_info = (df_info['first_name'] == 'Abdullah') & (df_2['last_name'] == 'Sayed')    # (and , &)   koi bhi do column ko match kr k teesra clumn k valu mil sakti hai "
   ]
  },
  {
   "cell_type": "code",
   "execution_count": 98,
   "id": "0dd86712",
   "metadata": {},
   "outputs": [
    {
     "data": {
      "text/plain": [
       "0    syed54603@gmail.com\n",
       "Name: email, dtype: object"
      ]
     },
     "execution_count": 98,
     "metadata": {},
     "output_type": "execute_result"
    }
   ],
   "source": [
    "df_info.loc[filt_info , 'email']      # upar k cell  se related hai"
   ]
  },
  {
   "cell_type": "markdown",
   "id": "99817bff",
   "metadata": {},
   "source": [
    "# isme entry  do(2)  row ki hoogi___( | )"
   ]
  },
  {
   "cell_type": "code",
   "execution_count": 99,
   "id": "7eb9595c",
   "metadata": {},
   "outputs": [],
   "source": [
    "filt_info1 = (df_info['first_name'] == 'Abdullah') | (df_2['last_name'] == 'Shaikh')"
   ]
  },
  {
   "cell_type": "code",
   "execution_count": 100,
   "id": "4804b250",
   "metadata": {},
   "outputs": [
    {
     "data": {
      "text/plain": [
       "0        syed54603@gmail.com\n",
       "1    shaikhhafiz12@gmail.com\n",
       "Name: email, dtype: object"
      ]
     },
     "execution_count": 100,
     "metadata": {},
     "output_type": "execute_result"
    }
   ],
   "source": [
    "df_info.loc[filt_info1 , 'email']"
   ]
  },
  {
   "cell_type": "markdown",
   "id": "1d5b055c",
   "metadata": {},
   "source": [
    "# isme woh jo entry nhi hai woh dega (~)"
   ]
  },
  {
   "cell_type": "code",
   "execution_count": 101,
   "id": "4b8a4ffd",
   "metadata": {},
   "outputs": [],
   "source": [
    "filt_info1 = (df_info['first_name'] == 'Abdullah') | (df_2['last_name'] == 'Shaikh')"
   ]
  },
  {
   "cell_type": "code",
   "execution_count": 102,
   "id": "a471f118",
   "metadata": {},
   "outputs": [
    {
     "data": {
      "text/plain": [
       "2    dabirzayyan166@gmail.com\n",
       "Name: email, dtype: object"
      ]
     },
     "execution_count": 102,
     "metadata": {},
     "output_type": "execute_result"
    }
   ],
   "source": [
    "df_info.loc[~filt_info1 , 'email']"
   ]
  },
  {
   "cell_type": "markdown",
   "id": "b10b9b03",
   "metadata": {},
   "source": [
    "# TUTORIAL 05 _UPDATE THE ROWS AND COLUMNS______________\n",
    "read the comments carefully"
   ]
  },
  {
   "cell_type": "code",
   "execution_count": 32,
   "id": "3d157c89",
   "metadata": {},
   "outputs": [],
   "source": [
    "people_info_1 = {\"first_name\" : [\"Abdul Rehman\" , \"Hamza\" , \"Zaid\"],\n",
    "              \"last_name\" : [\"Sayed\" , \"Shaikh\" , \"Mulla\"],\n",
    "              \"email\" : [\"syed54603@gmail.com\" , \"shaikhhamza12@gmail.com\" , \"mullazaid166@gmail.com\"]}"
   ]
  },
  {
   "cell_type": "code",
   "execution_count": 33,
   "id": "ae2c7028",
   "metadata": {},
   "outputs": [
    {
     "data": {
      "text/html": [
       "<div>\n",
       "<style scoped>\n",
       "    .dataframe tbody tr th:only-of-type {\n",
       "        vertical-align: middle;\n",
       "    }\n",
       "\n",
       "    .dataframe tbody tr th {\n",
       "        vertical-align: top;\n",
       "    }\n",
       "\n",
       "    .dataframe thead th {\n",
       "        text-align: right;\n",
       "    }\n",
       "</style>\n",
       "<table border=\"1\" class=\"dataframe\">\n",
       "  <thead>\n",
       "    <tr style=\"text-align: right;\">\n",
       "      <th></th>\n",
       "      <th>first_name</th>\n",
       "      <th>last_name</th>\n",
       "      <th>email</th>\n",
       "    </tr>\n",
       "  </thead>\n",
       "  <tbody>\n",
       "    <tr>\n",
       "      <th>0</th>\n",
       "      <td>Abdul Rehman</td>\n",
       "      <td>Sayed</td>\n",
       "      <td>syed54603@gmail.com</td>\n",
       "    </tr>\n",
       "    <tr>\n",
       "      <th>1</th>\n",
       "      <td>Hamza</td>\n",
       "      <td>Shaikh</td>\n",
       "      <td>shaikhhamza12@gmail.com</td>\n",
       "    </tr>\n",
       "    <tr>\n",
       "      <th>2</th>\n",
       "      <td>Zaid</td>\n",
       "      <td>Mulla</td>\n",
       "      <td>mullazaid166@gmail.com</td>\n",
       "    </tr>\n",
       "  </tbody>\n",
       "</table>\n",
       "</div>"
      ],
      "text/plain": [
       "     first_name last_name                    email\n",
       "0  Abdul Rehman     Sayed      syed54603@gmail.com\n",
       "1         Hamza    Shaikh  shaikhhamza12@gmail.com\n",
       "2          Zaid     Mulla   mullazaid166@gmail.com"
      ]
     },
     "execution_count": 33,
     "metadata": {},
     "output_type": "execute_result"
    }
   ],
   "source": [
    "pd.DataFrame(people_info_1)"
   ]
  },
  {
   "cell_type": "code",
   "execution_count": 34,
   "id": "e11f97c4",
   "metadata": {},
   "outputs": [],
   "source": [
    "df_3 = pd.DataFrame(people_info_1)"
   ]
  },
  {
   "cell_type": "code",
   "execution_count": 35,
   "id": "5769db71",
   "metadata": {},
   "outputs": [
    {
     "data": {
      "text/plain": [
       "Index(['first_name', 'last_name', 'email'], dtype='object')"
      ]
     },
     "execution_count": 35,
     "metadata": {},
     "output_type": "execute_result"
    }
   ],
   "source": [
    "df_3.columns"
   ]
  },
  {
   "cell_type": "code",
   "execution_count": 36,
   "id": "2a800179",
   "metadata": {},
   "outputs": [],
   "source": [
    "df_3.columns = ['first' , 'last' , 'email']      # columns main name aise change krte hai dekh le ...."
   ]
  },
  {
   "cell_type": "code",
   "execution_count": 38,
   "id": "47df4fd1",
   "metadata": {},
   "outputs": [
    {
     "data": {
      "text/html": [
       "<div>\n",
       "<style scoped>\n",
       "    .dataframe tbody tr th:only-of-type {\n",
       "        vertical-align: middle;\n",
       "    }\n",
       "\n",
       "    .dataframe tbody tr th {\n",
       "        vertical-align: top;\n",
       "    }\n",
       "\n",
       "    .dataframe thead th {\n",
       "        text-align: right;\n",
       "    }\n",
       "</style>\n",
       "<table border=\"1\" class=\"dataframe\">\n",
       "  <thead>\n",
       "    <tr style=\"text-align: right;\">\n",
       "      <th></th>\n",
       "      <th>first</th>\n",
       "      <th>last</th>\n",
       "      <th>email</th>\n",
       "    </tr>\n",
       "  </thead>\n",
       "  <tbody>\n",
       "    <tr>\n",
       "      <th>0</th>\n",
       "      <td>Abdul Rehman</td>\n",
       "      <td>Sayed</td>\n",
       "      <td>syed54603@gmail.com</td>\n",
       "    </tr>\n",
       "    <tr>\n",
       "      <th>1</th>\n",
       "      <td>Hamza</td>\n",
       "      <td>Shaikh</td>\n",
       "      <td>shaikhhamza12@gmail.com</td>\n",
       "    </tr>\n",
       "    <tr>\n",
       "      <th>2</th>\n",
       "      <td>Zaid</td>\n",
       "      <td>Mulla</td>\n",
       "      <td>mullazaid166@gmail.com</td>\n",
       "    </tr>\n",
       "  </tbody>\n",
       "</table>\n",
       "</div>"
      ],
      "text/plain": [
       "          first    last                    email\n",
       "0  Abdul Rehman   Sayed      syed54603@gmail.com\n",
       "1         Hamza  Shaikh  shaikhhamza12@gmail.com\n",
       "2          Zaid   Mulla   mullazaid166@gmail.com"
      ]
     },
     "execution_count": 38,
     "metadata": {},
     "output_type": "execute_result"
    }
   ],
   "source": [
    "df_3"
   ]
  },
  {
   "cell_type": "code",
   "execution_count": 40,
   "id": "f52e6f09",
   "metadata": {},
   "outputs": [],
   "source": [
    "df_3.columns = (x.upper() for x in df_3.columns)    #sab capital mai chahye to column name tab use hoga"
   ]
  },
  {
   "cell_type": "code",
   "execution_count": 41,
   "id": "4be33756",
   "metadata": {},
   "outputs": [
    {
     "data": {
      "text/html": [
       "<div>\n",
       "<style scoped>\n",
       "    .dataframe tbody tr th:only-of-type {\n",
       "        vertical-align: middle;\n",
       "    }\n",
       "\n",
       "    .dataframe tbody tr th {\n",
       "        vertical-align: top;\n",
       "    }\n",
       "\n",
       "    .dataframe thead th {\n",
       "        text-align: right;\n",
       "    }\n",
       "</style>\n",
       "<table border=\"1\" class=\"dataframe\">\n",
       "  <thead>\n",
       "    <tr style=\"text-align: right;\">\n",
       "      <th></th>\n",
       "      <th>FIRST</th>\n",
       "      <th>LAST</th>\n",
       "      <th>EMAIL</th>\n",
       "    </tr>\n",
       "  </thead>\n",
       "  <tbody>\n",
       "    <tr>\n",
       "      <th>0</th>\n",
       "      <td>Abdul Rehman</td>\n",
       "      <td>Sayed</td>\n",
       "      <td>syed54603@gmail.com</td>\n",
       "    </tr>\n",
       "    <tr>\n",
       "      <th>1</th>\n",
       "      <td>Hamza</td>\n",
       "      <td>Shaikh</td>\n",
       "      <td>shaikhhamza12@gmail.com</td>\n",
       "    </tr>\n",
       "    <tr>\n",
       "      <th>2</th>\n",
       "      <td>Zaid</td>\n",
       "      <td>Mulla</td>\n",
       "      <td>mullazaid166@gmail.com</td>\n",
       "    </tr>\n",
       "  </tbody>\n",
       "</table>\n",
       "</div>"
      ],
      "text/plain": [
       "          FIRST    LAST                    EMAIL\n",
       "0  Abdul Rehman   Sayed      syed54603@gmail.com\n",
       "1         Hamza  Shaikh  shaikhhamza12@gmail.com\n",
       "2          Zaid   Mulla   mullazaid166@gmail.com"
      ]
     },
     "execution_count": 41,
     "metadata": {},
     "output_type": "execute_result"
    }
   ],
   "source": [
    "df_3"
   ]
  },
  {
   "cell_type": "code",
   "execution_count": 49,
   "id": "a97e638c",
   "metadata": {},
   "outputs": [],
   "source": [
    "df_3.columns = (x.lower() for x in df_3.columns)    #sab small mai chahye to column name tab use hoga"
   ]
  },
  {
   "cell_type": "code",
   "execution_count": 50,
   "id": "5329358c",
   "metadata": {},
   "outputs": [
    {
     "data": {
      "text/html": [
       "<div>\n",
       "<style scoped>\n",
       "    .dataframe tbody tr th:only-of-type {\n",
       "        vertical-align: middle;\n",
       "    }\n",
       "\n",
       "    .dataframe tbody tr th {\n",
       "        vertical-align: top;\n",
       "    }\n",
       "\n",
       "    .dataframe thead th {\n",
       "        text-align: right;\n",
       "    }\n",
       "</style>\n",
       "<table border=\"1\" class=\"dataframe\">\n",
       "  <thead>\n",
       "    <tr style=\"text-align: right;\">\n",
       "      <th></th>\n",
       "      <th>first name</th>\n",
       "      <th>last name</th>\n",
       "      <th>email</th>\n",
       "    </tr>\n",
       "  </thead>\n",
       "  <tbody>\n",
       "    <tr>\n",
       "      <th>0</th>\n",
       "      <td>Abdul Rehman</td>\n",
       "      <td>Sayed</td>\n",
       "      <td>syed54603@gmail.com</td>\n",
       "    </tr>\n",
       "    <tr>\n",
       "      <th>1</th>\n",
       "      <td>Hamza</td>\n",
       "      <td>Shaikh</td>\n",
       "      <td>shaikhhamza12@gmail.com</td>\n",
       "    </tr>\n",
       "    <tr>\n",
       "      <th>2</th>\n",
       "      <td>Zaid</td>\n",
       "      <td>Mulla</td>\n",
       "      <td>mullazaid166@gmail.com</td>\n",
       "    </tr>\n",
       "  </tbody>\n",
       "</table>\n",
       "</div>"
      ],
      "text/plain": [
       "     first name last name                    email\n",
       "0  Abdul Rehman     Sayed      syed54603@gmail.com\n",
       "1         Hamza    Shaikh  shaikhhamza12@gmail.com\n",
       "2          Zaid     Mulla   mullazaid166@gmail.com"
      ]
     },
     "execution_count": 50,
     "metadata": {},
     "output_type": "execute_result"
    }
   ],
   "source": [
    "df_3"
   ]
  },
  {
   "cell_type": "code",
   "execution_count": 52,
   "id": "5208baff",
   "metadata": {},
   "outputs": [],
   "source": [
    "df_3.columns = ['FIRST_NAME' , 'LAST_NAME' , 'EMAIL']"
   ]
  },
  {
   "cell_type": "code",
   "execution_count": 53,
   "id": "75b89e96",
   "metadata": {},
   "outputs": [
    {
     "data": {
      "text/html": [
       "<div>\n",
       "<style scoped>\n",
       "    .dataframe tbody tr th:only-of-type {\n",
       "        vertical-align: middle;\n",
       "    }\n",
       "\n",
       "    .dataframe tbody tr th {\n",
       "        vertical-align: top;\n",
       "    }\n",
       "\n",
       "    .dataframe thead th {\n",
       "        text-align: right;\n",
       "    }\n",
       "</style>\n",
       "<table border=\"1\" class=\"dataframe\">\n",
       "  <thead>\n",
       "    <tr style=\"text-align: right;\">\n",
       "      <th></th>\n",
       "      <th>FIRST_NAME</th>\n",
       "      <th>LAST_NAME</th>\n",
       "      <th>EMAIL</th>\n",
       "    </tr>\n",
       "  </thead>\n",
       "  <tbody>\n",
       "    <tr>\n",
       "      <th>0</th>\n",
       "      <td>Abdul Rehman</td>\n",
       "      <td>Sayed</td>\n",
       "      <td>syed54603@gmail.com</td>\n",
       "    </tr>\n",
       "    <tr>\n",
       "      <th>1</th>\n",
       "      <td>Hamza</td>\n",
       "      <td>Shaikh</td>\n",
       "      <td>shaikhhamza12@gmail.com</td>\n",
       "    </tr>\n",
       "    <tr>\n",
       "      <th>2</th>\n",
       "      <td>Zaid</td>\n",
       "      <td>Mulla</td>\n",
       "      <td>mullazaid166@gmail.com</td>\n",
       "    </tr>\n",
       "  </tbody>\n",
       "</table>\n",
       "</div>"
      ],
      "text/plain": [
       "     FIRST_NAME LAST_NAME                    EMAIL\n",
       "0  Abdul Rehman     Sayed      syed54603@gmail.com\n",
       "1         Hamza    Shaikh  shaikhhamza12@gmail.com\n",
       "2          Zaid     Mulla   mullazaid166@gmail.com"
      ]
     },
     "execution_count": 53,
     "metadata": {},
     "output_type": "execute_result"
    }
   ],
   "source": [
    "df_3"
   ]
  },
  {
   "cell_type": "code",
   "execution_count": 54,
   "id": "e0bdbc72",
   "metadata": {},
   "outputs": [],
   "source": [
    "df_3.columns = df_3.columns.str.replace('_',' ')      # how to replace any columns name (words) and enter any other word"
   ]
  },
  {
   "cell_type": "code",
   "execution_count": 55,
   "id": "00a8cf51",
   "metadata": {},
   "outputs": [
    {
     "data": {
      "text/html": [
       "<div>\n",
       "<style scoped>\n",
       "    .dataframe tbody tr th:only-of-type {\n",
       "        vertical-align: middle;\n",
       "    }\n",
       "\n",
       "    .dataframe tbody tr th {\n",
       "        vertical-align: top;\n",
       "    }\n",
       "\n",
       "    .dataframe thead th {\n",
       "        text-align: right;\n",
       "    }\n",
       "</style>\n",
       "<table border=\"1\" class=\"dataframe\">\n",
       "  <thead>\n",
       "    <tr style=\"text-align: right;\">\n",
       "      <th></th>\n",
       "      <th>FIRST NAME</th>\n",
       "      <th>LAST NAME</th>\n",
       "      <th>EMAIL</th>\n",
       "    </tr>\n",
       "  </thead>\n",
       "  <tbody>\n",
       "    <tr>\n",
       "      <th>0</th>\n",
       "      <td>Abdul Rehman</td>\n",
       "      <td>Sayed</td>\n",
       "      <td>syed54603@gmail.com</td>\n",
       "    </tr>\n",
       "    <tr>\n",
       "      <th>1</th>\n",
       "      <td>Hamza</td>\n",
       "      <td>Shaikh</td>\n",
       "      <td>shaikhhamza12@gmail.com</td>\n",
       "    </tr>\n",
       "    <tr>\n",
       "      <th>2</th>\n",
       "      <td>Zaid</td>\n",
       "      <td>Mulla</td>\n",
       "      <td>mullazaid166@gmail.com</td>\n",
       "    </tr>\n",
       "  </tbody>\n",
       "</table>\n",
       "</div>"
      ],
      "text/plain": [
       "     FIRST NAME LAST NAME                    EMAIL\n",
       "0  Abdul Rehman     Sayed      syed54603@gmail.com\n",
       "1         Hamza    Shaikh  shaikhhamza12@gmail.com\n",
       "2          Zaid     Mulla   mullazaid166@gmail.com"
      ]
     },
     "execution_count": 55,
     "metadata": {},
     "output_type": "execute_result"
    }
   ],
   "source": [
    "df_3"
   ]
  },
  {
   "cell_type": "code",
   "execution_count": 63,
   "id": "e4f1cbab",
   "metadata": {},
   "outputs": [],
   "source": [
    "df_3.rename(columns = {'FIRST NAME' : 'first_name' , 'LAST NAME' : 'last_name' , 'EMAIL' : 'email'},inplace = True)\n",
    "# from this get your dataframe...."
   ]
  },
  {
   "cell_type": "code",
   "execution_count": 64,
   "id": "1aa1b3d3",
   "metadata": {},
   "outputs": [
    {
     "data": {
      "text/html": [
       "<div>\n",
       "<style scoped>\n",
       "    .dataframe tbody tr th:only-of-type {\n",
       "        vertical-align: middle;\n",
       "    }\n",
       "\n",
       "    .dataframe tbody tr th {\n",
       "        vertical-align: top;\n",
       "    }\n",
       "\n",
       "    .dataframe thead th {\n",
       "        text-align: right;\n",
       "    }\n",
       "</style>\n",
       "<table border=\"1\" class=\"dataframe\">\n",
       "  <thead>\n",
       "    <tr style=\"text-align: right;\">\n",
       "      <th></th>\n",
       "      <th>first_name</th>\n",
       "      <th>last_name</th>\n",
       "      <th>email</th>\n",
       "    </tr>\n",
       "  </thead>\n",
       "  <tbody>\n",
       "    <tr>\n",
       "      <th>0</th>\n",
       "      <td>Abdul Rehman</td>\n",
       "      <td>Sayed</td>\n",
       "      <td>syed54603@gmail.com</td>\n",
       "    </tr>\n",
       "    <tr>\n",
       "      <th>1</th>\n",
       "      <td>Hamza</td>\n",
       "      <td>Shaikh</td>\n",
       "      <td>shaikhhamza12@gmail.com</td>\n",
       "    </tr>\n",
       "    <tr>\n",
       "      <th>2</th>\n",
       "      <td>Zaid</td>\n",
       "      <td>Mulla</td>\n",
       "      <td>mullazaid166@gmail.com</td>\n",
       "    </tr>\n",
       "  </tbody>\n",
       "</table>\n",
       "</div>"
      ],
      "text/plain": [
       "     first_name last_name                    email\n",
       "0  Abdul Rehman     Sayed      syed54603@gmail.com\n",
       "1         Hamza    Shaikh  shaikhhamza12@gmail.com\n",
       "2          Zaid     Mulla   mullazaid166@gmail.com"
      ]
     },
     "execution_count": 64,
     "metadata": {},
     "output_type": "execute_result"
    }
   ],
   "source": [
    "df_3"
   ]
  },
  {
   "cell_type": "markdown",
   "id": "42695b5a",
   "metadata": {},
   "source": [
    "# want to change rows info"
   ]
  },
  {
   "cell_type": "code",
   "execution_count": 88,
   "id": "4ac90d37",
   "metadata": {},
   "outputs": [],
   "source": [
    "df_3.loc[2] = ['Zaid' , 'Memon' , 'memonzaid166@gmail.com']\n",
    "\n",
    "#change a single row info first method"
   ]
  },
  {
   "cell_type": "code",
   "execution_count": 89,
   "id": "f5492abb",
   "metadata": {},
   "outputs": [
    {
     "data": {
      "text/html": [
       "<div>\n",
       "<style scoped>\n",
       "    .dataframe tbody tr th:only-of-type {\n",
       "        vertical-align: middle;\n",
       "    }\n",
       "\n",
       "    .dataframe tbody tr th {\n",
       "        vertical-align: top;\n",
       "    }\n",
       "\n",
       "    .dataframe thead th {\n",
       "        text-align: right;\n",
       "    }\n",
       "</style>\n",
       "<table border=\"1\" class=\"dataframe\">\n",
       "  <thead>\n",
       "    <tr style=\"text-align: right;\">\n",
       "      <th></th>\n",
       "      <th>first_name</th>\n",
       "      <th>last_name</th>\n",
       "      <th>email</th>\n",
       "    </tr>\n",
       "  </thead>\n",
       "  <tbody>\n",
       "    <tr>\n",
       "      <th>0</th>\n",
       "      <td>Abdul Rehman</td>\n",
       "      <td>Sayed</td>\n",
       "      <td>syed54603@gmail.com</td>\n",
       "    </tr>\n",
       "    <tr>\n",
       "      <th>1</th>\n",
       "      <td>Hamza</td>\n",
       "      <td>Shaikh</td>\n",
       "      <td>shaikhhamza12@gmail.com</td>\n",
       "    </tr>\n",
       "    <tr>\n",
       "      <th>2</th>\n",
       "      <td>Zaid</td>\n",
       "      <td>Memon</td>\n",
       "      <td>memonzaid166@gmail.com</td>\n",
       "    </tr>\n",
       "  </tbody>\n",
       "</table>\n",
       "</div>"
      ],
      "text/plain": [
       "     first_name last_name                    email\n",
       "0  Abdul Rehman     Sayed      syed54603@gmail.com\n",
       "1         Hamza    Shaikh  shaikhhamza12@gmail.com\n",
       "2          Zaid     Memon   memonzaid166@gmail.com"
      ]
     },
     "execution_count": 89,
     "metadata": {},
     "output_type": "execute_result"
    }
   ],
   "source": [
    "df_3"
   ]
  },
  {
   "cell_type": "code",
   "execution_count": 94,
   "id": "3bece2f3",
   "metadata": {},
   "outputs": [
    {
     "data": {
      "text/plain": [
       "first_name     Zaid\n",
       "last_name     Memon\n",
       "Name: 2, dtype: object"
      ]
     },
     "execution_count": 94,
     "metadata": {},
     "output_type": "execute_result"
    }
   ],
   "source": [
    "df_3.loc[2,['first_name' , 'last_name']]     # check row and column"
   ]
  },
  {
   "cell_type": "code",
   "execution_count": 95,
   "id": "38ebd637",
   "metadata": {},
   "outputs": [],
   "source": [
    "df_3.loc[2,['first_name' , 'last_name']] = ['Zaidu' , 'Memoni']     \n",
    "\n",
    "# if i want to single row info second method"
   ]
  },
  {
   "cell_type": "code",
   "execution_count": 96,
   "id": "2bd1fc92",
   "metadata": {},
   "outputs": [
    {
     "data": {
      "text/html": [
       "<div>\n",
       "<style scoped>\n",
       "    .dataframe tbody tr th:only-of-type {\n",
       "        vertical-align: middle;\n",
       "    }\n",
       "\n",
       "    .dataframe tbody tr th {\n",
       "        vertical-align: top;\n",
       "    }\n",
       "\n",
       "    .dataframe thead th {\n",
       "        text-align: right;\n",
       "    }\n",
       "</style>\n",
       "<table border=\"1\" class=\"dataframe\">\n",
       "  <thead>\n",
       "    <tr style=\"text-align: right;\">\n",
       "      <th></th>\n",
       "      <th>first_name</th>\n",
       "      <th>last_name</th>\n",
       "      <th>email</th>\n",
       "    </tr>\n",
       "  </thead>\n",
       "  <tbody>\n",
       "    <tr>\n",
       "      <th>0</th>\n",
       "      <td>Abdul Rehman</td>\n",
       "      <td>Sayed</td>\n",
       "      <td>syed54603@gmail.com</td>\n",
       "    </tr>\n",
       "    <tr>\n",
       "      <th>1</th>\n",
       "      <td>Hamza</td>\n",
       "      <td>Shaikh</td>\n",
       "      <td>shaikhhamza12@gmail.com</td>\n",
       "    </tr>\n",
       "    <tr>\n",
       "      <th>2</th>\n",
       "      <td>Zaidu</td>\n",
       "      <td>Memoni</td>\n",
       "      <td>memonzaid166@gmail.com</td>\n",
       "    </tr>\n",
       "  </tbody>\n",
       "</table>\n",
       "</div>"
      ],
      "text/plain": [
       "     first_name last_name                    email\n",
       "0  Abdul Rehman     Sayed      syed54603@gmail.com\n",
       "1         Hamza    Shaikh  shaikhhamza12@gmail.com\n",
       "2         Zaidu    Memoni   memonzaid166@gmail.com"
      ]
     },
     "execution_count": 96,
     "metadata": {},
     "output_type": "execute_result"
    }
   ],
   "source": [
    "df_3"
   ]
  },
  {
   "cell_type": "code",
   "execution_count": 101,
   "id": "692749d4",
   "metadata": {},
   "outputs": [],
   "source": [
    "df_3.loc[2,'last_name'] = 'Memon'         \n",
    "df_3.loc[2,'first_name'] = 'Zaid'        \n",
    "\n",
    "# selectted rows and selected column info change..."
   ]
  },
  {
   "cell_type": "code",
   "execution_count": 100,
   "id": "473d2a4e",
   "metadata": {},
   "outputs": [
    {
     "data": {
      "text/html": [
       "<div>\n",
       "<style scoped>\n",
       "    .dataframe tbody tr th:only-of-type {\n",
       "        vertical-align: middle;\n",
       "    }\n",
       "\n",
       "    .dataframe tbody tr th {\n",
       "        vertical-align: top;\n",
       "    }\n",
       "\n",
       "    .dataframe thead th {\n",
       "        text-align: right;\n",
       "    }\n",
       "</style>\n",
       "<table border=\"1\" class=\"dataframe\">\n",
       "  <thead>\n",
       "    <tr style=\"text-align: right;\">\n",
       "      <th></th>\n",
       "      <th>first_name</th>\n",
       "      <th>last_name</th>\n",
       "      <th>email</th>\n",
       "    </tr>\n",
       "  </thead>\n",
       "  <tbody>\n",
       "    <tr>\n",
       "      <th>0</th>\n",
       "      <td>Abdul Rehman</td>\n",
       "      <td>Sayed</td>\n",
       "      <td>syed54603@gmail.com</td>\n",
       "    </tr>\n",
       "    <tr>\n",
       "      <th>1</th>\n",
       "      <td>Hamza</td>\n",
       "      <td>Shaikh</td>\n",
       "      <td>shaikhhamza12@gmail.com</td>\n",
       "    </tr>\n",
       "    <tr>\n",
       "      <th>2</th>\n",
       "      <td>Zaid</td>\n",
       "      <td>Memon</td>\n",
       "      <td>memonzaid166@gmail.com</td>\n",
       "    </tr>\n",
       "  </tbody>\n",
       "</table>\n",
       "</div>"
      ],
      "text/plain": [
       "     first_name last_name                    email\n",
       "0  Abdul Rehman     Sayed      syed54603@gmail.com\n",
       "1         Hamza    Shaikh  shaikhhamza12@gmail.com\n",
       "2          Zaid     Memon   memonzaid166@gmail.com"
      ]
     },
     "execution_count": 100,
     "metadata": {},
     "output_type": "execute_result"
    }
   ],
   "source": [
    "df_3"
   ]
  },
  {
   "cell_type": "code",
   "execution_count": 102,
   "id": "2eeda7b5",
   "metadata": {},
   "outputs": [],
   "source": [
    "df_3.at[2,'last_name'] = 'Memo'     # it is a function where the at function s used to change the info of rows...."
   ]
  },
  {
   "cell_type": "code",
   "execution_count": 103,
   "id": "7ce4efd2",
   "metadata": {},
   "outputs": [
    {
     "data": {
      "text/html": [
       "<div>\n",
       "<style scoped>\n",
       "    .dataframe tbody tr th:only-of-type {\n",
       "        vertical-align: middle;\n",
       "    }\n",
       "\n",
       "    .dataframe tbody tr th {\n",
       "        vertical-align: top;\n",
       "    }\n",
       "\n",
       "    .dataframe thead th {\n",
       "        text-align: right;\n",
       "    }\n",
       "</style>\n",
       "<table border=\"1\" class=\"dataframe\">\n",
       "  <thead>\n",
       "    <tr style=\"text-align: right;\">\n",
       "      <th></th>\n",
       "      <th>first_name</th>\n",
       "      <th>last_name</th>\n",
       "      <th>email</th>\n",
       "    </tr>\n",
       "  </thead>\n",
       "  <tbody>\n",
       "    <tr>\n",
       "      <th>0</th>\n",
       "      <td>Abdul Rehman</td>\n",
       "      <td>Sayed</td>\n",
       "      <td>syed54603@gmail.com</td>\n",
       "    </tr>\n",
       "    <tr>\n",
       "      <th>1</th>\n",
       "      <td>Hamza</td>\n",
       "      <td>Shaikh</td>\n",
       "      <td>shaikhhamza12@gmail.com</td>\n",
       "    </tr>\n",
       "    <tr>\n",
       "      <th>2</th>\n",
       "      <td>Zaid</td>\n",
       "      <td>Memo</td>\n",
       "      <td>memonzaid166@gmail.com</td>\n",
       "    </tr>\n",
       "  </tbody>\n",
       "</table>\n",
       "</div>"
      ],
      "text/plain": [
       "     first_name last_name                    email\n",
       "0  Abdul Rehman     Sayed      syed54603@gmail.com\n",
       "1         Hamza    Shaikh  shaikhhamza12@gmail.com\n",
       "2          Zaid      Memo   memonzaid166@gmail.com"
      ]
     },
     "execution_count": 103,
     "metadata": {},
     "output_type": "execute_result"
    }
   ],
   "source": [
    "df_3"
   ]
  },
  {
   "cell_type": "code",
   "execution_count": 106,
   "id": "3044ea91",
   "metadata": {},
   "outputs": [],
   "source": [
    "df_3.loc[2,'last_name'] = 'Memon' "
   ]
  },
  {
   "cell_type": "code",
   "execution_count": 107,
   "id": "8e93e917",
   "metadata": {},
   "outputs": [
    {
     "data": {
      "text/html": [
       "<div>\n",
       "<style scoped>\n",
       "    .dataframe tbody tr th:only-of-type {\n",
       "        vertical-align: middle;\n",
       "    }\n",
       "\n",
       "    .dataframe tbody tr th {\n",
       "        vertical-align: top;\n",
       "    }\n",
       "\n",
       "    .dataframe thead th {\n",
       "        text-align: right;\n",
       "    }\n",
       "</style>\n",
       "<table border=\"1\" class=\"dataframe\">\n",
       "  <thead>\n",
       "    <tr style=\"text-align: right;\">\n",
       "      <th></th>\n",
       "      <th>first_name</th>\n",
       "      <th>last_name</th>\n",
       "      <th>email</th>\n",
       "    </tr>\n",
       "  </thead>\n",
       "  <tbody>\n",
       "    <tr>\n",
       "      <th>0</th>\n",
       "      <td>Abdul Rehman</td>\n",
       "      <td>Sayed</td>\n",
       "      <td>Syed54603@gmail.com</td>\n",
       "    </tr>\n",
       "    <tr>\n",
       "      <th>1</th>\n",
       "      <td>Hamza</td>\n",
       "      <td>Shaikh</td>\n",
       "      <td>Shaikhhamza12@gmail.com</td>\n",
       "    </tr>\n",
       "    <tr>\n",
       "      <th>2</th>\n",
       "      <td>Zaid</td>\n",
       "      <td>Memon</td>\n",
       "      <td>Memonzaid166@gmail.com</td>\n",
       "    </tr>\n",
       "  </tbody>\n",
       "</table>\n",
       "</div>"
      ],
      "text/plain": [
       "     first_name last_name                    email\n",
       "0  Abdul Rehman     Sayed      Syed54603@gmail.com\n",
       "1         Hamza    Shaikh  Shaikhhamza12@gmail.com\n",
       "2          Zaid     Memon   Memonzaid166@gmail.com"
      ]
     },
     "execution_count": 107,
     "metadata": {},
     "output_type": "execute_result"
    }
   ],
   "source": [
    "df_3"
   ]
  },
  {
   "cell_type": "code",
   "execution_count": 112,
   "id": "ae145c56",
   "metadata": {},
   "outputs": [],
   "source": [
    "df_3['email'] = df_3['email'].str.lower()        \n",
    "\n",
    "# make the first letter capital"
   ]
  },
  {
   "cell_type": "code",
   "execution_count": 113,
   "id": "bc9a2391",
   "metadata": {},
   "outputs": [
    {
     "data": {
      "text/html": [
       "<div>\n",
       "<style scoped>\n",
       "    .dataframe tbody tr th:only-of-type {\n",
       "        vertical-align: middle;\n",
       "    }\n",
       "\n",
       "    .dataframe tbody tr th {\n",
       "        vertical-align: top;\n",
       "    }\n",
       "\n",
       "    .dataframe thead th {\n",
       "        text-align: right;\n",
       "    }\n",
       "</style>\n",
       "<table border=\"1\" class=\"dataframe\">\n",
       "  <thead>\n",
       "    <tr style=\"text-align: right;\">\n",
       "      <th></th>\n",
       "      <th>first_name</th>\n",
       "      <th>last_name</th>\n",
       "      <th>email</th>\n",
       "    </tr>\n",
       "  </thead>\n",
       "  <tbody>\n",
       "    <tr>\n",
       "      <th>0</th>\n",
       "      <td>Abdul Rehman</td>\n",
       "      <td>Sayed</td>\n",
       "      <td>syed54603@gmail.com</td>\n",
       "    </tr>\n",
       "    <tr>\n",
       "      <th>1</th>\n",
       "      <td>Hamza</td>\n",
       "      <td>Shaikh</td>\n",
       "      <td>shaikhhamza12@gmail.com</td>\n",
       "    </tr>\n",
       "    <tr>\n",
       "      <th>2</th>\n",
       "      <td>Zaid</td>\n",
       "      <td>Memon</td>\n",
       "      <td>memonzaid166@gmail.com</td>\n",
       "    </tr>\n",
       "  </tbody>\n",
       "</table>\n",
       "</div>"
      ],
      "text/plain": [
       "     first_name last_name                    email\n",
       "0  Abdul Rehman     Sayed      syed54603@gmail.com\n",
       "1         Hamza    Shaikh  shaikhhamza12@gmail.com\n",
       "2          Zaid     Memon   memonzaid166@gmail.com"
      ]
     },
     "execution_count": 113,
     "metadata": {},
     "output_type": "execute_result"
    }
   ],
   "source": [
    "df_3"
   ]
  },
  {
   "cell_type": "markdown",
   "id": "30a51ba2",
   "metadata": {},
   "source": [
    "# HOW TO USE A FUNCTION IN A DATAFRAME OR IN CSV FILE (.apply)"
   ]
  },
  {
   "cell_type": "code",
   "execution_count": 117,
   "id": "3e2b99f8",
   "metadata": {},
   "outputs": [],
   "source": [
    "def update_email(email) :\n",
    "    return email.upper()"
   ]
  },
  {
   "cell_type": "code",
   "execution_count": 118,
   "id": "d51ddea0",
   "metadata": {},
   "outputs": [
    {
     "data": {
      "text/plain": [
       "0        SYED54603@GMAIL.COM\n",
       "1    SHAIKHHAMZA12@GMAIL.COM\n",
       "2     MEMONZAID166@GMAIL.COM\n",
       "Name: email, dtype: object"
      ]
     },
     "execution_count": 118,
     "metadata": {},
     "output_type": "execute_result"
    }
   ],
   "source": [
    "df_3['email'].apply(update_email)"
   ]
  },
  {
   "cell_type": "code",
   "execution_count": 119,
   "id": "0d1cf25b",
   "metadata": {},
   "outputs": [],
   "source": [
    "df_3['email'] = df_3['email'].apply(update_email)      # permanenet change krna hai to yeh krna padega bruhhhhh......"
   ]
  },
  {
   "cell_type": "code",
   "execution_count": 121,
   "id": "df5316a8",
   "metadata": {},
   "outputs": [
    {
     "data": {
      "text/html": [
       "<div>\n",
       "<style scoped>\n",
       "    .dataframe tbody tr th:only-of-type {\n",
       "        vertical-align: middle;\n",
       "    }\n",
       "\n",
       "    .dataframe tbody tr th {\n",
       "        vertical-align: top;\n",
       "    }\n",
       "\n",
       "    .dataframe thead th {\n",
       "        text-align: right;\n",
       "    }\n",
       "</style>\n",
       "<table border=\"1\" class=\"dataframe\">\n",
       "  <thead>\n",
       "    <tr style=\"text-align: right;\">\n",
       "      <th></th>\n",
       "      <th>first_name</th>\n",
       "      <th>last_name</th>\n",
       "      <th>email</th>\n",
       "    </tr>\n",
       "  </thead>\n",
       "  <tbody>\n",
       "    <tr>\n",
       "      <th>0</th>\n",
       "      <td>Abdul Rehman</td>\n",
       "      <td>Sayed</td>\n",
       "      <td>SYED54603@GMAIL.COM</td>\n",
       "    </tr>\n",
       "    <tr>\n",
       "      <th>1</th>\n",
       "      <td>Hamza</td>\n",
       "      <td>Shaikh</td>\n",
       "      <td>SHAIKHHAMZA12@GMAIL.COM</td>\n",
       "    </tr>\n",
       "    <tr>\n",
       "      <th>2</th>\n",
       "      <td>Zaid</td>\n",
       "      <td>Memon</td>\n",
       "      <td>MEMONZAID166@GMAIL.COM</td>\n",
       "    </tr>\n",
       "  </tbody>\n",
       "</table>\n",
       "</div>"
      ],
      "text/plain": [
       "     first_name last_name                    email\n",
       "0  Abdul Rehman     Sayed      SYED54603@GMAIL.COM\n",
       "1         Hamza    Shaikh  SHAIKHHAMZA12@GMAIL.COM\n",
       "2          Zaid     Memon   MEMONZAID166@GMAIL.COM"
      ]
     },
     "execution_count": 121,
     "metadata": {},
     "output_type": "execute_result"
    }
   ],
   "source": [
    "df_3"
   ]
  },
  {
   "cell_type": "code",
   "execution_count": 122,
   "id": "9c149dae",
   "metadata": {},
   "outputs": [],
   "source": [
    "df_3['email'] = df_3['email'].apply(lambda x:x.lower())    # lower alphabet mai yeh bhi use hota hai"
   ]
  },
  {
   "cell_type": "code",
   "execution_count": 123,
   "id": "4ee8181e",
   "metadata": {},
   "outputs": [
    {
     "data": {
      "text/html": [
       "<div>\n",
       "<style scoped>\n",
       "    .dataframe tbody tr th:only-of-type {\n",
       "        vertical-align: middle;\n",
       "    }\n",
       "\n",
       "    .dataframe tbody tr th {\n",
       "        vertical-align: top;\n",
       "    }\n",
       "\n",
       "    .dataframe thead th {\n",
       "        text-align: right;\n",
       "    }\n",
       "</style>\n",
       "<table border=\"1\" class=\"dataframe\">\n",
       "  <thead>\n",
       "    <tr style=\"text-align: right;\">\n",
       "      <th></th>\n",
       "      <th>first_name</th>\n",
       "      <th>last_name</th>\n",
       "      <th>email</th>\n",
       "    </tr>\n",
       "  </thead>\n",
       "  <tbody>\n",
       "    <tr>\n",
       "      <th>0</th>\n",
       "      <td>Abdul Rehman</td>\n",
       "      <td>Sayed</td>\n",
       "      <td>syed54603@gmail.com</td>\n",
       "    </tr>\n",
       "    <tr>\n",
       "      <th>1</th>\n",
       "      <td>Hamza</td>\n",
       "      <td>Shaikh</td>\n",
       "      <td>shaikhhamza12@gmail.com</td>\n",
       "    </tr>\n",
       "    <tr>\n",
       "      <th>2</th>\n",
       "      <td>Zaid</td>\n",
       "      <td>Memon</td>\n",
       "      <td>memonzaid166@gmail.com</td>\n",
       "    </tr>\n",
       "  </tbody>\n",
       "</table>\n",
       "</div>"
      ],
      "text/plain": [
       "     first_name last_name                    email\n",
       "0  Abdul Rehman     Sayed      syed54603@gmail.com\n",
       "1         Hamza    Shaikh  shaikhhamza12@gmail.com\n",
       "2          Zaid     Memon   memonzaid166@gmail.com"
      ]
     },
     "execution_count": 123,
     "metadata": {},
     "output_type": "execute_result"
    }
   ],
   "source": [
    "df_3"
   ]
  },
  {
   "cell_type": "markdown",
   "id": "38ddfdc2",
   "metadata": {},
   "source": [
    "# len function in the dataframe"
   ]
  },
  {
   "cell_type": "code",
   "execution_count": 116,
   "id": "6dd87f7f",
   "metadata": {},
   "outputs": [
    {
     "data": {
      "text/plain": [
       "0    19\n",
       "1    23\n",
       "2    22\n",
       "Name: email, dtype: int64"
      ]
     },
     "execution_count": 116,
     "metadata": {},
     "output_type": "execute_result"
    }
   ],
   "source": [
    "df_3['email'].apply(len)      # it will count the str in the column or row"
   ]
  },
  {
   "cell_type": "code",
   "execution_count": 128,
   "id": "d708f186",
   "metadata": {},
   "outputs": [
    {
     "data": {
      "text/plain": [
       "first_name    3\n",
       "last_name     3\n",
       "email         3\n",
       "dtype: int64"
      ]
     },
     "execution_count": 128,
     "metadata": {},
     "output_type": "execute_result"
    }
   ],
   "source": [
    "df_3.apply(len)               # number of values in the columns   , it count vertically  "
   ]
  },
  {
   "cell_type": "code",
   "execution_count": 129,
   "id": "39845b28",
   "metadata": {},
   "outputs": [
    {
     "data": {
      "text/plain": [
       "0    3\n",
       "1    3\n",
       "2    3\n",
       "dtype: int64"
      ]
     },
     "execution_count": 129,
     "metadata": {},
     "output_type": "execute_result"
    }
   ],
   "source": [
    "df_3.apply(len , axis = 'columns')    # number of values in the columns  , it count horizontally"
   ]
  },
  {
   "cell_type": "code",
   "execution_count": 130,
   "id": "87f9e09d",
   "metadata": {},
   "outputs": [
    {
     "data": {
      "text/plain": [
       "3"
      ]
     },
     "execution_count": 130,
     "metadata": {},
     "output_type": "execute_result"
    }
   ],
   "source": [
    "len(df_3['email'])               # number of valus in column 'email' "
   ]
  },
  {
   "cell_type": "code",
   "execution_count": 132,
   "id": "59e61a77",
   "metadata": {},
   "outputs": [
    {
     "data": {
      "text/plain": [
       "first_name              Abdul Rehman\n",
       "last_name                      Memon\n",
       "email         memonzaid166@gmail.com\n",
       "dtype: object"
      ]
     },
     "execution_count": 132,
     "metadata": {},
     "output_type": "execute_result"
    }
   ],
   "source": [
    "df_3.apply(lambda x : x.min())  # x stands for series"
   ]
  },
  {
   "cell_type": "code",
   "execution_count": 135,
   "id": "5030cc65",
   "metadata": {},
   "outputs": [
    {
     "data": {
      "text/html": [
       "<div>\n",
       "<style scoped>\n",
       "    .dataframe tbody tr th:only-of-type {\n",
       "        vertical-align: middle;\n",
       "    }\n",
       "\n",
       "    .dataframe tbody tr th {\n",
       "        vertical-align: top;\n",
       "    }\n",
       "\n",
       "    .dataframe thead th {\n",
       "        text-align: right;\n",
       "    }\n",
       "</style>\n",
       "<table border=\"1\" class=\"dataframe\">\n",
       "  <thead>\n",
       "    <tr style=\"text-align: right;\">\n",
       "      <th></th>\n",
       "      <th>first_name</th>\n",
       "      <th>last_name</th>\n",
       "      <th>email</th>\n",
       "    </tr>\n",
       "  </thead>\n",
       "  <tbody>\n",
       "    <tr>\n",
       "      <th>0</th>\n",
       "      <td>Abdul Rehman</td>\n",
       "      <td>Sayed</td>\n",
       "      <td>syed54603@gmail.com</td>\n",
       "    </tr>\n",
       "    <tr>\n",
       "      <th>1</th>\n",
       "      <td>Hamza</td>\n",
       "      <td>Shaikh</td>\n",
       "      <td>shaikhhamza12@gmail.com</td>\n",
       "    </tr>\n",
       "    <tr>\n",
       "      <th>2</th>\n",
       "      <td>Zaid</td>\n",
       "      <td>Memon</td>\n",
       "      <td>memonzaid166@gmail.com</td>\n",
       "    </tr>\n",
       "  </tbody>\n",
       "</table>\n",
       "</div>"
      ],
      "text/plain": [
       "     first_name last_name                    email\n",
       "0  Abdul Rehman     Sayed      syed54603@gmail.com\n",
       "1         Hamza    Shaikh  shaikhhamza12@gmail.com\n",
       "2          Zaid     Memon   memonzaid166@gmail.com"
      ]
     },
     "execution_count": 135,
     "metadata": {},
     "output_type": "execute_result"
    }
   ],
   "source": [
    "df_3"
   ]
  },
  {
   "cell_type": "code",
   "execution_count": 134,
   "id": "faef8849",
   "metadata": {},
   "outputs": [
    {
     "data": {
      "text/plain": [
       "first_name              Abdul Rehman\n",
       "last_name                      Memon\n",
       "email         memonzaid166@gmail.com\n",
       "dtype: object"
      ]
     },
     "execution_count": 134,
     "metadata": {},
     "output_type": "execute_result"
    }
   ],
   "source": [
    "df_3.apply(pd.Series.min)    # A-Z se arrange kr dege puree dataframe ko"
   ]
  },
  {
   "cell_type": "code",
   "execution_count": 137,
   "id": "14764e64",
   "metadata": {},
   "outputs": [
    {
     "data": {
      "text/plain": [
       "first_name              Abdul Rehman\n",
       "last_name                      Memon\n",
       "email         memonzaid166@gmail.com\n",
       "dtype: object"
      ]
     },
     "execution_count": 137,
     "metadata": {},
     "output_type": "execute_result"
    }
   ],
   "source": [
    "df_3.apply(lambda x: x.min())     # same as above example...."
   ]
  },
  {
   "cell_type": "code",
   "execution_count": 138,
   "id": "6e4a0d3b",
   "metadata": {},
   "outputs": [
    {
     "data": {
      "text/html": [
       "<div>\n",
       "<style scoped>\n",
       "    .dataframe tbody tr th:only-of-type {\n",
       "        vertical-align: middle;\n",
       "    }\n",
       "\n",
       "    .dataframe tbody tr th {\n",
       "        vertical-align: top;\n",
       "    }\n",
       "\n",
       "    .dataframe thead th {\n",
       "        text-align: right;\n",
       "    }\n",
       "</style>\n",
       "<table border=\"1\" class=\"dataframe\">\n",
       "  <thead>\n",
       "    <tr style=\"text-align: right;\">\n",
       "      <th></th>\n",
       "      <th>first_name</th>\n",
       "      <th>last_name</th>\n",
       "      <th>email</th>\n",
       "    </tr>\n",
       "  </thead>\n",
       "  <tbody>\n",
       "    <tr>\n",
       "      <th>0</th>\n",
       "      <td>12</td>\n",
       "      <td>5</td>\n",
       "      <td>19</td>\n",
       "    </tr>\n",
       "    <tr>\n",
       "      <th>1</th>\n",
       "      <td>5</td>\n",
       "      <td>6</td>\n",
       "      <td>23</td>\n",
       "    </tr>\n",
       "    <tr>\n",
       "      <th>2</th>\n",
       "      <td>4</td>\n",
       "      <td>5</td>\n",
       "      <td>22</td>\n",
       "    </tr>\n",
       "  </tbody>\n",
       "</table>\n",
       "</div>"
      ],
      "text/plain": [
       "   first_name  last_name  email\n",
       "0          12          5     19\n",
       "1           5          6     23\n",
       "2           4          5     22"
      ]
     },
     "execution_count": 138,
     "metadata": {},
     "output_type": "execute_result"
    }
   ],
   "source": [
    "df_3.applymap(len)        # this will aply on each indivitual value in dataframe    .applymap"
   ]
  },
  {
   "cell_type": "code",
   "execution_count": 140,
   "id": "c5ee2f8a",
   "metadata": {},
   "outputs": [
    {
     "data": {
      "text/html": [
       "<div>\n",
       "<style scoped>\n",
       "    .dataframe tbody tr th:only-of-type {\n",
       "        vertical-align: middle;\n",
       "    }\n",
       "\n",
       "    .dataframe tbody tr th {\n",
       "        vertical-align: top;\n",
       "    }\n",
       "\n",
       "    .dataframe thead th {\n",
       "        text-align: right;\n",
       "    }\n",
       "</style>\n",
       "<table border=\"1\" class=\"dataframe\">\n",
       "  <thead>\n",
       "    <tr style=\"text-align: right;\">\n",
       "      <th></th>\n",
       "      <th>first_name</th>\n",
       "      <th>last_name</th>\n",
       "      <th>email</th>\n",
       "    </tr>\n",
       "  </thead>\n",
       "  <tbody>\n",
       "    <tr>\n",
       "      <th>0</th>\n",
       "      <td>Abdul Rehman</td>\n",
       "      <td>Sayed</td>\n",
       "      <td>syed54603@gmail.com</td>\n",
       "    </tr>\n",
       "    <tr>\n",
       "      <th>1</th>\n",
       "      <td>Hamza</td>\n",
       "      <td>Shaikh</td>\n",
       "      <td>shaikhhamza12@gmail.com</td>\n",
       "    </tr>\n",
       "    <tr>\n",
       "      <th>2</th>\n",
       "      <td>Zaid</td>\n",
       "      <td>Memon</td>\n",
       "      <td>memonzaid166@gmail.com</td>\n",
       "    </tr>\n",
       "  </tbody>\n",
       "</table>\n",
       "</div>"
      ],
      "text/plain": [
       "     first_name last_name                    email\n",
       "0  Abdul Rehman     Sayed      syed54603@gmail.com\n",
       "1         Hamza    Shaikh  shaikhhamza12@gmail.com\n",
       "2          Zaid     Memon   memonzaid166@gmail.com"
      ]
     },
     "execution_count": 140,
     "metadata": {},
     "output_type": "execute_result"
    }
   ],
   "source": [
    "df_3"
   ]
  },
  {
   "cell_type": "code",
   "execution_count": 142,
   "id": "c8669056",
   "metadata": {},
   "outputs": [
    {
     "data": {
      "text/html": [
       "<div>\n",
       "<style scoped>\n",
       "    .dataframe tbody tr th:only-of-type {\n",
       "        vertical-align: middle;\n",
       "    }\n",
       "\n",
       "    .dataframe tbody tr th {\n",
       "        vertical-align: top;\n",
       "    }\n",
       "\n",
       "    .dataframe thead th {\n",
       "        text-align: right;\n",
       "    }\n",
       "</style>\n",
       "<table border=\"1\" class=\"dataframe\">\n",
       "  <thead>\n",
       "    <tr style=\"text-align: right;\">\n",
       "      <th></th>\n",
       "      <th>first_name</th>\n",
       "      <th>last_name</th>\n",
       "      <th>email</th>\n",
       "    </tr>\n",
       "  </thead>\n",
       "  <tbody>\n",
       "    <tr>\n",
       "      <th>0</th>\n",
       "      <td>abdul rehman</td>\n",
       "      <td>sayed</td>\n",
       "      <td>syed54603@gmail.com</td>\n",
       "    </tr>\n",
       "    <tr>\n",
       "      <th>1</th>\n",
       "      <td>hamza</td>\n",
       "      <td>shaikh</td>\n",
       "      <td>shaikhhamza12@gmail.com</td>\n",
       "    </tr>\n",
       "    <tr>\n",
       "      <th>2</th>\n",
       "      <td>zaid</td>\n",
       "      <td>memon</td>\n",
       "      <td>memonzaid166@gmail.com</td>\n",
       "    </tr>\n",
       "  </tbody>\n",
       "</table>\n",
       "</div>"
      ],
      "text/plain": [
       "     first_name last_name                    email\n",
       "0  abdul rehman     sayed      syed54603@gmail.com\n",
       "1         hamza    shaikh  shaikhhamza12@gmail.com\n",
       "2          zaid     memon   memonzaid166@gmail.com"
      ]
     },
     "execution_count": 142,
     "metadata": {},
     "output_type": "execute_result"
    }
   ],
   "source": [
    "df_3.applymap(str.lower)      # all the values in the dataframe will be in lower case"
   ]
  },
  {
   "cell_type": "code",
   "execution_count": null,
   "id": "19adf4d5",
   "metadata": {},
   "outputs": [],
   "source": []
  },
  {
   "cell_type": "markdown",
   "id": "fdf3302a",
   "metadata": {},
   "source": [
    "# .map METHOD_____  .replace METHOD"
   ]
  },
  {
   "cell_type": "code",
   "execution_count": 151,
   "id": "0663d5d8",
   "metadata": {},
   "outputs": [
    {
     "data": {
      "text/plain": [
       "0    abdullah\n",
       "1      parvez\n",
       "2         NaN\n",
       "Name: first_name, dtype: object"
      ]
     },
     "execution_count": 151,
     "metadata": {},
     "output_type": "execute_result"
    }
   ],
   "source": [
    "df_3['first_name'].map({'Abdul Rehman' : 'abdullah' , 'Hamza' : 'parvez'})     \n",
    "\n",
    "# change the individual values from the data frame\n",
    "\n"
   ]
  },
  {
   "cell_type": "code",
   "execution_count": 149,
   "id": "09c4433f",
   "metadata": {},
   "outputs": [
    {
     "data": {
      "text/plain": [
       "0    abdullah\n",
       "1      parvez\n",
       "2        Zaid\n",
       "Name: first_name, dtype: object"
      ]
     },
     "execution_count": 149,
     "metadata": {},
     "output_type": "execute_result"
    }
   ],
   "source": [
    "df_3['first_name'].replace({'Abdul Rehman' : 'abdullah' , 'Hamza' : 'parvez'})  \n",
    "\n",
    "# change the individual values from the data frame\n",
    "\n"
   ]
  },
  {
   "cell_type": "code",
   "execution_count": 150,
   "id": "ff010337",
   "metadata": {},
   "outputs": [
    {
     "data": {
      "text/html": [
       "<div>\n",
       "<style scoped>\n",
       "    .dataframe tbody tr th:only-of-type {\n",
       "        vertical-align: middle;\n",
       "    }\n",
       "\n",
       "    .dataframe tbody tr th {\n",
       "        vertical-align: top;\n",
       "    }\n",
       "\n",
       "    .dataframe thead th {\n",
       "        text-align: right;\n",
       "    }\n",
       "</style>\n",
       "<table border=\"1\" class=\"dataframe\">\n",
       "  <thead>\n",
       "    <tr style=\"text-align: right;\">\n",
       "      <th></th>\n",
       "      <th>first_name</th>\n",
       "      <th>last_name</th>\n",
       "      <th>email</th>\n",
       "    </tr>\n",
       "  </thead>\n",
       "  <tbody>\n",
       "    <tr>\n",
       "      <th>0</th>\n",
       "      <td>Abdul Rehman</td>\n",
       "      <td>Sayed</td>\n",
       "      <td>syed54603@gmail.com</td>\n",
       "    </tr>\n",
       "    <tr>\n",
       "      <th>1</th>\n",
       "      <td>Hamza</td>\n",
       "      <td>Shaikh</td>\n",
       "      <td>shaikhhamza12@gmail.com</td>\n",
       "    </tr>\n",
       "    <tr>\n",
       "      <th>2</th>\n",
       "      <td>Zaid</td>\n",
       "      <td>Memon</td>\n",
       "      <td>memonzaid166@gmail.com</td>\n",
       "    </tr>\n",
       "  </tbody>\n",
       "</table>\n",
       "</div>"
      ],
      "text/plain": [
       "     first_name last_name                    email\n",
       "0  Abdul Rehman     Sayed      syed54603@gmail.com\n",
       "1         Hamza    Shaikh  shaikhhamza12@gmail.com\n",
       "2          Zaid     Memon   memonzaid166@gmail.com"
      ]
     },
     "execution_count": 150,
     "metadata": {},
     "output_type": "execute_result"
    }
   ],
   "source": [
    "df_3"
   ]
  },
  {
   "cell_type": "code",
   "execution_count": null,
   "id": "f6444e0c",
   "metadata": {},
   "outputs": [],
   "source": []
  },
  {
   "cell_type": "code",
   "execution_count": null,
   "id": "947f14a1",
   "metadata": {},
   "outputs": [],
   "source": []
  },
  {
   "cell_type": "code",
   "execution_count": null,
   "id": "9a391741",
   "metadata": {},
   "outputs": [],
   "source": []
  },
  {
   "cell_type": "code",
   "execution_count": null,
   "id": "43a84d00",
   "metadata": {},
   "outputs": [],
   "source": []
  },
  {
   "cell_type": "code",
   "execution_count": null,
   "id": "c5412942",
   "metadata": {},
   "outputs": [],
   "source": []
  },
  {
   "cell_type": "markdown",
   "id": "02394035",
   "metadata": {},
   "source": [
    "# want to change columns info"
   ]
  },
  {
   "cell_type": "code",
   "execution_count": 104,
   "id": "2fadc373",
   "metadata": {},
   "outputs": [],
   "source": [
    "df_3.loc[[0,1,2] , 'email'] = ['Syed54603@gmail.com' , 'Shaikhhamza12@gmail.com' , 'Memonzaid166@gmail.com']\n",
    "# first method of changing columns info"
   ]
  },
  {
   "cell_type": "code",
   "execution_count": 105,
   "id": "d17bbf8a",
   "metadata": {},
   "outputs": [
    {
     "data": {
      "text/html": [
       "<div>\n",
       "<style scoped>\n",
       "    .dataframe tbody tr th:only-of-type {\n",
       "        vertical-align: middle;\n",
       "    }\n",
       "\n",
       "    .dataframe tbody tr th {\n",
       "        vertical-align: top;\n",
       "    }\n",
       "\n",
       "    .dataframe thead th {\n",
       "        text-align: right;\n",
       "    }\n",
       "</style>\n",
       "<table border=\"1\" class=\"dataframe\">\n",
       "  <thead>\n",
       "    <tr style=\"text-align: right;\">\n",
       "      <th></th>\n",
       "      <th>first_name</th>\n",
       "      <th>last_name</th>\n",
       "      <th>email</th>\n",
       "    </tr>\n",
       "  </thead>\n",
       "  <tbody>\n",
       "    <tr>\n",
       "      <th>0</th>\n",
       "      <td>Abdul Rehman</td>\n",
       "      <td>Sayed</td>\n",
       "      <td>Syed54603@gmail.com</td>\n",
       "    </tr>\n",
       "    <tr>\n",
       "      <th>1</th>\n",
       "      <td>Hamza</td>\n",
       "      <td>Shaikh</td>\n",
       "      <td>Shaikhhamza12@gmail.com</td>\n",
       "    </tr>\n",
       "    <tr>\n",
       "      <th>2</th>\n",
       "      <td>Zaid</td>\n",
       "      <td>Memo</td>\n",
       "      <td>Memonzaid166@gmail.com</td>\n",
       "    </tr>\n",
       "  </tbody>\n",
       "</table>\n",
       "</div>"
      ],
      "text/plain": [
       "     first_name last_name                    email\n",
       "0  Abdul Rehman     Sayed      Syed54603@gmail.com\n",
       "1         Hamza    Shaikh  Shaikhhamza12@gmail.com\n",
       "2          Zaid      Memo   Memonzaid166@gmail.com"
      ]
     },
     "execution_count": 105,
     "metadata": {},
     "output_type": "execute_result"
    }
   ],
   "source": [
    "df_3"
   ]
  },
  {
   "cell_type": "code",
   "execution_count": 86,
   "id": "56c26421",
   "metadata": {},
   "outputs": [],
   "source": [
    "df_3['email'] = ['syed54603@gmail.com' , 'shaikhhamza12@gmail.com' , 'memonzaid166@gmail.com']\n",
    "# second method of changing columns info"
   ]
  },
  {
   "cell_type": "code",
   "execution_count": 87,
   "id": "ff272fdf",
   "metadata": {},
   "outputs": [
    {
     "data": {
      "text/html": [
       "<div>\n",
       "<style scoped>\n",
       "    .dataframe tbody tr th:only-of-type {\n",
       "        vertical-align: middle;\n",
       "    }\n",
       "\n",
       "    .dataframe tbody tr th {\n",
       "        vertical-align: top;\n",
       "    }\n",
       "\n",
       "    .dataframe thead th {\n",
       "        text-align: right;\n",
       "    }\n",
       "</style>\n",
       "<table border=\"1\" class=\"dataframe\">\n",
       "  <thead>\n",
       "    <tr style=\"text-align: right;\">\n",
       "      <th></th>\n",
       "      <th>first_name</th>\n",
       "      <th>last_name</th>\n",
       "      <th>email</th>\n",
       "    </tr>\n",
       "  </thead>\n",
       "  <tbody>\n",
       "    <tr>\n",
       "      <th>0</th>\n",
       "      <td>Abdul Rehman</td>\n",
       "      <td>Sayed</td>\n",
       "      <td>syed54603@gmail.com</td>\n",
       "    </tr>\n",
       "    <tr>\n",
       "      <th>1</th>\n",
       "      <td>Hamza</td>\n",
       "      <td>Shaikh</td>\n",
       "      <td>shaikhhamza12@gmail.com</td>\n",
       "    </tr>\n",
       "    <tr>\n",
       "      <th>2</th>\n",
       "      <td>Zaid</td>\n",
       "      <td>Memon</td>\n",
       "      <td>memonzaid166@gmail.com</td>\n",
       "    </tr>\n",
       "  </tbody>\n",
       "</table>\n",
       "</div>"
      ],
      "text/plain": [
       "     first_name last_name                    email\n",
       "0  Abdul Rehman     Sayed      syed54603@gmail.com\n",
       "1         Hamza    Shaikh  shaikhhamza12@gmail.com\n",
       "2          Zaid     Memon   memonzaid166@gmail.com"
      ]
     },
     "execution_count": 87,
     "metadata": {},
     "output_type": "execute_result"
    }
   ],
   "source": [
    "df_3"
   ]
  },
  {
   "cell_type": "code",
   "execution_count": 92,
   "id": "eb954c0a",
   "metadata": {},
   "outputs": [],
   "source": [
    "# df_3['email'] = (x.upper() for x in df_3['email'])"
   ]
  },
  {
   "cell_type": "markdown",
   "id": "98222804",
   "metadata": {},
   "source": [
    "# TUTORIAL 06 _ADD AND REMOVE THE ROWS AND COLUMNS_______\n",
    "read the comments carefully"
   ]
  },
  {
   "cell_type": "code",
   "execution_count": 174,
   "id": "bf6f9b5c",
   "metadata": {},
   "outputs": [],
   "source": [
    "car_info= {\"Company_name\" : [\"toyota\" , \"hyundi\" , \"tata\"],\n",
    "            \"model_name\" : [\"fortuner\" , \"i20\" , \"altroz\"],\n",
    "            \"email\" : [\"toyota54603@gmail.com\" , \"hyundi12@gmail.com\" , \"tata166@gmail.com\"]}"
   ]
  },
  {
   "cell_type": "code",
   "execution_count": 175,
   "id": "c788fff9",
   "metadata": {},
   "outputs": [
    {
     "data": {
      "text/html": [
       "<div>\n",
       "<style scoped>\n",
       "    .dataframe tbody tr th:only-of-type {\n",
       "        vertical-align: middle;\n",
       "    }\n",
       "\n",
       "    .dataframe tbody tr th {\n",
       "        vertical-align: top;\n",
       "    }\n",
       "\n",
       "    .dataframe thead th {\n",
       "        text-align: right;\n",
       "    }\n",
       "</style>\n",
       "<table border=\"1\" class=\"dataframe\">\n",
       "  <thead>\n",
       "    <tr style=\"text-align: right;\">\n",
       "      <th></th>\n",
       "      <th>Company_name</th>\n",
       "      <th>model_name</th>\n",
       "      <th>email</th>\n",
       "    </tr>\n",
       "  </thead>\n",
       "  <tbody>\n",
       "    <tr>\n",
       "      <th>0</th>\n",
       "      <td>toyota</td>\n",
       "      <td>fortuner</td>\n",
       "      <td>toyota54603@gmail.com</td>\n",
       "    </tr>\n",
       "    <tr>\n",
       "      <th>1</th>\n",
       "      <td>hyundi</td>\n",
       "      <td>i20</td>\n",
       "      <td>hyundi12@gmail.com</td>\n",
       "    </tr>\n",
       "    <tr>\n",
       "      <th>2</th>\n",
       "      <td>tata</td>\n",
       "      <td>altroz</td>\n",
       "      <td>tata166@gmail.com</td>\n",
       "    </tr>\n",
       "  </tbody>\n",
       "</table>\n",
       "</div>"
      ],
      "text/plain": [
       "  Company_name model_name                  email\n",
       "0       toyota   fortuner  toyota54603@gmail.com\n",
       "1       hyundi        i20     hyundi12@gmail.com\n",
       "2         tata     altroz      tata166@gmail.com"
      ]
     },
     "execution_count": 175,
     "metadata": {},
     "output_type": "execute_result"
    }
   ],
   "source": [
    "pd.DataFrame(car_info)"
   ]
  },
  {
   "cell_type": "code",
   "execution_count": 176,
   "id": "70c55729",
   "metadata": {},
   "outputs": [],
   "source": [
    "df_4 = pd.DataFrame(car_info)"
   ]
  },
  {
   "cell_type": "code",
   "execution_count": 178,
   "id": "8944ad0d",
   "metadata": {},
   "outputs": [
    {
     "data": {
      "text/plain": [
       "0    toyota fortuner\n",
       "1         hyundi i20\n",
       "2        tata altroz\n",
       "dtype: object"
      ]
     },
     "execution_count": 178,
     "metadata": {},
     "output_type": "execute_result"
    }
   ],
   "source": [
    "df_4['Company_name'] + ' ' + df_4['model_name']          # it is a series where yur 2 columns will merge into one"
   ]
  },
  {
   "cell_type": "code",
   "execution_count": 179,
   "id": "8fb16e21",
   "metadata": {},
   "outputs": [],
   "source": [
    "df_4['merge_C_M'] = df_4['Company_name'] + ' ' + df_4['model_name']    \n",
    "\n",
    "# this will merge your two column together and add to your data frame "
   ]
  },
  {
   "cell_type": "code",
   "execution_count": 180,
   "id": "c29525c5",
   "metadata": {},
   "outputs": [
    {
     "data": {
      "text/html": [
       "<div>\n",
       "<style scoped>\n",
       "    .dataframe tbody tr th:only-of-type {\n",
       "        vertical-align: middle;\n",
       "    }\n",
       "\n",
       "    .dataframe tbody tr th {\n",
       "        vertical-align: top;\n",
       "    }\n",
       "\n",
       "    .dataframe thead th {\n",
       "        text-align: right;\n",
       "    }\n",
       "</style>\n",
       "<table border=\"1\" class=\"dataframe\">\n",
       "  <thead>\n",
       "    <tr style=\"text-align: right;\">\n",
       "      <th></th>\n",
       "      <th>Company_name</th>\n",
       "      <th>model_name</th>\n",
       "      <th>email</th>\n",
       "      <th>merge_C_M</th>\n",
       "    </tr>\n",
       "  </thead>\n",
       "  <tbody>\n",
       "    <tr>\n",
       "      <th>0</th>\n",
       "      <td>toyota</td>\n",
       "      <td>fortuner</td>\n",
       "      <td>toyota54603@gmail.com</td>\n",
       "      <td>toyota fortuner</td>\n",
       "    </tr>\n",
       "    <tr>\n",
       "      <th>1</th>\n",
       "      <td>hyundi</td>\n",
       "      <td>i20</td>\n",
       "      <td>hyundi12@gmail.com</td>\n",
       "      <td>hyundi i20</td>\n",
       "    </tr>\n",
       "    <tr>\n",
       "      <th>2</th>\n",
       "      <td>tata</td>\n",
       "      <td>altroz</td>\n",
       "      <td>tata166@gmail.com</td>\n",
       "      <td>tata altroz</td>\n",
       "    </tr>\n",
       "  </tbody>\n",
       "</table>\n",
       "</div>"
      ],
      "text/plain": [
       "  Company_name model_name                  email        merge_C_M\n",
       "0       toyota   fortuner  toyota54603@gmail.com  toyota fortuner\n",
       "1       hyundi        i20     hyundi12@gmail.com       hyundi i20\n",
       "2         tata     altroz      tata166@gmail.com      tata altroz"
      ]
     },
     "execution_count": 180,
     "metadata": {},
     "output_type": "execute_result"
    }
   ],
   "source": [
    "df_4"
   ]
  },
  {
   "cell_type": "code",
   "execution_count": 182,
   "id": "54feef6e",
   "metadata": {},
   "outputs": [
    {
     "data": {
      "text/html": [
       "<div>\n",
       "<style scoped>\n",
       "    .dataframe tbody tr th:only-of-type {\n",
       "        vertical-align: middle;\n",
       "    }\n",
       "\n",
       "    .dataframe tbody tr th {\n",
       "        vertical-align: top;\n",
       "    }\n",
       "\n",
       "    .dataframe thead th {\n",
       "        text-align: right;\n",
       "    }\n",
       "</style>\n",
       "<table border=\"1\" class=\"dataframe\">\n",
       "  <thead>\n",
       "    <tr style=\"text-align: right;\">\n",
       "      <th></th>\n",
       "      <th>email</th>\n",
       "      <th>merge_C_M</th>\n",
       "    </tr>\n",
       "  </thead>\n",
       "  <tbody>\n",
       "    <tr>\n",
       "      <th>0</th>\n",
       "      <td>toyota54603@gmail.com</td>\n",
       "      <td>toyota fortuner</td>\n",
       "    </tr>\n",
       "    <tr>\n",
       "      <th>1</th>\n",
       "      <td>hyundi12@gmail.com</td>\n",
       "      <td>hyundi i20</td>\n",
       "    </tr>\n",
       "    <tr>\n",
       "      <th>2</th>\n",
       "      <td>tata166@gmail.com</td>\n",
       "      <td>tata altroz</td>\n",
       "    </tr>\n",
       "  </tbody>\n",
       "</table>\n",
       "</div>"
      ],
      "text/plain": [
       "                   email        merge_C_M\n",
       "0  toyota54603@gmail.com  toyota fortuner\n",
       "1     hyundi12@gmail.com       hyundi i20\n",
       "2      tata166@gmail.com      tata altroz"
      ]
     },
     "execution_count": 182,
     "metadata": {},
     "output_type": "execute_result"
    }
   ],
   "source": [
    "df_4.drop(columns = ['Company_name' , 'model_name']) \n",
    "\n",
    "# this is a method from which we can remove columns"
   ]
  },
  {
   "cell_type": "code",
   "execution_count": 186,
   "id": "6b403ace",
   "metadata": {},
   "outputs": [
    {
     "data": {
      "text/html": [
       "<div>\n",
       "<style scoped>\n",
       "    .dataframe tbody tr th:only-of-type {\n",
       "        vertical-align: middle;\n",
       "    }\n",
       "\n",
       "    .dataframe tbody tr th {\n",
       "        vertical-align: top;\n",
       "    }\n",
       "\n",
       "    .dataframe thead th {\n",
       "        text-align: right;\n",
       "    }\n",
       "</style>\n",
       "<table border=\"1\" class=\"dataframe\">\n",
       "  <thead>\n",
       "    <tr style=\"text-align: right;\">\n",
       "      <th></th>\n",
       "      <th>0</th>\n",
       "      <th>1</th>\n",
       "    </tr>\n",
       "  </thead>\n",
       "  <tbody>\n",
       "    <tr>\n",
       "      <th>0</th>\n",
       "      <td>toyota</td>\n",
       "      <td>fortuner</td>\n",
       "    </tr>\n",
       "    <tr>\n",
       "      <th>1</th>\n",
       "      <td>hyundi</td>\n",
       "      <td>i20</td>\n",
       "    </tr>\n",
       "    <tr>\n",
       "      <th>2</th>\n",
       "      <td>tata</td>\n",
       "      <td>altroz</td>\n",
       "    </tr>\n",
       "  </tbody>\n",
       "</table>\n",
       "</div>"
      ],
      "text/plain": [
       "        0         1\n",
       "0  toyota  fortuner\n",
       "1  hyundi       i20\n",
       "2    tata    altroz"
      ]
     },
     "execution_count": 186,
     "metadata": {},
     "output_type": "execute_result"
    }
   ],
   "source": [
    "df_4['merge_C_M'].str.split(' ' , expand = True)    \n",
    "\n",
    "# it will split your two columns which are combined in above cell..."
   ]
  },
  {
   "cell_type": "code",
   "execution_count": 189,
   "id": "1268bbab",
   "metadata": {},
   "outputs": [],
   "source": [
    "df_4[['company_name' , 'Model_name']] = df_4['merge_C_M'].str.split(' ' , expand = True)\n",
    "\n",
    "\n",
    "# if you want to add a column or want to change its position fron start then this method is used"
   ]
  },
  {
   "cell_type": "code",
   "execution_count": 190,
   "id": "cbecf75a",
   "metadata": {},
   "outputs": [
    {
     "data": {
      "text/html": [
       "<div>\n",
       "<style scoped>\n",
       "    .dataframe tbody tr th:only-of-type {\n",
       "        vertical-align: middle;\n",
       "    }\n",
       "\n",
       "    .dataframe tbody tr th {\n",
       "        vertical-align: top;\n",
       "    }\n",
       "\n",
       "    .dataframe thead th {\n",
       "        text-align: right;\n",
       "    }\n",
       "</style>\n",
       "<table border=\"1\" class=\"dataframe\">\n",
       "  <thead>\n",
       "    <tr style=\"text-align: right;\">\n",
       "      <th></th>\n",
       "      <th>Company_name</th>\n",
       "      <th>model_name</th>\n",
       "      <th>email</th>\n",
       "      <th>merge_C_M</th>\n",
       "      <th>Model_name</th>\n",
       "      <th>company_name</th>\n",
       "    </tr>\n",
       "  </thead>\n",
       "  <tbody>\n",
       "    <tr>\n",
       "      <th>0</th>\n",
       "      <td>toyota</td>\n",
       "      <td>fortuner</td>\n",
       "      <td>toyota54603@gmail.com</td>\n",
       "      <td>toyota fortuner</td>\n",
       "      <td>fortuner</td>\n",
       "      <td>toyota</td>\n",
       "    </tr>\n",
       "    <tr>\n",
       "      <th>1</th>\n",
       "      <td>hyundi</td>\n",
       "      <td>i20</td>\n",
       "      <td>hyundi12@gmail.com</td>\n",
       "      <td>hyundi i20</td>\n",
       "      <td>i20</td>\n",
       "      <td>hyundi</td>\n",
       "    </tr>\n",
       "    <tr>\n",
       "      <th>2</th>\n",
       "      <td>tata</td>\n",
       "      <td>altroz</td>\n",
       "      <td>tata166@gmail.com</td>\n",
       "      <td>tata altroz</td>\n",
       "      <td>altroz</td>\n",
       "      <td>tata</td>\n",
       "    </tr>\n",
       "  </tbody>\n",
       "</table>\n",
       "</div>"
      ],
      "text/plain": [
       "  Company_name model_name                  email        merge_C_M Model_name  \\\n",
       "0       toyota   fortuner  toyota54603@gmail.com  toyota fortuner   fortuner   \n",
       "1       hyundi        i20     hyundi12@gmail.com       hyundi i20        i20   \n",
       "2         tata     altroz      tata166@gmail.com      tata altroz     altroz   \n",
       "\n",
       "  company_name  \n",
       "0       toyota  \n",
       "1       hyundi  \n",
       "2         tata  "
      ]
     },
     "execution_count": 190,
     "metadata": {},
     "output_type": "execute_result"
    }
   ],
   "source": [
    "df_4"
   ]
  },
  {
   "cell_type": "code",
   "execution_count": null,
   "id": "02f9c92e",
   "metadata": {},
   "outputs": [],
   "source": [
    "# df_4.drop(columns = ['Company_name' , 'model_name'] , inplace = True)        \n",
    "\n",
    "# this will make changes to your orignal dataframe"
   ]
  },
  {
   "cell_type": "markdown",
   "id": "7dce65ca",
   "metadata": {},
   "source": [
    "# .append()"
   ]
  },
  {
   "cell_type": "code",
   "execution_count": 195,
   "id": "6ab6a13c",
   "metadata": {},
   "outputs": [
    {
     "name": "stderr",
     "output_type": "stream",
     "text": [
      "C:\\Users\\abdul\\AppData\\Local\\Temp\\ipykernel_3556\\1566250966.py:1: FutureWarning: The frame.append method is deprecated and will be removed from pandas in a future version. Use pandas.concat instead.\n",
      "  df_4.append({'Company_name' : 'suzuki','model_name' : 'maruti' , 'email' : 'suzuki456@gmail.com'}, ignore_index = True)\n"
     ]
    },
    {
     "data": {
      "text/html": [
       "<div>\n",
       "<style scoped>\n",
       "    .dataframe tbody tr th:only-of-type {\n",
       "        vertical-align: middle;\n",
       "    }\n",
       "\n",
       "    .dataframe tbody tr th {\n",
       "        vertical-align: top;\n",
       "    }\n",
       "\n",
       "    .dataframe thead th {\n",
       "        text-align: right;\n",
       "    }\n",
       "</style>\n",
       "<table border=\"1\" class=\"dataframe\">\n",
       "  <thead>\n",
       "    <tr style=\"text-align: right;\">\n",
       "      <th></th>\n",
       "      <th>Company_name</th>\n",
       "      <th>model_name</th>\n",
       "      <th>email</th>\n",
       "      <th>merge_C_M</th>\n",
       "      <th>Model_name</th>\n",
       "      <th>company_name</th>\n",
       "    </tr>\n",
       "  </thead>\n",
       "  <tbody>\n",
       "    <tr>\n",
       "      <th>0</th>\n",
       "      <td>toyota</td>\n",
       "      <td>fortuner</td>\n",
       "      <td>toyota54603@gmail.com</td>\n",
       "      <td>toyota fortuner</td>\n",
       "      <td>fortuner</td>\n",
       "      <td>toyota</td>\n",
       "    </tr>\n",
       "    <tr>\n",
       "      <th>1</th>\n",
       "      <td>hyundi</td>\n",
       "      <td>i20</td>\n",
       "      <td>hyundi12@gmail.com</td>\n",
       "      <td>hyundi i20</td>\n",
       "      <td>i20</td>\n",
       "      <td>hyundi</td>\n",
       "    </tr>\n",
       "    <tr>\n",
       "      <th>2</th>\n",
       "      <td>tata</td>\n",
       "      <td>altroz</td>\n",
       "      <td>tata166@gmail.com</td>\n",
       "      <td>tata altroz</td>\n",
       "      <td>altroz</td>\n",
       "      <td>tata</td>\n",
       "    </tr>\n",
       "    <tr>\n",
       "      <th>3</th>\n",
       "      <td>suzuki</td>\n",
       "      <td>maruti</td>\n",
       "      <td>suzuki456@gmail.com</td>\n",
       "      <td>NaN</td>\n",
       "      <td>NaN</td>\n",
       "      <td>NaN</td>\n",
       "    </tr>\n",
       "  </tbody>\n",
       "</table>\n",
       "</div>"
      ],
      "text/plain": [
       "  Company_name model_name                  email        merge_C_M Model_name  \\\n",
       "0       toyota   fortuner  toyota54603@gmail.com  toyota fortuner   fortuner   \n",
       "1       hyundi        i20     hyundi12@gmail.com       hyundi i20        i20   \n",
       "2         tata     altroz      tata166@gmail.com      tata altroz     altroz   \n",
       "3       suzuki     maruti    suzuki456@gmail.com              NaN        NaN   \n",
       "\n",
       "  company_name  \n",
       "0       toyota  \n",
       "1       hyundi  \n",
       "2         tata  \n",
       "3          NaN  "
      ]
     },
     "execution_count": 195,
     "metadata": {},
     "output_type": "execute_result"
    }
   ],
   "source": [
    "df_4.append({'Company_name' : 'suzuki','model_name' : 'maruti' , 'email' : 'suzuki456@gmail.com'}, ignore_index = True)\n",
    "\n",
    "\n",
    "# "
   ]
  },
  {
   "cell_type": "code",
   "execution_count": 196,
   "id": "51e2096c",
   "metadata": {},
   "outputs": [],
   "source": [
    "car_info_2= {\"Company_name\" : [\"mahindra\" , \"honda\"],\n",
    "            \"model_name\" : [\"m&m\" , \"hondacity\"],\n",
    "            \"email\" : [\"mahindra54603@gmail.com\" , \"honda12@gmail.com\"]}"
   ]
  },
  {
   "cell_type": "code",
   "execution_count": 197,
   "id": "ea9dac24",
   "metadata": {},
   "outputs": [
    {
     "data": {
      "text/html": [
       "<div>\n",
       "<style scoped>\n",
       "    .dataframe tbody tr th:only-of-type {\n",
       "        vertical-align: middle;\n",
       "    }\n",
       "\n",
       "    .dataframe tbody tr th {\n",
       "        vertical-align: top;\n",
       "    }\n",
       "\n",
       "    .dataframe thead th {\n",
       "        text-align: right;\n",
       "    }\n",
       "</style>\n",
       "<table border=\"1\" class=\"dataframe\">\n",
       "  <thead>\n",
       "    <tr style=\"text-align: right;\">\n",
       "      <th></th>\n",
       "      <th>Company_name</th>\n",
       "      <th>model_name</th>\n",
       "      <th>email</th>\n",
       "    </tr>\n",
       "  </thead>\n",
       "  <tbody>\n",
       "    <tr>\n",
       "      <th>0</th>\n",
       "      <td>mahindra</td>\n",
       "      <td>m&amp;m</td>\n",
       "      <td>mahindra54603@gmail.com</td>\n",
       "    </tr>\n",
       "    <tr>\n",
       "      <th>1</th>\n",
       "      <td>honda</td>\n",
       "      <td>hondacity</td>\n",
       "      <td>honda12@gmail.com</td>\n",
       "    </tr>\n",
       "  </tbody>\n",
       "</table>\n",
       "</div>"
      ],
      "text/plain": [
       "  Company_name model_name                    email\n",
       "0     mahindra        m&m  mahindra54603@gmail.com\n",
       "1        honda  hondacity        honda12@gmail.com"
      ]
     },
     "execution_count": 197,
     "metadata": {},
     "output_type": "execute_result"
    }
   ],
   "source": [
    "pd.DataFrame(car_info_2)"
   ]
  },
  {
   "cell_type": "code",
   "execution_count": 198,
   "id": "7aa71c10",
   "metadata": {},
   "outputs": [],
   "source": [
    "df_5 = pd.DataFrame(car_info_2) "
   ]
  },
  {
   "cell_type": "code",
   "execution_count": 200,
   "id": "be9fc4cc",
   "metadata": {},
   "outputs": [
    {
     "name": "stderr",
     "output_type": "stream",
     "text": [
      "C:\\Users\\abdul\\AppData\\Local\\Temp\\ipykernel_3556\\2483130722.py:1: FutureWarning: The frame.append method is deprecated and will be removed from pandas in a future version. Use pandas.concat instead.\n",
      "  df_4.append(df_5 , ignore_index = True , sort = False)\n"
     ]
    },
    {
     "data": {
      "text/html": [
       "<div>\n",
       "<style scoped>\n",
       "    .dataframe tbody tr th:only-of-type {\n",
       "        vertical-align: middle;\n",
       "    }\n",
       "\n",
       "    .dataframe tbody tr th {\n",
       "        vertical-align: top;\n",
       "    }\n",
       "\n",
       "    .dataframe thead th {\n",
       "        text-align: right;\n",
       "    }\n",
       "</style>\n",
       "<table border=\"1\" class=\"dataframe\">\n",
       "  <thead>\n",
       "    <tr style=\"text-align: right;\">\n",
       "      <th></th>\n",
       "      <th>Company_name</th>\n",
       "      <th>model_name</th>\n",
       "      <th>email</th>\n",
       "      <th>merge_C_M</th>\n",
       "      <th>Model_name</th>\n",
       "      <th>company_name</th>\n",
       "    </tr>\n",
       "  </thead>\n",
       "  <tbody>\n",
       "    <tr>\n",
       "      <th>0</th>\n",
       "      <td>toyota</td>\n",
       "      <td>fortuner</td>\n",
       "      <td>toyota54603@gmail.com</td>\n",
       "      <td>toyota fortuner</td>\n",
       "      <td>fortuner</td>\n",
       "      <td>toyota</td>\n",
       "    </tr>\n",
       "    <tr>\n",
       "      <th>1</th>\n",
       "      <td>hyundi</td>\n",
       "      <td>i20</td>\n",
       "      <td>hyundi12@gmail.com</td>\n",
       "      <td>hyundi i20</td>\n",
       "      <td>i20</td>\n",
       "      <td>hyundi</td>\n",
       "    </tr>\n",
       "    <tr>\n",
       "      <th>2</th>\n",
       "      <td>tata</td>\n",
       "      <td>altroz</td>\n",
       "      <td>tata166@gmail.com</td>\n",
       "      <td>tata altroz</td>\n",
       "      <td>altroz</td>\n",
       "      <td>tata</td>\n",
       "    </tr>\n",
       "    <tr>\n",
       "      <th>3</th>\n",
       "      <td>mahindra</td>\n",
       "      <td>m&amp;m</td>\n",
       "      <td>mahindra54603@gmail.com</td>\n",
       "      <td>NaN</td>\n",
       "      <td>NaN</td>\n",
       "      <td>NaN</td>\n",
       "    </tr>\n",
       "    <tr>\n",
       "      <th>4</th>\n",
       "      <td>honda</td>\n",
       "      <td>hondacity</td>\n",
       "      <td>honda12@gmail.com</td>\n",
       "      <td>NaN</td>\n",
       "      <td>NaN</td>\n",
       "      <td>NaN</td>\n",
       "    </tr>\n",
       "  </tbody>\n",
       "</table>\n",
       "</div>"
      ],
      "text/plain": [
       "  Company_name model_name                    email        merge_C_M  \\\n",
       "0       toyota   fortuner    toyota54603@gmail.com  toyota fortuner   \n",
       "1       hyundi        i20       hyundi12@gmail.com       hyundi i20   \n",
       "2         tata     altroz        tata166@gmail.com      tata altroz   \n",
       "3     mahindra        m&m  mahindra54603@gmail.com              NaN   \n",
       "4        honda  hondacity        honda12@gmail.com              NaN   \n",
       "\n",
       "  Model_name company_name  \n",
       "0   fortuner       toyota  \n",
       "1        i20       hyundi  \n",
       "2     altroz         tata  \n",
       "3        NaN          NaN  \n",
       "4        NaN          NaN  "
      ]
     },
     "execution_count": 200,
     "metadata": {},
     "output_type": "execute_result"
    }
   ],
   "source": [
    "df_4.append(df_5 , ignore_index = True , sort = False)         # how to append or add one dataframe to another dataframe...."
   ]
  },
  {
   "cell_type": "markdown",
   "id": "bf97997c",
   "metadata": {},
   "source": [
    "# .drop()"
   ]
  },
  {
   "cell_type": "code",
   "execution_count": 212,
   "id": "78a6f5a5",
   "metadata": {},
   "outputs": [
    {
     "data": {
      "text/html": [
       "<div>\n",
       "<style scoped>\n",
       "    .dataframe tbody tr th:only-of-type {\n",
       "        vertical-align: middle;\n",
       "    }\n",
       "\n",
       "    .dataframe tbody tr th {\n",
       "        vertical-align: top;\n",
       "    }\n",
       "\n",
       "    .dataframe thead th {\n",
       "        text-align: right;\n",
       "    }\n",
       "</style>\n",
       "<table border=\"1\" class=\"dataframe\">\n",
       "  <thead>\n",
       "    <tr style=\"text-align: right;\">\n",
       "      <th></th>\n",
       "      <th>Company_name</th>\n",
       "      <th>model_name</th>\n",
       "      <th>email</th>\n",
       "    </tr>\n",
       "  </thead>\n",
       "  <tbody>\n",
       "    <tr>\n",
       "      <th>0</th>\n",
       "      <td>mahindra</td>\n",
       "      <td>m&amp;m</td>\n",
       "      <td>mahindra54603@gmail.com</td>\n",
       "    </tr>\n",
       "  </tbody>\n",
       "</table>\n",
       "</div>"
      ],
      "text/plain": [
       "  Company_name model_name                    email\n",
       "0     mahindra        m&m  mahindra54603@gmail.com"
      ]
     },
     "execution_count": 212,
     "metadata": {},
     "output_type": "execute_result"
    }
   ],
   "source": [
    "df_5.drop(index = 1)       # it will remove a  row from your dataframe"
   ]
  },
  {
   "cell_type": "markdown",
   "id": "2e7ebe8b",
   "metadata": {},
   "source": [
    "# TUTORIAL 07 __SORTING DATA ______   (.sort_values(by=)\n",
    "read the comments carefully"
   ]
  },
  {
   "cell_type": "code",
   "execution_count": 4,
   "id": "30c5dd67",
   "metadata": {},
   "outputs": [],
   "source": [
    "import pandas as pd"
   ]
  },
  {
   "cell_type": "code",
   "execution_count": 17,
   "id": "93c98dfa",
   "metadata": {},
   "outputs": [],
   "source": [
    "name_girls = {'first' : ['Zubiya' , 'Haya' , 'Rutika' , 'Shraddha'],\n",
    "       'last' : ['Bangi' , 'Shaikh' , 'Ahire' , 'Talke'],\n",
    "       'email' : ['zubiya431@gmail.com' , 'haya989@gmail.com' , 'rutika321@gmail.com' , 'shraddha555@gmail.com']}"
   ]
  },
  {
   "cell_type": "code",
   "execution_count": 18,
   "id": "8fe8fc2c",
   "metadata": {},
   "outputs": [
    {
     "data": {
      "text/html": [
       "<div>\n",
       "<style scoped>\n",
       "    .dataframe tbody tr th:only-of-type {\n",
       "        vertical-align: middle;\n",
       "    }\n",
       "\n",
       "    .dataframe tbody tr th {\n",
       "        vertical-align: top;\n",
       "    }\n",
       "\n",
       "    .dataframe thead th {\n",
       "        text-align: right;\n",
       "    }\n",
       "</style>\n",
       "<table border=\"1\" class=\"dataframe\">\n",
       "  <thead>\n",
       "    <tr style=\"text-align: right;\">\n",
       "      <th></th>\n",
       "      <th>first</th>\n",
       "      <th>last</th>\n",
       "      <th>email</th>\n",
       "    </tr>\n",
       "  </thead>\n",
       "  <tbody>\n",
       "    <tr>\n",
       "      <th>0</th>\n",
       "      <td>Zubiya</td>\n",
       "      <td>Bangi</td>\n",
       "      <td>zubiya431@gmail.com</td>\n",
       "    </tr>\n",
       "    <tr>\n",
       "      <th>1</th>\n",
       "      <td>Haya</td>\n",
       "      <td>Shaikh</td>\n",
       "      <td>haya989@gmail.com</td>\n",
       "    </tr>\n",
       "    <tr>\n",
       "      <th>2</th>\n",
       "      <td>Rutika</td>\n",
       "      <td>Ahire</td>\n",
       "      <td>rutika321@gmail.com</td>\n",
       "    </tr>\n",
       "    <tr>\n",
       "      <th>3</th>\n",
       "      <td>Shraddha</td>\n",
       "      <td>Talke</td>\n",
       "      <td>shraddha555@gmail.com</td>\n",
       "    </tr>\n",
       "  </tbody>\n",
       "</table>\n",
       "</div>"
      ],
      "text/plain": [
       "      first    last                  email\n",
       "0    Zubiya   Bangi    zubiya431@gmail.com\n",
       "1      Haya  Shaikh      haya989@gmail.com\n",
       "2    Rutika   Ahire    rutika321@gmail.com\n",
       "3  Shraddha   Talke  shraddha555@gmail.com"
      ]
     },
     "execution_count": 18,
     "metadata": {},
     "output_type": "execute_result"
    }
   ],
   "source": [
    "pd.DataFrame(name_girls)"
   ]
  },
  {
   "cell_type": "code",
   "execution_count": 19,
   "id": "0a9edbfc",
   "metadata": {},
   "outputs": [],
   "source": [
    "df_6 = pd.DataFrame(name_girls)"
   ]
  },
  {
   "cell_type": "markdown",
   "id": "1a33d64a",
   "metadata": {},
   "source": [
    "# .sort_values()"
   ]
  },
  {
   "cell_type": "code",
   "execution_count": 11,
   "id": "bb01088b",
   "metadata": {},
   "outputs": [
    {
     "data": {
      "text/html": [
       "<div>\n",
       "<style scoped>\n",
       "    .dataframe tbody tr th:only-of-type {\n",
       "        vertical-align: middle;\n",
       "    }\n",
       "\n",
       "    .dataframe tbody tr th {\n",
       "        vertical-align: top;\n",
       "    }\n",
       "\n",
       "    .dataframe thead th {\n",
       "        text-align: right;\n",
       "    }\n",
       "</style>\n",
       "<table border=\"1\" class=\"dataframe\">\n",
       "  <thead>\n",
       "    <tr style=\"text-align: right;\">\n",
       "      <th></th>\n",
       "      <th>first</th>\n",
       "      <th>last</th>\n",
       "      <th>email</th>\n",
       "    </tr>\n",
       "  </thead>\n",
       "  <tbody>\n",
       "    <tr>\n",
       "      <th>2</th>\n",
       "      <td>Rutika</td>\n",
       "      <td>Ahire</td>\n",
       "      <td>rutika321@gmail.com</td>\n",
       "    </tr>\n",
       "    <tr>\n",
       "      <th>0</th>\n",
       "      <td>Zubiya</td>\n",
       "      <td>Bangi</td>\n",
       "      <td>zubiya431@gmail.com</td>\n",
       "    </tr>\n",
       "    <tr>\n",
       "      <th>1</th>\n",
       "      <td>Haya</td>\n",
       "      <td>Shaikh</td>\n",
       "      <td>haya989@gmail.com</td>\n",
       "    </tr>\n",
       "  </tbody>\n",
       "</table>\n",
       "</div>"
      ],
      "text/plain": [
       "    first    last                email\n",
       "2  Rutika   Ahire  rutika321@gmail.com\n",
       "0  Zubiya   Bangi  zubiya431@gmail.com\n",
       "1    Haya  Shaikh    haya989@gmail.com"
      ]
     },
     "execution_count": 11,
     "metadata": {},
     "output_type": "execute_result"
    }
   ],
   "source": [
    "df_6.sort_values(by='last')    # if you ant to sort a column according alphabatically order A-Z...."
   ]
  },
  {
   "cell_type": "code",
   "execution_count": 14,
   "id": "6afaee7f",
   "metadata": {},
   "outputs": [
    {
     "data": {
      "text/html": [
       "<div>\n",
       "<style scoped>\n",
       "    .dataframe tbody tr th:only-of-type {\n",
       "        vertical-align: middle;\n",
       "    }\n",
       "\n",
       "    .dataframe tbody tr th {\n",
       "        vertical-align: top;\n",
       "    }\n",
       "\n",
       "    .dataframe thead th {\n",
       "        text-align: right;\n",
       "    }\n",
       "</style>\n",
       "<table border=\"1\" class=\"dataframe\">\n",
       "  <thead>\n",
       "    <tr style=\"text-align: right;\">\n",
       "      <th></th>\n",
       "      <th>first</th>\n",
       "      <th>last</th>\n",
       "      <th>email</th>\n",
       "    </tr>\n",
       "  </thead>\n",
       "  <tbody>\n",
       "    <tr>\n",
       "      <th>1</th>\n",
       "      <td>Haya</td>\n",
       "      <td>Shaikh</td>\n",
       "      <td>haya989@gmail.com</td>\n",
       "    </tr>\n",
       "    <tr>\n",
       "      <th>0</th>\n",
       "      <td>Zubiya</td>\n",
       "      <td>Bangi</td>\n",
       "      <td>zubiya431@gmail.com</td>\n",
       "    </tr>\n",
       "    <tr>\n",
       "      <th>2</th>\n",
       "      <td>Rutika</td>\n",
       "      <td>Ahire</td>\n",
       "      <td>rutika321@gmail.com</td>\n",
       "    </tr>\n",
       "  </tbody>\n",
       "</table>\n",
       "</div>"
      ],
      "text/plain": [
       "    first    last                email\n",
       "1    Haya  Shaikh    haya989@gmail.com\n",
       "0  Zubiya   Bangi  zubiya431@gmail.com\n",
       "2  Rutika   Ahire  rutika321@gmail.com"
      ]
     },
     "execution_count": 14,
     "metadata": {},
     "output_type": "execute_result"
    }
   ],
   "source": [
    "df_6.sort_values(by='last' , ascending = False)     # sort a column according Z-A"
   ]
  },
  {
   "cell_type": "code",
   "execution_count": 16,
   "id": "e74ee683",
   "metadata": {},
   "outputs": [
    {
     "data": {
      "text/html": [
       "<div>\n",
       "<style scoped>\n",
       "    .dataframe tbody tr th:only-of-type {\n",
       "        vertical-align: middle;\n",
       "    }\n",
       "\n",
       "    .dataframe tbody tr th {\n",
       "        vertical-align: top;\n",
       "    }\n",
       "\n",
       "    .dataframe thead th {\n",
       "        text-align: right;\n",
       "    }\n",
       "</style>\n",
       "<table border=\"1\" class=\"dataframe\">\n",
       "  <thead>\n",
       "    <tr style=\"text-align: right;\">\n",
       "      <th></th>\n",
       "      <th>first</th>\n",
       "      <th>last</th>\n",
       "      <th>email</th>\n",
       "    </tr>\n",
       "  </thead>\n",
       "  <tbody>\n",
       "    <tr>\n",
       "      <th>1</th>\n",
       "      <td>Haya</td>\n",
       "      <td>Shaikh</td>\n",
       "      <td>haya989@gmail.com</td>\n",
       "    </tr>\n",
       "    <tr>\n",
       "      <th>0</th>\n",
       "      <td>Zubiya</td>\n",
       "      <td>Bangi</td>\n",
       "      <td>zubiya431@gmail.com</td>\n",
       "    </tr>\n",
       "    <tr>\n",
       "      <th>2</th>\n",
       "      <td>Rutika</td>\n",
       "      <td>Ahire</td>\n",
       "      <td>rutika321@gmail.com</td>\n",
       "    </tr>\n",
       "  </tbody>\n",
       "</table>\n",
       "</div>"
      ],
      "text/plain": [
       "    first    last                email\n",
       "1    Haya  Shaikh    haya989@gmail.com\n",
       "0  Zubiya   Bangi  zubiya431@gmail.com\n",
       "2  Rutika   Ahire  rutika321@gmail.com"
      ]
     },
     "execution_count": 16,
     "metadata": {},
     "output_type": "execute_result"
    }
   ],
   "source": [
    "df_6.sort_values(by=['last' , 'first'] , ascending = False)    # if you want to sort more than one column"
   ]
  },
  {
   "cell_type": "code",
   "execution_count": 20,
   "id": "d75ec7aa",
   "metadata": {},
   "outputs": [
    {
     "data": {
      "text/html": [
       "<div>\n",
       "<style scoped>\n",
       "    .dataframe tbody tr th:only-of-type {\n",
       "        vertical-align: middle;\n",
       "    }\n",
       "\n",
       "    .dataframe tbody tr th {\n",
       "        vertical-align: top;\n",
       "    }\n",
       "\n",
       "    .dataframe thead th {\n",
       "        text-align: right;\n",
       "    }\n",
       "</style>\n",
       "<table border=\"1\" class=\"dataframe\">\n",
       "  <thead>\n",
       "    <tr style=\"text-align: right;\">\n",
       "      <th></th>\n",
       "      <th>first</th>\n",
       "      <th>last</th>\n",
       "      <th>email</th>\n",
       "    </tr>\n",
       "  </thead>\n",
       "  <tbody>\n",
       "    <tr>\n",
       "      <th>3</th>\n",
       "      <td>Shraddha</td>\n",
       "      <td>Talke</td>\n",
       "      <td>shraddha555@gmail.com</td>\n",
       "    </tr>\n",
       "    <tr>\n",
       "      <th>1</th>\n",
       "      <td>Haya</td>\n",
       "      <td>Shaikh</td>\n",
       "      <td>haya989@gmail.com</td>\n",
       "    </tr>\n",
       "    <tr>\n",
       "      <th>0</th>\n",
       "      <td>Zubiya</td>\n",
       "      <td>Bangi</td>\n",
       "      <td>zubiya431@gmail.com</td>\n",
       "    </tr>\n",
       "    <tr>\n",
       "      <th>2</th>\n",
       "      <td>Rutika</td>\n",
       "      <td>Ahire</td>\n",
       "      <td>rutika321@gmail.com</td>\n",
       "    </tr>\n",
       "  </tbody>\n",
       "</table>\n",
       "</div>"
      ],
      "text/plain": [
       "      first    last                  email\n",
       "3  Shraddha   Talke  shraddha555@gmail.com\n",
       "1      Haya  Shaikh      haya989@gmail.com\n",
       "0    Zubiya   Bangi    zubiya431@gmail.com\n",
       "2    Rutika   Ahire    rutika321@gmail.com"
      ]
     },
     "execution_count": 20,
     "metadata": {},
     "output_type": "execute_result"
    }
   ],
   "source": [
    "df_6.sort_values(by=['last' , 'first'] , ascending = [False,True])    \n",
    "# if you want to that one column in ascending (A-Z) and  another in decending.....\n",
    "\n",
    "\n",
    "# IF YOU WANT TO permanent any value in your dataframe then [,inplace= True]"
   ]
  },
  {
   "cell_type": "code",
   "execution_count": 23,
   "id": "3f9062df",
   "metadata": {},
   "outputs": [
    {
     "data": {
      "text/plain": [
       "2     Ahire\n",
       "0     Bangi\n",
       "1    Shaikh\n",
       "3     Talke\n",
       "Name: last, dtype: object"
      ]
     },
     "execution_count": 23,
     "metadata": {},
     "output_type": "execute_result"
    }
   ],
   "source": [
    "df_6['last'].sort_values()       # it will sort your column in A-Z and it will give you in series"
   ]
  },
  {
   "cell_type": "markdown",
   "id": "e8084191",
   "metadata": {},
   "source": [
    "# .sort_index()"
   ]
  },
  {
   "cell_type": "code",
   "execution_count": 21,
   "id": "782e6881",
   "metadata": {},
   "outputs": [
    {
     "data": {
      "text/html": [
       "<div>\n",
       "<style scoped>\n",
       "    .dataframe tbody tr th:only-of-type {\n",
       "        vertical-align: middle;\n",
       "    }\n",
       "\n",
       "    .dataframe tbody tr th {\n",
       "        vertical-align: top;\n",
       "    }\n",
       "\n",
       "    .dataframe thead th {\n",
       "        text-align: right;\n",
       "    }\n",
       "</style>\n",
       "<table border=\"1\" class=\"dataframe\">\n",
       "  <thead>\n",
       "    <tr style=\"text-align: right;\">\n",
       "      <th></th>\n",
       "      <th>first</th>\n",
       "      <th>last</th>\n",
       "      <th>email</th>\n",
       "    </tr>\n",
       "  </thead>\n",
       "  <tbody>\n",
       "    <tr>\n",
       "      <th>0</th>\n",
       "      <td>Zubiya</td>\n",
       "      <td>Bangi</td>\n",
       "      <td>zubiya431@gmail.com</td>\n",
       "    </tr>\n",
       "    <tr>\n",
       "      <th>1</th>\n",
       "      <td>Haya</td>\n",
       "      <td>Shaikh</td>\n",
       "      <td>haya989@gmail.com</td>\n",
       "    </tr>\n",
       "    <tr>\n",
       "      <th>2</th>\n",
       "      <td>Rutika</td>\n",
       "      <td>Ahire</td>\n",
       "      <td>rutika321@gmail.com</td>\n",
       "    </tr>\n",
       "    <tr>\n",
       "      <th>3</th>\n",
       "      <td>Shraddha</td>\n",
       "      <td>Talke</td>\n",
       "      <td>shraddha555@gmail.com</td>\n",
       "    </tr>\n",
       "  </tbody>\n",
       "</table>\n",
       "</div>"
      ],
      "text/plain": [
       "      first    last                  email\n",
       "0    Zubiya   Bangi    zubiya431@gmail.com\n",
       "1      Haya  Shaikh      haya989@gmail.com\n",
       "2    Rutika   Ahire    rutika321@gmail.com\n",
       "3  Shraddha   Talke  shraddha555@gmail.com"
      ]
     },
     "execution_count": 21,
     "metadata": {},
     "output_type": "execute_result"
    }
   ],
   "source": [
    "df_6.sort_index()      # it will sort the index ........"
   ]
  },
  {
   "cell_type": "markdown",
   "id": "6dd3428e",
   "metadata": {},
   "source": [
    "# TUTORIAL 08___gruping and aggregating - analysing and exploring data___\n",
    "read the comments carefully"
   ]
  },
  {
   "cell_type": "code",
   "execution_count": 126,
   "id": "ef5edc45",
   "metadata": {},
   "outputs": [
    {
     "data": {
      "text/plain": [
       "8378      41,500\n",
       "5080      52,000\n",
       "328       80,400\n",
       "3930      65,000\n",
       "2905      65,000\n",
       "9311      50,000\n",
       "3725      36,000\n",
       "6414      30,000\n",
       "5424      67,000\n",
       "1935    1,70,000\n",
       "8443      84,000\n",
       "5398      95,000\n",
       "3684      95,000\n",
       "8277      95,000\n",
       "9792      95,000\n",
       "Name: Price, dtype: object"
      ]
     },
     "execution_count": 126,
     "metadata": {},
     "output_type": "execute_result"
    }
   ],
   "source": [
    "df['Price'].head(15)"
   ]
  },
  {
   "cell_type": "code",
   "execution_count": 149,
   "id": "7b9d6cd2",
   "metadata": {},
   "outputs": [],
   "source": [
    "# df['Price'].astype(int)"
   ]
  },
  {
   "cell_type": "markdown",
   "id": "cef6a99c",
   "metadata": {},
   "source": [
    "# how to elimate_______Must______seeeee.....\n",
    " 1.Comma\n",
    " \n",
    " 2.\\n\n",
    " \n",
    " 3.space\n",
    " \n",
    " function"
   ]
  },
  {
   "cell_type": "code",
   "execution_count": 364,
   "id": "ade01289",
   "metadata": {},
   "outputs": [],
   "source": [
    "def remove_comma(Column_name):\n",
    "    return Column_name.replace(',' , '')\n",
    "# def remove_space(Column_name_for_remove_space):\n",
    "#     return Column_name_for_remove_space.replace(' ' , '')"
   ]
  },
  {
   "cell_type": "code",
   "execution_count": 365,
   "id": "55c7a0ff",
   "metadata": {},
   "outputs": [],
   "source": [
    "def remove_new_line(Column_name1) :\n",
    "    return Column_name1.replace('\\n' , '')"
   ]
  },
  {
   "cell_type": "code",
   "execution_count": 366,
   "id": "41ceb9c6",
   "metadata": {},
   "outputs": [],
   "source": [
    "def remove_space(Column):\n",
    "    return Column.replace(' ' , '')"
   ]
  },
  {
   "cell_type": "code",
   "execution_count": 367,
   "id": "232727c1",
   "metadata": {},
   "outputs": [],
   "source": [
    "df['Price'] = df['Price'].apply(remove_comma)"
   ]
  },
  {
   "cell_type": "code",
   "execution_count": 368,
   "id": "e3618714",
   "metadata": {},
   "outputs": [],
   "source": [
    "df['Price'] = df['Price'].apply(remove_new_line)"
   ]
  },
  {
   "cell_type": "code",
   "execution_count": 369,
   "id": "bc59815b",
   "metadata": {},
   "outputs": [],
   "source": [
    "df['Price'] = df['Price'].apply(remove_space)"
   ]
  },
  {
   "cell_type": "markdown",
   "id": "5358735a",
   "metadata": {},
   "source": [
    "# _____________________________________________________________________________________________over________"
   ]
  },
  {
   "cell_type": "code",
   "execution_count": 222,
   "id": "2bb88eea",
   "metadata": {},
   "outputs": [],
   "source": [
    "# df['Price'] = df['Price'].apply(remove_space)   #45000 44663"
   ]
  },
  {
   "cell_type": "markdown",
   "id": "121e2eb9",
   "metadata": {},
   "source": [
    "# This is a way to check the value that you want"
   ]
  },
  {
   "cell_type": "code",
   "execution_count": 370,
   "id": "9de40c99",
   "metadata": {},
   "outputs": [],
   "source": [
    "filt_df_info = ((df['Price'] == '45000 44663'))"
   ]
  },
  {
   "cell_type": "code",
   "execution_count": 371,
   "id": "4dc900c4",
   "metadata": {},
   "outputs": [
    {
     "data": {
      "text/plain": [
       "Series([], Name: Price, dtype: object)"
      ]
     },
     "execution_count": 371,
     "metadata": {},
     "output_type": "execute_result"
    }
   ],
   "source": [
    "df.loc[filt_df_info , 'Price']"
   ]
  },
  {
   "cell_type": "markdown",
   "id": "e0588fed",
   "metadata": {},
   "source": [
    "# _____________________________________________________________________________________________over________"
   ]
  },
  {
   "cell_type": "code",
   "execution_count": 372,
   "id": "dd20e832",
   "metadata": {},
   "outputs": [
    {
     "data": {
      "text/plain": [
       "0         35000\n",
       "1        119900\n",
       "2        600000\n",
       "3         65000\n",
       "4         80000\n",
       "          ...  \n",
       "34495     39000\n",
       "34496     30000\n",
       "34497     60000\n",
       "34498     15600\n",
       "34499     22000\n",
       "Name: Price, Length: 34500, dtype: object"
      ]
     },
     "execution_count": 372,
     "metadata": {},
     "output_type": "execute_result"
    }
   ],
   "source": [
    "df['Price']"
   ]
  },
  {
   "cell_type": "markdown",
   "id": "d868bafa",
   "metadata": {},
   "source": [
    "# .head()"
   ]
  },
  {
   "cell_type": "code",
   "execution_count": 226,
   "id": "3d56796b",
   "metadata": {
    "collapsed": true
   },
   "outputs": [
    {
     "data": {
      "text/plain": [
       "8378     41500\n",
       "5080     52000\n",
       "328      80400\n",
       "3930     65000\n",
       "2905     65000\n",
       "9311     50000\n",
       "3725     36000\n",
       "6414     30000\n",
       "5424     67000\n",
       "1935    170000\n",
       "8443     84000\n",
       "5398     95000\n",
       "3684     95000\n",
       "8277     95000\n",
       "9792     95000\n",
       "Name: Price, dtype: object"
      ]
     },
     "execution_count": 226,
     "metadata": {},
     "output_type": "execute_result"
    }
   ],
   "source": [
    "df['Price'].head(15)"
   ]
  },
  {
   "cell_type": "markdown",
   "id": "893f405e",
   "metadata": {},
   "source": [
    "# .median()"
   ]
  },
  {
   "cell_type": "code",
   "execution_count": 363,
   "id": "c5012f4b",
   "metadata": {},
   "outputs": [
    {
     "ename": "TypeError",
     "evalue": "could not convert string to float: '35,000'",
     "output_type": "error",
     "traceback": [
      "\u001b[1;31m---------------------------------------------------------------------------\u001b[0m",
      "\u001b[1;31mValueError\u001b[0m                                Traceback (most recent call last)",
      "File \u001b[1;32mC:\\ProgramData\\Anaconda3\\an\\lib\\site-packages\\pandas\\core\\nanops.py:752\u001b[0m, in \u001b[0;36mnanmedian\u001b[1;34m(values, axis, skipna, mask)\u001b[0m\n\u001b[0;32m    751\u001b[0m \u001b[38;5;28;01mtry\u001b[39;00m:\n\u001b[1;32m--> 752\u001b[0m     values \u001b[38;5;241m=\u001b[39m \u001b[43mvalues\u001b[49m\u001b[38;5;241;43m.\u001b[39;49m\u001b[43mastype\u001b[49m\u001b[43m(\u001b[49m\u001b[38;5;124;43m\"\u001b[39;49m\u001b[38;5;124;43mf8\u001b[39;49m\u001b[38;5;124;43m\"\u001b[39;49m\u001b[43m)\u001b[49m\n\u001b[0;32m    753\u001b[0m \u001b[38;5;28;01mexcept\u001b[39;00m \u001b[38;5;167;01mValueError\u001b[39;00m \u001b[38;5;28;01mas\u001b[39;00m err:\n\u001b[0;32m    754\u001b[0m     \u001b[38;5;66;03m# e.g. \"could not convert string to float: 'a'\"\u001b[39;00m\n",
      "\u001b[1;31mValueError\u001b[0m: could not convert string to float: '35,000'",
      "\nThe above exception was the direct cause of the following exception:\n",
      "\u001b[1;31mTypeError\u001b[0m                                 Traceback (most recent call last)",
      "Input \u001b[1;32mIn [363]\u001b[0m, in \u001b[0;36m<cell line: 1>\u001b[1;34m()\u001b[0m\n\u001b[1;32m----> 1\u001b[0m \u001b[43mdf\u001b[49m\u001b[43m[\u001b[49m\u001b[38;5;124;43m'\u001b[39;49m\u001b[38;5;124;43mPrice\u001b[39;49m\u001b[38;5;124;43m'\u001b[39;49m\u001b[43m]\u001b[49m\u001b[38;5;241;43m.\u001b[39;49m\u001b[43mmedian\u001b[49m\u001b[43m(\u001b[49m\u001b[43m)\u001b[49m\n",
      "File \u001b[1;32mC:\\ProgramData\\Anaconda3\\an\\lib\\site-packages\\pandas\\core\\generic.py:11187\u001b[0m, in \u001b[0;36mNDFrame._add_numeric_operations.<locals>.median\u001b[1;34m(self, axis, skipna, level, numeric_only, **kwargs)\u001b[0m\n\u001b[0;32m  11169\u001b[0m \u001b[38;5;129m@doc\u001b[39m(\n\u001b[0;32m  11170\u001b[0m     _num_doc,\n\u001b[0;32m  11171\u001b[0m     desc\u001b[38;5;241m=\u001b[39m\u001b[38;5;124m\"\u001b[39m\u001b[38;5;124mReturn the median of the values over the requested axis.\u001b[39m\u001b[38;5;124m\"\u001b[39m,\n\u001b[1;32m   (...)\u001b[0m\n\u001b[0;32m  11185\u001b[0m     \u001b[38;5;241m*\u001b[39m\u001b[38;5;241m*\u001b[39mkwargs,\n\u001b[0;32m  11186\u001b[0m ):\n\u001b[1;32m> 11187\u001b[0m     \u001b[38;5;28;01mreturn\u001b[39;00m NDFrame\u001b[38;5;241m.\u001b[39mmedian(\u001b[38;5;28mself\u001b[39m, axis, skipna, level, numeric_only, \u001b[38;5;241m*\u001b[39m\u001b[38;5;241m*\u001b[39mkwargs)\n",
      "File \u001b[1;32mC:\\ProgramData\\Anaconda3\\an\\lib\\site-packages\\pandas\\core\\generic.py:10699\u001b[0m, in \u001b[0;36mNDFrame.median\u001b[1;34m(self, axis, skipna, level, numeric_only, **kwargs)\u001b[0m\n\u001b[0;32m  10691\u001b[0m \u001b[38;5;28;01mdef\u001b[39;00m \u001b[38;5;21mmedian\u001b[39m(\n\u001b[0;32m  10692\u001b[0m     \u001b[38;5;28mself\u001b[39m,\n\u001b[0;32m  10693\u001b[0m     axis: Axis \u001b[38;5;241m|\u001b[39m \u001b[38;5;28;01mNone\u001b[39;00m \u001b[38;5;241m|\u001b[39m lib\u001b[38;5;241m.\u001b[39mNoDefault \u001b[38;5;241m=\u001b[39m lib\u001b[38;5;241m.\u001b[39mno_default,\n\u001b[1;32m   (...)\u001b[0m\n\u001b[0;32m  10697\u001b[0m     \u001b[38;5;241m*\u001b[39m\u001b[38;5;241m*\u001b[39mkwargs,\n\u001b[0;32m  10698\u001b[0m ) \u001b[38;5;241m-\u001b[39m\u001b[38;5;241m>\u001b[39m Series \u001b[38;5;241m|\u001b[39m \u001b[38;5;28mfloat\u001b[39m:\n\u001b[1;32m> 10699\u001b[0m     \u001b[38;5;28;01mreturn\u001b[39;00m \u001b[38;5;28mself\u001b[39m\u001b[38;5;241m.\u001b[39m_stat_function(\n\u001b[0;32m  10700\u001b[0m         \u001b[38;5;124m\"\u001b[39m\u001b[38;5;124mmedian\u001b[39m\u001b[38;5;124m\"\u001b[39m, nanops\u001b[38;5;241m.\u001b[39mnanmedian, axis, skipna, level, numeric_only, \u001b[38;5;241m*\u001b[39m\u001b[38;5;241m*\u001b[39mkwargs\n\u001b[0;32m  10701\u001b[0m     )\n",
      "File \u001b[1;32mC:\\ProgramData\\Anaconda3\\an\\lib\\site-packages\\pandas\\core\\generic.py:10639\u001b[0m, in \u001b[0;36mNDFrame._stat_function\u001b[1;34m(self, name, func, axis, skipna, level, numeric_only, **kwargs)\u001b[0m\n\u001b[0;32m  10629\u001b[0m     warnings\u001b[38;5;241m.\u001b[39mwarn(\n\u001b[0;32m  10630\u001b[0m         \u001b[38;5;124m\"\u001b[39m\u001b[38;5;124mUsing the level keyword in DataFrame and Series aggregations is \u001b[39m\u001b[38;5;124m\"\u001b[39m\n\u001b[0;32m  10631\u001b[0m         \u001b[38;5;124m\"\u001b[39m\u001b[38;5;124mdeprecated and will be removed in a future version. Use groupby \u001b[39m\u001b[38;5;124m\"\u001b[39m\n\u001b[1;32m   (...)\u001b[0m\n\u001b[0;32m  10634\u001b[0m         stacklevel\u001b[38;5;241m=\u001b[39mfind_stack_level(),\n\u001b[0;32m  10635\u001b[0m     )\n\u001b[0;32m  10636\u001b[0m     \u001b[38;5;28;01mreturn\u001b[39;00m \u001b[38;5;28mself\u001b[39m\u001b[38;5;241m.\u001b[39m_agg_by_level(\n\u001b[0;32m  10637\u001b[0m         name, axis\u001b[38;5;241m=\u001b[39maxis, level\u001b[38;5;241m=\u001b[39mlevel, skipna\u001b[38;5;241m=\u001b[39mskipna, numeric_only\u001b[38;5;241m=\u001b[39mnumeric_only\n\u001b[0;32m  10638\u001b[0m     )\n\u001b[1;32m> 10639\u001b[0m \u001b[38;5;28;01mreturn\u001b[39;00m \u001b[38;5;28;43mself\u001b[39;49m\u001b[38;5;241;43m.\u001b[39;49m\u001b[43m_reduce\u001b[49m\u001b[43m(\u001b[49m\n\u001b[0;32m  10640\u001b[0m \u001b[43m    \u001b[49m\u001b[43mfunc\u001b[49m\u001b[43m,\u001b[49m\u001b[43m \u001b[49m\u001b[43mname\u001b[49m\u001b[38;5;241;43m=\u001b[39;49m\u001b[43mname\u001b[49m\u001b[43m,\u001b[49m\u001b[43m \u001b[49m\u001b[43maxis\u001b[49m\u001b[38;5;241;43m=\u001b[39;49m\u001b[43maxis\u001b[49m\u001b[43m,\u001b[49m\u001b[43m \u001b[49m\u001b[43mskipna\u001b[49m\u001b[38;5;241;43m=\u001b[39;49m\u001b[43mskipna\u001b[49m\u001b[43m,\u001b[49m\u001b[43m \u001b[49m\u001b[43mnumeric_only\u001b[49m\u001b[38;5;241;43m=\u001b[39;49m\u001b[43mnumeric_only\u001b[49m\n\u001b[0;32m  10641\u001b[0m \u001b[43m\u001b[49m\u001b[43m)\u001b[49m\n",
      "File \u001b[1;32mC:\\ProgramData\\Anaconda3\\an\\lib\\site-packages\\pandas\\core\\series.py:4471\u001b[0m, in \u001b[0;36mSeries._reduce\u001b[1;34m(self, op, name, axis, skipna, numeric_only, filter_type, **kwds)\u001b[0m\n\u001b[0;32m   4467\u001b[0m     \u001b[38;5;28;01mraise\u001b[39;00m \u001b[38;5;167;01mNotImplementedError\u001b[39;00m(\n\u001b[0;32m   4468\u001b[0m         \u001b[38;5;124mf\u001b[39m\u001b[38;5;124m\"\u001b[39m\u001b[38;5;124mSeries.\u001b[39m\u001b[38;5;132;01m{\u001b[39;00mname\u001b[38;5;132;01m}\u001b[39;00m\u001b[38;5;124m does not implement \u001b[39m\u001b[38;5;132;01m{\u001b[39;00mkwd_name\u001b[38;5;132;01m}\u001b[39;00m\u001b[38;5;124m.\u001b[39m\u001b[38;5;124m\"\u001b[39m\n\u001b[0;32m   4469\u001b[0m     )\n\u001b[0;32m   4470\u001b[0m \u001b[38;5;28;01mwith\u001b[39;00m np\u001b[38;5;241m.\u001b[39merrstate(\u001b[38;5;28mall\u001b[39m\u001b[38;5;241m=\u001b[39m\u001b[38;5;124m\"\u001b[39m\u001b[38;5;124mignore\u001b[39m\u001b[38;5;124m\"\u001b[39m):\n\u001b[1;32m-> 4471\u001b[0m     \u001b[38;5;28;01mreturn\u001b[39;00m op(delegate, skipna\u001b[38;5;241m=\u001b[39mskipna, \u001b[38;5;241m*\u001b[39m\u001b[38;5;241m*\u001b[39mkwds)\n",
      "File \u001b[1;32mC:\\ProgramData\\Anaconda3\\an\\lib\\site-packages\\pandas\\core\\nanops.py:155\u001b[0m, in \u001b[0;36mbottleneck_switch.__call__.<locals>.f\u001b[1;34m(values, axis, skipna, **kwds)\u001b[0m\n\u001b[0;32m    153\u001b[0m         result \u001b[38;5;241m=\u001b[39m alt(values, axis\u001b[38;5;241m=\u001b[39maxis, skipna\u001b[38;5;241m=\u001b[39mskipna, \u001b[38;5;241m*\u001b[39m\u001b[38;5;241m*\u001b[39mkwds)\n\u001b[0;32m    154\u001b[0m \u001b[38;5;28;01melse\u001b[39;00m:\n\u001b[1;32m--> 155\u001b[0m     result \u001b[38;5;241m=\u001b[39m alt(values, axis\u001b[38;5;241m=\u001b[39maxis, skipna\u001b[38;5;241m=\u001b[39mskipna, \u001b[38;5;241m*\u001b[39m\u001b[38;5;241m*\u001b[39mkwds)\n\u001b[0;32m    157\u001b[0m \u001b[38;5;28;01mreturn\u001b[39;00m result\n",
      "File \u001b[1;32mC:\\ProgramData\\Anaconda3\\an\\lib\\site-packages\\pandas\\core\\nanops.py:755\u001b[0m, in \u001b[0;36mnanmedian\u001b[1;34m(values, axis, skipna, mask)\u001b[0m\n\u001b[0;32m    752\u001b[0m     values \u001b[38;5;241m=\u001b[39m values\u001b[38;5;241m.\u001b[39mastype(\u001b[38;5;124m\"\u001b[39m\u001b[38;5;124mf8\u001b[39m\u001b[38;5;124m\"\u001b[39m)\n\u001b[0;32m    753\u001b[0m \u001b[38;5;28;01mexcept\u001b[39;00m \u001b[38;5;167;01mValueError\u001b[39;00m \u001b[38;5;28;01mas\u001b[39;00m err:\n\u001b[0;32m    754\u001b[0m     \u001b[38;5;66;03m# e.g. \"could not convert string to float: 'a'\"\u001b[39;00m\n\u001b[1;32m--> 755\u001b[0m     \u001b[38;5;28;01mraise\u001b[39;00m \u001b[38;5;167;01mTypeError\u001b[39;00m(\u001b[38;5;28mstr\u001b[39m(err)) \u001b[38;5;28;01mfrom\u001b[39;00m \u001b[38;5;21;01merr\u001b[39;00m\n\u001b[0;32m    756\u001b[0m \u001b[38;5;28;01mif\u001b[39;00m mask \u001b[38;5;129;01mis\u001b[39;00m \u001b[38;5;129;01mnot\u001b[39;00m \u001b[38;5;28;01mNone\u001b[39;00m:\n\u001b[0;32m    757\u001b[0m     values[mask] \u001b[38;5;241m=\u001b[39m np\u001b[38;5;241m.\u001b[39mnan\n",
      "\u001b[1;31mTypeError\u001b[0m: could not convert string to float: '35,000'"
     ]
    }
   ],
   "source": [
    "df['Price'].median()   # if you want a selected column median"
   ]
  },
  {
   "cell_type": "code",
   "execution_count": 230,
   "id": "322d64b8",
   "metadata": {},
   "outputs": [
    {
     "name": "stderr",
     "output_type": "stream",
     "text": [
      "C:\\Users\\abdul\\AppData\\Local\\Temp\\ipykernel_4480\\530051474.py:1: FutureWarning: Dropping of nuisance columns in DataFrame reductions (with 'numeric_only=None') is deprecated; in a future version this will raise TypeError.  Select only valid columns before calling the reduction.\n",
      "  df.median()\n"
     ]
    },
    {
     "data": {
      "text/plain": [
       "Price    43000.0\n",
       "dtype: float64"
      ]
     },
     "execution_count": 230,
     "metadata": {},
     "output_type": "execute_result"
    }
   ],
   "source": [
    "df.median()     #if youwant all columns median"
   ]
  },
  {
   "cell_type": "markdown",
   "id": "f389e6ee",
   "metadata": {},
   "source": [
    "# .describe()"
   ]
  },
  {
   "cell_type": "code",
   "execution_count": 232,
   "id": "9111e99d",
   "metadata": {},
   "outputs": [
    {
     "data": {
      "text/html": [
       "<div>\n",
       "<style scoped>\n",
       "    .dataframe tbody tr th:only-of-type {\n",
       "        vertical-align: middle;\n",
       "    }\n",
       "\n",
       "    .dataframe tbody tr th {\n",
       "        vertical-align: top;\n",
       "    }\n",
       "\n",
       "    .dataframe thead th {\n",
       "        text-align: right;\n",
       "    }\n",
       "</style>\n",
       "<table border=\"1\" class=\"dataframe\">\n",
       "  <thead>\n",
       "    <tr style=\"text-align: right;\">\n",
       "      <th></th>\n",
       "      <th>Name</th>\n",
       "      <th>Price</th>\n",
       "      <th>Location</th>\n",
       "      <th>Running</th>\n",
       "      <th>Owner</th>\n",
       "    </tr>\n",
       "  </thead>\n",
       "  <tbody>\n",
       "    <tr>\n",
       "      <th>count</th>\n",
       "      <td>34500</td>\n",
       "      <td>34500</td>\n",
       "      <td>34492</td>\n",
       "      <td>34473</td>\n",
       "      <td>32974</td>\n",
       "    </tr>\n",
       "    <tr>\n",
       "      <th>unique</th>\n",
       "      <td>1572</td>\n",
       "      <td>1424</td>\n",
       "      <td>485</td>\n",
       "      <td>3850</td>\n",
       "      <td>4</td>\n",
       "    </tr>\n",
       "    <tr>\n",
       "      <th>top</th>\n",
       "      <td>Bajaj Avenger Street 220 2016</td>\n",
       "      <td>25000</td>\n",
       "      <td>Delhi</td>\n",
       "      <td>20,000 Km</td>\n",
       "      <td>First Owner</td>\n",
       "    </tr>\n",
       "    <tr>\n",
       "      <th>freq</th>\n",
       "      <td>1896</td>\n",
       "      <td>2069</td>\n",
       "      <td>7438</td>\n",
       "      <td>1372</td>\n",
       "      <td>30262</td>\n",
       "    </tr>\n",
       "  </tbody>\n",
       "</table>\n",
       "</div>"
      ],
      "text/plain": [
       "                                 Name  Price Location    Running        Owner\n",
       "count                           34500  34500    34492      34473        32974\n",
       "unique                           1572   1424      485       3850            4\n",
       "top     Bajaj Avenger Street 220 2016  25000    Delhi  20,000 Km  First Owner\n",
       "freq                             1896   2069     7438       1372        30262"
      ]
     },
     "execution_count": 232,
     "metadata": {},
     "output_type": "execute_result"
    }
   ],
   "source": [
    "df.describe()          # give all the details related to your dataframe\n",
    "# count = count non-missing rows"
   ]
  },
  {
   "cell_type": "markdown",
   "id": "717d7232",
   "metadata": {},
   "source": [
    "# .count()"
   ]
  },
  {
   "cell_type": "code",
   "execution_count": 233,
   "id": "ffd2f5c8",
   "metadata": {},
   "outputs": [
    {
     "data": {
      "text/plain": [
       "34500"
      ]
     },
     "execution_count": 233,
     "metadata": {},
     "output_type": "execute_result"
    }
   ],
   "source": [
    "df['Price'].count()     # number of responce get in the selected column"
   ]
  },
  {
   "cell_type": "code",
   "execution_count": 237,
   "id": "7e9e3e77",
   "metadata": {},
   "outputs": [
    {
     "data": {
      "text/plain": [
       "8378     First Owner\n",
       "5080             NaN\n",
       "328     Second Owner\n",
       "3930     First Owner\n",
       "2905     First Owner\n",
       "            ...     \n",
       "4756             NaN\n",
       "8508             NaN\n",
       "3822             NaN\n",
       "4111             NaN\n",
       "2767             NaN\n",
       "Name: Owner, Length: 34500, dtype: object"
      ]
     },
     "execution_count": 237,
     "metadata": {},
     "output_type": "execute_result"
    }
   ],
   "source": [
    "df['Owner']"
   ]
  },
  {
   "cell_type": "markdown",
   "id": "2d40055a",
   "metadata": {},
   "source": [
    "# .value_counts()"
   ]
  },
  {
   "cell_type": "code",
   "execution_count": 239,
   "id": "ef2057ee",
   "metadata": {},
   "outputs": [
    {
     "data": {
      "text/plain": [
       "First Owner             30262\n",
       "Second Owner             2586\n",
       "Third Owner               110\n",
       "Fourth Owner Or More       16\n",
       "Name: Owner, dtype: int64"
      ]
     },
     "execution_count": 239,
     "metadata": {},
     "output_type": "execute_result"
    }
   ],
   "source": [
    "df['Owner'].value_counts()      # how many people responce differnet values in a same column"
   ]
  },
  {
   "cell_type": "code",
   "execution_count": 241,
   "id": "3a8ded3a",
   "metadata": {},
   "outputs": [
    {
     "data": {
      "text/plain": [
       "Delhi        0.215644\n",
       "Bangalore    0.080019\n",
       "Mumbai       0.075960\n",
       "Hyderabad    0.062942\n",
       "Pune         0.050417\n",
       "               ...   \n",
       "Parola       0.000029\n",
       "Pathankot    0.000029\n",
       "Hathras      0.000029\n",
       "Aluva        0.000029\n",
       "Zirakpur     0.000029\n",
       "Name: Location, Length: 485, dtype: float64"
      ]
     },
     "execution_count": 241,
     "metadata": {},
     "output_type": "execute_result"
    }
   ],
   "source": [
    "df['Location'].value_counts(normalize = True)  # this will give a percentage count of that column..."
   ]
  },
  {
   "cell_type": "code",
   "execution_count": 240,
   "id": "495fae65",
   "metadata": {},
   "outputs": [
    {
     "data": {
      "text/plain": [
       "Delhi        7438\n",
       "Bangalore    2760\n",
       "Mumbai       2620\n",
       "Hyderabad    2171\n",
       "Pune         1739\n",
       "             ... \n",
       "Parola          1\n",
       "Pathankot       1\n",
       "Hathras         1\n",
       "Aluva           1\n",
       "Zirakpur        1\n",
       "Name: Location, Length: 485, dtype: int64"
      ]
     },
     "execution_count": 240,
     "metadata": {},
     "output_type": "execute_result"
    }
   ],
   "source": [
    "df['Location'].value_counts()    # another example of .value_counts()"
   ]
  },
  {
   "cell_type": "markdown",
   "id": "78e1f6b0",
   "metadata": {},
   "source": [
    "# .groupby()"
   ]
  },
  {
   "cell_type": "code",
   "execution_count": 244,
   "id": "688b2c6c",
   "metadata": {},
   "outputs": [],
   "source": [
    "Location_grp = df.groupby(['Location'])"
   ]
  },
  {
   "cell_type": "markdown",
   "id": "2a388c10",
   "metadata": {},
   "source": [
    "# .get_group"
   ]
  },
  {
   "cell_type": "code",
   "execution_count": 246,
   "id": "9aa7ba27",
   "metadata": {},
   "outputs": [
    {
     "data": {
      "text/html": [
       "<div>\n",
       "<style scoped>\n",
       "    .dataframe tbody tr th:only-of-type {\n",
       "        vertical-align: middle;\n",
       "    }\n",
       "\n",
       "    .dataframe tbody tr th {\n",
       "        vertical-align: top;\n",
       "    }\n",
       "\n",
       "    .dataframe thead th {\n",
       "        text-align: right;\n",
       "    }\n",
       "</style>\n",
       "<table border=\"1\" class=\"dataframe\">\n",
       "  <thead>\n",
       "    <tr style=\"text-align: right;\">\n",
       "      <th></th>\n",
       "      <th>Name</th>\n",
       "      <th>Price</th>\n",
       "      <th>Location</th>\n",
       "      <th>Running</th>\n",
       "      <th>Owner</th>\n",
       "    </tr>\n",
       "  </thead>\n",
       "  <tbody>\n",
       "    <tr>\n",
       "      <th>11031</th>\n",
       "      <td>Honda CB Hornet 160R STD 2018</td>\n",
       "      <td>87000</td>\n",
       "      <td>Pune</td>\n",
       "      <td>140 Km</td>\n",
       "      <td>First Owner</td>\n",
       "    </tr>\n",
       "    <tr>\n",
       "      <th>24831</th>\n",
       "      <td>Honda CB Hornet 160R STD 2018</td>\n",
       "      <td>87000</td>\n",
       "      <td>Pune</td>\n",
       "      <td>140 Km</td>\n",
       "      <td>First Owner</td>\n",
       "    </tr>\n",
       "    <tr>\n",
       "      <th>26031</th>\n",
       "      <td>Honda CB Hornet 160R STD 2018</td>\n",
       "      <td>87000</td>\n",
       "      <td>Pune</td>\n",
       "      <td>140 Km</td>\n",
       "      <td>First Owner</td>\n",
       "    </tr>\n",
       "    <tr>\n",
       "      <th>26331</th>\n",
       "      <td>Honda CB Hornet 160R STD 2018</td>\n",
       "      <td>87000</td>\n",
       "      <td>Pune</td>\n",
       "      <td>140 Km</td>\n",
       "      <td>First Owner</td>\n",
       "    </tr>\n",
       "    <tr>\n",
       "      <th>5187</th>\n",
       "      <td>TVS Apache RTR 200 4V ABS Race Edition 2018</td>\n",
       "      <td>95000</td>\n",
       "      <td>Pune</td>\n",
       "      <td>14,000 Km</td>\n",
       "      <td>First Owner</td>\n",
       "    </tr>\n",
       "    <tr>\n",
       "      <th>...</th>\n",
       "      <td>...</td>\n",
       "      <td>...</td>\n",
       "      <td>...</td>\n",
       "      <td>...</td>\n",
       "      <td>...</td>\n",
       "    </tr>\n",
       "    <tr>\n",
       "      <th>33579</th>\n",
       "      <td>Bajaj Pulsar 150cc 2008</td>\n",
       "      <td>22000</td>\n",
       "      <td>Pune</td>\n",
       "      <td>60,857 Km</td>\n",
       "      <td>First Owner</td>\n",
       "    </tr>\n",
       "    <tr>\n",
       "      <th>30019</th>\n",
       "      <td>Bajaj Pulsar 150cc 2008</td>\n",
       "      <td>22000</td>\n",
       "      <td>Pune</td>\n",
       "      <td>60,857 Km</td>\n",
       "      <td>First Owner</td>\n",
       "    </tr>\n",
       "    <tr>\n",
       "      <th>11451</th>\n",
       "      <td>Honda CB Hornet 160R STD 2018</td>\n",
       "      <td>87000</td>\n",
       "      <td>Pune</td>\n",
       "      <td>140 Km</td>\n",
       "      <td>First Owner</td>\n",
       "    </tr>\n",
       "    <tr>\n",
       "      <th>18259</th>\n",
       "      <td>Bajaj Pulsar 150cc 2008</td>\n",
       "      <td>22000</td>\n",
       "      <td>Pune</td>\n",
       "      <td>60,857 Km</td>\n",
       "      <td>First Owner</td>\n",
       "    </tr>\n",
       "    <tr>\n",
       "      <th>10959</th>\n",
       "      <td>Bajaj Pulsar 150cc 2008</td>\n",
       "      <td>22000</td>\n",
       "      <td>Pune</td>\n",
       "      <td>60,857 Km</td>\n",
       "      <td>First Owner</td>\n",
       "    </tr>\n",
       "  </tbody>\n",
       "</table>\n",
       "<p>1739 rows × 5 columns</p>\n",
       "</div>"
      ],
      "text/plain": [
       "                                              Name  Price Location    Running  \\\n",
       "11031                Honda CB Hornet 160R STD 2018  87000     Pune     140 Km   \n",
       "24831                Honda CB Hornet 160R STD 2018  87000     Pune     140 Km   \n",
       "26031                Honda CB Hornet 160R STD 2018  87000     Pune     140 Km   \n",
       "26331                Honda CB Hornet 160R STD 2018  87000     Pune     140 Km   \n",
       "5187   TVS Apache RTR 200 4V ABS Race Edition 2018  95000     Pune  14,000 Km   \n",
       "...                                            ...    ...      ...        ...   \n",
       "33579                      Bajaj Pulsar 150cc 2008  22000     Pune  60,857 Km   \n",
       "30019                      Bajaj Pulsar 150cc 2008  22000     Pune  60,857 Km   \n",
       "11451                Honda CB Hornet 160R STD 2018  87000     Pune     140 Km   \n",
       "18259                      Bajaj Pulsar 150cc 2008  22000     Pune  60,857 Km   \n",
       "10959                      Bajaj Pulsar 150cc 2008  22000     Pune  60,857 Km   \n",
       "\n",
       "             Owner  \n",
       "11031  First Owner  \n",
       "24831  First Owner  \n",
       "26031  First Owner  \n",
       "26331  First Owner  \n",
       "5187   First Owner  \n",
       "...            ...  \n",
       "33579  First Owner  \n",
       "30019  First Owner  \n",
       "11451  First Owner  \n",
       "18259  First Owner  \n",
       "10959  First Owner  \n",
       "\n",
       "[1739 rows x 5 columns]"
      ]
     },
     "execution_count": 246,
     "metadata": {},
     "output_type": "execute_result"
    }
   ],
   "source": [
    "Location_grp.get_group('Pune')      # IF YOU WANT A COLUMN THAT HAVE SAME VALUE IN A COLUMN...."
   ]
  },
  {
   "cell_type": "code",
   "execution_count": 252,
   "id": "1b3d0056",
   "metadata": {},
   "outputs": [
    {
     "data": {
      "text/plain": [
       "Royal Enfield Bullet Electra 350cc 2017    620\n",
       "Yamaha Fazer 150cc 2009                    620\n",
       "Hero Hunk Rear Disc 150cc 2013             619\n",
       "Hero Passion Pro 100cc 2015                613\n",
       "Bajaj Pulsar 150cc 2012                    613\n",
       "                                          ... \n",
       "MV Agusta F3 800cc 2015                      1\n",
       "Triumph Daytona 675 ABS 2016                 1\n",
       "Bajaj Platina 100cc 2016                     1\n",
       "Triumph Daytona 675R 2013                    1\n",
       "Hero Glamour Fi 125cc 2016                   1\n",
       "Name: Name, Length: 725, dtype: int64"
      ]
     },
     "execution_count": 252,
     "metadata": {},
     "output_type": "execute_result"
    }
   ],
   "source": [
    "filt_delhi = df['Location'] == 'Delhi'\n",
    "df.loc[filt_delhi]['Name'].value_counts()      # one selected city bikes in delhi....  \n",
    "\n",
    "# SIMILAR AS .groupby Function"
   ]
  },
  {
   "cell_type": "code",
   "execution_count": 259,
   "id": "f2bf9a7a",
   "metadata": {},
   "outputs": [
    {
     "data": {
      "text/plain": [
       "Location    Name                                   \n",
       "24 Pargana  Royal Enfield Thunderbird 350cc 2015         2\n",
       "            Yamaha FZS FI 150cc 2016                     2\n",
       "            Bajaj Discover 110cc 2018                    1\n",
       "            Bajaj Pulsar 150cc 2014                      1\n",
       "            Bajaj Pulsar NS160 2017                      1\n",
       "            Honda CB Hornet 160R STD 2016                1\n",
       "            Honda CB Trigger 150cc 2014                  1\n",
       "            KTM Duke 200cc 2013                          1\n",
       "            KTM Duke 250cc 2019                          1\n",
       "            Suzuki Gixxer 150cc SP Rear Disc 2017        1\n",
       "            Yamaha Fazer 25 250cc 2017                   1\n",
       "Abohar      Royal Enfield Classic 350cc 2013             2\n",
       "Adalaj      Bajaj Discover 125T 2013                     1\n",
       "            Hero CBZ Xtreme 150cc 2007                   1\n",
       "            Hero CD Dawn 100cc 2011                      1\n",
       "            Honda CB Trigger 150cc 2015                  1\n",
       "            Royal Enfield Classic Chrome 500cc 2014      1\n",
       "            TVS Apache RTR 200 4V FI 2017                1\n",
       "Adilabad    TVS Apache RTR 200 4V FI 2017                1\n",
       "Adoni       KTM RC 200cc 2017                            1\n",
       "Adyar       KTM RC 200cc 2015                            2\n",
       "            Royal Enfield Electra 350cc 2011             1\n",
       "Agra        Honda CB Unicorn 150cc 2008                  3\n",
       "            Bajaj Pulsar NS200 2017                      2\n",
       "            Bajaj  Pulsar 180cc 2008                     1\n",
       "            Bajaj Avenger 220cc 2018                     1\n",
       "            Bajaj Discover 135cc 2010                    1\n",
       "            Bajaj Discover 150F 2014                     1\n",
       "            Bajaj Pulsar 150cc 2003                      1\n",
       "            Hero CD Deluxe 100cc 2007                    1\n",
       "            Honda CB Hornet 160R CBS 2017                1\n",
       "            Honda CBF Stunner 125cc 2012                 1\n",
       "            UM Renegade Commando 2017                    1\n",
       "Ahmedabad   Suzuki Zeus 125cc 2009                     608\n",
       "            Bajaj Pulsar 150cc 2009                      6\n",
       "            Bajaj Pulsar 150cc 2011                      5\n",
       "            Bajaj Avenger 220cc 2012                     4\n",
       "            Bajaj Discover 125cc 2011                    4\n",
       "            Bajaj Pulsar 150cc 2014                      4\n",
       "            Hero CD Dawn 100cc 2006                      4\n",
       "            Bajaj Avenger 220cc 2014                     3\n",
       "            Bajaj Avenger 220cc 2015                     3\n",
       "            Bajaj Avenger Street 150 2017                3\n",
       "            Bajaj Discover 100cc 2011                    3\n",
       "            Bajaj Discover 125cc 2015                    3\n",
       "            Bajaj Dominar 400 ABS 2018                   3\n",
       "            Bajaj Pulsar 150cc 2016                      3\n",
       "            Bajaj Pulsar 200 NS 200cc 2014               3\n",
       "            Bajaj V15 150cc 2017                         3\n",
       "            Harley-Davidson Street 750 2016              3\n",
       "Name: Name, dtype: int64"
      ]
     },
     "execution_count": 259,
     "metadata": {},
     "output_type": "execute_result"
    }
   ],
   "source": [
    "Location_grp['Name'].value_counts().head(50)#.loc[]       #if you want to get Two columns with its values"
   ]
  },
  {
   "cell_type": "code",
   "execution_count": 264,
   "id": "2a3797a1",
   "metadata": {},
   "outputs": [
    {
     "data": {
      "text/plain": [
       "Name\n",
       "Royal Enfield Bullet Electra 350cc 2017     620\n",
       "Yamaha Fazer 150cc 2009                     620\n",
       "Hero Hunk Rear Disc 150cc 2013              619\n",
       "Bajaj Pulsar 150cc 2012                     613\n",
       "Hero Passion Pro 100cc 2015                 613\n",
       "                                           ... \n",
       "Yamaha YZF-R15 S 150cc 2015                   1\n",
       "Yamaha YZF-R15 V3 150cc 2019                  1\n",
       "Yamaha YZF-R15 V3 Darknight edition 2019      1\n",
       "Yamaha YZF-R3 320cc 2016                      1\n",
       "Yamaha YZF-R3 320cc 2018                      1\n",
       "Name: Name, Length: 725, dtype: int64"
      ]
     },
     "execution_count": 264,
     "metadata": {},
     "output_type": "execute_result"
    }
   ],
   "source": [
    "Location_grp['Name'].value_counts().loc['Delhi'] \n",
    "\n",
    "\n",
    "#if you want to get Two columns with its count values with selected Location "
   ]
  },
  {
   "cell_type": "code",
   "execution_count": 265,
   "id": "5606b20f",
   "metadata": {},
   "outputs": [
    {
     "data": {
      "text/plain": [
       "Name\n",
       "Royal Enfield Bullet Electra 350cc 2017     0.083356\n",
       "Yamaha Fazer 150cc 2009                     0.083356\n",
       "Hero Hunk Rear Disc 150cc 2013              0.083221\n",
       "Bajaj Pulsar 150cc 2012                     0.082415\n",
       "Hero Passion Pro 100cc 2015                 0.082415\n",
       "                                              ...   \n",
       "Yamaha YZF-R15 S 150cc 2015                 0.000134\n",
       "Yamaha YZF-R15 V3 150cc 2019                0.000134\n",
       "Yamaha YZF-R15 V3 Darknight edition 2019    0.000134\n",
       "Yamaha YZF-R3 320cc 2016                    0.000134\n",
       "Yamaha YZF-R3 320cc 2018                    0.000134\n",
       "Name: Name, Length: 725, dtype: float64"
      ]
     },
     "execution_count": 265,
     "metadata": {},
     "output_type": "execute_result"
    }
   ],
   "source": [
    "Location_grp['Name'].value_counts(normalize = True).loc['Delhi'] \n",
    "\n",
    "\n",
    "# if you want in percentage"
   ]
  },
  {
   "cell_type": "code",
   "execution_count": 267,
   "id": "127f1985",
   "metadata": {},
   "outputs": [
    {
     "data": {
      "text/plain": [
       "150000.0"
      ]
     },
     "execution_count": 267,
     "metadata": {},
     "output_type": "execute_result"
    }
   ],
   "source": [
    "Location_grp['Price'].median().loc['Adoni']    \n",
    "\n",
    "# if you want to see a  selected city median value"
   ]
  },
  {
   "cell_type": "markdown",
   "id": "8c250565",
   "metadata": {},
   "source": [
    "# .agg()"
   ]
  },
  {
   "cell_type": "code",
   "execution_count": 268,
   "id": "05d23a8d",
   "metadata": {},
   "outputs": [
    {
     "data": {
      "text/html": [
       "<div>\n",
       "<style scoped>\n",
       "    .dataframe tbody tr th:only-of-type {\n",
       "        vertical-align: middle;\n",
       "    }\n",
       "\n",
       "    .dataframe tbody tr th {\n",
       "        vertical-align: top;\n",
       "    }\n",
       "\n",
       "    .dataframe thead th {\n",
       "        text-align: right;\n",
       "    }\n",
       "</style>\n",
       "<table border=\"1\" class=\"dataframe\">\n",
       "  <thead>\n",
       "    <tr style=\"text-align: right;\">\n",
       "      <th></th>\n",
       "      <th>median</th>\n",
       "      <th>mean</th>\n",
       "    </tr>\n",
       "    <tr>\n",
       "      <th>Location</th>\n",
       "      <th></th>\n",
       "      <th></th>\n",
       "    </tr>\n",
       "  </thead>\n",
       "  <tbody>\n",
       "    <tr>\n",
       "      <th>24 Pargana</th>\n",
       "      <td>65000.0</td>\n",
       "      <td>3.192348e+64</td>\n",
       "    </tr>\n",
       "    <tr>\n",
       "      <th>Abohar</th>\n",
       "      <td>95000.0</td>\n",
       "      <td>4.750048e+09</td>\n",
       "    </tr>\n",
       "    <tr>\n",
       "      <th>Adalaj</th>\n",
       "      <td>32500.0</td>\n",
       "      <td>1.083336e+30</td>\n",
       "    </tr>\n",
       "    <tr>\n",
       "      <th>Adilabad</th>\n",
       "      <td>86000.0</td>\n",
       "      <td>8.600000e+04</td>\n",
       "    </tr>\n",
       "    <tr>\n",
       "      <th>Adoni</th>\n",
       "      <td>150000.0</td>\n",
       "      <td>1.500000e+05</td>\n",
       "    </tr>\n",
       "    <tr>\n",
       "      <th>...</th>\n",
       "      <td>...</td>\n",
       "      <td>...</td>\n",
       "    </tr>\n",
       "    <tr>\n",
       "      <th>Warangal</th>\n",
       "      <td>105000.0</td>\n",
       "      <td>3.500003e+16</td>\n",
       "    </tr>\n",
       "    <tr>\n",
       "      <th>Wardha</th>\n",
       "      <td>43500.0</td>\n",
       "      <td>1.125011e+19</td>\n",
       "    </tr>\n",
       "    <tr>\n",
       "      <th>Yamuna Nagar</th>\n",
       "      <td>50000.0</td>\n",
       "      <td>1.500035e+09</td>\n",
       "    </tr>\n",
       "    <tr>\n",
       "      <th>Yemmiganur</th>\n",
       "      <td>47000.0</td>\n",
       "      <td>4.700000e+04</td>\n",
       "    </tr>\n",
       "    <tr>\n",
       "      <th>Zirakpur</th>\n",
       "      <td>72000.0</td>\n",
       "      <td>7.200000e+04</td>\n",
       "    </tr>\n",
       "  </tbody>\n",
       "</table>\n",
       "<p>485 rows × 2 columns</p>\n",
       "</div>"
      ],
      "text/plain": [
       "                median          mean\n",
       "Location                            \n",
       "24 Pargana     65000.0  3.192348e+64\n",
       "Abohar         95000.0  4.750048e+09\n",
       "Adalaj         32500.0  1.083336e+30\n",
       "Adilabad       86000.0  8.600000e+04\n",
       "Adoni         150000.0  1.500000e+05\n",
       "...                ...           ...\n",
       "Warangal      105000.0  3.500003e+16\n",
       "Wardha         43500.0  1.125011e+19\n",
       "Yamuna Nagar   50000.0  1.500035e+09\n",
       "Yemmiganur     47000.0  4.700000e+04\n",
       "Zirakpur       72000.0  7.200000e+04\n",
       "\n",
       "[485 rows x 2 columns]"
      ]
     },
     "execution_count": 268,
     "metadata": {},
     "output_type": "execute_result"
    }
   ],
   "source": [
    "Location_grp['Price'].agg(['median' , 'mean'])   \n",
    "# if you want mean,median and mode or any other operation then we will use .agg()"
   ]
  },
  {
   "cell_type": "code",
   "execution_count": 275,
   "id": "c2286dd0",
   "metadata": {},
   "outputs": [
    {
     "data": {
      "text/plain": [
       "median    5.000000e+04\n",
       "mean      1.500035e+09\n",
       "Name: Yamuna Nagar, dtype: float64"
      ]
     },
     "execution_count": 275,
     "metadata": {},
     "output_type": "execute_result"
    }
   ],
   "source": [
    "Location_grp['Price'].agg(['median' , 'mean']).loc['Yamuna Nagar']"
   ]
  },
  {
   "cell_type": "markdown",
   "id": "b466f85c",
   "metadata": {},
   "source": [
    "# .str.contains()_______.sum()"
   ]
  },
  {
   "cell_type": "code",
   "execution_count": 276,
   "id": "14ce90be",
   "metadata": {},
   "outputs": [],
   "source": [
    "filt_bike = df['Location'] == 'Delhi'\n"
   ]
  },
  {
   "cell_type": "code",
   "execution_count": 280,
   "id": "778287f5",
   "metadata": {},
   "outputs": [
    {
     "data": {
      "text/plain": [
       "15289    False\n",
       "27949    False\n",
       "27909    False\n",
       "27069    False\n",
       "18889    False\n",
       "         ...  \n",
       "8784      True\n",
       "26197     True\n",
       "13517     True\n",
       "31817     True\n",
       "2840      True\n",
       "Name: Name, Length: 7438, dtype: bool"
      ]
     },
     "execution_count": 280,
     "metadata": {},
     "output_type": "execute_result"
    }
   ],
   "source": [
    "df.loc[filt_bike]['Name'].str.contains('Bajaj')    # how .str.contains() function use"
   ]
  },
  {
   "cell_type": "code",
   "execution_count": 281,
   "id": "3e383c4b",
   "metadata": {},
   "outputs": [
    {
     "data": {
      "text/plain": [
       "2295"
      ]
     },
     "execution_count": 281,
     "metadata": {},
     "output_type": "execute_result"
    }
   ],
   "source": [
    "df.loc[filt_bike]['Name'].str.contains('Bajaj').sum()     # how .sum() function is used"
   ]
  },
  {
   "cell_type": "markdown",
   "id": "bc976c46",
   "metadata": {},
   "source": [
    "# how to find number of things in different rows_______must seeeee...."
   ]
  },
  {
   "cell_type": "code",
   "execution_count": 285,
   "id": "afbcbfbf",
   "metadata": {},
   "outputs": [
    {
     "data": {
      "text/plain": [
       "Location           \n",
       "24 Pargana    False    0.769231\n",
       "              True     0.230769\n",
       "Abohar        False    1.000000\n",
       "Adalaj        False    0.833333\n",
       "              True     0.166667\n",
       "                         ...   \n",
       "Warangal      True     0.333333\n",
       "Wardha        False    1.000000\n",
       "Yamuna Nagar  True     1.000000\n",
       "Yemmiganur    False    1.000000\n",
       "Zirakpur      False    1.000000\n",
       "Name: Name, Length: 663, dtype: float64"
      ]
     },
     "execution_count": 285,
     "metadata": {},
     "output_type": "execute_result"
    }
   ],
   "source": [
    "Location_grp['Name'].apply(lambda x : x.str.contains('Bajaj').value_counts(normalize = True))  # how to find number of things in different rows"
   ]
  },
  {
   "cell_type": "markdown",
   "id": "ac61b6b9",
   "metadata": {},
   "source": [
    "# how function is used ad lambda____must__seeee...."
   ]
  },
  {
   "cell_type": "code",
   "execution_count": 291,
   "id": "cb696922",
   "metadata": {},
   "outputs": [
    {
     "data": {
      "text/plain": [
       "Location\n",
       "24 Pargana      3\n",
       "Abohar          0\n",
       "Adalaj          1\n",
       "Adilabad        0\n",
       "Adoni           0\n",
       "               ..\n",
       "Warangal        1\n",
       "Wardha          0\n",
       "Yamuna Nagar    2\n",
       "Yemmiganur      0\n",
       "Zirakpur        0\n",
       "Name: Name, Length: 485, dtype: int64"
      ]
     },
     "execution_count": 291,
     "metadata": {},
     "output_type": "execute_result"
    }
   ],
   "source": [
    "Location_grp['Name'].apply(lambda x : x.str.contains('Bajaj').sum())"
   ]
  },
  {
   "cell_type": "markdown",
   "id": "71611534",
   "metadata": {},
   "source": [
    "# .concat()\n",
    "pd.concat\n",
    "\n",
    "\n",
    "# if you want to compare two columns "
   ]
  },
  {
   "cell_type": "code",
   "execution_count": 294,
   "id": "9c39ae04",
   "metadata": {},
   "outputs": [
    {
     "data": {
      "text/plain": [
       "Delhi        7438\n",
       "Bangalore    2760\n",
       "Mumbai       2620\n",
       "Hyderabad    2171\n",
       "Pune         1739\n",
       "             ... \n",
       "Parola          1\n",
       "Pathankot       1\n",
       "Hathras         1\n",
       "Aluva           1\n",
       "Zirakpur        1\n",
       "Name: Location, Length: 485, dtype: int64"
      ]
     },
     "execution_count": 294,
     "metadata": {},
     "output_type": "execute_result"
    }
   ],
   "source": [
    "city_bikes = df['Location'].value_counts()\n",
    "city_bikes"
   ]
  },
  {
   "cell_type": "code",
   "execution_count": 296,
   "id": "ab14406a",
   "metadata": {},
   "outputs": [
    {
     "data": {
      "text/plain": [
       "Location\n",
       "24 Pargana      3\n",
       "Abohar          0\n",
       "Adalaj          1\n",
       "Adilabad        0\n",
       "Adoni           0\n",
       "               ..\n",
       "Warangal        1\n",
       "Wardha          0\n",
       "Yamuna Nagar    2\n",
       "Yemmiganur      0\n",
       "Zirakpur        0\n",
       "Name: Name, Length: 485, dtype: int64"
      ]
     },
     "execution_count": 296,
     "metadata": {},
     "output_type": "execute_result"
    }
   ],
   "source": [
    "bajaj_bikes = Location_grp['Name'].apply(lambda x : x.str.contains('Bajaj').sum())\n",
    "bajaj_bikes"
   ]
  },
  {
   "cell_type": "code",
   "execution_count": 297,
   "id": "03a2477e",
   "metadata": {},
   "outputs": [],
   "source": [
    "bajaj_count = pd.concat([city_bikes, bajaj_bikes] , axis = 'columns' , sort = False)"
   ]
  },
  {
   "cell_type": "code",
   "execution_count": 298,
   "id": "d06b0399",
   "metadata": {},
   "outputs": [
    {
     "data": {
      "text/html": [
       "<div>\n",
       "<style scoped>\n",
       "    .dataframe tbody tr th:only-of-type {\n",
       "        vertical-align: middle;\n",
       "    }\n",
       "\n",
       "    .dataframe tbody tr th {\n",
       "        vertical-align: top;\n",
       "    }\n",
       "\n",
       "    .dataframe thead th {\n",
       "        text-align: right;\n",
       "    }\n",
       "</style>\n",
       "<table border=\"1\" class=\"dataframe\">\n",
       "  <thead>\n",
       "    <tr style=\"text-align: right;\">\n",
       "      <th></th>\n",
       "      <th>Location</th>\n",
       "      <th>Name</th>\n",
       "    </tr>\n",
       "  </thead>\n",
       "  <tbody>\n",
       "    <tr>\n",
       "      <th>Delhi</th>\n",
       "      <td>7438</td>\n",
       "      <td>2295</td>\n",
       "    </tr>\n",
       "    <tr>\n",
       "      <th>Bangalore</th>\n",
       "      <td>2760</td>\n",
       "      <td>1527</td>\n",
       "    </tr>\n",
       "    <tr>\n",
       "      <th>Mumbai</th>\n",
       "      <td>2620</td>\n",
       "      <td>822</td>\n",
       "    </tr>\n",
       "    <tr>\n",
       "      <th>Hyderabad</th>\n",
       "      <td>2171</td>\n",
       "      <td>1313</td>\n",
       "    </tr>\n",
       "    <tr>\n",
       "      <th>Pune</th>\n",
       "      <td>1739</td>\n",
       "      <td>748</td>\n",
       "    </tr>\n",
       "    <tr>\n",
       "      <th>...</th>\n",
       "      <td>...</td>\n",
       "      <td>...</td>\n",
       "    </tr>\n",
       "    <tr>\n",
       "      <th>Parola</th>\n",
       "      <td>1</td>\n",
       "      <td>0</td>\n",
       "    </tr>\n",
       "    <tr>\n",
       "      <th>Pathankot</th>\n",
       "      <td>1</td>\n",
       "      <td>0</td>\n",
       "    </tr>\n",
       "    <tr>\n",
       "      <th>Hathras</th>\n",
       "      <td>1</td>\n",
       "      <td>0</td>\n",
       "    </tr>\n",
       "    <tr>\n",
       "      <th>Aluva</th>\n",
       "      <td>1</td>\n",
       "      <td>1</td>\n",
       "    </tr>\n",
       "    <tr>\n",
       "      <th>Zirakpur</th>\n",
       "      <td>1</td>\n",
       "      <td>0</td>\n",
       "    </tr>\n",
       "  </tbody>\n",
       "</table>\n",
       "<p>485 rows × 2 columns</p>\n",
       "</div>"
      ],
      "text/plain": [
       "           Location  Name\n",
       "Delhi          7438  2295\n",
       "Bangalore      2760  1527\n",
       "Mumbai         2620   822\n",
       "Hyderabad      2171  1313\n",
       "Pune           1739   748\n",
       "...             ...   ...\n",
       "Parola            1     0\n",
       "Pathankot         1     0\n",
       "Hathras           1     0\n",
       "Aluva             1     1\n",
       "Zirakpur          1     0\n",
       "\n",
       "[485 rows x 2 columns]"
      ]
     },
     "execution_count": 298,
     "metadata": {},
     "output_type": "execute_result"
    }
   ],
   "source": [
    "bajaj_count"
   ]
  },
  {
   "cell_type": "code",
   "execution_count": 300,
   "id": "a38c03b4",
   "metadata": {},
   "outputs": [],
   "source": [
    "bajaj_count.rename(columns = {'Location' : 'Total bikes' , 'Name' : 'Bajaj Bikes' } , inplace = True)"
   ]
  },
  {
   "cell_type": "code",
   "execution_count": 301,
   "id": "d9d071b4",
   "metadata": {},
   "outputs": [
    {
     "data": {
      "text/html": [
       "<div>\n",
       "<style scoped>\n",
       "    .dataframe tbody tr th:only-of-type {\n",
       "        vertical-align: middle;\n",
       "    }\n",
       "\n",
       "    .dataframe tbody tr th {\n",
       "        vertical-align: top;\n",
       "    }\n",
       "\n",
       "    .dataframe thead th {\n",
       "        text-align: right;\n",
       "    }\n",
       "</style>\n",
       "<table border=\"1\" class=\"dataframe\">\n",
       "  <thead>\n",
       "    <tr style=\"text-align: right;\">\n",
       "      <th></th>\n",
       "      <th>Total bikes</th>\n",
       "      <th>Bajaj Bikes</th>\n",
       "    </tr>\n",
       "  </thead>\n",
       "  <tbody>\n",
       "    <tr>\n",
       "      <th>Delhi</th>\n",
       "      <td>7438</td>\n",
       "      <td>2295</td>\n",
       "    </tr>\n",
       "    <tr>\n",
       "      <th>Bangalore</th>\n",
       "      <td>2760</td>\n",
       "      <td>1527</td>\n",
       "    </tr>\n",
       "    <tr>\n",
       "      <th>Mumbai</th>\n",
       "      <td>2620</td>\n",
       "      <td>822</td>\n",
       "    </tr>\n",
       "    <tr>\n",
       "      <th>Hyderabad</th>\n",
       "      <td>2171</td>\n",
       "      <td>1313</td>\n",
       "    </tr>\n",
       "    <tr>\n",
       "      <th>Pune</th>\n",
       "      <td>1739</td>\n",
       "      <td>748</td>\n",
       "    </tr>\n",
       "    <tr>\n",
       "      <th>...</th>\n",
       "      <td>...</td>\n",
       "      <td>...</td>\n",
       "    </tr>\n",
       "    <tr>\n",
       "      <th>Parola</th>\n",
       "      <td>1</td>\n",
       "      <td>0</td>\n",
       "    </tr>\n",
       "    <tr>\n",
       "      <th>Pathankot</th>\n",
       "      <td>1</td>\n",
       "      <td>0</td>\n",
       "    </tr>\n",
       "    <tr>\n",
       "      <th>Hathras</th>\n",
       "      <td>1</td>\n",
       "      <td>0</td>\n",
       "    </tr>\n",
       "    <tr>\n",
       "      <th>Aluva</th>\n",
       "      <td>1</td>\n",
       "      <td>1</td>\n",
       "    </tr>\n",
       "    <tr>\n",
       "      <th>Zirakpur</th>\n",
       "      <td>1</td>\n",
       "      <td>0</td>\n",
       "    </tr>\n",
       "  </tbody>\n",
       "</table>\n",
       "<p>485 rows × 2 columns</p>\n",
       "</div>"
      ],
      "text/plain": [
       "           Total bikes  Bajaj Bikes\n",
       "Delhi             7438         2295\n",
       "Bangalore         2760         1527\n",
       "Mumbai            2620          822\n",
       "Hyderabad         2171         1313\n",
       "Pune              1739          748\n",
       "...                ...          ...\n",
       "Parola               1            0\n",
       "Pathankot            1            0\n",
       "Hathras              1            0\n",
       "Aluva                1            1\n",
       "Zirakpur             1            0\n",
       "\n",
       "[485 rows x 2 columns]"
      ]
     },
     "execution_count": 301,
     "metadata": {},
     "output_type": "execute_result"
    }
   ],
   "source": [
    "bajaj_count"
   ]
  },
  {
   "cell_type": "markdown",
   "id": "b2b59d03",
   "metadata": {},
   "source": [
    "# how to get percentage :\n",
    "# (part/whole)*100\n",
    "creating new column also"
   ]
  },
  {
   "cell_type": "code",
   "execution_count": 302,
   "id": "98466a1c",
   "metadata": {},
   "outputs": [],
   "source": [
    "bajaj_count['% of bajaj bikes'] = (bajaj_count ['Bajaj Bikes']/bajaj_count ['Total bikes']) * 100\n",
    "\n",
    "\n",
    "# how to get percentage :\n",
    "# (part/whole)*100"
   ]
  },
  {
   "cell_type": "code",
   "execution_count": 303,
   "id": "29cf877b",
   "metadata": {},
   "outputs": [
    {
     "data": {
      "text/html": [
       "<div>\n",
       "<style scoped>\n",
       "    .dataframe tbody tr th:only-of-type {\n",
       "        vertical-align: middle;\n",
       "    }\n",
       "\n",
       "    .dataframe tbody tr th {\n",
       "        vertical-align: top;\n",
       "    }\n",
       "\n",
       "    .dataframe thead th {\n",
       "        text-align: right;\n",
       "    }\n",
       "</style>\n",
       "<table border=\"1\" class=\"dataframe\">\n",
       "  <thead>\n",
       "    <tr style=\"text-align: right;\">\n",
       "      <th></th>\n",
       "      <th>Total bikes</th>\n",
       "      <th>Bajaj Bikes</th>\n",
       "      <th>% of bajaj bikes</th>\n",
       "    </tr>\n",
       "  </thead>\n",
       "  <tbody>\n",
       "    <tr>\n",
       "      <th>Delhi</th>\n",
       "      <td>7438</td>\n",
       "      <td>2295</td>\n",
       "      <td>30.855069</td>\n",
       "    </tr>\n",
       "    <tr>\n",
       "      <th>Bangalore</th>\n",
       "      <td>2760</td>\n",
       "      <td>1527</td>\n",
       "      <td>55.326087</td>\n",
       "    </tr>\n",
       "    <tr>\n",
       "      <th>Mumbai</th>\n",
       "      <td>2620</td>\n",
       "      <td>822</td>\n",
       "      <td>31.374046</td>\n",
       "    </tr>\n",
       "    <tr>\n",
       "      <th>Hyderabad</th>\n",
       "      <td>2171</td>\n",
       "      <td>1313</td>\n",
       "      <td>60.479042</td>\n",
       "    </tr>\n",
       "    <tr>\n",
       "      <th>Pune</th>\n",
       "      <td>1739</td>\n",
       "      <td>748</td>\n",
       "      <td>43.013226</td>\n",
       "    </tr>\n",
       "    <tr>\n",
       "      <th>...</th>\n",
       "      <td>...</td>\n",
       "      <td>...</td>\n",
       "      <td>...</td>\n",
       "    </tr>\n",
       "    <tr>\n",
       "      <th>Parola</th>\n",
       "      <td>1</td>\n",
       "      <td>0</td>\n",
       "      <td>0.000000</td>\n",
       "    </tr>\n",
       "    <tr>\n",
       "      <th>Pathankot</th>\n",
       "      <td>1</td>\n",
       "      <td>0</td>\n",
       "      <td>0.000000</td>\n",
       "    </tr>\n",
       "    <tr>\n",
       "      <th>Hathras</th>\n",
       "      <td>1</td>\n",
       "      <td>0</td>\n",
       "      <td>0.000000</td>\n",
       "    </tr>\n",
       "    <tr>\n",
       "      <th>Aluva</th>\n",
       "      <td>1</td>\n",
       "      <td>1</td>\n",
       "      <td>100.000000</td>\n",
       "    </tr>\n",
       "    <tr>\n",
       "      <th>Zirakpur</th>\n",
       "      <td>1</td>\n",
       "      <td>0</td>\n",
       "      <td>0.000000</td>\n",
       "    </tr>\n",
       "  </tbody>\n",
       "</table>\n",
       "<p>485 rows × 3 columns</p>\n",
       "</div>"
      ],
      "text/plain": [
       "           Total bikes  Bajaj Bikes  % of bajaj bikes\n",
       "Delhi             7438         2295         30.855069\n",
       "Bangalore         2760         1527         55.326087\n",
       "Mumbai            2620          822         31.374046\n",
       "Hyderabad         2171         1313         60.479042\n",
       "Pune              1739          748         43.013226\n",
       "...                ...          ...               ...\n",
       "Parola               1            0          0.000000\n",
       "Pathankot            1            0          0.000000\n",
       "Hathras              1            0          0.000000\n",
       "Aluva                1            1        100.000000\n",
       "Zirakpur             1            0          0.000000\n",
       "\n",
       "[485 rows x 3 columns]"
      ]
     },
     "execution_count": 303,
     "metadata": {},
     "output_type": "execute_result"
    }
   ],
   "source": [
    "bajaj_count"
   ]
  },
  {
   "cell_type": "code",
   "execution_count": 306,
   "id": "e9fcc93a",
   "metadata": {},
   "outputs": [],
   "source": [
    "bajaj_count.sort_values(by = '% of bajaj bikes' , ascending = False , inplace = True)"
   ]
  },
  {
   "cell_type": "code",
   "execution_count": 308,
   "id": "b6d9dd82",
   "metadata": {},
   "outputs": [
    {
     "data": {
      "text/html": [
       "<div>\n",
       "<style scoped>\n",
       "    .dataframe tbody tr th:only-of-type {\n",
       "        vertical-align: middle;\n",
       "    }\n",
       "\n",
       "    .dataframe tbody tr th {\n",
       "        vertical-align: top;\n",
       "    }\n",
       "\n",
       "    .dataframe thead th {\n",
       "        text-align: right;\n",
       "    }\n",
       "</style>\n",
       "<table border=\"1\" class=\"dataframe\">\n",
       "  <thead>\n",
       "    <tr style=\"text-align: right;\">\n",
       "      <th></th>\n",
       "      <th>Total bikes</th>\n",
       "      <th>Bajaj Bikes</th>\n",
       "      <th>% of bajaj bikes</th>\n",
       "    </tr>\n",
       "  </thead>\n",
       "  <tbody>\n",
       "    <tr>\n",
       "      <th>Sant Kabir Nagar</th>\n",
       "      <td>1</td>\n",
       "      <td>0</td>\n",
       "      <td>0.0</td>\n",
       "    </tr>\n",
       "    <tr>\n",
       "      <th>Sitapur</th>\n",
       "      <td>1</td>\n",
       "      <td>0</td>\n",
       "      <td>0.0</td>\n",
       "    </tr>\n",
       "    <tr>\n",
       "      <th>Seppa</th>\n",
       "      <td>1</td>\n",
       "      <td>0</td>\n",
       "      <td>0.0</td>\n",
       "    </tr>\n",
       "    <tr>\n",
       "      <th>Sirsi</th>\n",
       "      <td>1</td>\n",
       "      <td>0</td>\n",
       "      <td>0.0</td>\n",
       "    </tr>\n",
       "    <tr>\n",
       "      <th>Dhariawad</th>\n",
       "      <td>1</td>\n",
       "      <td>0</td>\n",
       "      <td>0.0</td>\n",
       "    </tr>\n",
       "    <tr>\n",
       "      <th>Sindri</th>\n",
       "      <td>1</td>\n",
       "      <td>0</td>\n",
       "      <td>0.0</td>\n",
       "    </tr>\n",
       "    <tr>\n",
       "      <th>Doiwala</th>\n",
       "      <td>1</td>\n",
       "      <td>0</td>\n",
       "      <td>0.0</td>\n",
       "    </tr>\n",
       "    <tr>\n",
       "      <th>Simdega</th>\n",
       "      <td>1</td>\n",
       "      <td>0</td>\n",
       "      <td>0.0</td>\n",
       "    </tr>\n",
       "    <tr>\n",
       "      <th>Sidhi</th>\n",
       "      <td>1</td>\n",
       "      <td>0</td>\n",
       "      <td>0.0</td>\n",
       "    </tr>\n",
       "    <tr>\n",
       "      <th>Shimoga</th>\n",
       "      <td>1</td>\n",
       "      <td>0</td>\n",
       "      <td>0.0</td>\n",
       "    </tr>\n",
       "    <tr>\n",
       "      <th>Dohad</th>\n",
       "      <td>1</td>\n",
       "      <td>0</td>\n",
       "      <td>0.0</td>\n",
       "    </tr>\n",
       "    <tr>\n",
       "      <th>Silvasa</th>\n",
       "      <td>1</td>\n",
       "      <td>0</td>\n",
       "      <td>0.0</td>\n",
       "    </tr>\n",
       "    <tr>\n",
       "      <th>Sanand</th>\n",
       "      <td>1</td>\n",
       "      <td>0</td>\n",
       "      <td>0.0</td>\n",
       "    </tr>\n",
       "    <tr>\n",
       "      <th>Shivpuri</th>\n",
       "      <td>1</td>\n",
       "      <td>0</td>\n",
       "      <td>0.0</td>\n",
       "    </tr>\n",
       "    <tr>\n",
       "      <th>Dhamtari</th>\n",
       "      <td>1</td>\n",
       "      <td>0</td>\n",
       "      <td>0.0</td>\n",
       "    </tr>\n",
       "    <tr>\n",
       "      <th>Jaisalmer</th>\n",
       "      <td>2</td>\n",
       "      <td>0</td>\n",
       "      <td>0.0</td>\n",
       "    </tr>\n",
       "    <tr>\n",
       "      <th>Jamshedpur</th>\n",
       "      <td>2</td>\n",
       "      <td>0</td>\n",
       "      <td>0.0</td>\n",
       "    </tr>\n",
       "    <tr>\n",
       "      <th>Haridwar</th>\n",
       "      <td>2</td>\n",
       "      <td>0</td>\n",
       "      <td>0.0</td>\n",
       "    </tr>\n",
       "    <tr>\n",
       "      <th>Nizamabad</th>\n",
       "      <td>2</td>\n",
       "      <td>0</td>\n",
       "      <td>0.0</td>\n",
       "    </tr>\n",
       "    <tr>\n",
       "      <th>Secunderabad</th>\n",
       "      <td>2</td>\n",
       "      <td>0</td>\n",
       "      <td>0.0</td>\n",
       "    </tr>\n",
       "    <tr>\n",
       "      <th>Raipur Rani</th>\n",
       "      <td>2</td>\n",
       "      <td>0</td>\n",
       "      <td>0.0</td>\n",
       "    </tr>\n",
       "    <tr>\n",
       "      <th>Raiwala</th>\n",
       "      <td>2</td>\n",
       "      <td>0</td>\n",
       "      <td>0.0</td>\n",
       "    </tr>\n",
       "    <tr>\n",
       "      <th>Rajouri</th>\n",
       "      <td>2</td>\n",
       "      <td>0</td>\n",
       "      <td>0.0</td>\n",
       "    </tr>\n",
       "    <tr>\n",
       "      <th>Rangpo</th>\n",
       "      <td>2</td>\n",
       "      <td>0</td>\n",
       "      <td>0.0</td>\n",
       "    </tr>\n",
       "    <tr>\n",
       "      <th>Rasra</th>\n",
       "      <td>2</td>\n",
       "      <td>0</td>\n",
       "      <td>0.0</td>\n",
       "    </tr>\n",
       "    <tr>\n",
       "      <th>Risod</th>\n",
       "      <td>2</td>\n",
       "      <td>0</td>\n",
       "      <td>0.0</td>\n",
       "    </tr>\n",
       "    <tr>\n",
       "      <th>Pinjore</th>\n",
       "      <td>2</td>\n",
       "      <td>0</td>\n",
       "      <td>0.0</td>\n",
       "    </tr>\n",
       "    <tr>\n",
       "      <th>Sikar</th>\n",
       "      <td>2</td>\n",
       "      <td>0</td>\n",
       "      <td>0.0</td>\n",
       "    </tr>\n",
       "    <tr>\n",
       "      <th>Pen</th>\n",
       "      <td>2</td>\n",
       "      <td>0</td>\n",
       "      <td>0.0</td>\n",
       "    </tr>\n",
       "    <tr>\n",
       "      <th>Nanjangud</th>\n",
       "      <td>2</td>\n",
       "      <td>0</td>\n",
       "      <td>0.0</td>\n",
       "    </tr>\n",
       "    <tr>\n",
       "      <th>Narnaul</th>\n",
       "      <td>2</td>\n",
       "      <td>0</td>\n",
       "      <td>0.0</td>\n",
       "    </tr>\n",
       "    <tr>\n",
       "      <th>Udaipurwati</th>\n",
       "      <td>2</td>\n",
       "      <td>0</td>\n",
       "      <td>0.0</td>\n",
       "    </tr>\n",
       "    <tr>\n",
       "      <th>Nazira</th>\n",
       "      <td>2</td>\n",
       "      <td>0</td>\n",
       "      <td>0.0</td>\n",
       "    </tr>\n",
       "    <tr>\n",
       "      <th>Tiruchirappalli</th>\n",
       "      <td>2</td>\n",
       "      <td>0</td>\n",
       "      <td>0.0</td>\n",
       "    </tr>\n",
       "    <tr>\n",
       "      <th>Hanumangarh</th>\n",
       "      <td>2</td>\n",
       "      <td>0</td>\n",
       "      <td>0.0</td>\n",
       "    </tr>\n",
       "    <tr>\n",
       "      <th>Palamu</th>\n",
       "      <td>2</td>\n",
       "      <td>0</td>\n",
       "      <td>0.0</td>\n",
       "    </tr>\n",
       "    <tr>\n",
       "      <th>Suri</th>\n",
       "      <td>2</td>\n",
       "      <td>0</td>\n",
       "      <td>0.0</td>\n",
       "    </tr>\n",
       "    <tr>\n",
       "      <th>Srinagar</th>\n",
       "      <td>2</td>\n",
       "      <td>0</td>\n",
       "      <td>0.0</td>\n",
       "    </tr>\n",
       "    <tr>\n",
       "      <th>Dharmapuri</th>\n",
       "      <td>2</td>\n",
       "      <td>0</td>\n",
       "      <td>0.0</td>\n",
       "    </tr>\n",
       "    <tr>\n",
       "      <th>Dharamasala</th>\n",
       "      <td>2</td>\n",
       "      <td>0</td>\n",
       "      <td>0.0</td>\n",
       "    </tr>\n",
       "    <tr>\n",
       "      <th>Burdwan</th>\n",
       "      <td>2</td>\n",
       "      <td>0</td>\n",
       "      <td>0.0</td>\n",
       "    </tr>\n",
       "    <tr>\n",
       "      <th>Gondia</th>\n",
       "      <td>2</td>\n",
       "      <td>0</td>\n",
       "      <td>0.0</td>\n",
       "    </tr>\n",
       "    <tr>\n",
       "      <th>Jorhat</th>\n",
       "      <td>2</td>\n",
       "      <td>0</td>\n",
       "      <td>0.0</td>\n",
       "    </tr>\n",
       "    <tr>\n",
       "      <th>Arrah</th>\n",
       "      <td>2</td>\n",
       "      <td>0</td>\n",
       "      <td>0.0</td>\n",
       "    </tr>\n",
       "    <tr>\n",
       "      <th>Jobner</th>\n",
       "      <td>2</td>\n",
       "      <td>0</td>\n",
       "      <td>0.0</td>\n",
       "    </tr>\n",
       "    <tr>\n",
       "      <th>Goregaon</th>\n",
       "      <td>2</td>\n",
       "      <td>0</td>\n",
       "      <td>0.0</td>\n",
       "    </tr>\n",
       "    <tr>\n",
       "      <th>Jhalawar</th>\n",
       "      <td>2</td>\n",
       "      <td>0</td>\n",
       "      <td>0.0</td>\n",
       "    </tr>\n",
       "    <tr>\n",
       "      <th>Deoghar</th>\n",
       "      <td>2</td>\n",
       "      <td>0</td>\n",
       "      <td>0.0</td>\n",
       "    </tr>\n",
       "    <tr>\n",
       "      <th>Jamui</th>\n",
       "      <td>2</td>\n",
       "      <td>0</td>\n",
       "      <td>0.0</td>\n",
       "    </tr>\n",
       "    <tr>\n",
       "      <th>Zirakpur</th>\n",
       "      <td>1</td>\n",
       "      <td>0</td>\n",
       "      <td>0.0</td>\n",
       "    </tr>\n",
       "  </tbody>\n",
       "</table>\n",
       "</div>"
      ],
      "text/plain": [
       "                  Total bikes  Bajaj Bikes  % of bajaj bikes\n",
       "Sant Kabir Nagar            1            0               0.0\n",
       "Sitapur                     1            0               0.0\n",
       "Seppa                       1            0               0.0\n",
       "Sirsi                       1            0               0.0\n",
       "Dhariawad                   1            0               0.0\n",
       "Sindri                      1            0               0.0\n",
       "Doiwala                     1            0               0.0\n",
       "Simdega                     1            0               0.0\n",
       "Sidhi                       1            0               0.0\n",
       "Shimoga                     1            0               0.0\n",
       "Dohad                       1            0               0.0\n",
       "Silvasa                     1            0               0.0\n",
       "Sanand                      1            0               0.0\n",
       "Shivpuri                    1            0               0.0\n",
       "Dhamtari                    1            0               0.0\n",
       "Jaisalmer                   2            0               0.0\n",
       "Jamshedpur                  2            0               0.0\n",
       "Haridwar                    2            0               0.0\n",
       "Nizamabad                   2            0               0.0\n",
       "Secunderabad                2            0               0.0\n",
       "Raipur Rani                 2            0               0.0\n",
       "Raiwala                     2            0               0.0\n",
       "Rajouri                     2            0               0.0\n",
       "Rangpo                      2            0               0.0\n",
       "Rasra                       2            0               0.0\n",
       "Risod                       2            0               0.0\n",
       "Pinjore                     2            0               0.0\n",
       "Sikar                       2            0               0.0\n",
       "Pen                         2            0               0.0\n",
       "Nanjangud                   2            0               0.0\n",
       "Narnaul                     2            0               0.0\n",
       "Udaipurwati                 2            0               0.0\n",
       "Nazira                      2            0               0.0\n",
       "Tiruchirappalli             2            0               0.0\n",
       "Hanumangarh                 2            0               0.0\n",
       "Palamu                      2            0               0.0\n",
       "Suri                        2            0               0.0\n",
       "Srinagar                    2            0               0.0\n",
       "Dharmapuri                  2            0               0.0\n",
       "Dharamasala                 2            0               0.0\n",
       "Burdwan                     2            0               0.0\n",
       "Gondia                      2            0               0.0\n",
       "Jorhat                      2            0               0.0\n",
       "Arrah                       2            0               0.0\n",
       "Jobner                      2            0               0.0\n",
       "Goregaon                    2            0               0.0\n",
       "Jhalawar                    2            0               0.0\n",
       "Deoghar                     2            0               0.0\n",
       "Jamui                       2            0               0.0\n",
       "Zirakpur                    1            0               0.0"
      ]
     },
     "execution_count": 308,
     "metadata": {},
     "output_type": "execute_result"
    }
   ],
   "source": [
    "bajaj_count.tail(50)"
   ]
  },
  {
   "cell_type": "code",
   "execution_count": 312,
   "id": "4fd784cf",
   "metadata": {},
   "outputs": [
    {
     "data": {
      "text/plain": [
       "Location    Name                                   \n",
       "24 Pargana  Royal Enfield Thunderbird 350cc 2015         2\n",
       "            Yamaha FZS FI 150cc 2016                     2\n",
       "            Bajaj Discover 110cc 2018                    1\n",
       "            Bajaj Pulsar 150cc 2014                      1\n",
       "            Bajaj Pulsar NS160 2017                      1\n",
       "            Honda CB Hornet 160R STD 2016                1\n",
       "            Honda CB Trigger 150cc 2014                  1\n",
       "            KTM Duke 200cc 2013                          1\n",
       "            KTM Duke 250cc 2019                          1\n",
       "            Suzuki Gixxer 150cc SP Rear Disc 2017        1\n",
       "            Yamaha Fazer 25 250cc 2017                   1\n",
       "Abohar      Royal Enfield Classic 350cc 2013             2\n",
       "Adalaj      Bajaj Discover 125T 2013                     1\n",
       "            Hero CBZ Xtreme 150cc 2007                   1\n",
       "            Hero CD Dawn 100cc 2011                      1\n",
       "            Honda CB Trigger 150cc 2015                  1\n",
       "            Royal Enfield Classic Chrome 500cc 2014      1\n",
       "            TVS Apache RTR 200 4V FI 2017                1\n",
       "Adilabad    TVS Apache RTR 200 4V FI 2017                1\n",
       "Adoni       KTM RC 200cc 2017                            1\n",
       "Adyar       KTM RC 200cc 2015                            2\n",
       "            Royal Enfield Electra 350cc 2011             1\n",
       "Agra        Honda CB Unicorn 150cc 2008                  3\n",
       "            Bajaj Pulsar NS200 2017                      2\n",
       "            Bajaj  Pulsar 180cc 2008                     1\n",
       "            Bajaj Avenger 220cc 2018                     1\n",
       "            Bajaj Discover 135cc 2010                    1\n",
       "            Bajaj Discover 150F 2014                     1\n",
       "            Bajaj Pulsar 150cc 2003                      1\n",
       "            Hero CD Deluxe 100cc 2007                    1\n",
       "            Honda CB Hornet 160R CBS 2017                1\n",
       "            Honda CBF Stunner 125cc 2012                 1\n",
       "            UM Renegade Commando 2017                    1\n",
       "Ahmedabad   Suzuki Zeus 125cc 2009                     608\n",
       "            Bajaj Pulsar 150cc 2009                      6\n",
       "            Bajaj Pulsar 150cc 2011                      5\n",
       "            Bajaj Avenger 220cc 2012                     4\n",
       "            Bajaj Discover 125cc 2011                    4\n",
       "            Bajaj Pulsar 150cc 2014                      4\n",
       "            Hero CD Dawn 100cc 2006                      4\n",
       "            Bajaj Avenger 220cc 2014                     3\n",
       "            Bajaj Avenger 220cc 2015                     3\n",
       "            Bajaj Avenger Street 150 2017                3\n",
       "            Bajaj Discover 100cc 2011                    3\n",
       "            Bajaj Discover 125cc 2015                    3\n",
       "            Bajaj Dominar 400 ABS 2018                   3\n",
       "            Bajaj Pulsar 150cc 2016                      3\n",
       "            Bajaj Pulsar 200 NS 200cc 2014               3\n",
       "            Bajaj V15 150cc 2017                         3\n",
       "            Harley-Davidson Street 750 2016              3\n",
       "Name: Name, dtype: int64"
      ]
     },
     "execution_count": 312,
     "metadata": {},
     "output_type": "execute_result"
    }
   ],
   "source": [
    "Location_grp['Name'].value_counts().head(50)"
   ]
  },
  {
   "cell_type": "markdown",
   "id": "0369d352",
   "metadata": {},
   "source": [
    "# TUTORIAL 08___Cleaning data - Casting Datatypes and Handling Missing Values\n",
    "read the comments carefully"
   ]
  },
  {
   "cell_type": "code",
   "execution_count": 316,
   "id": "1bb3dfbf",
   "metadata": {},
   "outputs": [],
   "source": [
    "import numpy as np"
   ]
  },
  {
   "cell_type": "code",
   "execution_count": 320,
   "id": "963c3029",
   "metadata": {},
   "outputs": [],
   "source": [
    "people_name = {'first' : ['Corey' , 'Jane' , 'John' , 'Chris' , np.nan , None , 'NA'],\n",
    "              'last' : ['Schafer' , 'Doe' ,'Doe' ,  'Schafer' , np.nan , np.nan , 'Missing'],\n",
    "              'email' : ['CoreyMSchafer@gmail.com' , 'Jane675@gmail.com' , 'John343@gmail.com' , None , np.nan , 'Anonymous@gmail.com' , 'NA'],\n",
    "              'age': ['33' , '55' , '63' , '36' , None , None , 'Missing']}"
   ]
  },
  {
   "cell_type": "code",
   "execution_count": 334,
   "id": "567b438e",
   "metadata": {},
   "outputs": [],
   "source": [
    "df_11 = pd.DataFrame(people_name)\n",
    "\n"
   ]
  },
  {
   "cell_type": "markdown",
   "id": "4185be4b",
   "metadata": {},
   "source": [
    "# how to replace any string like 'Missing' and 'NA' values to NAN with the help of numpy (.replace)"
   ]
  },
  {
   "cell_type": "code",
   "execution_count": 336,
   "id": "03c52ab4",
   "metadata": {},
   "outputs": [],
   "source": [
    "df_11.replace('NA' , np.nan , inplace = True)\n",
    "df_11.replace('Missing' , np.nan , inplace = True)"
   ]
  },
  {
   "cell_type": "markdown",
   "id": "09d32781",
   "metadata": {},
   "source": [
    "# ________OVER______"
   ]
  },
  {
   "cell_type": "code",
   "execution_count": 335,
   "id": "97b0095e",
   "metadata": {},
   "outputs": [
    {
     "data": {
      "text/html": [
       "<div>\n",
       "<style scoped>\n",
       "    .dataframe tbody tr th:only-of-type {\n",
       "        vertical-align: middle;\n",
       "    }\n",
       "\n",
       "    .dataframe tbody tr th {\n",
       "        vertical-align: top;\n",
       "    }\n",
       "\n",
       "    .dataframe thead th {\n",
       "        text-align: right;\n",
       "    }\n",
       "</style>\n",
       "<table border=\"1\" class=\"dataframe\">\n",
       "  <thead>\n",
       "    <tr style=\"text-align: right;\">\n",
       "      <th></th>\n",
       "      <th>first</th>\n",
       "      <th>last</th>\n",
       "      <th>email</th>\n",
       "      <th>age</th>\n",
       "    </tr>\n",
       "  </thead>\n",
       "  <tbody>\n",
       "    <tr>\n",
       "      <th>0</th>\n",
       "      <td>Corey</td>\n",
       "      <td>Schafer</td>\n",
       "      <td>CoreyMSchafer@gmail.com</td>\n",
       "      <td>33</td>\n",
       "    </tr>\n",
       "    <tr>\n",
       "      <th>1</th>\n",
       "      <td>Jane</td>\n",
       "      <td>Doe</td>\n",
       "      <td>Jane675@gmail.com</td>\n",
       "      <td>55</td>\n",
       "    </tr>\n",
       "    <tr>\n",
       "      <th>2</th>\n",
       "      <td>John</td>\n",
       "      <td>Doe</td>\n",
       "      <td>John343@gmail.com</td>\n",
       "      <td>63</td>\n",
       "    </tr>\n",
       "    <tr>\n",
       "      <th>3</th>\n",
       "      <td>Chris</td>\n",
       "      <td>Schafer</td>\n",
       "      <td>None</td>\n",
       "      <td>36</td>\n",
       "    </tr>\n",
       "    <tr>\n",
       "      <th>4</th>\n",
       "      <td>NaN</td>\n",
       "      <td>NaN</td>\n",
       "      <td>NaN</td>\n",
       "      <td>None</td>\n",
       "    </tr>\n",
       "    <tr>\n",
       "      <th>5</th>\n",
       "      <td>None</td>\n",
       "      <td>NaN</td>\n",
       "      <td>Anonymous@gmail.com</td>\n",
       "      <td>None</td>\n",
       "    </tr>\n",
       "    <tr>\n",
       "      <th>6</th>\n",
       "      <td>NaN</td>\n",
       "      <td>NaN</td>\n",
       "      <td>NaN</td>\n",
       "      <td>NaN</td>\n",
       "    </tr>\n",
       "  </tbody>\n",
       "</table>\n",
       "</div>"
      ],
      "text/plain": [
       "   first     last                    email   age\n",
       "0  Corey  Schafer  CoreyMSchafer@gmail.com    33\n",
       "1   Jane      Doe        Jane675@gmail.com    55\n",
       "2   John      Doe        John343@gmail.com    63\n",
       "3  Chris  Schafer                     None    36\n",
       "4    NaN      NaN                      NaN  None\n",
       "5   None      NaN      Anonymous@gmail.com  None\n",
       "6    NaN      NaN                      NaN   NaN"
      ]
     },
     "execution_count": 335,
     "metadata": {},
     "output_type": "execute_result"
    }
   ],
   "source": [
    "df_11"
   ]
  },
  {
   "cell_type": "markdown",
   "id": "abc6cc94",
   "metadata": {},
   "source": [
    "# .dropna()"
   ]
  },
  {
   "cell_type": "code",
   "execution_count": 337,
   "id": "26a71dcb",
   "metadata": {},
   "outputs": [
    {
     "data": {
      "text/html": [
       "<div>\n",
       "<style scoped>\n",
       "    .dataframe tbody tr th:only-of-type {\n",
       "        vertical-align: middle;\n",
       "    }\n",
       "\n",
       "    .dataframe tbody tr th {\n",
       "        vertical-align: top;\n",
       "    }\n",
       "\n",
       "    .dataframe thead th {\n",
       "        text-align: right;\n",
       "    }\n",
       "</style>\n",
       "<table border=\"1\" class=\"dataframe\">\n",
       "  <thead>\n",
       "    <tr style=\"text-align: right;\">\n",
       "      <th></th>\n",
       "      <th>first</th>\n",
       "      <th>last</th>\n",
       "      <th>email</th>\n",
       "      <th>age</th>\n",
       "    </tr>\n",
       "  </thead>\n",
       "  <tbody>\n",
       "    <tr>\n",
       "      <th>0</th>\n",
       "      <td>Corey</td>\n",
       "      <td>Schafer</td>\n",
       "      <td>CoreyMSchafer@gmail.com</td>\n",
       "      <td>33</td>\n",
       "    </tr>\n",
       "    <tr>\n",
       "      <th>1</th>\n",
       "      <td>Jane</td>\n",
       "      <td>Doe</td>\n",
       "      <td>Jane675@gmail.com</td>\n",
       "      <td>55</td>\n",
       "    </tr>\n",
       "    <tr>\n",
       "      <th>2</th>\n",
       "      <td>John</td>\n",
       "      <td>Doe</td>\n",
       "      <td>John343@gmail.com</td>\n",
       "      <td>63</td>\n",
       "    </tr>\n",
       "  </tbody>\n",
       "</table>\n",
       "</div>"
      ],
      "text/plain": [
       "   first     last                    email age\n",
       "0  Corey  Schafer  CoreyMSchafer@gmail.com  33\n",
       "1   Jane      Doe        Jane675@gmail.com  55\n",
       "2   John      Doe        John343@gmail.com  63"
      ]
     },
     "execution_count": 337,
     "metadata": {},
     "output_type": "execute_result"
    }
   ],
   "source": [
    "df_11.dropna()\n",
    "\n",
    "#drop that rows whoes values are not there in the row"
   ]
  },
  {
   "cell_type": "code",
   "execution_count": 338,
   "id": "42950f09",
   "metadata": {},
   "outputs": [
    {
     "data": {
      "text/html": [
       "<div>\n",
       "<style scoped>\n",
       "    .dataframe tbody tr th:only-of-type {\n",
       "        vertical-align: middle;\n",
       "    }\n",
       "\n",
       "    .dataframe tbody tr th {\n",
       "        vertical-align: top;\n",
       "    }\n",
       "\n",
       "    .dataframe thead th {\n",
       "        text-align: right;\n",
       "    }\n",
       "</style>\n",
       "<table border=\"1\" class=\"dataframe\">\n",
       "  <thead>\n",
       "    <tr style=\"text-align: right;\">\n",
       "      <th></th>\n",
       "      <th>first</th>\n",
       "      <th>last</th>\n",
       "      <th>email</th>\n",
       "      <th>age</th>\n",
       "    </tr>\n",
       "  </thead>\n",
       "  <tbody>\n",
       "    <tr>\n",
       "      <th>0</th>\n",
       "      <td>Corey</td>\n",
       "      <td>Schafer</td>\n",
       "      <td>CoreyMSchafer@gmail.com</td>\n",
       "      <td>33</td>\n",
       "    </tr>\n",
       "    <tr>\n",
       "      <th>1</th>\n",
       "      <td>Jane</td>\n",
       "      <td>Doe</td>\n",
       "      <td>Jane675@gmail.com</td>\n",
       "      <td>55</td>\n",
       "    </tr>\n",
       "    <tr>\n",
       "      <th>2</th>\n",
       "      <td>John</td>\n",
       "      <td>Doe</td>\n",
       "      <td>John343@gmail.com</td>\n",
       "      <td>63</td>\n",
       "    </tr>\n",
       "  </tbody>\n",
       "</table>\n",
       "</div>"
      ],
      "text/plain": [
       "   first     last                    email age\n",
       "0  Corey  Schafer  CoreyMSchafer@gmail.com  33\n",
       "1   Jane      Doe        Jane675@gmail.com  55\n",
       "2   John      Doe        John343@gmail.com  63"
      ]
     },
     "execution_count": 338,
     "metadata": {},
     "output_type": "execute_result"
    }
   ],
   "source": [
    "df_11.dropna(axis = 'index', how = 'any')\n",
    "\n",
    "# axis =  is said to be index or column\n",
    "# how = is said to be any missing value"
   ]
  },
  {
   "cell_type": "code",
   "execution_count": 339,
   "id": "87c5ee58",
   "metadata": {},
   "outputs": [
    {
     "data": {
      "text/html": [
       "<div>\n",
       "<style scoped>\n",
       "    .dataframe tbody tr th:only-of-type {\n",
       "        vertical-align: middle;\n",
       "    }\n",
       "\n",
       "    .dataframe tbody tr th {\n",
       "        vertical-align: top;\n",
       "    }\n",
       "\n",
       "    .dataframe thead th {\n",
       "        text-align: right;\n",
       "    }\n",
       "</style>\n",
       "<table border=\"1\" class=\"dataframe\">\n",
       "  <thead>\n",
       "    <tr style=\"text-align: right;\">\n",
       "      <th></th>\n",
       "      <th>first</th>\n",
       "      <th>last</th>\n",
       "      <th>email</th>\n",
       "      <th>age</th>\n",
       "    </tr>\n",
       "  </thead>\n",
       "  <tbody>\n",
       "    <tr>\n",
       "      <th>0</th>\n",
       "      <td>Corey</td>\n",
       "      <td>Schafer</td>\n",
       "      <td>CoreyMSchafer@gmail.com</td>\n",
       "      <td>33</td>\n",
       "    </tr>\n",
       "    <tr>\n",
       "      <th>1</th>\n",
       "      <td>Jane</td>\n",
       "      <td>Doe</td>\n",
       "      <td>Jane675@gmail.com</td>\n",
       "      <td>55</td>\n",
       "    </tr>\n",
       "    <tr>\n",
       "      <th>2</th>\n",
       "      <td>John</td>\n",
       "      <td>Doe</td>\n",
       "      <td>John343@gmail.com</td>\n",
       "      <td>63</td>\n",
       "    </tr>\n",
       "    <tr>\n",
       "      <th>3</th>\n",
       "      <td>Chris</td>\n",
       "      <td>Schafer</td>\n",
       "      <td>None</td>\n",
       "      <td>36</td>\n",
       "    </tr>\n",
       "    <tr>\n",
       "      <th>5</th>\n",
       "      <td>None</td>\n",
       "      <td>NaN</td>\n",
       "      <td>Anonymous@gmail.com</td>\n",
       "      <td>None</td>\n",
       "    </tr>\n",
       "  </tbody>\n",
       "</table>\n",
       "</div>"
      ],
      "text/plain": [
       "   first     last                    email   age\n",
       "0  Corey  Schafer  CoreyMSchafer@gmail.com    33\n",
       "1   Jane      Doe        Jane675@gmail.com    55\n",
       "2   John      Doe        John343@gmail.com    63\n",
       "3  Chris  Schafer                     None    36\n",
       "5   None      NaN      Anonymous@gmail.com  None"
      ]
     },
     "execution_count": 339,
     "metadata": {},
     "output_type": "execute_result"
    }
   ],
   "source": [
    "df_11.dropna(axis = 'index', how = 'all')\n",
    "\n",
    "# all = it will take that row only that info is not there means only one is not there\n",
    "\n",
    "\n",
    "# it will check all values from rows if one value is not there that is okeyy...but all values is not there it will not give..."
   ]
  },
  {
   "cell_type": "code",
   "execution_count": 340,
   "id": "c29c6fba",
   "metadata": {},
   "outputs": [
    {
     "data": {
      "text/html": [
       "<div>\n",
       "<style scoped>\n",
       "    .dataframe tbody tr th:only-of-type {\n",
       "        vertical-align: middle;\n",
       "    }\n",
       "\n",
       "    .dataframe tbody tr th {\n",
       "        vertical-align: top;\n",
       "    }\n",
       "\n",
       "    .dataframe thead th {\n",
       "        text-align: right;\n",
       "    }\n",
       "</style>\n",
       "<table border=\"1\" class=\"dataframe\">\n",
       "  <thead>\n",
       "    <tr style=\"text-align: right;\">\n",
       "      <th></th>\n",
       "      <th>first</th>\n",
       "      <th>last</th>\n",
       "      <th>email</th>\n",
       "      <th>age</th>\n",
       "    </tr>\n",
       "  </thead>\n",
       "  <tbody>\n",
       "    <tr>\n",
       "      <th>0</th>\n",
       "      <td>Corey</td>\n",
       "      <td>Schafer</td>\n",
       "      <td>CoreyMSchafer@gmail.com</td>\n",
       "      <td>33</td>\n",
       "    </tr>\n",
       "    <tr>\n",
       "      <th>1</th>\n",
       "      <td>Jane</td>\n",
       "      <td>Doe</td>\n",
       "      <td>Jane675@gmail.com</td>\n",
       "      <td>55</td>\n",
       "    </tr>\n",
       "    <tr>\n",
       "      <th>2</th>\n",
       "      <td>John</td>\n",
       "      <td>Doe</td>\n",
       "      <td>John343@gmail.com</td>\n",
       "      <td>63</td>\n",
       "    </tr>\n",
       "    <tr>\n",
       "      <th>3</th>\n",
       "      <td>Chris</td>\n",
       "      <td>Schafer</td>\n",
       "      <td>None</td>\n",
       "      <td>36</td>\n",
       "    </tr>\n",
       "    <tr>\n",
       "      <th>4</th>\n",
       "      <td>NaN</td>\n",
       "      <td>NaN</td>\n",
       "      <td>NaN</td>\n",
       "      <td>None</td>\n",
       "    </tr>\n",
       "    <tr>\n",
       "      <th>5</th>\n",
       "      <td>None</td>\n",
       "      <td>NaN</td>\n",
       "      <td>Anonymous@gmail.com</td>\n",
       "      <td>None</td>\n",
       "    </tr>\n",
       "    <tr>\n",
       "      <th>6</th>\n",
       "      <td>NaN</td>\n",
       "      <td>NaN</td>\n",
       "      <td>NaN</td>\n",
       "      <td>NaN</td>\n",
       "    </tr>\n",
       "  </tbody>\n",
       "</table>\n",
       "</div>"
      ],
      "text/plain": [
       "   first     last                    email   age\n",
       "0  Corey  Schafer  CoreyMSchafer@gmail.com    33\n",
       "1   Jane      Doe        Jane675@gmail.com    55\n",
       "2   John      Doe        John343@gmail.com    63\n",
       "3  Chris  Schafer                     None    36\n",
       "4    NaN      NaN                      NaN  None\n",
       "5   None      NaN      Anonymous@gmail.com  None\n",
       "6    NaN      NaN                      NaN   NaN"
      ]
     },
     "execution_count": 340,
     "metadata": {},
     "output_type": "execute_result"
    }
   ],
   "source": [
    "df_11.dropna(axis = 'columns', how = 'all')\n",
    "\n",
    "# it will check all values from columns if one value is not there that is okeyy...but all values is not there it will not give..."
   ]
  },
  {
   "cell_type": "markdown",
   "id": "c0779897",
   "metadata": {},
   "source": [
    "# subset = "
   ]
  },
  {
   "cell_type": "code",
   "execution_count": 341,
   "id": "331310c3",
   "metadata": {},
   "outputs": [
    {
     "data": {
      "text/html": [
       "<div>\n",
       "<style scoped>\n",
       "    .dataframe tbody tr th:only-of-type {\n",
       "        vertical-align: middle;\n",
       "    }\n",
       "\n",
       "    .dataframe tbody tr th {\n",
       "        vertical-align: top;\n",
       "    }\n",
       "\n",
       "    .dataframe thead th {\n",
       "        text-align: right;\n",
       "    }\n",
       "</style>\n",
       "<table border=\"1\" class=\"dataframe\">\n",
       "  <thead>\n",
       "    <tr style=\"text-align: right;\">\n",
       "      <th></th>\n",
       "      <th>first</th>\n",
       "      <th>last</th>\n",
       "      <th>email</th>\n",
       "      <th>age</th>\n",
       "    </tr>\n",
       "  </thead>\n",
       "  <tbody>\n",
       "    <tr>\n",
       "      <th>0</th>\n",
       "      <td>Corey</td>\n",
       "      <td>Schafer</td>\n",
       "      <td>CoreyMSchafer@gmail.com</td>\n",
       "      <td>33</td>\n",
       "    </tr>\n",
       "    <tr>\n",
       "      <th>1</th>\n",
       "      <td>Jane</td>\n",
       "      <td>Doe</td>\n",
       "      <td>Jane675@gmail.com</td>\n",
       "      <td>55</td>\n",
       "    </tr>\n",
       "    <tr>\n",
       "      <th>2</th>\n",
       "      <td>John</td>\n",
       "      <td>Doe</td>\n",
       "      <td>John343@gmail.com</td>\n",
       "      <td>63</td>\n",
       "    </tr>\n",
       "    <tr>\n",
       "      <th>5</th>\n",
       "      <td>None</td>\n",
       "      <td>NaN</td>\n",
       "      <td>Anonymous@gmail.com</td>\n",
       "      <td>None</td>\n",
       "    </tr>\n",
       "  </tbody>\n",
       "</table>\n",
       "</div>"
      ],
      "text/plain": [
       "   first     last                    email   age\n",
       "0  Corey  Schafer  CoreyMSchafer@gmail.com    33\n",
       "1   Jane      Doe        Jane675@gmail.com    55\n",
       "2   John      Doe        John343@gmail.com    63\n",
       "5   None      NaN      Anonymous@gmail.com  None"
      ]
     },
     "execution_count": 341,
     "metadata": {},
     "output_type": "execute_result"
    }
   ],
   "source": [
    "df_11.dropna(axis = 'index', how = 'any' , subset = ['email'])\n",
    "# it will check in emails by rows and check that in emails values should be there..."
   ]
  },
  {
   "cell_type": "code",
   "execution_count": 342,
   "id": "a240382e",
   "metadata": {},
   "outputs": [
    {
     "data": {
      "text/html": [
       "<div>\n",
       "<style scoped>\n",
       "    .dataframe tbody tr th:only-of-type {\n",
       "        vertical-align: middle;\n",
       "    }\n",
       "\n",
       "    .dataframe tbody tr th {\n",
       "        vertical-align: top;\n",
       "    }\n",
       "\n",
       "    .dataframe thead th {\n",
       "        text-align: right;\n",
       "    }\n",
       "</style>\n",
       "<table border=\"1\" class=\"dataframe\">\n",
       "  <thead>\n",
       "    <tr style=\"text-align: right;\">\n",
       "      <th></th>\n",
       "      <th>first</th>\n",
       "      <th>last</th>\n",
       "      <th>email</th>\n",
       "      <th>age</th>\n",
       "    </tr>\n",
       "  </thead>\n",
       "  <tbody>\n",
       "    <tr>\n",
       "      <th>0</th>\n",
       "      <td>Corey</td>\n",
       "      <td>Schafer</td>\n",
       "      <td>CoreyMSchafer@gmail.com</td>\n",
       "      <td>33</td>\n",
       "    </tr>\n",
       "    <tr>\n",
       "      <th>1</th>\n",
       "      <td>Jane</td>\n",
       "      <td>Doe</td>\n",
       "      <td>Jane675@gmail.com</td>\n",
       "      <td>55</td>\n",
       "    </tr>\n",
       "    <tr>\n",
       "      <th>2</th>\n",
       "      <td>John</td>\n",
       "      <td>Doe</td>\n",
       "      <td>John343@gmail.com</td>\n",
       "      <td>63</td>\n",
       "    </tr>\n",
       "    <tr>\n",
       "      <th>3</th>\n",
       "      <td>Chris</td>\n",
       "      <td>Schafer</td>\n",
       "      <td>None</td>\n",
       "      <td>36</td>\n",
       "    </tr>\n",
       "    <tr>\n",
       "      <th>5</th>\n",
       "      <td>None</td>\n",
       "      <td>NaN</td>\n",
       "      <td>Anonymous@gmail.com</td>\n",
       "      <td>None</td>\n",
       "    </tr>\n",
       "  </tbody>\n",
       "</table>\n",
       "</div>"
      ],
      "text/plain": [
       "   first     last                    email   age\n",
       "0  Corey  Schafer  CoreyMSchafer@gmail.com    33\n",
       "1   Jane      Doe        Jane675@gmail.com    55\n",
       "2   John      Doe        John343@gmail.com    63\n",
       "3  Chris  Schafer                     None    36\n",
       "5   None      NaN      Anonymous@gmail.com  None"
      ]
     },
     "execution_count": 342,
     "metadata": {},
     "output_type": "execute_result"
    }
   ],
   "source": [
    "df_11.dropna(axis = 'index', how = 'all' , subset = ['last' , 'email'])\n",
    "# check in the subset and atleast one value should be there either 'last' or 'email'"
   ]
  },
  {
   "cell_type": "markdown",
   "id": "de685c4f",
   "metadata": {},
   "source": [
    "# .isna()\n",
    "\n",
    "for counting NAN values in TRUE or FALSE"
   ]
  },
  {
   "cell_type": "code",
   "execution_count": 345,
   "id": "b7da7128",
   "metadata": {},
   "outputs": [
    {
     "data": {
      "text/html": [
       "<div>\n",
       "<style scoped>\n",
       "    .dataframe tbody tr th:only-of-type {\n",
       "        vertical-align: middle;\n",
       "    }\n",
       "\n",
       "    .dataframe tbody tr th {\n",
       "        vertical-align: top;\n",
       "    }\n",
       "\n",
       "    .dataframe thead th {\n",
       "        text-align: right;\n",
       "    }\n",
       "</style>\n",
       "<table border=\"1\" class=\"dataframe\">\n",
       "  <thead>\n",
       "    <tr style=\"text-align: right;\">\n",
       "      <th></th>\n",
       "      <th>first</th>\n",
       "      <th>last</th>\n",
       "      <th>email</th>\n",
       "      <th>age</th>\n",
       "    </tr>\n",
       "  </thead>\n",
       "  <tbody>\n",
       "    <tr>\n",
       "      <th>0</th>\n",
       "      <td>False</td>\n",
       "      <td>False</td>\n",
       "      <td>False</td>\n",
       "      <td>False</td>\n",
       "    </tr>\n",
       "    <tr>\n",
       "      <th>1</th>\n",
       "      <td>False</td>\n",
       "      <td>False</td>\n",
       "      <td>False</td>\n",
       "      <td>False</td>\n",
       "    </tr>\n",
       "    <tr>\n",
       "      <th>2</th>\n",
       "      <td>False</td>\n",
       "      <td>False</td>\n",
       "      <td>False</td>\n",
       "      <td>False</td>\n",
       "    </tr>\n",
       "    <tr>\n",
       "      <th>3</th>\n",
       "      <td>False</td>\n",
       "      <td>False</td>\n",
       "      <td>True</td>\n",
       "      <td>False</td>\n",
       "    </tr>\n",
       "    <tr>\n",
       "      <th>4</th>\n",
       "      <td>True</td>\n",
       "      <td>True</td>\n",
       "      <td>True</td>\n",
       "      <td>True</td>\n",
       "    </tr>\n",
       "    <tr>\n",
       "      <th>5</th>\n",
       "      <td>True</td>\n",
       "      <td>True</td>\n",
       "      <td>False</td>\n",
       "      <td>True</td>\n",
       "    </tr>\n",
       "    <tr>\n",
       "      <th>6</th>\n",
       "      <td>True</td>\n",
       "      <td>True</td>\n",
       "      <td>True</td>\n",
       "      <td>True</td>\n",
       "    </tr>\n",
       "  </tbody>\n",
       "</table>\n",
       "</div>"
      ],
      "text/plain": [
       "   first   last  email    age\n",
       "0  False  False  False  False\n",
       "1  False  False  False  False\n",
       "2  False  False  False  False\n",
       "3  False  False   True  False\n",
       "4   True   True   True   True\n",
       "5   True   True  False   True\n",
       "6   True   True   True   True"
      ]
     },
     "execution_count": 345,
     "metadata": {},
     "output_type": "execute_result"
    }
   ],
   "source": [
    "df_11.isna()\n",
    "\n",
    "# it will tell you that how many values are NAN in your dataframe"
   ]
  },
  {
   "cell_type": "markdown",
   "id": "b4777be7",
   "metadata": {},
   "source": [
    "# .fillna()\n",
    "\n",
    "for NAN values"
   ]
  },
  {
   "cell_type": "code",
   "execution_count": 346,
   "id": "a3111869",
   "metadata": {},
   "outputs": [
    {
     "data": {
      "text/html": [
       "<div>\n",
       "<style scoped>\n",
       "    .dataframe tbody tr th:only-of-type {\n",
       "        vertical-align: middle;\n",
       "    }\n",
       "\n",
       "    .dataframe tbody tr th {\n",
       "        vertical-align: top;\n",
       "    }\n",
       "\n",
       "    .dataframe thead th {\n",
       "        text-align: right;\n",
       "    }\n",
       "</style>\n",
       "<table border=\"1\" class=\"dataframe\">\n",
       "  <thead>\n",
       "    <tr style=\"text-align: right;\">\n",
       "      <th></th>\n",
       "      <th>first</th>\n",
       "      <th>last</th>\n",
       "      <th>email</th>\n",
       "      <th>age</th>\n",
       "    </tr>\n",
       "  </thead>\n",
       "  <tbody>\n",
       "    <tr>\n",
       "      <th>0</th>\n",
       "      <td>Corey</td>\n",
       "      <td>Schafer</td>\n",
       "      <td>CoreyMSchafer@gmail.com</td>\n",
       "      <td>33</td>\n",
       "    </tr>\n",
       "    <tr>\n",
       "      <th>1</th>\n",
       "      <td>Jane</td>\n",
       "      <td>Doe</td>\n",
       "      <td>Jane675@gmail.com</td>\n",
       "      <td>55</td>\n",
       "    </tr>\n",
       "    <tr>\n",
       "      <th>2</th>\n",
       "      <td>John</td>\n",
       "      <td>Doe</td>\n",
       "      <td>John343@gmail.com</td>\n",
       "      <td>63</td>\n",
       "    </tr>\n",
       "    <tr>\n",
       "      <th>3</th>\n",
       "      <td>Chris</td>\n",
       "      <td>Schafer</td>\n",
       "      <td>MISSING</td>\n",
       "      <td>36</td>\n",
       "    </tr>\n",
       "    <tr>\n",
       "      <th>4</th>\n",
       "      <td>MISSING</td>\n",
       "      <td>MISSING</td>\n",
       "      <td>MISSING</td>\n",
       "      <td>MISSING</td>\n",
       "    </tr>\n",
       "    <tr>\n",
       "      <th>5</th>\n",
       "      <td>MISSING</td>\n",
       "      <td>MISSING</td>\n",
       "      <td>Anonymous@gmail.com</td>\n",
       "      <td>MISSING</td>\n",
       "    </tr>\n",
       "    <tr>\n",
       "      <th>6</th>\n",
       "      <td>MISSING</td>\n",
       "      <td>MISSING</td>\n",
       "      <td>MISSING</td>\n",
       "      <td>MISSING</td>\n",
       "    </tr>\n",
       "  </tbody>\n",
       "</table>\n",
       "</div>"
      ],
      "text/plain": [
       "     first     last                    email      age\n",
       "0    Corey  Schafer  CoreyMSchafer@gmail.com       33\n",
       "1     Jane      Doe        Jane675@gmail.com       55\n",
       "2     John      Doe        John343@gmail.com       63\n",
       "3    Chris  Schafer                  MISSING       36\n",
       "4  MISSING  MISSING                  MISSING  MISSING\n",
       "5  MISSING  MISSING      Anonymous@gmail.com  MISSING\n",
       "6  MISSING  MISSING                  MISSING  MISSING"
      ]
     },
     "execution_count": 346,
     "metadata": {},
     "output_type": "execute_result"
    }
   ],
   "source": [
    "df_11.fillna('MISSING')     \n",
    "\n",
    "#it will fill your NAN values into some string,int,float , etc"
   ]
  },
  {
   "cell_type": "code",
   "execution_count": 347,
   "id": "6865dc8a",
   "metadata": {},
   "outputs": [
    {
     "data": {
      "text/html": [
       "<div>\n",
       "<style scoped>\n",
       "    .dataframe tbody tr th:only-of-type {\n",
       "        vertical-align: middle;\n",
       "    }\n",
       "\n",
       "    .dataframe tbody tr th {\n",
       "        vertical-align: top;\n",
       "    }\n",
       "\n",
       "    .dataframe thead th {\n",
       "        text-align: right;\n",
       "    }\n",
       "</style>\n",
       "<table border=\"1\" class=\"dataframe\">\n",
       "  <thead>\n",
       "    <tr style=\"text-align: right;\">\n",
       "      <th></th>\n",
       "      <th>first</th>\n",
       "      <th>last</th>\n",
       "      <th>email</th>\n",
       "      <th>age</th>\n",
       "    </tr>\n",
       "  </thead>\n",
       "  <tbody>\n",
       "    <tr>\n",
       "      <th>0</th>\n",
       "      <td>Corey</td>\n",
       "      <td>Schafer</td>\n",
       "      <td>CoreyMSchafer@gmail.com</td>\n",
       "      <td>33</td>\n",
       "    </tr>\n",
       "    <tr>\n",
       "      <th>1</th>\n",
       "      <td>Jane</td>\n",
       "      <td>Doe</td>\n",
       "      <td>Jane675@gmail.com</td>\n",
       "      <td>55</td>\n",
       "    </tr>\n",
       "    <tr>\n",
       "      <th>2</th>\n",
       "      <td>John</td>\n",
       "      <td>Doe</td>\n",
       "      <td>John343@gmail.com</td>\n",
       "      <td>63</td>\n",
       "    </tr>\n",
       "    <tr>\n",
       "      <th>3</th>\n",
       "      <td>Chris</td>\n",
       "      <td>Schafer</td>\n",
       "      <td>0</td>\n",
       "      <td>36</td>\n",
       "    </tr>\n",
       "    <tr>\n",
       "      <th>4</th>\n",
       "      <td>0</td>\n",
       "      <td>0</td>\n",
       "      <td>0</td>\n",
       "      <td>0</td>\n",
       "    </tr>\n",
       "    <tr>\n",
       "      <th>5</th>\n",
       "      <td>0</td>\n",
       "      <td>0</td>\n",
       "      <td>Anonymous@gmail.com</td>\n",
       "      <td>0</td>\n",
       "    </tr>\n",
       "    <tr>\n",
       "      <th>6</th>\n",
       "      <td>0</td>\n",
       "      <td>0</td>\n",
       "      <td>0</td>\n",
       "      <td>0</td>\n",
       "    </tr>\n",
       "  </tbody>\n",
       "</table>\n",
       "</div>"
      ],
      "text/plain": [
       "   first     last                    email age\n",
       "0  Corey  Schafer  CoreyMSchafer@gmail.com  33\n",
       "1   Jane      Doe        Jane675@gmail.com  55\n",
       "2   John      Doe        John343@gmail.com  63\n",
       "3  Chris  Schafer                        0  36\n",
       "4      0        0                        0   0\n",
       "5      0        0      Anonymous@gmail.com   0\n",
       "6      0        0                        0   0"
      ]
     },
     "execution_count": 347,
     "metadata": {},
     "output_type": "execute_result"
    }
   ],
   "source": [
    "df_11.fillna(0)  "
   ]
  },
  {
   "cell_type": "markdown",
   "id": "3c1cc0c3",
   "metadata": {},
   "source": [
    "# .astype()\n",
    "it will change you datatype"
   ]
  },
  {
   "cell_type": "code",
   "execution_count": 350,
   "id": "dd6721af",
   "metadata": {},
   "outputs": [],
   "source": [
    "df_11['age'] = df_11['age'].astype(float)"
   ]
  },
  {
   "cell_type": "markdown",
   "id": "445c4081",
   "metadata": {},
   "source": [
    "# .mean()\n",
    "average"
   ]
  },
  {
   "cell_type": "code",
   "execution_count": 351,
   "id": "412ea2f1",
   "metadata": {},
   "outputs": [
    {
     "data": {
      "text/plain": [
       "46.75"
      ]
     },
     "execution_count": 351,
     "metadata": {},
     "output_type": "execute_result"
    }
   ],
   "source": [
    "df_11['age'].mean()"
   ]
  },
  {
   "cell_type": "markdown",
   "id": "ecba53b1",
   "metadata": {},
   "source": [
    "# TUTORIAL 08___WORKING WITH DATES AND TIME SERIES DATA\n",
    "read the comments carefull"
   ]
  },
  {
   "cell_type": "code",
   "execution_count": 386,
   "id": "d1e0cdc8",
   "metadata": {},
   "outputs": [],
   "source": [
    "import pandas as pd"
   ]
  },
  {
   "cell_type": "markdown",
   "id": "d435f22e",
   "metadata": {},
   "source": [
    "# pd.datatime.strptime(,)\n",
    "\n",
    "arrange the date column"
   ]
  },
  {
   "cell_type": "code",
   "execution_count": 390,
   "id": "85a8fd6a",
   "metadata": {},
   "outputs": [],
   "source": [
    "d_parser = lambda x: pd.datatime.strptime(x,'%Y-%m-%d %I-%p')\n",
    "df_00 = pd.read_csv('ETH_1h.txt' , parse_dates = ['Date'] , data_parser = d_parser)"
   ]
  },
  {
   "cell_type": "code",
   "execution_count": 391,
   "id": "3bab083b",
   "metadata": {},
   "outputs": [
    {
     "data": {
      "text/html": [
       "<div>\n",
       "<style scoped>\n",
       "    .dataframe tbody tr th:only-of-type {\n",
       "        vertical-align: middle;\n",
       "    }\n",
       "\n",
       "    .dataframe tbody tr th {\n",
       "        vertical-align: top;\n",
       "    }\n",
       "\n",
       "    .dataframe thead th {\n",
       "        text-align: right;\n",
       "    }\n",
       "</style>\n",
       "<table border=\"1\" class=\"dataframe\">\n",
       "  <thead>\n",
       "    <tr style=\"text-align: right;\">\n",
       "      <th></th>\n",
       "      <th>Date</th>\n",
       "      <th>Symbol</th>\n",
       "      <th>Open</th>\n",
       "      <th>High</th>\n",
       "      <th>Low</th>\n",
       "      <th>Close</th>\n",
       "      <th>Volume</th>\n",
       "    </tr>\n",
       "  </thead>\n",
       "  <tbody>\n",
       "    <tr>\n",
       "      <th>0</th>\n",
       "      <td>2020-03-13 08-PM</td>\n",
       "      <td>ETHUSD</td>\n",
       "      <td>129.94</td>\n",
       "      <td>131.82</td>\n",
       "      <td>126.87</td>\n",
       "      <td>128.71</td>\n",
       "      <td>1940673.93</td>\n",
       "    </tr>\n",
       "    <tr>\n",
       "      <th>1</th>\n",
       "      <td>2020-03-13 07-PM</td>\n",
       "      <td>ETHUSD</td>\n",
       "      <td>119.51</td>\n",
       "      <td>132.02</td>\n",
       "      <td>117.10</td>\n",
       "      <td>129.94</td>\n",
       "      <td>7579741.09</td>\n",
       "    </tr>\n",
       "    <tr>\n",
       "      <th>2</th>\n",
       "      <td>2020-03-13 06-PM</td>\n",
       "      <td>ETHUSD</td>\n",
       "      <td>124.47</td>\n",
       "      <td>124.85</td>\n",
       "      <td>115.50</td>\n",
       "      <td>119.51</td>\n",
       "      <td>4898735.81</td>\n",
       "    </tr>\n",
       "    <tr>\n",
       "      <th>3</th>\n",
       "      <td>2020-03-13 05-PM</td>\n",
       "      <td>ETHUSD</td>\n",
       "      <td>124.08</td>\n",
       "      <td>127.42</td>\n",
       "      <td>121.63</td>\n",
       "      <td>124.47</td>\n",
       "      <td>2753450.92</td>\n",
       "    </tr>\n",
       "    <tr>\n",
       "      <th>4</th>\n",
       "      <td>2020-03-13 04-PM</td>\n",
       "      <td>ETHUSD</td>\n",
       "      <td>124.85</td>\n",
       "      <td>129.51</td>\n",
       "      <td>120.17</td>\n",
       "      <td>124.08</td>\n",
       "      <td>4461424.71</td>\n",
       "    </tr>\n",
       "    <tr>\n",
       "      <th>...</th>\n",
       "      <td>...</td>\n",
       "      <td>...</td>\n",
       "      <td>...</td>\n",
       "      <td>...</td>\n",
       "      <td>...</td>\n",
       "      <td>...</td>\n",
       "      <td>...</td>\n",
       "    </tr>\n",
       "    <tr>\n",
       "      <th>23669</th>\n",
       "      <td>2017-07-01 03-PM</td>\n",
       "      <td>ETHUSD</td>\n",
       "      <td>265.74</td>\n",
       "      <td>272.74</td>\n",
       "      <td>265.00</td>\n",
       "      <td>272.57</td>\n",
       "      <td>1500282.55</td>\n",
       "    </tr>\n",
       "    <tr>\n",
       "      <th>23670</th>\n",
       "      <td>2017-07-01 02-PM</td>\n",
       "      <td>ETHUSD</td>\n",
       "      <td>268.79</td>\n",
       "      <td>269.90</td>\n",
       "      <td>265.00</td>\n",
       "      <td>265.74</td>\n",
       "      <td>1702536.85</td>\n",
       "    </tr>\n",
       "    <tr>\n",
       "      <th>23671</th>\n",
       "      <td>2017-07-01 01-PM</td>\n",
       "      <td>ETHUSD</td>\n",
       "      <td>274.83</td>\n",
       "      <td>274.93</td>\n",
       "      <td>265.00</td>\n",
       "      <td>268.79</td>\n",
       "      <td>3010787.99</td>\n",
       "    </tr>\n",
       "    <tr>\n",
       "      <th>23672</th>\n",
       "      <td>2017-07-01 12-PM</td>\n",
       "      <td>ETHUSD</td>\n",
       "      <td>275.01</td>\n",
       "      <td>275.01</td>\n",
       "      <td>271.00</td>\n",
       "      <td>274.83</td>\n",
       "      <td>824362.87</td>\n",
       "    </tr>\n",
       "    <tr>\n",
       "      <th>23673</th>\n",
       "      <td>2017-07-01 11-AM</td>\n",
       "      <td>ETHUSD</td>\n",
       "      <td>279.98</td>\n",
       "      <td>279.99</td>\n",
       "      <td>272.10</td>\n",
       "      <td>275.01</td>\n",
       "      <td>679358.87</td>\n",
       "    </tr>\n",
       "  </tbody>\n",
       "</table>\n",
       "<p>23674 rows × 7 columns</p>\n",
       "</div>"
      ],
      "text/plain": [
       "                   Date  Symbol    Open    High     Low   Close      Volume\n",
       "0      2020-03-13 08-PM  ETHUSD  129.94  131.82  126.87  128.71  1940673.93\n",
       "1      2020-03-13 07-PM  ETHUSD  119.51  132.02  117.10  129.94  7579741.09\n",
       "2      2020-03-13 06-PM  ETHUSD  124.47  124.85  115.50  119.51  4898735.81\n",
       "3      2020-03-13 05-PM  ETHUSD  124.08  127.42  121.63  124.47  2753450.92\n",
       "4      2020-03-13 04-PM  ETHUSD  124.85  129.51  120.17  124.08  4461424.71\n",
       "...                 ...     ...     ...     ...     ...     ...         ...\n",
       "23669  2017-07-01 03-PM  ETHUSD  265.74  272.74  265.00  272.57  1500282.55\n",
       "23670  2017-07-01 02-PM  ETHUSD  268.79  269.90  265.00  265.74  1702536.85\n",
       "23671  2017-07-01 01-PM  ETHUSD  274.83  274.93  265.00  268.79  3010787.99\n",
       "23672  2017-07-01 12-PM  ETHUSD  275.01  275.01  271.00  274.83   824362.87\n",
       "23673  2017-07-01 11-AM  ETHUSD  279.98  279.99  272.10  275.01   679358.87\n",
       "\n",
       "[23674 rows x 7 columns]"
      ]
     },
     "execution_count": 391,
     "metadata": {},
     "output_type": "execute_result"
    }
   ],
   "source": [
    "df_00"
   ]
  },
  {
   "cell_type": "markdown",
   "id": "4ce20d06",
   "metadata": {},
   "source": [
    "# .shape\n",
    "\n",
    "NUMBER OF COLUMNS AND ROWS"
   ]
  },
  {
   "cell_type": "code",
   "execution_count": 393,
   "id": "86b047b9",
   "metadata": {},
   "outputs": [
    {
     "data": {
      "text/plain": [
       "(23674, 7)"
      ]
     },
     "execution_count": 393,
     "metadata": {},
     "output_type": "execute_result"
    }
   ],
   "source": [
    "df_00.shape"
   ]
  },
  {
   "cell_type": "markdown",
   "id": "b272a5b1",
   "metadata": {},
   "source": [
    "# ______OVER___"
   ]
  },
  {
   "cell_type": "code",
   "execution_count": 394,
   "id": "7e2f3c7f",
   "metadata": {},
   "outputs": [
    {
     "data": {
      "text/html": [
       "<div>\n",
       "<style scoped>\n",
       "    .dataframe tbody tr th:only-of-type {\n",
       "        vertical-align: middle;\n",
       "    }\n",
       "\n",
       "    .dataframe tbody tr th {\n",
       "        vertical-align: top;\n",
       "    }\n",
       "\n",
       "    .dataframe thead th {\n",
       "        text-align: right;\n",
       "    }\n",
       "</style>\n",
       "<table border=\"1\" class=\"dataframe\">\n",
       "  <thead>\n",
       "    <tr style=\"text-align: right;\">\n",
       "      <th></th>\n",
       "      <th>Date</th>\n",
       "      <th>Symbol</th>\n",
       "      <th>Open</th>\n",
       "      <th>High</th>\n",
       "      <th>Low</th>\n",
       "      <th>Close</th>\n",
       "      <th>Volume</th>\n",
       "    </tr>\n",
       "  </thead>\n",
       "  <tbody>\n",
       "    <tr>\n",
       "      <th>0</th>\n",
       "      <td>2020-03-13 08-PM</td>\n",
       "      <td>ETHUSD</td>\n",
       "      <td>129.94</td>\n",
       "      <td>131.82</td>\n",
       "      <td>126.87</td>\n",
       "      <td>128.71</td>\n",
       "      <td>1940673.93</td>\n",
       "    </tr>\n",
       "    <tr>\n",
       "      <th>1</th>\n",
       "      <td>2020-03-13 07-PM</td>\n",
       "      <td>ETHUSD</td>\n",
       "      <td>119.51</td>\n",
       "      <td>132.02</td>\n",
       "      <td>117.10</td>\n",
       "      <td>129.94</td>\n",
       "      <td>7579741.09</td>\n",
       "    </tr>\n",
       "    <tr>\n",
       "      <th>2</th>\n",
       "      <td>2020-03-13 06-PM</td>\n",
       "      <td>ETHUSD</td>\n",
       "      <td>124.47</td>\n",
       "      <td>124.85</td>\n",
       "      <td>115.50</td>\n",
       "      <td>119.51</td>\n",
       "      <td>4898735.81</td>\n",
       "    </tr>\n",
       "    <tr>\n",
       "      <th>3</th>\n",
       "      <td>2020-03-13 05-PM</td>\n",
       "      <td>ETHUSD</td>\n",
       "      <td>124.08</td>\n",
       "      <td>127.42</td>\n",
       "      <td>121.63</td>\n",
       "      <td>124.47</td>\n",
       "      <td>2753450.92</td>\n",
       "    </tr>\n",
       "    <tr>\n",
       "      <th>4</th>\n",
       "      <td>2020-03-13 04-PM</td>\n",
       "      <td>ETHUSD</td>\n",
       "      <td>124.85</td>\n",
       "      <td>129.51</td>\n",
       "      <td>120.17</td>\n",
       "      <td>124.08</td>\n",
       "      <td>4461424.71</td>\n",
       "    </tr>\n",
       "  </tbody>\n",
       "</table>\n",
       "</div>"
      ],
      "text/plain": [
       "               Date  Symbol    Open    High     Low   Close      Volume\n",
       "0  2020-03-13 08-PM  ETHUSD  129.94  131.82  126.87  128.71  1940673.93\n",
       "1  2020-03-13 07-PM  ETHUSD  119.51  132.02  117.10  129.94  7579741.09\n",
       "2  2020-03-13 06-PM  ETHUSD  124.47  124.85  115.50  119.51  4898735.81\n",
       "3  2020-03-13 05-PM  ETHUSD  124.08  127.42  121.63  124.47  2753450.92\n",
       "4  2020-03-13 04-PM  ETHUSD  124.85  129.51  120.17  124.08  4461424.71"
      ]
     },
     "execution_count": 394,
     "metadata": {},
     "output_type": "execute_result"
    }
   ],
   "source": [
    "df_00.head()"
   ]
  },
  {
   "cell_type": "code",
   "execution_count": 395,
   "id": "57fd64f0",
   "metadata": {},
   "outputs": [
    {
     "data": {
      "text/plain": [
       "'2020-03-13 08-PM'"
      ]
     },
     "execution_count": 395,
     "metadata": {},
     "output_type": "execute_result"
    }
   ],
   "source": [
    "df_00.loc[0,'Date']"
   ]
  },
  {
   "cell_type": "markdown",
   "id": "1f28fa9b",
   "metadata": {},
   "source": [
    "# format = '%Y-%m-%d %I-%p'_________&______pd.datatime.strptime(,)\n",
    "\n",
    "year-month-day - I - "
   ]
  },
  {
   "cell_type": "code",
   "execution_count": 397,
   "id": "371603ce",
   "metadata": {},
   "outputs": [],
   "source": [
    "df_00['Date'] = pd.to_datetime(df_00['Date'] , format = '%Y-%m-%d %I-%p')"
   ]
  },
  {
   "cell_type": "code",
   "execution_count": 400,
   "id": "5a97d69c",
   "metadata": {},
   "outputs": [
    {
     "data": {
      "text/plain": [
       "0       2020-03-13 20:00:00\n",
       "1       2020-03-13 19:00:00\n",
       "2       2020-03-13 18:00:00\n",
       "3       2020-03-13 17:00:00\n",
       "4       2020-03-13 16:00:00\n",
       "                ...        \n",
       "23669   2017-07-01 15:00:00\n",
       "23670   2017-07-01 14:00:00\n",
       "23671   2017-07-01 13:00:00\n",
       "23672   2017-07-01 12:00:00\n",
       "23673   2017-07-01 11:00:00\n",
       "Name: Date, Length: 23674, dtype: datetime64[ns]"
      ]
     },
     "execution_count": 400,
     "metadata": {},
     "output_type": "execute_result"
    }
   ],
   "source": [
    "df_00['Date']"
   ]
  },
  {
   "cell_type": "markdown",
   "id": "436aba6b",
   "metadata": {},
   "source": [
    "# __OVER__"
   ]
  },
  {
   "cell_type": "markdown",
   "id": "4b29f320",
   "metadata": {},
   "source": [
    "# .day_name()\n",
    "which day is was"
   ]
  },
  {
   "cell_type": "code",
   "execution_count": 399,
   "id": "f0863518",
   "metadata": {},
   "outputs": [
    {
     "data": {
      "text/plain": [
       "'Friday'"
      ]
     },
     "execution_count": 399,
     "metadata": {},
     "output_type": "execute_result"
    }
   ],
   "source": [
    "df_00.loc[0,'Date'].day_name()"
   ]
  },
  {
   "cell_type": "markdown",
   "id": "5404c8f9",
   "metadata": {},
   "source": [
    "# ______OVER_____"
   ]
  },
  {
   "cell_type": "markdown",
   "id": "8ca7652d",
   "metadata": {},
   "source": [
    "# .dt.day_name()\n",
    "\n",
    "Full columns in days of weeks"
   ]
  },
  {
   "cell_type": "code",
   "execution_count": 401,
   "id": "c26de41d",
   "metadata": {},
   "outputs": [
    {
     "data": {
      "text/plain": [
       "0          Friday\n",
       "1          Friday\n",
       "2          Friday\n",
       "3          Friday\n",
       "4          Friday\n",
       "           ...   \n",
       "23669    Saturday\n",
       "23670    Saturday\n",
       "23671    Saturday\n",
       "23672    Saturday\n",
       "23673    Saturday\n",
       "Name: Date, Length: 23674, dtype: object"
      ]
     },
     "execution_count": 401,
     "metadata": {},
     "output_type": "execute_result"
    }
   ],
   "source": [
    "df_00['Date'].dt.day_name()"
   ]
  },
  {
   "cell_type": "markdown",
   "id": "49552d0f",
   "metadata": {},
   "source": [
    "# __OVER____"
   ]
  },
  {
   "cell_type": "markdown",
   "id": "169751eb",
   "metadata": {},
   "source": [
    "# HOW TO CREATE NEW COLUMN"
   ]
  },
  {
   "cell_type": "code",
   "execution_count": 402,
   "id": "7a626640",
   "metadata": {},
   "outputs": [],
   "source": [
    "df_00['Days_of_week'] = df_00['Date'].dt.day_name()"
   ]
  },
  {
   "cell_type": "code",
   "execution_count": 403,
   "id": "9757dede",
   "metadata": {},
   "outputs": [
    {
     "data": {
      "text/html": [
       "<div>\n",
       "<style scoped>\n",
       "    .dataframe tbody tr th:only-of-type {\n",
       "        vertical-align: middle;\n",
       "    }\n",
       "\n",
       "    .dataframe tbody tr th {\n",
       "        vertical-align: top;\n",
       "    }\n",
       "\n",
       "    .dataframe thead th {\n",
       "        text-align: right;\n",
       "    }\n",
       "</style>\n",
       "<table border=\"1\" class=\"dataframe\">\n",
       "  <thead>\n",
       "    <tr style=\"text-align: right;\">\n",
       "      <th></th>\n",
       "      <th>Date</th>\n",
       "      <th>Symbol</th>\n",
       "      <th>Open</th>\n",
       "      <th>High</th>\n",
       "      <th>Low</th>\n",
       "      <th>Close</th>\n",
       "      <th>Volume</th>\n",
       "      <th>Days_of_week</th>\n",
       "    </tr>\n",
       "  </thead>\n",
       "  <tbody>\n",
       "    <tr>\n",
       "      <th>0</th>\n",
       "      <td>2020-03-13 20:00:00</td>\n",
       "      <td>ETHUSD</td>\n",
       "      <td>129.94</td>\n",
       "      <td>131.82</td>\n",
       "      <td>126.87</td>\n",
       "      <td>128.71</td>\n",
       "      <td>1940673.93</td>\n",
       "      <td>Friday</td>\n",
       "    </tr>\n",
       "    <tr>\n",
       "      <th>1</th>\n",
       "      <td>2020-03-13 19:00:00</td>\n",
       "      <td>ETHUSD</td>\n",
       "      <td>119.51</td>\n",
       "      <td>132.02</td>\n",
       "      <td>117.10</td>\n",
       "      <td>129.94</td>\n",
       "      <td>7579741.09</td>\n",
       "      <td>Friday</td>\n",
       "    </tr>\n",
       "    <tr>\n",
       "      <th>2</th>\n",
       "      <td>2020-03-13 18:00:00</td>\n",
       "      <td>ETHUSD</td>\n",
       "      <td>124.47</td>\n",
       "      <td>124.85</td>\n",
       "      <td>115.50</td>\n",
       "      <td>119.51</td>\n",
       "      <td>4898735.81</td>\n",
       "      <td>Friday</td>\n",
       "    </tr>\n",
       "    <tr>\n",
       "      <th>3</th>\n",
       "      <td>2020-03-13 17:00:00</td>\n",
       "      <td>ETHUSD</td>\n",
       "      <td>124.08</td>\n",
       "      <td>127.42</td>\n",
       "      <td>121.63</td>\n",
       "      <td>124.47</td>\n",
       "      <td>2753450.92</td>\n",
       "      <td>Friday</td>\n",
       "    </tr>\n",
       "    <tr>\n",
       "      <th>4</th>\n",
       "      <td>2020-03-13 16:00:00</td>\n",
       "      <td>ETHUSD</td>\n",
       "      <td>124.85</td>\n",
       "      <td>129.51</td>\n",
       "      <td>120.17</td>\n",
       "      <td>124.08</td>\n",
       "      <td>4461424.71</td>\n",
       "      <td>Friday</td>\n",
       "    </tr>\n",
       "    <tr>\n",
       "      <th>...</th>\n",
       "      <td>...</td>\n",
       "      <td>...</td>\n",
       "      <td>...</td>\n",
       "      <td>...</td>\n",
       "      <td>...</td>\n",
       "      <td>...</td>\n",
       "      <td>...</td>\n",
       "      <td>...</td>\n",
       "    </tr>\n",
       "    <tr>\n",
       "      <th>23669</th>\n",
       "      <td>2017-07-01 15:00:00</td>\n",
       "      <td>ETHUSD</td>\n",
       "      <td>265.74</td>\n",
       "      <td>272.74</td>\n",
       "      <td>265.00</td>\n",
       "      <td>272.57</td>\n",
       "      <td>1500282.55</td>\n",
       "      <td>Saturday</td>\n",
       "    </tr>\n",
       "    <tr>\n",
       "      <th>23670</th>\n",
       "      <td>2017-07-01 14:00:00</td>\n",
       "      <td>ETHUSD</td>\n",
       "      <td>268.79</td>\n",
       "      <td>269.90</td>\n",
       "      <td>265.00</td>\n",
       "      <td>265.74</td>\n",
       "      <td>1702536.85</td>\n",
       "      <td>Saturday</td>\n",
       "    </tr>\n",
       "    <tr>\n",
       "      <th>23671</th>\n",
       "      <td>2017-07-01 13:00:00</td>\n",
       "      <td>ETHUSD</td>\n",
       "      <td>274.83</td>\n",
       "      <td>274.93</td>\n",
       "      <td>265.00</td>\n",
       "      <td>268.79</td>\n",
       "      <td>3010787.99</td>\n",
       "      <td>Saturday</td>\n",
       "    </tr>\n",
       "    <tr>\n",
       "      <th>23672</th>\n",
       "      <td>2017-07-01 12:00:00</td>\n",
       "      <td>ETHUSD</td>\n",
       "      <td>275.01</td>\n",
       "      <td>275.01</td>\n",
       "      <td>271.00</td>\n",
       "      <td>274.83</td>\n",
       "      <td>824362.87</td>\n",
       "      <td>Saturday</td>\n",
       "    </tr>\n",
       "    <tr>\n",
       "      <th>23673</th>\n",
       "      <td>2017-07-01 11:00:00</td>\n",
       "      <td>ETHUSD</td>\n",
       "      <td>279.98</td>\n",
       "      <td>279.99</td>\n",
       "      <td>272.10</td>\n",
       "      <td>275.01</td>\n",
       "      <td>679358.87</td>\n",
       "      <td>Saturday</td>\n",
       "    </tr>\n",
       "  </tbody>\n",
       "</table>\n",
       "<p>23674 rows × 8 columns</p>\n",
       "</div>"
      ],
      "text/plain": [
       "                     Date  Symbol    Open    High     Low   Close      Volume  \\\n",
       "0     2020-03-13 20:00:00  ETHUSD  129.94  131.82  126.87  128.71  1940673.93   \n",
       "1     2020-03-13 19:00:00  ETHUSD  119.51  132.02  117.10  129.94  7579741.09   \n",
       "2     2020-03-13 18:00:00  ETHUSD  124.47  124.85  115.50  119.51  4898735.81   \n",
       "3     2020-03-13 17:00:00  ETHUSD  124.08  127.42  121.63  124.47  2753450.92   \n",
       "4     2020-03-13 16:00:00  ETHUSD  124.85  129.51  120.17  124.08  4461424.71   \n",
       "...                   ...     ...     ...     ...     ...     ...         ...   \n",
       "23669 2017-07-01 15:00:00  ETHUSD  265.74  272.74  265.00  272.57  1500282.55   \n",
       "23670 2017-07-01 14:00:00  ETHUSD  268.79  269.90  265.00  265.74  1702536.85   \n",
       "23671 2017-07-01 13:00:00  ETHUSD  274.83  274.93  265.00  268.79  3010787.99   \n",
       "23672 2017-07-01 12:00:00  ETHUSD  275.01  275.01  271.00  274.83   824362.87   \n",
       "23673 2017-07-01 11:00:00  ETHUSD  279.98  279.99  272.10  275.01   679358.87   \n",
       "\n",
       "      Days_of_week  \n",
       "0           Friday  \n",
       "1           Friday  \n",
       "2           Friday  \n",
       "3           Friday  \n",
       "4           Friday  \n",
       "...            ...  \n",
       "23669     Saturday  \n",
       "23670     Saturday  \n",
       "23671     Saturday  \n",
       "23672     Saturday  \n",
       "23673     Saturday  \n",
       "\n",
       "[23674 rows x 8 columns]"
      ]
     },
     "execution_count": 403,
     "metadata": {},
     "output_type": "execute_result"
    }
   ],
   "source": [
    "df_00"
   ]
  },
  {
   "cell_type": "markdown",
   "id": "1ee7e145",
   "metadata": {},
   "source": [
    "# OVER__"
   ]
  },
  {
   "cell_type": "markdown",
   "id": "18a9005e",
   "metadata": {},
   "source": [
    "# .min()"
   ]
  },
  {
   "cell_type": "code",
   "execution_count": 404,
   "id": "5723a695",
   "metadata": {},
   "outputs": [
    {
     "data": {
      "text/plain": [
       "Timestamp('2017-07-01 11:00:00')"
      ]
     },
     "execution_count": 404,
     "metadata": {},
     "output_type": "execute_result"
    }
   ],
   "source": [
    "df_00['Date'].min()"
   ]
  },
  {
   "cell_type": "markdown",
   "id": "eab72377",
   "metadata": {},
   "source": [
    "# OVER__"
   ]
  },
  {
   "cell_type": "markdown",
   "id": "68741d40",
   "metadata": {},
   "source": [
    "# .max()"
   ]
  },
  {
   "cell_type": "code",
   "execution_count": 405,
   "id": "c160ee0b",
   "metadata": {},
   "outputs": [
    {
     "data": {
      "text/plain": [
       "Timestamp('2020-03-13 20:00:00')"
      ]
     },
     "execution_count": 405,
     "metadata": {},
     "output_type": "execute_result"
    }
   ],
   "source": [
    "df_00['Date'].max()"
   ]
  },
  {
   "cell_type": "markdown",
   "id": "3eb8f209",
   "metadata": {},
   "source": [
    "# OVER__"
   ]
  },
  {
   "cell_type": "markdown",
   "id": "f80b9f9d",
   "metadata": {},
   "source": [
    "# how to counts days"
   ]
  },
  {
   "cell_type": "code",
   "execution_count": 406,
   "id": "27505e9e",
   "metadata": {},
   "outputs": [
    {
     "data": {
      "text/plain": [
       "Timedelta('986 days 09:00:00')"
      ]
     },
     "execution_count": 406,
     "metadata": {},
     "output_type": "execute_result"
    }
   ],
   "source": [
    "df_00['Date'].max() - df_00['Date'].min()"
   ]
  },
  {
   "cell_type": "code",
   "execution_count": null,
   "id": "11b4399f",
   "metadata": {},
   "outputs": [],
   "source": [
    "#-------#------#------#"
   ]
  },
  {
   "cell_type": "markdown",
   "id": "5590b887",
   "metadata": {},
   "source": [
    "# hw to use filters in date or years"
   ]
  },
  {
   "cell_type": "code",
   "execution_count": 410,
   "id": "8cdfdef9",
   "metadata": {},
   "outputs": [
    {
     "data": {
      "text/html": [
       "<div>\n",
       "<style scoped>\n",
       "    .dataframe tbody tr th:only-of-type {\n",
       "        vertical-align: middle;\n",
       "    }\n",
       "\n",
       "    .dataframe tbody tr th {\n",
       "        vertical-align: top;\n",
       "    }\n",
       "\n",
       "    .dataframe thead th {\n",
       "        text-align: right;\n",
       "    }\n",
       "</style>\n",
       "<table border=\"1\" class=\"dataframe\">\n",
       "  <thead>\n",
       "    <tr style=\"text-align: right;\">\n",
       "      <th></th>\n",
       "      <th>Date</th>\n",
       "      <th>Symbol</th>\n",
       "      <th>Open</th>\n",
       "      <th>High</th>\n",
       "      <th>Low</th>\n",
       "      <th>Close</th>\n",
       "      <th>Volume</th>\n",
       "      <th>Days_of_week</th>\n",
       "    </tr>\n",
       "  </thead>\n",
       "  <tbody>\n",
       "    <tr>\n",
       "      <th>1749</th>\n",
       "      <td>2019-12-31 23:00:00</td>\n",
       "      <td>ETHUSD</td>\n",
       "      <td>128.33</td>\n",
       "      <td>128.69</td>\n",
       "      <td>128.14</td>\n",
       "      <td>128.54</td>\n",
       "      <td>440678.91</td>\n",
       "      <td>Tuesday</td>\n",
       "    </tr>\n",
       "    <tr>\n",
       "      <th>1750</th>\n",
       "      <td>2019-12-31 22:00:00</td>\n",
       "      <td>ETHUSD</td>\n",
       "      <td>128.38</td>\n",
       "      <td>128.69</td>\n",
       "      <td>127.95</td>\n",
       "      <td>128.33</td>\n",
       "      <td>554646.02</td>\n",
       "      <td>Tuesday</td>\n",
       "    </tr>\n",
       "    <tr>\n",
       "      <th>1751</th>\n",
       "      <td>2019-12-31 21:00:00</td>\n",
       "      <td>ETHUSD</td>\n",
       "      <td>127.86</td>\n",
       "      <td>128.43</td>\n",
       "      <td>127.72</td>\n",
       "      <td>128.38</td>\n",
       "      <td>350155.69</td>\n",
       "      <td>Tuesday</td>\n",
       "    </tr>\n",
       "    <tr>\n",
       "      <th>1752</th>\n",
       "      <td>2019-12-31 20:00:00</td>\n",
       "      <td>ETHUSD</td>\n",
       "      <td>127.84</td>\n",
       "      <td>128.34</td>\n",
       "      <td>127.71</td>\n",
       "      <td>127.86</td>\n",
       "      <td>428183.38</td>\n",
       "      <td>Tuesday</td>\n",
       "    </tr>\n",
       "    <tr>\n",
       "      <th>1753</th>\n",
       "      <td>2019-12-31 19:00:00</td>\n",
       "      <td>ETHUSD</td>\n",
       "      <td>128.69</td>\n",
       "      <td>128.69</td>\n",
       "      <td>127.60</td>\n",
       "      <td>127.84</td>\n",
       "      <td>1169847.84</td>\n",
       "      <td>Tuesday</td>\n",
       "    </tr>\n",
       "    <tr>\n",
       "      <th>...</th>\n",
       "      <td>...</td>\n",
       "      <td>...</td>\n",
       "      <td>...</td>\n",
       "      <td>...</td>\n",
       "      <td>...</td>\n",
       "      <td>...</td>\n",
       "      <td>...</td>\n",
       "      <td>...</td>\n",
       "    </tr>\n",
       "    <tr>\n",
       "      <th>10504</th>\n",
       "      <td>2019-01-01 04:00:00</td>\n",
       "      <td>ETHUSD</td>\n",
       "      <td>130.75</td>\n",
       "      <td>133.96</td>\n",
       "      <td>130.74</td>\n",
       "      <td>131.96</td>\n",
       "      <td>2791135.37</td>\n",
       "      <td>Tuesday</td>\n",
       "    </tr>\n",
       "    <tr>\n",
       "      <th>10505</th>\n",
       "      <td>2019-01-01 03:00:00</td>\n",
       "      <td>ETHUSD</td>\n",
       "      <td>130.06</td>\n",
       "      <td>130.79</td>\n",
       "      <td>130.06</td>\n",
       "      <td>130.75</td>\n",
       "      <td>503732.63</td>\n",
       "      <td>Tuesday</td>\n",
       "    </tr>\n",
       "    <tr>\n",
       "      <th>10506</th>\n",
       "      <td>2019-01-01 02:00:00</td>\n",
       "      <td>ETHUSD</td>\n",
       "      <td>130.79</td>\n",
       "      <td>130.88</td>\n",
       "      <td>129.55</td>\n",
       "      <td>130.06</td>\n",
       "      <td>838183.43</td>\n",
       "      <td>Tuesday</td>\n",
       "    </tr>\n",
       "    <tr>\n",
       "      <th>10507</th>\n",
       "      <td>2019-01-01 01:00:00</td>\n",
       "      <td>ETHUSD</td>\n",
       "      <td>131.62</td>\n",
       "      <td>131.62</td>\n",
       "      <td>130.77</td>\n",
       "      <td>130.79</td>\n",
       "      <td>434917.99</td>\n",
       "      <td>Tuesday</td>\n",
       "    </tr>\n",
       "    <tr>\n",
       "      <th>10508</th>\n",
       "      <td>2019-01-01 00:00:00</td>\n",
       "      <td>ETHUSD</td>\n",
       "      <td>130.53</td>\n",
       "      <td>131.91</td>\n",
       "      <td>130.48</td>\n",
       "      <td>131.62</td>\n",
       "      <td>1067136.21</td>\n",
       "      <td>Tuesday</td>\n",
       "    </tr>\n",
       "  </tbody>\n",
       "</table>\n",
       "<p>8760 rows × 8 columns</p>\n",
       "</div>"
      ],
      "text/plain": [
       "                     Date  Symbol    Open    High     Low   Close      Volume  \\\n",
       "1749  2019-12-31 23:00:00  ETHUSD  128.33  128.69  128.14  128.54   440678.91   \n",
       "1750  2019-12-31 22:00:00  ETHUSD  128.38  128.69  127.95  128.33   554646.02   \n",
       "1751  2019-12-31 21:00:00  ETHUSD  127.86  128.43  127.72  128.38   350155.69   \n",
       "1752  2019-12-31 20:00:00  ETHUSD  127.84  128.34  127.71  127.86   428183.38   \n",
       "1753  2019-12-31 19:00:00  ETHUSD  128.69  128.69  127.60  127.84  1169847.84   \n",
       "...                   ...     ...     ...     ...     ...     ...         ...   \n",
       "10504 2019-01-01 04:00:00  ETHUSD  130.75  133.96  130.74  131.96  2791135.37   \n",
       "10505 2019-01-01 03:00:00  ETHUSD  130.06  130.79  130.06  130.75   503732.63   \n",
       "10506 2019-01-01 02:00:00  ETHUSD  130.79  130.88  129.55  130.06   838183.43   \n",
       "10507 2019-01-01 01:00:00  ETHUSD  131.62  131.62  130.77  130.79   434917.99   \n",
       "10508 2019-01-01 00:00:00  ETHUSD  130.53  131.91  130.48  131.62  1067136.21   \n",
       "\n",
       "      Days_of_week  \n",
       "1749       Tuesday  \n",
       "1750       Tuesday  \n",
       "1751       Tuesday  \n",
       "1752       Tuesday  \n",
       "1753       Tuesday  \n",
       "...            ...  \n",
       "10504      Tuesday  \n",
       "10505      Tuesday  \n",
       "10506      Tuesday  \n",
       "10507      Tuesday  \n",
       "10508      Tuesday  \n",
       "\n",
       "[8760 rows x 8 columns]"
      ]
     },
     "execution_count": 410,
     "metadata": {},
     "output_type": "execute_result"
    }
   ],
   "source": [
    "year_2020 = (df_00['Date'] >= '2019') & (df_00['Date'] < '2020')\n",
    "df_00.loc[year_2020]"
   ]
  },
  {
   "cell_type": "code",
   "execution_count": 412,
   "id": "1958952e",
   "metadata": {},
   "outputs": [
    {
     "data": {
      "text/html": [
       "<div>\n",
       "<style scoped>\n",
       "    .dataframe tbody tr th:only-of-type {\n",
       "        vertical-align: middle;\n",
       "    }\n",
       "\n",
       "    .dataframe tbody tr th {\n",
       "        vertical-align: top;\n",
       "    }\n",
       "\n",
       "    .dataframe thead th {\n",
       "        text-align: right;\n",
       "    }\n",
       "</style>\n",
       "<table border=\"1\" class=\"dataframe\">\n",
       "  <thead>\n",
       "    <tr style=\"text-align: right;\">\n",
       "      <th></th>\n",
       "      <th>Date</th>\n",
       "      <th>Symbol</th>\n",
       "      <th>Open</th>\n",
       "      <th>High</th>\n",
       "      <th>Low</th>\n",
       "      <th>Close</th>\n",
       "      <th>Volume</th>\n",
       "      <th>Days_of_week</th>\n",
       "    </tr>\n",
       "  </thead>\n",
       "  <tbody>\n",
       "    <tr>\n",
       "      <th>1749</th>\n",
       "      <td>2019-12-31 23:00:00</td>\n",
       "      <td>ETHUSD</td>\n",
       "      <td>128.33</td>\n",
       "      <td>128.69</td>\n",
       "      <td>128.14</td>\n",
       "      <td>128.54</td>\n",
       "      <td>440678.91</td>\n",
       "      <td>Tuesday</td>\n",
       "    </tr>\n",
       "    <tr>\n",
       "      <th>1750</th>\n",
       "      <td>2019-12-31 22:00:00</td>\n",
       "      <td>ETHUSD</td>\n",
       "      <td>128.38</td>\n",
       "      <td>128.69</td>\n",
       "      <td>127.95</td>\n",
       "      <td>128.33</td>\n",
       "      <td>554646.02</td>\n",
       "      <td>Tuesday</td>\n",
       "    </tr>\n",
       "    <tr>\n",
       "      <th>1751</th>\n",
       "      <td>2019-12-31 21:00:00</td>\n",
       "      <td>ETHUSD</td>\n",
       "      <td>127.86</td>\n",
       "      <td>128.43</td>\n",
       "      <td>127.72</td>\n",
       "      <td>128.38</td>\n",
       "      <td>350155.69</td>\n",
       "      <td>Tuesday</td>\n",
       "    </tr>\n",
       "    <tr>\n",
       "      <th>1752</th>\n",
       "      <td>2019-12-31 20:00:00</td>\n",
       "      <td>ETHUSD</td>\n",
       "      <td>127.84</td>\n",
       "      <td>128.34</td>\n",
       "      <td>127.71</td>\n",
       "      <td>127.86</td>\n",
       "      <td>428183.38</td>\n",
       "      <td>Tuesday</td>\n",
       "    </tr>\n",
       "    <tr>\n",
       "      <th>1753</th>\n",
       "      <td>2019-12-31 19:00:00</td>\n",
       "      <td>ETHUSD</td>\n",
       "      <td>128.69</td>\n",
       "      <td>128.69</td>\n",
       "      <td>127.60</td>\n",
       "      <td>127.84</td>\n",
       "      <td>1169847.84</td>\n",
       "      <td>Tuesday</td>\n",
       "    </tr>\n",
       "    <tr>\n",
       "      <th>...</th>\n",
       "      <td>...</td>\n",
       "      <td>...</td>\n",
       "      <td>...</td>\n",
       "      <td>...</td>\n",
       "      <td>...</td>\n",
       "      <td>...</td>\n",
       "      <td>...</td>\n",
       "      <td>...</td>\n",
       "    </tr>\n",
       "    <tr>\n",
       "      <th>10504</th>\n",
       "      <td>2019-01-01 04:00:00</td>\n",
       "      <td>ETHUSD</td>\n",
       "      <td>130.75</td>\n",
       "      <td>133.96</td>\n",
       "      <td>130.74</td>\n",
       "      <td>131.96</td>\n",
       "      <td>2791135.37</td>\n",
       "      <td>Tuesday</td>\n",
       "    </tr>\n",
       "    <tr>\n",
       "      <th>10505</th>\n",
       "      <td>2019-01-01 03:00:00</td>\n",
       "      <td>ETHUSD</td>\n",
       "      <td>130.06</td>\n",
       "      <td>130.79</td>\n",
       "      <td>130.06</td>\n",
       "      <td>130.75</td>\n",
       "      <td>503732.63</td>\n",
       "      <td>Tuesday</td>\n",
       "    </tr>\n",
       "    <tr>\n",
       "      <th>10506</th>\n",
       "      <td>2019-01-01 02:00:00</td>\n",
       "      <td>ETHUSD</td>\n",
       "      <td>130.79</td>\n",
       "      <td>130.88</td>\n",
       "      <td>129.55</td>\n",
       "      <td>130.06</td>\n",
       "      <td>838183.43</td>\n",
       "      <td>Tuesday</td>\n",
       "    </tr>\n",
       "    <tr>\n",
       "      <th>10507</th>\n",
       "      <td>2019-01-01 01:00:00</td>\n",
       "      <td>ETHUSD</td>\n",
       "      <td>131.62</td>\n",
       "      <td>131.62</td>\n",
       "      <td>130.77</td>\n",
       "      <td>130.79</td>\n",
       "      <td>434917.99</td>\n",
       "      <td>Tuesday</td>\n",
       "    </tr>\n",
       "    <tr>\n",
       "      <th>10508</th>\n",
       "      <td>2019-01-01 00:00:00</td>\n",
       "      <td>ETHUSD</td>\n",
       "      <td>130.53</td>\n",
       "      <td>131.91</td>\n",
       "      <td>130.48</td>\n",
       "      <td>131.62</td>\n",
       "      <td>1067136.21</td>\n",
       "      <td>Tuesday</td>\n",
       "    </tr>\n",
       "  </tbody>\n",
       "</table>\n",
       "<p>8760 rows × 8 columns</p>\n",
       "</div>"
      ],
      "text/plain": [
       "                     Date  Symbol    Open    High     Low   Close      Volume  \\\n",
       "1749  2019-12-31 23:00:00  ETHUSD  128.33  128.69  128.14  128.54   440678.91   \n",
       "1750  2019-12-31 22:00:00  ETHUSD  128.38  128.69  127.95  128.33   554646.02   \n",
       "1751  2019-12-31 21:00:00  ETHUSD  127.86  128.43  127.72  128.38   350155.69   \n",
       "1752  2019-12-31 20:00:00  ETHUSD  127.84  128.34  127.71  127.86   428183.38   \n",
       "1753  2019-12-31 19:00:00  ETHUSD  128.69  128.69  127.60  127.84  1169847.84   \n",
       "...                   ...     ...     ...     ...     ...     ...         ...   \n",
       "10504 2019-01-01 04:00:00  ETHUSD  130.75  133.96  130.74  131.96  2791135.37   \n",
       "10505 2019-01-01 03:00:00  ETHUSD  130.06  130.79  130.06  130.75   503732.63   \n",
       "10506 2019-01-01 02:00:00  ETHUSD  130.79  130.88  129.55  130.06   838183.43   \n",
       "10507 2019-01-01 01:00:00  ETHUSD  131.62  131.62  130.77  130.79   434917.99   \n",
       "10508 2019-01-01 00:00:00  ETHUSD  130.53  131.91  130.48  131.62  1067136.21   \n",
       "\n",
       "      Days_of_week  \n",
       "1749       Tuesday  \n",
       "1750       Tuesday  \n",
       "1751       Tuesday  \n",
       "1752       Tuesday  \n",
       "1753       Tuesday  \n",
       "...            ...  \n",
       "10504      Tuesday  \n",
       "10505      Tuesday  \n",
       "10506      Tuesday  \n",
       "10507      Tuesday  \n",
       "10508      Tuesday  \n",
       "\n",
       "[8760 rows x 8 columns]"
      ]
     },
     "execution_count": 412,
     "metadata": {},
     "output_type": "execute_result"
    }
   ],
   "source": [
    "year_2020 = (df_00['Date'] >= pd.to_datetime('2019-01-01')) & (df_00['Date'] < pd.to_datetime('2020-01-01'))\n",
    "df_00.loc[year_2020]"
   ]
  },
  {
   "cell_type": "code",
   "execution_count": 408,
   "id": "4849bd28",
   "metadata": {},
   "outputs": [],
   "source": [
    "#-------#------#------#"
   ]
  },
  {
   "cell_type": "markdown",
   "id": "20337c88",
   "metadata": {},
   "source": [
    "# .set_index()"
   ]
  },
  {
   "cell_type": "code",
   "execution_count": 414,
   "id": "6f20aefc",
   "metadata": {},
   "outputs": [],
   "source": [
    "df_00.set_index('Date' , inplace = True)"
   ]
  },
  {
   "cell_type": "code",
   "execution_count": 415,
   "id": "1a057d53",
   "metadata": {},
   "outputs": [
    {
     "data": {
      "text/html": [
       "<div>\n",
       "<style scoped>\n",
       "    .dataframe tbody tr th:only-of-type {\n",
       "        vertical-align: middle;\n",
       "    }\n",
       "\n",
       "    .dataframe tbody tr th {\n",
       "        vertical-align: top;\n",
       "    }\n",
       "\n",
       "    .dataframe thead th {\n",
       "        text-align: right;\n",
       "    }\n",
       "</style>\n",
       "<table border=\"1\" class=\"dataframe\">\n",
       "  <thead>\n",
       "    <tr style=\"text-align: right;\">\n",
       "      <th></th>\n",
       "      <th>Symbol</th>\n",
       "      <th>Open</th>\n",
       "      <th>High</th>\n",
       "      <th>Low</th>\n",
       "      <th>Close</th>\n",
       "      <th>Volume</th>\n",
       "      <th>Days_of_week</th>\n",
       "    </tr>\n",
       "    <tr>\n",
       "      <th>Date</th>\n",
       "      <th></th>\n",
       "      <th></th>\n",
       "      <th></th>\n",
       "      <th></th>\n",
       "      <th></th>\n",
       "      <th></th>\n",
       "      <th></th>\n",
       "    </tr>\n",
       "  </thead>\n",
       "  <tbody>\n",
       "    <tr>\n",
       "      <th>2020-03-13 20:00:00</th>\n",
       "      <td>ETHUSD</td>\n",
       "      <td>129.94</td>\n",
       "      <td>131.82</td>\n",
       "      <td>126.87</td>\n",
       "      <td>128.71</td>\n",
       "      <td>1940673.93</td>\n",
       "      <td>Friday</td>\n",
       "    </tr>\n",
       "    <tr>\n",
       "      <th>2020-03-13 19:00:00</th>\n",
       "      <td>ETHUSD</td>\n",
       "      <td>119.51</td>\n",
       "      <td>132.02</td>\n",
       "      <td>117.10</td>\n",
       "      <td>129.94</td>\n",
       "      <td>7579741.09</td>\n",
       "      <td>Friday</td>\n",
       "    </tr>\n",
       "    <tr>\n",
       "      <th>2020-03-13 18:00:00</th>\n",
       "      <td>ETHUSD</td>\n",
       "      <td>124.47</td>\n",
       "      <td>124.85</td>\n",
       "      <td>115.50</td>\n",
       "      <td>119.51</td>\n",
       "      <td>4898735.81</td>\n",
       "      <td>Friday</td>\n",
       "    </tr>\n",
       "    <tr>\n",
       "      <th>2020-03-13 17:00:00</th>\n",
       "      <td>ETHUSD</td>\n",
       "      <td>124.08</td>\n",
       "      <td>127.42</td>\n",
       "      <td>121.63</td>\n",
       "      <td>124.47</td>\n",
       "      <td>2753450.92</td>\n",
       "      <td>Friday</td>\n",
       "    </tr>\n",
       "    <tr>\n",
       "      <th>2020-03-13 16:00:00</th>\n",
       "      <td>ETHUSD</td>\n",
       "      <td>124.85</td>\n",
       "      <td>129.51</td>\n",
       "      <td>120.17</td>\n",
       "      <td>124.08</td>\n",
       "      <td>4461424.71</td>\n",
       "      <td>Friday</td>\n",
       "    </tr>\n",
       "    <tr>\n",
       "      <th>...</th>\n",
       "      <td>...</td>\n",
       "      <td>...</td>\n",
       "      <td>...</td>\n",
       "      <td>...</td>\n",
       "      <td>...</td>\n",
       "      <td>...</td>\n",
       "      <td>...</td>\n",
       "    </tr>\n",
       "    <tr>\n",
       "      <th>2017-07-01 15:00:00</th>\n",
       "      <td>ETHUSD</td>\n",
       "      <td>265.74</td>\n",
       "      <td>272.74</td>\n",
       "      <td>265.00</td>\n",
       "      <td>272.57</td>\n",
       "      <td>1500282.55</td>\n",
       "      <td>Saturday</td>\n",
       "    </tr>\n",
       "    <tr>\n",
       "      <th>2017-07-01 14:00:00</th>\n",
       "      <td>ETHUSD</td>\n",
       "      <td>268.79</td>\n",
       "      <td>269.90</td>\n",
       "      <td>265.00</td>\n",
       "      <td>265.74</td>\n",
       "      <td>1702536.85</td>\n",
       "      <td>Saturday</td>\n",
       "    </tr>\n",
       "    <tr>\n",
       "      <th>2017-07-01 13:00:00</th>\n",
       "      <td>ETHUSD</td>\n",
       "      <td>274.83</td>\n",
       "      <td>274.93</td>\n",
       "      <td>265.00</td>\n",
       "      <td>268.79</td>\n",
       "      <td>3010787.99</td>\n",
       "      <td>Saturday</td>\n",
       "    </tr>\n",
       "    <tr>\n",
       "      <th>2017-07-01 12:00:00</th>\n",
       "      <td>ETHUSD</td>\n",
       "      <td>275.01</td>\n",
       "      <td>275.01</td>\n",
       "      <td>271.00</td>\n",
       "      <td>274.83</td>\n",
       "      <td>824362.87</td>\n",
       "      <td>Saturday</td>\n",
       "    </tr>\n",
       "    <tr>\n",
       "      <th>2017-07-01 11:00:00</th>\n",
       "      <td>ETHUSD</td>\n",
       "      <td>279.98</td>\n",
       "      <td>279.99</td>\n",
       "      <td>272.10</td>\n",
       "      <td>275.01</td>\n",
       "      <td>679358.87</td>\n",
       "      <td>Saturday</td>\n",
       "    </tr>\n",
       "  </tbody>\n",
       "</table>\n",
       "<p>23674 rows × 7 columns</p>\n",
       "</div>"
      ],
      "text/plain": [
       "                     Symbol    Open    High     Low   Close      Volume  \\\n",
       "Date                                                                      \n",
       "2020-03-13 20:00:00  ETHUSD  129.94  131.82  126.87  128.71  1940673.93   \n",
       "2020-03-13 19:00:00  ETHUSD  119.51  132.02  117.10  129.94  7579741.09   \n",
       "2020-03-13 18:00:00  ETHUSD  124.47  124.85  115.50  119.51  4898735.81   \n",
       "2020-03-13 17:00:00  ETHUSD  124.08  127.42  121.63  124.47  2753450.92   \n",
       "2020-03-13 16:00:00  ETHUSD  124.85  129.51  120.17  124.08  4461424.71   \n",
       "...                     ...     ...     ...     ...     ...         ...   \n",
       "2017-07-01 15:00:00  ETHUSD  265.74  272.74  265.00  272.57  1500282.55   \n",
       "2017-07-01 14:00:00  ETHUSD  268.79  269.90  265.00  265.74  1702536.85   \n",
       "2017-07-01 13:00:00  ETHUSD  274.83  274.93  265.00  268.79  3010787.99   \n",
       "2017-07-01 12:00:00  ETHUSD  275.01  275.01  271.00  274.83   824362.87   \n",
       "2017-07-01 11:00:00  ETHUSD  279.98  279.99  272.10  275.01   679358.87   \n",
       "\n",
       "                    Days_of_week  \n",
       "Date                              \n",
       "2020-03-13 20:00:00       Friday  \n",
       "2020-03-13 19:00:00       Friday  \n",
       "2020-03-13 18:00:00       Friday  \n",
       "2020-03-13 17:00:00       Friday  \n",
       "2020-03-13 16:00:00       Friday  \n",
       "...                          ...  \n",
       "2017-07-01 15:00:00     Saturday  \n",
       "2017-07-01 14:00:00     Saturday  \n",
       "2017-07-01 13:00:00     Saturday  \n",
       "2017-07-01 12:00:00     Saturday  \n",
       "2017-07-01 11:00:00     Saturday  \n",
       "\n",
       "[23674 rows x 7 columns]"
      ]
     },
     "execution_count": 415,
     "metadata": {},
     "output_type": "execute_result"
    }
   ],
   "source": [
    "df_00"
   ]
  },
  {
   "cell_type": "code",
   "execution_count": 417,
   "id": "b0b88ed7",
   "metadata": {},
   "outputs": [
    {
     "data": {
      "text/html": [
       "<div>\n",
       "<style scoped>\n",
       "    .dataframe tbody tr th:only-of-type {\n",
       "        vertical-align: middle;\n",
       "    }\n",
       "\n",
       "    .dataframe tbody tr th {\n",
       "        vertical-align: top;\n",
       "    }\n",
       "\n",
       "    .dataframe thead th {\n",
       "        text-align: right;\n",
       "    }\n",
       "</style>\n",
       "<table border=\"1\" class=\"dataframe\">\n",
       "  <thead>\n",
       "    <tr style=\"text-align: right;\">\n",
       "      <th></th>\n",
       "      <th>Symbol</th>\n",
       "      <th>Open</th>\n",
       "      <th>High</th>\n",
       "      <th>Low</th>\n",
       "      <th>Close</th>\n",
       "      <th>Volume</th>\n",
       "      <th>Days_of_week</th>\n",
       "    </tr>\n",
       "    <tr>\n",
       "      <th>Date</th>\n",
       "      <th></th>\n",
       "      <th></th>\n",
       "      <th></th>\n",
       "      <th></th>\n",
       "      <th></th>\n",
       "      <th></th>\n",
       "      <th></th>\n",
       "    </tr>\n",
       "  </thead>\n",
       "  <tbody>\n",
       "    <tr>\n",
       "      <th>2019-12-31 23:00:00</th>\n",
       "      <td>ETHUSD</td>\n",
       "      <td>128.33</td>\n",
       "      <td>128.69</td>\n",
       "      <td>128.14</td>\n",
       "      <td>128.54</td>\n",
       "      <td>440678.91</td>\n",
       "      <td>Tuesday</td>\n",
       "    </tr>\n",
       "    <tr>\n",
       "      <th>2019-12-31 22:00:00</th>\n",
       "      <td>ETHUSD</td>\n",
       "      <td>128.38</td>\n",
       "      <td>128.69</td>\n",
       "      <td>127.95</td>\n",
       "      <td>128.33</td>\n",
       "      <td>554646.02</td>\n",
       "      <td>Tuesday</td>\n",
       "    </tr>\n",
       "    <tr>\n",
       "      <th>2019-12-31 21:00:00</th>\n",
       "      <td>ETHUSD</td>\n",
       "      <td>127.86</td>\n",
       "      <td>128.43</td>\n",
       "      <td>127.72</td>\n",
       "      <td>128.38</td>\n",
       "      <td>350155.69</td>\n",
       "      <td>Tuesday</td>\n",
       "    </tr>\n",
       "    <tr>\n",
       "      <th>2019-12-31 20:00:00</th>\n",
       "      <td>ETHUSD</td>\n",
       "      <td>127.84</td>\n",
       "      <td>128.34</td>\n",
       "      <td>127.71</td>\n",
       "      <td>127.86</td>\n",
       "      <td>428183.38</td>\n",
       "      <td>Tuesday</td>\n",
       "    </tr>\n",
       "    <tr>\n",
       "      <th>2019-12-31 19:00:00</th>\n",
       "      <td>ETHUSD</td>\n",
       "      <td>128.69</td>\n",
       "      <td>128.69</td>\n",
       "      <td>127.60</td>\n",
       "      <td>127.84</td>\n",
       "      <td>1169847.84</td>\n",
       "      <td>Tuesday</td>\n",
       "    </tr>\n",
       "    <tr>\n",
       "      <th>...</th>\n",
       "      <td>...</td>\n",
       "      <td>...</td>\n",
       "      <td>...</td>\n",
       "      <td>...</td>\n",
       "      <td>...</td>\n",
       "      <td>...</td>\n",
       "      <td>...</td>\n",
       "    </tr>\n",
       "    <tr>\n",
       "      <th>2019-01-01 04:00:00</th>\n",
       "      <td>ETHUSD</td>\n",
       "      <td>130.75</td>\n",
       "      <td>133.96</td>\n",
       "      <td>130.74</td>\n",
       "      <td>131.96</td>\n",
       "      <td>2791135.37</td>\n",
       "      <td>Tuesday</td>\n",
       "    </tr>\n",
       "    <tr>\n",
       "      <th>2019-01-01 03:00:00</th>\n",
       "      <td>ETHUSD</td>\n",
       "      <td>130.06</td>\n",
       "      <td>130.79</td>\n",
       "      <td>130.06</td>\n",
       "      <td>130.75</td>\n",
       "      <td>503732.63</td>\n",
       "      <td>Tuesday</td>\n",
       "    </tr>\n",
       "    <tr>\n",
       "      <th>2019-01-01 02:00:00</th>\n",
       "      <td>ETHUSD</td>\n",
       "      <td>130.79</td>\n",
       "      <td>130.88</td>\n",
       "      <td>129.55</td>\n",
       "      <td>130.06</td>\n",
       "      <td>838183.43</td>\n",
       "      <td>Tuesday</td>\n",
       "    </tr>\n",
       "    <tr>\n",
       "      <th>2019-01-01 01:00:00</th>\n",
       "      <td>ETHUSD</td>\n",
       "      <td>131.62</td>\n",
       "      <td>131.62</td>\n",
       "      <td>130.77</td>\n",
       "      <td>130.79</td>\n",
       "      <td>434917.99</td>\n",
       "      <td>Tuesday</td>\n",
       "    </tr>\n",
       "    <tr>\n",
       "      <th>2019-01-01 00:00:00</th>\n",
       "      <td>ETHUSD</td>\n",
       "      <td>130.53</td>\n",
       "      <td>131.91</td>\n",
       "      <td>130.48</td>\n",
       "      <td>131.62</td>\n",
       "      <td>1067136.21</td>\n",
       "      <td>Tuesday</td>\n",
       "    </tr>\n",
       "  </tbody>\n",
       "</table>\n",
       "<p>8760 rows × 7 columns</p>\n",
       "</div>"
      ],
      "text/plain": [
       "                     Symbol    Open    High     Low   Close      Volume  \\\n",
       "Date                                                                      \n",
       "2019-12-31 23:00:00  ETHUSD  128.33  128.69  128.14  128.54   440678.91   \n",
       "2019-12-31 22:00:00  ETHUSD  128.38  128.69  127.95  128.33   554646.02   \n",
       "2019-12-31 21:00:00  ETHUSD  127.86  128.43  127.72  128.38   350155.69   \n",
       "2019-12-31 20:00:00  ETHUSD  127.84  128.34  127.71  127.86   428183.38   \n",
       "2019-12-31 19:00:00  ETHUSD  128.69  128.69  127.60  127.84  1169847.84   \n",
       "...                     ...     ...     ...     ...     ...         ...   \n",
       "2019-01-01 04:00:00  ETHUSD  130.75  133.96  130.74  131.96  2791135.37   \n",
       "2019-01-01 03:00:00  ETHUSD  130.06  130.79  130.06  130.75   503732.63   \n",
       "2019-01-01 02:00:00  ETHUSD  130.79  130.88  129.55  130.06   838183.43   \n",
       "2019-01-01 01:00:00  ETHUSD  131.62  131.62  130.77  130.79   434917.99   \n",
       "2019-01-01 00:00:00  ETHUSD  130.53  131.91  130.48  131.62  1067136.21   \n",
       "\n",
       "                    Days_of_week  \n",
       "Date                              \n",
       "2019-12-31 23:00:00      Tuesday  \n",
       "2019-12-31 22:00:00      Tuesday  \n",
       "2019-12-31 21:00:00      Tuesday  \n",
       "2019-12-31 20:00:00      Tuesday  \n",
       "2019-12-31 19:00:00      Tuesday  \n",
       "...                          ...  \n",
       "2019-01-01 04:00:00      Tuesday  \n",
       "2019-01-01 03:00:00      Tuesday  \n",
       "2019-01-01 02:00:00      Tuesday  \n",
       "2019-01-01 01:00:00      Tuesday  \n",
       "2019-01-01 00:00:00      Tuesday  \n",
       "\n",
       "[8760 rows x 7 columns]"
      ]
     },
     "execution_count": 417,
     "metadata": {},
     "output_type": "execute_result"
    }
   ],
   "source": [
    "df_00.loc['2019']"
   ]
  },
  {
   "cell_type": "code",
   "execution_count": null,
   "id": "5bfd5b1e",
   "metadata": {},
   "outputs": [],
   "source": [
    "#-------#------#------#"
   ]
  },
  {
   "cell_type": "markdown",
   "id": "27311e89",
   "metadata": {},
   "source": [
    "# SLICING IN MONTHS AND YEAR"
   ]
  },
  {
   "cell_type": "code",
   "execution_count": 418,
   "id": "288a3d13",
   "metadata": {},
   "outputs": [
    {
     "data": {
      "text/html": [
       "<div>\n",
       "<style scoped>\n",
       "    .dataframe tbody tr th:only-of-type {\n",
       "        vertical-align: middle;\n",
       "    }\n",
       "\n",
       "    .dataframe tbody tr th {\n",
       "        vertical-align: top;\n",
       "    }\n",
       "\n",
       "    .dataframe thead th {\n",
       "        text-align: right;\n",
       "    }\n",
       "</style>\n",
       "<table border=\"1\" class=\"dataframe\">\n",
       "  <thead>\n",
       "    <tr style=\"text-align: right;\">\n",
       "      <th></th>\n",
       "      <th>Symbol</th>\n",
       "      <th>Open</th>\n",
       "      <th>High</th>\n",
       "      <th>Low</th>\n",
       "      <th>Close</th>\n",
       "      <th>Volume</th>\n",
       "      <th>Days_of_week</th>\n",
       "    </tr>\n",
       "    <tr>\n",
       "      <th>Date</th>\n",
       "      <th></th>\n",
       "      <th></th>\n",
       "      <th></th>\n",
       "      <th></th>\n",
       "      <th></th>\n",
       "      <th></th>\n",
       "      <th></th>\n",
       "    </tr>\n",
       "  </thead>\n",
       "  <tbody>\n",
       "    <tr>\n",
       "      <th>2020-02-29 23:00:00</th>\n",
       "      <td>ETHUSD</td>\n",
       "      <td>223.35</td>\n",
       "      <td>223.58</td>\n",
       "      <td>216.83</td>\n",
       "      <td>217.31</td>\n",
       "      <td>1927939.88</td>\n",
       "      <td>Saturday</td>\n",
       "    </tr>\n",
       "    <tr>\n",
       "      <th>2020-02-29 22:00:00</th>\n",
       "      <td>ETHUSD</td>\n",
       "      <td>223.48</td>\n",
       "      <td>223.59</td>\n",
       "      <td>222.14</td>\n",
       "      <td>223.35</td>\n",
       "      <td>535998.57</td>\n",
       "      <td>Saturday</td>\n",
       "    </tr>\n",
       "    <tr>\n",
       "      <th>2020-02-29 21:00:00</th>\n",
       "      <td>ETHUSD</td>\n",
       "      <td>224.63</td>\n",
       "      <td>225.14</td>\n",
       "      <td>222.74</td>\n",
       "      <td>223.48</td>\n",
       "      <td>561158.03</td>\n",
       "      <td>Saturday</td>\n",
       "    </tr>\n",
       "    <tr>\n",
       "      <th>2020-02-29 20:00:00</th>\n",
       "      <td>ETHUSD</td>\n",
       "      <td>225.31</td>\n",
       "      <td>225.33</td>\n",
       "      <td>223.50</td>\n",
       "      <td>224.63</td>\n",
       "      <td>511648.65</td>\n",
       "      <td>Saturday</td>\n",
       "    </tr>\n",
       "    <tr>\n",
       "      <th>2020-02-29 19:00:00</th>\n",
       "      <td>ETHUSD</td>\n",
       "      <td>225.09</td>\n",
       "      <td>225.85</td>\n",
       "      <td>223.87</td>\n",
       "      <td>225.31</td>\n",
       "      <td>1250856.20</td>\n",
       "      <td>Saturday</td>\n",
       "    </tr>\n",
       "    <tr>\n",
       "      <th>...</th>\n",
       "      <td>...</td>\n",
       "      <td>...</td>\n",
       "      <td>...</td>\n",
       "      <td>...</td>\n",
       "      <td>...</td>\n",
       "      <td>...</td>\n",
       "      <td>...</td>\n",
       "    </tr>\n",
       "    <tr>\n",
       "      <th>2020-01-01 04:00:00</th>\n",
       "      <td>ETHUSD</td>\n",
       "      <td>129.57</td>\n",
       "      <td>130.00</td>\n",
       "      <td>129.50</td>\n",
       "      <td>129.56</td>\n",
       "      <td>702786.82</td>\n",
       "      <td>Wednesday</td>\n",
       "    </tr>\n",
       "    <tr>\n",
       "      <th>2020-01-01 03:00:00</th>\n",
       "      <td>ETHUSD</td>\n",
       "      <td>130.37</td>\n",
       "      <td>130.44</td>\n",
       "      <td>129.38</td>\n",
       "      <td>129.57</td>\n",
       "      <td>496704.23</td>\n",
       "      <td>Wednesday</td>\n",
       "    </tr>\n",
       "    <tr>\n",
       "      <th>2020-01-01 02:00:00</th>\n",
       "      <td>ETHUSD</td>\n",
       "      <td>130.14</td>\n",
       "      <td>130.50</td>\n",
       "      <td>129.91</td>\n",
       "      <td>130.37</td>\n",
       "      <td>396315.72</td>\n",
       "      <td>Wednesday</td>\n",
       "    </tr>\n",
       "    <tr>\n",
       "      <th>2020-01-01 01:00:00</th>\n",
       "      <td>ETHUSD</td>\n",
       "      <td>128.34</td>\n",
       "      <td>130.14</td>\n",
       "      <td>128.32</td>\n",
       "      <td>130.14</td>\n",
       "      <td>635419.40</td>\n",
       "      <td>Wednesday</td>\n",
       "    </tr>\n",
       "    <tr>\n",
       "      <th>2020-01-01 00:00:00</th>\n",
       "      <td>ETHUSD</td>\n",
       "      <td>128.54</td>\n",
       "      <td>128.54</td>\n",
       "      <td>128.12</td>\n",
       "      <td>128.34</td>\n",
       "      <td>245119.91</td>\n",
       "      <td>Wednesday</td>\n",
       "    </tr>\n",
       "  </tbody>\n",
       "</table>\n",
       "<p>1440 rows × 7 columns</p>\n",
       "</div>"
      ],
      "text/plain": [
       "                     Symbol    Open    High     Low   Close      Volume  \\\n",
       "Date                                                                      \n",
       "2020-02-29 23:00:00  ETHUSD  223.35  223.58  216.83  217.31  1927939.88   \n",
       "2020-02-29 22:00:00  ETHUSD  223.48  223.59  222.14  223.35   535998.57   \n",
       "2020-02-29 21:00:00  ETHUSD  224.63  225.14  222.74  223.48   561158.03   \n",
       "2020-02-29 20:00:00  ETHUSD  225.31  225.33  223.50  224.63   511648.65   \n",
       "2020-02-29 19:00:00  ETHUSD  225.09  225.85  223.87  225.31  1250856.20   \n",
       "...                     ...     ...     ...     ...     ...         ...   \n",
       "2020-01-01 04:00:00  ETHUSD  129.57  130.00  129.50  129.56   702786.82   \n",
       "2020-01-01 03:00:00  ETHUSD  130.37  130.44  129.38  129.57   496704.23   \n",
       "2020-01-01 02:00:00  ETHUSD  130.14  130.50  129.91  130.37   396315.72   \n",
       "2020-01-01 01:00:00  ETHUSD  128.34  130.14  128.32  130.14   635419.40   \n",
       "2020-01-01 00:00:00  ETHUSD  128.54  128.54  128.12  128.34   245119.91   \n",
       "\n",
       "                    Days_of_week  \n",
       "Date                              \n",
       "2020-02-29 23:00:00     Saturday  \n",
       "2020-02-29 22:00:00     Saturday  \n",
       "2020-02-29 21:00:00     Saturday  \n",
       "2020-02-29 20:00:00     Saturday  \n",
       "2020-02-29 19:00:00     Saturday  \n",
       "...                          ...  \n",
       "2020-01-01 04:00:00    Wednesday  \n",
       "2020-01-01 03:00:00    Wednesday  \n",
       "2020-01-01 02:00:00    Wednesday  \n",
       "2020-01-01 01:00:00    Wednesday  \n",
       "2020-01-01 00:00:00    Wednesday  \n",
       "\n",
       "[1440 rows x 7 columns]"
      ]
     },
     "execution_count": 418,
     "metadata": {},
     "output_type": "execute_result"
    }
   ],
   "source": [
    "df_00['2020-01' : '2020-02']"
   ]
  },
  {
   "cell_type": "markdown",
   "id": "bc1e2a58",
   "metadata": {},
   "source": [
    "# want to add columns in slicing"
   ]
  },
  {
   "cell_type": "code",
   "execution_count": 420,
   "id": "4cf5f9d1",
   "metadata": {},
   "outputs": [
    {
     "data": {
      "text/plain": [
       "Date\n",
       "2020-02-29 23:00:00    217.31\n",
       "2020-02-29 22:00:00    223.35\n",
       "2020-02-29 21:00:00    223.48\n",
       "2020-02-29 20:00:00    224.63\n",
       "2020-02-29 19:00:00    225.31\n",
       "                        ...  \n",
       "2020-01-01 04:00:00    129.56\n",
       "2020-01-01 03:00:00    129.57\n",
       "2020-01-01 02:00:00    130.37\n",
       "2020-01-01 01:00:00    130.14\n",
       "2020-01-01 00:00:00    128.34\n",
       "Name: Close, Length: 1440, dtype: float64"
      ]
     },
     "execution_count": 420,
     "metadata": {},
     "output_type": "execute_result"
    }
   ],
   "source": [
    "df_00['2020-01' : '2020-02']['Close']"
   ]
  },
  {
   "cell_type": "code",
   "execution_count": 419,
   "id": "0ae3cf56",
   "metadata": {},
   "outputs": [],
   "source": [
    "#-------#------#------#"
   ]
  },
  {
   "cell_type": "markdown",
   "id": "118b8443",
   "metadata": {},
   "source": [
    "# .mean() in slicing only"
   ]
  },
  {
   "cell_type": "code",
   "execution_count": 421,
   "id": "53a00674",
   "metadata": {},
   "outputs": [
    {
     "data": {
      "text/plain": [
       "195.16559027777814"
      ]
     },
     "execution_count": 421,
     "metadata": {},
     "output_type": "execute_result"
    }
   ],
   "source": [
    "df_00['2020-01' : '2020-02']['Close'].mean()"
   ]
  },
  {
   "cell_type": "markdown",
   "id": "59239721",
   "metadata": {},
   "source": [
    "# .max()\n",
    "\n",
    "max value in a single one month high"
   ]
  },
  {
   "cell_type": "code",
   "execution_count": 423,
   "id": "88991a84",
   "metadata": {},
   "outputs": [
    {
     "data": {
      "text/plain": [
       "132.68"
      ]
     },
     "execution_count": 423,
     "metadata": {},
     "output_type": "execute_result"
    }
   ],
   "source": [
    "df_00.loc['2020-01-01']['High'].max()"
   ]
  },
  {
   "cell_type": "code",
   "execution_count": 424,
   "id": "7ab78c5a",
   "metadata": {},
   "outputs": [],
   "source": [
    "#-------#------#------#"
   ]
  },
  {
   "cell_type": "markdown",
   "id": "62798fea",
   "metadata": {},
   "source": [
    "# .resample('D','W','Y')"
   ]
  },
  {
   "cell_type": "code",
   "execution_count": 428,
   "id": "bacd59aa",
   "metadata": {},
   "outputs": [
    {
     "data": {
      "text/plain": [
       "Date\n",
       "2017-07-01    279.99\n",
       "2017-07-02    293.73\n",
       "2017-07-03    285.00\n",
       "2017-07-04    282.83\n",
       "2017-07-05    274.97\n",
       "               ...  \n",
       "2020-03-09    208.65\n",
       "2020-03-10    206.28\n",
       "2020-03-11    202.98\n",
       "2020-03-12    195.64\n",
       "2020-03-13    148.00\n",
       "Freq: D, Name: High, Length: 987, dtype: float64"
      ]
     },
     "execution_count": 428,
     "metadata": {},
     "output_type": "execute_result"
    }
   ],
   "source": [
    "df_00['High'].resample('D').max()"
   ]
  },
  {
   "cell_type": "code",
   "execution_count": 429,
   "id": "999aef82",
   "metadata": {},
   "outputs": [],
   "source": [
    "high_day = df_00['High'].resample('D').max()"
   ]
  },
  {
   "cell_type": "code",
   "execution_count": 430,
   "id": "63aacfe4",
   "metadata": {},
   "outputs": [
    {
     "data": {
      "text/plain": [
       "132.68"
      ]
     },
     "execution_count": 430,
     "metadata": {},
     "output_type": "execute_result"
    }
   ],
   "source": [
    "high_day['2020-01-01']"
   ]
  },
  {
   "cell_type": "code",
   "execution_count": 431,
   "id": "76229407",
   "metadata": {},
   "outputs": [],
   "source": [
    "#-------#------#------#"
   ]
  },
  {
   "cell_type": "code",
   "execution_count": 432,
   "id": "466390f7",
   "metadata": {},
   "outputs": [
    {
     "data": {
      "text/html": [
       "<div>\n",
       "<style scoped>\n",
       "    .dataframe tbody tr th:only-of-type {\n",
       "        vertical-align: middle;\n",
       "    }\n",
       "\n",
       "    .dataframe tbody tr th {\n",
       "        vertical-align: top;\n",
       "    }\n",
       "\n",
       "    .dataframe thead th {\n",
       "        text-align: right;\n",
       "    }\n",
       "</style>\n",
       "<table border=\"1\" class=\"dataframe\">\n",
       "  <thead>\n",
       "    <tr style=\"text-align: right;\">\n",
       "      <th></th>\n",
       "      <th>Open</th>\n",
       "      <th>High</th>\n",
       "      <th>Low</th>\n",
       "      <th>Close</th>\n",
       "      <th>Volume</th>\n",
       "    </tr>\n",
       "    <tr>\n",
       "      <th>Date</th>\n",
       "      <th></th>\n",
       "      <th></th>\n",
       "      <th></th>\n",
       "      <th></th>\n",
       "      <th></th>\n",
       "    </tr>\n",
       "  </thead>\n",
       "  <tbody>\n",
       "    <tr>\n",
       "      <th>2017-07-02</th>\n",
       "      <td>268.066486</td>\n",
       "      <td>271.124595</td>\n",
       "      <td>264.819730</td>\n",
       "      <td>268.202162</td>\n",
       "      <td>2.185035e+06</td>\n",
       "    </tr>\n",
       "    <tr>\n",
       "      <th>2017-07-09</th>\n",
       "      <td>261.337024</td>\n",
       "      <td>262.872917</td>\n",
       "      <td>259.186190</td>\n",
       "      <td>261.062083</td>\n",
       "      <td>1.337349e+06</td>\n",
       "    </tr>\n",
       "    <tr>\n",
       "      <th>2017-07-16</th>\n",
       "      <td>196.193214</td>\n",
       "      <td>199.204405</td>\n",
       "      <td>192.722321</td>\n",
       "      <td>195.698393</td>\n",
       "      <td>2.986756e+06</td>\n",
       "    </tr>\n",
       "    <tr>\n",
       "      <th>2017-07-23</th>\n",
       "      <td>212.351429</td>\n",
       "      <td>215.779286</td>\n",
       "      <td>209.126310</td>\n",
       "      <td>212.783750</td>\n",
       "      <td>4.298593e+06</td>\n",
       "    </tr>\n",
       "    <tr>\n",
       "      <th>2017-07-30</th>\n",
       "      <td>203.496190</td>\n",
       "      <td>205.110357</td>\n",
       "      <td>201.714048</td>\n",
       "      <td>203.309524</td>\n",
       "      <td>1.581729e+06</td>\n",
       "    </tr>\n",
       "    <tr>\n",
       "      <th>...</th>\n",
       "      <td>...</td>\n",
       "      <td>...</td>\n",
       "      <td>...</td>\n",
       "      <td>...</td>\n",
       "      <td>...</td>\n",
       "    </tr>\n",
       "    <tr>\n",
       "      <th>2020-02-16</th>\n",
       "      <td>255.021667</td>\n",
       "      <td>257.255238</td>\n",
       "      <td>252.679762</td>\n",
       "      <td>255.198452</td>\n",
       "      <td>2.329087e+06</td>\n",
       "    </tr>\n",
       "    <tr>\n",
       "      <th>2020-02-23</th>\n",
       "      <td>265.220833</td>\n",
       "      <td>267.263690</td>\n",
       "      <td>262.948512</td>\n",
       "      <td>265.321905</td>\n",
       "      <td>1.826094e+06</td>\n",
       "    </tr>\n",
       "    <tr>\n",
       "      <th>2020-03-01</th>\n",
       "      <td>236.720536</td>\n",
       "      <td>238.697500</td>\n",
       "      <td>234.208750</td>\n",
       "      <td>236.373988</td>\n",
       "      <td>2.198762e+06</td>\n",
       "    </tr>\n",
       "    <tr>\n",
       "      <th>2020-03-08</th>\n",
       "      <td>229.923571</td>\n",
       "      <td>231.284583</td>\n",
       "      <td>228.373810</td>\n",
       "      <td>229.817619</td>\n",
       "      <td>1.628910e+06</td>\n",
       "    </tr>\n",
       "    <tr>\n",
       "      <th>2020-03-15</th>\n",
       "      <td>176.937521</td>\n",
       "      <td>179.979487</td>\n",
       "      <td>172.936239</td>\n",
       "      <td>176.332821</td>\n",
       "      <td>4.259828e+06</td>\n",
       "    </tr>\n",
       "  </tbody>\n",
       "</table>\n",
       "<p>142 rows × 5 columns</p>\n",
       "</div>"
      ],
      "text/plain": [
       "                  Open        High         Low       Close        Volume\n",
       "Date                                                                    \n",
       "2017-07-02  268.066486  271.124595  264.819730  268.202162  2.185035e+06\n",
       "2017-07-09  261.337024  262.872917  259.186190  261.062083  1.337349e+06\n",
       "2017-07-16  196.193214  199.204405  192.722321  195.698393  2.986756e+06\n",
       "2017-07-23  212.351429  215.779286  209.126310  212.783750  4.298593e+06\n",
       "2017-07-30  203.496190  205.110357  201.714048  203.309524  1.581729e+06\n",
       "...                ...         ...         ...         ...           ...\n",
       "2020-02-16  255.021667  257.255238  252.679762  255.198452  2.329087e+06\n",
       "2020-02-23  265.220833  267.263690  262.948512  265.321905  1.826094e+06\n",
       "2020-03-01  236.720536  238.697500  234.208750  236.373988  2.198762e+06\n",
       "2020-03-08  229.923571  231.284583  228.373810  229.817619  1.628910e+06\n",
       "2020-03-15  176.937521  179.979487  172.936239  176.332821  4.259828e+06\n",
       "\n",
       "[142 rows x 5 columns]"
      ]
     },
     "execution_count": 432,
     "metadata": {},
     "output_type": "execute_result"
    }
   ],
   "source": [
    "df_00.resample('W').mean()"
   ]
  },
  {
   "cell_type": "code",
   "execution_count": 433,
   "id": "3375a927",
   "metadata": {},
   "outputs": [
    {
     "name": "stderr",
     "output_type": "stream",
     "text": [
      "Matplotlib is building the font cache; this may take a moment.\n"
     ]
    }
   ],
   "source": [
    "%matplotlib inline"
   ]
  },
  {
   "cell_type": "code",
   "execution_count": 435,
   "id": "fb0cf90c",
   "metadata": {},
   "outputs": [
    {
     "data": {
      "text/plain": [
       "<AxesSubplot:xlabel='Date'>"
      ]
     },
     "execution_count": 435,
     "metadata": {},
     "output_type": "execute_result"
    },
    {
     "data": {
      "image/png": "[encoded data removed]",
      "text/plain": [
       "<Figure size 432x288 with 1 Axes>"
      ]
     },
     "metadata": {
      "needs_background": "light"
     },
     "output_type": "display_data"
    }
   ],
   "source": [
    "high_day.plot()"
   ]
  },
  {
   "cell_type": "markdown",
   "id": "c0c0f803",
   "metadata": {},
   "source": [
    "# TUTORIAL 08___READING/WRITING DATA TO DIFFERENT SOURCES - EXEL,JSON,SQL,etc\n",
    "read the comments carefull"
   ]
  },
  {
   "cell_type": "markdown",
   "id": "0fdda802",
   "metadata": {},
   "source": [
    "# how to create a new csv file..."
   ]
  },
  {
   "cell_type": "code",
   "execution_count": null,
   "id": "5c7036a3",
   "metadata": {},
   "outputs": [],
   "source": [
    "# variable_name.to_csv('file_name')"
   ]
  },
  {
   "cell_type": "code",
   "execution_count": null,
   "id": "e545225f",
   "metadata": {},
   "outputs": [],
   "source": [
    "#------#-------#-------#----#----"
   ]
  },
  {
   "cell_type": "code",
   "execution_count": 440,
   "id": "eb04971c",
   "metadata": {},
   "outputs": [
    {
     "ename": "KeyError",
     "evalue": "'Country'",
     "output_type": "error",
     "traceback": [
      "\u001b[1;31m---------------------------------------------------------------------------\u001b[0m",
      "\u001b[1;31mKeyError\u001b[0m                                  Traceback (most recent call last)",
      "File \u001b[1;32mC:\\ProgramData\\Anaconda3\\an\\lib\\site-packages\\pandas\\core\\indexes\\base.py:3621\u001b[0m, in \u001b[0;36mIndex.get_loc\u001b[1;34m(self, key, method, tolerance)\u001b[0m\n\u001b[0;32m   3620\u001b[0m \u001b[38;5;28;01mtry\u001b[39;00m:\n\u001b[1;32m-> 3621\u001b[0m     \u001b[38;5;28;01mreturn\u001b[39;00m \u001b[38;5;28;43mself\u001b[39;49m\u001b[38;5;241;43m.\u001b[39;49m\u001b[43m_engine\u001b[49m\u001b[38;5;241;43m.\u001b[39;49m\u001b[43mget_loc\u001b[49m\u001b[43m(\u001b[49m\u001b[43mcasted_key\u001b[49m\u001b[43m)\u001b[49m\n\u001b[0;32m   3622\u001b[0m \u001b[38;5;28;01mexcept\u001b[39;00m \u001b[38;5;167;01mKeyError\u001b[39;00m \u001b[38;5;28;01mas\u001b[39;00m err:\n",
      "File \u001b[1;32mC:\\ProgramData\\Anaconda3\\an\\lib\\site-packages\\pandas\\_libs\\index.pyx:136\u001b[0m, in \u001b[0;36mpandas._libs.index.IndexEngine.get_loc\u001b[1;34m()\u001b[0m\n",
      "File \u001b[1;32mC:\\ProgramData\\Anaconda3\\an\\lib\\site-packages\\pandas\\_libs\\index.pyx:163\u001b[0m, in \u001b[0;36mpandas._libs.index.IndexEngine.get_loc\u001b[1;34m()\u001b[0m\n",
      "File \u001b[1;32mpandas\\_libs\\hashtable_class_helper.pxi:5198\u001b[0m, in \u001b[0;36mpandas._libs.hashtable.PyObjectHashTable.get_item\u001b[1;34m()\u001b[0m\n",
      "File \u001b[1;32mpandas\\_libs\\hashtable_class_helper.pxi:5206\u001b[0m, in \u001b[0;36mpandas._libs.hashtable.PyObjectHashTable.get_item\u001b[1;34m()\u001b[0m\n",
      "\u001b[1;31mKeyError\u001b[0m: 'Country'",
      "\nThe above exception was the direct cause of the following exception:\n",
      "\u001b[1;31mKeyError\u001b[0m                                  Traceback (most recent call last)",
      "Input \u001b[1;32mIn [440]\u001b[0m, in \u001b[0;36m<cell line: 1>\u001b[1;34m()\u001b[0m\n\u001b[1;32m----> 1\u001b[0m filt_india \u001b[38;5;241m=\u001b[39m (\u001b[43mdf\u001b[49m\u001b[43m[\u001b[49m\u001b[38;5;124;43m'\u001b[39;49m\u001b[38;5;124;43mCountry\u001b[39;49m\u001b[38;5;124;43m'\u001b[39;49m\u001b[43m]\u001b[49m \u001b[38;5;241m==\u001b[39m \u001b[38;5;124m'\u001b[39m\u001b[38;5;124mIndia\u001b[39m\u001b[38;5;124m'\u001b[39m)\n",
      "File \u001b[1;32mC:\\ProgramData\\Anaconda3\\an\\lib\\site-packages\\pandas\\core\\frame.py:3505\u001b[0m, in \u001b[0;36mDataFrame.__getitem__\u001b[1;34m(self, key)\u001b[0m\n\u001b[0;32m   3503\u001b[0m \u001b[38;5;28;01mif\u001b[39;00m \u001b[38;5;28mself\u001b[39m\u001b[38;5;241m.\u001b[39mcolumns\u001b[38;5;241m.\u001b[39mnlevels \u001b[38;5;241m>\u001b[39m \u001b[38;5;241m1\u001b[39m:\n\u001b[0;32m   3504\u001b[0m     \u001b[38;5;28;01mreturn\u001b[39;00m \u001b[38;5;28mself\u001b[39m\u001b[38;5;241m.\u001b[39m_getitem_multilevel(key)\n\u001b[1;32m-> 3505\u001b[0m indexer \u001b[38;5;241m=\u001b[39m \u001b[38;5;28;43mself\u001b[39;49m\u001b[38;5;241;43m.\u001b[39;49m\u001b[43mcolumns\u001b[49m\u001b[38;5;241;43m.\u001b[39;49m\u001b[43mget_loc\u001b[49m\u001b[43m(\u001b[49m\u001b[43mkey\u001b[49m\u001b[43m)\u001b[49m\n\u001b[0;32m   3506\u001b[0m \u001b[38;5;28;01mif\u001b[39;00m is_integer(indexer):\n\u001b[0;32m   3507\u001b[0m     indexer \u001b[38;5;241m=\u001b[39m [indexer]\n",
      "File \u001b[1;32mC:\\ProgramData\\Anaconda3\\an\\lib\\site-packages\\pandas\\core\\indexes\\base.py:3623\u001b[0m, in \u001b[0;36mIndex.get_loc\u001b[1;34m(self, key, method, tolerance)\u001b[0m\n\u001b[0;32m   3621\u001b[0m     \u001b[38;5;28;01mreturn\u001b[39;00m \u001b[38;5;28mself\u001b[39m\u001b[38;5;241m.\u001b[39m_engine\u001b[38;5;241m.\u001b[39mget_loc(casted_key)\n\u001b[0;32m   3622\u001b[0m \u001b[38;5;28;01mexcept\u001b[39;00m \u001b[38;5;167;01mKeyError\u001b[39;00m \u001b[38;5;28;01mas\u001b[39;00m err:\n\u001b[1;32m-> 3623\u001b[0m     \u001b[38;5;28;01mraise\u001b[39;00m \u001b[38;5;167;01mKeyError\u001b[39;00m(key) \u001b[38;5;28;01mfrom\u001b[39;00m \u001b[38;5;21;01merr\u001b[39;00m\n\u001b[0;32m   3624\u001b[0m \u001b[38;5;28;01mexcept\u001b[39;00m \u001b[38;5;167;01mTypeError\u001b[39;00m:\n\u001b[0;32m   3625\u001b[0m     \u001b[38;5;66;03m# If we have a listlike key, _check_indexing_error will raise\u001b[39;00m\n\u001b[0;32m   3626\u001b[0m     \u001b[38;5;66;03m#  InvalidIndexError. Otherwise we fall through and re-raise\u001b[39;00m\n\u001b[0;32m   3627\u001b[0m     \u001b[38;5;66;03m#  the TypeError.\u001b[39;00m\n\u001b[0;32m   3628\u001b[0m     \u001b[38;5;28mself\u001b[39m\u001b[38;5;241m.\u001b[39m_check_indexing_error(key)\n",
      "\u001b[1;31mKeyError\u001b[0m: 'Country'"
     ]
    }
   ],
   "source": [
    "filt_india = (df['Country'] == 'India')"
   ]
  },
  {
   "cell_type": "markdown",
   "id": "e44c3246",
   "metadata": {},
   "source": [
    "# TUTORIAL 08_REGULER_EXPRESSION"
   ]
  },
  {
   "cell_type": "code",
   "execution_count": 443,
   "id": "e320adba",
   "metadata": {},
   "outputs": [],
   "source": [
    "import re"
   ]
  },
  {
   "cell_type": "code",
   "execution_count": 444,
   "id": "89437dd7",
   "metadata": {},
   "outputs": [],
   "source": [
    "mystr = 'Tata Limited Phone : +44 ,age : 18 , Fax : 675'"
   ]
  },
  {
   "cell_type": "code",
   "execution_count": null,
   "id": "fa10678b",
   "metadata": {},
   "outputs": [],
   "source": [
    "# findall , search , split , sub , finditer"
   ]
  },
  {
   "cell_type": "markdown",
   "id": "63eb6d79",
   "metadata": {},
   "source": [
    "# finditer"
   ]
  },
  {
   "cell_type": "code",
   "execution_count": null,
   "id": "5890f8d9",
   "metadata": {},
   "outputs": [],
   "source": []
  },
  {
   "cell_type": "code",
   "execution_count": null,
   "id": "3548ab15",
   "metadata": {},
   "outputs": [],
   "source": []
  },
  {
   "cell_type": "code",
   "execution_count": null,
   "id": "410f6365",
   "metadata": {},
   "outputs": [],
   "source": []
  },
  {
   "cell_type": "code",
   "execution_count": null,
   "id": "dc3c50a5",
   "metadata": {},
   "outputs": [],
   "source": []
  },
  {
   "cell_type": "code",
   "execution_count": null,
   "id": "88922c37",
   "metadata": {},
   "outputs": [],
   "source": []
  },
  {
   "cell_type": "code",
   "execution_count": null,
   "id": "63225903",
   "metadata": {},
   "outputs": [],
   "source": []
  },
  {
   "cell_type": "code",
   "execution_count": null,
   "id": "ab44ebfd",
   "metadata": {},
   "outputs": [],
   "source": []
  }
 ],
 "metadata": {
  "kernelspec": {
   "display_name": "Python 3 (ipykernel)",
   "language": "python",
   "name": "python3"
  },
  "language_info": {
   "codemirror_mode": {
    "name": "ipython",
    "version": 3
   },
   "file_extension": ".py",
   "mimetype": "text/x-python",
   "name": "python",
   "nbconvert_exporter": "python",
   "pygments_lexer": "ipython3",
   "version": "3.9.12"
  }
 },
 "nbformat": 4,
 "nbformat_minor": 5
}
