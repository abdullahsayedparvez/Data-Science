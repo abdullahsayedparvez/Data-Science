{
 "cells": [
  {
   "cell_type": "code",
   "execution_count": 1,
   "id": "5890bbe3",
   "metadata": {},
   "outputs": [],
   "source": [
    "import pandas as pd\n",
    "import re"
   ]
  },
  {
   "cell_type": "code",
   "execution_count": 2,
   "id": "ee4daf4a",
   "metadata": {},
   "outputs": [],
   "source": [
    "bike = pd.read_csv('bike_data.csv')"
   ]
  },
  {
   "cell_type": "code",
   "execution_count": 4,
   "id": "dab22f14",
   "metadata": {
    "collapsed": true
   },
   "outputs": [
    {
     "data": {
      "text/plain": [
       "0        2018\n",
       "1        2017\n",
       "2        2013\n",
       "3        2017\n",
       "4        2018\n",
       "         ... \n",
       "34495    2017\n",
       "34496    2012\n",
       "34497    2015\n",
       "34498    2005\n",
       "34499    2008\n",
       "Name: Year, Length: 34500, dtype: object"
      ]
     },
     "execution_count": 4,
     "metadata": {},
     "output_type": "execute_result"
    }
   ],
   "source": [
    "bike['Year'] = bike['Name'].str.extract('(\\d\\d\\d\\d)',expand=True)\n",
    "bike['Year']"
   ]
  },
  {
   "cell_type": "code",
   "execution_count": 21,
   "id": "0a72383e",
   "metadata": {
    "collapsed": true
   },
   "outputs": [
    {
     "data": {
      "text/html": [
       "<div>\n",
       "<style scoped>\n",
       "    .dataframe tbody tr th:only-of-type {\n",
       "        vertical-align: middle;\n",
       "    }\n",
       "\n",
       "    .dataframe tbody tr th {\n",
       "        vertical-align: top;\n",
       "    }\n",
       "\n",
       "    .dataframe thead th {\n",
       "        text-align: right;\n",
       "    }\n",
       "</style>\n",
       "<table border=\"1\" class=\"dataframe\">\n",
       "  <thead>\n",
       "    <tr style=\"text-align: right;\">\n",
       "      <th></th>\n",
       "      <th>Unnamed: 0</th>\n",
       "      <th>Name</th>\n",
       "      <th>Price</th>\n",
       "      <th>Location</th>\n",
       "      <th>Running</th>\n",
       "      <th>Owner</th>\n",
       "      <th>Year</th>\n",
       "      <th>Power_bike</th>\n",
       "    </tr>\n",
       "  </thead>\n",
       "  <tbody>\n",
       "    <tr>\n",
       "      <th>0</th>\n",
       "      <td>0</td>\n",
       "      <td>TVS Star City Plus Dual Tone 110cc 2018</td>\n",
       "      <td>35,000</td>\n",
       "      <td>Ahmedabad</td>\n",
       "      <td>17,654 Km</td>\n",
       "      <td>First Owner</td>\n",
       "      <td>2018</td>\n",
       "      <td>110</td>\n",
       "    </tr>\n",
       "    <tr>\n",
       "      <th>1</th>\n",
       "      <td>1</td>\n",
       "      <td>Royal Enfield Classic 350cc 2017</td>\n",
       "      <td>1,19,900</td>\n",
       "      <td>Delhi</td>\n",
       "      <td>11,000 Km</td>\n",
       "      <td>First Owner</td>\n",
       "      <td>2017</td>\n",
       "      <td>350</td>\n",
       "    </tr>\n",
       "    <tr>\n",
       "      <th>2</th>\n",
       "      <td>2</td>\n",
       "      <td>Triumph Daytona 675R 2013</td>\n",
       "      <td>6,00,000</td>\n",
       "      <td>Delhi</td>\n",
       "      <td>110 Km</td>\n",
       "      <td>First Owner</td>\n",
       "      <td>2013</td>\n",
       "      <td>675</td>\n",
       "    </tr>\n",
       "    <tr>\n",
       "      <th>3</th>\n",
       "      <td>3</td>\n",
       "      <td>TVS Apache RTR 180cc 2017</td>\n",
       "      <td>65,000</td>\n",
       "      <td>Bangalore</td>\n",
       "      <td>16,329 Km</td>\n",
       "      <td>First Owner</td>\n",
       "      <td>2017</td>\n",
       "      <td>180</td>\n",
       "    </tr>\n",
       "    <tr>\n",
       "      <th>4</th>\n",
       "      <td>4</td>\n",
       "      <td>Yamaha FZ S V 2.0 150cc-Ltd. Edition 2018</td>\n",
       "      <td>80,000</td>\n",
       "      <td>Bangalore</td>\n",
       "      <td>10,000 Km</td>\n",
       "      <td>First Owner</td>\n",
       "      <td>2018</td>\n",
       "      <td>150</td>\n",
       "    </tr>\n",
       "    <tr>\n",
       "      <th>...</th>\n",
       "      <td>...</td>\n",
       "      <td>...</td>\n",
       "      <td>...</td>\n",
       "      <td>...</td>\n",
       "      <td>...</td>\n",
       "      <td>...</td>\n",
       "      <td>...</td>\n",
       "      <td>...</td>\n",
       "    </tr>\n",
       "    <tr>\n",
       "      <th>34495</th>\n",
       "      <td>34495</td>\n",
       "      <td>Hero Passion Pro 100cc 2017</td>\n",
       "      <td>39,000</td>\n",
       "      <td>Delhi</td>\n",
       "      <td>22,000 Km</td>\n",
       "      <td>First Owner</td>\n",
       "      <td>2017</td>\n",
       "      <td>100</td>\n",
       "    </tr>\n",
       "    <tr>\n",
       "      <th>34496</th>\n",
       "      <td>34496</td>\n",
       "      <td>TVS Apache RTR 180cc 2012</td>\n",
       "      <td>30,000</td>\n",
       "      <td>Karnal</td>\n",
       "      <td>6,639 Km</td>\n",
       "      <td>First Owner</td>\n",
       "      <td>2012</td>\n",
       "      <td>180</td>\n",
       "    </tr>\n",
       "    <tr>\n",
       "      <th>34497</th>\n",
       "      <td>34497</td>\n",
       "      <td>Bajaj Avenger Street 220 2015</td>\n",
       "      <td>60,000</td>\n",
       "      <td>Delhi</td>\n",
       "      <td>20,373 Km</td>\n",
       "      <td>First Owner</td>\n",
       "      <td>2015</td>\n",
       "      <td>220</td>\n",
       "    </tr>\n",
       "    <tr>\n",
       "      <th>34498</th>\n",
       "      <td>34498</td>\n",
       "      <td>Hero Super Splendor 125cc 2005</td>\n",
       "      <td>15,600</td>\n",
       "      <td>Jaipur</td>\n",
       "      <td>84,186 Km</td>\n",
       "      <td>First Owner</td>\n",
       "      <td>2005</td>\n",
       "      <td>125</td>\n",
       "    </tr>\n",
       "    <tr>\n",
       "      <th>34499</th>\n",
       "      <td>34499</td>\n",
       "      <td>Bajaj Pulsar 150cc 2008</td>\n",
       "      <td>22,000</td>\n",
       "      <td>Pune</td>\n",
       "      <td>60,857 Km</td>\n",
       "      <td>First Owner</td>\n",
       "      <td>2008</td>\n",
       "      <td>150</td>\n",
       "    </tr>\n",
       "  </tbody>\n",
       "</table>\n",
       "<p>34500 rows × 8 columns</p>\n",
       "</div>"
      ],
      "text/plain": [
       "       Unnamed: 0                                       Name     Price  \\\n",
       "0               0    TVS Star City Plus Dual Tone 110cc 2018    35,000   \n",
       "1               1           Royal Enfield Classic 350cc 2017  1,19,900   \n",
       "2               2                  Triumph Daytona 675R 2013  6,00,000   \n",
       "3               3                  TVS Apache RTR 180cc 2017    65,000   \n",
       "4               4  Yamaha FZ S V 2.0 150cc-Ltd. Edition 2018    80,000   \n",
       "...           ...                                        ...       ...   \n",
       "34495       34495                Hero Passion Pro 100cc 2017    39,000   \n",
       "34496       34496                  TVS Apache RTR 180cc 2012    30,000   \n",
       "34497       34497              Bajaj Avenger Street 220 2015    60,000   \n",
       "34498       34498             Hero Super Splendor 125cc 2005    15,600   \n",
       "34499       34499                    Bajaj Pulsar 150cc 2008    22,000   \n",
       "\n",
       "        Location    Running        Owner  Year Power_bike  \n",
       "0      Ahmedabad  17,654 Km  First Owner  2018        110  \n",
       "1          Delhi  11,000 Km  First Owner  2017        350  \n",
       "2          Delhi     110 Km  First Owner  2013        675  \n",
       "3      Bangalore  16,329 Km  First Owner  2017        180  \n",
       "4      Bangalore  10,000 Km  First Owner  2018        150  \n",
       "...          ...        ...          ...   ...        ...  \n",
       "34495      Delhi  22,000 Km  First Owner  2017        100  \n",
       "34496     Karnal   6,639 Km  First Owner  2012        180  \n",
       "34497      Delhi  20,373 Km  First Owner  2015        220  \n",
       "34498     Jaipur  84,186 Km  First Owner  2005        125  \n",
       "34499       Pune  60,857 Km  First Owner  2008        150  \n",
       "\n",
       "[34500 rows x 8 columns]"
      ]
     },
     "execution_count": 21,
     "metadata": {},
     "output_type": "execute_result"
    }
   ],
   "source": [
    "bike['Power_bike'] = bike['Name'].str.extract('(\\d\\d\\d)')\n",
    "bike"
   ]
  },
  {
   "cell_type": "code",
   "execution_count": 20,
   "id": "f7c5dd5e",
   "metadata": {},
   "outputs": [
    {
     "data": {
      "text/plain": [
       "False"
      ]
     },
     "execution_count": 20,
     "metadata": {},
     "output_type": "execute_result"
    }
   ],
   "source": [
    "bike['Power_bike'].isnull().values.any()"
   ]
  },
  {
   "cell_type": "code",
   "execution_count": 3,
   "id": "9d752333",
   "metadata": {},
   "outputs": [
    {
     "name": "stdout",
     "output_type": "stream",
     "text": [
      "hello world please give me some reason \n"
     ]
    }
   ],
   "source": [
    "print('hello world please give me some reason ')"
   ]
  },
  {
   "cell_type": "code",
   "execution_count": null,
   "id": "33f4fdb1",
   "metadata": {},
   "outputs": [],
   "source": []
  },
  {
   "cell_type": "code",
   "execution_count": null,
   "id": "f55c66be",
   "metadata": {},
   "outputs": [],
   "source": []
  },
  {
   "cell_type": "code",
   "execution_count": null,
   "id": "21e8235d",
   "metadata": {},
   "outputs": [],
   "source": []
  },
  {
   "cell_type": "code",
   "execution_count": null,
   "id": "976563c5",
   "metadata": {},
   "outputs": [],
   "source": []
  },
  {
   "cell_type": "code",
   "execution_count": null,
   "id": "78cd41e4",
   "metadata": {},
   "outputs": [],
   "source": []
  },
  {
   "cell_type": "code",
   "execution_count": null,
   "id": "163d1595",
   "metadata": {},
   "outputs": [],
   "source": []
  }
 ],
 "metadata": {
  "kernelspec": {
   "display_name": "Python 3 (ipykernel)",
   "language": "python",
   "name": "python3"
  },
  "language_info": {
   "codemirror_mode": {
    "name": "ipython",
    "version": 3
   },
   "file_extension": ".py",
   "mimetype": "text/x-python",
   "name": "python",
   "nbconvert_exporter": "python",
   "pygments_lexer": "ipython3",
   "version": "3.10.5"
  }
 },
 "nbformat": 4,
 "nbformat_minor": 5
}
