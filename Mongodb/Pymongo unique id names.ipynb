{
 "cells": [
  {
   "cell_type": "code",
   "execution_count": null,
   "id": "e0c2118a",
   "metadata": {},
   "outputs": [],
   "source": [
    "pip install pymongo"
   ]
  },
  {
   "cell_type": "code",
   "execution_count": null,
   "id": "b0e82714",
   "metadata": {},
   "outputs": [],
   "source": [
    "import pymongo\n",
    "if __name__ == \"__main__\":\n",
    "    print('welcome to pymongo')\n",
    "    client = pymongo.MongoClient('mongodb://localhost:27017')\n",
    "    print(client)\n",
    "    #how to make database\n",
    "    db = client['Abdullah']\n",
    "    #how to make collection in database\n",
    "    collection = db['MySampleCollectionForAbdullah']\n",
    "    #how to make and add Documents in collection\n",
    "    dictionary = {'Name':'Harry','Marks': 50}\n",
    "    collection.insert_one(dictionary)\n",
    "    dictionary2 = {'Name':'Abdullah','Marks': 100}\n",
    "    collection.insert_one(dictionary2)\n",
    "    #how to add many documents in collection\n",
    "    insertThese = [\n",
    "        {'Name': 'Analyst_Ameya','Date': '2023-04-07T17:39:17Z','Twits': 'Time to go long in $TCS.NSE according to Bullish channel pattern.','Signal': 'Null'},\n",
    "        {'Name': 'Payal_Nagpal','Date': '2023-04-07T16:53:21Z','Twits': '$TCS.NSE On weekly timeframe, stock is trading between Ema levels giving weak bullish signals. However,Macd is bearish.','Signal': 'Null'},\n",
    "        {'Name': 'Cg_1999','Date': '2023-04-07T05:46:16Z','Twits': '$TCS.NSE  \\nAs the Indian IT companies including TCS, Infosys, Wipro, HCL Tech, and others face challenges due to the macroeconomic slowdown and increasing inflation, the upcoming earnings season serves as a crucial test for their financial performance. Bearish','Signal': 'Bearish'},\n",
    "        {'Name': 'vinithkumar','Date': '2023-04-06T16:36:45Z','Twits': '$TCS.NSE $INFY.NSE $NIFTYIT.NSE  \\nBoth infy and tcs are equally strong stock which has given a great fall past year.. both are gem n might see al time high soon.. first wil be infy .!','Signal': 'Null'}\n",
    "    ]\n",
    "    collection.insert_many(insertThese)\n",
    "    #Unique ID can be assigned by the programmer also\n",
    "    insertThese2 = [\n",
    "        {'_id':1,'Name': 'Analyst_Ameya','Date': '2023-04-07T17:39:17Z','Twits': 'Time to go long in $TCS.NSE according to Bullish channel pattern.','Signal': 'Null'},\n",
    "        {'_id':2,'Name': 'Payal_Nagpal','Date': '2023-04-07T16:53:21Z','Twits': '$TCS.NSE On weekly timeframe, stock is trading between Ema levels giving weak bullish signals. However,Macd is bearish.','Signal': 'Null'},\n",
    "        {'_id':3,'Name': 'Cg_1999','Date': '2023-04-07T05:46:16Z','Twits': '$TCS.NSE  \\nAs the Indian IT companies including TCS, Infosys, Wipro, HCL Tech, and others face challenges due to the macroeconomic slowdown and increasing inflation, the upcoming earnings season serves as a crucial test for their financial performance. Bearish','Signal': 'Bearish'},\n",
    "        {'_id':4,'Name': 'vinithkumar','Date': '2023-04-06T16:36:45Z','Twits': '$TCS.NSE $INFY.NSE $NIFTYIT.NSE  \\nBoth infy and tcs are equally strong stock which has given a great fall past year.. both are gem n might see al time high soon.. first wil be infy .!','Signal': 'Null'}\n",
    "    ]\n",
    "    collection.insert_many(insertThese2)"
   ]
  }
 ],
 "metadata": {
  "kernelspec": {
   "display_name": "Python 3 (ipykernel)",
   "language": "python",
   "name": "python3"
  },
  "language_info": {
   "codemirror_mode": {
    "name": "ipython",
    "version": 3
   },
   "file_extension": ".py",
   "mimetype": "text/x-python",
   "name": "python",
   "nbconvert_exporter": "python",
   "pygments_lexer": "ipython3",
   "version": "3.11.2"
  }
 },
 "nbformat": 4,
 "nbformat_minor": 5
}
