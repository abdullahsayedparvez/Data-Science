{
 "cells": [
  {
   "cell_type": "code",
   "execution_count": 5,
   "id": "9ad3d93f",
   "metadata": {},
   "outputs": [
    {
     "name": "stdout",
     "output_type": "stream",
     "text": [
      "welcome to pymongo\n",
      "MongoClient(host=['localhost:27017'], document_class=dict, tz_aware=False, connect=True)\n",
      "updation is done\n",
      "The number of document modified is :  1\n"
     ]
    }
   ],
   "source": [
    "import pymongo\n",
    "if __name__ == \"__main__\":\n",
    "    print('welcome to pymongo')\n",
    "    client = pymongo.MongoClient('mongodb://localhost:27017')\n",
    "    print(client)\n",
    "    db = client['Abdullah']\n",
    "    collection = db['MySampleCollectionForAbdullah']\n",
    "    #updation of value\n",
    "    previous_value = {'Name':'Analyst_Ameya'}\n",
    "    next_value     = {\"$set\":{'Signal':'Bullish'}}\n",
    "    print('updation is done')\n",
    "    updated_value = collection.update_many(previous_value,next_value)\n",
    "    print('The number of document modified is : ',updated_value.modified_count)"
   ]
  }
 ],
 "metadata": {
  "kernelspec": {
   "display_name": "Python 3 (ipykernel)",
   "language": "python",
   "name": "python3"
  },
  "language_info": {
   "codemirror_mode": {
    "name": "ipython",
    "version": 3
   },
   "file_extension": ".py",
   "mimetype": "text/x-python",
   "name": "python",
   "nbconvert_exporter": "python",
   "pygments_lexer": "ipython3",
   "version": "3.11.2"
  }
 },
 "nbformat": 4,
 "nbformat_minor": 5
}
