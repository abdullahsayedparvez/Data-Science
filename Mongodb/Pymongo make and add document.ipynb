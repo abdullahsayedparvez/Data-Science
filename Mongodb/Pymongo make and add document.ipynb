{
 "cells": [
  {
   "cell_type": "code",
   "execution_count": 1,
   "id": "bde2fc18",
   "metadata": {},
   "outputs": [
    {
     "name": "stdout",
     "output_type": "stream",
     "text": [
      "Requirement already satisfied: pymongo in c:\\users\\admin\\appdata\\local\\programs\\python\\python311\\lib\\site-packages (4.3.3)\n",
      "Requirement already satisfied: dnspython<3.0.0,>=1.16.0 in c:\\users\\admin\\appdata\\local\\programs\\python\\python311\\lib\\site-packages (from pymongo) (2.3.0)\n",
      "Note: you may need to restart the kernel to use updated packages.\n"
     ]
    },
    {
     "name": "stderr",
     "output_type": "stream",
     "text": [
      "\n",
      "[notice] A new release of pip available: 22.3.1 -> 23.0.1\n",
      "[notice] To update, run: python.exe -m pip install --upgrade pip\n"
     ]
    }
   ],
   "source": [
    "pip install pymongo"
   ]
  },
  {
   "cell_type": "code",
   "execution_count": null,
   "id": "818b70d3",
   "metadata": {},
   "outputs": [],
   "source": [
    "import pymongo\n",
    "if __name__ == \"__main__\":\n",
    "    print('welcome to pymongo')\n",
    "    client = pymongo.MongoClient('mongodb://localhost:27017')\n",
    "    print(client)\n",
    "    #how to make database\n",
    "    db = client['Abdullah']\n",
    "    #how to make collection in database\n",
    "    collection = db['MySampleCollectionForAbdullah']\n",
    "    #how to make and add Documents in collection\n",
    "    dictionary = {'Name':'Harry','Marks': 50}\n",
    "    collection.insert_one(dictionary)\n",
    "    dictionary2 = {'Name':'Abdullah','Marks': 100}\n",
    "    collection.insert_one(dictionary2)"
   ]
  }
 ],
 "metadata": {
  "kernelspec": {
   "display_name": "Python 3 (ipykernel)",
   "language": "python",
   "name": "python3"
  },
  "language_info": {
   "codemirror_mode": {
    "name": "ipython",
    "version": 3
   },
   "file_extension": ".py",
   "mimetype": "text/x-python",
   "name": "python",
   "nbconvert_exporter": "python",
   "pygments_lexer": "ipython3",
   "version": "3.11.2"
  }
 },
 "nbformat": 4,
 "nbformat_minor": 5
}
