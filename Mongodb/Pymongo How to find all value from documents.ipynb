{
 "cells": [
  {
   "cell_type": "code",
   "execution_count": null,
   "id": "913757b4",
   "metadata": {},
   "outputs": [],
   "source": [
    "pip install pymongo"
   ]
  },
  {
   "cell_type": "code",
   "execution_count": 2,
   "id": "ae439750",
   "metadata": {},
   "outputs": [
    {
     "name": "stdout",
     "output_type": "stream",
     "text": [
      "welcome to pymongo\n",
      "MongoClient(host=['localhost:27017'], document_class=dict, tz_aware=False, connect=True)\n",
      "{'_id': ObjectId('6433cc9d59559257b8480a06'), 'Name': 'Payal_Nagpal', 'Date': '2023-04-07T16:53:21Z', 'Twits': '$TCS.NSE On weekly timeframe, stock is trading between Ema levels giving weak bullish signals. However,Macd is bearish.', 'Signal': 'Null'}\n",
      "{'_id': 2, 'Name': 'Payal_Nagpal', 'Date': '2023-04-07T16:53:21Z', 'Twits': '$TCS.NSE On weekly timeframe, stock is trading between Ema levels giving weak bullish signals. However,Macd is bearish.', 'Signal': 'Null'}\n"
     ]
    }
   ],
   "source": [
    "import pymongo\n",
    "if __name__ == \"__main__\":\n",
    "    print('welcome to pymongo')\n",
    "    client = pymongo.MongoClient('mongodb://localhost:27017')\n",
    "    print(client)\n",
    "    #how to make database\n",
    "    db = client['Abdullah']\n",
    "    #how to make collection in database\n",
    "    collection = db['MySampleCollectionForAbdullah']\n",
    "    # How to find all value from documents\n",
    "    alldocs = collection.find({'Name':'Payal_Nagpal'})\n",
    "    for i in alldocs:\n",
    "        print(i)\n",
    "    "
   ]
  }
 ],
 "metadata": {
  "kernelspec": {
   "display_name": "Python 3 (ipykernel)",
   "language": "python",
   "name": "python3"
  },
  "language_info": {
   "codemirror_mode": {
    "name": "ipython",
    "version": 3
   },
   "file_extension": ".py",
   "mimetype": "text/x-python",
   "name": "python",
   "nbconvert_exporter": "python",
   "pygments_lexer": "ipython3",
   "version": "3.11.2"
  }
 },
 "nbformat": 4,
 "nbformat_minor": 5
}
