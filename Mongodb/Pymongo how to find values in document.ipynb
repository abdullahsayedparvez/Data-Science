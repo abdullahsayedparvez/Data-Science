{
 "cells": [
  {
   "cell_type": "code",
   "execution_count": 1,
   "id": "5e8d2ba4",
   "metadata": {
    "collapsed": true
   },
   "outputs": [
    {
     "name": "stdout",
     "output_type": "stream",
     "text": [
      "Collecting pymongo\n",
      "  Downloading pymongo-4.3.3-cp311-cp311-win_amd64.whl (382 kB)\n",
      "     -------------------------------------- 382.5/382.5 kB 1.7 MB/s eta 0:00:00\n",
      "Collecting dnspython<3.0.0,>=1.16.0\n",
      "  Downloading dnspython-2.3.0-py3-none-any.whl (283 kB)\n",
      "     -------------------------------------- 283.7/283.7 kB 1.8 MB/s eta 0:00:00\n",
      "Installing collected packages: dnspython, pymongo\n",
      "Successfully installed dnspython-2.3.0 pymongo-4.3.3\n",
      "Note: you may need to restart the kernel to use updated packages.\n"
     ]
    },
    {
     "name": "stderr",
     "output_type": "stream",
     "text": [
      "\n",
      "[notice] A new release of pip available: 22.3.1 -> 23.0.1\n",
      "[notice] To update, run: python.exe -m pip install --upgrade pip\n"
     ]
    }
   ],
   "source": [
    "pip install pymongo"
   ]
  },
  {
   "cell_type": "code",
   "execution_count": 12,
   "id": "525fea3d",
   "metadata": {},
   "outputs": [
    {
     "name": "stdout",
     "output_type": "stream",
     "text": [
      "welcome to pymongo\n",
      "MongoClient(host=['localhost:27017'], document_class=dict, tz_aware=False, connect=True)\n",
      "{'_id': ObjectId('6433cc9d59559257b8480a06'), 'Name': 'Payal_Nagpal', 'Date': '2023-04-07T16:53:21Z', 'Twits': '$TCS.NSE On weekly timeframe, stock is trading between Ema levels giving weak bullish signals. However,Macd is bearish.', 'Signal': 'Null'}\n"
     ]
    }
   ],
   "source": [
    "import pymongo\n",
    "if __name__ == \"__main__\":\n",
    "    print('welcome to pymongo')\n",
    "    client = pymongo.MongoClient('mongodb://localhost:27017')\n",
    "    print(client)\n",
    "    #how to make database\n",
    "    db = client['Abdullah']\n",
    "    #how to make collection in database\n",
    "    collection = db['MySampleCollectionForAbdullah']\n",
    "    # how to find values in document\n",
    "    one = collection.find_one({'Name':'Payal_Nagpal'})\n",
    "    print(one)\n",
    "    alldocs = collection.find({'Name','Payal_Nagpal'})"
   ]
  }
 ],
 "metadata": {
  "kernelspec": {
   "display_name": "Python 3 (ipykernel)",
   "language": "python",
   "name": "python3"
  },
  "language_info": {
   "codemirror_mode": {
    "name": "ipython",
    "version": 3
   },
   "file_extension": ".py",
   "mimetype": "text/x-python",
   "name": "python",
   "nbconvert_exporter": "python",
   "pygments_lexer": "ipython3",
   "version": "3.11.2"
  }
 },
 "nbformat": 4,
 "nbformat_minor": 5
}
