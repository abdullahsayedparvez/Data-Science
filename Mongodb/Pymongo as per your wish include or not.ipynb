{
 "cells": [
  {
   "cell_type": "code",
   "execution_count": null,
   "id": "0ab7a1c7",
   "metadata": {},
   "outputs": [],
   "source": [
    "pip install pymongo"
   ]
  },
  {
   "cell_type": "code",
   "execution_count": 2,
   "id": "cb31a358",
   "metadata": {},
   "outputs": [
    {
     "name": "stdout",
     "output_type": "stream",
     "text": [
      "welcome to pymongo\n",
      "MongoClient(host=['localhost:27017'], document_class=dict, tz_aware=False, connect=True)\n",
      "{'Name': 'Payal_Nagpal'}\n",
      "{'Name': 'Payal_Nagpal'}\n"
     ]
    }
   ],
   "source": [
    "import pymongo\n",
    "if __name__ == \"__main__\":\n",
    "    print('welcome to pymongo')\n",
    "    client = pymongo.MongoClient('mongodb://localhost:27017')\n",
    "    print(client)\n",
    "    #how to make database\n",
    "    db = client['Abdullah']\n",
    "    #how to make collection in database\n",
    "    collection = db['MySampleCollectionForAbdullah']\n",
    "    # How to find all value from documents\n",
    "    alldocs = collection.find({'Name':'Payal_Nagpal'},{'Name':1,'_id':0})  # 1 == include  and 0 == exclude\n",
    "    for i in alldocs:\n",
    "        print(i)"
   ]
  }
 ],
 "metadata": {
  "kernelspec": {
   "display_name": "Python 3 (ipykernel)",
   "language": "python",
   "name": "python3"
  },
  "language_info": {
   "codemirror_mode": {
    "name": "ipython",
    "version": 3
   },
   "file_extension": ".py",
   "mimetype": "text/x-python",
   "name": "python",
   "nbconvert_exporter": "python",
   "pygments_lexer": "ipython3",
   "version": "3.11.2"
  }
 },
 "nbformat": 4,
 "nbformat_minor": 5
}
