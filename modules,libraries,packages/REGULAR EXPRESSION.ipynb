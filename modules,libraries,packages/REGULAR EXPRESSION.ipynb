{
 "cells": [
  {
   "cell_type": "markdown",
   "id": "6b5a3ace",
   "metadata": {},
   "source": [
    "# REGULAR EXPRESSION"
   ]
  },
  {
   "cell_type": "code",
   "execution_count": 25,
   "id": "958d9f56",
   "metadata": {},
   "outputs": [],
   "source": [
    "import re"
   ]
  },
  {
   "cell_type": "code",
   "execution_count": 73,
   "id": "beee6ba3",
   "metadata": {},
   "outputs": [],
   "source": [
    "mystr = '''Tata Limited \n",
    "Dr. Dravid Landsman executive director\n",
    "18, Grosvenor Place\n",
    "London SW1X 7HSc\n",
    "Phone : +44(20) 7235 8281\n",
    "Fax: +44 (20) 7235 8781\n",
    "Email: tata@tata.co.uk\n",
    "Website: www.europe.tata.com\n",
    "Direction: View map\n",
    "\n",
    "Tata Sons, North America\n",
    "1700 North Moore St, Suite 1520\n",
    "Arlington, VA 22209-1911\n",
    "USA\n",
    "Phone: +1(703) 243 9787\n",
    "Fax: +1 (703) 243 9791\n",
    "66-66\n",
    "455-4545\n",
    "Email: northamerica@tata.com\n",
    "Website: www.northamerica.tata.com\n",
    "Direction: View map fass\n",
    "harry bhai lekin\n",
    "bahut hi badia aadmi haiainaiiiiii'''"
   ]
  },
  {
   "cell_type": "code",
   "execution_count": 28,
   "id": "668fb36d",
   "metadata": {},
   "outputs": [],
   "source": [
    "# findall , search , slip , sub , finditer"
   ]
  },
  {
   "cell_type": "markdown",
   "id": "6be1a711",
   "metadata": {},
   "source": [
    "# finditer"
   ]
  },
  {
   "cell_type": "code",
   "execution_count": 29,
   "id": "5728ee8c",
   "metadata": {
    "collapsed": true
   },
   "outputs": [
    {
     "name": "stdout",
     "output_type": "stream",
     "text": [
      "\n",
      "\n"
     ]
    }
   ],
   "source": [
    "print('\\n')"
   ]
  },
  {
   "cell_type": "code",
   "execution_count": 31,
   "id": "7f27ab0c",
   "metadata": {},
   "outputs": [
    {
     "name": "stdout",
     "output_type": "stream",
     "text": [
      "\\n\n"
     ]
    }
   ],
   "source": [
    "print(r'\\n')      # raw string"
   ]
  },
  {
   "cell_type": "code",
   "execution_count": 53,
   "id": "79309549",
   "metadata": {},
   "outputs": [
    {
     "name": "stdout",
     "output_type": "stream",
     "text": [
      "<re.Match object; span=(445, 449), match='fass'>\n",
      "fass\n"
     ]
    }
   ],
   "source": [
    "pattern = re.compile(r'fass')\n",
    "matches  = pattern.finditer(mystr)\n",
    "for match in matches :\n",
    "    print(match)\n",
    "    print(mystr[445:449])\n"
   ]
  },
  {
   "cell_type": "markdown",
   "id": "3ec1a2ac",
   "metadata": {},
   "source": [
    "# . means any characters"
   ]
  },
  {
   "cell_type": "code",
   "execution_count": 55,
   "id": "545c4f4f",
   "metadata": {},
   "outputs": [
    {
     "name": "stdout",
     "output_type": "stream",
     "text": [
      "<re.Match object; span=(482, 486), match='aadm'>\n",
      "aadm\n"
     ]
    }
   ],
   "source": [
    "pattern1 = re.compile(r'.adm')\n",
    "matches1  = pattern1.finditer(mystr)\n",
    "for match1 in matches1 :\n",
    "    print(match1)\n",
    "print(mystr[482:486])\n"
   ]
  },
  {
   "cell_type": "markdown",
   "id": "232f6115",
   "metadata": {},
   "source": [
    "# string starts with_________#________ symbol '^'"
   ]
  },
  {
   "cell_type": "code",
   "execution_count": 59,
   "id": "d4a8634f",
   "metadata": {},
   "outputs": [
    {
     "name": "stdout",
     "output_type": "stream",
     "text": [
      "<re.Match object; span=(0, 4), match='Tata'>\n"
     ]
    }
   ],
   "source": [
    "pattern2 = re.compile(r'^Tata')\n",
    "matches2  = pattern2.finditer(mystr)\n",
    "for match2 in matches2 :\n",
    "    print(match2)"
   ]
  },
  {
   "cell_type": "markdown",
   "id": "b61640a5",
   "metadata": {},
   "source": [
    "# string ends with_________#____ symbol '$'"
   ]
  },
  {
   "cell_type": "code",
   "execution_count": 71,
   "id": "5139a384",
   "metadata": {},
   "outputs": [],
   "source": [
    "pattern3 = re.compile(r'inn$')\n",
    "matches3  = pattern3.finditer(mystr)\n",
    "for match_3 in matches3 :\n",
    "    print(match_3)"
   ]
  },
  {
   "cell_type": "markdown",
   "id": "7f5907dc",
   "metadata": {},
   "source": [
    "# '*' symbol"
   ]
  },
  {
   "cell_type": "code",
   "execution_count": 76,
   "id": "ba8fadfc",
   "metadata": {
    "collapsed": true
   },
   "outputs": [
    {
     "name": "stdout",
     "output_type": "stream",
     "text": [
      "<re.Match object; span=(1, 2), match='a'>\n",
      "<re.Match object; span=(3, 4), match='a'>\n",
      "<re.Match object; span=(20, 21), match='a'>\n",
      "<re.Match object; span=(26, 27), match='a'>\n",
      "<re.Match object; span=(31, 32), match='a'>\n",
      "<re.Match object; span=(69, 70), match='a'>\n",
      "<re.Match object; span=(117, 118), match='a'>\n",
      "<re.Match object; span=(142, 144), match='ai'>\n",
      "<re.Match object; span=(148, 149), match='a'>\n",
      "<re.Match object; span=(150, 151), match='a'>\n",
      "<re.Match object; span=(153, 154), match='a'>\n",
      "<re.Match object; span=(155, 156), match='a'>\n",
      "<re.Match object; span=(184, 185), match='a'>\n",
      "<re.Match object; span=(186, 187), match='a'>\n",
      "<re.Match object; span=(209, 210), match='a'>\n",
      "<re.Match object; span=(214, 215), match='a'>\n",
      "<re.Match object; span=(216, 217), match='a'>\n",
      "<re.Match object; span=(236, 237), match='a'>\n",
      "<re.Match object; span=(324, 325), match='a'>\n",
      "<re.Match object; span=(363, 365), match='ai'>\n",
      "<re.Match object; span=(373, 374), match='a'>\n",
      "<re.Match object; span=(379, 380), match='a'>\n",
      "<re.Match object; span=(382, 383), match='a'>\n",
      "<re.Match object; span=(384, 385), match='a'>\n",
      "<re.Match object; span=(408, 409), match='a'>\n",
      "<re.Match object; span=(414, 415), match='a'>\n",
      "<re.Match object; span=(417, 418), match='a'>\n",
      "<re.Match object; span=(419, 420), match='a'>\n",
      "<re.Match object; span=(442, 443), match='a'>\n",
      "<re.Match object; span=(446, 447), match='a'>\n",
      "<re.Match object; span=(451, 452), match='a'>\n",
      "<re.Match object; span=(458, 460), match='ai'>\n",
      "<re.Match object; span=(468, 469), match='a'>\n",
      "<re.Match object; span=(477, 478), match='a'>\n",
      "<re.Match object; span=(480, 481), match='a'>\n",
      "<re.Match object; span=(482, 483), match='a'>\n",
      "<re.Match object; span=(483, 484), match='a'>\n",
      "<re.Match object; span=(489, 491), match='ai'>\n",
      "<re.Match object; span=(491, 493), match='ai'>\n",
      "<re.Match object; span=(494, 501), match='aiiiiii'>\n"
     ]
    }
   ],
   "source": [
    "pattern_4 = re.compile(r'ai*')                 # a= 0 and i = kitne bhi     ya a = kitne bhi and i = 0\n",
    "matches_4 = pattern_4.finditer(mystr)\n",
    "for match_4 in matches_4:\n",
    "    print(match_4)"
   ]
  },
  {
   "cell_type": "code",
   "execution_count": 75,
   "id": "089d7da2",
   "metadata": {},
   "outputs": [
    {
     "name": "stdout",
     "output_type": "stream",
     "text": [
      "<re.Match object; span=(0, 0), match=''>\n",
      "<re.Match object; span=(1, 2), match='a'>\n",
      "<re.Match object; span=(2, 2), match=''>\n",
      "<re.Match object; span=(3, 4), match='a'>\n",
      "<re.Match object; span=(4, 4), match=''>\n",
      "<re.Match object; span=(5, 5), match=''>\n",
      "<re.Match object; span=(6, 7), match='i'>\n",
      "<re.Match object; span=(7, 7), match=''>\n",
      "<re.Match object; span=(8, 9), match='i'>\n",
      "<re.Match object; span=(9, 9), match=''>\n",
      "<re.Match object; span=(10, 10), match=''>\n",
      "<re.Match object; span=(11, 11), match=''>\n",
      "<re.Match object; span=(12, 12), match=''>\n",
      "<re.Match object; span=(13, 13), match=''>\n",
      "<re.Match object; span=(14, 14), match=''>\n",
      "<re.Match object; span=(15, 15), match=''>\n",
      "<re.Match object; span=(16, 16), match=''>\n",
      "<re.Match object; span=(17, 17), match=''>\n",
      "<re.Match object; span=(18, 18), match=''>\n",
      "<re.Match object; span=(19, 19), match=''>\n",
      "<re.Match object; span=(20, 21), match='a'>\n",
      "<re.Match object; span=(21, 21), match=''>\n",
      "<re.Match object; span=(22, 23), match='i'>\n",
      "<re.Match object; span=(23, 23), match=''>\n",
      "<re.Match object; span=(24, 24), match=''>\n",
      "<re.Match object; span=(25, 25), match=''>\n",
      "<re.Match object; span=(26, 27), match='a'>\n",
      "<re.Match object; span=(27, 27), match=''>\n",
      "<re.Match object; span=(28, 28), match=''>\n",
      "<re.Match object; span=(29, 29), match=''>\n",
      "<re.Match object; span=(30, 30), match=''>\n",
      "<re.Match object; span=(31, 32), match='a'>\n",
      "<re.Match object; span=(32, 32), match=''>\n",
      "<re.Match object; span=(33, 33), match=''>\n",
      "<re.Match object; span=(34, 34), match=''>\n",
      "<re.Match object; span=(35, 35), match=''>\n",
      "<re.Match object; span=(36, 36), match=''>\n",
      "<re.Match object; span=(37, 37), match=''>\n",
      "<re.Match object; span=(38, 38), match=''>\n",
      "<re.Match object; span=(39, 39), match=''>\n",
      "<re.Match object; span=(40, 41), match='i'>\n",
      "<re.Match object; span=(41, 41), match=''>\n",
      "<re.Match object; span=(42, 42), match=''>\n",
      "<re.Match object; span=(43, 43), match=''>\n",
      "<re.Match object; span=(44, 44), match=''>\n",
      "<re.Match object; span=(45, 46), match='i'>\n",
      "<re.Match object; span=(46, 46), match=''>\n",
      "<re.Match object; span=(47, 47), match=''>\n",
      "<re.Match object; span=(48, 48), match=''>\n",
      "<re.Match object; span=(49, 49), match=''>\n",
      "<re.Match object; span=(50, 50), match=''>\n",
      "<re.Match object; span=(51, 51), match=''>\n",
      "<re.Match object; span=(52, 52), match=''>\n",
      "<re.Match object; span=(53, 53), match=''>\n",
      "<re.Match object; span=(54, 54), match=''>\n",
      "<re.Match object; span=(55, 55), match=''>\n",
      "<re.Match object; span=(56, 56), match=''>\n",
      "<re.Match object; span=(57, 57), match=''>\n",
      "<re.Match object; span=(58, 58), match=''>\n",
      "<re.Match object; span=(59, 59), match=''>\n",
      "<re.Match object; span=(60, 60), match=''>\n",
      "<re.Match object; span=(61, 61), match=''>\n",
      "<re.Match object; span=(62, 62), match=''>\n",
      "<re.Match object; span=(63, 63), match=''>\n",
      "<re.Match object; span=(64, 64), match=''>\n",
      "<re.Match object; span=(65, 65), match=''>\n",
      "<re.Match object; span=(66, 66), match=''>\n",
      "<re.Match object; span=(67, 67), match=''>\n",
      "<re.Match object; span=(68, 68), match=''>\n",
      "<re.Match object; span=(69, 70), match='a'>\n",
      "<re.Match object; span=(70, 70), match=''>\n",
      "<re.Match object; span=(71, 71), match=''>\n",
      "<re.Match object; span=(72, 72), match=''>\n",
      "<re.Match object; span=(73, 73), match=''>\n",
      "<re.Match object; span=(74, 74), match=''>\n",
      "<re.Match object; span=(75, 75), match=''>\n",
      "<re.Match object; span=(76, 76), match=''>\n",
      "<re.Match object; span=(77, 77), match=''>\n",
      "<re.Match object; span=(78, 78), match=''>\n",
      "<re.Match object; span=(79, 79), match=''>\n",
      "<re.Match object; span=(80, 80), match=''>\n",
      "<re.Match object; span=(81, 81), match=''>\n",
      "<re.Match object; span=(82, 82), match=''>\n",
      "<re.Match object; span=(83, 83), match=''>\n",
      "<re.Match object; span=(84, 84), match=''>\n",
      "<re.Match object; span=(85, 85), match=''>\n",
      "<re.Match object; span=(86, 86), match=''>\n",
      "<re.Match object; span=(87, 87), match=''>\n",
      "<re.Match object; span=(88, 88), match=''>\n",
      "<re.Match object; span=(89, 89), match=''>\n",
      "<re.Match object; span=(90, 90), match=''>\n",
      "<re.Match object; span=(91, 91), match=''>\n",
      "<re.Match object; span=(92, 92), match=''>\n",
      "<re.Match object; span=(93, 93), match=''>\n",
      "<re.Match object; span=(94, 94), match=''>\n",
      "<re.Match object; span=(95, 95), match=''>\n",
      "<re.Match object; span=(96, 96), match=''>\n",
      "<re.Match object; span=(97, 97), match=''>\n",
      "<re.Match object; span=(98, 98), match=''>\n",
      "<re.Match object; span=(99, 99), match=''>\n",
      "<re.Match object; span=(100, 100), match=''>\n",
      "<re.Match object; span=(101, 101), match=''>\n",
      "<re.Match object; span=(102, 102), match=''>\n",
      "<re.Match object; span=(103, 103), match=''>\n",
      "<re.Match object; span=(104, 104), match=''>\n",
      "<re.Match object; span=(105, 105), match=''>\n",
      "<re.Match object; span=(106, 106), match=''>\n",
      "<re.Match object; span=(107, 107), match=''>\n",
      "<re.Match object; span=(108, 108), match=''>\n",
      "<re.Match object; span=(109, 109), match=''>\n",
      "<re.Match object; span=(110, 110), match=''>\n",
      "<re.Match object; span=(111, 111), match=''>\n",
      "<re.Match object; span=(112, 112), match=''>\n",
      "<re.Match object; span=(113, 113), match=''>\n",
      "<re.Match object; span=(114, 114), match=''>\n",
      "<re.Match object; span=(115, 115), match=''>\n",
      "<re.Match object; span=(116, 116), match=''>\n",
      "<re.Match object; span=(117, 118), match='a'>\n",
      "<re.Match object; span=(118, 118), match=''>\n",
      "<re.Match object; span=(119, 119), match=''>\n",
      "<re.Match object; span=(120, 120), match=''>\n",
      "<re.Match object; span=(121, 121), match=''>\n",
      "<re.Match object; span=(122, 122), match=''>\n",
      "<re.Match object; span=(123, 123), match=''>\n",
      "<re.Match object; span=(124, 124), match=''>\n",
      "<re.Match object; span=(125, 125), match=''>\n",
      "<re.Match object; span=(126, 126), match=''>\n",
      "<re.Match object; span=(127, 127), match=''>\n",
      "<re.Match object; span=(128, 128), match=''>\n",
      "<re.Match object; span=(129, 129), match=''>\n",
      "<re.Match object; span=(130, 130), match=''>\n",
      "<re.Match object; span=(131, 131), match=''>\n",
      "<re.Match object; span=(132, 132), match=''>\n",
      "<re.Match object; span=(133, 133), match=''>\n",
      "<re.Match object; span=(134, 134), match=''>\n",
      "<re.Match object; span=(135, 135), match=''>\n",
      "<re.Match object; span=(136, 136), match=''>\n",
      "<re.Match object; span=(137, 137), match=''>\n",
      "<re.Match object; span=(138, 138), match=''>\n",
      "<re.Match object; span=(139, 139), match=''>\n",
      "<re.Match object; span=(140, 140), match=''>\n",
      "<re.Match object; span=(141, 141), match=''>\n",
      "<re.Match object; span=(142, 144), match='ai'>\n",
      "<re.Match object; span=(144, 144), match=''>\n",
      "<re.Match object; span=(145, 145), match=''>\n",
      "<re.Match object; span=(146, 146), match=''>\n",
      "<re.Match object; span=(147, 147), match=''>\n",
      "<re.Match object; span=(148, 149), match='a'>\n",
      "<re.Match object; span=(149, 149), match=''>\n",
      "<re.Match object; span=(150, 151), match='a'>\n",
      "<re.Match object; span=(151, 151), match=''>\n",
      "<re.Match object; span=(152, 152), match=''>\n",
      "<re.Match object; span=(153, 154), match='a'>\n",
      "<re.Match object; span=(154, 154), match=''>\n",
      "<re.Match object; span=(155, 156), match='a'>\n",
      "<re.Match object; span=(156, 156), match=''>\n",
      "<re.Match object; span=(157, 157), match=''>\n",
      "<re.Match object; span=(158, 158), match=''>\n",
      "<re.Match object; span=(159, 159), match=''>\n",
      "<re.Match object; span=(160, 160), match=''>\n",
      "<re.Match object; span=(161, 161), match=''>\n",
      "<re.Match object; span=(162, 162), match=''>\n",
      "<re.Match object; span=(163, 163), match=''>\n",
      "<re.Match object; span=(164, 164), match=''>\n",
      "<re.Match object; span=(165, 165), match=''>\n",
      "<re.Match object; span=(166, 166), match=''>\n",
      "<re.Match object; span=(167, 168), match='i'>\n",
      "<re.Match object; span=(168, 168), match=''>\n",
      "<re.Match object; span=(169, 169), match=''>\n",
      "<re.Match object; span=(170, 170), match=''>\n",
      "<re.Match object; span=(171, 171), match=''>\n",
      "<re.Match object; span=(172, 172), match=''>\n",
      "<re.Match object; span=(173, 173), match=''>\n",
      "<re.Match object; span=(174, 174), match=''>\n",
      "<re.Match object; span=(175, 175), match=''>\n",
      "<re.Match object; span=(176, 176), match=''>\n",
      "<re.Match object; span=(177, 177), match=''>\n",
      "<re.Match object; span=(178, 178), match=''>\n",
      "<re.Match object; span=(179, 179), match=''>\n",
      "<re.Match object; span=(180, 180), match=''>\n",
      "<re.Match object; span=(181, 181), match=''>\n",
      "<re.Match object; span=(182, 182), match=''>\n",
      "<re.Match object; span=(183, 183), match=''>\n",
      "<re.Match object; span=(184, 185), match='a'>\n",
      "<re.Match object; span=(185, 185), match=''>\n",
      "<re.Match object; span=(186, 187), match='a'>\n",
      "<re.Match object; span=(187, 187), match=''>\n",
      "<re.Match object; span=(188, 188), match=''>\n",
      "<re.Match object; span=(189, 189), match=''>\n",
      "<re.Match object; span=(190, 190), match=''>\n",
      "<re.Match object; span=(191, 191), match=''>\n",
      "<re.Match object; span=(192, 192), match=''>\n",
      "<re.Match object; span=(193, 194), match='i'>\n",
      "<re.Match object; span=(194, 194), match=''>\n",
      "<re.Match object; span=(195, 195), match=''>\n",
      "<re.Match object; span=(196, 196), match=''>\n",
      "<re.Match object; span=(197, 197), match=''>\n",
      "<re.Match object; span=(198, 199), match='i'>\n",
      "<re.Match object; span=(199, 199), match=''>\n",
      "<re.Match object; span=(200, 200), match=''>\n",
      "<re.Match object; span=(201, 201), match=''>\n",
      "<re.Match object; span=(202, 202), match=''>\n",
      "<re.Match object; span=(203, 203), match=''>\n",
      "<re.Match object; span=(204, 205), match='i'>\n",
      "<re.Match object; span=(205, 205), match=''>\n",
      "<re.Match object; span=(206, 206), match=''>\n",
      "<re.Match object; span=(207, 207), match=''>\n",
      "<re.Match object; span=(208, 208), match=''>\n",
      "<re.Match object; span=(209, 210), match='a'>\n",
      "<re.Match object; span=(210, 210), match=''>\n",
      "<re.Match object; span=(211, 211), match=''>\n",
      "<re.Match object; span=(212, 212), match=''>\n",
      "<re.Match object; span=(213, 213), match=''>\n",
      "<re.Match object; span=(214, 215), match='a'>\n",
      "<re.Match object; span=(215, 215), match=''>\n",
      "<re.Match object; span=(216, 217), match='a'>\n",
      "<re.Match object; span=(217, 217), match=''>\n",
      "<re.Match object; span=(218, 218), match=''>\n",
      "<re.Match object; span=(219, 219), match=''>\n",
      "<re.Match object; span=(220, 220), match=''>\n",
      "<re.Match object; span=(221, 221), match=''>\n",
      "<re.Match object; span=(222, 222), match=''>\n",
      "<re.Match object; span=(223, 223), match=''>\n",
      "<re.Match object; span=(224, 224), match=''>\n",
      "<re.Match object; span=(225, 225), match=''>\n",
      "<re.Match object; span=(226, 226), match=''>\n",
      "<re.Match object; span=(227, 227), match=''>\n",
      "<re.Match object; span=(228, 228), match=''>\n",
      "<re.Match object; span=(229, 229), match=''>\n",
      "<re.Match object; span=(230, 230), match=''>\n",
      "<re.Match object; span=(231, 231), match=''>\n",
      "<re.Match object; span=(232, 232), match=''>\n",
      "<re.Match object; span=(233, 233), match=''>\n",
      "<re.Match object; span=(234, 235), match='i'>\n",
      "<re.Match object; span=(235, 235), match=''>\n",
      "<re.Match object; span=(236, 237), match='a'>\n",
      "<re.Match object; span=(237, 237), match=''>\n",
      "<re.Match object; span=(238, 238), match=''>\n",
      "<re.Match object; span=(239, 239), match=''>\n",
      "<re.Match object; span=(240, 240), match=''>\n",
      "<re.Match object; span=(241, 241), match=''>\n",
      "<re.Match object; span=(242, 242), match=''>\n",
      "<re.Match object; span=(243, 243), match=''>\n",
      "<re.Match object; span=(244, 244), match=''>\n",
      "<re.Match object; span=(245, 245), match=''>\n",
      "<re.Match object; span=(246, 246), match=''>\n",
      "<re.Match object; span=(247, 247), match=''>\n",
      "<re.Match object; span=(248, 248), match=''>\n",
      "<re.Match object; span=(249, 249), match=''>\n",
      "<re.Match object; span=(250, 250), match=''>\n",
      "<re.Match object; span=(251, 251), match=''>\n",
      "<re.Match object; span=(252, 252), match=''>\n",
      "<re.Match object; span=(253, 253), match=''>\n",
      "<re.Match object; span=(254, 254), match=''>\n",
      "<re.Match object; span=(255, 255), match=''>\n",
      "<re.Match object; span=(256, 256), match=''>\n",
      "<re.Match object; span=(257, 257), match=''>\n",
      "<re.Match object; span=(258, 258), match=''>\n",
      "<re.Match object; span=(259, 259), match=''>\n",
      "<re.Match object; span=(260, 260), match=''>\n",
      "<re.Match object; span=(261, 262), match='i'>\n",
      "<re.Match object; span=(262, 262), match=''>\n",
      "<re.Match object; span=(263, 263), match=''>\n",
      "<re.Match object; span=(264, 264), match=''>\n",
      "<re.Match object; span=(265, 265), match=''>\n",
      "<re.Match object; span=(266, 266), match=''>\n",
      "<re.Match object; span=(267, 267), match=''>\n",
      "<re.Match object; span=(268, 268), match=''>\n",
      "<re.Match object; span=(269, 269), match=''>\n",
      "<re.Match object; span=(270, 270), match=''>\n",
      "<re.Match object; span=(271, 271), match=''>\n",
      "<re.Match object; span=(272, 272), match=''>\n",
      "<re.Match object; span=(273, 274), match='i'>\n",
      "<re.Match object; span=(274, 274), match=''>\n",
      "<re.Match object; span=(275, 275), match=''>\n",
      "<re.Match object; span=(276, 276), match=''>\n",
      "<re.Match object; span=(277, 277), match=''>\n",
      "<re.Match object; span=(278, 278), match=''>\n",
      "<re.Match object; span=(279, 279), match=''>\n",
      "<re.Match object; span=(280, 280), match=''>\n",
      "<re.Match object; span=(281, 281), match=''>\n",
      "<re.Match object; span=(282, 282), match=''>\n",
      "<re.Match object; span=(283, 283), match=''>\n",
      "<re.Match object; span=(284, 284), match=''>\n",
      "<re.Match object; span=(285, 285), match=''>\n",
      "<re.Match object; span=(286, 286), match=''>\n",
      "<re.Match object; span=(287, 287), match=''>\n",
      "<re.Match object; span=(288, 288), match=''>\n",
      "<re.Match object; span=(289, 289), match=''>\n",
      "<re.Match object; span=(290, 290), match=''>\n",
      "<re.Match object; span=(291, 291), match=''>\n",
      "<re.Match object; span=(292, 292), match=''>\n",
      "<re.Match object; span=(293, 293), match=''>\n",
      "<re.Match object; span=(294, 294), match=''>\n",
      "<re.Match object; span=(295, 295), match=''>\n",
      "<re.Match object; span=(296, 296), match=''>\n",
      "<re.Match object; span=(297, 297), match=''>\n",
      "<re.Match object; span=(298, 298), match=''>\n",
      "<re.Match object; span=(299, 299), match=''>\n",
      "<re.Match object; span=(300, 300), match=''>\n",
      "<re.Match object; span=(301, 301), match=''>\n",
      "<re.Match object; span=(302, 302), match=''>\n",
      "<re.Match object; span=(303, 303), match=''>\n",
      "<re.Match object; span=(304, 304), match=''>\n",
      "<re.Match object; span=(305, 305), match=''>\n",
      "<re.Match object; span=(306, 306), match=''>\n",
      "<re.Match object; span=(307, 307), match=''>\n",
      "<re.Match object; span=(308, 308), match=''>\n",
      "<re.Match object; span=(309, 309), match=''>\n",
      "<re.Match object; span=(310, 310), match=''>\n",
      "<re.Match object; span=(311, 311), match=''>\n",
      "<re.Match object; span=(312, 312), match=''>\n",
      "<re.Match object; span=(313, 313), match=''>\n",
      "<re.Match object; span=(314, 314), match=''>\n",
      "<re.Match object; span=(315, 315), match=''>\n",
      "<re.Match object; span=(316, 316), match=''>\n",
      "<re.Match object; span=(317, 317), match=''>\n",
      "<re.Match object; span=(318, 318), match=''>\n",
      "<re.Match object; span=(319, 319), match=''>\n",
      "<re.Match object; span=(320, 320), match=''>\n",
      "<re.Match object; span=(321, 321), match=''>\n",
      "<re.Match object; span=(322, 322), match=''>\n",
      "<re.Match object; span=(323, 323), match=''>\n",
      "<re.Match object; span=(324, 325), match='a'>\n",
      "<re.Match object; span=(325, 325), match=''>\n",
      "<re.Match object; span=(326, 326), match=''>\n",
      "<re.Match object; span=(327, 327), match=''>\n",
      "<re.Match object; span=(328, 328), match=''>\n",
      "<re.Match object; span=(329, 329), match=''>\n",
      "<re.Match object; span=(330, 330), match=''>\n",
      "<re.Match object; span=(331, 331), match=''>\n",
      "<re.Match object; span=(332, 332), match=''>\n",
      "<re.Match object; span=(333, 333), match=''>\n",
      "<re.Match object; span=(334, 334), match=''>\n",
      "<re.Match object; span=(335, 335), match=''>\n",
      "<re.Match object; span=(336, 336), match=''>\n",
      "<re.Match object; span=(337, 337), match=''>\n",
      "<re.Match object; span=(338, 338), match=''>\n",
      "<re.Match object; span=(339, 339), match=''>\n",
      "<re.Match object; span=(340, 340), match=''>\n",
      "<re.Match object; span=(341, 341), match=''>\n",
      "<re.Match object; span=(342, 342), match=''>\n",
      "<re.Match object; span=(343, 343), match=''>\n",
      "<re.Match object; span=(344, 344), match=''>\n",
      "<re.Match object; span=(345, 345), match=''>\n",
      "<re.Match object; span=(346, 346), match=''>\n",
      "<re.Match object; span=(347, 347), match=''>\n",
      "<re.Match object; span=(348, 348), match=''>\n",
      "<re.Match object; span=(349, 349), match=''>\n",
      "<re.Match object; span=(350, 350), match=''>\n",
      "<re.Match object; span=(351, 351), match=''>\n",
      "<re.Match object; span=(352, 352), match=''>\n",
      "<re.Match object; span=(353, 353), match=''>\n",
      "<re.Match object; span=(354, 354), match=''>\n",
      "<re.Match object; span=(355, 355), match=''>\n",
      "<re.Match object; span=(356, 356), match=''>\n",
      "<re.Match object; span=(357, 357), match=''>\n",
      "<re.Match object; span=(358, 358), match=''>\n",
      "<re.Match object; span=(359, 359), match=''>\n",
      "<re.Match object; span=(360, 360), match=''>\n",
      "<re.Match object; span=(361, 361), match=''>\n",
      "<re.Match object; span=(362, 362), match=''>\n",
      "<re.Match object; span=(363, 365), match='ai'>\n",
      "<re.Match object; span=(365, 365), match=''>\n",
      "<re.Match object; span=(366, 366), match=''>\n",
      "<re.Match object; span=(367, 367), match=''>\n",
      "<re.Match object; span=(368, 368), match=''>\n",
      "<re.Match object; span=(369, 369), match=''>\n",
      "<re.Match object; span=(370, 370), match=''>\n",
      "<re.Match object; span=(371, 371), match=''>\n",
      "<re.Match object; span=(372, 372), match=''>\n",
      "<re.Match object; span=(373, 374), match='a'>\n",
      "<re.Match object; span=(374, 374), match=''>\n",
      "<re.Match object; span=(375, 375), match=''>\n",
      "<re.Match object; span=(376, 376), match=''>\n",
      "<re.Match object; span=(377, 378), match='i'>\n",
      "<re.Match object; span=(378, 378), match=''>\n",
      "<re.Match object; span=(379, 380), match='a'>\n",
      "<re.Match object; span=(380, 380), match=''>\n",
      "<re.Match object; span=(381, 381), match=''>\n",
      "<re.Match object; span=(382, 383), match='a'>\n"
     ]
    },
    {
     "name": "stdout",
     "output_type": "stream",
     "text": [
      "<re.Match object; span=(383, 383), match=''>\n",
      "<re.Match object; span=(384, 385), match='a'>\n",
      "<re.Match object; span=(385, 385), match=''>\n",
      "<re.Match object; span=(386, 386), match=''>\n",
      "<re.Match object; span=(387, 387), match=''>\n",
      "<re.Match object; span=(388, 388), match=''>\n",
      "<re.Match object; span=(389, 389), match=''>\n",
      "<re.Match object; span=(390, 390), match=''>\n",
      "<re.Match object; span=(391, 391), match=''>\n",
      "<re.Match object; span=(392, 392), match=''>\n",
      "<re.Match object; span=(393, 393), match=''>\n",
      "<re.Match object; span=(394, 395), match='i'>\n",
      "<re.Match object; span=(395, 395), match=''>\n",
      "<re.Match object; span=(396, 396), match=''>\n",
      "<re.Match object; span=(397, 397), match=''>\n",
      "<re.Match object; span=(398, 398), match=''>\n",
      "<re.Match object; span=(399, 399), match=''>\n",
      "<re.Match object; span=(400, 400), match=''>\n",
      "<re.Match object; span=(401, 401), match=''>\n",
      "<re.Match object; span=(402, 402), match=''>\n",
      "<re.Match object; span=(403, 403), match=''>\n",
      "<re.Match object; span=(404, 404), match=''>\n",
      "<re.Match object; span=(405, 405), match=''>\n",
      "<re.Match object; span=(406, 406), match=''>\n",
      "<re.Match object; span=(407, 407), match=''>\n",
      "<re.Match object; span=(408, 409), match='a'>\n",
      "<re.Match object; span=(409, 409), match=''>\n",
      "<re.Match object; span=(410, 410), match=''>\n",
      "<re.Match object; span=(411, 411), match=''>\n",
      "<re.Match object; span=(412, 413), match='i'>\n",
      "<re.Match object; span=(413, 413), match=''>\n",
      "<re.Match object; span=(414, 415), match='a'>\n",
      "<re.Match object; span=(415, 415), match=''>\n",
      "<re.Match object; span=(416, 416), match=''>\n",
      "<re.Match object; span=(417, 418), match='a'>\n",
      "<re.Match object; span=(418, 418), match=''>\n",
      "<re.Match object; span=(419, 420), match='a'>\n",
      "<re.Match object; span=(420, 420), match=''>\n",
      "<re.Match object; span=(421, 421), match=''>\n",
      "<re.Match object; span=(422, 422), match=''>\n",
      "<re.Match object; span=(423, 423), match=''>\n",
      "<re.Match object; span=(424, 424), match=''>\n",
      "<re.Match object; span=(425, 425), match=''>\n",
      "<re.Match object; span=(426, 427), match='i'>\n",
      "<re.Match object; span=(427, 427), match=''>\n",
      "<re.Match object; span=(428, 428), match=''>\n",
      "<re.Match object; span=(429, 429), match=''>\n",
      "<re.Match object; span=(430, 430), match=''>\n",
      "<re.Match object; span=(431, 432), match='i'>\n",
      "<re.Match object; span=(432, 432), match=''>\n",
      "<re.Match object; span=(433, 433), match=''>\n",
      "<re.Match object; span=(434, 434), match=''>\n",
      "<re.Match object; span=(435, 435), match=''>\n",
      "<re.Match object; span=(436, 436), match=''>\n",
      "<re.Match object; span=(437, 438), match='i'>\n",
      "<re.Match object; span=(438, 438), match=''>\n",
      "<re.Match object; span=(439, 439), match=''>\n",
      "<re.Match object; span=(440, 440), match=''>\n",
      "<re.Match object; span=(441, 441), match=''>\n",
      "<re.Match object; span=(442, 443), match='a'>\n",
      "<re.Match object; span=(443, 443), match=''>\n",
      "<re.Match object; span=(444, 444), match=''>\n",
      "<re.Match object; span=(445, 445), match=''>\n",
      "<re.Match object; span=(446, 447), match='a'>\n",
      "<re.Match object; span=(447, 447), match=''>\n",
      "<re.Match object; span=(448, 448), match=''>\n",
      "<re.Match object; span=(449, 449), match=''>\n",
      "<re.Match object; span=(450, 450), match=''>\n",
      "<re.Match object; span=(451, 452), match='a'>\n",
      "<re.Match object; span=(452, 452), match=''>\n",
      "<re.Match object; span=(453, 453), match=''>\n",
      "<re.Match object; span=(454, 454), match=''>\n",
      "<re.Match object; span=(455, 455), match=''>\n",
      "<re.Match object; span=(456, 456), match=''>\n",
      "<re.Match object; span=(457, 457), match=''>\n",
      "<re.Match object; span=(458, 460), match='ai'>\n",
      "<re.Match object; span=(460, 460), match=''>\n",
      "<re.Match object; span=(461, 461), match=''>\n",
      "<re.Match object; span=(462, 462), match=''>\n",
      "<re.Match object; span=(463, 463), match=''>\n",
      "<re.Match object; span=(464, 465), match='i'>\n",
      "<re.Match object; span=(465, 465), match=''>\n",
      "<re.Match object; span=(466, 466), match=''>\n",
      "<re.Match object; span=(467, 467), match=''>\n",
      "<re.Match object; span=(468, 469), match='a'>\n",
      "<re.Match object; span=(469, 469), match=''>\n",
      "<re.Match object; span=(470, 470), match=''>\n",
      "<re.Match object; span=(471, 471), match=''>\n",
      "<re.Match object; span=(472, 472), match=''>\n",
      "<re.Match object; span=(473, 473), match=''>\n",
      "<re.Match object; span=(474, 475), match='i'>\n",
      "<re.Match object; span=(475, 475), match=''>\n",
      "<re.Match object; span=(476, 476), match=''>\n",
      "<re.Match object; span=(477, 478), match='a'>\n",
      "<re.Match object; span=(478, 478), match=''>\n",
      "<re.Match object; span=(479, 480), match='i'>\n",
      "<re.Match object; span=(480, 481), match='a'>\n",
      "<re.Match object; span=(481, 481), match=''>\n",
      "<re.Match object; span=(482, 484), match='aa'>\n",
      "<re.Match object; span=(484, 484), match=''>\n",
      "<re.Match object; span=(485, 485), match=''>\n",
      "<re.Match object; span=(486, 487), match='i'>\n",
      "<re.Match object; span=(487, 487), match=''>\n",
      "<re.Match object; span=(488, 488), match=''>\n",
      "<re.Match object; span=(489, 491), match='ai'>\n",
      "<re.Match object; span=(491, 493), match='ai'>\n",
      "<re.Match object; span=(493, 493), match=''>\n",
      "<re.Match object; span=(494, 501), match='aiiiiii'>\n",
      "<re.Match object; span=(501, 501), match=''>\n"
     ]
    }
   ],
   "source": [
    "pattern_5 = re.compile(r'a*i*')                 \n",
    "matches_5 = pattern_5.finditer(mystr)\n",
    "for match_5 in matches_5:\n",
    "    print(match_5)"
   ]
  },
  {
   "cell_type": "markdown",
   "id": "b224265d",
   "metadata": {},
   "source": [
    "# '+' symbol"
   ]
  },
  {
   "cell_type": "code",
   "execution_count": 77,
   "id": "69625c15",
   "metadata": {},
   "outputs": [
    {
     "name": "stdout",
     "output_type": "stream",
     "text": [
      "<re.Match object; span=(142, 144), match='ai'>\n",
      "<re.Match object; span=(363, 365), match='ai'>\n",
      "<re.Match object; span=(458, 460), match='ai'>\n",
      "<re.Match object; span=(489, 491), match='ai'>\n",
      "<re.Match object; span=(491, 493), match='ai'>\n",
      "<re.Match object; span=(494, 501), match='aiiiiii'>\n"
     ]
    }
   ],
   "source": [
    "pattern_6 = re.compile(r'ai+')                 # only 'ai' string will exist\n",
    "matches_6 = pattern_6.finditer(mystr)\n",
    "for match_6 in matches_6:\n",
    "    print(match_6)"
   ]
  },
  {
   "cell_type": "code",
   "execution_count": 79,
   "id": "157f49d1",
   "metadata": {},
   "outputs": [
    {
     "name": "stdout",
     "output_type": "stream",
     "text": [
      "<re.Match object; span=(494, 497), match='aii'>\n"
     ]
    }
   ],
   "source": [
    "pattern_7 = re.compile(r'ai{2}')                 # you want the string in the selected number only\n",
    "matches_7 = pattern_7.finditer(mystr)\n",
    "for match_7 in matches_7:\n",
    "    print(match_7)"
   ]
  },
  {
   "cell_type": "code",
   "execution_count": 80,
   "id": "8379a161",
   "metadata": {},
   "outputs": [
    {
     "name": "stdout",
     "output_type": "stream",
     "text": [
      "<re.Match object; span=(489, 493), match='aiai'>\n"
     ]
    }
   ],
   "source": [
    "pattern_8 = re.compile(r'(ai){2}')                 # if you want two ai means 'aiai'\n",
    "matches_8 = pattern_8.finditer(mystr)\n",
    "for match_8 in matches_8:\n",
    "    print(match_8)"
   ]
  },
  {
   "cell_type": "markdown",
   "id": "2a94f935",
   "metadata": {},
   "source": [
    "# or symbol is '|'"
   ]
  },
  {
   "cell_type": "code",
   "execution_count": 83,
   "id": "3780dcf3",
   "metadata": {
    "collapsed": true
   },
   "outputs": [
    {
     "name": "stdout",
     "output_type": "stream",
     "text": [
      "<re.Match object; span=(116, 119), match='Fax'>\n",
      "<re.Match object; span=(142, 144), match='ai'>\n",
      "<re.Match object; span=(323, 326), match='Fax'>\n",
      "<re.Match object; span=(363, 365), match='ai'>\n",
      "<re.Match object; span=(458, 460), match='ai'>\n",
      "<re.Match object; span=(489, 491), match='ai'>\n",
      "<re.Match object; span=(491, 493), match='ai'>\n",
      "<re.Match object; span=(494, 496), match='ai'>\n"
     ]
    }
   ],
   "source": [
    "pattern_9 = re.compile(r'ai{1}|Fax')                 # if you want 'ai' or 't'     put\n",
    "matches_9 = pattern_9.finditer(mystr)\n",
    "for match_9 in matches_9:\n",
    "    print(match_9)"
   ]
  },
  {
   "cell_type": "markdown",
   "id": "30f85692",
   "metadata": {},
   "source": [
    "# SPECIAL SEQUENCES"
   ]
  },
  {
   "cell_type": "code",
   "execution_count": 84,
   "id": "4bc9bfe9",
   "metadata": {},
   "outputs": [
    {
     "name": "stdout",
     "output_type": "stream",
     "text": [
      "<re.Match object; span=(0, 4), match='Tata'>\n"
     ]
    }
   ],
   "source": [
    "pattern_10 = re.compile(r'\\ATata')          # string start with it will show\n",
    "matches_10 = pattern_10.finditer(mystr)\n",
    "for match_10 in matches_10:\n",
    "    print(match_10)"
   ]
  },
  {
   "cell_type": "code",
   "execution_count": 85,
   "id": "ed228319",
   "metadata": {},
   "outputs": [
    {
     "name": "stdout",
     "output_type": "stream",
     "text": [
      "<re.Match object; span=(116, 119), match='Fax'>\n",
      "<re.Match object; span=(323, 326), match='Fax'>\n"
     ]
    }
   ],
   "source": [
    "pattern_11 = re.compile(r'\\bFax')         # the string starts with 'Fax'\n",
    "matches_11 = pattern_11.finditer(mystr)\n",
    "for match_11 in matches_11:\n",
    "    print(match_11)"
   ]
  },
  {
   "cell_type": "code",
   "execution_count": 86,
   "id": "5d933a77",
   "metadata": {},
   "outputs": [
    {
     "name": "stdout",
     "output_type": "stream",
     "text": [
      "<re.Match object; span=(116, 119), match='Fax'>\n",
      "<re.Match object; span=(323, 326), match='Fax'>\n"
     ]
    }
   ],
   "source": [
    "pattern_12 = re.compile(r'Fax\\b')         # the string end with 'Fax'\n",
    "matches_12 = pattern_12.finditer(mystr)\n",
    "for match_12 in matches_12:\n",
    "    print(match_12)"
   ]
  },
  {
   "cell_type": "code",
   "execution_count": 91,
   "id": "a8f2ab78",
   "metadata": {},
   "outputs": [],
   "source": [
    "pattern_13 = re.compile(r'27\\b')         # the string end with '27'\n",
    "matches_13 = pattern_13.finditer(mystr)\n",
    "for match_13 in matches_13:\n",
    "    print(match_13)"
   ]
  },
  {
   "cell_type": "code",
   "execution_count": null,
   "id": "c71693cd",
   "metadata": {},
   "outputs": [],
   "source": []
  },
  {
   "cell_type": "code",
   "execution_count": null,
   "id": "acc7600b",
   "metadata": {},
   "outputs": [],
   "source": []
  },
  {
   "cell_type": "code",
   "execution_count": null,
   "id": "e6d4757a",
   "metadata": {},
   "outputs": [],
   "source": []
  },
  {
   "cell_type": "code",
   "execution_count": null,
   "id": "2b8ef46e",
   "metadata": {},
   "outputs": [],
   "source": []
  },
  {
   "cell_type": "code",
   "execution_count": null,
   "id": "4f6fbbb3",
   "metadata": {},
   "outputs": [],
   "source": []
  },
  {
   "cell_type": "code",
   "execution_count": null,
   "id": "9b7b9de2",
   "metadata": {},
   "outputs": [],
   "source": []
  },
  {
   "cell_type": "code",
   "execution_count": null,
   "id": "1e2cf554",
   "metadata": {},
   "outputs": [],
   "source": []
  },
  {
   "cell_type": "code",
   "execution_count": null,
   "id": "62e103a1",
   "metadata": {},
   "outputs": [],
   "source": []
  },
  {
   "cell_type": "code",
   "execution_count": null,
   "id": "9b5f6162",
   "metadata": {},
   "outputs": [],
   "source": []
  },
  {
   "cell_type": "code",
   "execution_count": null,
   "id": "8b08b92b",
   "metadata": {},
   "outputs": [],
   "source": []
  }
 ],
 "metadata": {
  "kernelspec": {
   "display_name": "Python 3 (ipykernel)",
   "language": "python",
   "name": "python3"
  },
  "language_info": {
   "codemirror_mode": {
    "name": "ipython",
    "version": 3
   },
   "file_extension": ".py",
   "mimetype": "text/x-python",
   "name": "python",
   "nbconvert_exporter": "python",
   "pygments_lexer": "ipython3",
   "version": "3.9.12"
  }
 },
 "nbformat": 4,
 "nbformat_minor": 5
}
