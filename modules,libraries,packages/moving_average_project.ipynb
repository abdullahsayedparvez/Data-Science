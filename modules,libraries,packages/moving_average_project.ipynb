{
 "cells": [
  {
   "cell_type": "code",
   "execution_count": 1,
   "id": "2543843d",
   "metadata": {},
   "outputs": [],
   "source": [
    "import pandas as pd"
   ]
  },
  {
   "cell_type": "code",
   "execution_count": 2,
   "id": "72c4e535",
   "metadata": {},
   "outputs": [],
   "source": [
    "import numpy as np"
   ]
  },
  {
   "cell_type": "code",
   "execution_count": 3,
   "id": "9ddd09a3",
   "metadata": {},
   "outputs": [],
   "source": [
    "import re"
   ]
  },
  {
   "cell_type": "code",
   "execution_count": 4,
   "id": "1d29cff9",
   "metadata": {},
   "outputs": [],
   "source": [
    "pd.pandas.set_option('display.max_columns' , None)"
   ]
  },
  {
   "cell_type": "code",
   "execution_count": 5,
   "id": "9cc0d6da",
   "metadata": {},
   "outputs": [],
   "source": [
    "stock = pd.read_csv('google_pytrend_MovingAverage.csv')"
   ]
  },
  {
   "cell_type": "code",
   "execution_count": 6,
   "id": "e0ffba90",
   "metadata": {},
   "outputs": [
    {
     "data": {
      "text/plain": [
       "Index(['Unnamed: 0', 'symbol', 'company', 'symbol_sum', 'company_sum', 'date',\n",
       "       'Unnamed: 6', '30DayAvg_SymbolSum', 'Symbol_Sum_Index',\n",
       "       '30DayAvg_CompanySum', '30DayAvg_Combined', 'Combined_Index',\n",
       "       'Unnamed: 12'],\n",
       "      dtype='object')"
      ]
     },
     "execution_count": 6,
     "metadata": {},
     "output_type": "execute_result"
    }
   ],
   "source": [
    "stock.columns"
   ]
  },
  {
   "cell_type": "code",
   "execution_count": 7,
   "id": "e63d0d6f",
   "metadata": {},
   "outputs": [],
   "source": [
    "stock.drop(['30DayAvg_Combined' , 'Combined_Index' , 'Unnamed: 12' ] , axis = 1 , inplace = True)"
   ]
  },
  {
   "cell_type": "code",
   "execution_count": 8,
   "id": "67403a50",
   "metadata": {},
   "outputs": [],
   "source": [
    "stock.drop(['company'] , axis = 1 , inplace = True)"
   ]
  },
  {
   "cell_type": "code",
   "execution_count": 9,
   "id": "b89e1ab8",
   "metadata": {},
   "outputs": [],
   "source": [
    "stock.drop(['company_sum'] , axis = 1 , inplace = True)"
   ]
  },
  {
   "cell_type": "code",
   "execution_count": 10,
   "id": "71618206",
   "metadata": {},
   "outputs": [],
   "source": [
    "stock.rename(columns = {'Unnamed: 6' : 'recheck_avg'},inplace = True)"
   ]
  },
  {
   "cell_type": "code",
   "execution_count": 11,
   "id": "463cfc67",
   "metadata": {},
   "outputs": [
    {
     "data": {
      "text/html": [
       "<div>\n",
       "<style scoped>\n",
       "    .dataframe tbody tr th:only-of-type {\n",
       "        vertical-align: middle;\n",
       "    }\n",
       "\n",
       "    .dataframe tbody tr th {\n",
       "        vertical-align: top;\n",
       "    }\n",
       "\n",
       "    .dataframe thead th {\n",
       "        text-align: right;\n",
       "    }\n",
       "</style>\n",
       "<table border=\"1\" class=\"dataframe\">\n",
       "  <thead>\n",
       "    <tr style=\"text-align: right;\">\n",
       "      <th></th>\n",
       "      <th>Unnamed: 0</th>\n",
       "      <th>symbol</th>\n",
       "      <th>symbol_sum</th>\n",
       "      <th>date</th>\n",
       "      <th>recheck_avg</th>\n",
       "      <th>30DayAvg_SymbolSum</th>\n",
       "      <th>Symbol_Sum_Index</th>\n",
       "      <th>30DayAvg_CompanySum</th>\n",
       "    </tr>\n",
       "  </thead>\n",
       "  <tbody>\n",
       "    <tr>\n",
       "      <th>0</th>\n",
       "      <td>0</td>\n",
       "      <td>ABBV</td>\n",
       "      <td>0</td>\n",
       "      <td>1/2/2016</td>\n",
       "      <td>NaN</td>\n",
       "      <td>NaN</td>\n",
       "      <td>NaN</td>\n",
       "      <td>NaN</td>\n",
       "    </tr>\n",
       "    <tr>\n",
       "      <th>1</th>\n",
       "      <td>1</td>\n",
       "      <td>ABBV</td>\n",
       "      <td>15</td>\n",
       "      <td>1/3/2016</td>\n",
       "      <td>NaN</td>\n",
       "      <td>NaN</td>\n",
       "      <td>NaN</td>\n",
       "      <td>NaN</td>\n",
       "    </tr>\n",
       "    <tr>\n",
       "      <th>2</th>\n",
       "      <td>2</td>\n",
       "      <td>ABBV</td>\n",
       "      <td>69</td>\n",
       "      <td>1/4/2016</td>\n",
       "      <td>NaN</td>\n",
       "      <td>NaN</td>\n",
       "      <td>NaN</td>\n",
       "      <td>NaN</td>\n",
       "    </tr>\n",
       "    <tr>\n",
       "      <th>3</th>\n",
       "      <td>3</td>\n",
       "      <td>ABBV</td>\n",
       "      <td>49</td>\n",
       "      <td>1/5/2016</td>\n",
       "      <td>NaN</td>\n",
       "      <td>NaN</td>\n",
       "      <td>NaN</td>\n",
       "      <td>NaN</td>\n",
       "    </tr>\n",
       "    <tr>\n",
       "      <th>4</th>\n",
       "      <td>4</td>\n",
       "      <td>ABBV</td>\n",
       "      <td>109</td>\n",
       "      <td>1/6/2016</td>\n",
       "      <td>NaN</td>\n",
       "      <td>NaN</td>\n",
       "      <td>NaN</td>\n",
       "      <td>NaN</td>\n",
       "    </tr>\n",
       "  </tbody>\n",
       "</table>\n",
       "</div>"
      ],
      "text/plain": [
       "   Unnamed: 0 symbol  symbol_sum      date  recheck_avg  30DayAvg_SymbolSum  \\\n",
       "0           0   ABBV           0  1/2/2016          NaN                 NaN   \n",
       "1           1   ABBV          15  1/3/2016          NaN                 NaN   \n",
       "2           2   ABBV          69  1/4/2016          NaN                 NaN   \n",
       "3           3   ABBV          49  1/5/2016          NaN                 NaN   \n",
       "4           4   ABBV         109  1/6/2016          NaN                 NaN   \n",
       "\n",
       "   Symbol_Sum_Index  30DayAvg_CompanySum  \n",
       "0               NaN                  NaN  \n",
       "1               NaN                  NaN  \n",
       "2               NaN                  NaN  \n",
       "3               NaN                  NaN  \n",
       "4               NaN                  NaN  "
      ]
     },
     "execution_count": 11,
     "metadata": {},
     "output_type": "execute_result"
    }
   ],
   "source": [
    "stock.head()"
   ]
  },
  {
   "cell_type": "code",
   "execution_count": 59,
   "id": "8cd70418",
   "metadata": {
    "collapsed": true
   },
   "outputs": [
    {
     "data": {
      "text/plain": [
       "Unnamed: 0               int64\n",
       "symbol                  object\n",
       "symbol_sum               int64\n",
       "date                    object\n",
       "recheck_avg            float64\n",
       "30DayAvg_SymbolSum     float64\n",
       "Symbol_Sum_Index       float64\n",
       "30DayAvg_CompanySum    float64\n",
       "dtype: object"
      ]
     },
     "execution_count": 59,
     "metadata": {},
     "output_type": "execute_result"
    }
   ],
   "source": [
    "stock.dtypes"
   ]
  },
  {
   "cell_type": "code",
   "execution_count": 12,
   "id": "41d174b5",
   "metadata": {},
   "outputs": [],
   "source": [
    "list27 = [i for i in range (365)]"
   ]
  },
  {
   "cell_type": "code",
   "execution_count": 13,
   "id": "6fa532b5",
   "metadata": {},
   "outputs": [],
   "source": [
    "og = 0\n",
    "main = 31"
   ]
  },
  {
   "cell_type": "code",
   "execution_count": 14,
   "id": "297cf95a",
   "metadata": {},
   "outputs": [
    {
     "name": "stdout",
     "output_type": "stream",
     "text": [
      "66.66666666666667\n"
     ]
    }
   ],
   "source": [
    "for element in list27:\n",
    "    start = list27.index(og)\n",
    "    end = list27.index(og+main)\n",
    "    og = og + 1\n",
    "    element = element + 1\n",
    "    temp_df = stock.iloc[start:end]\n",
    "    mean_temp_df = temp_df['symbol_sum'].iloc[:-1].mean()\n",
    "    print(mean_temp_df)\n",
    "    \n",
    "    \n",
    "    break\n",
    "# for i in range(30,33):\n",
    "#     stock.loc[i,'recheck_avg'] = mean_temp_df\n",
    "    \n",
    "    \n",
    "    \n",
    "  \n",
    "    "
   ]
  }
 ],
 "metadata": {
  "kernelspec": {
   "display_name": "Python 3 (ipykernel)",
   "language": "python",
   "name": "python3"
  },
  "language_info": {
   "codemirror_mode": {
    "name": "ipython",
    "version": 3
   },
   "file_extension": ".py",
   "mimetype": "text/x-python",
   "name": "python",
   "nbconvert_exporter": "python",
   "pygments_lexer": "ipython3",
   "version": "3.9.12"
  }
 },
 "nbformat": 4,
 "nbformat_minor": 5
}
