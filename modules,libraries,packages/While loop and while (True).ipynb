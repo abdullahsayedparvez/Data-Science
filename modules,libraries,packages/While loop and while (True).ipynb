{
 "cells": [
  {
   "cell_type": "markdown",
   "id": "1e254152",
   "metadata": {},
   "source": [
    "# While Loop"
   ]
  },
  {
   "cell_type": "code",
   "execution_count": 5,
   "id": "014e4636",
   "metadata": {},
   "outputs": [
    {
     "name": "stdout",
     "output_type": "stream",
     "text": [
      "0\n",
      "1\n",
      "2\n",
      "3\n",
      "Done with a loop\n"
     ]
    }
   ],
   "source": [
    "i = 0\n",
    "while(i<=3):\n",
    "    print(i)\n",
    "    i = i + 1\n",
    "print('Done with a loop')"
   ]
  },
  {
   "cell_type": "markdown",
   "id": "b58e6ab8",
   "metadata": {},
   "source": [
    "# While True example"
   ]
  },
  {
   "cell_type": "code",
   "execution_count": null,
   "id": "00cf7192",
   "metadata": {},
   "outputs": [],
   "source": [
    "end_date   = '2023-04-04'\n",
    "date_value = ['2023-05-04','2023-07-04','2023-06-04','2073-04-04','2023-84-04','2023-04-04']\n",
    "while (True):\n",
    "    for i in range(len(date_value)):\n",
    "        print(i)\n",
    "    if (date_value[-1] == end_date):\n",
    "        print('i')\n",
    "        break"
   ]
  },
  {
   "cell_type": "code",
   "execution_count": null,
   "id": "3aca6cb4",
   "metadata": {},
   "outputs": [],
   "source": []
  },
  {
   "cell_type": "code",
   "execution_count": null,
   "id": "cbdf1d77",
   "metadata": {},
   "outputs": [],
   "source": []
  },
  {
   "cell_type": "code",
   "execution_count": null,
   "id": "7ca8d3ef",
   "metadata": {},
   "outputs": [],
   "source": []
  },
  {
   "cell_type": "code",
   "execution_count": null,
   "id": "ce475985",
   "metadata": {},
   "outputs": [],
   "source": []
  },
  {
   "cell_type": "code",
   "execution_count": null,
   "id": "5888c57c",
   "metadata": {},
   "outputs": [],
   "source": []
  },
  {
   "cell_type": "code",
   "execution_count": null,
   "id": "cc18123a",
   "metadata": {},
   "outputs": [],
   "source": []
  }
 ],
 "metadata": {
  "kernelspec": {
   "display_name": "Python 3 (ipykernel)",
   "language": "python",
   "name": "python3"
  },
  "language_info": {
   "codemirror_mode": {
    "name": "ipython",
    "version": 3
   },
   "file_extension": ".py",
   "mimetype": "text/x-python",
   "name": "python",
   "nbconvert_exporter": "python",
   "pygments_lexer": "ipython3",
   "version": "3.10.5"
  }
 },
 "nbformat": 4,
 "nbformat_minor": 5
}
