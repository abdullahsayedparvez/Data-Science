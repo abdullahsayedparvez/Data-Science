{
 "cells": [
  {
   "cell_type": "code",
   "execution_count": 10,
   "id": "c309f7c4",
   "metadata": {},
   "outputs": [
    {
     "name": "stdout",
     "output_type": "stream",
     "text": [
      "Enter num144\n",
      "Enter num255\n",
      "The sum os 2 number is 99\n",
      "hello world\n"
     ]
    }
   ],
   "source": [
    "num1 = input('Enter num1')\n",
    "num2 = input('Enter num2')\n",
    "# print(\"The sum os 2 number is\",num1+num2)\n",
    "try:\n",
    "    print(\"The sum os 2 number is\",\n",
    "          int(num1)+int(num2))\n",
    "except Exception as e:\n",
    "    print(e)\n",
    "\n",
    "print('hello world')"
   ]
  }
 ],
 "metadata": {
  "kernelspec": {
   "display_name": "Python 3 (ipykernel)",
   "language": "python",
   "name": "python3"
  },
  "language_info": {
   "codemirror_mode": {
    "name": "ipython",
    "version": 3
   },
   "file_extension": ".py",
   "mimetype": "text/x-python",
   "name": "python",
   "nbconvert_exporter": "python",
   "pygments_lexer": "ipython3",
   "version": "3.11.1"
  }
 },
 "nbformat": 4,
 "nbformat_minor": 5
}
