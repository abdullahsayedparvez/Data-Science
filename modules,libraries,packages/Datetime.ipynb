{
 "cells": [
  {
   "cell_type": "code",
   "execution_count": 18,
   "id": "e420da20",
   "metadata": {},
   "outputs": [],
   "source": [
    "from datetime import datetime\n",
    "import datetime"
   ]
  },
  {
   "cell_type": "code",
   "execution_count": 20,
   "id": "e20e99ad",
   "metadata": {},
   "outputs": [
    {
     "name": "stdout",
     "output_type": "stream",
     "text": [
      "2023-05-15\n",
      "15\n",
      "5\n",
      "2023\n",
      "0\n",
      "1\n",
      "2023-05-15\n",
      "15/05/2023\n",
      "Monday 15 May 2023\n",
      "Mon May 15 00:00:00 2023\n",
      "05/15/23\n",
      "00:00:00\n",
      "12:00:00 AM\n",
      "00:00\n",
      "------------------------------\n"
     ]
    },
    {
     "data": {
      "text/plain": [
       "'Monday'"
      ]
     },
     "execution_count": 20,
     "metadata": {},
     "output_type": "execute_result"
    }
   ],
   "source": [
    "today = datetime.date.today()\n",
    "print(today)\n",
    "print(today.day)\n",
    "print(today.month)\n",
    "print(today.year)\n",
    "print(today.weekday())\n",
    "print(today.isoweekday())\n",
    "print(today.isoformat())\n",
    "print(today.strftime('%d/%m/%Y'))\n",
    "print(today.strftime('%A %d %B %Y'))\n",
    "print(today.strftime('%c'))\n",
    "print(today.strftime('%x'))\n",
    "print(today.strftime('%X'))\n",
    "print(today.strftime('%I:%M:%S %p'))\n",
    "print(today.strftime('%H:%M'))\n",
    "print('------------------------------')\n",
    "today.strftime('%A')"
   ]
  },
  {
   "cell_type": "markdown",
   "id": "21c59475",
   "metadata": {},
   "source": [
    "# Current Datetime"
   ]
  },
  {
   "cell_type": "code",
   "execution_count": 2,
   "id": "f6e9f2d7",
   "metadata": {},
   "outputs": [
    {
     "name": "stdout",
     "output_type": "stream",
     "text": [
      "2023-05-15 09:19:23.767484\n"
     ]
    }
   ],
   "source": [
    "x = datetime.datetime.now()\n",
    "print(x)\n"
   ]
  },
  {
   "cell_type": "markdown",
   "id": "257f8608",
   "metadata": {},
   "source": [
    "# Date,time,months are given convert it with the help of datetime"
   ]
  },
  {
   "cell_type": "code",
   "execution_count": 10,
   "id": "f59d5af5",
   "metadata": {},
   "outputs": [
    {
     "data": {
      "text/plain": [
       "'18'"
      ]
     },
     "execution_count": 10,
     "metadata": {},
     "output_type": "execute_result"
    }
   ],
   "source": [
    "p = datetime.datetime(2021,1,18)\n",
    "p.strftime('%Y')\n",
    "p.strftime('%m')\n",
    "p.strftime('%d')\n"
   ]
  },
  {
   "cell_type": "code",
   "execution_count": null,
   "id": "3c1843a2",
   "metadata": {},
   "outputs": [],
   "source": []
  },
  {
   "cell_type": "markdown",
   "id": "e2cfa4b7",
   "metadata": {},
   "source": [
    "# visit website for methods in datetime"
   ]
  },
  {
   "cell_type": "code",
   "execution_count": null,
   "id": "7e773a1f",
   "metadata": {},
   "outputs": [],
   "source": [
    "# https://www.ibm.com/docs/en/cmofz/10.1.0?topic=SSQHWE_10.1.0/com.ibm.ondemand.mp.doc/arsa0257.htm"
   ]
  },
  {
   "cell_type": "code",
   "execution_count": 13,
   "id": "1f48ff84",
   "metadata": {},
   "outputs": [
    {
     "data": {
      "text/plain": [
       "'05/15/23'"
      ]
     },
     "execution_count": 13,
     "metadata": {},
     "output_type": "execute_result"
    }
   ],
   "source": [
    "m = datetime.datetime.now()\n",
    "m.strftime('%d')"
   ]
  },
  {
   "cell_type": "code",
   "execution_count": 60,
   "id": "b889acd1",
   "metadata": {},
   "outputs": [],
   "source": [
    "# %Y --> Year 4 digit\n",
    "# %y --> Year 2 digit\n",
    "# %B --> Month whole word\n",
    "# %b --> month 3 word only\n",
    "# %M --> Current minute\n",
    "# %m --> Month as a number\n",
    "# %H --> hour in roman number\n",
    "# %h --> hours in normal number\n",
    "# %p --> AM/PM"
   ]
  },
  {
   "cell_type": "code",
   "execution_count": 120,
   "id": "10956504",
   "metadata": {},
   "outputs": [
    {
     "data": {
      "text/plain": [
       "datetime.datetime(2023, 4, 4, 16, 33, 50, 808261)"
      ]
     },
     "execution_count": 120,
     "metadata": {},
     "output_type": "execute_result"
    }
   ],
   "source": [
    "datetime.datetime.now()"
   ]
  },
  {
   "cell_type": "code",
   "execution_count": 122,
   "id": "a0042f42",
   "metadata": {},
   "outputs": [
    {
     "data": {
      "text/plain": [
       "'50'"
      ]
     },
     "execution_count": 122,
     "metadata": {},
     "output_type": "execute_result"
    }
   ],
   "source": [
    "aa = datetime.datetime(2023,4,1,16,33,50)\n",
    "aa.strftime('%S')"
   ]
  },
  {
   "cell_type": "code",
   "execution_count": 16,
   "id": "9d1a9808",
   "metadata": {},
   "outputs": [
    {
     "name": "stdout",
     "output_type": "stream",
     "text": [
      "04/01/23\n",
      "03/06/22\n"
     ]
    }
   ],
   "source": [
    "from datetime import datetime\n",
    "list1 = ['2023-04-01T13:21:38Z','2022-03-06T16:27:40Z']\n",
    "year = '2023'\n",
    "for i in list1:\n",
    "    datetime_object = datetime.strptime(i,'%Y-%m-%dT%H:%M:%SZ')\n",
    "    print(datetime_object.strftime('%D'))"
   ]
  },
  {
   "cell_type": "code",
   "execution_count": null,
   "id": "3db99e84",
   "metadata": {},
   "outputs": [],
   "source": []
  }
 ],
 "metadata": {
  "kernelspec": {
   "display_name": "Python 3 (ipykernel)",
   "language": "python",
   "name": "python3"
  },
  "language_info": {
   "codemirror_mode": {
    "name": "ipython",
    "version": 3
   },
   "file_extension": ".py",
   "mimetype": "text/x-python",
   "name": "python",
   "nbconvert_exporter": "python",
   "pygments_lexer": "ipython3",
   "version": "3.11.2"
  }
 },
 "nbformat": 4,
 "nbformat_minor": 5
}
