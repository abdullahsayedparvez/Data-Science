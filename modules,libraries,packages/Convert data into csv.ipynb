{
 "cells": [
  {
   "cell_type": "code",
   "execution_count": 4,
   "id": "ee5042cf",
   "metadata": {},
   "outputs": [],
   "source": [
    "name = ['Rahul','moin','abdullah','tarun']\n",
    "twits = ['a','b','c','d']\n",
    "b_and_be = ['bullish','bearish','bullish','bearish']\n",
    "date = ['5555','6666','7777','8888']"
   ]
  },
  {
   "cell_type": "code",
   "execution_count": 36,
   "id": "de9aba22",
   "metadata": {},
   "outputs": [],
   "source": [
    "final_df_ready = []"
   ]
  },
  {
   "cell_type": "code",
   "execution_count": 39,
   "id": "3c403442",
   "metadata": {},
   "outputs": [],
   "source": [
    "for n in name :\n",
    "    name_ = {'name_id' : n} \n",
    "    final_df_ready.append(name)    # .text"
   ]
  },
  {
   "cell_type": "code",
   "execution_count": 40,
   "id": "db672d4e",
   "metadata": {},
   "outputs": [
    {
     "data": {
      "text/plain": [
       "[['Rahul', 'moin', 'abdullah', 'tarun'],\n",
       " ['Rahul', 'moin', 'abdullah', 'tarun'],\n",
       " ['Rahul', 'moin', 'abdullah', 'tarun'],\n",
       " ['Rahul', 'moin', 'abdullah', 'tarun'],\n",
       " ['Rahul', 'moin', 'abdullah', 'tarun']]"
      ]
     },
     "execution_count": 40,
     "metadata": {},
     "output_type": "execute_result"
    }
   ],
   "source": [
    "final_df_ready"
   ]
  },
  {
   "cell_type": "code",
   "execution_count": 29,
   "id": "d317d005",
   "metadata": {},
   "outputs": [],
   "source": [
    "twits_value = []\n",
    "for t in twits :\n",
    "    twits_value.append(t)    # .text"
   ]
  },
  {
   "cell_type": "code",
   "execution_count": 24,
   "id": "08556e0d",
   "metadata": {},
   "outputs": [],
   "source": [
    "bull_bear =[]\n",
    "for b in b_and_be:\n",
    "    bull_bear.append(b)      # .text"
   ]
  },
  {
   "cell_type": "code",
   "execution_count": 25,
   "id": "37efda2d",
   "metadata": {},
   "outputs": [],
   "source": [
    "date_value = []\n",
    "for d in date :\n",
    "    date_value.append(d)        #.text   "
   ]
  },
  {
   "cell_type": "code",
   "execution_count": 26,
   "id": "1eff9c46",
   "metadata": {},
   "outputs": [
    {
     "name": "stdout",
     "output_type": "stream",
     "text": [
      "['5555', '6666', '7777', '8888']\n"
     ]
    }
   ],
   "source": [
    "print(date_value)"
   ]
  },
  {
   "cell_type": "code",
   "execution_count": 30,
   "id": "83ec24ad",
   "metadata": {},
   "outputs": [],
   "source": [
    "dict_final = {\"Date\" : date_value , \"Bull_Bear\" : bull_bear,\"twits\":twits_value,\"Name of id\":name_value}"
   ]
  },
  {
   "cell_type": "code",
   "execution_count": 31,
   "id": "68a1991a",
   "metadata": {},
   "outputs": [
    {
     "name": "stdout",
     "output_type": "stream",
     "text": [
      "{'Date': ['5555', '6666', '7777', '8888'], 'Bull_Bear': ['bullish', 'bearish', 'bullish', 'bearish'], 'twits': ['a', 'b', 'c', 'd'], 'Name of id': ['Rahul', 'moin', 'abdullah', 'tarun']}\n"
     ]
    }
   ],
   "source": [
    "print(dict_final)"
   ]
  },
  {
   "cell_type": "code",
   "execution_count": 20,
   "id": "6cb030a7",
   "metadata": {},
   "outputs": [],
   "source": [
    "import pandas as pd"
   ]
  },
  {
   "cell_type": "code",
   "execution_count": 33,
   "id": "1d88e24a",
   "metadata": {},
   "outputs": [],
   "source": [
    "df = pd.DataFrame(data=dict_final)"
   ]
  },
  {
   "cell_type": "code",
   "execution_count": 34,
   "id": "ff9d7450",
   "metadata": {},
   "outputs": [
    {
     "data": {
      "text/html": [
       "<div>\n",
       "<style scoped>\n",
       "    .dataframe tbody tr th:only-of-type {\n",
       "        vertical-align: middle;\n",
       "    }\n",
       "\n",
       "    .dataframe tbody tr th {\n",
       "        vertical-align: top;\n",
       "    }\n",
       "\n",
       "    .dataframe thead th {\n",
       "        text-align: right;\n",
       "    }\n",
       "</style>\n",
       "<table border=\"1\" class=\"dataframe\">\n",
       "  <thead>\n",
       "    <tr style=\"text-align: right;\">\n",
       "      <th></th>\n",
       "      <th>Date</th>\n",
       "      <th>Bull_Bear</th>\n",
       "      <th>twits</th>\n",
       "      <th>Name of id</th>\n",
       "    </tr>\n",
       "  </thead>\n",
       "  <tbody>\n",
       "    <tr>\n",
       "      <th>0</th>\n",
       "      <td>5555</td>\n",
       "      <td>bullish</td>\n",
       "      <td>a</td>\n",
       "      <td>Rahul</td>\n",
       "    </tr>\n",
       "    <tr>\n",
       "      <th>1</th>\n",
       "      <td>6666</td>\n",
       "      <td>bearish</td>\n",
       "      <td>b</td>\n",
       "      <td>moin</td>\n",
       "    </tr>\n",
       "    <tr>\n",
       "      <th>2</th>\n",
       "      <td>7777</td>\n",
       "      <td>bullish</td>\n",
       "      <td>c</td>\n",
       "      <td>abdullah</td>\n",
       "    </tr>\n",
       "    <tr>\n",
       "      <th>3</th>\n",
       "      <td>8888</td>\n",
       "      <td>bearish</td>\n",
       "      <td>d</td>\n",
       "      <td>tarun</td>\n",
       "    </tr>\n",
       "  </tbody>\n",
       "</table>\n",
       "</div>"
      ],
      "text/plain": [
       "   Date Bull_Bear twits Name of id\n",
       "0  5555   bullish     a      Rahul\n",
       "1  6666   bearish     b       moin\n",
       "2  7777   bullish     c   abdullah\n",
       "3  8888   bearish     d      tarun"
      ]
     },
     "execution_count": 34,
     "metadata": {},
     "output_type": "execute_result"
    }
   ],
   "source": [
    "df.head()"
   ]
  }
 ],
 "metadata": {
  "kernelspec": {
   "display_name": "Python 3 (ipykernel)",
   "language": "python",
   "name": "python3"
  },
  "language_info": {
   "codemirror_mode": {
    "name": "ipython",
    "version": 3
   },
   "file_extension": ".py",
   "mimetype": "text/x-python",
   "name": "python",
   "nbconvert_exporter": "python",
   "pygments_lexer": "ipython3",
   "version": "3.10.5"
  }
 },
 "nbformat": 4,
 "nbformat_minor": 5
}
