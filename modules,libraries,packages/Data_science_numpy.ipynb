{
 "cells": [
  {
   "cell_type": "markdown",
   "id": "c303626c",
   "metadata": {},
   "source": [
    "# NUMPY ARRAY LIBRARY\n"
   ]
  },
  {
   "cell_type": "code",
   "execution_count": 10,
   "id": "5f7b0446",
   "metadata": {},
   "outputs": [],
   "source": [
    "# import numpy library\n",
    "import numpy as np"
   ]
  },
  {
   "cell_type": "markdown",
   "id": "3e72ce23",
   "metadata": {},
   "source": [
    "#  [  ]    single dimention"
   ]
  },
  {
   "cell_type": "code",
   "execution_count": 12,
   "id": "8b2352bf",
   "metadata": {},
   "outputs": [],
   "source": [
    "list = [1,2,3,4]           \n",
    "np.array(list)             \n",
    "array_ = np.array(list)"
   ]
  },
  {
   "cell_type": "markdown",
   "id": "4b82edb3",
   "metadata": {},
   "source": [
    "# ([ [ ] ])   two dimension"
   ]
  },
  {
   "cell_type": "code",
   "execution_count": 17,
   "id": "2910ccc8",
   "metadata": {},
   "outputs": [
    {
     "name": "stdout",
     "output_type": "stream",
     "text": [
      "[[2 4 5 6 7]\n",
      " [9 8 6 7 5]\n",
      " [8 6 7 5 4]]\n"
     ]
    },
    {
     "data": {
      "text/plain": [
       "(3, 5)"
      ]
     },
     "execution_count": 17,
     "metadata": {},
     "output_type": "execute_result"
    }
   ],
   "source": [
    "list1 = [2,4,5,6,7]\n",
    "list2 = [9,8,6,7,5]\n",
    "list3 = [8,6,7,5,4]\n",
    "arr1 = np.array([list1,list2,list3])\n",
    "print(arr1)\n",
    "arr1.shape       #numbers of rows and column it is a property (3,5) where 3 is a row and 5 is a column\n",
    "#horizontal - row\n",
    "#vertical - column\n"
   ]
  },
  {
   "cell_type": "code",
   "execution_count": 13,
   "id": "3fec258e",
   "metadata": {},
   "outputs": [
    {
     "name": "stdout",
     "output_type": "stream",
     "text": [
      "<class 'numpy.ndarray'>\n"
     ]
    }
   ],
   "source": [
    "print(type(array_))            # type of numpy array"
   ]
  },
  {
   "cell_type": "markdown",
   "id": "7c3ca204",
   "metadata": {},
   "source": [
    "# Indexing"
   ]
  },
  {
   "cell_type": "code",
   "execution_count": 18,
   "id": "6624c4f2",
   "metadata": {},
   "outputs": [
    {
     "data": {
      "text/plain": [
       "array([[2, 4, 5, 6, 7],\n",
       "       [9, 8, 6, 7, 5],\n",
       "       [8, 6, 7, 5, 4]])"
      ]
     },
     "execution_count": 18,
     "metadata": {},
     "output_type": "execute_result"
    }
   ],
   "source": [
    "arr1"
   ]
  },
  {
   "cell_type": "code",
   "execution_count": 23,
   "id": "58fdb812",
   "metadata": {},
   "outputs": [
    {
     "data": {
      "text/plain": [
       "array([4, 8, 6])"
      ]
     },
     "execution_count": 23,
     "metadata": {},
     "output_type": "execute_result"
    }
   ],
   "source": [
    "arr1[:,1]        # ':' means all rows(left)      and (right) side is for column\n",
    "arr1[1:,1:3]     # column ek badha k likhna or row ko ek khata k..."
   ]
  },
  {
   "cell_type": "code",
   "execution_count": 21,
   "id": "16fe5493",
   "metadata": {},
   "outputs": [
    {
     "data": {
      "text/plain": [
       "array([[7, 5],\n",
       "       [5, 4]])"
      ]
     },
     "execution_count": 21,
     "metadata": {},
     "output_type": "execute_result"
    }
   ],
   "source": [
    "arr1[1:,3:5]"
   ]
  },
  {
   "cell_type": "code",
   "execution_count": 26,
   "id": "61171bc3",
   "metadata": {},
   "outputs": [
    {
     "data": {
      "text/plain": [
       "array([[6, 7],\n",
       "       [7, 5],\n",
       "       [5, 4]])"
      ]
     },
     "execution_count": 26,
     "metadata": {},
     "output_type": "execute_result"
    }
   ],
   "source": [
    "arr1[:,3:]"
   ]
  },
  {
   "cell_type": "code",
   "execution_count": 63,
   "id": "5348302b",
   "metadata": {},
   "outputs": [
    {
     "data": {
      "text/plain": [
       "array([7, 5, 4])"
      ]
     },
     "execution_count": 63,
     "metadata": {},
     "output_type": "execute_result"
    }
   ],
   "source": [
    "arr1[:,0]\n",
    "arr1[:,-1]"
   ]
  },
  {
   "cell_type": "code",
   "execution_count": null,
   "id": "3ad9f13d",
   "metadata": {},
   "outputs": [],
   "source": []
  }
 ],
 "metadata": {
  "kernelspec": {
   "display_name": "Python 3 (ipykernel)",
   "language": "python",
   "name": "python3"
  },
  "language_info": {
   "codemirror_mode": {
    "name": "ipython",
    "version": 3
   },
   "file_extension": ".py",
   "mimetype": "text/x-python",
   "name": "python",
   "nbconvert_exporter": "python",
   "pygments_lexer": "ipython3",
   "version": "3.9.12"
  }
 },
 "nbformat": 4,
 "nbformat_minor": 5
}
