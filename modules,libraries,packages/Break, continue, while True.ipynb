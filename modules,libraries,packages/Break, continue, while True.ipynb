{
 "cells": [
  {
   "cell_type": "markdown",
   "id": "c5cb5526",
   "metadata": {},
   "source": [
    "# Breakk in For Loop "
   ]
  },
  {
   "cell_type": "code",
   "execution_count": null,
   "id": "07babac6",
   "metadata": {},
   "outputs": [],
   "source": [
    "for i in range(10):\n",
    "    a = (i+10)\n",
    "    print(a)\n",
    "    if i == 4:\n",
    "        break\n",
    "    # it will exit the loop when i value is equal to 4"
   ]
  },
  {
   "cell_type": "markdown",
   "id": "6e867ea7",
   "metadata": {},
   "source": [
    "# Skip the specific iteration not exit for loop"
   ]
  },
  {
   "cell_type": "code",
   "execution_count": null,
   "id": "65552791",
   "metadata": {},
   "outputs": [],
   "source": [
    "for i in range(10):\n",
    "    i = (i+2)\n",
    "    print(i)\n",
    "    if i == 5:\n",
    "        print('Skip the value of 5 or it will sip the iteration not the loop')\n",
    "        continue"
   ]
  },
  {
   "cell_type": "markdown",
   "id": "af7b166e",
   "metadata": {},
   "source": [
    "# Break in While Loop"
   ]
  },
  {
   "cell_type": "code",
   "execution_count": null,
   "id": "6464a80e",
   "metadata": {},
   "outputs": [],
   "source": [
    "i = 8\n",
    "while(i>0):\n",
    "    i = i + 1\n",
    "    print(i)\n",
    "    if (i == 20):\n",
    "        break\n",
    "9print('loop is exited')"
   ]
  },
  {
   "cell_type": "markdown",
   "id": "19965397",
   "metadata": {},
   "source": [
    "# Continue statement in while Loop"
   ]
  },
  {
   "cell_type": "code",
   "execution_count": 1,
   "id": "98e51f37",
   "metadata": {},
   "outputs": [],
   "source": [
    "# c = 9\n",
    "# while (c < 20):\n",
    "#     a = c + 1\n",
    "#     print(a)\n",
    "#     if (a == 18):\n",
    "#         print('the 18 iteration is skiped')\n",
    "#         break"
   ]
  },
  {
   "cell_type": "markdown",
   "id": "d7a9738a",
   "metadata": {},
   "source": [
    "# While True example"
   ]
  },
  {
   "cell_type": "code",
   "execution_count": 5,
   "id": "3c22c06a",
   "metadata": {},
   "outputs": [
    {
     "name": "stdout",
     "output_type": "stream",
     "text": [
      "0\n",
      "1\n",
      "2\n",
      "3\n",
      "4\n",
      "5\n",
      "i\n"
     ]
    }
   ],
   "source": [
    "end_date   = '2023-04-04'\n",
    "date_value = ['2023-05-04','2023-07-04','2023-06-04','2073-04-04','2023-84-04','2023-04-04']\n",
    "while (True):\n",
    "    for i in range(len(date_value)):\n",
    "        print(i)\n",
    "    if (date_value[-1] == end_date):\n",
    "        print('i')\n",
    "        break"
   ]
  }
 ],
 "metadata": {
  "kernelspec": {
   "display_name": "Python 3 (ipykernel)",
   "language": "python",
   "name": "python3"
  },
  "language_info": {
   "codemirror_mode": {
    "name": "ipython",
    "version": 3
   },
   "file_extension": ".py",
   "mimetype": "text/x-python",
   "name": "python",
   "nbconvert_exporter": "python",
   "pygments_lexer": "ipython3",
   "version": "3.10.5"
  }
 },
 "nbformat": 4,
 "nbformat_minor": 5
}
