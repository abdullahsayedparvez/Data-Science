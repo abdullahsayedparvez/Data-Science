{
 "cells": [
  {
   "cell_type": "code",
   "execution_count": 2,
   "id": "65dd164e",
   "metadata": {},
   "outputs": [
    {
     "name": "stdout",
     "output_type": "stream",
     "text": [
      "1\n",
      "APE is all set\n",
      "All done go and check to your database names [tracking_data]\n"
     ]
    }
   ],
   "source": [
    "import pymongo\n",
    "from datetime import date, timedelta, datetime\n",
    "# stock_name_list = ['TATASTEEL.NSE','TCS.NSE','TATAMOTORS.NSE','TATAPOWER.NSE','TATACHEM.NSE','TATACONSUM.NSE','TITAN.NSE',\n",
    "#                    'TATAELXSI.NSE','NVDA','AAPL','MSFT','RELIANCE.NSE','TSLA','ADANIENT.NSE','ADANIGREEN.NSE','ADANIPORTS.NSE',\n",
    "#                    'ADANIPOWER.NSE','ATGL.NSE','AMBUJACEM.NSE','ADANITRANS.NSE','MARA','RIOT','MULN','AI','AMZN','JNJ',]\n",
    "# stock_name_list = ['META']\n",
    "# stock_name_list = ['GM']\n",
    "stock_name_list = ['APE']\n",
    "print(len(stock_name_list))\n",
    "# stock_name = 'AAPL'\n",
    "status = 'pending'\n",
    "if __name__ == \"__main__\":\n",
    "    for stock_name in stock_name_list:\n",
    "        client = pymongo.MongoClient(\"mongodb://localhost:27017\")\n",
    "        db = client['Final_Year_Project']\n",
    "        collection = db[f'tracking_data']\n",
    "        ##################################\n",
    "        first_date = '2023/7/31' # it will scrape before selected date\n",
    "        second_date = '2023/1/1'\n",
    "        first_date=datetime.strptime(first_date,'%Y/%m/%d')\n",
    "        second_date=datetime.strptime(second_date,'%Y/%m/%d')\n",
    "        differ_date = abs((second_date - first_date).days)\n",
    "        days_sample = []\n",
    "        for i in range(differ_date+1):\n",
    "            if first_date > second_date:\n",
    "                days_in_between = first_date - timedelta(days=i)\n",
    "            else :\n",
    "                days_in_between = second_date - timedelta(days=i)\n",
    "        #     print(days_in_between)\n",
    "            days_sample.append(days_in_between)\n",
    "    #         days_sample_str = []\n",
    "    #         for i in days_sample:\n",
    "    #             days_str = str(i)\n",
    "    #             days_sample_str.append(days_str)\n",
    "        sorted_numbers = sorted(days_sample, reverse=True) # in decending order\n",
    "        total = len(days_sample)\n",
    "        for i in range(total):\n",
    "            if total == 1:\n",
    "                break\n",
    "            start_date = days_sample[0]\n",
    "    #         print('start_date:',start_date)\n",
    "            end_date = days_sample[1]\n",
    "    #         print('end_date:',end_date)\n",
    "            days_sample.pop(0)\n",
    "    #         print(total)\n",
    "            total = total - 1\n",
    "            dictionary = {'start_date': start_date,'end_date':end_date,'stock_name':stock_name,'status':status,'next_api':''}\n",
    "            collection.insert_one(dictionary)\n",
    "        print(f'{stock_name} is all set')\n",
    "    print(f'All done go and check to your database names [tracking_data]')"
   ]
  }
 ],
 "metadata": {
  "kernelspec": {
   "display_name": "Python 3 (ipykernel)",
   "language": "python",
   "name": "python3"
  },
  "language_info": {
   "codemirror_mode": {
    "name": "ipython",
    "version": 3
   },
   "file_extension": ".py",
   "mimetype": "text/x-python",
   "name": "python",
   "nbconvert_exporter": "python",
   "pygments_lexer": "ipython3",
   "version": "3.11.3"
  }
 },
 "nbformat": 4,
 "nbformat_minor": 5
}
